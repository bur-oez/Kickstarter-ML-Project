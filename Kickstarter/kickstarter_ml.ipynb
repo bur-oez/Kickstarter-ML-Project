{
 "cells": [
  {
   "cell_type": "markdown",
   "id": "d46ded39",
   "metadata": {
    "tags": []
   },
   "source": [
    "# Kickstarter ML Project"
   ]
  },
  {
   "cell_type": "markdown",
   "id": "2187573b-f08e-4cd2-a145-389b9b576b94",
   "metadata": {},
   "source": [
    "## Preparation"
   ]
  },
  {
   "cell_type": "code",
   "execution_count": 26,
   "id": "5d6bc5b3",
   "metadata": {},
   "outputs": [],
   "source": [
    "import pandas as pd\n",
    "import numpy as np\n",
    "import glob\n",
    "\n",
    "import sweetviz as sv"
   ]
  },
  {
   "cell_type": "markdown",
   "id": "77ba6bd6-b9f7-4fbf-95fc-67f9fc7dcee4",
   "metadata": {},
   "source": [
    "### Load Data"
   ]
  },
  {
   "cell_type": "code",
   "execution_count": 5,
   "id": "7abb6370",
   "metadata": {},
   "outputs": [],
   "source": [
    "# Load csv's and merge to a single dataframe\n",
    "\n",
    "#path = \".../*.csv\"\" # Borak's path\n",
    "path = \"data/*.csv\" # Christian's path\n",
    "#path = \".../*.csv\"\" # Matthias's path\n",
    "\n",
    "all_files = glob.glob(path)\n",
    "df_raw = pd.concat((pd.read_csv(f) for f in all_files))"
   ]
  },
  {
   "cell_type": "markdown",
   "id": "75d14ece-0c60-4482-9e7a-b90f4bd31929",
   "metadata": {},
   "source": [
    "### Overview"
   ]
  },
  {
   "cell_type": "code",
   "execution_count": 4,
   "id": "7f0ded9e",
   "metadata": {},
   "outputs": [],
   "source": [
    "## Execute Sweetviz \n",
    "#my_report = sv.analyze(df_raw)\n",
    "#my_report.show_html() # Default arguments will generate to \"SWEETVIZ_REPORT.html\""
   ]
  },
  {
   "cell_type": "code",
   "execution_count": 3,
   "id": "fcc9b39c-9e88-4f6a-a6a4-a2385a8cef43",
   "metadata": {},
   "outputs": [
    {
     "data": {
      "text/plain": [
       "Index(['backers_count', 'blurb', 'category', 'converted_pledged_amount',\n",
       "       'country', 'created_at', 'creator', 'currency', 'currency_symbol',\n",
       "       'currency_trailing_code', 'current_currency', 'deadline',\n",
       "       'disable_communication', 'friends', 'fx_rate', 'goal', 'id',\n",
       "       'is_backing', 'is_starrable', 'is_starred', 'launched_at', 'location',\n",
       "       'name', 'permissions', 'photo', 'pledged', 'profile', 'slug',\n",
       "       'source_url', 'spotlight', 'staff_pick', 'state', 'state_changed_at',\n",
       "       'static_usd_rate', 'urls', 'usd_pledged', 'usd_type'],\n",
       "      dtype='object')"
      ]
     },
     "execution_count": 3,
     "metadata": {},
     "output_type": "execute_result"
    }
   ],
   "source": [
    "df_raw.columns"
   ]
  },
  {
   "cell_type": "markdown",
   "id": "59b990cd-291f-4036-9949-13775ef7d65a",
   "metadata": {},
   "source": [
    "## Data Cleaning\n",
    "\n",
    "For safety, we operate on a copy of the data frame."
   ]
  },
  {
   "cell_type": "code",
   "execution_count": null,
   "id": "11847242-f172-4809-89fe-08f6d690e2c9",
   "metadata": {},
   "outputs": [],
   "source": [
    "df = df_raw.copy()"
   ]
  },
  {
   "cell_type": "markdown",
   "id": "3433db9b-5dc2-47f3-8a48-b579cd859c1c",
   "metadata": {},
   "source": [
    "For a basic feature analysis, we may focus on easily accessible features. Consequently, we drop the cols\n",
    "- `blurb`, `creator`, `slug`, `name` and `photo`, because they might only be exploitable through a semantic or context analysis,\n",
    "- `currency_symbol`, `currency_trailing_code`, because they are redundant,\n",
    "- `friends` and `permission`, because they do not contain any information,\n",
    "- `disable_communication`, `is_backing` and `ìs_starred`, because they have an entry only for the same 300 data points and it is questionable whether the missing entries may be treated as one category; later on we might try this with one of them and drop the other two,  \n",
    "- `urls`, `source_url`, `profile` and `state_changed_at`, because they do not contain additional information."
   ]
  },
  {
   "cell_type": "code",
   "execution_count": null,
   "id": "e6b9a2ff-c29e-47c3-99d0-82cd4520ea7e",
   "metadata": {},
   "outputs": [],
   "source": []
  },
  {
   "cell_type": "markdown",
   "id": "f24103e3-731a-499e-b7e7-75a814f7303d",
   "metadata": {},
   "source": [
    "Extract field and subfield ids from `category` (id and parent_id):"
   ]
  },
  {
   "cell_type": "code",
   "execution_count": null,
   "id": "b4117978-f0f4-43c3-a7b4-b65983f5dbcb",
   "metadata": {},
   "outputs": [],
   "source": []
  },
  {
   "cell_type": "markdown",
   "id": "36355c28-e77b-40a1-b27d-186363de809c",
   "metadata": {},
   "source": [
    "Sort `countries` into categories US, CA, GB, AN, EU, Other:"
   ]
  },
  {
   "cell_type": "code",
   "execution_count": null,
   "id": "6ddf464e-a215-4f17-8b48-a1c3a238931e",
   "metadata": {},
   "outputs": [],
   "source": []
  },
  {
   "cell_type": "markdown",
   "id": "4946a650-6593-4833-a3b3-d893a23c98c6",
   "metadata": {},
   "source": [
    "Turn entries of `created_at`, `launched`, `deadline` into dates:"
   ]
  },
  {
   "cell_type": "code",
   "execution_count": null,
   "id": "2fad707e-c6c4-40ee-baf0-408048b411f3",
   "metadata": {},
   "outputs": [],
   "source": []
  },
  {
   "cell_type": "markdown",
   "id": "8cedbc04-d8af-4e43-b828-af82093b0d32",
   "metadata": {},
   "source": [
    "Compare `fx_rate` and `static_usd_rate` and keep just one of them:"
   ]
  },
  {
   "cell_type": "code",
   "execution_count": null,
   "id": "f881bb5a-bf32-40ea-917e-fbd84dadb68c",
   "metadata": {},
   "outputs": [],
   "source": []
  },
  {
   "cell_type": "markdown",
   "id": "23ed5c70-6b67-4e13-8045-6cb90438ae89",
   "metadata": {},
   "source": [
    "Use what remains of `fx_rate` and `static_usd_rate` to convert `goal` and `pledged` entries into USD, then drop `fx_rate`:"
   ]
  },
  {
   "cell_type": "code",
   "execution_count": null,
   "id": "90377c7b-c120-43cc-b3f6-ef34a75660a4",
   "metadata": {},
   "outputs": [],
   "source": []
  },
  {
   "cell_type": "markdown",
   "id": "07cc4ee6-9bb7-4c15-b9f6-a65e53f67d60",
   "metadata": {},
   "source": [
    "Check relation between `converted_pledged_amount`, `usd_pledged` and `pledged` after conversion into USD. Keep just one of them:"
   ]
  },
  {
   "cell_type": "code",
   "execution_count": null,
   "id": "3e5c7cc4-a310-49e8-94d7-e40cf27aaee3",
   "metadata": {},
   "outputs": [],
   "source": []
  },
  {
   "cell_type": "markdown",
   "id": "f7d67c5b-57dd-48b1-b9b4-f0e49fa29d64",
   "metadata": {},
   "source": [
    "Check for `id` copies and remove if they refer to the same data point: multiplicities of entries:"
   ]
  },
  {
   "cell_type": "code",
   "execution_count": 10,
   "id": "48760edb-d80f-4dd3-9e77-307ff1305f32",
   "metadata": {},
   "outputs": [
    {
     "name": "stdout",
     "output_type": "stream",
     "text": [
      "3 2 1\n"
     ]
    }
   ],
   "source": [
    "print(*df.id.value_counts().unique())"
   ]
  },
  {
   "cell_type": "markdown",
   "id": "e6623d03-a34f-404e-a135-c9fa3a7a740e",
   "metadata": {},
   "source": [
    "List of multiply used `id` entries:"
   ]
  },
  {
   "cell_type": "code",
   "execution_count": 31,
   "id": "eb955f60-49b3-469d-8c36-1f14e6b1102a",
   "metadata": {},
   "outputs": [
    {
     "data": {
      "text/plain": [
       "26957"
      ]
     },
     "execution_count": 31,
     "metadata": {},
     "output_type": "execute_result"
    }
   ],
   "source": [
    "dic = df.id.value_counts()\n",
    "multiples = np.array([key for key in dic.keys() if dic[key] > 1])\n",
    "len(multiples)"
   ]
  },
  {
   "cell_type": "markdown",
   "id": "0f7b4ef2-0210-437c-a1cf-d00bebfa8abb",
   "metadata": {},
   "source": [
    "They seem to differ mainly in `creator` and `usd_type`:"
   ]
  },
  {
   "cell_type": "code",
   "execution_count": 52,
   "id": "8bb749b5-887f-48bd-9b72-b32c7343a2e0",
   "metadata": {},
   "outputs": [
    {
     "name": "stdout",
     "output_type": "stream",
     "text": [
      "1860103231 ['creator', 'friends', 'is_backing', 'is_starred', 'permissions', 'source_url', 'usd_type']\n",
      "\n",
      "1335851549 ['creator', 'friends', 'is_backing', 'is_starred', 'permissions', 'source_url', 'usd_type']\n",
      "\n",
      "860973294 ['creator', 'friends', 'is_backing', 'is_starred', 'permissions', 'source_url', 'usd_type']\n",
      "\n",
      "938836477 ['creator', 'friends', 'is_backing', 'is_starred', 'permissions', 'source_url', 'usd_type']\n",
      "\n",
      "1531898946 ['creator', 'friends', 'is_backing', 'is_starred', 'permissions', 'source_url', 'usd_type']\n",
      "\n",
      "1883785497 ['creator', 'friends', 'is_backing', 'is_starred', 'permissions', 'source_url', 'usd_type']\n",
      "\n",
      "1637278787 ['converted_pledged_amount', 'creator', 'current_currency', 'fx_rate', 'source_url', 'urls']\n",
      "\n",
      "1792982088 ['creator', 'friends', 'is_backing', 'is_starred', 'permissions', 'source_url', 'usd_type']\n",
      "\n",
      "650550348 ['creator', 'friends', 'is_backing', 'is_starred', 'permissions', 'source_url']\n",
      "\n",
      "1617549428 ['creator', 'friends', 'is_backing', 'is_starred', 'permissions', 'source_url']\n",
      "\n",
      "1785920230 ['creator', 'friends', 'is_backing', 'is_starred', 'permissions', 'source_url']\n",
      "\n",
      "513709133 ['creator', 'friends', 'is_backing', 'is_starred', 'permissions', 'source_url', 'usd_type']\n",
      "\n",
      "1982140525 ['creator', 'friends', 'is_backing', 'is_starred', 'permissions', 'source_url']\n",
      "\n",
      "1848021739 ['converted_pledged_amount', 'creator', 'friends', 'fx_rate', 'is_backing', 'is_starred', 'permissions', 'source_url', 'static_usd_rate', 'usd_pledged', 'usd_type']\n",
      "\n",
      "1659934979 ['creator', 'friends', 'is_backing', 'is_starred', 'permissions', 'source_url', 'usd_type']\n",
      "\n",
      "2021290556 ['creator', 'friends', 'is_backing', 'is_starred', 'permissions', 'source_url']\n",
      "\n",
      "214612718 ['creator', 'friends', 'is_backing', 'is_starred', 'permissions', 'source_url', 'usd_type']\n",
      "\n",
      "1780396783 ['creator', 'friends', 'is_backing', 'is_starred', 'permissions', 'source_url', 'usd_type']\n",
      "\n",
      "1231919681 ['creator', 'friends', 'fx_rate', 'is_backing', 'is_starred', 'permissions', 'source_url', 'usd_type']\n",
      "\n"
     ]
    }
   ],
   "source": [
    "#np.array([id for id in multiples if all(df.query('id == '+str(id)).nunique() != 1)])\n",
    "for id in multiples[1:20]:\n",
    "    print(id, [c for c in df.columns if df.query('id == '+str(id))[c].nunique() != 1])\n",
    "    print()"
   ]
  },
  {
   "cell_type": "markdown",
   "id": "9b0ee64e-f07f-4495-b307-f375d8fa6fc6",
   "metadata": {},
   "source": [
    "In that case, only one of the rows with the same `id` entry need to be kept. Let us check which `id` entries refer to rows differing in further values:"
   ]
  },
  {
   "cell_type": "code",
   "execution_count": null,
   "id": "f7516a8c-5cd5-4c71-829f-40e88da6cfe1",
   "metadata": {
    "tags": []
   },
   "outputs": [],
   "source": [
    "# ..."
   ]
  },
  {
   "cell_type": "markdown",
   "id": "234f0e84-dee0-463b-a8aa-e50a961a07e0",
   "metadata": {},
   "source": [
    "Remove data points whose `state` entry is `canceled` or `suspended`. In `state`, replace `live` by `successful` if `converted_pledged_amount` >= `goal`, and drop all other data points marked as `live`:"
   ]
  },
  {
   "cell_type": "code",
   "execution_count": null,
   "id": "f7ad26dd-9441-4db4-b807-c28e58af3582",
   "metadata": {},
   "outputs": [],
   "source": []
  },
  {
   "cell_type": "markdown",
   "id": "c117696f-0032-4191-aa86-b5839d1af613",
   "metadata": {},
   "source": [
    "Remaining questions:\n",
    "- Relation between currency and current_currency\n",
    "- What to do with location? Extract cities and try to assign some score to each? To test this, extract a few big cities and check for correlation with target."
   ]
  },
  {
   "cell_type": "code",
   "execution_count": null,
   "id": "ec1e5035-3d21-44d6-96a9-8db0023189b1",
   "metadata": {},
   "outputs": [],
   "source": []
  }
 ],
 "metadata": {
  "kernelspec": {
   "display_name": "Python 3",
   "language": "python",
   "name": "python3"
  },
  "language_info": {
   "codemirror_mode": {
    "name": "ipython",
    "version": 3
   },
   "file_extension": ".py",
   "mimetype": "text/x-python",
   "name": "python",
   "nbconvert_exporter": "python",
   "pygments_lexer": "ipython3",
   "version": "3.8.5"
  }
 },
 "nbformat": 4,
 "nbformat_minor": 5
}
