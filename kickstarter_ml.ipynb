{
 "cells": [
  {
   "cell_type": "markdown",
   "id": "305d25b7",
   "metadata": {
    "tags": []
   },
   "source": [
    "# Kickstarter ML Project"
   ]
  },
  {
   "cell_type": "markdown",
   "id": "4389b2fd",
   "metadata": {},
   "source": [
    "## Preparation"
   ]
  },
  {
   "cell_type": "code",
   "execution_count": 3,
   "id": "c795366b",
   "metadata": {},
   "outputs": [],
   "source": [
    "import pandas as pd\n",
    "import numpy as np\n",
    "import glob\n",
    "\n",
    "import sweetviz as sv\n",
    "import json"
   ]
  },
  {
   "cell_type": "markdown",
   "id": "94fec400",
   "metadata": {},
   "source": [
    "### Load Data"
   ]
  },
  {
   "cell_type": "code",
   "execution_count": 2,
   "id": "fac0bade",
   "metadata": {},
   "outputs": [],
   "source": [
    "# Load csv's and merge to a single dataframe\n",
    "\n",
    "#path = \"/Users/bur.oez/neuefische/Kickstarter-ML-Project/data/*.csv\" # Burak's path\n",
    "path = \"data/*.csv\" # Christian's path\n",
    "#path = \".../*.csv\"\" # Matthias's path\n",
    "\n",
    "all_files = glob.glob(path)\n",
    "df_raw = pd.concat((pd.read_csv(f) for f in all_files))"
   ]
  },
  {
   "cell_type": "markdown",
   "id": "0ddc0939",
   "metadata": {},
   "source": [
    "### Overview"
   ]
  },
  {
   "cell_type": "code",
   "execution_count": 3,
   "id": "12adada8",
   "metadata": {},
   "outputs": [],
   "source": [
    "## Execute Sweetviz \n",
    "#my_report = sv.analyze(df_raw)\n",
    "#my_report.show_html() # Default arguments will generate to \"SWEETVIZ_REPORT.html\""
   ]
  },
  {
   "cell_type": "code",
   "execution_count": 4,
   "id": "19ed71bd",
   "metadata": {},
   "outputs": [
    {
     "data": {
      "text/plain": [
       "Index(['backers_count', 'blurb', 'category', 'converted_pledged_amount',\n",
       "       'country', 'created_at', 'creator', 'currency', 'currency_symbol',\n",
       "       'currency_trailing_code', 'current_currency', 'deadline',\n",
       "       'disable_communication', 'friends', 'fx_rate', 'goal', 'id',\n",
       "       'is_backing', 'is_starrable', 'is_starred', 'launched_at', 'location',\n",
       "       'name', 'permissions', 'photo', 'pledged', 'profile', 'slug',\n",
       "       'source_url', 'spotlight', 'staff_pick', 'state', 'state_changed_at',\n",
       "       'static_usd_rate', 'urls', 'usd_pledged', 'usd_type'],\n",
       "      dtype='object')"
      ]
     },
     "execution_count": 4,
     "metadata": {},
     "output_type": "execute_result"
    }
   ],
   "source": [
    "df_raw.columns"
   ]
  },
  {
   "cell_type": "markdown",
   "id": "ad4a7fb4",
   "metadata": {},
   "source": [
    "## Data Cleaning\n",
    "\n",
    "For safety, we operate on a copy of the data frame."
   ]
  },
  {
   "cell_type": "code",
   "execution_count": 5,
   "id": "f4d3c1b3",
   "metadata": {},
   "outputs": [],
   "source": [
    "df = df_raw.copy()"
   ]
  },
  {
   "cell_type": "markdown",
   "id": "71aa9d8a",
   "metadata": {},
   "source": [
    "For a basic feature analysis, we may focus on easily accessible features. Consequently, we drop the cols\n",
    "- `blurb`, `slug`, `name` and `photo`, because they might only be exploitable through a semantic or context analysis,\n",
    "- `currency_symbol`, `currency_trailing_code`, because they are redundant,\n",
    "- `friends`, `is_starrable` and `permission`, because they do not contain any information,\n",
    "- `disable_communication`, `is_backing` and `is_starred`, because they have an entry only for the same 300 data points and it is questionable whether the missing entries may be treated as one category; later on we might try this with one of them and drop the other two,  \n",
    "- `urls`, `source_url` and `profile` because they do not contain additional information.\n",
    "- `state_changed_at`, `spotlight` and `staff_pick` will be dropped, because the creator does not know them in adcvance,\n",
    "- `created_at`, `launched_at` and `deadline` will be kept to calculate time-deltas for potential new features."
   ]
  },
  {
   "cell_type": "code",
   "execution_count": 6,
   "id": "1375528c",
   "metadata": {},
   "outputs": [
    {
     "data": {
      "text/html": [
       "<div>\n",
       "<style scoped>\n",
       "    .dataframe tbody tr th:only-of-type {\n",
       "        vertical-align: middle;\n",
       "    }\n",
       "\n",
       "    .dataframe tbody tr th {\n",
       "        vertical-align: top;\n",
       "    }\n",
       "\n",
       "    .dataframe thead th {\n",
       "        text-align: right;\n",
       "    }\n",
       "</style>\n",
       "<table border=\"1\" class=\"dataframe\">\n",
       "  <thead>\n",
       "    <tr style=\"text-align: right;\">\n",
       "      <th></th>\n",
       "      <th>backers_count</th>\n",
       "      <th>category</th>\n",
       "      <th>converted_pledged_amount</th>\n",
       "      <th>country</th>\n",
       "      <th>created_at</th>\n",
       "      <th>creator</th>\n",
       "      <th>currency</th>\n",
       "      <th>current_currency</th>\n",
       "      <th>deadline</th>\n",
       "      <th>fx_rate</th>\n",
       "      <th>goal</th>\n",
       "      <th>id</th>\n",
       "      <th>launched_at</th>\n",
       "      <th>location</th>\n",
       "      <th>pledged</th>\n",
       "      <th>state</th>\n",
       "      <th>static_usd_rate</th>\n",
       "      <th>usd_pledged</th>\n",
       "    </tr>\n",
       "  </thead>\n",
       "  <tbody>\n",
       "    <tr>\n",
       "      <th>0</th>\n",
       "      <td>315</td>\n",
       "      <td>{\"id\":266,\"name\":\"Footwear\",\"slug\":\"fashion/fo...</td>\n",
       "      <td>28645</td>\n",
       "      <td>US</td>\n",
       "      <td>1541459205</td>\n",
       "      <td>{\"id\":2094277840,\"name\":\"Lucy Conroy\",\"slug\":\"...</td>\n",
       "      <td>USD</td>\n",
       "      <td>USD</td>\n",
       "      <td>1552539775</td>\n",
       "      <td>1.000000</td>\n",
       "      <td>28000.0</td>\n",
       "      <td>2108505034</td>\n",
       "      <td>1548223375</td>\n",
       "      <td>{\"id\":2462429,\"name\":\"Novato\",\"slug\":\"novato-c...</td>\n",
       "      <td>28645.0</td>\n",
       "      <td>live</td>\n",
       "      <td>1.000000</td>\n",
       "      <td>28645.000000</td>\n",
       "    </tr>\n",
       "    <tr>\n",
       "      <th>1</th>\n",
       "      <td>47</td>\n",
       "      <td>{\"id\":273,\"name\":\"Playing Cards\",\"slug\":\"games...</td>\n",
       "      <td>1950</td>\n",
       "      <td>US</td>\n",
       "      <td>1501684093</td>\n",
       "      <td>{\"id\":723886115,\"name\":\"Lisa Vollrath\",\"slug\":...</td>\n",
       "      <td>USD</td>\n",
       "      <td>USD</td>\n",
       "      <td>1504976459</td>\n",
       "      <td>1.000000</td>\n",
       "      <td>1000.0</td>\n",
       "      <td>928751314</td>\n",
       "      <td>1502384459</td>\n",
       "      <td>{\"id\":2400549,\"name\":\"Euless\",\"slug\":\"euless-t...</td>\n",
       "      <td>1950.0</td>\n",
       "      <td>successful</td>\n",
       "      <td>1.000000</td>\n",
       "      <td>1950.000000</td>\n",
       "    </tr>\n",
       "    <tr>\n",
       "      <th>2</th>\n",
       "      <td>271</td>\n",
       "      <td>{\"id\":43,\"name\":\"Rock\",\"slug\":\"music/rock\",\"po...</td>\n",
       "      <td>22404</td>\n",
       "      <td>US</td>\n",
       "      <td>1348987533</td>\n",
       "      <td>{\"id\":323849677,\"name\":\"Electra\",\"is_registere...</td>\n",
       "      <td>USD</td>\n",
       "      <td>USD</td>\n",
       "      <td>1371013395</td>\n",
       "      <td>1.000000</td>\n",
       "      <td>15000.0</td>\n",
       "      <td>928014092</td>\n",
       "      <td>1368421395</td>\n",
       "      <td>{\"id\":2423474,\"name\":\"Hollywood\",\"slug\":\"holly...</td>\n",
       "      <td>22404.0</td>\n",
       "      <td>successful</td>\n",
       "      <td>1.000000</td>\n",
       "      <td>22404.000000</td>\n",
       "    </tr>\n",
       "    <tr>\n",
       "      <th>3</th>\n",
       "      <td>3</td>\n",
       "      <td>{\"id\":273,\"name\":\"Playing Cards\",\"slug\":\"games...</td>\n",
       "      <td>165</td>\n",
       "      <td>GB</td>\n",
       "      <td>1483780271</td>\n",
       "      <td>{\"id\":196281496,\"name\":\"Artur Ordijanc (delete...</td>\n",
       "      <td>GBP</td>\n",
       "      <td>USD</td>\n",
       "      <td>1489425776</td>\n",
       "      <td>1.308394</td>\n",
       "      <td>10000.0</td>\n",
       "      <td>596091328</td>\n",
       "      <td>1484245376</td>\n",
       "      <td>{\"id\":475457,\"name\":\"Kaunas\",\"slug\":\"kaunas-ka...</td>\n",
       "      <td>136.0</td>\n",
       "      <td>failed</td>\n",
       "      <td>1.216066</td>\n",
       "      <td>165.384934</td>\n",
       "    </tr>\n",
       "    <tr>\n",
       "      <th>4</th>\n",
       "      <td>3</td>\n",
       "      <td>{\"id\":48,\"name\":\"Nonfiction\",\"slug\":\"publishin...</td>\n",
       "      <td>2820</td>\n",
       "      <td>US</td>\n",
       "      <td>1354817071</td>\n",
       "      <td>{\"id\":1178460181,\"name\":\"Dawn Johnston\",\"is_re...</td>\n",
       "      <td>USD</td>\n",
       "      <td>USD</td>\n",
       "      <td>1357763527</td>\n",
       "      <td>1.000000</td>\n",
       "      <td>2800.0</td>\n",
       "      <td>998516049</td>\n",
       "      <td>1355171527</td>\n",
       "      <td>{\"id\":2507703,\"name\":\"Traverse City\",\"slug\":\"t...</td>\n",
       "      <td>2820.0</td>\n",
       "      <td>successful</td>\n",
       "      <td>1.000000</td>\n",
       "      <td>2820.000000</td>\n",
       "    </tr>\n",
       "  </tbody>\n",
       "</table>\n",
       "</div>"
      ],
      "text/plain": [
       "   backers_count                                           category  \\\n",
       "0            315  {\"id\":266,\"name\":\"Footwear\",\"slug\":\"fashion/fo...   \n",
       "1             47  {\"id\":273,\"name\":\"Playing Cards\",\"slug\":\"games...   \n",
       "2            271  {\"id\":43,\"name\":\"Rock\",\"slug\":\"music/rock\",\"po...   \n",
       "3              3  {\"id\":273,\"name\":\"Playing Cards\",\"slug\":\"games...   \n",
       "4              3  {\"id\":48,\"name\":\"Nonfiction\",\"slug\":\"publishin...   \n",
       "\n",
       "   converted_pledged_amount country  created_at  \\\n",
       "0                     28645      US  1541459205   \n",
       "1                      1950      US  1501684093   \n",
       "2                     22404      US  1348987533   \n",
       "3                       165      GB  1483780271   \n",
       "4                      2820      US  1354817071   \n",
       "\n",
       "                                             creator currency  \\\n",
       "0  {\"id\":2094277840,\"name\":\"Lucy Conroy\",\"slug\":\"...      USD   \n",
       "1  {\"id\":723886115,\"name\":\"Lisa Vollrath\",\"slug\":...      USD   \n",
       "2  {\"id\":323849677,\"name\":\"Electra\",\"is_registere...      USD   \n",
       "3  {\"id\":196281496,\"name\":\"Artur Ordijanc (delete...      GBP   \n",
       "4  {\"id\":1178460181,\"name\":\"Dawn Johnston\",\"is_re...      USD   \n",
       "\n",
       "  current_currency    deadline   fx_rate     goal          id  launched_at  \\\n",
       "0              USD  1552539775  1.000000  28000.0  2108505034   1548223375   \n",
       "1              USD  1504976459  1.000000   1000.0   928751314   1502384459   \n",
       "2              USD  1371013395  1.000000  15000.0   928014092   1368421395   \n",
       "3              USD  1489425776  1.308394  10000.0   596091328   1484245376   \n",
       "4              USD  1357763527  1.000000   2800.0   998516049   1355171527   \n",
       "\n",
       "                                            location  pledged       state  \\\n",
       "0  {\"id\":2462429,\"name\":\"Novato\",\"slug\":\"novato-c...  28645.0        live   \n",
       "1  {\"id\":2400549,\"name\":\"Euless\",\"slug\":\"euless-t...   1950.0  successful   \n",
       "2  {\"id\":2423474,\"name\":\"Hollywood\",\"slug\":\"holly...  22404.0  successful   \n",
       "3  {\"id\":475457,\"name\":\"Kaunas\",\"slug\":\"kaunas-ka...    136.0      failed   \n",
       "4  {\"id\":2507703,\"name\":\"Traverse City\",\"slug\":\"t...   2820.0  successful   \n",
       "\n",
       "   static_usd_rate   usd_pledged  \n",
       "0         1.000000  28645.000000  \n",
       "1         1.000000   1950.000000  \n",
       "2         1.000000  22404.000000  \n",
       "3         1.216066    165.384934  \n",
       "4         1.000000   2820.000000  "
      ]
     },
     "execution_count": 6,
     "metadata": {},
     "output_type": "execute_result"
    }
   ],
   "source": [
    "# dropping columns\n",
    "df = df.drop([\"blurb\", \"slug\", \"name\", \"photo\", \"currency_symbol\", \"currency_trailing_code\", \"state_changed_at\",\n",
    "              \"friends\", \"permissions\", \"disable_communication\", \"is_backing\", \"is_starred\",\"urls\", \n",
    "              \"source_url\", \"profile\", \"usd_type\", \"spotlight\", \"staff_pick\", \"is_starrable\"], axis = 1)\n",
    "df.head()"
   ]
  },
  {
   "cell_type": "markdown",
   "id": "d51f8ac0",
   "metadata": {},
   "source": [
    "Extract field and subfield ids from `category` (id and parent_id):"
   ]
  },
  {
   "cell_type": "code",
   "execution_count": 7,
   "id": "360c94eb",
   "metadata": {},
   "outputs": [],
   "source": [
    "import ast\n",
    "df.category =[ ast.literal_eval(x) for x in df.iloc[:,df.columns.tolist().index(\"category\")]]"
   ]
  },
  {
   "cell_type": "code",
   "execution_count": 8,
   "id": "8eb0d080",
   "metadata": {},
   "outputs": [
    {
     "data": {
      "text/plain": [
       "9041"
      ]
     },
     "execution_count": 8,
     "metadata": {},
     "output_type": "execute_result"
    }
   ],
   "source": [
    "# checking which rows do not contain \"parent_id\" inside category dictionary\n",
    "cat_list_parent_id = np.array([\"parent_id\" not in df.category.iloc[x].keys() for x in range(0,len(df.category))])\n",
    "cat_list_parent_id.sum()"
   ]
  },
  {
   "cell_type": "code",
   "execution_count": 9,
   "id": "aae65f23",
   "metadata": {},
   "outputs": [
    {
     "data": {
      "text/html": [
       "<div>\n",
       "<style scoped>\n",
       "    .dataframe tbody tr th:only-of-type {\n",
       "        vertical-align: middle;\n",
       "    }\n",
       "\n",
       "    .dataframe tbody tr th {\n",
       "        vertical-align: top;\n",
       "    }\n",
       "\n",
       "    .dataframe thead th {\n",
       "        text-align: right;\n",
       "    }\n",
       "</style>\n",
       "<table border=\"1\" class=\"dataframe\">\n",
       "  <thead>\n",
       "    <tr style=\"text-align: right;\">\n",
       "      <th></th>\n",
       "      <th>backers_count</th>\n",
       "      <th>category</th>\n",
       "      <th>converted_pledged_amount</th>\n",
       "      <th>country</th>\n",
       "      <th>created_at</th>\n",
       "      <th>creator</th>\n",
       "      <th>currency</th>\n",
       "      <th>current_currency</th>\n",
       "      <th>deadline</th>\n",
       "      <th>fx_rate</th>\n",
       "      <th>goal</th>\n",
       "      <th>id</th>\n",
       "      <th>launched_at</th>\n",
       "      <th>location</th>\n",
       "      <th>pledged</th>\n",
       "      <th>state</th>\n",
       "      <th>static_usd_rate</th>\n",
       "      <th>usd_pledged</th>\n",
       "    </tr>\n",
       "  </thead>\n",
       "  <tbody>\n",
       "    <tr>\n",
       "      <th>7</th>\n",
       "      <td>33</td>\n",
       "      <td>{'id': 14, 'name': 'Music', 'slug': 'music', '...</td>\n",
       "      <td>660</td>\n",
       "      <td>US</td>\n",
       "      <td>1546965483</td>\n",
       "      <td>{\"id\":1945007923,\"name\":\"funktoast\",\"is_regist...</td>\n",
       "      <td>USD</td>\n",
       "      <td>USD</td>\n",
       "      <td>1550067305</td>\n",
       "      <td>1.000000</td>\n",
       "      <td>400.0</td>\n",
       "      <td>1481360049</td>\n",
       "      <td>1547475305</td>\n",
       "      <td>{\"id\":2430903,\"name\":\"Kaysville\",\"slug\":\"kaysv...</td>\n",
       "      <td>660.0</td>\n",
       "      <td>successful</td>\n",
       "      <td>1.000000</td>\n",
       "      <td>660.000000</td>\n",
       "    </tr>\n",
       "    <tr>\n",
       "      <th>25</th>\n",
       "      <td>74</td>\n",
       "      <td>{'id': 15, 'name': 'Photography', 'slug': 'pho...</td>\n",
       "      <td>2808</td>\n",
       "      <td>GB</td>\n",
       "      <td>1542202969</td>\n",
       "      <td>{\"id\":1471052173,\"name\":\"Tim Beale\",\"is_regist...</td>\n",
       "      <td>GBP</td>\n",
       "      <td>USD</td>\n",
       "      <td>1544200381</td>\n",
       "      <td>1.308394</td>\n",
       "      <td>2000.0</td>\n",
       "      <td>865110410</td>\n",
       "      <td>1542385981</td>\n",
       "      <td>{\"id\":12056,\"name\":\"Bath\",\"slug\":\"bath-gb\",\"sh...</td>\n",
       "      <td>2199.0</td>\n",
       "      <td>successful</td>\n",
       "      <td>1.301163</td>\n",
       "      <td>2861.258251</td>\n",
       "    </tr>\n",
       "    <tr>\n",
       "      <th>27</th>\n",
       "      <td>41</td>\n",
       "      <td>{'id': 9, 'name': 'Fashion', 'slug': 'fashion'...</td>\n",
       "      <td>21161</td>\n",
       "      <td>GB</td>\n",
       "      <td>1551345787</td>\n",
       "      <td>{\"id\":103746336,\"name\":\"Jared Steadman\",\"is_re...</td>\n",
       "      <td>GBP</td>\n",
       "      <td>CAD</td>\n",
       "      <td>1554490790</td>\n",
       "      <td>1.748586</td>\n",
       "      <td>20000.0</td>\n",
       "      <td>1889386358</td>\n",
       "      <td>1551898790</td>\n",
       "      <td>{\"id\":40611,\"name\":\"Winchester\",\"slug\":\"winche...</td>\n",
       "      <td>12102.0</td>\n",
       "      <td>live</td>\n",
       "      <td>1.315996</td>\n",
       "      <td>15926.177904</td>\n",
       "    </tr>\n",
       "  </tbody>\n",
       "</table>\n",
       "</div>"
      ],
      "text/plain": [
       "    backers_count                                           category  \\\n",
       "7              33  {'id': 14, 'name': 'Music', 'slug': 'music', '...   \n",
       "25             74  {'id': 15, 'name': 'Photography', 'slug': 'pho...   \n",
       "27             41  {'id': 9, 'name': 'Fashion', 'slug': 'fashion'...   \n",
       "\n",
       "    converted_pledged_amount country  created_at  \\\n",
       "7                        660      US  1546965483   \n",
       "25                      2808      GB  1542202969   \n",
       "27                     21161      GB  1551345787   \n",
       "\n",
       "                                              creator currency  \\\n",
       "7   {\"id\":1945007923,\"name\":\"funktoast\",\"is_regist...      USD   \n",
       "25  {\"id\":1471052173,\"name\":\"Tim Beale\",\"is_regist...      GBP   \n",
       "27  {\"id\":103746336,\"name\":\"Jared Steadman\",\"is_re...      GBP   \n",
       "\n",
       "   current_currency    deadline   fx_rate     goal          id  launched_at  \\\n",
       "7               USD  1550067305  1.000000    400.0  1481360049   1547475305   \n",
       "25              USD  1544200381  1.308394   2000.0   865110410   1542385981   \n",
       "27              CAD  1554490790  1.748586  20000.0  1889386358   1551898790   \n",
       "\n",
       "                                             location  pledged       state  \\\n",
       "7   {\"id\":2430903,\"name\":\"Kaysville\",\"slug\":\"kaysv...    660.0  successful   \n",
       "25  {\"id\":12056,\"name\":\"Bath\",\"slug\":\"bath-gb\",\"sh...   2199.0  successful   \n",
       "27  {\"id\":40611,\"name\":\"Winchester\",\"slug\":\"winche...  12102.0        live   \n",
       "\n",
       "    static_usd_rate   usd_pledged  \n",
       "7          1.000000    660.000000  \n",
       "25         1.301163   2861.258251  \n",
       "27         1.315996  15926.177904  "
      ]
     },
     "execution_count": 9,
     "metadata": {},
     "output_type": "execute_result"
    }
   ],
   "source": [
    "df[cat_list_parent_id].iloc[0:3]"
   ]
  },
  {
   "cell_type": "code",
   "execution_count": 10,
   "id": "219adbdb",
   "metadata": {},
   "outputs": [
    {
     "data": {
      "text/plain": [
       "{'id': 266,\n",
       " 'name': 'Footwear',\n",
       " 'slug': 'fashion/footwear',\n",
       " 'position': 5,\n",
       " 'parent_id': 9,\n",
       " 'color': 16752598,\n",
       " 'urls': {'web': {'discover': 'http://www.kickstarter.com/discover/categories/fashion/footwear'}}}"
      ]
     },
     "execution_count": 10,
     "metadata": {},
     "output_type": "execute_result"
    }
   ],
   "source": [
    "df.category.iloc[0]"
   ]
  },
  {
   "cell_type": "markdown",
   "id": "310c1a22",
   "metadata": {},
   "source": [
    "The `id` column represents each subcategory. `parent_id` represents each parent category, since the values for `id` start after `parent_id` values, we will use `id` to seperate each project into categories.\n",
    "\n",
    "e `id` column represents each subcategory. `parent_id` represents each parent category, since the values for `id` start after `parent_id` values, we will use `id` to seperate each project into categories.\n",
    "\n",
    "To projects without proper subcategorisation the `parent_id` is assigned. In addition `slug`is added for increased readability."
   ]
  },
  {
   "cell_type": "code",
   "execution_count": 11,
   "id": "7bd98033",
   "metadata": {},
   "outputs": [],
   "source": [
    "df[\"cat_id\"] = [df.category.iloc[x][\"id\"] for x in range(0,len(df.category))]\n",
    "df[\"slug\"] = [df.category.iloc[x][\"slug\"] for x in range(0,len(df.category))]\n",
    "categories = df.pop(\"category\")"
   ]
  },
  {
   "cell_type": "code",
   "execution_count": 12,
   "id": "f7ed528a",
   "metadata": {},
   "outputs": [
    {
     "name": "stdout",
     "output_type": "stream",
     "text": [
      "   backers_count  converted_pledged_amount country  created_at  \\\n",
      "0            315                     28645      US  1541459205   \n",
      "1             47                      1950      US  1501684093   \n",
      "2            271                     22404      US  1348987533   \n",
      "\n",
      "                                             creator currency  \\\n",
      "0  {\"id\":2094277840,\"name\":\"Lucy Conroy\",\"slug\":\"...      USD   \n",
      "1  {\"id\":723886115,\"name\":\"Lisa Vollrath\",\"slug\":...      USD   \n",
      "2  {\"id\":323849677,\"name\":\"Electra\",\"is_registere...      USD   \n",
      "\n",
      "  current_currency    deadline  fx_rate     goal          id  launched_at  \\\n",
      "0              USD  1552539775      1.0  28000.0  2108505034   1548223375   \n",
      "1              USD  1504976459      1.0   1000.0   928751314   1502384459   \n",
      "2              USD  1371013395      1.0  15000.0   928014092   1368421395   \n",
      "\n",
      "                                            location  pledged       state  \\\n",
      "0  {\"id\":2462429,\"name\":\"Novato\",\"slug\":\"novato-c...  28645.0        live   \n",
      "1  {\"id\":2400549,\"name\":\"Euless\",\"slug\":\"euless-t...   1950.0  successful   \n",
      "2  {\"id\":2423474,\"name\":\"Hollywood\",\"slug\":\"holly...  22404.0  successful   \n",
      "\n",
      "   static_usd_rate  usd_pledged  cat_id                 slug  \n",
      "0              1.0      28645.0     266     fashion/footwear  \n",
      "1              1.0       1950.0     273  games/playing cards  \n",
      "2              1.0      22404.0      43           music/rock  \n",
      "(209222, 19)\n"
     ]
    }
   ],
   "source": [
    "print(df.head(3))\n",
    "print(df.shape)"
   ]
  },
  {
   "cell_type": "code",
   "execution_count": 13,
   "id": "fa49b276",
   "metadata": {},
   "outputs": [
    {
     "name": "stdout",
     "output_type": "stream",
     "text": [
      "pledged * static_usd_rate == usd_pledged\n",
      "True     190548\n",
      "False     18674\n",
      "dtype: int64\n",
      "pledged * fx_rate == usd_pledged\n",
      "True     153959\n",
      "False     55263\n",
      "dtype: int64\n",
      "converted_pledged_amount == usd_pledged\n",
      "True     140490\n",
      "False     68732\n",
      "dtype: int64\n",
      "pledged * static_usd_rate == converted_pledged_amount\n",
      "True     140490\n",
      "False     68732\n",
      "dtype: int64\n",
      "pledged * fx_rate == converted_pledged_amount\n",
      "True     140473\n",
      "False     68749\n",
      "dtype: int64\n"
     ]
    }
   ],
   "source": [
    "# check if currency - USD conversion with fx_rate and static_usd_rate matches usd_pledged value\n",
    "print(\"pledged * static_usd_rate == usd_pledged\")\n",
    "print(df.eval(\"pledged * static_usd_rate == usd_pledged\").value_counts())\n",
    "print(\"pledged * fx_rate == usd_pledged\")\n",
    "print(df.eval(\"pledged * fx_rate == usd_pledged\").value_counts())\n",
    "print(\"converted_pledged_amount == usd_pledged\")\n",
    "print(df.eval(\"converted_pledged_amount == usd_pledged\").value_counts())\n",
    "print(\"pledged * static_usd_rate == converted_pledged_amount\")\n",
    "print(df.eval(\"pledged * static_usd_rate == converted_pledged_amount\").value_counts())\n",
    "print(\"pledged * fx_rate == converted_pledged_amount\")\n",
    "print(df.eval(\"pledged * fx_rate == converted_pledged_amount\").value_counts())"
   ]
  },
  {
   "cell_type": "code",
   "execution_count": 14,
   "id": "1b5d67d3",
   "metadata": {},
   "outputs": [
    {
     "name": "stdout",
     "output_type": "stream",
     "text": [
      "False    190860\n",
      "True      18362\n",
      "dtype: int64\n"
     ]
    }
   ],
   "source": [
    "print(df.eval(\"converted_pledged_amount == pledged + usd_pledged\").value_counts())"
   ]
  },
  {
   "cell_type": "markdown",
   "id": "4646629b",
   "metadata": {},
   "source": [
    "The values in `usd_pledged` do not match with the conversion of `pledged` using `fx_rate` or `static_usd_rate`. \n",
    "\n",
    "We decided to take the max value for these columns as the correct amount."
   ]
  },
  {
   "cell_type": "code",
   "execution_count": 15,
   "id": "aa5714f1",
   "metadata": {},
   "outputs": [],
   "source": [
    "# checking whether pledged, usd_pledged or converted_pledged_amount has the highest values\n",
    "df[\"max_pledged\"] = [max(df.pledged.iloc[x], \n",
    "df.usd_pledged.iloc[x], \n",
    "df.converted_pledged_amount.iloc[x]) for x in range(0,len(df))]\n",
    "df = df.drop([\"usd_pledged\", \"pledged\", \"converted_pledged_amount\"], axis = 1)"
   ]
  },
  {
   "cell_type": "code",
   "execution_count": 16,
   "id": "c52e40b0",
   "metadata": {},
   "outputs": [],
   "source": [
    "# in addition all other currency info can also be dropped\n",
    "df = df.drop([\"static_usd_rate\", \"fx_rate\", \"currency\", \"current_currency\"], axis = 1)"
   ]
  },
  {
   "cell_type": "code",
   "execution_count": 17,
   "id": "07ca25ed",
   "metadata": {},
   "outputs": [
    {
     "name": "stdout",
     "output_type": "stream",
     "text": [
      "(209222, 13)\n"
     ]
    }
   ],
   "source": [
    "# set checkpoint\n",
    "df2 = df.copy()\n",
    "df.head(2)\n",
    "print(df.shape)"
   ]
  },
  {
   "cell_type": "markdown",
   "id": "b0e652ea",
   "metadata": {},
   "source": [
    "Now we will check whether `live` projects have met their goal and can be considered as `succesful`\n"
   ]
  },
  {
   "cell_type": "code",
   "execution_count": 18,
   "id": "27e5e182",
   "metadata": {},
   "outputs": [
    {
     "data": {
      "text/plain": [
       "Series([], Name: state, dtype: object)"
      ]
     },
     "execution_count": 18,
     "metadata": {},
     "output_type": "execute_result"
    }
   ],
   "source": [
    "df.loc[df['max_pledged'] >= df.goal, 'state'] = \"successful\"\n",
    "#check whether there are live:successsful projects left\n",
    "df.query(\"state == 'live' and max_pledged >= goal\").state"
   ]
  },
  {
   "cell_type": "code",
   "execution_count": 19,
   "id": "c3156f81",
   "metadata": {},
   "outputs": [
    {
     "data": {
      "text/plain": [
       "(209222, 13)"
      ]
     },
     "execution_count": 19,
     "metadata": {},
     "output_type": "execute_result"
    }
   ],
   "source": [
    "#df = df2.copy()\n",
    "df.shape"
   ]
  },
  {
   "cell_type": "markdown",
   "id": "51ec2c9d",
   "metadata": {},
   "source": [
    "Now we will drop all entries, which are not `successful` or `failed`\n"
   ]
  },
  {
   "cell_type": "code",
   "execution_count": 20,
   "id": "9a721ce0",
   "metadata": {},
   "outputs": [
    {
     "data": {
      "text/plain": [
       "successful    119839\n",
       "failed         75108\n",
       "canceled        8456\n",
       "live            5277\n",
       "suspended        542\n",
       "Name: state, dtype: int64"
      ]
     },
     "execution_count": 20,
     "metadata": {},
     "output_type": "execute_result"
    }
   ],
   "source": [
    "df.state.value_counts()"
   ]
  },
  {
   "cell_type": "code",
   "execution_count": 21,
   "id": "768260ca",
   "metadata": {},
   "outputs": [
    {
     "data": {
      "text/plain": [
       "array(['successful', 'failed'], dtype=object)"
      ]
     },
     "execution_count": 21,
     "metadata": {},
     "output_type": "execute_result"
    }
   ],
   "source": [
    "df = df[df.state != \"canceled\"]\n",
    "df = df[df.state != \"suspended\"]\n",
    "df = df[df.state != \"live\"]\n",
    "df.state.unique()"
   ]
  },
  {
   "cell_type": "code",
   "execution_count": 22,
   "id": "f6e4f6b8",
   "metadata": {},
   "outputs": [
    {
     "data": {
      "text/plain": [
       "(194947, 13)"
      ]
     },
     "execution_count": 22,
     "metadata": {},
     "output_type": "execute_result"
    }
   ],
   "source": [
    "df.shape"
   ]
  },
  {
   "cell_type": "markdown",
   "id": "91efbf69",
   "metadata": {},
   "source": [
    "Sort `countries` into categories US, NA, SEA, GB, ANZ, JP, EU:"
   ]
  },
  {
   "cell_type": "code",
   "execution_count": 23,
   "id": "60100f69",
   "metadata": {},
   "outputs": [
    {
     "data": {
      "text/plain": [
       "array(['US', 'GB', 'FR', 'AU', 'NZ', 'ES', 'IT', 'NO', 'NL', 'CA', 'SG',\n",
       "       'MX', 'SE', 'IE', 'DE', 'BE', 'HK', 'AT', 'JP', 'DK', 'CH', 'LU'],\n",
       "      dtype=object)"
      ]
     },
     "execution_count": 23,
     "metadata": {},
     "output_type": "execute_result"
    }
   ],
   "source": [
    "pd.unique(df.country)"
   ]
  },
  {
   "cell_type": "code",
   "execution_count": 24,
   "id": "1cc2c8f1",
   "metadata": {},
   "outputs": [],
   "source": [
    "df.country.replace({'HK':\"SEA\", 'NL':\"EU\", 'AU':\"ANZ\", 'DE':\"EU\", \"CA\":\"NA\", 'SE':\"EU\",\n",
    "                    'BE':\"EU\", 'MX':\"NA\", 'CH':\"EU\", 'SG':\"SEA\", 'FR':\"EU\", 'IT':\"EU\",\n",
    "                    'DK':\"EU\", 'LU':\"EU\", 'NO':\"EU\", 'ES':\"EU\", 'IE':\"EU\", 'NZ':\"ANZ\", \n",
    "                    'AT':\"EU\"}, inplace = True)"
   ]
  },
  {
   "cell_type": "markdown",
   "id": "855a708a",
   "metadata": {},
   "source": [
    "Turn entries of `created_at`, `launched`, `deadline` into datetime:"
   ]
  },
  {
   "cell_type": "code",
   "execution_count": 25,
   "id": "2b74fb43",
   "metadata": {},
   "outputs": [
    {
     "data": {
      "text/html": [
       "<div>\n",
       "<style scoped>\n",
       "    .dataframe tbody tr th:only-of-type {\n",
       "        vertical-align: middle;\n",
       "    }\n",
       "\n",
       "    .dataframe tbody tr th {\n",
       "        vertical-align: top;\n",
       "    }\n",
       "\n",
       "    .dataframe thead th {\n",
       "        text-align: right;\n",
       "    }\n",
       "</style>\n",
       "<table border=\"1\" class=\"dataframe\">\n",
       "  <thead>\n",
       "    <tr style=\"text-align: right;\">\n",
       "      <th></th>\n",
       "      <th>backers_count</th>\n",
       "      <th>country</th>\n",
       "      <th>created_at</th>\n",
       "      <th>creator</th>\n",
       "      <th>deadline</th>\n",
       "      <th>goal</th>\n",
       "      <th>id</th>\n",
       "      <th>launched_at</th>\n",
       "      <th>location</th>\n",
       "      <th>state</th>\n",
       "      <th>cat_id</th>\n",
       "      <th>slug</th>\n",
       "      <th>max_pledged</th>\n",
       "    </tr>\n",
       "  </thead>\n",
       "  <tbody>\n",
       "    <tr>\n",
       "      <th>0</th>\n",
       "      <td>315</td>\n",
       "      <td>US</td>\n",
       "      <td>2018-11-05 23:06:45</td>\n",
       "      <td>{\"id\":2094277840,\"name\":\"Lucy Conroy\",\"slug\":\"...</td>\n",
       "      <td>2019-03-14 05:02:55</td>\n",
       "      <td>28000.0</td>\n",
       "      <td>2108505034</td>\n",
       "      <td>2019-01-23 06:02:55</td>\n",
       "      <td>{\"id\":2462429,\"name\":\"Novato\",\"slug\":\"novato-c...</td>\n",
       "      <td>successful</td>\n",
       "      <td>266</td>\n",
       "      <td>fashion/footwear</td>\n",
       "      <td>28645.000000</td>\n",
       "    </tr>\n",
       "    <tr>\n",
       "      <th>1</th>\n",
       "      <td>47</td>\n",
       "      <td>US</td>\n",
       "      <td>2017-08-02 14:28:13</td>\n",
       "      <td>{\"id\":723886115,\"name\":\"Lisa Vollrath\",\"slug\":...</td>\n",
       "      <td>2017-09-09 17:00:59</td>\n",
       "      <td>1000.0</td>\n",
       "      <td>928751314</td>\n",
       "      <td>2017-08-10 17:00:59</td>\n",
       "      <td>{\"id\":2400549,\"name\":\"Euless\",\"slug\":\"euless-t...</td>\n",
       "      <td>successful</td>\n",
       "      <td>273</td>\n",
       "      <td>games/playing cards</td>\n",
       "      <td>1950.000000</td>\n",
       "    </tr>\n",
       "    <tr>\n",
       "      <th>2</th>\n",
       "      <td>271</td>\n",
       "      <td>US</td>\n",
       "      <td>2012-09-30 06:45:33</td>\n",
       "      <td>{\"id\":323849677,\"name\":\"Electra\",\"is_registere...</td>\n",
       "      <td>2013-06-12 05:03:15</td>\n",
       "      <td>15000.0</td>\n",
       "      <td>928014092</td>\n",
       "      <td>2013-05-13 05:03:15</td>\n",
       "      <td>{\"id\":2423474,\"name\":\"Hollywood\",\"slug\":\"holly...</td>\n",
       "      <td>successful</td>\n",
       "      <td>43</td>\n",
       "      <td>music/rock</td>\n",
       "      <td>22404.000000</td>\n",
       "    </tr>\n",
       "    <tr>\n",
       "      <th>3</th>\n",
       "      <td>3</td>\n",
       "      <td>GB</td>\n",
       "      <td>2017-01-07 09:11:11</td>\n",
       "      <td>{\"id\":196281496,\"name\":\"Artur Ordijanc (delete...</td>\n",
       "      <td>2017-03-13 17:22:56</td>\n",
       "      <td>10000.0</td>\n",
       "      <td>596091328</td>\n",
       "      <td>2017-01-12 18:22:56</td>\n",
       "      <td>{\"id\":475457,\"name\":\"Kaunas\",\"slug\":\"kaunas-ka...</td>\n",
       "      <td>failed</td>\n",
       "      <td>273</td>\n",
       "      <td>games/playing cards</td>\n",
       "      <td>165.384934</td>\n",
       "    </tr>\n",
       "    <tr>\n",
       "      <th>4</th>\n",
       "      <td>3</td>\n",
       "      <td>US</td>\n",
       "      <td>2012-12-06 18:04:31</td>\n",
       "      <td>{\"id\":1178460181,\"name\":\"Dawn Johnston\",\"is_re...</td>\n",
       "      <td>2013-01-09 20:32:07</td>\n",
       "      <td>2800.0</td>\n",
       "      <td>998516049</td>\n",
       "      <td>2012-12-10 20:32:07</td>\n",
       "      <td>{\"id\":2507703,\"name\":\"Traverse City\",\"slug\":\"t...</td>\n",
       "      <td>successful</td>\n",
       "      <td>48</td>\n",
       "      <td>publishing/nonfiction</td>\n",
       "      <td>2820.000000</td>\n",
       "    </tr>\n",
       "  </tbody>\n",
       "</table>\n",
       "</div>"
      ],
      "text/plain": [
       "   backers_count country          created_at  \\\n",
       "0            315      US 2018-11-05 23:06:45   \n",
       "1             47      US 2017-08-02 14:28:13   \n",
       "2            271      US 2012-09-30 06:45:33   \n",
       "3              3      GB 2017-01-07 09:11:11   \n",
       "4              3      US 2012-12-06 18:04:31   \n",
       "\n",
       "                                             creator            deadline  \\\n",
       "0  {\"id\":2094277840,\"name\":\"Lucy Conroy\",\"slug\":\"... 2019-03-14 05:02:55   \n",
       "1  {\"id\":723886115,\"name\":\"Lisa Vollrath\",\"slug\":... 2017-09-09 17:00:59   \n",
       "2  {\"id\":323849677,\"name\":\"Electra\",\"is_registere... 2013-06-12 05:03:15   \n",
       "3  {\"id\":196281496,\"name\":\"Artur Ordijanc (delete... 2017-03-13 17:22:56   \n",
       "4  {\"id\":1178460181,\"name\":\"Dawn Johnston\",\"is_re... 2013-01-09 20:32:07   \n",
       "\n",
       "      goal          id         launched_at  \\\n",
       "0  28000.0  2108505034 2019-01-23 06:02:55   \n",
       "1   1000.0   928751314 2017-08-10 17:00:59   \n",
       "2  15000.0   928014092 2013-05-13 05:03:15   \n",
       "3  10000.0   596091328 2017-01-12 18:22:56   \n",
       "4   2800.0   998516049 2012-12-10 20:32:07   \n",
       "\n",
       "                                            location       state  cat_id  \\\n",
       "0  {\"id\":2462429,\"name\":\"Novato\",\"slug\":\"novato-c...  successful     266   \n",
       "1  {\"id\":2400549,\"name\":\"Euless\",\"slug\":\"euless-t...  successful     273   \n",
       "2  {\"id\":2423474,\"name\":\"Hollywood\",\"slug\":\"holly...  successful      43   \n",
       "3  {\"id\":475457,\"name\":\"Kaunas\",\"slug\":\"kaunas-ka...      failed     273   \n",
       "4  {\"id\":2507703,\"name\":\"Traverse City\",\"slug\":\"t...  successful      48   \n",
       "\n",
       "                    slug   max_pledged  \n",
       "0       fashion/footwear  28645.000000  \n",
       "1    games/playing cards   1950.000000  \n",
       "2             music/rock  22404.000000  \n",
       "3    games/playing cards    165.384934  \n",
       "4  publishing/nonfiction   2820.000000  "
      ]
     },
     "execution_count": 25,
     "metadata": {},
     "output_type": "execute_result"
    }
   ],
   "source": [
    "df.created_at = pd.to_datetime(df.iloc[:,df.columns.tolist().index(\"created_at\")],unit='s')\n",
    "df.launched_at = pd.to_datetime(df.iloc[:,df.columns.tolist().index(\"launched_at\")],unit='s')\n",
    "df.deadline = pd.to_datetime(df.iloc[:,df.columns.tolist().index(\"deadline\")],unit='s')\n",
    "#df.state_changed_at = pd.to_datetime(df.iloc[:,df.columns.tolist().index(\"state_changed_at\")],unit='s')\n",
    "df.head()"
   ]
  },
  {
   "cell_type": "code",
   "execution_count": 26,
   "id": "e4e3e3ad",
   "metadata": {},
   "outputs": [
    {
     "data": {
      "text/plain": [
       "(194947, 13)"
      ]
     },
     "execution_count": 26,
     "metadata": {},
     "output_type": "execute_result"
    }
   ],
   "source": [
    "df.shape"
   ]
  },
  {
   "cell_type": "code",
   "execution_count": 27,
   "id": "fc5c933a",
   "metadata": {},
   "outputs": [],
   "source": [
    "# set checkpoint\n",
    "df2 = df.copy()"
   ]
  },
  {
   "cell_type": "markdown",
   "id": "3fb484a4",
   "metadata": {},
   "source": [
    "Check for `id` copies and remove if they refer to the same data point: multiplicities of entries:"
   ]
  },
  {
   "cell_type": "code",
   "execution_count": 28,
   "id": "ce254488",
   "metadata": {},
   "outputs": [
    {
     "name": "stdout",
     "output_type": "stream",
     "text": [
      "3 2 1\n"
     ]
    }
   ],
   "source": [
    "print(*df.id.value_counts().unique())"
   ]
  },
  {
   "cell_type": "markdown",
   "id": "bb39c769",
   "metadata": {},
   "source": [
    "List of multiply used `id` entries:"
   ]
  },
  {
   "cell_type": "code",
   "execution_count": null,
   "id": "1c3a1945",
   "metadata": {},
   "outputs": [],
   "source": [
    "dic = df.id.value_counts()\n",
    "multiples = np.array([key for key in dic.keys() if dic[key] > 1])\n",
    "len(multiples)"
   ]
  },
  {
   "cell_type": "markdown",
   "id": "91d0e114",
   "metadata": {},
   "source": [
    "They don't differ in any features, except one."
   ]
  },
  {
   "cell_type": "code",
   "execution_count": null,
   "id": "2ed13e42",
   "metadata": {
    "tags": []
   },
   "outputs": [],
   "source": [
    "#multi_id_list = []\n",
    "#for id in multiples:c\n",
    "#    multi_id_list = [(id, [c for c in df.columns if df.query('id == '+str(id))[c].nunique() != 1])]\n"
   ]
  },
  {
   "cell_type": "markdown",
   "id": "b1853f2c",
   "metadata": {},
   "source": [
    "In that case, only one of the rows with the same `id` entry need to be kept."
   ]
  },
  {
   "cell_type": "code",
   "execution_count": null,
   "id": "751d137d",
   "metadata": {},
   "outputs": [],
   "source": [
    "df.drop_duplicates(subset = \"id\", keep = \"first\", inplace = True)"
   ]
  },
  {
   "cell_type": "code",
   "execution_count": null,
   "id": "e1683503",
   "metadata": {},
   "outputs": [],
   "source": [
    "df.shape"
   ]
  },
  {
   "cell_type": "markdown",
   "id": "0e621c6e",
   "metadata": {},
   "source": [
    "Now we will take a look at `location` and try to extract some meaningful information.\n",
    "\n",
    "Fist we will drop NaN rows and then convert the `json-str` into a dictonary to extract keys and values."
   ]
  },
  {
   "cell_type": "code",
   "execution_count": null,
   "id": "44bba5fc",
   "metadata": {},
   "outputs": [],
   "source": [
    "df.location.isnull().sum()"
   ]
  },
  {
   "cell_type": "code",
   "execution_count": null,
   "id": "db90adbb",
   "metadata": {},
   "outputs": [],
   "source": [
    "df.dropna(axis = 0, subset = [\"location\"], inplace = True)"
   ]
  },
  {
   "cell_type": "code",
   "execution_count": null,
   "id": "e46e409b",
   "metadata": {},
   "outputs": [],
   "source": [
    "df.location =[json.loads(x) for x in df.location]"
   ]
  },
  {
   "cell_type": "code",
   "execution_count": null,
   "id": "c3c84ddc",
   "metadata": {},
   "outputs": [],
   "source": [
    "df[\"location_type\"] = [df.location.iloc[x][\"type\"] for x in range(0,len(df.location))]\n",
    "df[\"location_city\"] = [df.location.iloc[x][\"short_name\"] for x in range(0,len(df.location))]\n",
    "df[\"location_state\"] = [df.location.iloc[x][\"state\"] for x in range(0,len(df.location))]\n",
    "location = df.pop(\"location\")"
   ]
  },
  {
   "cell_type": "code",
   "execution_count": null,
   "id": "cc2d1bc8",
   "metadata": {},
   "outputs": [],
   "source": [
    "df.location_city.value_counts()"
   ]
  },
  {
   "cell_type": "code",
   "execution_count": null,
   "id": "8fad950b",
   "metadata": {},
   "outputs": [],
   "source": [
    "df.location_state.value_counts()"
   ]
  },
  {
   "cell_type": "code",
   "execution_count": null,
   "id": "315d7c97",
   "metadata": {},
   "outputs": [],
   "source": [
    "df.location_type.value_counts()"
   ]
  },
  {
   "cell_type": "code",
   "execution_count": null,
   "id": "f458ce3c",
   "metadata": {},
   "outputs": [],
   "source": [
    "# set checkpoint\n",
    "df2 = df.copy()\n",
    "df.shape"
   ]
  },
  {
   "cell_type": "markdown",
   "id": "038db38f",
   "metadata": {},
   "source": [
    "-------\n",
    "\n",
    "## Matthias"
   ]
  },
  {
   "cell_type": "markdown",
   "id": "fdac7a02",
   "metadata": {},
   "source": [
    "### Location score"
   ]
  },
  {
   "cell_type": "code",
   "execution_count": null,
   "id": "7d410cf1",
   "metadata": {},
   "outputs": [],
   "source": [
    "dic = {x:0 for x in df.location_city}\n",
    "\n",
    "dic.update(df.query('state == 1').location_city.value_counts().to_dict())\n",
    "df['location_score'] = df.location_city.replace(dic)\n",
    "\n",
    "df['location_score'] = [max(0, x-1) for x in df.location_score]"
   ]
  },
  {
   "cell_type": "markdown",
   "id": "be4ba222",
   "metadata": {},
   "source": [
    "### Goal cutoff and log"
   ]
  },
  {
   "cell_type": "markdown",
   "id": "eea7fcea",
   "metadata": {
    "tags": []
   },
   "source": [
    "The distribution of `goal` is sporadic:"
   ]
  },
  {
   "cell_type": "code",
   "execution_count": null,
   "id": "db455a79",
   "metadata": {},
   "outputs": [],
   "source": [
    "df.goal.max(), df.goal.min(), df.goal.mean(), df.goal.median(), df.goal.std()"
   ]
  },
  {
   "cell_type": "markdown",
   "id": "b0897b34",
   "metadata": {},
   "source": [
    "Let us see how many data points get lost for certain `goal` cutoffs:"
   ]
  },
  {
   "cell_type": "code",
   "execution_count": null,
   "id": "9b7c0374",
   "metadata": {},
   "outputs": [],
   "source": [
    "print('cutoff = 10,000,000:', df.query('goal > 10000000').goal.count())\n",
    "print('cutoff = 5,000,000:', df.query('goal > 5000000').goal.count())\n",
    "print('cutoff = 2,000,000:', df.query('goal > 2000000').goal.count())\n",
    "print('cutoff = 1,000,000:', df.query('goal > 1000000').goal.count())"
   ]
  },
  {
   "cell_type": "markdown",
   "id": "c9dd3c96",
   "metadata": {},
   "source": [
    "We cut off at 10,000,000:"
   ]
  },
  {
   "cell_type": "code",
   "execution_count": null,
   "id": "66d93f50",
   "metadata": {},
   "outputs": [],
   "source": [
    "df = df.query('goal < 10000001')"
   ]
  },
  {
   "cell_type": "markdown",
   "id": "564e1512",
   "metadata": {},
   "source": [
    "In addition, we take the log:"
   ]
  },
  {
   "cell_type": "code",
   "execution_count": null,
   "id": "2795f11c",
   "metadata": {},
   "outputs": [],
   "source": [
    "df.goal = df.eval('log(goal)')"
   ]
  },
  {
   "cell_type": "code",
   "execution_count": null,
   "id": "e61216e7",
   "metadata": {},
   "outputs": [],
   "source": [
    "import seaborn as sns\n",
    "sns.histplot(df.goal);"
   ]
  },
  {
   "cell_type": "markdown",
   "id": "d93f889d",
   "metadata": {
    "tags": []
   },
   "source": [
    "### Success rate"
   ]
  },
  {
   "cell_type": "code",
   "execution_count": null,
   "id": "e282470a",
   "metadata": {},
   "outputs": [],
   "source": [
    "df['creator_id'] = [x[x.find(':')+1 : x.find(',')] for x in df.creator]\n",
    "\n",
    "dic_suc = {id:0 for id in df.creator_id.unique()}\n",
    "dic_fai = {id:0 for id in df.creator_id.unique()}\n",
    "dic_suc.update(df.query('state == \"successful\"').creator_id.value_counts().to_dict())\n",
    "dic_fai.update(df.query('state == \"failed\"').creator_id.value_counts().to_dict())\n",
    "\n",
    "df['projects_successful'] = df.creator_id\n",
    "df['projects_failed'] = df.creator_id"
   ]
  },
  {
   "cell_type": "code",
   "execution_count": null,
   "id": "0e393d5b",
   "metadata": {
    "tags": []
   },
   "outputs": [],
   "source": [
    "df.projects_successful.replace(dic_suc, inplace=True)\n",
    "df.projects_failed.replace(dic_fai, inplace=True)"
   ]
  },
  {
   "cell_type": "code",
   "execution_count": null,
   "id": "86346923",
   "metadata": {
    "tags": []
   },
   "outputs": [],
   "source": [
    "df['projects_successful_nm'] = [max(0, x-1) for x in df.projects_successful]\n",
    "df['projects_failed_nm'] = [max(0, x-1) for x in df.projects_failed]"
   ]
  },
  {
   "cell_type": "markdown",
   "id": "997eb142",
   "metadata": {},
   "source": [
    "Drop `creator_id`:"
   ]
  },
  {
   "cell_type": "code",
   "execution_count": null,
   "id": "716e47dd",
   "metadata": {},
   "outputs": [],
   "source": [
    "df.drop('creator_id', axis=1, inplace=True)"
   ]
  },
  {
   "cell_type": "code",
   "execution_count": null,
   "id": "468e9070",
   "metadata": {},
   "outputs": [],
   "source": [
    "df.projects_successful_nm, df.projects_failed_nm "
   ]
  },
  {
   "cell_type": "markdown",
   "id": "47cca17f",
   "metadata": {},
   "source": [
    "### Gender"
   ]
  },
  {
   "cell_type": "code",
   "execution_count": null,
   "id": "5567c41f",
   "metadata": {},
   "outputs": [],
   "source": [
    "df['creator_name'] = [x[x.find('\":\"')+3 : x.find('\",\"')].split(' ')[0].lower() for x in df.creator]"
   ]
  },
  {
   "cell_type": "code",
   "execution_count": null,
   "id": "c5a01a7e",
   "metadata": {
    "tags": []
   },
   "outputs": [],
   "source": [
    "males = pd.read_csv('male.txt', sep='\\n')\n",
    "females = pd.read_csv('female.txt', sep='\\n')\n",
    "\n",
    "dic_names = {x.lower():1 for x in males['# List of common male names.'].iloc[4:]}\n",
    "dic_names.update({x.lower():0 for x in females['# List of common female names.'].iloc[4:]})\n",
    "\n",
    "dic = {x:2 for x in df.creator_name}\n",
    "dic.update(dic_names)"
   ]
  },
  {
   "cell_type": "code",
   "execution_count": null,
   "id": "7c245e93",
   "metadata": {},
   "outputs": [],
   "source": [
    "df['gender'] = df.creator_name.replace(dic)"
   ]
  },
  {
   "cell_type": "markdown",
   "id": "5eba61bc",
   "metadata": {},
   "source": [
    "### Final shape"
   ]
  },
  {
   "cell_type": "code",
   "execution_count": null,
   "id": "c7b7a488",
   "metadata": {
    "tags": []
   },
   "outputs": [],
   "source": [
    "df.shape"
   ]
  },
  {
   "cell_type": "code",
   "execution_count": null,
   "id": "e2d9a520",
   "metadata": {},
   "outputs": [],
   "source": [
    "df.columns"
   ]
  },
  {
   "cell_type": "markdown",
   "id": "af3d77d2",
   "metadata": {},
   "source": [
    "### Save cleaned data"
   ]
  },
  {
   "cell_type": "code",
   "execution_count": null,
   "id": "94edcbb5",
   "metadata": {
    "tags": []
   },
   "outputs": [],
   "source": [
    "df.to_csv('data_cleaned/kickstarter_cleaned.csv')"
   ]
  },
  {
   "cell_type": "markdown",
   "id": "6afa043b",
   "metadata": {},
   "source": [
    "We will also take a look into, whether a project has been succesful prior to the deadline."
   ]
  },
  {
   "cell_type": "markdown",
   "id": "bba60ed3",
   "metadata": {},
   "source": [
    "It seems like the state of the project is either changed at the exact same time of the deadline or afterwards. Only 0.8% have reached their goal before the deadline. \n",
    "\n",
    "A creator can extend the goals of the project further, if the sum is succesfully campaigned before the deadline. There is no indication in our dataset, whether this has been done for a project."
   ]
  },
  {
   "cell_type": "code",
   "execution_count": null,
   "id": "878c04fe",
   "metadata": {},
   "outputs": [],
   "source": [
    "# set Checkpoint after creating time-frame features\n",
    "df2 = df.copy()"
   ]
  },
  {
   "cell_type": "markdown",
   "id": "c2af1f76",
   "metadata": {},
   "source": [
    "## Data Exploration\n",
    "After cleaning the data, we will look into the distribution of the features and look into possible relationships"
   ]
  },
  {
   "cell_type": "code",
   "execution_count": 4,
   "id": "d5368503",
   "metadata": {},
   "outputs": [],
   "source": [
    "import matplotlib.pyplot as plt\n",
    "import seaborn as sns"
   ]
  },
  {
   "cell_type": "code",
   "execution_count": 5,
   "id": "37ccd43f",
   "metadata": {},
   "outputs": [],
   "source": [
    "df = pd.read_csv('subdata/kickstarter_cleaned.csv')"
   ]
  },
  {
   "cell_type": "markdown",
   "id": "d94982d6",
   "metadata": {},
   "source": [
    "# Break"
   ]
  },
  {
   "cell_type": "markdown",
   "id": "2da2f1d4",
   "metadata": {},
   "source": [
    "## Predictive Modelling"
   ]
  },
  {
   "cell_type": "markdown",
   "id": "733b4570",
   "metadata": {},
   "source": [
    "Now we will construct models to predict the success of each project based on the features obtained/ created. \n",
    "\n",
    "Therefore our target feature will be `state`\n",
    "."
   ]
  },
  {
   "cell_type": "code",
   "execution_count": 13,
   "id": "de6b8e85",
   "metadata": {},
   "outputs": [],
   "source": [
    "# Import of relevant packages\n",
    "import numpy as np\n",
    "import pandas as pd\n",
    "import warnings\n",
    "import matplotlib.pyplot as plt\n",
    "import seaborn as sns\n",
    "\n",
    "from sklearn.pipeline import Pipeline\n",
    "from sklearn.compose import ColumnTransformer\n",
    "from sklearn.preprocessing import OneHotEncoder, StandardScaler\n",
    "from sklearn.impute import SimpleImputer\n",
    "from sklearn.model_selection import train_test_split\n",
    "from sklearn.model_selection import GridSearchCV, RandomizedSearchCV\n",
    "from sklearn.model_selection import cross_val_predict, cross_val_score, cross_validate\n",
    "from sklearn.metrics import roc_curve, confusion_matrix, accuracy_score, recall_score, precision_score\n",
    "\n",
    "from sklearn.linear_model import LogisticRegression\n",
    "\n",
    "# Set random seed \n",
    "RSEED = 42"
   ]
  },
  {
   "cell_type": "code",
   "execution_count": 14,
   "id": "7e17277c",
   "metadata": {},
   "outputs": [
    {
     "data": {
      "text/html": [
       "<div>\n",
       "<style scoped>\n",
       "    .dataframe tbody tr th:only-of-type {\n",
       "        vertical-align: middle;\n",
       "    }\n",
       "\n",
       "    .dataframe tbody tr th {\n",
       "        vertical-align: top;\n",
       "    }\n",
       "\n",
       "    .dataframe thead th {\n",
       "        text-align: right;\n",
       "    }\n",
       "</style>\n",
       "<table border=\"1\" class=\"dataframe\">\n",
       "  <thead>\n",
       "    <tr style=\"text-align: right;\">\n",
       "      <th></th>\n",
       "      <th>Unnamed: 0</th>\n",
       "      <th>backers_count</th>\n",
       "      <th>country</th>\n",
       "      <th>created_at</th>\n",
       "      <th>creator</th>\n",
       "      <th>deadline</th>\n",
       "      <th>goal</th>\n",
       "      <th>id</th>\n",
       "      <th>launched_at</th>\n",
       "      <th>location</th>\n",
       "      <th>...</th>\n",
       "      <th>location_city</th>\n",
       "      <th>location_state</th>\n",
       "      <th>location_score</th>\n",
       "      <th>name_length</th>\n",
       "      <th>name_words</th>\n",
       "      <th>creator_id</th>\n",
       "      <th>projects_successful</th>\n",
       "      <th>projects_failed</th>\n",
       "      <th>creator_name</th>\n",
       "      <th>gender</th>\n",
       "    </tr>\n",
       "  </thead>\n",
       "  <tbody>\n",
       "    <tr>\n",
       "      <th>0</th>\n",
       "      <td>0</td>\n",
       "      <td>315</td>\n",
       "      <td>US</td>\n",
       "      <td>2018-11-05 23:06:45</td>\n",
       "      <td>{\"id\":2094277840,\"name\":\"Lucy Conroy\",\"slug\":\"...</td>\n",
       "      <td>2019-03-14 05:02:55</td>\n",
       "      <td>10.239960</td>\n",
       "      <td>2108505034</td>\n",
       "      <td>2019-01-23 06:02:55</td>\n",
       "      <td>{'id': 2462429, 'name': 'Novato', 'slug': 'nov...</td>\n",
       "      <td>...</td>\n",
       "      <td>Novato, CA</td>\n",
       "      <td>CA</td>\n",
       "      <td>0</td>\n",
       "      <td>24</td>\n",
       "      <td>3</td>\n",
       "      <td>2094277840</td>\n",
       "      <td>0</td>\n",
       "      <td>0</td>\n",
       "      <td>lucy</td>\n",
       "      <td>0</td>\n",
       "    </tr>\n",
       "    <tr>\n",
       "      <th>1</th>\n",
       "      <td>1</td>\n",
       "      <td>47</td>\n",
       "      <td>US</td>\n",
       "      <td>2017-08-02 14:28:13</td>\n",
       "      <td>{\"id\":723886115,\"name\":\"Lisa Vollrath\",\"slug\":...</td>\n",
       "      <td>2017-09-09 17:00:59</td>\n",
       "      <td>6.907755</td>\n",
       "      <td>928751314</td>\n",
       "      <td>2017-08-10 17:00:59</td>\n",
       "      <td>{'id': 2400549, 'name': 'Euless', 'slug': 'eul...</td>\n",
       "      <td>...</td>\n",
       "      <td>Euless, TX</td>\n",
       "      <td>TX</td>\n",
       "      <td>0</td>\n",
       "      <td>23</td>\n",
       "      <td>4</td>\n",
       "      <td>723886115</td>\n",
       "      <td>6</td>\n",
       "      <td>0</td>\n",
       "      <td>lisa</td>\n",
       "      <td>0</td>\n",
       "    </tr>\n",
       "    <tr>\n",
       "      <th>2</th>\n",
       "      <td>2</td>\n",
       "      <td>271</td>\n",
       "      <td>US</td>\n",
       "      <td>2012-09-30 06:45:33</td>\n",
       "      <td>{\"id\":323849677,\"name\":\"Electra\",\"is_registere...</td>\n",
       "      <td>2013-06-12 05:03:15</td>\n",
       "      <td>9.615805</td>\n",
       "      <td>928014092</td>\n",
       "      <td>2013-05-13 05:03:15</td>\n",
       "      <td>{'id': 2423474, 'name': 'Hollywood', 'slug': '...</td>\n",
       "      <td>...</td>\n",
       "      <td>Hollywood, CA</td>\n",
       "      <td>CA</td>\n",
       "      <td>0</td>\n",
       "      <td>51</td>\n",
       "      <td>7</td>\n",
       "      <td>323849677</td>\n",
       "      <td>0</td>\n",
       "      <td>0</td>\n",
       "      <td>electra</td>\n",
       "      <td>0</td>\n",
       "    </tr>\n",
       "    <tr>\n",
       "      <th>3</th>\n",
       "      <td>3</td>\n",
       "      <td>3</td>\n",
       "      <td>GB</td>\n",
       "      <td>2017-01-07 09:11:11</td>\n",
       "      <td>{\"id\":196281496,\"name\":\"Artur Ordijanc (delete...</td>\n",
       "      <td>2017-03-13 17:22:56</td>\n",
       "      <td>9.210340</td>\n",
       "      <td>596091328</td>\n",
       "      <td>2017-01-12 18:22:56</td>\n",
       "      <td>{'id': 475457, 'name': 'Kaunas', 'slug': 'kaun...</td>\n",
       "      <td>...</td>\n",
       "      <td>Kaunas, Lithuania</td>\n",
       "      <td>Kaunas County</td>\n",
       "      <td>0</td>\n",
       "      <td>34</td>\n",
       "      <td>8</td>\n",
       "      <td>196281496</td>\n",
       "      <td>0</td>\n",
       "      <td>1</td>\n",
       "      <td>artur</td>\n",
       "      <td>1</td>\n",
       "    </tr>\n",
       "    <tr>\n",
       "      <th>4</th>\n",
       "      <td>4</td>\n",
       "      <td>3</td>\n",
       "      <td>US</td>\n",
       "      <td>2012-12-06 18:04:31</td>\n",
       "      <td>{\"id\":1178460181,\"name\":\"Dawn Johnston\",\"is_re...</td>\n",
       "      <td>2013-01-09 20:32:07</td>\n",
       "      <td>7.937375</td>\n",
       "      <td>998516049</td>\n",
       "      <td>2012-12-10 20:32:07</td>\n",
       "      <td>{'id': 2507703, 'name': 'Traverse City', 'slug...</td>\n",
       "      <td>...</td>\n",
       "      <td>Traverse City, MI</td>\n",
       "      <td>MI</td>\n",
       "      <td>0</td>\n",
       "      <td>40</td>\n",
       "      <td>7</td>\n",
       "      <td>1178460181</td>\n",
       "      <td>0</td>\n",
       "      <td>0</td>\n",
       "      <td>dawn</td>\n",
       "      <td>0</td>\n",
       "    </tr>\n",
       "  </tbody>\n",
       "</table>\n",
       "<p>5 rows × 25 columns</p>\n",
       "</div>"
      ],
      "text/plain": [
       "   Unnamed: 0  backers_count country           created_at  \\\n",
       "0           0            315      US  2018-11-05 23:06:45   \n",
       "1           1             47      US  2017-08-02 14:28:13   \n",
       "2           2            271      US  2012-09-30 06:45:33   \n",
       "3           3              3      GB  2017-01-07 09:11:11   \n",
       "4           4              3      US  2012-12-06 18:04:31   \n",
       "\n",
       "                                             creator             deadline  \\\n",
       "0  {\"id\":2094277840,\"name\":\"Lucy Conroy\",\"slug\":\"...  2019-03-14 05:02:55   \n",
       "1  {\"id\":723886115,\"name\":\"Lisa Vollrath\",\"slug\":...  2017-09-09 17:00:59   \n",
       "2  {\"id\":323849677,\"name\":\"Electra\",\"is_registere...  2013-06-12 05:03:15   \n",
       "3  {\"id\":196281496,\"name\":\"Artur Ordijanc (delete...  2017-03-13 17:22:56   \n",
       "4  {\"id\":1178460181,\"name\":\"Dawn Johnston\",\"is_re...  2013-01-09 20:32:07   \n",
       "\n",
       "        goal          id          launched_at  \\\n",
       "0  10.239960  2108505034  2019-01-23 06:02:55   \n",
       "1   6.907755   928751314  2017-08-10 17:00:59   \n",
       "2   9.615805   928014092  2013-05-13 05:03:15   \n",
       "3   9.210340   596091328  2017-01-12 18:22:56   \n",
       "4   7.937375   998516049  2012-12-10 20:32:07   \n",
       "\n",
       "                                            location  ...      location_city  \\\n",
       "0  {'id': 2462429, 'name': 'Novato', 'slug': 'nov...  ...         Novato, CA   \n",
       "1  {'id': 2400549, 'name': 'Euless', 'slug': 'eul...  ...         Euless, TX   \n",
       "2  {'id': 2423474, 'name': 'Hollywood', 'slug': '...  ...      Hollywood, CA   \n",
       "3  {'id': 475457, 'name': 'Kaunas', 'slug': 'kaun...  ...  Kaunas, Lithuania   \n",
       "4  {'id': 2507703, 'name': 'Traverse City', 'slug...  ...  Traverse City, MI   \n",
       "\n",
       "   location_state location_score  name_length name_words  creator_id  \\\n",
       "0              CA              0           24          3  2094277840   \n",
       "1              TX              0           23          4   723886115   \n",
       "2              CA              0           51          7   323849677   \n",
       "3   Kaunas County              0           34          8   196281496   \n",
       "4              MI              0           40          7  1178460181   \n",
       "\n",
       "  projects_successful  projects_failed  creator_name  gender  \n",
       "0                   0                0          lucy       0  \n",
       "1                   6                0          lisa       0  \n",
       "2                   0                0       electra       0  \n",
       "3                   0                1         artur       1  \n",
       "4                   0                0          dawn       0  \n",
       "\n",
       "[5 rows x 25 columns]"
      ]
     },
     "execution_count": 14,
     "metadata": {},
     "output_type": "execute_result"
    }
   ],
   "source": [
    "df.head()"
   ]
  },
  {
   "cell_type": "code",
   "execution_count": 15,
   "id": "f5de68b3",
   "metadata": {},
   "outputs": [
    {
     "name": "stdout",
     "output_type": "stream",
     "text": [
      "<class 'pandas.core.frame.DataFrame'>\n",
      "RangeIndex: 170070 entries, 0 to 170069\n",
      "Data columns (total 25 columns):\n",
      " #   Column               Non-Null Count   Dtype  \n",
      "---  ------               --------------   -----  \n",
      " 0   Unnamed: 0           170070 non-null  int64  \n",
      " 1   backers_count        170070 non-null  int64  \n",
      " 2   country              160674 non-null  object \n",
      " 3   created_at           170070 non-null  object \n",
      " 4   creator              170070 non-null  object \n",
      " 5   deadline             170070 non-null  object \n",
      " 6   goal                 170070 non-null  float64\n",
      " 7   id                   170070 non-null  int64  \n",
      " 8   launched_at          170070 non-null  object \n",
      " 9   location             170070 non-null  object \n",
      " 10  state                170070 non-null  object \n",
      " 11  cat_id               170070 non-null  int64  \n",
      " 12  slug                 170070 non-null  object \n",
      " 13  max_pledged          170070 non-null  float64\n",
      " 14  location_type        170070 non-null  object \n",
      " 15  location_city        170070 non-null  object \n",
      " 16  location_state       170026 non-null  object \n",
      " 17  location_score       170070 non-null  int64  \n",
      " 18  name_length          170070 non-null  int64  \n",
      " 19  name_words           170070 non-null  int64  \n",
      " 20  creator_id           170070 non-null  int64  \n",
      " 21  projects_successful  170070 non-null  int64  \n",
      " 22  projects_failed      170070 non-null  int64  \n",
      " 23  creator_name         170067 non-null  object \n",
      " 24  gender               170070 non-null  int64  \n",
      "dtypes: float64(2), int64(11), object(12)\n",
      "memory usage: 32.4+ MB\n"
     ]
    }
   ],
   "source": [
    "df.info()"
   ]
  },
  {
   "cell_type": "code",
   "execution_count": 16,
   "id": "6e2c44be",
   "metadata": {},
   "outputs": [],
   "source": [
    "df_pred = df.copy()"
   ]
  },
  {
   "cell_type": "code",
   "execution_count": 17,
   "id": "79b811e1",
   "metadata": {},
   "outputs": [],
   "source": [
    "# Transform type objects to string\n",
    "df_pred['created_at'] = df_pred['created_at'].astype('datetime64')\n",
    "df_pred['launched_at'] = df_pred['launched_at'].astype('datetime64')\n",
    "df_pred['deadline'] = df_pred['deadline'].astype('datetime64')\n",
    "df_pred['country'] = df_pred['country'].astype(str)\n",
    "df_pred['slug'] = df_pred['slug'].astype(str)\n",
    "df_pred['location_type'] = df_pred['location_type'].astype(str)\n",
    "df_pred['location_city'] = df_pred['location_city'].astype(str)\n",
    "df_pred['location_state'] = df_pred['location_state'].astype(str)"
   ]
  },
  {
   "cell_type": "code",
   "execution_count": 18,
   "id": "b9c1c54f",
   "metadata": {},
   "outputs": [
    {
     "ename": "AttributeError",
     "evalue": "Can only use .dt accessor with datetimelike values",
     "output_type": "error",
     "traceback": [
      "\u001b[0;31m---------------------------------------------------------------------------\u001b[0m",
      "\u001b[0;31mAttributeError\u001b[0m                            Traceback (most recent call last)",
      "\u001b[0;32m<ipython-input-18-a5bcb779b42b>\u001b[0m in \u001b[0;36m<module>\u001b[0;34m\u001b[0m\n\u001b[0;32m----> 1\u001b[0;31m \u001b[0mdf\u001b[0m\u001b[0;34m[\u001b[0m\u001b[0;34m'month_created'\u001b[0m\u001b[0;34m]\u001b[0m \u001b[0;34m=\u001b[0m \u001b[0mdf\u001b[0m\u001b[0;34m[\u001b[0m\u001b[0;34m'created_at'\u001b[0m\u001b[0;34m]\u001b[0m\u001b[0;34m.\u001b[0m\u001b[0mdt\u001b[0m\u001b[0;34m.\u001b[0m\u001b[0mmonth\u001b[0m\u001b[0;34m\u001b[0m\u001b[0;34m\u001b[0m\u001b[0m\n\u001b[0m\u001b[1;32m      2\u001b[0m \u001b[0mdf\u001b[0m\u001b[0;34m[\u001b[0m\u001b[0;34m'month_launced'\u001b[0m\u001b[0;34m]\u001b[0m \u001b[0;34m=\u001b[0m \u001b[0mdf\u001b[0m\u001b[0;34m[\u001b[0m\u001b[0;34m'launched_at'\u001b[0m\u001b[0;34m]\u001b[0m\u001b[0;34m.\u001b[0m\u001b[0mdt\u001b[0m\u001b[0;34m.\u001b[0m\u001b[0mmonth\u001b[0m\u001b[0;34m\u001b[0m\u001b[0;34m\u001b[0m\u001b[0m\n\u001b[1;32m      3\u001b[0m \u001b[0mdf\u001b[0m\u001b[0;34m[\u001b[0m\u001b[0;34m'month_deadline'\u001b[0m\u001b[0;34m]\u001b[0m \u001b[0;34m=\u001b[0m \u001b[0mdf\u001b[0m\u001b[0;34m[\u001b[0m\u001b[0;34m'deadline'\u001b[0m\u001b[0;34m]\u001b[0m\u001b[0;34m.\u001b[0m\u001b[0mdt\u001b[0m\u001b[0;34m.\u001b[0m\u001b[0mmonth\u001b[0m\u001b[0;34m\u001b[0m\u001b[0;34m\u001b[0m\u001b[0m\n",
      "\u001b[0;32m~/neuefische/2nd_Project/Kickstarter-ML-Project/.venv/lib/python3.8/site-packages/pandas/core/generic.py\u001b[0m in \u001b[0;36m__getattr__\u001b[0;34m(self, name)\u001b[0m\n\u001b[1;32m   5268\u001b[0m             \u001b[0;32mor\u001b[0m \u001b[0mname\u001b[0m \u001b[0;32min\u001b[0m \u001b[0mself\u001b[0m\u001b[0;34m.\u001b[0m\u001b[0m_accessors\u001b[0m\u001b[0;34m\u001b[0m\u001b[0;34m\u001b[0m\u001b[0m\n\u001b[1;32m   5269\u001b[0m         ):\n\u001b[0;32m-> 5270\u001b[0;31m             \u001b[0;32mreturn\u001b[0m \u001b[0mobject\u001b[0m\u001b[0;34m.\u001b[0m\u001b[0m__getattribute__\u001b[0m\u001b[0;34m(\u001b[0m\u001b[0mself\u001b[0m\u001b[0;34m,\u001b[0m \u001b[0mname\u001b[0m\u001b[0;34m)\u001b[0m\u001b[0;34m\u001b[0m\u001b[0;34m\u001b[0m\u001b[0m\n\u001b[0m\u001b[1;32m   5271\u001b[0m         \u001b[0;32melse\u001b[0m\u001b[0;34m:\u001b[0m\u001b[0;34m\u001b[0m\u001b[0;34m\u001b[0m\u001b[0m\n\u001b[1;32m   5272\u001b[0m             \u001b[0;32mif\u001b[0m \u001b[0mself\u001b[0m\u001b[0;34m.\u001b[0m\u001b[0m_info_axis\u001b[0m\u001b[0;34m.\u001b[0m\u001b[0m_can_hold_identifiers_and_holds_name\u001b[0m\u001b[0;34m(\u001b[0m\u001b[0mname\u001b[0m\u001b[0;34m)\u001b[0m\u001b[0;34m:\u001b[0m\u001b[0;34m\u001b[0m\u001b[0;34m\u001b[0m\u001b[0m\n",
      "\u001b[0;32m~/neuefische/2nd_Project/Kickstarter-ML-Project/.venv/lib/python3.8/site-packages/pandas/core/accessor.py\u001b[0m in \u001b[0;36m__get__\u001b[0;34m(self, obj, cls)\u001b[0m\n\u001b[1;32m    185\u001b[0m             \u001b[0;31m# we're accessing the attribute of the class, i.e., Dataset.geo\u001b[0m\u001b[0;34m\u001b[0m\u001b[0;34m\u001b[0m\u001b[0;34m\u001b[0m\u001b[0m\n\u001b[1;32m    186\u001b[0m             \u001b[0;32mreturn\u001b[0m \u001b[0mself\u001b[0m\u001b[0;34m.\u001b[0m\u001b[0m_accessor\u001b[0m\u001b[0;34m\u001b[0m\u001b[0;34m\u001b[0m\u001b[0m\n\u001b[0;32m--> 187\u001b[0;31m         \u001b[0maccessor_obj\u001b[0m \u001b[0;34m=\u001b[0m \u001b[0mself\u001b[0m\u001b[0;34m.\u001b[0m\u001b[0m_accessor\u001b[0m\u001b[0;34m(\u001b[0m\u001b[0mobj\u001b[0m\u001b[0;34m)\u001b[0m\u001b[0;34m\u001b[0m\u001b[0;34m\u001b[0m\u001b[0m\n\u001b[0m\u001b[1;32m    188\u001b[0m         \u001b[0;31m# Replace the property with the accessor object. Inspired by:\u001b[0m\u001b[0;34m\u001b[0m\u001b[0;34m\u001b[0m\u001b[0;34m\u001b[0m\u001b[0m\n\u001b[1;32m    189\u001b[0m         \u001b[0;31m# http://www.pydanny.com/cached-property.html\u001b[0m\u001b[0;34m\u001b[0m\u001b[0;34m\u001b[0m\u001b[0;34m\u001b[0m\u001b[0m\n",
      "\u001b[0;32m~/neuefische/2nd_Project/Kickstarter-ML-Project/.venv/lib/python3.8/site-packages/pandas/core/indexes/accessors.py\u001b[0m in \u001b[0;36m__new__\u001b[0;34m(cls, data)\u001b[0m\n\u001b[1;32m    336\u001b[0m             \u001b[0;32mreturn\u001b[0m \u001b[0mDatetimeProperties\u001b[0m\u001b[0;34m(\u001b[0m\u001b[0mdata\u001b[0m\u001b[0;34m,\u001b[0m \u001b[0morig\u001b[0m\u001b[0;34m)\u001b[0m\u001b[0;34m\u001b[0m\u001b[0;34m\u001b[0m\u001b[0m\n\u001b[1;32m    337\u001b[0m \u001b[0;34m\u001b[0m\u001b[0m\n\u001b[0;32m--> 338\u001b[0;31m         \u001b[0;32mraise\u001b[0m \u001b[0mAttributeError\u001b[0m\u001b[0;34m(\u001b[0m\u001b[0;34m\"Can only use .dt accessor with datetimelike values\"\u001b[0m\u001b[0;34m)\u001b[0m\u001b[0;34m\u001b[0m\u001b[0;34m\u001b[0m\u001b[0m\n\u001b[0m",
      "\u001b[0;31mAttributeError\u001b[0m: Can only use .dt accessor with datetimelike values"
     ]
    }
   ],
   "source": [
    "df['month_created'] = df['created_at'].dt.month\n",
    "df['month_launced'] = df['launched_at'].dt.month\n",
    "df['month_deadline'] = df['deadline'].dt.month"
   ]
  },
  {
   "cell_type": "code",
   "execution_count": null,
   "id": "5548eaa4",
   "metadata": {},
   "outputs": [],
   "source": [
    "df['delta_public'] = (df['created_at'] - df['launched_at']) / pd.offsets.Day(-1)\n",
    "df['delta_funding'] = (df['launched_at'] - df['deadline']) / pd.offsets.Day(-1)"
   ]
  },
  {
   "cell_type": "code",
   "execution_count": null,
   "id": "a949dcf4",
   "metadata": {},
   "outputs": [],
   "source": [
    "df['delta_public'] = df.delta_public.round(0)\n",
    "df['delta_funding'] = df.delta_funding.round(0)"
   ]
  },
  {
   "cell_type": "code",
   "execution_count": null,
   "id": "3d7da533",
   "metadata": {},
   "outputs": [],
   "source": [
    "print(sum(df[\"deadline\"] > df[\"state_changed_at\"]))\n",
    "print(sum(df[\"deadline\"] <= df[\"state_changed_at\"]))"
   ]
  },
  {
   "cell_type": "code",
   "execution_count": null,
   "id": "c4d63e9f",
   "metadata": {},
   "outputs": [],
   "source": [
    "df = df.drop([\"created_at\", \"deadline\", \"launched_at\", \"state_changed_at\"], axis = 1)\n",
    "df.head(3)"
   ]
  },
  {
   "cell_type": "markdown",
   "id": "ad6708fd",
   "metadata": {},
   "source": [
    "Since most of the project originate from the US, and the information from the `location_state` does not work for countries w/o a federal system, we will change the value or `location_state`.\n",
    "\n",
    "If a project originates from the US, the state will be stored, if from another country, the name of the country. We will also drop the feature `location_city`, because there are over 14,000 different values and would hinder our ability to predict. \n",
    "\n",
    "The location information is still available in the features `country`, `location_state` and `location_type`-"
   ]
  },
  {
   "cell_type": "code",
   "execution_count": 11,
   "id": "35001972",
   "metadata": {},
   "outputs": [
    {
     "name": "stderr",
     "output_type": "stream",
     "text": [
      "/Users/chrisdisc/neuefische/2nd_Project/Kickstarter-ML-Project/.venv/lib/python3.8/site-packages/pandas/core/indexing.py:671: SettingWithCopyWarning: \n",
      "A value is trying to be set on a copy of a slice from a DataFrame\n",
      "\n",
      "See the caveats in the documentation: https://pandas.pydata.org/pandas-docs/stable/user_guide/indexing.html#returning-a-view-versus-a-copy\n",
      "  self._setitem_with_indexer(indexer, value)\n"
     ]
    }
   ],
   "source": [
    "for i in range(len(df.location_city)):\n",
    "    if df.country.iloc[i] != \"US\":\n",
    "        \n",
    "        temp = df.location_city.iloc[i].split(\", \")\n",
    "        if len(temp) == 2:\n",
    "            df_pred.location_state.iloc[i] = temp[1]\n",
    "        else:\n",
    "            df_pred.location_state.iloc[i] = temp[0]\n",
    "    else: \n",
    "        pass\n",
    "df_pred.drop([\"location_city\"], axis=1, inplace = True);"
   ]
  },
  {
   "cell_type": "code",
   "execution_count": null,
   "id": "733b6502",
   "metadata": {},
   "outputs": [],
   "source": [
    "# Creating list for categorical features \n",
    "cat_features = list(df_pred.columns[df_pred.dtypes==object])\n",
    "cat_features.remove('state')\n",
    "cat_features.append('id')\n",
    "cat_features.append('cat_id')\n",
    "cat_features"
   ]
  },
  {
   "cell_type": "code",
   "execution_count": null,
   "id": "45a44870",
   "metadata": {},
   "outputs": [],
   "source": [
    "# Creating list for numerical predictors/features\n",
    "num_features = list(df_pred.columns[df_pred.dtypes!=object])\n",
    "num_features.remove('id')\n",
    "num_features.remove('cat_id')\n",
    "num_features"
   ]
  },
  {
   "cell_type": "code",
   "execution_count": null,
   "id": "b4d204a4",
   "metadata": {},
   "outputs": [],
   "source": [
    "print(df.columns.to_series().groupby(df.dtypes).groups)"
   ]
  },
  {
   "cell_type": "markdown",
   "id": "6859b453",
   "metadata": {},
   "source": [
    "## Data Preprocessing and target formulation"
   ]
  },
  {
   "cell_type": "code",
   "execution_count": null,
   "id": "7df0c872",
   "metadata": {},
   "outputs": [],
   "source": [
    "# Define features and target variable\n",
    "features = df_pred.drop('state', axis=1)\n",
    "target = df_pred['state']"
   ]
  },
  {
   "cell_type": "code",
   "execution_count": null,
   "id": "cef34459",
   "metadata": {},
   "outputs": [],
   "source": [
    "# One-hot encode the 'features_raw' data using pandas.get_dummies()\n",
    "features = pd.get_dummies(features)\n",
    "# Convert target feature into binary\n",
    "target = target.apply(lambda x: \"pos\" if x == 'successful' else \"neg\")"
   ]
  },
  {
   "cell_type": "code",
   "execution_count": null,
   "id": "5c2ce673",
   "metadata": {},
   "outputs": [],
   "source": [
    "# Print the number of features after one-hot encoding\n",
    "encoded = list(features.columns)\n",
    "print (\"{} total features after one-hot encoding.\".format(len(encoded)))"
   ]
  },
  {
   "cell_type": "code",
   "execution_count": null,
   "id": "17fbe25e",
   "metadata": {},
   "outputs": [],
   "source": [
    "np.unique(target)"
   ]
  },
  {
   "cell_type": "markdown",
   "id": "35d1cd1b",
   "metadata": {},
   "source": [
    "## Train-Test-Split"
   ]
  },
  {
   "cell_type": "code",
   "execution_count": null,
   "id": "1402dab7",
   "metadata": {},
   "outputs": [],
   "source": [
    "X_train, X_test, y_train, y_test = train_test_split(features, target, test_size=0.2, random_state=RSEED)"
   ]
  },
  {
   "cell_type": "code",
   "execution_count": null,
   "id": "4dd65805",
   "metadata": {},
   "outputs": [],
   "source": [
    "print('X_train shape:', X_train.shape)\n",
    "print('X_test shape:', X_test.shape)\n",
    "print('y_train shape:', y_train.shape)\n",
    "print('y_test shape:', y_test.shape)"
   ]
  },
  {
   "cell_type": "markdown",
   "id": "3bb32d45",
   "metadata": {},
   "source": [
    "## Normalizing Numerical Features"
   ]
  },
  {
   "cell_type": "code",
   "execution_count": null,
   "id": "e1fc1f29",
   "metadata": {},
   "outputs": [],
   "source": [
    "# Import sklearn.preprocessing.StandardScaler\n",
    "from sklearn.preprocessing import MinMaxScaler\n",
    "\n",
    "# Initialize a scaler, then apply it to the features\n",
    "scaler = MinMaxScaler()\n",
    "numerical = ['goal']\n",
    "X_train['numerical'] = scaler.fit_transform(X_train[numerical])\n",
    "X_test['numerical'] = scaler.transform(X_test[numerical])"
   ]
  },
  {
   "cell_type": "markdown",
   "id": "70c1af96",
   "metadata": {},
   "source": [
    "## Training and Prediction Pipeline"
   ]
  },
  {
   "cell_type": "code",
   "execution_count": null,
   "id": "bcc0b585",
   "metadata": {},
   "outputs": [],
   "source": [
    "from sklearn.metrics import fbeta_score, accuracy_score\n",
    "\n",
    "# Define a train and evaluation function \n",
    "def train_predict(learner, sample_size, X_train, y_train, X_test, y_test): \n",
    "    '''\n",
    "    inputs:\n",
    "       - learner: the learning algorithm to be trained and predicted on\n",
    "       - sample_size: the size of samples (number) to be drawn from training set\n",
    "       - X_train: features training set\n",
    "       - y_train: income training set\n",
    "       - X_test: features testing set\n",
    "       - y_test: income testing set\n",
    "    '''\n",
    "    \n",
    "    results = {}\n",
    "    \n",
    "   # TODO: Fit the learner to the training data using slicing with 'sample_size'\n",
    "    start = time() # Get start time\n",
    "    learner = learner.fit(X_train[:sample_size], y_train[:sample_size])\n",
    "    end = time() # Get end time\n",
    "    \n",
    "    # TODO: Calculate the training time\n",
    "    results['train_time'] = end - start\n",
    "        \n",
    "    # TODO: Get the predictions on the test set,\n",
    "    #       then get predictions on the first 300 training samples\n",
    "    start = time() # Get start time\n",
    "    predictions_test = learner.predict(X_test)\n",
    "    predictions_train = learner.predict(X_train[:300])\n",
    "    end = time() # Get end time\n",
    "    \n",
    "    # TODO: Calculate the total prediction time\n",
    "    results['pred_time'] = end - start\n",
    "            \n",
    "    # TODO: Compute accuracy on the first 300 training samples\n",
    "    results['acc_train'] = accuracy_score(y_train[:300], predictions_train)\n",
    "        \n",
    "    # TODO: Compute accuracy on test set\n",
    "    results['acc_test'] = accuracy_score(y_test,predictions_test)\n",
    "    \n",
    "    # TODO: Compute F-score on the the first 300 training samples\n",
    "    results['f_train'] = fbeta_score(y_train[:300], predictions_train, beta=0.5, pos_label=\"pos\")\n",
    "        \n",
    "    # TODO: Compute F-score on the test set\n",
    "    results['f_test'] = fbeta_score(y_test, predictions_test, beta=0.5, pos_label=\"pos\")\n",
    "       \n",
    "    # Success\n",
    "    print (\"{} trained on {} samples.\".format(learner.__class__.__name__, sample_size))\n",
    "        \n",
    "    # Return the results\n",
    "    return results"
   ]
  },
  {
   "cell_type": "markdown",
   "id": "b657037f",
   "metadata": {},
   "source": [
    "## Model evaluation\n"
   ]
  },
  {
   "cell_type": "markdown",
   "id": "ab97ab79",
   "metadata": {},
   "source": [
    "### Naive Predictor"
   ]
  },
  {
   "cell_type": "code",
   "execution_count": null,
   "id": "f2a1464b",
   "metadata": {},
   "outputs": [],
   "source": [
    "target.value_counts([0])"
   ]
  },
  {
   "cell_type": "code",
   "execution_count": null,
   "id": "6e5b1e92",
   "metadata": {},
   "outputs": [],
   "source": [
    "# TODO: Calculate accuracy\n",
    "accuracy = 0.564698 \n",
    "\n",
    "# TODO: Calculating precision\n",
    "precision = 0.5\n",
    "\n",
    "# TODO: Calculating recall\n",
    "recall = 1\n",
    "\n",
    "# TODO: Calculate F-score using the formula above for beta = 0.5\n",
    "fscore =  (1  + (0.5*0.5)) * ( precision * recall / (( 0.5*0.5 * (precision))+ recall))\n",
    "\n",
    "# Print the results \n",
    "print (\"Naive Predictor: [Accuracy score: {:.4f}, F-score: {:.4f}]\".format(accuracy, fscore))"
   ]
  },
  {
   "cell_type": "markdown",
   "id": "5c919443",
   "metadata": {},
   "source": [
    "### Model Application"
   ]
  },
  {
   "cell_type": "code",
   "execution_count": null,
   "id": "610924c7",
   "metadata": {},
   "outputs": [],
   "source": [
    "from time import time\n",
    "\n",
    "from sklearn.tree import DecisionTreeClassifier\n",
    "from sklearn.svm import SVC\n",
    "from sklearn.ensemble import AdaBoostClassifier\n",
    "from sklearn.linear_model import LogisticRegression\n",
    "from sklearn.naive_bayes import MultinomialNB"
   ]
  },
  {
   "cell_type": "code",
   "execution_count": null,
   "id": "0d49d01b",
   "metadata": {},
   "outputs": [],
   "source": [
    "#clf_dtree = DecisionTreeClassifier(random_state=101)\n",
    "#clf_svc = SVC(random_state=101)\n",
    "#clf_aboost = AdaBoostClassifier(random_state=101)\n",
    "clf_logreg = LogisticRegression(random_state=101)\n",
    "#clf_multiNB = MultinomialNB()"
   ]
  },
  {
   "cell_type": "code",
   "execution_count": null,
   "id": "eb311c96",
   "metadata": {},
   "outputs": [],
   "source": [
    "#samples_1 = int(round(len(X_train) / 100))\n",
    "#samples_10 = int(round(len(X_train) / 10))\n",
    "#samples_25 = int(round(len(X_train) / 4))\n",
    "samples_100 = len(X_train)"
   ]
  },
  {
   "cell_type": "code",
   "execution_count": null,
   "id": "054df042",
   "metadata": {},
   "outputs": [],
   "source": [
    "results = {}\n",
    "for clf in [clf_logreg, clf_dtree, clf_multiNB]:\n",
    "    clf_name = clf.__class__.__name__\n",
    "    results[clf_name] = {}\n",
    "    for i, samples in enumerate([samples_1, samples_10, samples_100]):\n",
    "        results[clf_name][i] = \\\n",
    "        train_predict(clf, samples, X_train, y_train, X_test, y_test)"
   ]
  },
  {
   "cell_type": "code",
   "execution_count": null,
   "id": "c6f74b0c",
   "metadata": {},
   "outputs": [],
   "source": [
    "results[\"clf_svc\"] = {}\n",
    "results[\"clf_svc\"][2] = \\\n",
    "train_predict(clf_svc,samples_25, X_train, y_train, X_test, y_test)"
   ]
  },
  {
   "cell_type": "code",
   "execution_count": null,
   "id": "f94e3635",
   "metadata": {},
   "outputs": [],
   "source": [
    "results"
   ]
  },
  {
   "cell_type": "markdown",
   "id": "40e5b4f3",
   "metadata": {},
   "source": [
    "### Metric evaluation and Plotting functions for model performance visualisation"
   ]
  },
  {
   "cell_type": "code",
   "execution_count": null,
   "id": "09553d99",
   "metadata": {},
   "outputs": [],
   "source": [
    "###########################################\n",
    "# Suppress matplotlib user warnings\n",
    "# Necessary for newer version of matplotlib\n",
    "import warnings\n",
    "warnings.filterwarnings(\"ignore\", category = UserWarning, module = \"matplotlib\")\n",
    "#\n",
    "# Display inline matplotlib plots with IPython\n",
    "from IPython import get_ipython\n",
    "get_ipython().run_line_magic('matplotlib', 'inline')\n",
    "###########################################\n",
    "\n",
    "import matplotlib.pyplot as pl\n",
    "import matplotlib.patches as mpatches\n",
    "import numpy as np\n",
    "import pandas as pd\n",
    "from time import time\n",
    "from sklearn.metrics import f1_score, accuracy_score\n",
    "\n",
    "\n",
    "def distribution(data, transformed = False):\n",
    "    \"\"\"\n",
    "    Visualization code for displaying skewed distributions of features\n",
    "    \"\"\"\n",
    "    \n",
    "    # Create figure\n",
    "    fig = pl.figure(figsize = (11,5));\n",
    "\n",
    "    # Skewed feature plotting\n",
    "    for i, feature in enumerate(['capital-gain','capital-loss']):\n",
    "        ax = fig.add_subplot(1, 2, i+1)\n",
    "        ax.hist(data[feature], bins = 25, color = '#00A0A0')\n",
    "        ax.set_title(\"'%s' Feature Distribution\"%(feature), fontsize = 14)\n",
    "        ax.set_xlabel(\"Value\")\n",
    "        ax.set_ylabel(\"Number of Records\")\n",
    "        ax.set_ylim((0, 2000))\n",
    "        ax.set_yticks([0, 500, 1000, 1500, 2000])\n",
    "        ax.set_yticklabels([0, 500, 1000, 1500, \">2000\"])\n",
    "\n",
    "    # Plot aesthetics\n",
    "    if transformed:\n",
    "        fig.suptitle(\"Log-transformed Distributions of Continuous Census Data Features\", \\\n",
    "            fontsize = 16, y = 1.03)\n",
    "    else:\n",
    "        fig.suptitle(\"Skewed Distributions of Continuous Census Data Features\", \\\n",
    "            fontsize = 16, y = 1.03)\n",
    "\n",
    "    fig.tight_layout()\n",
    "    fig.show()\n",
    "\n",
    "\n",
    "def evaluate(results, accuracy, f1):\n",
    "    \"\"\"\n",
    "    Visualization code to display results of various learners.\n",
    "    \n",
    "    inputs:\n",
    "      - learners: a list of supervised learners\n",
    "      - stats: a list of dictionaries of the statistic results from 'train_predict()'\n",
    "      - accuracy: The score for the naive predictor\n",
    "      - f1: The score for the naive predictor\n",
    "    \"\"\"\n",
    "  \n",
    "    # Create figure\n",
    "    fig, ax = pl.subplots(2, 3, figsize = (12,10))\n",
    "\n",
    "    # Constants\n",
    "    bar_width = 0.3\n",
    "    colors = ['#A00000','#00A0A0','#00A000']\n",
    "    \n",
    "    # Super loop to plot four panels of data\n",
    "    for k, learner in enumerate(results.keys()):\n",
    "        for j, metric in enumerate(['train_time', 'acc_train', 'f_train', 'pred_time', 'acc_test', 'f_test']):\n",
    "            for i in np.arange(3):\n",
    "                \n",
    "                # Creative plot code\n",
    "                ax[j//3, j%3].bar(i+k*bar_width, results[learner][i][metric], width = bar_width, color = colors[k])\n",
    "                ax[j//3, j%3].set_xticks([0.45, 1.45, 2.45])\n",
    "                ax[j//3, j%3].set_xticklabels([\"1%\", \"10%\", \"100%\"])\n",
    "                ax[j//3, j%3].set_xlabel(\"Training Set Size\")\n",
    "                ax[j//3, j%3].set_xlim((-0.1, 3.0))\n",
    "    \n",
    "    # Add unique y-labels\n",
    "    ax[0, 0].set_ylabel(\"Time (in seconds)\")\n",
    "    ax[0, 1].set_ylabel(\"Accuracy Score\")\n",
    "    ax[0, 2].set_ylabel(\"F-score\")\n",
    "    ax[1, 0].set_ylabel(\"Time (in seconds)\")\n",
    "    ax[1, 1].set_ylabel(\"Accuracy Score\")\n",
    "    ax[1, 2].set_ylabel(\"F-score\")\n",
    "    \n",
    "    # Add titles\n",
    "    ax[0, 0].set_title(\"Model Training\")\n",
    "    ax[0, 1].set_title(\"Accuracy Score on Training Subset\")\n",
    "    ax[0, 2].set_title(\"F-score on Training Subset\")\n",
    "    ax[1, 0].set_title(\"Model Predicting\")\n",
    "    ax[1, 1].set_title(\"Accuracy Score on Testing Set\")\n",
    "    ax[1, 2].set_title(\"F-score on Testing Set\")\n",
    "    \n",
    "    # Add horizontal lines for naive predictors\n",
    "    ax[0, 1].axhline(y = accuracy, xmin = -0.1, xmax = 3.0, linewidth = 1, color = 'k', linestyle = 'dashed')\n",
    "    ax[1, 1].axhline(y = accuracy, xmin = -0.1, xmax = 3.0, linewidth = 1, color = 'k', linestyle = 'dashed')\n",
    "    ax[0, 2].axhline(y = f1, xmin = -0.1, xmax = 3.0, linewidth = 1, color = 'k', linestyle = 'dashed')\n",
    "    ax[1, 2].axhline(y = f1, xmin = -0.1, xmax = 3.0, linewidth = 1, color = 'k', linestyle = 'dashed')\n",
    "    \n",
    "    # Set y-limits for score panels\n",
    "    ax[0, 1].set_ylim((0, 1))\n",
    "    ax[0, 2].set_ylim((0, 1))\n",
    "    ax[1, 1].set_ylim((0, 1))\n",
    "    ax[1, 2].set_ylim((0, 1))\n",
    "\n",
    "    # Create patches for the legend\n",
    "    patches = []\n",
    "    for i, learner in enumerate(results.keys()):\n",
    "        patches.append(mpatches.Patch(color = colors[i], label = learner))\n",
    "    pl.legend(handles = patches, bbox_to_anchor = (-.80, 2.53), \\\n",
    "               loc = 'upper center', borderaxespad = 0., ncol = 3, fontsize = 'x-large')\n",
    "    \n",
    "    # Aesthetics\n",
    "    pl.suptitle(\"Performance Metrics for Three Supervised Learning Models\", fontsize = 16, y = 1.10)\n",
    "    pl.tight_layout()\n",
    "    pl.show()\n",
    "    \n",
    "\n",
    "def feature_plot(importances, X_train, y_train):\n",
    "    \n",
    "    # Display the five most important features\n",
    "    indices = np.argsort(importances)[::-1]\n",
    "    columns = X_train.columns.values[indices[:5]]\n",
    "    values = importances[indices][:5]\n",
    "\n",
    "    # Creat the plot\n",
    "    fig = pl.figure(figsize = (9,5))\n",
    "    pl.title(\"Normalized Weights for First Five Most Predictive Features\", fontsize = 16)\n",
    "    pl.bar(np.arange(5), values, width = 0.6, align=\"center\", color = '#00A000', \\\n",
    "          label = \"Feature Weight\")\n",
    "    pl.bar(np.arange(5) - 0.3, np.cumsum(values), width = 0.2, align = \"center\", color = '#00A0A0', \\\n",
    "          label = \"Cumulative Feature Weight\")\n",
    "    pl.xticks(np.arange(5), columns)\n",
    "    pl.xlim((-0.5, 4.5))\n",
    "    pl.ylabel(\"Weight\", fontsize = 12)\n",
    "    pl.xlabel(\"Feature\", fontsize = 12)\n",
    "    \n",
    "    pl.legend(loc = 'upper center')\n",
    "    pl.tight_layout()\n",
    "    pl.show()  "
   ]
  },
  {
   "cell_type": "markdown",
   "id": "0878f122",
   "metadata": {},
   "source": [
    "### Supervised Model performance"
   ]
  },
  {
   "cell_type": "code",
   "execution_count": null,
   "id": "30506eb9",
   "metadata": {},
   "outputs": [],
   "source": [
    "evaluate(results, accuracy, fscore)"
   ]
  },
  {
   "cell_type": "code",
   "execution_count": null,
   "id": "2a76ae11",
   "metadata": {},
   "outputs": [],
   "source": [
    "#Printing out the values\n",
    "for i in results.items():\n",
    "    print (i[0])\n",
    "    display(pd.DataFrame(i[1]).rename(columns={0:'1%', 1:'10%', 2:'100%'}))"
   ]
  },
  {
   "cell_type": "code",
   "execution_count": null,
   "id": "c905dad8",
   "metadata": {},
   "outputs": [],
   "source": [
    "from sklearn.metrics import confusion_matrix\n",
    "\n",
    "for i,model in enumerate([clf_dtree,clf_logreg, clf_svc]):\n",
    "    cm = confusion_matrix(y_test, model.predict(X_test))\n",
    "    cm = cm.astype('float') / cm.sum(axis=1)[:, np.newaxis] # normalize the data\n",
    "\n",
    "    # view with a heatmap\n",
    "    plt.figure(i)\n",
    "    sns.heatmap(cm, annot=True, annot_kws={\"size\":30}, \n",
    "            cmap='Blues', square=True, fmt='.3f')\n",
    "    plt.ylabel('True label')\n",
    "    plt.xlabel('Predicted label')\n",
    "    plt.title('Confusion matrix for:\\n{}'.format(model.__class__.__name__));"
   ]
  },
  {
   "cell_type": "markdown",
   "id": "50c6933d",
   "metadata": {},
   "source": [
    "### Extracting Feature Importance"
   ]
  },
  {
   "cell_type": "code",
   "execution_count": null,
   "id": "268f3103",
   "metadata": {},
   "outputs": [],
   "source": [
    "# TODO: Import a supervised learning model that has 'feature_importances_'\n",
    "\n",
    "# TODO: Train the supervised model on the training set \n",
    "model = AdaBoostClassifier().fit(X_train,y_train)\n",
    "\n",
    "# TODO: Extract the feature importances\n",
    "importances = model.feature_importances_\n",
    "\n",
    "# Plot\n",
    "feature_plot(importances, X_train, y_train)"
   ]
  }
 ],
 "metadata": {
  "interpreter": {
   "hash": "b58e2bc1572df468e5d42d3993d3ef1ccd4fafa9e984d7179347929f947a7c38"
  },
  "kernelspec": {
   "display_name": "Python 3",
   "language": "python",
   "name": "python3"
  },
  "language_info": {
   "codemirror_mode": {
    "name": "ipython",
    "version": 3
   },
   "file_extension": ".py",
   "mimetype": "text/x-python",
   "name": "python",
   "nbconvert_exporter": "python",
   "pygments_lexer": "ipython3",
   "version": "3.8.5"
  }
 },
 "nbformat": 4,
 "nbformat_minor": 5
}
