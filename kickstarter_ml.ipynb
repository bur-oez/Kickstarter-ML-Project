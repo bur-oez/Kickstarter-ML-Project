{
 "cells": [
  {
   "cell_type": "markdown",
   "id": "ebad1354",
   "metadata": {
    "tags": []
   },
   "source": [
    "# Kickstarter ML Project"
   ]
  },
  {
   "cell_type": "markdown",
   "id": "570c9704",
   "metadata": {},
   "source": [
    "## Preparation"
   ]
  },
  {
   "cell_type": "code",
   "execution_count": 2,
   "id": "2e587f21",
   "metadata": {},
   "outputs": [],
   "source": [
    "import pandas as pd\n",
    "import numpy as np\n",
    "import glob\n",
    "\n",
    "import sweetviz as sv\n",
    "import json"
   ]
  },
  {
   "cell_type": "markdown",
   "id": "d78bd766",
   "metadata": {},
   "source": [
    "### Load Data"
   ]
  },
  {
   "cell_type": "code",
   "execution_count": 3,
   "id": "f328d471",
   "metadata": {},
   "outputs": [],
   "source": [
    "# Load csv's and merge to a single dataframe\n",
    "\n",
    "path = \"/Users/bur.oez/neuefische/Kickstarter-ML-Project/data/*.csv\" # Burak's path\n",
    "#path = \"data/*.csv\" # Christian's path\n",
    "#path = \".../*.csv\"\" # Matthias's path\n",
    "\n",
    "all_files = glob.glob(path)\n",
    "df_raw = pd.concat((pd.read_csv(f) for f in all_files))"
   ]
  },
  {
   "cell_type": "markdown",
   "id": "ba05e37d",
   "metadata": {},
   "source": [
    "### Overview"
   ]
  },
  {
   "cell_type": "code",
   "execution_count": 4,
   "id": "c97ad1e3",
   "metadata": {},
   "outputs": [],
   "source": [
    "## Execute Sweetviz \n",
    "#my_report = sv.analyze(df_raw)\n",
    "#my_report.show_html() # Default arguments will generate to \"SWEETVIZ_REPORT.html\""
   ]
  },
  {
   "cell_type": "code",
   "execution_count": 5,
   "id": "6cb9b094",
   "metadata": {},
   "outputs": [
    {
     "data": {
      "text/plain": [
       "Index(['backers_count', 'blurb', 'category', 'converted_pledged_amount',\n",
       "       'country', 'created_at', 'creator', 'currency', 'currency_symbol',\n",
       "       'currency_trailing_code', 'current_currency', 'deadline',\n",
       "       'disable_communication', 'friends', 'fx_rate', 'goal', 'id',\n",
       "       'is_backing', 'is_starrable', 'is_starred', 'launched_at', 'location',\n",
       "       'name', 'permissions', 'photo', 'pledged', 'profile', 'slug',\n",
       "       'source_url', 'spotlight', 'staff_pick', 'state', 'state_changed_at',\n",
       "       'static_usd_rate', 'urls', 'usd_pledged', 'usd_type'],\n",
       "      dtype='object')"
      ]
     },
     "execution_count": 5,
     "metadata": {},
     "output_type": "execute_result"
    }
   ],
   "source": [
    "df_raw.columns"
   ]
  },
  {
   "cell_type": "markdown",
   "id": "7ff6d524",
   "metadata": {},
   "source": [
    "## Data Cleaning\n",
    "\n",
    "For safety, we operate on a copy of the data frame."
   ]
  },
  {
   "cell_type": "code",
   "execution_count": 6,
   "id": "72e06fdf",
   "metadata": {},
   "outputs": [],
   "source": [
    "df = df_raw.copy()"
   ]
  },
  {
   "cell_type": "markdown",
   "id": "97260058",
   "metadata": {},
   "source": [
    "For a basic feature analysis, we may focus on easily accessible features. Consequently, we drop the cols\n",
    "- `blurb`, `creator`, `slug`, `name` and `photo`, because they might only be exploitable through a semantic or context analysis,\n",
    "- `currency_symbol`, `currency_trailing_code`, because they are redundant,\n",
    "r a basic feature analysis, we may focus on easily accessible features. Consequently, we drop the cols\n",
    "- `blurb`, `creator`, `slug`, `name` and `photo`, because they might only be exploitable through a semantic or context analysis,\n",
    "- `currency_symbol`, `currency_trailing_code`, because they are redundant,\n",
    "- `friends`, ìs_starrable` and `permission`, because they do not contain any information,\n",
    "- `disable_communication`, `is_backing` and `is_starred`, because they have an entry only for the same 300 data points and it is questionable whether the missing entries may be treated as one category; later on we might try this with one of them and drop the other two,  \n",
    "- `urls`, `source_url` and `profile` because they do not contain additional information.\n",
    "- `spotlight` and `staff_pick` will be dropped, because the creator has no influence on Kickstarter Staff picks\n",
    "- `created_at`, `launched_at` and `state_changed_at` will be kept to calculate time-deltas for potential new features."
   ]
  },
  {
   "cell_type": "code",
   "execution_count": 7,
   "id": "b64a2cd1",
   "metadata": {},
   "outputs": [
    {
     "data": {
      "text/html": [
       "<div>\n",
       "<style scoped>\n",
       "    .dataframe tbody tr th:only-of-type {\n",
       "        vertical-align: middle;\n",
       "    }\n",
       "\n",
       "    .dataframe tbody tr th {\n",
       "        vertical-align: top;\n",
       "    }\n",
       "\n",
       "    .dataframe thead th {\n",
       "        text-align: right;\n",
       "    }\n",
       "</style>\n",
       "<table border=\"1\" class=\"dataframe\">\n",
       "  <thead>\n",
       "    <tr style=\"text-align: right;\">\n",
       "      <th></th>\n",
       "      <th>backers_count</th>\n",
       "      <th>category</th>\n",
       "      <th>converted_pledged_amount</th>\n",
       "      <th>country</th>\n",
       "      <th>created_at</th>\n",
       "      <th>currency</th>\n",
       "      <th>current_currency</th>\n",
       "      <th>deadline</th>\n",
       "      <th>fx_rate</th>\n",
       "      <th>goal</th>\n",
       "      <th>id</th>\n",
       "      <th>launched_at</th>\n",
       "      <th>location</th>\n",
       "      <th>pledged</th>\n",
       "      <th>state</th>\n",
       "      <th>state_changed_at</th>\n",
       "      <th>static_usd_rate</th>\n",
       "      <th>usd_pledged</th>\n",
       "    </tr>\n",
       "  </thead>\n",
       "  <tbody>\n",
       "    <tr>\n",
       "      <th>0</th>\n",
       "      <td>315</td>\n",
       "      <td>{\"id\":266,\"name\":\"Footwear\",\"slug\":\"fashion/fo...</td>\n",
       "      <td>28645</td>\n",
       "      <td>US</td>\n",
       "      <td>1541459205</td>\n",
       "      <td>USD</td>\n",
       "      <td>USD</td>\n",
       "      <td>1552539775</td>\n",
       "      <td>1.000000</td>\n",
       "      <td>28000.0</td>\n",
       "      <td>2108505034</td>\n",
       "      <td>1548223375</td>\n",
       "      <td>{\"id\":2462429,\"name\":\"Novato\",\"slug\":\"novato-c...</td>\n",
       "      <td>28645.0</td>\n",
       "      <td>live</td>\n",
       "      <td>1548223375</td>\n",
       "      <td>1.000000</td>\n",
       "      <td>28645.000000</td>\n",
       "    </tr>\n",
       "    <tr>\n",
       "      <th>1</th>\n",
       "      <td>47</td>\n",
       "      <td>{\"id\":273,\"name\":\"Playing Cards\",\"slug\":\"games...</td>\n",
       "      <td>1950</td>\n",
       "      <td>US</td>\n",
       "      <td>1501684093</td>\n",
       "      <td>USD</td>\n",
       "      <td>USD</td>\n",
       "      <td>1504976459</td>\n",
       "      <td>1.000000</td>\n",
       "      <td>1000.0</td>\n",
       "      <td>928751314</td>\n",
       "      <td>1502384459</td>\n",
       "      <td>{\"id\":2400549,\"name\":\"Euless\",\"slug\":\"euless-t...</td>\n",
       "      <td>1950.0</td>\n",
       "      <td>successful</td>\n",
       "      <td>1504976459</td>\n",
       "      <td>1.000000</td>\n",
       "      <td>1950.000000</td>\n",
       "    </tr>\n",
       "    <tr>\n",
       "      <th>2</th>\n",
       "      <td>271</td>\n",
       "      <td>{\"id\":43,\"name\":\"Rock\",\"slug\":\"music/rock\",\"po...</td>\n",
       "      <td>22404</td>\n",
       "      <td>US</td>\n",
       "      <td>1348987533</td>\n",
       "      <td>USD</td>\n",
       "      <td>USD</td>\n",
       "      <td>1371013395</td>\n",
       "      <td>1.000000</td>\n",
       "      <td>15000.0</td>\n",
       "      <td>928014092</td>\n",
       "      <td>1368421395</td>\n",
       "      <td>{\"id\":2423474,\"name\":\"Hollywood\",\"slug\":\"holly...</td>\n",
       "      <td>22404.0</td>\n",
       "      <td>successful</td>\n",
       "      <td>1371013395</td>\n",
       "      <td>1.000000</td>\n",
       "      <td>22404.000000</td>\n",
       "    </tr>\n",
       "    <tr>\n",
       "      <th>3</th>\n",
       "      <td>3</td>\n",
       "      <td>{\"id\":273,\"name\":\"Playing Cards\",\"slug\":\"games...</td>\n",
       "      <td>165</td>\n",
       "      <td>GB</td>\n",
       "      <td>1483780271</td>\n",
       "      <td>GBP</td>\n",
       "      <td>USD</td>\n",
       "      <td>1489425776</td>\n",
       "      <td>1.308394</td>\n",
       "      <td>10000.0</td>\n",
       "      <td>596091328</td>\n",
       "      <td>1484245376</td>\n",
       "      <td>{\"id\":475457,\"name\":\"Kaunas\",\"slug\":\"kaunas-ka...</td>\n",
       "      <td>136.0</td>\n",
       "      <td>failed</td>\n",
       "      <td>1489425776</td>\n",
       "      <td>1.216066</td>\n",
       "      <td>165.384934</td>\n",
       "    </tr>\n",
       "    <tr>\n",
       "      <th>4</th>\n",
       "      <td>3</td>\n",
       "      <td>{\"id\":48,\"name\":\"Nonfiction\",\"slug\":\"publishin...</td>\n",
       "      <td>2820</td>\n",
       "      <td>US</td>\n",
       "      <td>1354817071</td>\n",
       "      <td>USD</td>\n",
       "      <td>USD</td>\n",
       "      <td>1357763527</td>\n",
       "      <td>1.000000</td>\n",
       "      <td>2800.0</td>\n",
       "      <td>998516049</td>\n",
       "      <td>1355171527</td>\n",
       "      <td>{\"id\":2507703,\"name\":\"Traverse City\",\"slug\":\"t...</td>\n",
       "      <td>2820.0</td>\n",
       "      <td>successful</td>\n",
       "      <td>1357763527</td>\n",
       "      <td>1.000000</td>\n",
       "      <td>2820.000000</td>\n",
       "    </tr>\n",
       "  </tbody>\n",
       "</table>\n",
       "</div>"
      ],
      "text/plain": [
       "   backers_count                                           category  \\\n",
       "0            315  {\"id\":266,\"name\":\"Footwear\",\"slug\":\"fashion/fo...   \n",
       "1             47  {\"id\":273,\"name\":\"Playing Cards\",\"slug\":\"games...   \n",
       "2            271  {\"id\":43,\"name\":\"Rock\",\"slug\":\"music/rock\",\"po...   \n",
       "3              3  {\"id\":273,\"name\":\"Playing Cards\",\"slug\":\"games...   \n",
       "4              3  {\"id\":48,\"name\":\"Nonfiction\",\"slug\":\"publishin...   \n",
       "\n",
       "   converted_pledged_amount country  created_at currency current_currency  \\\n",
       "0                     28645      US  1541459205      USD              USD   \n",
       "1                      1950      US  1501684093      USD              USD   \n",
       "2                     22404      US  1348987533      USD              USD   \n",
       "3                       165      GB  1483780271      GBP              USD   \n",
       "4                      2820      US  1354817071      USD              USD   \n",
       "\n",
       "     deadline   fx_rate     goal          id  launched_at  \\\n",
       "0  1552539775  1.000000  28000.0  2108505034   1548223375   \n",
       "1  1504976459  1.000000   1000.0   928751314   1502384459   \n",
       "2  1371013395  1.000000  15000.0   928014092   1368421395   \n",
       "3  1489425776  1.308394  10000.0   596091328   1484245376   \n",
       "4  1357763527  1.000000   2800.0   998516049   1355171527   \n",
       "\n",
       "                                            location  pledged       state  \\\n",
       "0  {\"id\":2462429,\"name\":\"Novato\",\"slug\":\"novato-c...  28645.0        live   \n",
       "1  {\"id\":2400549,\"name\":\"Euless\",\"slug\":\"euless-t...   1950.0  successful   \n",
       "2  {\"id\":2423474,\"name\":\"Hollywood\",\"slug\":\"holly...  22404.0  successful   \n",
       "3  {\"id\":475457,\"name\":\"Kaunas\",\"slug\":\"kaunas-ka...    136.0      failed   \n",
       "4  {\"id\":2507703,\"name\":\"Traverse City\",\"slug\":\"t...   2820.0  successful   \n",
       "\n",
       "   state_changed_at  static_usd_rate   usd_pledged  \n",
       "0        1548223375         1.000000  28645.000000  \n",
       "1        1504976459         1.000000   1950.000000  \n",
       "2        1371013395         1.000000  22404.000000  \n",
       "3        1489425776         1.216066    165.384934  \n",
       "4        1357763527         1.000000   2820.000000  "
      ]
     },
     "execution_count": 7,
     "metadata": {},
     "output_type": "execute_result"
    }
   ],
   "source": [
    "# dropping columns\n",
    "df = df.drop([\"blurb\", \"creator\", \"slug\", \"name\", \"photo\", \"currency_symbol\", \"currency_trailing_code\", \"friends\", \"permissions\", \"disable_communication\", \"is_backing\", \"is_starred\",\"urls\", \"source_url\", \"profile\", \"usd_type\", \"spotlight\", \"staff_pick\",\"is_starrable\"], axis = 1)\n",
    "df.head()"
   ]
  },
  {
   "cell_type": "markdown",
   "id": "0e3b97ec",
   "metadata": {},
   "source": [
    "Extract field and subfield ids from `category` (id and parent_id):"
   ]
  },
  {
   "cell_type": "code",
   "execution_count": 8,
   "id": "6700b89b",
   "metadata": {},
   "outputs": [],
   "source": [
    "import ast\n",
    "df.category =[ ast.literal_eval(x) for x in df.iloc[:,df.columns.tolist().index(\"category\")]]"
   ]
  },
  {
   "cell_type": "code",
   "execution_count": 9,
   "id": "581d333b",
   "metadata": {},
   "outputs": [
    {
     "data": {
      "text/plain": [
       "9041"
      ]
     },
     "execution_count": 9,
     "metadata": {},
     "output_type": "execute_result"
    }
   ],
   "source": [
    "# checking which rows do not contain \"parent_id\" inside category dictionary\n",
    "cat_list_parent_id = np.array([\"parent_id\" not in df.category.iloc[x].keys() for x in range(0,len(df.category))])\n",
    "cat_list_parent_id.sum()"
   ]
  },
  {
   "cell_type": "code",
   "execution_count": 10,
   "id": "f8d325b8",
   "metadata": {},
   "outputs": [
    {
     "data": {
      "text/html": [
       "<div>\n",
       "<style scoped>\n",
       "    .dataframe tbody tr th:only-of-type {\n",
       "        vertical-align: middle;\n",
       "    }\n",
       "\n",
       "    .dataframe tbody tr th {\n",
       "        vertical-align: top;\n",
       "    }\n",
       "\n",
       "    .dataframe thead th {\n",
       "        text-align: right;\n",
       "    }\n",
       "</style>\n",
       "<table border=\"1\" class=\"dataframe\">\n",
       "  <thead>\n",
       "    <tr style=\"text-align: right;\">\n",
       "      <th></th>\n",
       "      <th>backers_count</th>\n",
       "      <th>category</th>\n",
       "      <th>converted_pledged_amount</th>\n",
       "      <th>country</th>\n",
       "      <th>created_at</th>\n",
       "      <th>currency</th>\n",
       "      <th>current_currency</th>\n",
       "      <th>deadline</th>\n",
       "      <th>fx_rate</th>\n",
       "      <th>goal</th>\n",
       "      <th>id</th>\n",
       "      <th>launched_at</th>\n",
       "      <th>location</th>\n",
       "      <th>pledged</th>\n",
       "      <th>state</th>\n",
       "      <th>state_changed_at</th>\n",
       "      <th>static_usd_rate</th>\n",
       "      <th>usd_pledged</th>\n",
       "    </tr>\n",
       "  </thead>\n",
       "  <tbody>\n",
       "    <tr>\n",
       "      <th>7</th>\n",
       "      <td>33</td>\n",
       "      <td>{'id': 14, 'name': 'Music', 'slug': 'music', '...</td>\n",
       "      <td>660</td>\n",
       "      <td>US</td>\n",
       "      <td>1546965483</td>\n",
       "      <td>USD</td>\n",
       "      <td>USD</td>\n",
       "      <td>1550067305</td>\n",
       "      <td>1.000000</td>\n",
       "      <td>400.0</td>\n",
       "      <td>1481360049</td>\n",
       "      <td>1547475305</td>\n",
       "      <td>{\"id\":2430903,\"name\":\"Kaysville\",\"slug\":\"kaysv...</td>\n",
       "      <td>660.0</td>\n",
       "      <td>successful</td>\n",
       "      <td>1550067307</td>\n",
       "      <td>1.000000</td>\n",
       "      <td>660.000000</td>\n",
       "    </tr>\n",
       "    <tr>\n",
       "      <th>25</th>\n",
       "      <td>74</td>\n",
       "      <td>{'id': 15, 'name': 'Photography', 'slug': 'pho...</td>\n",
       "      <td>2808</td>\n",
       "      <td>GB</td>\n",
       "      <td>1542202969</td>\n",
       "      <td>GBP</td>\n",
       "      <td>USD</td>\n",
       "      <td>1544200381</td>\n",
       "      <td>1.308394</td>\n",
       "      <td>2000.0</td>\n",
       "      <td>865110410</td>\n",
       "      <td>1542385981</td>\n",
       "      <td>{\"id\":12056,\"name\":\"Bath\",\"slug\":\"bath-gb\",\"sh...</td>\n",
       "      <td>2199.0</td>\n",
       "      <td>successful</td>\n",
       "      <td>1544200381</td>\n",
       "      <td>1.301163</td>\n",
       "      <td>2861.258251</td>\n",
       "    </tr>\n",
       "    <tr>\n",
       "      <th>27</th>\n",
       "      <td>41</td>\n",
       "      <td>{'id': 9, 'name': 'Fashion', 'slug': 'fashion'...</td>\n",
       "      <td>21161</td>\n",
       "      <td>GB</td>\n",
       "      <td>1551345787</td>\n",
       "      <td>GBP</td>\n",
       "      <td>CAD</td>\n",
       "      <td>1554490790</td>\n",
       "      <td>1.748586</td>\n",
       "      <td>20000.0</td>\n",
       "      <td>1889386358</td>\n",
       "      <td>1551898790</td>\n",
       "      <td>{\"id\":40611,\"name\":\"Winchester\",\"slug\":\"winche...</td>\n",
       "      <td>12102.0</td>\n",
       "      <td>live</td>\n",
       "      <td>1551898791</td>\n",
       "      <td>1.315996</td>\n",
       "      <td>15926.177904</td>\n",
       "    </tr>\n",
       "  </tbody>\n",
       "</table>\n",
       "</div>"
      ],
      "text/plain": [
       "    backers_count                                           category  \\\n",
       "7              33  {'id': 14, 'name': 'Music', 'slug': 'music', '...   \n",
       "25             74  {'id': 15, 'name': 'Photography', 'slug': 'pho...   \n",
       "27             41  {'id': 9, 'name': 'Fashion', 'slug': 'fashion'...   \n",
       "\n",
       "    converted_pledged_amount country  created_at currency current_currency  \\\n",
       "7                        660      US  1546965483      USD              USD   \n",
       "25                      2808      GB  1542202969      GBP              USD   \n",
       "27                     21161      GB  1551345787      GBP              CAD   \n",
       "\n",
       "      deadline   fx_rate     goal          id  launched_at  \\\n",
       "7   1550067305  1.000000    400.0  1481360049   1547475305   \n",
       "25  1544200381  1.308394   2000.0   865110410   1542385981   \n",
       "27  1554490790  1.748586  20000.0  1889386358   1551898790   \n",
       "\n",
       "                                             location  pledged       state  \\\n",
       "7   {\"id\":2430903,\"name\":\"Kaysville\",\"slug\":\"kaysv...    660.0  successful   \n",
       "25  {\"id\":12056,\"name\":\"Bath\",\"slug\":\"bath-gb\",\"sh...   2199.0  successful   \n",
       "27  {\"id\":40611,\"name\":\"Winchester\",\"slug\":\"winche...  12102.0        live   \n",
       "\n",
       "    state_changed_at  static_usd_rate   usd_pledged  \n",
       "7         1550067307         1.000000    660.000000  \n",
       "25        1544200381         1.301163   2861.258251  \n",
       "27        1551898791         1.315996  15926.177904  "
      ]
     },
     "execution_count": 10,
     "metadata": {},
     "output_type": "execute_result"
    }
   ],
   "source": [
    "df[cat_list_parent_id].iloc[0:3]"
   ]
  },
  {
   "cell_type": "code",
   "execution_count": 11,
   "id": "027f778c",
   "metadata": {},
   "outputs": [
    {
     "data": {
      "text/plain": [
       "{'id': 266,\n",
       " 'name': 'Footwear',\n",
       " 'slug': 'fashion/footwear',\n",
       " 'position': 5,\n",
       " 'parent_id': 9,\n",
       " 'color': 16752598,\n",
       " 'urls': {'web': {'discover': 'http://www.kickstarter.com/discover/categories/fashion/footwear'}}}"
      ]
     },
     "execution_count": 11,
     "metadata": {},
     "output_type": "execute_result"
    }
   ],
   "source": [
    "df.category.iloc[0]"
   ]
  },
  {
   "cell_type": "markdown",
   "id": "89221418",
   "metadata": {},
   "source": [
    "The `id` column represents each subcategory. `parent_id` represents each parent category, since the values for `id` start after `parent_id` values, we will use `id` to seperate each project into categories.\n",
    "\n",
    "e `id` column represents each subcategory. `parent_id` represents each parent category, since the values for `id` start after `parent_id` values, we will use `id` to seperate each project into categories.\n",
    "\n",
    "To projects without proper subcategorisation the `parent_id` is assigned. In addition `slug`is added for increased readability."
   ]
  },
  {
   "cell_type": "code",
   "execution_count": 12,
   "id": "3c9eba10",
   "metadata": {},
   "outputs": [],
   "source": [
    "df[\"cat_id\"] = [df.category.iloc[x][\"id\"] for x in range(0,len(df.category))]\n",
    "df[\"slug\"] = [df.category.iloc[x][\"slug\"] for x in range(0,len(df.category))]\n",
    "categories = df.pop(\"category\")"
   ]
  },
  {
   "cell_type": "code",
   "execution_count": 13,
   "id": "a55a35c1",
   "metadata": {},
   "outputs": [
    {
     "name": "stdout",
     "output_type": "stream",
     "text": [
      "   backers_count  converted_pledged_amount country  created_at currency  \\\n",
      "0            315                     28645      US  1541459205      USD   \n",
      "1             47                      1950      US  1501684093      USD   \n",
      "2            271                     22404      US  1348987533      USD   \n",
      "\n",
      "  current_currency    deadline  fx_rate     goal          id  launched_at  \\\n",
      "0              USD  1552539775      1.0  28000.0  2108505034   1548223375   \n",
      "1              USD  1504976459      1.0   1000.0   928751314   1502384459   \n",
      "2              USD  1371013395      1.0  15000.0   928014092   1368421395   \n",
      "\n",
      "                                            location  pledged       state  \\\n",
      "0  {\"id\":2462429,\"name\":\"Novato\",\"slug\":\"novato-c...  28645.0        live   \n",
      "1  {\"id\":2400549,\"name\":\"Euless\",\"slug\":\"euless-t...   1950.0  successful   \n",
      "2  {\"id\":2423474,\"name\":\"Hollywood\",\"slug\":\"holly...  22404.0  successful   \n",
      "\n",
      "   state_changed_at  static_usd_rate  usd_pledged  cat_id                 slug  \n",
      "0        1548223375              1.0      28645.0     266     fashion/footwear  \n",
      "1        1504976459              1.0       1950.0     273  games/playing cards  \n",
      "2        1371013395              1.0      22404.0      43           music/rock  \n",
      "(209222, 19)\n"
     ]
    }
   ],
   "source": [
    "print(df.head(3))\n",
    "print(df.shape)"
   ]
  },
  {
   "cell_type": "code",
   "execution_count": 14,
   "id": "0a6d76b9",
   "metadata": {},
   "outputs": [
    {
     "name": "stdout",
     "output_type": "stream",
     "text": [
      "pledged * static_usd_rate == usd_pledged\n",
      "True     193838\n",
      "False     15384\n",
      "dtype: int64\n",
      "pledged * fx_rate == usd_pledged\n",
      "True     153961\n",
      "False     55261\n",
      "dtype: int64\n",
      "converted_pledged_amount == usd_pledged\n",
      "True     140490\n",
      "False     68732\n",
      "dtype: int64\n",
      "pledged * static_usd_rate == converted_pledged_amount\n",
      "True     140490\n",
      "False     68732\n",
      "dtype: int64\n",
      "pledged * fx_rate == converted_pledged_amount\n",
      "True     140473\n",
      "False     68749\n",
      "dtype: int64\n"
     ]
    }
   ],
   "source": [
    "# check if currency - USD conversion with fx_rate and static_usd_rate matches usd_pledged value\n",
    "print(\"pledged * static_usd_rate == usd_pledged\")\n",
    "print(df.eval(\"pledged * static_usd_rate == usd_pledged\").value_counts())\n",
    "print(\"pledged * fx_rate == usd_pledged\")\n",
    "print(df.eval(\"pledged * fx_rate == usd_pledged\").value_counts())\n",
    "print(\"converted_pledged_amount == usd_pledged\")\n",
    "print(df.eval(\"converted_pledged_amount == usd_pledged\").value_counts())\n",
    "print(\"pledged * static_usd_rate == converted_pledged_amount\")\n",
    "print(df.eval(\"pledged * static_usd_rate == converted_pledged_amount\").value_counts())\n",
    "print(\"pledged * fx_rate == converted_pledged_amount\")\n",
    "print(df.eval(\"pledged * fx_rate == converted_pledged_amount\").value_counts())"
   ]
  },
  {
   "cell_type": "code",
   "execution_count": 15,
   "id": "4fcaa39f",
   "metadata": {},
   "outputs": [
    {
     "name": "stdout",
     "output_type": "stream",
     "text": [
      "False    190860\n",
      "True      18362\n",
      "dtype: int64\n"
     ]
    }
   ],
   "source": [
    "print(df.eval(\"converted_pledged_amount == pledged + usd_pledged\").value_counts())"
   ]
  },
  {
   "cell_type": "markdown",
   "id": "4f1744f3",
   "metadata": {},
   "source": [
    "The values in `usd_pledged` do not match with the conversion of `pledged` using `fx_rate` or `static_usd_rate`. \n",
    "\n",
    "We decided to take the max value for these columns as the correct amount."
   ]
  },
  {
   "cell_type": "code",
   "execution_count": 16,
   "id": "481639e1",
   "metadata": {},
   "outputs": [],
   "source": [
    "# checking whether pledged, usd_pledged or converted_pledged_amount has the highest values\n",
    "df[\"max_pledged\"] = [max(df.pledged.iloc[x], \n",
    "df.usd_pledged.iloc[x], \n",
    "df.converted_pledged_amount.iloc[x]) for x in range(0,len(df))]\n",
    "df = df.drop([\"usd_pledged\", \"pledged\", \"converted_pledged_amount\"], axis = 1)"
   ]
  },
  {
   "cell_type": "code",
   "execution_count": 17,
   "id": "dafc9620",
   "metadata": {},
   "outputs": [],
   "source": [
    "# in addition all other currency info can also be dropped\n",
    "df = df.drop([\"static_usd_rate\", \"fx_rate\", \"currency\", \"current_currency\"], axis = 1)"
   ]
  },
  {
   "cell_type": "code",
   "execution_count": 18,
   "id": "66cbb5b1",
   "metadata": {},
   "outputs": [
    {
     "name": "stdout",
     "output_type": "stream",
     "text": [
      "(209222, 13)\n"
     ]
    }
   ],
   "source": [
    "# set checkpoint\n",
    "df2 = df.copy()\n",
    "df.head(2)\n",
    "print(df.shape)"
   ]
  },
  {
   "cell_type": "markdown",
   "id": "063ebff6",
   "metadata": {},
   "source": [
    "Now we will check whether `live` projects have met their goal and can be considered as `succesful`\n"
   ]
  },
  {
   "cell_type": "code",
   "execution_count": 19,
   "id": "67bf4df6",
   "metadata": {},
   "outputs": [
    {
     "data": {
      "text/plain": [
       "Series([], Name: state, dtype: object)"
      ]
     },
     "execution_count": 19,
     "metadata": {},
     "output_type": "execute_result"
    }
   ],
   "source": [
    "df.loc[df['max_pledged'] >= df.goal, 'state'] = \"successful\"\n",
    "#check whether there are live:successsful projects left\n",
    "df.query(\"state == 'live' and max_pledged >= goal\").state"
   ]
  },
  {
   "cell_type": "markdown",
   "id": "7577b039",
   "metadata": {},
   "source": [
    "Now we will drop all entries, which are not `successful` or `failed`\n"
   ]
  },
  {
   "cell_type": "code",
   "execution_count": 20,
   "id": "e8aa249e",
   "metadata": {},
   "outputs": [
    {
     "data": {
      "text/plain": [
       "successful    119839\n",
       "failed         75108\n",
       "canceled        8456\n",
       "live            5277\n",
       "suspended        542\n",
       "Name: state, dtype: int64"
      ]
     },
     "execution_count": 20,
     "metadata": {},
     "output_type": "execute_result"
    }
   ],
   "source": [
    "df.state.value_counts()"
   ]
  },
  {
   "cell_type": "code",
   "execution_count": 21,
   "id": "fc31717b",
   "metadata": {},
   "outputs": [
    {
     "data": {
      "text/plain": [
       "array(['successful', 'failed'], dtype=object)"
      ]
     },
     "execution_count": 21,
     "metadata": {},
     "output_type": "execute_result"
    }
   ],
   "source": [
    "df = df[df.state != \"canceled\"]\n",
    "df = df[df.state != \"suspended\"]\n",
    "df = df[df.state != \"live\"]\n",
    "df.state.unique()"
   ]
  },
  {
   "cell_type": "code",
   "execution_count": 22,
   "id": "5d6307e1",
   "metadata": {},
   "outputs": [
    {
     "data": {
      "text/plain": [
       "(194947, 13)"
      ]
     },
     "execution_count": 22,
     "metadata": {},
     "output_type": "execute_result"
    }
   ],
   "source": [
    "df.shape"
   ]
  },
  {
   "cell_type": "markdown",
   "id": "5a220080",
   "metadata": {},
   "source": [
    "Sort `countries` into categories US, NA, SEA, GB, ANZ, JP, EU:"
   ]
  },
  {
   "cell_type": "code",
   "execution_count": 23,
   "id": "257ab606",
   "metadata": {},
   "outputs": [
    {
     "data": {
      "text/plain": [
       "array(['US', 'GB', 'FR', 'AU', 'NZ', 'ES', 'IT', 'NO', 'NL', 'CA', 'SG',\n",
       "       'MX', 'SE', 'IE', 'DE', 'BE', 'HK', 'AT', 'JP', 'DK', 'CH', 'LU'],\n",
       "      dtype=object)"
      ]
     },
     "execution_count": 23,
     "metadata": {},
     "output_type": "execute_result"
    }
   ],
   "source": [
    "pd.unique(df.country)"
   ]
  },
  {
   "cell_type": "code",
   "execution_count": 24,
   "id": "bd15bc43",
   "metadata": {},
   "outputs": [],
   "source": [
    "df.country.replace({'HK':\"SEA\", 'NL':\"EU\", 'AU':\"ANZ\", 'DE':\"EU\", \"CA\":\"NA\", 'SE':\"EU\",\n",
    "                    'BE':\"EU\", 'MX':\"NA\", 'CH':\"EU\", 'SG':\"SEA\", 'FR':\"EU\", 'IT':\"EU\",\n",
    "                    'DK':\"EU\", 'LU':\"EU\", 'NO':\"EU\", 'ES':\"EU\", 'IE':\"EU\", 'NZ':\"ANZ\", \n",
    "                    'AT':\"EU\"}, inplace = True)"
   ]
  },
  {
   "cell_type": "markdown",
   "id": "c5a468c8",
   "metadata": {},
   "source": [
    "Turn entries of `created_at`, `launched`, `deadline` into datetime:"
   ]
  },
  {
   "cell_type": "code",
   "execution_count": 25,
   "id": "5d1c1f94",
   "metadata": {},
   "outputs": [
    {
     "data": {
      "text/html": [
       "<div>\n",
       "<style scoped>\n",
       "    .dataframe tbody tr th:only-of-type {\n",
       "        vertical-align: middle;\n",
       "    }\n",
       "\n",
       "    .dataframe tbody tr th {\n",
       "        vertical-align: top;\n",
       "    }\n",
       "\n",
       "    .dataframe thead th {\n",
       "        text-align: right;\n",
       "    }\n",
       "</style>\n",
       "<table border=\"1\" class=\"dataframe\">\n",
       "  <thead>\n",
       "    <tr style=\"text-align: right;\">\n",
       "      <th></th>\n",
       "      <th>backers_count</th>\n",
       "      <th>country</th>\n",
       "      <th>created_at</th>\n",
       "      <th>deadline</th>\n",
       "      <th>goal</th>\n",
       "      <th>id</th>\n",
       "      <th>launched_at</th>\n",
       "      <th>location</th>\n",
       "      <th>state</th>\n",
       "      <th>state_changed_at</th>\n",
       "      <th>cat_id</th>\n",
       "      <th>slug</th>\n",
       "      <th>max_pledged</th>\n",
       "    </tr>\n",
       "  </thead>\n",
       "  <tbody>\n",
       "    <tr>\n",
       "      <th>0</th>\n",
       "      <td>315</td>\n",
       "      <td>US</td>\n",
       "      <td>2018-11-05 23:06:45</td>\n",
       "      <td>2019-03-14 05:02:55</td>\n",
       "      <td>28000.0</td>\n",
       "      <td>2108505034</td>\n",
       "      <td>2019-01-23 06:02:55</td>\n",
       "      <td>{\"id\":2462429,\"name\":\"Novato\",\"slug\":\"novato-c...</td>\n",
       "      <td>successful</td>\n",
       "      <td>2019-01-23 06:02:55</td>\n",
       "      <td>266</td>\n",
       "      <td>fashion/footwear</td>\n",
       "      <td>28645.000000</td>\n",
       "    </tr>\n",
       "    <tr>\n",
       "      <th>1</th>\n",
       "      <td>47</td>\n",
       "      <td>US</td>\n",
       "      <td>2017-08-02 14:28:13</td>\n",
       "      <td>2017-09-09 17:00:59</td>\n",
       "      <td>1000.0</td>\n",
       "      <td>928751314</td>\n",
       "      <td>2017-08-10 17:00:59</td>\n",
       "      <td>{\"id\":2400549,\"name\":\"Euless\",\"slug\":\"euless-t...</td>\n",
       "      <td>successful</td>\n",
       "      <td>2017-09-09 17:00:59</td>\n",
       "      <td>273</td>\n",
       "      <td>games/playing cards</td>\n",
       "      <td>1950.000000</td>\n",
       "    </tr>\n",
       "    <tr>\n",
       "      <th>2</th>\n",
       "      <td>271</td>\n",
       "      <td>US</td>\n",
       "      <td>2012-09-30 06:45:33</td>\n",
       "      <td>2013-06-12 05:03:15</td>\n",
       "      <td>15000.0</td>\n",
       "      <td>928014092</td>\n",
       "      <td>2013-05-13 05:03:15</td>\n",
       "      <td>{\"id\":2423474,\"name\":\"Hollywood\",\"slug\":\"holly...</td>\n",
       "      <td>successful</td>\n",
       "      <td>2013-06-12 05:03:15</td>\n",
       "      <td>43</td>\n",
       "      <td>music/rock</td>\n",
       "      <td>22404.000000</td>\n",
       "    </tr>\n",
       "    <tr>\n",
       "      <th>3</th>\n",
       "      <td>3</td>\n",
       "      <td>GB</td>\n",
       "      <td>2017-01-07 09:11:11</td>\n",
       "      <td>2017-03-13 17:22:56</td>\n",
       "      <td>10000.0</td>\n",
       "      <td>596091328</td>\n",
       "      <td>2017-01-12 18:22:56</td>\n",
       "      <td>{\"id\":475457,\"name\":\"Kaunas\",\"slug\":\"kaunas-ka...</td>\n",
       "      <td>failed</td>\n",
       "      <td>2017-03-13 17:22:56</td>\n",
       "      <td>273</td>\n",
       "      <td>games/playing cards</td>\n",
       "      <td>165.384934</td>\n",
       "    </tr>\n",
       "    <tr>\n",
       "      <th>4</th>\n",
       "      <td>3</td>\n",
       "      <td>US</td>\n",
       "      <td>2012-12-06 18:04:31</td>\n",
       "      <td>2013-01-09 20:32:07</td>\n",
       "      <td>2800.0</td>\n",
       "      <td>998516049</td>\n",
       "      <td>2012-12-10 20:32:07</td>\n",
       "      <td>{\"id\":2507703,\"name\":\"Traverse City\",\"slug\":\"t...</td>\n",
       "      <td>successful</td>\n",
       "      <td>2013-01-09 20:32:07</td>\n",
       "      <td>48</td>\n",
       "      <td>publishing/nonfiction</td>\n",
       "      <td>2820.000000</td>\n",
       "    </tr>\n",
       "  </tbody>\n",
       "</table>\n",
       "</div>"
      ],
      "text/plain": [
       "   backers_count country          created_at            deadline     goal  \\\n",
       "0            315      US 2018-11-05 23:06:45 2019-03-14 05:02:55  28000.0   \n",
       "1             47      US 2017-08-02 14:28:13 2017-09-09 17:00:59   1000.0   \n",
       "2            271      US 2012-09-30 06:45:33 2013-06-12 05:03:15  15000.0   \n",
       "3              3      GB 2017-01-07 09:11:11 2017-03-13 17:22:56  10000.0   \n",
       "4              3      US 2012-12-06 18:04:31 2013-01-09 20:32:07   2800.0   \n",
       "\n",
       "           id         launched_at  \\\n",
       "0  2108505034 2019-01-23 06:02:55   \n",
       "1   928751314 2017-08-10 17:00:59   \n",
       "2   928014092 2013-05-13 05:03:15   \n",
       "3   596091328 2017-01-12 18:22:56   \n",
       "4   998516049 2012-12-10 20:32:07   \n",
       "\n",
       "                                            location       state  \\\n",
       "0  {\"id\":2462429,\"name\":\"Novato\",\"slug\":\"novato-c...  successful   \n",
       "1  {\"id\":2400549,\"name\":\"Euless\",\"slug\":\"euless-t...  successful   \n",
       "2  {\"id\":2423474,\"name\":\"Hollywood\",\"slug\":\"holly...  successful   \n",
       "3  {\"id\":475457,\"name\":\"Kaunas\",\"slug\":\"kaunas-ka...      failed   \n",
       "4  {\"id\":2507703,\"name\":\"Traverse City\",\"slug\":\"t...  successful   \n",
       "\n",
       "     state_changed_at  cat_id                   slug   max_pledged  \n",
       "0 2019-01-23 06:02:55     266       fashion/footwear  28645.000000  \n",
       "1 2017-09-09 17:00:59     273    games/playing cards   1950.000000  \n",
       "2 2013-06-12 05:03:15      43             music/rock  22404.000000  \n",
       "3 2017-03-13 17:22:56     273    games/playing cards    165.384934  \n",
       "4 2013-01-09 20:32:07      48  publishing/nonfiction   2820.000000  "
      ]
     },
     "execution_count": 25,
     "metadata": {},
     "output_type": "execute_result"
    }
   ],
   "source": [
    "df.created_at = pd.to_datetime(df.iloc[:,df.columns.tolist().index(\"created_at\")],unit='s')\n",
    "df.launched_at = pd.to_datetime(df.iloc[:,df.columns.tolist().index(\"launched_at\")],unit='s')\n",
    "df.deadline = pd.to_datetime(df.iloc[:,df.columns.tolist().index(\"deadline\")],unit='s')\n",
    "df.state_changed_at = pd.to_datetime(df.iloc[:,df.columns.tolist().index(\"state_changed_at\")],unit='s')\n",
    "df.head()"
   ]
  },
  {
   "cell_type": "code",
   "execution_count": 26,
   "id": "88d8b2be",
   "metadata": {},
   "outputs": [
    {
     "data": {
      "text/plain": [
       "(194947, 13)"
      ]
     },
     "execution_count": 26,
     "metadata": {},
     "output_type": "execute_result"
    }
   ],
   "source": [
    "df.shape"
   ]
  },
  {
   "cell_type": "code",
   "execution_count": 27,
   "id": "e232a0fd",
   "metadata": {},
   "outputs": [],
   "source": [
    "# set checkpoint\n",
    "df2 = df.copy()"
   ]
  },
  {
   "cell_type": "markdown",
   "id": "cbd5b1e1",
   "metadata": {},
   "source": [
    "Check for `id` copies and remove if they refer to the same data point: multiplicities of entries:"
   ]
  },
  {
   "cell_type": "code",
   "execution_count": 28,
   "id": "4b321cd5",
   "metadata": {},
   "outputs": [
    {
     "name": "stdout",
     "output_type": "stream",
     "text": [
      "3 2 1\n"
     ]
    }
   ],
   "source": [
    "print(*df.id.value_counts().unique())"
   ]
  },
  {
   "cell_type": "markdown",
   "id": "d45b3310",
   "metadata": {},
   "source": [
    "List of multiply used `id` entries:"
   ]
  },
  {
   "cell_type": "code",
   "execution_count": 29,
   "id": "5804c7de",
   "metadata": {},
   "outputs": [
    {
     "data": {
      "text/plain": [
       "24596"
      ]
     },
     "execution_count": 29,
     "metadata": {},
     "output_type": "execute_result"
    }
   ],
   "source": [
    "dic = df.id.value_counts()\n",
    "multiples = np.array([key for key in dic.keys() if dic[key] > 1])\n",
    "len(multiples)"
   ]
  },
  {
   "cell_type": "markdown",
   "id": "2a632b0e",
   "metadata": {},
   "source": [
    "They don't differ in any features, except one."
   ]
  },
  {
   "cell_type": "code",
   "execution_count": 30,
   "id": "a04c23ad",
   "metadata": {
    "tags": []
   },
   "outputs": [
    {
     "ename": "IndentationError",
     "evalue": "unexpected indent (<ipython-input-30-02f5c0067f2f>, line 3)",
     "output_type": "error",
     "traceback": [
      "\u001b[0;36m  File \u001b[0;32m\"<ipython-input-30-02f5c0067f2f>\"\u001b[0;36m, line \u001b[0;32m3\u001b[0m\n\u001b[0;31m    multi_id_list = [(id, [c for c in df.columns if df.query('id == '+str(id))[c].nunique() != 1])]\u001b[0m\n\u001b[0m    ^\u001b[0m\n\u001b[0;31mIndentationError\u001b[0m\u001b[0;31m:\u001b[0m unexpected indent\n"
     ]
    }
   ],
   "source": [
    "multi_id_list = []\n",
    "#for id in multiples:c\n",
    "    multi_id_list = [(id, [c for c in df.columns if df.query('id == '+str(id))[c].nunique() != 1])]\n"
   ]
  },
  {
   "cell_type": "markdown",
   "id": "94cf49b0",
   "metadata": {},
   "source": [
    "In that case, only one of the rows with the same `id` entry need to be kept."
   ]
  },
  {
   "cell_type": "code",
   "execution_count": 31,
   "id": "5118eccb",
   "metadata": {},
   "outputs": [],
   "source": [
    "df.drop_duplicates(subset = \"id\", keep = \"first\", inplace = True)"
   ]
  },
  {
   "cell_type": "code",
   "execution_count": 32,
   "id": "0c604219",
   "metadata": {},
   "outputs": [
    {
     "data": {
      "text/plain": [
       "(170350, 13)"
      ]
     },
     "execution_count": 32,
     "metadata": {},
     "output_type": "execute_result"
    }
   ],
   "source": [
    "df.shape"
   ]
  },
  {
   "cell_type": "markdown",
   "id": "ce86d86d",
   "metadata": {},
   "source": [
    "Now we will take a look in to `location` and try to extract some meaningful information.\n",
    "\n",
    "Fist we will drop NaN rows and then convert the `json-str` into a dictonary to extract keys and values."
   ]
  },
  {
   "cell_type": "code",
   "execution_count": 33,
   "id": "9c897e0a",
   "metadata": {},
   "outputs": [
    {
     "data": {
      "text/plain": [
       "213"
      ]
     },
     "execution_count": 33,
     "metadata": {},
     "output_type": "execute_result"
    }
   ],
   "source": [
    "df.location.isnull().sum()"
   ]
  },
  {
   "cell_type": "code",
   "execution_count": 34,
   "id": "01ea272a",
   "metadata": {},
   "outputs": [],
   "source": [
    "df.dropna(axis = 0, subset = [\"location\"], inplace = True)"
   ]
  },
  {
   "cell_type": "code",
   "execution_count": 35,
   "id": "2880142e",
   "metadata": {},
   "outputs": [],
   "source": [
    "df.location =[json.loads(x) for x in df.location]"
   ]
  },
  {
   "cell_type": "code",
   "execution_count": 36,
   "id": "558f3135",
   "metadata": {},
   "outputs": [],
   "source": [
    "df[\"location_type\"] = [df.location.iloc[x][\"type\"] for x in range(0,len(df.location))]\n",
    "df[\"location_city\"] = [df.location.iloc[x][\"short_name\"] for x in range(0,len(df.location))]\n",
    "df[\"location_state\"] = [df.location.iloc[x][\"state\"] for x in range(0,len(df.location))]\n",
    "location = df.pop(\"location\")"
   ]
  },
  {
   "cell_type": "code",
   "execution_count": 37,
   "id": "deef9c86",
   "metadata": {},
   "outputs": [
    {
     "data": {
      "text/plain": [
       "Los Angeles, CA        8041\n",
       "New York, NY           6409\n",
       "London, UK             6094\n",
       "Chicago, IL            3237\n",
       "San Francisco, CA      2797\n",
       "                       ... \n",
       "Kesterciems, Latvia       1\n",
       "Drumheller, Canada        1\n",
       "Kurtistown, HI            1\n",
       "Anna, OH                  1\n",
       "Liberty Hill, TX          1\n",
       "Name: location_city, Length: 14016, dtype: int64"
      ]
     },
     "execution_count": 37,
     "metadata": {},
     "output_type": "execute_result"
    }
   ],
   "source": [
    "df.location_city.value_counts()"
   ]
  },
  {
   "cell_type": "code",
   "execution_count": 38,
   "id": "4314f6a8",
   "metadata": {},
   "outputs": [
    {
     "data": {
      "text/plain": [
       "CA                  22413\n",
       "England             15494\n",
       "NY                  14085\n",
       "TX                   7044\n",
       "FL                   5836\n",
       "                    ...  \n",
       "Ha'apai                 1\n",
       "Yigo                    1\n",
       "Kampot                  1\n",
       "Mashonaland East        1\n",
       "Faro                    1\n",
       "Name: location_state, Length: 1124, dtype: int64"
      ]
     },
     "execution_count": 38,
     "metadata": {},
     "output_type": "execute_result"
    }
   ],
   "source": [
    "df.location_state.value_counts()"
   ]
  },
  {
   "cell_type": "code",
   "execution_count": 39,
   "id": "09865628",
   "metadata": {},
   "outputs": [
    {
     "data": {
      "text/plain": [
       "Town             157752\n",
       "County             6433\n",
       "Suburb             4303\n",
       "LocalAdmin          992\n",
       "Zip                 412\n",
       "Island              209\n",
       "Country              17\n",
       "Miscellaneous        15\n",
       "Estate                4\n",
       "Name: location_type, dtype: int64"
      ]
     },
     "execution_count": 39,
     "metadata": {},
     "output_type": "execute_result"
    }
   ],
   "source": [
    "df.location_type.value_counts()"
   ]
  },
  {
   "cell_type": "code",
   "execution_count": 40,
   "id": "3f047d3d",
   "metadata": {},
   "outputs": [
    {
     "data": {
      "text/plain": [
       "(170137, 15)"
      ]
     },
     "execution_count": 40,
     "metadata": {},
     "output_type": "execute_result"
    }
   ],
   "source": [
    "# set checkpoint\n",
    "df2 = df.copy()\n",
    "df.shape"
   ]
  },
  {
   "cell_type": "markdown",
   "id": "07ec0984",
   "metadata": {},
   "source": [
    "After extracting location information, we will now look into `created_at` and `launched_at` to extract further features relating to time-frames and timing of the projects.\n",
    "\n",
    "`month_created` and `month_launched` and `month_deadline` are the months, at which the project was created, launched and ended respectively. This will give us information about seasonality.\n",
    "\n",
    "`delta_public` and `delta_funding` are time-frames between the creation and launching the project, the so-called \"going public\" time, and between launch and deadline for the duration of the project campaign.\n",
    "\n",
    "`delta_state` is the time-frame after which the state of the project was changed.\n"
   ]
  },
  {
   "cell_type": "code",
   "execution_count": 41,
   "id": "22354d0f",
   "metadata": {},
   "outputs": [],
   "source": [
    "df['month_created'] = df['created_at'].dt.month\n",
    "df['month_launced'] = df['launched_at'].dt.month\n",
    "df['month_deadline'] = df['deadline'].dt.month"
   ]
  },
  {
   "cell_type": "code",
   "execution_count": 42,
   "id": "7cb15b35",
   "metadata": {},
   "outputs": [],
   "source": [
    "df['delta_public'] = (df['created_at'] - df['launched_at']) / pd.offsets.Day(-1)\n",
    "df['delta_funding'] = (df['launched_at'] - df['deadline']) / pd.offsets.Day(-1)"
   ]
  },
  {
   "cell_type": "code",
   "execution_count": 43,
   "id": "a5ea0179",
   "metadata": {},
   "outputs": [],
   "source": [
    "df['delta_public'] = df.delta_public.round(0)\n",
    "df['delta_funding'] = df.delta_funding.round(0)"
   ]
  },
  {
   "cell_type": "markdown",
   "id": "e56b24a9",
   "metadata": {},
   "source": [
    "We will also take a look into, whether a project has been succesful prior to the deadline."
   ]
  },
  {
   "cell_type": "code",
   "execution_count": 44,
   "id": "b1e29712",
   "metadata": {},
   "outputs": [
    {
     "name": "stdout",
     "output_type": "stream",
     "text": [
      "1366\n",
      "168771\n"
     ]
    }
   ],
   "source": [
    "print(sum(df[\"deadline\"] > df[\"state_changed_at\"]))\n",
    "print(sum(df[\"deadline\"] <= df[\"state_changed_at\"]))"
   ]
  },
  {
   "cell_type": "markdown",
   "id": "ed6f279c",
   "metadata": {},
   "source": [
    "It seems like the state of the project is either changed at the exact same time of the deadline or afterwards. Only 0.8% have reached their goal before the deadline. \n",
    "\n",
    "A creator can extend the goals of the project further, if the sum is succesfully campaigned before the deadline. There is no indication in our dataset, whether this has been done for a project."
   ]
  },
  {
   "cell_type": "code",
   "execution_count": 45,
   "id": "eb3e67c5",
   "metadata": {},
   "outputs": [
    {
     "data": {
      "text/html": [
       "<div>\n",
       "<style scoped>\n",
       "    .dataframe tbody tr th:only-of-type {\n",
       "        vertical-align: middle;\n",
       "    }\n",
       "\n",
       "    .dataframe tbody tr th {\n",
       "        vertical-align: top;\n",
       "    }\n",
       "\n",
       "    .dataframe thead th {\n",
       "        text-align: right;\n",
       "    }\n",
       "</style>\n",
       "<table border=\"1\" class=\"dataframe\">\n",
       "  <thead>\n",
       "    <tr style=\"text-align: right;\">\n",
       "      <th></th>\n",
       "      <th>backers_count</th>\n",
       "      <th>country</th>\n",
       "      <th>goal</th>\n",
       "      <th>id</th>\n",
       "      <th>state</th>\n",
       "      <th>cat_id</th>\n",
       "      <th>slug</th>\n",
       "      <th>max_pledged</th>\n",
       "      <th>location_type</th>\n",
       "      <th>location_city</th>\n",
       "      <th>location_state</th>\n",
       "      <th>month_created</th>\n",
       "      <th>month_launced</th>\n",
       "      <th>month_deadline</th>\n",
       "      <th>delta_public</th>\n",
       "      <th>delta_funding</th>\n",
       "    </tr>\n",
       "  </thead>\n",
       "  <tbody>\n",
       "    <tr>\n",
       "      <th>0</th>\n",
       "      <td>315</td>\n",
       "      <td>US</td>\n",
       "      <td>28000.0</td>\n",
       "      <td>2108505034</td>\n",
       "      <td>successful</td>\n",
       "      <td>266</td>\n",
       "      <td>fashion/footwear</td>\n",
       "      <td>28645.0</td>\n",
       "      <td>Town</td>\n",
       "      <td>Novato, CA</td>\n",
       "      <td>CA</td>\n",
       "      <td>11</td>\n",
       "      <td>1</td>\n",
       "      <td>3</td>\n",
       "      <td>78.0</td>\n",
       "      <td>50.0</td>\n",
       "    </tr>\n",
       "    <tr>\n",
       "      <th>1</th>\n",
       "      <td>47</td>\n",
       "      <td>US</td>\n",
       "      <td>1000.0</td>\n",
       "      <td>928751314</td>\n",
       "      <td>successful</td>\n",
       "      <td>273</td>\n",
       "      <td>games/playing cards</td>\n",
       "      <td>1950.0</td>\n",
       "      <td>Town</td>\n",
       "      <td>Euless, TX</td>\n",
       "      <td>TX</td>\n",
       "      <td>8</td>\n",
       "      <td>8</td>\n",
       "      <td>9</td>\n",
       "      <td>8.0</td>\n",
       "      <td>30.0</td>\n",
       "    </tr>\n",
       "    <tr>\n",
       "      <th>2</th>\n",
       "      <td>271</td>\n",
       "      <td>US</td>\n",
       "      <td>15000.0</td>\n",
       "      <td>928014092</td>\n",
       "      <td>successful</td>\n",
       "      <td>43</td>\n",
       "      <td>music/rock</td>\n",
       "      <td>22404.0</td>\n",
       "      <td>Suburb</td>\n",
       "      <td>Hollywood, CA</td>\n",
       "      <td>CA</td>\n",
       "      <td>9</td>\n",
       "      <td>5</td>\n",
       "      <td>6</td>\n",
       "      <td>225.0</td>\n",
       "      <td>30.0</td>\n",
       "    </tr>\n",
       "  </tbody>\n",
       "</table>\n",
       "</div>"
      ],
      "text/plain": [
       "   backers_count country     goal          id       state  cat_id  \\\n",
       "0            315      US  28000.0  2108505034  successful     266   \n",
       "1             47      US   1000.0   928751314  successful     273   \n",
       "2            271      US  15000.0   928014092  successful      43   \n",
       "\n",
       "                  slug  max_pledged location_type  location_city  \\\n",
       "0     fashion/footwear      28645.0          Town     Novato, CA   \n",
       "1  games/playing cards       1950.0          Town     Euless, TX   \n",
       "2           music/rock      22404.0        Suburb  Hollywood, CA   \n",
       "\n",
       "  location_state  month_created  month_launced  month_deadline  delta_public  \\\n",
       "0             CA             11              1               3          78.0   \n",
       "1             TX              8              8               9           8.0   \n",
       "2             CA              9              5               6         225.0   \n",
       "\n",
       "   delta_funding  \n",
       "0           50.0  \n",
       "1           30.0  \n",
       "2           30.0  "
      ]
     },
     "execution_count": 45,
     "metadata": {},
     "output_type": "execute_result"
    }
   ],
   "source": [
    "df = df.drop([\"created_at\", \"deadline\", \"launched_at\", \"state_changed_at\"], axis = 1)\n",
    "df.head(3)"
   ]
  },
  {
   "cell_type": "code",
   "execution_count": 46,
   "id": "d73f6d08",
   "metadata": {},
   "outputs": [],
   "source": [
    "# set Checkpoint after creating time-frame features\n",
    "df2 = df.copy()"
   ]
  },
  {
   "cell_type": "markdown",
   "id": "be223fc7",
   "metadata": {},
   "source": [
    "## Data Exploration\n",
    "After cleaning the data, we will look into the distribution of the features and look into possible relationships"
   ]
  },
  {
   "cell_type": "code",
   "execution_count": 59,
   "id": "8f01a200",
   "metadata": {},
   "outputs": [],
   "source": [
    "import matplotlib.pyplot as plt\n",
    "import seaborn as sns"
   ]
  },
  {
   "cell_type": "markdown",
   "id": "60600657",
   "metadata": {},
   "source": [
    "# Break"
   ]
  },
  {
   "cell_type": "markdown",
   "id": "45b4dd6a",
   "metadata": {},
   "source": [
    "## Predictive Modelling"
   ]
  },
  {
   "cell_type": "markdown",
   "id": "ee1991eb",
   "metadata": {},
   "source": [
    "Now we will construct models to predict the success of each project based on the features obtained/ created. \n",
    "\n",
    "Therefore our target feature will be `state`\n",
    "."
   ]
  },
  {
   "cell_type": "code",
   "execution_count": 47,
   "id": "0a0e62e6",
   "metadata": {},
   "outputs": [],
   "source": [
    "# Import of relevant packages\n",
    "import numpy as np\n",
    "import pandas as pd\n",
    "import warnings\n",
    "import matplotlib.pyplot as plt\n",
    "import seaborn as sns\n",
    "\n",
    "from sklearn.pipeline import Pipeline\n",
    "from sklearn.compose import ColumnTransformer\n",
    "from sklearn.preprocessing import OneHotEncoder, StandardScaler\n",
    "from sklearn.impute import SimpleImputer\n",
    "from sklearn.model_selection import train_test_split\n",
    "from sklearn.model_selection import GridSearchCV, RandomizedSearchCV\n",
    "from sklearn.model_selection import cross_val_predict, cross_val_score, cross_validate\n",
    "from sklearn.metrics import roc_curve, confusion_matrix, accuracy_score, recall_score, precision_score\n",
    "\n",
    "from sklearn.linear_model import LogisticRegression\n",
    "\n",
    "# Set random seed \n",
    "RSEED = 42"
   ]
  },
  {
   "cell_type": "code",
   "execution_count": 48,
   "id": "86c9bada",
   "metadata": {},
   "outputs": [
    {
     "data": {
      "text/html": [
       "<div>\n",
       "<style scoped>\n",
       "    .dataframe tbody tr th:only-of-type {\n",
       "        vertical-align: middle;\n",
       "    }\n",
       "\n",
       "    .dataframe tbody tr th {\n",
       "        vertical-align: top;\n",
       "    }\n",
       "\n",
       "    .dataframe thead th {\n",
       "        text-align: right;\n",
       "    }\n",
       "</style>\n",
       "<table border=\"1\" class=\"dataframe\">\n",
       "  <thead>\n",
       "    <tr style=\"text-align: right;\">\n",
       "      <th></th>\n",
       "      <th>backers_count</th>\n",
       "      <th>country</th>\n",
       "      <th>goal</th>\n",
       "      <th>id</th>\n",
       "      <th>state</th>\n",
       "      <th>cat_id</th>\n",
       "      <th>slug</th>\n",
       "      <th>max_pledged</th>\n",
       "      <th>location_type</th>\n",
       "      <th>location_city</th>\n",
       "      <th>location_state</th>\n",
       "      <th>month_created</th>\n",
       "      <th>month_launced</th>\n",
       "      <th>month_deadline</th>\n",
       "      <th>delta_public</th>\n",
       "      <th>delta_funding</th>\n",
       "    </tr>\n",
       "  </thead>\n",
       "  <tbody>\n",
       "    <tr>\n",
       "      <th>0</th>\n",
       "      <td>315</td>\n",
       "      <td>US</td>\n",
       "      <td>28000.0</td>\n",
       "      <td>2108505034</td>\n",
       "      <td>successful</td>\n",
       "      <td>266</td>\n",
       "      <td>fashion/footwear</td>\n",
       "      <td>28645.000000</td>\n",
       "      <td>Town</td>\n",
       "      <td>Novato, CA</td>\n",
       "      <td>CA</td>\n",
       "      <td>11</td>\n",
       "      <td>1</td>\n",
       "      <td>3</td>\n",
       "      <td>78.0</td>\n",
       "      <td>50.0</td>\n",
       "    </tr>\n",
       "    <tr>\n",
       "      <th>1</th>\n",
       "      <td>47</td>\n",
       "      <td>US</td>\n",
       "      <td>1000.0</td>\n",
       "      <td>928751314</td>\n",
       "      <td>successful</td>\n",
       "      <td>273</td>\n",
       "      <td>games/playing cards</td>\n",
       "      <td>1950.000000</td>\n",
       "      <td>Town</td>\n",
       "      <td>Euless, TX</td>\n",
       "      <td>TX</td>\n",
       "      <td>8</td>\n",
       "      <td>8</td>\n",
       "      <td>9</td>\n",
       "      <td>8.0</td>\n",
       "      <td>30.0</td>\n",
       "    </tr>\n",
       "    <tr>\n",
       "      <th>2</th>\n",
       "      <td>271</td>\n",
       "      <td>US</td>\n",
       "      <td>15000.0</td>\n",
       "      <td>928014092</td>\n",
       "      <td>successful</td>\n",
       "      <td>43</td>\n",
       "      <td>music/rock</td>\n",
       "      <td>22404.000000</td>\n",
       "      <td>Suburb</td>\n",
       "      <td>Hollywood, CA</td>\n",
       "      <td>CA</td>\n",
       "      <td>9</td>\n",
       "      <td>5</td>\n",
       "      <td>6</td>\n",
       "      <td>225.0</td>\n",
       "      <td>30.0</td>\n",
       "    </tr>\n",
       "    <tr>\n",
       "      <th>3</th>\n",
       "      <td>3</td>\n",
       "      <td>GB</td>\n",
       "      <td>10000.0</td>\n",
       "      <td>596091328</td>\n",
       "      <td>failed</td>\n",
       "      <td>273</td>\n",
       "      <td>games/playing cards</td>\n",
       "      <td>165.384934</td>\n",
       "      <td>Town</td>\n",
       "      <td>Kaunas, Lithuania</td>\n",
       "      <td>Kaunas County</td>\n",
       "      <td>1</td>\n",
       "      <td>1</td>\n",
       "      <td>3</td>\n",
       "      <td>5.0</td>\n",
       "      <td>60.0</td>\n",
       "    </tr>\n",
       "    <tr>\n",
       "      <th>4</th>\n",
       "      <td>3</td>\n",
       "      <td>US</td>\n",
       "      <td>2800.0</td>\n",
       "      <td>998516049</td>\n",
       "      <td>successful</td>\n",
       "      <td>48</td>\n",
       "      <td>publishing/nonfiction</td>\n",
       "      <td>2820.000000</td>\n",
       "      <td>Town</td>\n",
       "      <td>Traverse City, MI</td>\n",
       "      <td>MI</td>\n",
       "      <td>12</td>\n",
       "      <td>12</td>\n",
       "      <td>1</td>\n",
       "      <td>4.0</td>\n",
       "      <td>30.0</td>\n",
       "    </tr>\n",
       "  </tbody>\n",
       "</table>\n",
       "</div>"
      ],
      "text/plain": [
       "   backers_count country     goal          id       state  cat_id  \\\n",
       "0            315      US  28000.0  2108505034  successful     266   \n",
       "1             47      US   1000.0   928751314  successful     273   \n",
       "2            271      US  15000.0   928014092  successful      43   \n",
       "3              3      GB  10000.0   596091328      failed     273   \n",
       "4              3      US   2800.0   998516049  successful      48   \n",
       "\n",
       "                    slug   max_pledged location_type      location_city  \\\n",
       "0       fashion/footwear  28645.000000          Town         Novato, CA   \n",
       "1    games/playing cards   1950.000000          Town         Euless, TX   \n",
       "2             music/rock  22404.000000        Suburb      Hollywood, CA   \n",
       "3    games/playing cards    165.384934          Town  Kaunas, Lithuania   \n",
       "4  publishing/nonfiction   2820.000000          Town  Traverse City, MI   \n",
       "\n",
       "  location_state  month_created  month_launced  month_deadline  delta_public  \\\n",
       "0             CA             11              1               3          78.0   \n",
       "1             TX              8              8               9           8.0   \n",
       "2             CA              9              5               6         225.0   \n",
       "3  Kaunas County              1              1               3           5.0   \n",
       "4             MI             12             12               1           4.0   \n",
       "\n",
       "   delta_funding  \n",
       "0           50.0  \n",
       "1           30.0  \n",
       "2           30.0  \n",
       "3           60.0  \n",
       "4           30.0  "
      ]
     },
     "execution_count": 48,
     "metadata": {},
     "output_type": "execute_result"
    }
   ],
   "source": [
    "df.head()"
   ]
  },
  {
   "cell_type": "code",
   "execution_count": 49,
   "id": "9de4eee4",
   "metadata": {},
   "outputs": [
    {
     "name": "stdout",
     "output_type": "stream",
     "text": [
      "<class 'pandas.core.frame.DataFrame'>\n",
      "Int64Index: 170137 entries, 0 to 3791\n",
      "Data columns (total 16 columns):\n",
      " #   Column          Non-Null Count   Dtype  \n",
      "---  ------          --------------   -----  \n",
      " 0   backers_count   170137 non-null  int64  \n",
      " 1   country         170137 non-null  object \n",
      " 2   goal            170137 non-null  float64\n",
      " 3   id              170137 non-null  int64  \n",
      " 4   state           170137 non-null  object \n",
      " 5   cat_id          170137 non-null  int64  \n",
      " 6   slug            170137 non-null  object \n",
      " 7   max_pledged     170137 non-null  float64\n",
      " 8   location_type   170137 non-null  object \n",
      " 9   location_city   170137 non-null  object \n",
      " 10  location_state  170092 non-null  object \n",
      " 11  month_created   170137 non-null  int64  \n",
      " 12  month_launced   170137 non-null  int64  \n",
      " 13  month_deadline  170137 non-null  int64  \n",
      " 14  delta_public    170137 non-null  float64\n",
      " 15  delta_funding   170137 non-null  float64\n",
      "dtypes: float64(4), int64(6), object(6)\n",
      "memory usage: 22.1+ MB\n"
     ]
    }
   ],
   "source": [
    "df.info()"
   ]
  },
  {
   "cell_type": "code",
   "execution_count": 50,
   "id": "8d6e5090",
   "metadata": {},
   "outputs": [],
   "source": [
    "df_pred = df.copy()"
   ]
  },
  {
   "cell_type": "code",
   "execution_count": 51,
   "id": "c1123ade",
   "metadata": {},
   "outputs": [],
   "source": [
    "# Transform type objects to string\n",
    "\n",
    "df_pred['country'] = df_pred['country'].astype(str)\n",
    "df_pred['slug'] = df_pred['slug'].astype(str)\n",
    "df_pred['location_type'] = df_pred['location_type'].astype(str)\n",
    "df_pred['location_city'] = df_pred['location_city'].astype(str)\n",
    "df_pred['location_state'] = df_pred['location_state'].astype(str)"
   ]
  },
  {
   "cell_type": "markdown",
   "id": "f01d86b2",
   "metadata": {},
   "source": [
    "Since most of the project originate from the US, and the information from the `location_state` does not work for countries w/o a federal system, we will change the value or `location_state`.\n",
    "\n",
    "If a project originates from the US, the state will be stored, if from another country, the name of the country. We will also drop the feature `location_city`, because there are over 14,000 different values and would hinder our ability to predict. \n",
    "\n",
    "The location information is still available in the features `country`, `location_state` and `location_type`-"
   ]
  },
  {
   "cell_type": "code",
   "execution_count": 52,
   "id": "fa77d665",
   "metadata": {},
   "outputs": [
    {
     "name": "stderr",
     "output_type": "stream",
     "text": [
      "/Users/bur.oez/neuefische/ds-getting-started/.venv/lib/python3.8/site-packages/pandas/core/indexing.py:1637: SettingWithCopyWarning: \n",
      "A value is trying to be set on a copy of a slice from a DataFrame\n",
      "\n",
      "See the caveats in the documentation: https://pandas.pydata.org/pandas-docs/stable/user_guide/indexing.html#returning-a-view-versus-a-copy\n",
      "  self._setitem_single_block(indexer, value, name)\n"
     ]
    }
   ],
   "source": [
    "for i in range(len(df.location_city)):\n",
    "    if df.country.iloc[i] != \"US\":\n",
    "        \n",
    "        temp = df.location_city.iloc[i].split(\", \")\n",
    "        if len(temp) == 2:\n",
    "            df_pred.location_state.iloc[i] = temp[1]\n",
    "        else:\n",
    "            df_pred.location_state.iloc[i] = temp[0]\n",
    "    else: \n",
    "        pass\n",
    "df_pred.drop([\"location_city\"], axis=1, inplace = True);"
   ]
  },
  {
   "cell_type": "code",
   "execution_count": 60,
   "id": "4e8385ea",
   "metadata": {},
   "outputs": [
    {
     "data": {
      "text/plain": [
       "['country', 'slug', 'location_type', 'location_state', 'id', 'cat_id']"
      ]
     },
     "execution_count": 60,
     "metadata": {},
     "output_type": "execute_result"
    }
   ],
   "source": [
    "# Creating list for categorical features \n",
    "cat_features = list(df_pred.columns[df_pred.dtypes==object])\n",
    "cat_features.remove('state')\n",
    "cat_features.append('id')\n",
    "cat_features.append('cat_id')\n",
    "cat_features"
   ]
  },
  {
   "cell_type": "code",
   "execution_count": 62,
   "id": "0310a0c3",
   "metadata": {},
   "outputs": [
    {
     "data": {
      "text/plain": [
       "['backers_count',\n",
       " 'goal',\n",
       " 'max_pledged',\n",
       " 'month_created',\n",
       " 'month_launced',\n",
       " 'month_deadline',\n",
       " 'delta_public',\n",
       " 'delta_funding']"
      ]
     },
     "execution_count": 62,
     "metadata": {},
     "output_type": "execute_result"
    }
   ],
   "source": [
    "# Creating list for numerical predictors/features\n",
    "num_features = list(df_pred.columns[df_pred.dtypes!=object])\n",
    "num_features.remove('id')\n",
    "num_features.remove('cat_id')\n",
    "num_features"
   ]
  },
  {
   "cell_type": "code",
   "execution_count": 63,
   "id": "50563ef7",
   "metadata": {},
   "outputs": [
    {
     "name": "stdout",
     "output_type": "stream",
     "text": [
      "{int64: ['backers_count', 'id', 'cat_id', 'month_created', 'month_launced', 'month_deadline'], float64: ['goal', 'max_pledged', 'delta_public', 'delta_funding'], object: ['country', 'state', 'slug', 'location_type', 'location_city', 'location_state']}\n"
     ]
    }
   ],
   "source": [
    "print(df.columns.to_series().groupby(df.dtypes).groups)"
   ]
  },
  {
   "cell_type": "markdown",
   "id": "e6f2011d",
   "metadata": {},
   "source": [
    "## Data Preprocessing and target formulation"
   ]
  },
  {
   "cell_type": "code",
   "execution_count": 64,
   "id": "425cc8e1",
   "metadata": {},
   "outputs": [],
   "source": [
    "# Define features and target variable\n",
    "features = df_pred.drop('state', axis=1)\n",
    "target = df_pred['state']"
   ]
  },
  {
   "cell_type": "code",
   "execution_count": 65,
   "id": "fd32a0a7",
   "metadata": {},
   "outputs": [],
   "source": [
    "# One-hot encode the 'features_raw' data using pandas.get_dummies()\n",
    "features = pd.get_dummies(features)\n",
    "# Convert target feature into binary\n",
    "target = target.apply(lambda x: \"pos\" if x == 'successful' else \"neg\")"
   ]
  },
  {
   "cell_type": "code",
   "execution_count": 66,
   "id": "a0e78024",
   "metadata": {},
   "outputs": [
    {
     "name": "stdout",
     "output_type": "stream",
     "text": [
      "1193 total features after one-hot encoding.\n"
     ]
    }
   ],
   "source": [
    "# Print the number of features after one-hot encoding\n",
    "encoded = list(features.columns)\n",
    "print (\"{} total features after one-hot encoding.\".format(len(encoded)))"
   ]
  },
  {
   "cell_type": "code",
   "execution_count": 67,
   "id": "ac7d9cde",
   "metadata": {},
   "outputs": [
    {
     "data": {
      "text/plain": [
       "array(['neg', 'pos'], dtype=object)"
      ]
     },
     "execution_count": 67,
     "metadata": {},
     "output_type": "execute_result"
    }
   ],
   "source": [
    "np.unique(target)"
   ]
  },
  {
   "cell_type": "markdown",
   "id": "787ef500",
   "metadata": {},
   "source": [
    "## Train-Test-Split"
   ]
  },
  {
   "cell_type": "code",
   "execution_count": 68,
   "id": "e6b18aca",
   "metadata": {},
   "outputs": [],
   "source": [
    "X_train, X_test, y_train, y_test = train_test_split(features, target, test_size=0.2, random_state=RSEED)"
   ]
  },
  {
   "cell_type": "code",
   "execution_count": 69,
   "id": "0c7c6f24",
   "metadata": {},
   "outputs": [
    {
     "name": "stdout",
     "output_type": "stream",
     "text": [
      "X_train shape: (136109, 1193)\n",
      "X_test shape: (34028, 1193)\n",
      "y_train shape: (136109,)\n",
      "y_test shape: (34028,)\n"
     ]
    }
   ],
   "source": [
    "print('X_train shape:', X_train.shape)\n",
    "print('X_test shape:', X_test.shape)\n",
    "print('y_train shape:', y_train.shape)\n",
    "print('y_test shape:', y_test.shape)"
   ]
  },
  {
   "cell_type": "markdown",
   "id": "198f4a09",
   "metadata": {},
   "source": [
    "## Normalizing Numerical Features"
   ]
  },
  {
   "cell_type": "code",
   "execution_count": 70,
   "id": "a9dc689b",
   "metadata": {},
   "outputs": [
    {
     "name": "stderr",
     "output_type": "stream",
     "text": [
      "<ipython-input-70-d0fea70d0133>:7: SettingWithCopyWarning: \n",
      "A value is trying to be set on a copy of a slice from a DataFrame.\n",
      "Try using .loc[row_indexer,col_indexer] = value instead\n",
      "\n",
      "See the caveats in the documentation: https://pandas.pydata.org/pandas-docs/stable/user_guide/indexing.html#returning-a-view-versus-a-copy\n",
      "  X_train['numerical'] = scaler.fit_transform(X_train[numerical])\n",
      "<ipython-input-70-d0fea70d0133>:8: SettingWithCopyWarning: \n",
      "A value is trying to be set on a copy of a slice from a DataFrame.\n",
      "Try using .loc[row_indexer,col_indexer] = value instead\n",
      "\n",
      "See the caveats in the documentation: https://pandas.pydata.org/pandas-docs/stable/user_guide/indexing.html#returning-a-view-versus-a-copy\n",
      "  X_test['numerical'] = scaler.transform(X_test[numerical])\n"
     ]
    }
   ],
   "source": [
    "# Import sklearn.preprocessing.StandardScaler\n",
    "from sklearn.preprocessing import MinMaxScaler\n",
    "\n",
    "# Initialize a scaler, then apply it to the features\n",
    "scaler = MinMaxScaler()\n",
    "numerical = ['goal']\n",
    "X_train['numerical'] = scaler.fit_transform(X_train[numerical])\n",
    "X_test['numerical'] = scaler.transform(X_test[numerical])"
   ]
  },
  {
   "cell_type": "markdown",
   "id": "cfe7898b",
   "metadata": {},
   "source": [
    "## Training and Prediction Pipeline"
   ]
  },
  {
   "cell_type": "code",
   "execution_count": 71,
   "id": "180e0bb6",
   "metadata": {},
   "outputs": [],
   "source": [
    "from sklearn.metrics import fbeta_score, accuracy_score\n",
    "\n",
    "# Define a train and evaluation function \n",
    "def train_predict(learner, sample_size, X_train, y_train, X_test, y_test): \n",
    "    '''\n",
    "    inputs:\n",
    "       - learner: the learning algorithm to be trained and predicted on\n",
    "       - sample_size: the size of samples (number) to be drawn from training set\n",
    "       - X_train: features training set\n",
    "       - y_train: income training set\n",
    "       - X_test: features testing set\n",
    "       - y_test: income testing set\n",
    "    '''\n",
    "    \n",
    "    results = {}\n",
    "    \n",
    "   # TODO: Fit the learner to the training data using slicing with 'sample_size'\n",
    "    start = time() # Get start time\n",
    "    learner = learner.fit(X_train[:sample_size], y_train[:sample_size])\n",
    "    end = time() # Get end time\n",
    "    \n",
    "    # TODO: Calculate the training time\n",
    "    results['train_time'] = end - start\n",
    "        \n",
    "    # TODO: Get the predictions on the test set,\n",
    "    #       then get predictions on the first 300 training samples\n",
    "    start = time() # Get start time\n",
    "    predictions_test = learner.predict(X_test)\n",
    "    predictions_train = learner.predict(X_train[:300])\n",
    "    end = time() # Get end time\n",
    "    \n",
    "    # TODO: Calculate the total prediction time\n",
    "    results['pred_time'] = end - start\n",
    "            \n",
    "    # TODO: Compute accuracy on the first 300 training samples\n",
    "    results['acc_train'] = accuracy_score(y_train[:300], predictions_train)\n",
    "        \n",
    "    # TODO: Compute accuracy on test set\n",
    "    results['acc_test'] = accuracy_score(y_test,predictions_test)\n",
    "    \n",
    "    # TODO: Compute F-score on the the first 300 training samples\n",
    "    results['f_train'] = fbeta_score(y_train[:300], predictions_train, beta=0.5, pos_label=\"pos\")\n",
    "        \n",
    "    # TODO: Compute F-score on the test set\n",
    "    results['f_test'] = fbeta_score(y_test, predictions_test, beta=0.5, pos_label=\"pos\")\n",
    "       \n",
    "    # Success\n",
    "    print (\"{} trained on {} samples.\".format(learner.__class__.__name__, sample_size))\n",
    "        \n",
    "    # Return the results\n",
    "    return results"
   ]
  },
  {
   "cell_type": "markdown",
   "id": "92e199cc",
   "metadata": {},
   "source": [
    "## Model evaluation\n"
   ]
  },
  {
   "cell_type": "markdown",
   "id": "b8f7cbc8",
   "metadata": {},
   "source": [
    "### Naive Predictor"
   ]
  },
  {
   "cell_type": "code",
   "execution_count": 72,
   "id": "e5fe4190",
   "metadata": {},
   "outputs": [
    {
     "data": {
      "text/plain": [
       "pos    0.564698\n",
       "neg    0.435302\n",
       "Name: state, dtype: float64"
      ]
     },
     "execution_count": 72,
     "metadata": {},
     "output_type": "execute_result"
    }
   ],
   "source": [
    "target.value_counts([0])"
   ]
  },
  {
   "cell_type": "code",
   "execution_count": 73,
   "id": "aad88e2f",
   "metadata": {},
   "outputs": [
    {
     "name": "stdout",
     "output_type": "stream",
     "text": [
      "Naive Predictor: [Accuracy score: 0.5647, F-score: 0.5556]\n"
     ]
    }
   ],
   "source": [
    "# TODO: Calculate accuracy\n",
    "accuracy = 0.564698 \n",
    "\n",
    "# TODO: Calculating precision\n",
    "precision = 0.5\n",
    "\n",
    "# TODO: Calculating recall\n",
    "recall = 1\n",
    "\n",
    "# TODO: Calculate F-score using the formula above for beta = 0.5\n",
    "fscore =  (1  + (0.5*0.5)) * ( precision * recall / (( 0.5*0.5 * (precision))+ recall))\n",
    "\n",
    "# Print the results \n",
    "print (\"Naive Predictor: [Accuracy score: {:.4f}, F-score: {:.4f}]\".format(accuracy, fscore))"
   ]
  },
  {
   "cell_type": "markdown",
   "id": "592f9994",
   "metadata": {},
   "source": [
    "### Model Application"
   ]
  },
  {
   "cell_type": "code",
   "execution_count": 74,
   "id": "f90420a9",
   "metadata": {},
   "outputs": [],
   "source": [
    "from time import time\n",
    "\n",
    "from sklearn.tree import DecisionTreeClassifier\n",
    "from sklearn.svm import SVC\n",
    "from sklearn.ensemble import AdaBoostClassifier\n",
    "from sklearn.linear_model import LogisticRegression\n",
    "from sklearn.naive_bayes import MultinomialNB"
   ]
  },
  {
   "cell_type": "code",
   "execution_count": 75,
   "id": "f9e2eece",
   "metadata": {},
   "outputs": [],
   "source": [
    "clf_dtree = DecisionTreeClassifier(random_state=101)\n",
    "clf_svc = SVC(random_state=101)\n",
    "clf_aboost = AdaBoostClassifier(random_state=101)\n",
    "clf_logreg = LogisticRegression(random_state=101)\n",
    "clf_multiNB = MultinomialNB()"
   ]
  },
  {
   "cell_type": "code",
   "execution_count": 78,
   "id": "4ba079d8",
   "metadata": {},
   "outputs": [],
   "source": [
    "samples_1 = int(round(len(X_train) / 100))\n",
    "samples_10 = int(round(len(X_train) / 10))\n",
    "samples_25 = int(round(len(X_train) / 4))\n",
    "samples_100 = len(X_train)"
   ]
  },
  {
   "cell_type": "code",
   "execution_count": 77,
   "id": "5f8992ed",
   "metadata": {},
   "outputs": [
    {
     "name": "stdout",
     "output_type": "stream",
     "text": [
      "LogisticRegression trained on 1361 samples.\n",
      "LogisticRegression trained on 13611 samples.\n",
      "LogisticRegression trained on 136109 samples.\n",
      "DecisionTreeClassifier trained on 1361 samples.\n",
      "DecisionTreeClassifier trained on 13611 samples.\n",
      "DecisionTreeClassifier trained on 136109 samples.\n",
      "MultinomialNB trained on 1361 samples.\n",
      "MultinomialNB trained on 13611 samples.\n",
      "MultinomialNB trained on 136109 samples.\n"
     ]
    }
   ],
   "source": [
    "results = {}\n",
    "for clf in [clf_logreg, clf_dtree, clf_multiNB]:\n",
    "    clf_name = clf.__class__.__name__\n",
    "    results[clf_name] = {}\n",
    "    for i, samples in enumerate([samples_1, samples_10, samples_100]):\n",
    "        results[clf_name][i] = \\\n",
    "        train_predict(clf, samples, X_train, y_train, X_test, y_test)"
   ]
  },
  {
   "cell_type": "code",
   "execution_count": 81,
   "id": "14c52aca",
   "metadata": {},
   "outputs": [
    {
     "name": "stdout",
     "output_type": "stream",
     "text": [
      "SVC trained on 34027 samples.\n"
     ]
    }
   ],
   "source": [
    "results[\"clf_svc\"] = {}\n",
    "results[\"clf_svc\"][2] = \\\n",
    "train_predict(clf_svc,samples_25, X_train, y_train, X_test, y_test)"
   ]
  },
  {
   "cell_type": "code",
   "execution_count": 82,
   "id": "e3ba04b5",
   "metadata": {},
   "outputs": [
    {
     "data": {
      "text/plain": [
       "{'LogisticRegression': {0: {'train_time': 0.14533782005310059,\n",
       "   'pred_time': 0.5248539447784424,\n",
       "   'acc_train': 0.5833333333333334,\n",
       "   'acc_test': 0.5629775479017279,\n",
       "   'f_train': 0.6363636363636365,\n",
       "   'f_test': 0.616897126921665},\n",
       "  1: {'train_time': 0.42053699493408203,\n",
       "   'pred_time': 0.6017630100250244,\n",
       "   'acc_train': 0.5833333333333334,\n",
       "   'acc_test': 0.5629775479017279,\n",
       "   'f_train': 0.6363636363636365,\n",
       "   'f_test': 0.616897126921665},\n",
       "  2: {'train_time': 6.640020132064819,\n",
       "   'pred_time': 0.25148582458496094,\n",
       "   'acc_train': 0.5833333333333334,\n",
       "   'acc_test': 0.5629775479017279,\n",
       "   'f_train': 0.6363636363636365,\n",
       "   'f_test': 0.616897126921665}},\n",
       " 'DecisionTreeClassifier': {0: {'train_time': 0.05267810821533203,\n",
       "   'pred_time': 0.3929593563079834,\n",
       "   'acc_train': 1.0,\n",
       "   'acc_test': 0.9430762901140237,\n",
       "   'f_train': 1.0,\n",
       "   'f_test': 0.94420534732993},\n",
       "  1: {'train_time': 0.43224501609802246,\n",
       "   'pred_time': 0.5890278816223145,\n",
       "   'acc_train': 1.0,\n",
       "   'acc_test': 0.9853062184083696,\n",
       "   'f_train': 1.0,\n",
       "   'f_test': 0.9858649152207176},\n",
       "  2: {'train_time': 13.280618906021118,\n",
       "   'pred_time': 0.37081122398376465,\n",
       "   'acc_train': 1.0,\n",
       "   'acc_test': 0.9961502292229928,\n",
       "   'f_train': 1.0,\n",
       "   'f_test': 0.9961004702374124}},\n",
       " 'MultinomialNB': {0: {'train_time': 0.03570723533630371,\n",
       "   'pred_time': 0.3212621212005615,\n",
       "   'acc_train': 0.8066666666666666,\n",
       "   'acc_test': 0.8052192312213471,\n",
       "   'f_train': 0.8962962962962963,\n",
       "   'f_test': 0.8900853506500622},\n",
       "  1: {'train_time': 0.1623528003692627,\n",
       "   'pred_time': 0.36626482009887695,\n",
       "   'acc_train': 0.6866666666666666,\n",
       "   'acc_test': 0.6981897261079111,\n",
       "   'f_train': 0.6994404476418864,\n",
       "   'f_test': 0.699850217367479},\n",
       "  2: {'train_time': 2.1647439002990723,\n",
       "   'pred_time': 0.28285694122314453,\n",
       "   'acc_train': 0.6866666666666666,\n",
       "   'acc_test': 0.6921065005289762,\n",
       "   'f_train': 0.6994404476418864,\n",
       "   'f_test': 0.6956417537565454}},\n",
       " 'clf_svc': {2: {'train_time': 863.7074508666992,\n",
       "   'pred_time': 1091.0933430194855,\n",
       "   'acc_train': 0.5833333333333334,\n",
       "   'acc_test': 0.5629775479017279,\n",
       "   'f_train': 0.6363636363636365,\n",
       "   'f_test': 0.616897126921665}}}"
      ]
     },
     "execution_count": 82,
     "metadata": {},
     "output_type": "execute_result"
    }
   ],
   "source": [
    "results"
   ]
  },
  {
   "cell_type": "markdown",
   "id": "babe09cf",
   "metadata": {},
   "source": [
    "### Metric evaluation and Plotting functions for model performance visualisation"
   ]
  },
  {
   "cell_type": "code",
   "execution_count": 83,
   "id": "a1692b66",
   "metadata": {},
   "outputs": [],
   "source": [
    "###########################################\n",
    "# Suppress matplotlib user warnings\n",
    "# Necessary for newer version of matplotlib\n",
    "import warnings\n",
    "warnings.filterwarnings(\"ignore\", category = UserWarning, module = \"matplotlib\")\n",
    "#\n",
    "# Display inline matplotlib plots with IPython\n",
    "from IPython import get_ipython\n",
    "get_ipython().run_line_magic('matplotlib', 'inline')\n",
    "###########################################\n",
    "\n",
    "import matplotlib.pyplot as pl\n",
    "import matplotlib.patches as mpatches\n",
    "import numpy as np\n",
    "import pandas as pd\n",
    "from time import time\n",
    "from sklearn.metrics import f1_score, accuracy_score\n",
    "\n",
    "\n",
    "def distribution(data, transformed = False):\n",
    "    \"\"\"\n",
    "    Visualization code for displaying skewed distributions of features\n",
    "    \"\"\"\n",
    "    \n",
    "    # Create figure\n",
    "    fig = pl.figure(figsize = (11,5));\n",
    "\n",
    "    # Skewed feature plotting\n",
    "    for i, feature in enumerate(['capital-gain','capital-loss']):\n",
    "        ax = fig.add_subplot(1, 2, i+1)\n",
    "        ax.hist(data[feature], bins = 25, color = '#00A0A0')\n",
    "        ax.set_title(\"'%s' Feature Distribution\"%(feature), fontsize = 14)\n",
    "        ax.set_xlabel(\"Value\")\n",
    "        ax.set_ylabel(\"Number of Records\")\n",
    "        ax.set_ylim((0, 2000))\n",
    "        ax.set_yticks([0, 500, 1000, 1500, 2000])\n",
    "        ax.set_yticklabels([0, 500, 1000, 1500, \">2000\"])\n",
    "\n",
    "    # Plot aesthetics\n",
    "    if transformed:\n",
    "        fig.suptitle(\"Log-transformed Distributions of Continuous Census Data Features\", \\\n",
    "            fontsize = 16, y = 1.03)\n",
    "    else:\n",
    "        fig.suptitle(\"Skewed Distributions of Continuous Census Data Features\", \\\n",
    "            fontsize = 16, y = 1.03)\n",
    "\n",
    "    fig.tight_layout()\n",
    "    fig.show()\n",
    "\n",
    "\n",
    "def evaluate(results, accuracy, f1):\n",
    "    \"\"\"\n",
    "    Visualization code to display results of various learners.\n",
    "    \n",
    "    inputs:\n",
    "      - learners: a list of supervised learners\n",
    "      - stats: a list of dictionaries of the statistic results from 'train_predict()'\n",
    "      - accuracy: The score for the naive predictor\n",
    "      - f1: The score for the naive predictor\n",
    "    \"\"\"\n",
    "  \n",
    "    # Create figure\n",
    "    fig, ax = pl.subplots(2, 3, figsize = (12,10))\n",
    "\n",
    "    # Constants\n",
    "    bar_width = 0.3\n",
    "    colors = ['#A00000','#00A0A0','#00A000']\n",
    "    \n",
    "    # Super loop to plot four panels of data\n",
    "    for k, learner in enumerate(results.keys()):\n",
    "        for j, metric in enumerate(['train_time', 'acc_train', 'f_train', 'pred_time', 'acc_test', 'f_test']):\n",
    "            for i in np.arange(3):\n",
    "                \n",
    "                # Creative plot code\n",
    "                ax[j//3, j%3].bar(i+k*bar_width, results[learner][i][metric], width = bar_width, color = colors[k])\n",
    "                ax[j//3, j%3].set_xticks([0.45, 1.45, 2.45])\n",
    "                ax[j//3, j%3].set_xticklabels([\"1%\", \"10%\", \"100%\"])\n",
    "                ax[j//3, j%3].set_xlabel(\"Training Set Size\")\n",
    "                ax[j//3, j%3].set_xlim((-0.1, 3.0))\n",
    "    \n",
    "    # Add unique y-labels\n",
    "    ax[0, 0].set_ylabel(\"Time (in seconds)\")\n",
    "    ax[0, 1].set_ylabel(\"Accuracy Score\")\n",
    "    ax[0, 2].set_ylabel(\"F-score\")\n",
    "    ax[1, 0].set_ylabel(\"Time (in seconds)\")\n",
    "    ax[1, 1].set_ylabel(\"Accuracy Score\")\n",
    "    ax[1, 2].set_ylabel(\"F-score\")\n",
    "    \n",
    "    # Add titles\n",
    "    ax[0, 0].set_title(\"Model Training\")\n",
    "    ax[0, 1].set_title(\"Accuracy Score on Training Subset\")\n",
    "    ax[0, 2].set_title(\"F-score on Training Subset\")\n",
    "    ax[1, 0].set_title(\"Model Predicting\")\n",
    "    ax[1, 1].set_title(\"Accuracy Score on Testing Set\")\n",
    "    ax[1, 2].set_title(\"F-score on Testing Set\")\n",
    "    \n",
    "    # Add horizontal lines for naive predictors\n",
    "    ax[0, 1].axhline(y = accuracy, xmin = -0.1, xmax = 3.0, linewidth = 1, color = 'k', linestyle = 'dashed')\n",
    "    ax[1, 1].axhline(y = accuracy, xmin = -0.1, xmax = 3.0, linewidth = 1, color = 'k', linestyle = 'dashed')\n",
    "    ax[0, 2].axhline(y = f1, xmin = -0.1, xmax = 3.0, linewidth = 1, color = 'k', linestyle = 'dashed')\n",
    "    ax[1, 2].axhline(y = f1, xmin = -0.1, xmax = 3.0, linewidth = 1, color = 'k', linestyle = 'dashed')\n",
    "    \n",
    "    # Set y-limits for score panels\n",
    "    ax[0, 1].set_ylim((0, 1))\n",
    "    ax[0, 2].set_ylim((0, 1))\n",
    "    ax[1, 1].set_ylim((0, 1))\n",
    "    ax[1, 2].set_ylim((0, 1))\n",
    "\n",
    "    # Create patches for the legend\n",
    "    patches = []\n",
    "    for i, learner in enumerate(results.keys()):\n",
    "        patches.append(mpatches.Patch(color = colors[i], label = learner))\n",
    "    pl.legend(handles = patches, bbox_to_anchor = (-.80, 2.53), \\\n",
    "               loc = 'upper center', borderaxespad = 0., ncol = 3, fontsize = 'x-large')\n",
    "    \n",
    "    # Aesthetics\n",
    "    pl.suptitle(\"Performance Metrics for Three Supervised Learning Models\", fontsize = 16, y = 1.10)\n",
    "    pl.tight_layout()\n",
    "    pl.show()\n",
    "    \n",
    "\n",
    "def feature_plot(importances, X_train, y_train):\n",
    "    \n",
    "    # Display the five most important features\n",
    "    indices = np.argsort(importances)[::-1]\n",
    "    columns = X_train.columns.values[indices[:5]]\n",
    "    values = importances[indices][:5]\n",
    "\n",
    "    # Creat the plot\n",
    "    fig = pl.figure(figsize = (9,5))\n",
    "    pl.title(\"Normalized Weights for First Five Most Predictive Features\", fontsize = 16)\n",
    "    pl.bar(np.arange(5), values, width = 0.6, align=\"center\", color = '#00A000', \\\n",
    "          label = \"Feature Weight\")\n",
    "    pl.bar(np.arange(5) - 0.3, np.cumsum(values), width = 0.2, align = \"center\", color = '#00A0A0', \\\n",
    "          label = \"Cumulative Feature Weight\")\n",
    "    pl.xticks(np.arange(5), columns)\n",
    "    pl.xlim((-0.5, 4.5))\n",
    "    pl.ylabel(\"Weight\", fontsize = 12)\n",
    "    pl.xlabel(\"Feature\", fontsize = 12)\n",
    "    \n",
    "    pl.legend(loc = 'upper center')\n",
    "    pl.tight_layout()\n",
    "    pl.show()  "
   ]
  },
  {
   "cell_type": "markdown",
   "id": "207ef038",
   "metadata": {},
   "source": [
    "### Supervised Model performance"
   ]
  },
  {
   "cell_type": "code",
   "execution_count": 84,
   "id": "97bf76c5",
   "metadata": {},
   "outputs": [
    {
     "ename": "KeyError",
     "evalue": "0",
     "output_type": "error",
     "traceback": [
      "\u001b[0;31m---------------------------------------------------------------------------\u001b[0m",
      "\u001b[0;31mKeyError\u001b[0m                                  Traceback (most recent call last)",
      "\u001b[0;32m<ipython-input-84-0a4d3f8ebbf2>\u001b[0m in \u001b[0;36m<module>\u001b[0;34m\u001b[0m\n\u001b[0;32m----> 1\u001b[0;31m \u001b[0mevaluate\u001b[0m\u001b[0;34m(\u001b[0m\u001b[0mresults\u001b[0m\u001b[0;34m,\u001b[0m \u001b[0maccuracy\u001b[0m\u001b[0;34m,\u001b[0m \u001b[0mfscore\u001b[0m\u001b[0;34m)\u001b[0m\u001b[0;34m\u001b[0m\u001b[0;34m\u001b[0m\u001b[0m\n\u001b[0m",
      "\u001b[0;32m<ipython-input-83-3b295ad9674e>\u001b[0m in \u001b[0;36mevaluate\u001b[0;34m(results, accuracy, f1)\u001b[0m\n\u001b[1;32m     73\u001b[0m \u001b[0;34m\u001b[0m\u001b[0m\n\u001b[1;32m     74\u001b[0m                 \u001b[0;31m# Creative plot code\u001b[0m\u001b[0;34m\u001b[0m\u001b[0;34m\u001b[0m\u001b[0;34m\u001b[0m\u001b[0m\n\u001b[0;32m---> 75\u001b[0;31m                 \u001b[0max\u001b[0m\u001b[0;34m[\u001b[0m\u001b[0mj\u001b[0m\u001b[0;34m//\u001b[0m\u001b[0;36m3\u001b[0m\u001b[0;34m,\u001b[0m \u001b[0mj\u001b[0m\u001b[0;34m%\u001b[0m\u001b[0;36m3\u001b[0m\u001b[0;34m]\u001b[0m\u001b[0;34m.\u001b[0m\u001b[0mbar\u001b[0m\u001b[0;34m(\u001b[0m\u001b[0mi\u001b[0m\u001b[0;34m+\u001b[0m\u001b[0mk\u001b[0m\u001b[0;34m*\u001b[0m\u001b[0mbar_width\u001b[0m\u001b[0;34m,\u001b[0m \u001b[0mresults\u001b[0m\u001b[0;34m[\u001b[0m\u001b[0mlearner\u001b[0m\u001b[0;34m]\u001b[0m\u001b[0;34m[\u001b[0m\u001b[0mi\u001b[0m\u001b[0;34m]\u001b[0m\u001b[0;34m[\u001b[0m\u001b[0mmetric\u001b[0m\u001b[0;34m]\u001b[0m\u001b[0;34m,\u001b[0m \u001b[0mwidth\u001b[0m \u001b[0;34m=\u001b[0m \u001b[0mbar_width\u001b[0m\u001b[0;34m,\u001b[0m \u001b[0mcolor\u001b[0m \u001b[0;34m=\u001b[0m \u001b[0mcolors\u001b[0m\u001b[0;34m[\u001b[0m\u001b[0mk\u001b[0m\u001b[0;34m]\u001b[0m\u001b[0;34m)\u001b[0m\u001b[0;34m\u001b[0m\u001b[0;34m\u001b[0m\u001b[0m\n\u001b[0m\u001b[1;32m     76\u001b[0m                 \u001b[0max\u001b[0m\u001b[0;34m[\u001b[0m\u001b[0mj\u001b[0m\u001b[0;34m//\u001b[0m\u001b[0;36m3\u001b[0m\u001b[0;34m,\u001b[0m \u001b[0mj\u001b[0m\u001b[0;34m%\u001b[0m\u001b[0;36m3\u001b[0m\u001b[0;34m]\u001b[0m\u001b[0;34m.\u001b[0m\u001b[0mset_xticks\u001b[0m\u001b[0;34m(\u001b[0m\u001b[0;34m[\u001b[0m\u001b[0;36m0.45\u001b[0m\u001b[0;34m,\u001b[0m \u001b[0;36m1.45\u001b[0m\u001b[0;34m,\u001b[0m \u001b[0;36m2.45\u001b[0m\u001b[0;34m]\u001b[0m\u001b[0;34m)\u001b[0m\u001b[0;34m\u001b[0m\u001b[0;34m\u001b[0m\u001b[0m\n\u001b[1;32m     77\u001b[0m                 \u001b[0max\u001b[0m\u001b[0;34m[\u001b[0m\u001b[0mj\u001b[0m\u001b[0;34m//\u001b[0m\u001b[0;36m3\u001b[0m\u001b[0;34m,\u001b[0m \u001b[0mj\u001b[0m\u001b[0;34m%\u001b[0m\u001b[0;36m3\u001b[0m\u001b[0;34m]\u001b[0m\u001b[0;34m.\u001b[0m\u001b[0mset_xticklabels\u001b[0m\u001b[0;34m(\u001b[0m\u001b[0;34m[\u001b[0m\u001b[0;34m\"1%\"\u001b[0m\u001b[0;34m,\u001b[0m \u001b[0;34m\"10%\"\u001b[0m\u001b[0;34m,\u001b[0m \u001b[0;34m\"100%\"\u001b[0m\u001b[0;34m]\u001b[0m\u001b[0;34m)\u001b[0m\u001b[0;34m\u001b[0m\u001b[0;34m\u001b[0m\u001b[0m\n",
      "\u001b[0;31mKeyError\u001b[0m: 0"
     ]
    },
    {
     "data": {
      "image/png": "[encoded data removed]",
      "text/plain": [
       "<Figure size 864x720 with 6 Axes>"
      ]
     },
     "metadata": {
      "needs_background": "light"
     },
     "output_type": "display_data"
    }
   ],
   "source": [
    "evaluate(results, accuracy, fscore)"
   ]
  },
  {
   "cell_type": "code",
   "execution_count": 85,
   "id": "6b04a527",
   "metadata": {},
   "outputs": [
    {
     "name": "stdout",
     "output_type": "stream",
     "text": [
      "LogisticRegression\n"
     ]
    },
    {
     "data": {
      "text/html": [
       "<div>\n",
       "<style scoped>\n",
       "    .dataframe tbody tr th:only-of-type {\n",
       "        vertical-align: middle;\n",
       "    }\n",
       "\n",
       "    .dataframe tbody tr th {\n",
       "        vertical-align: top;\n",
       "    }\n",
       "\n",
       "    .dataframe thead th {\n",
       "        text-align: right;\n",
       "    }\n",
       "</style>\n",
       "<table border=\"1\" class=\"dataframe\">\n",
       "  <thead>\n",
       "    <tr style=\"text-align: right;\">\n",
       "      <th></th>\n",
       "      <th>1%</th>\n",
       "      <th>10%</th>\n",
       "      <th>100%</th>\n",
       "    </tr>\n",
       "  </thead>\n",
       "  <tbody>\n",
       "    <tr>\n",
       "      <th>train_time</th>\n",
       "      <td>0.145338</td>\n",
       "      <td>0.420537</td>\n",
       "      <td>6.640020</td>\n",
       "    </tr>\n",
       "    <tr>\n",
       "      <th>pred_time</th>\n",
       "      <td>0.524854</td>\n",
       "      <td>0.601763</td>\n",
       "      <td>0.251486</td>\n",
       "    </tr>\n",
       "    <tr>\n",
       "      <th>acc_train</th>\n",
       "      <td>0.583333</td>\n",
       "      <td>0.583333</td>\n",
       "      <td>0.583333</td>\n",
       "    </tr>\n",
       "    <tr>\n",
       "      <th>acc_test</th>\n",
       "      <td>0.562978</td>\n",
       "      <td>0.562978</td>\n",
       "      <td>0.562978</td>\n",
       "    </tr>\n",
       "    <tr>\n",
       "      <th>f_train</th>\n",
       "      <td>0.636364</td>\n",
       "      <td>0.636364</td>\n",
       "      <td>0.636364</td>\n",
       "    </tr>\n",
       "    <tr>\n",
       "      <th>f_test</th>\n",
       "      <td>0.616897</td>\n",
       "      <td>0.616897</td>\n",
       "      <td>0.616897</td>\n",
       "    </tr>\n",
       "  </tbody>\n",
       "</table>\n",
       "</div>"
      ],
      "text/plain": [
       "                  1%       10%      100%\n",
       "train_time  0.145338  0.420537  6.640020\n",
       "pred_time   0.524854  0.601763  0.251486\n",
       "acc_train   0.583333  0.583333  0.583333\n",
       "acc_test    0.562978  0.562978  0.562978\n",
       "f_train     0.636364  0.636364  0.636364\n",
       "f_test      0.616897  0.616897  0.616897"
      ]
     },
     "metadata": {},
     "output_type": "display_data"
    },
    {
     "name": "stdout",
     "output_type": "stream",
     "text": [
      "DecisionTreeClassifier\n"
     ]
    },
    {
     "data": {
      "text/html": [
       "<div>\n",
       "<style scoped>\n",
       "    .dataframe tbody tr th:only-of-type {\n",
       "        vertical-align: middle;\n",
       "    }\n",
       "\n",
       "    .dataframe tbody tr th {\n",
       "        vertical-align: top;\n",
       "    }\n",
       "\n",
       "    .dataframe thead th {\n",
       "        text-align: right;\n",
       "    }\n",
       "</style>\n",
       "<table border=\"1\" class=\"dataframe\">\n",
       "  <thead>\n",
       "    <tr style=\"text-align: right;\">\n",
       "      <th></th>\n",
       "      <th>1%</th>\n",
       "      <th>10%</th>\n",
       "      <th>100%</th>\n",
       "    </tr>\n",
       "  </thead>\n",
       "  <tbody>\n",
       "    <tr>\n",
       "      <th>train_time</th>\n",
       "      <td>0.052678</td>\n",
       "      <td>0.432245</td>\n",
       "      <td>13.280619</td>\n",
       "    </tr>\n",
       "    <tr>\n",
       "      <th>pred_time</th>\n",
       "      <td>0.392959</td>\n",
       "      <td>0.589028</td>\n",
       "      <td>0.370811</td>\n",
       "    </tr>\n",
       "    <tr>\n",
       "      <th>acc_train</th>\n",
       "      <td>1.000000</td>\n",
       "      <td>1.000000</td>\n",
       "      <td>1.000000</td>\n",
       "    </tr>\n",
       "    <tr>\n",
       "      <th>acc_test</th>\n",
       "      <td>0.943076</td>\n",
       "      <td>0.985306</td>\n",
       "      <td>0.996150</td>\n",
       "    </tr>\n",
       "    <tr>\n",
       "      <th>f_train</th>\n",
       "      <td>1.000000</td>\n",
       "      <td>1.000000</td>\n",
       "      <td>1.000000</td>\n",
       "    </tr>\n",
       "    <tr>\n",
       "      <th>f_test</th>\n",
       "      <td>0.944205</td>\n",
       "      <td>0.985865</td>\n",
       "      <td>0.996100</td>\n",
       "    </tr>\n",
       "  </tbody>\n",
       "</table>\n",
       "</div>"
      ],
      "text/plain": [
       "                  1%       10%       100%\n",
       "train_time  0.052678  0.432245  13.280619\n",
       "pred_time   0.392959  0.589028   0.370811\n",
       "acc_train   1.000000  1.000000   1.000000\n",
       "acc_test    0.943076  0.985306   0.996150\n",
       "f_train     1.000000  1.000000   1.000000\n",
       "f_test      0.944205  0.985865   0.996100"
      ]
     },
     "metadata": {},
     "output_type": "display_data"
    },
    {
     "name": "stdout",
     "output_type": "stream",
     "text": [
      "MultinomialNB\n"
     ]
    },
    {
     "data": {
      "text/html": [
       "<div>\n",
       "<style scoped>\n",
       "    .dataframe tbody tr th:only-of-type {\n",
       "        vertical-align: middle;\n",
       "    }\n",
       "\n",
       "    .dataframe tbody tr th {\n",
       "        vertical-align: top;\n",
       "    }\n",
       "\n",
       "    .dataframe thead th {\n",
       "        text-align: right;\n",
       "    }\n",
       "</style>\n",
       "<table border=\"1\" class=\"dataframe\">\n",
       "  <thead>\n",
       "    <tr style=\"text-align: right;\">\n",
       "      <th></th>\n",
       "      <th>1%</th>\n",
       "      <th>10%</th>\n",
       "      <th>100%</th>\n",
       "    </tr>\n",
       "  </thead>\n",
       "  <tbody>\n",
       "    <tr>\n",
       "      <th>train_time</th>\n",
       "      <td>0.035707</td>\n",
       "      <td>0.162353</td>\n",
       "      <td>2.164744</td>\n",
       "    </tr>\n",
       "    <tr>\n",
       "      <th>pred_time</th>\n",
       "      <td>0.321262</td>\n",
       "      <td>0.366265</td>\n",
       "      <td>0.282857</td>\n",
       "    </tr>\n",
       "    <tr>\n",
       "      <th>acc_train</th>\n",
       "      <td>0.806667</td>\n",
       "      <td>0.686667</td>\n",
       "      <td>0.686667</td>\n",
       "    </tr>\n",
       "    <tr>\n",
       "      <th>acc_test</th>\n",
       "      <td>0.805219</td>\n",
       "      <td>0.698190</td>\n",
       "      <td>0.692107</td>\n",
       "    </tr>\n",
       "    <tr>\n",
       "      <th>f_train</th>\n",
       "      <td>0.896296</td>\n",
       "      <td>0.699440</td>\n",
       "      <td>0.699440</td>\n",
       "    </tr>\n",
       "    <tr>\n",
       "      <th>f_test</th>\n",
       "      <td>0.890085</td>\n",
       "      <td>0.699850</td>\n",
       "      <td>0.695642</td>\n",
       "    </tr>\n",
       "  </tbody>\n",
       "</table>\n",
       "</div>"
      ],
      "text/plain": [
       "                  1%       10%      100%\n",
       "train_time  0.035707  0.162353  2.164744\n",
       "pred_time   0.321262  0.366265  0.282857\n",
       "acc_train   0.806667  0.686667  0.686667\n",
       "acc_test    0.805219  0.698190  0.692107\n",
       "f_train     0.896296  0.699440  0.699440\n",
       "f_test      0.890085  0.699850  0.695642"
      ]
     },
     "metadata": {},
     "output_type": "display_data"
    },
    {
     "name": "stdout",
     "output_type": "stream",
     "text": [
      "clf_svc\n"
     ]
    },
    {
     "data": {
      "text/html": [
       "<div>\n",
       "<style scoped>\n",
       "    .dataframe tbody tr th:only-of-type {\n",
       "        vertical-align: middle;\n",
       "    }\n",
       "\n",
       "    .dataframe tbody tr th {\n",
       "        vertical-align: top;\n",
       "    }\n",
       "\n",
       "    .dataframe thead th {\n",
       "        text-align: right;\n",
       "    }\n",
       "</style>\n",
       "<table border=\"1\" class=\"dataframe\">\n",
       "  <thead>\n",
       "    <tr style=\"text-align: right;\">\n",
       "      <th></th>\n",
       "      <th>100%</th>\n",
       "    </tr>\n",
       "  </thead>\n",
       "  <tbody>\n",
       "    <tr>\n",
       "      <th>acc_test</th>\n",
       "      <td>0.562978</td>\n",
       "    </tr>\n",
       "    <tr>\n",
       "      <th>acc_train</th>\n",
       "      <td>0.583333</td>\n",
       "    </tr>\n",
       "    <tr>\n",
       "      <th>f_test</th>\n",
       "      <td>0.616897</td>\n",
       "    </tr>\n",
       "    <tr>\n",
       "      <th>f_train</th>\n",
       "      <td>0.636364</td>\n",
       "    </tr>\n",
       "    <tr>\n",
       "      <th>pred_time</th>\n",
       "      <td>1091.093343</td>\n",
       "    </tr>\n",
       "    <tr>\n",
       "      <th>train_time</th>\n",
       "      <td>863.707451</td>\n",
       "    </tr>\n",
       "  </tbody>\n",
       "</table>\n",
       "</div>"
      ],
      "text/plain": [
       "                   100%\n",
       "acc_test       0.562978\n",
       "acc_train      0.583333\n",
       "f_test         0.616897\n",
       "f_train        0.636364\n",
       "pred_time   1091.093343\n",
       "train_time   863.707451"
      ]
     },
     "metadata": {},
     "output_type": "display_data"
    }
   ],
   "source": [
    "#Printing out the values\n",
    "for i in results.items():\n",
    "    print (i[0])\n",
    "    display(pd.DataFrame(i[1]).rename(columns={0:'1%', 1:'10%', 2:'100%'}))"
   ]
  },
  {
   "cell_type": "code",
   "execution_count": null,
   "id": "f0298222",
   "metadata": {},
   "outputs": [],
   "source": [
    "from sklearn.metrics import confusion_matrix\n",
    "\n",
    "for i,model in enumerate([clf_dtree,clf_logreg, clf_svc]):\n",
    "    cm = confusion_matrix(y_test, model.predict(X_test))\n",
    "    cm = cm.astype('float') / cm.sum(axis=1)[:, np.newaxis] # normalize the data\n",
    "\n",
    "    # view with a heatmap\n",
    "    plt.figure(i)\n",
    "    sns.heatmap(cm, annot=True, annot_kws={\"size\":30}, \n",
    "            cmap='Blues', square=True, fmt='.3f')\n",
    "    plt.ylabel('True label')\n",
    "    plt.xlabel('Predicted label')\n",
    "    plt.title('Confusion matrix for:\\n{}'.format(model.__class__.__name__));"
   ]
  },
  {
   "cell_type": "markdown",
   "id": "9d199ce6",
   "metadata": {},
   "source": [
    "### Extracting Feature Importance"
   ]
  },
  {
   "cell_type": "code",
   "execution_count": null,
   "id": "4fbf26e3",
   "metadata": {},
   "outputs": [],
   "source": [
    "# TODO: Import a supervised learning model that has 'feature_importances_'\n",
    "\n",
    "# TODO: Train the supervised model on the training set \n",
    "model = AdaBoostClassifier().fit(X_train,y_train)\n",
    "\n",
    "# TODO: Extract the feature importances\n",
    "importances = model.feature_importances_\n",
    "\n",
    "# Plot\n",
    "feature_plot(importances, X_train, y_train)"
   ]
  }
 ],
 "metadata": {
  "interpreter": {
   "hash": "b58e2bc1572df468e5d42d3993d3ef1ccd4fafa9e984d7179347929f947a7c38"
  },
  "kernelspec": {
   "display_name": "Python 3",
   "language": "python",
   "name": "python3"
  },
  "language_info": {
   "codemirror_mode": {
    "name": "ipython",
    "version": 3
   },
   "file_extension": ".py",
   "mimetype": "text/x-python",
   "name": "python",
   "nbconvert_exporter": "python",
   "pygments_lexer": "ipython3",
   "version": "3.8.5"
  }
 },
 "nbformat": 4,
 "nbformat_minor": 5
}
