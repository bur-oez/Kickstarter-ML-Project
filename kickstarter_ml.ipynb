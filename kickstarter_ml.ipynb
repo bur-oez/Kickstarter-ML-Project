{
 "cells": [
  {
   "cell_type": "markdown",
   "id": "5bd2eae9-4328-4417-b32d-dcea7509aab6",
   "metadata": {
    "tags": []
   },
   "source": [
    "# Kickstarter ML Project"
   ]
  }
 ],
 "metadata": {
  "kernelspec": {
   "display_name": "Python 3",
   "language": "python",
   "name": "python3"
  },
  "language_info": {
   "codemirror_mode": {
    "name": "ipython",
    "version": 3
   },
   "file_extension": ".py",
   "mimetype": "text/x-python",
   "name": "python",
   "nbconvert_exporter": "python",
   "pygments_lexer": "ipython3",
   "version": "3.8.5"
  }
 },
 "nbformat": 4,
 "nbformat_minor": 5
}
