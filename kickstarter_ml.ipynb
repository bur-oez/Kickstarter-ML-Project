{
 "cells": [
  {
   "cell_type": "markdown",
   "id": "d46ded39",
   "metadata": {
    "tags": []
   },
   "source": [
    "# Kickstarter ML Project"
   ]
  },
  {
   "cell_type": "markdown",
   "id": "2187573b-f08e-4cd2-a145-389b9b576b94",
   "metadata": {},
   "source": [
    "## Preparation"
   ]
  },
  {
   "cell_type": "code",
   "execution_count": 4,
   "id": "5d6bc5b3",
   "metadata": {},
   "outputs": [
    {
     "output_type": "error",
     "ename": "ModuleNotFoundError",
     "evalue": "No module named 'sweetviz'",
     "traceback": [
      "\u001b[0;31m---------------------------------------------------------------------------\u001b[0m",
      "\u001b[0;31mModuleNotFoundError\u001b[0m                       Traceback (most recent call last)",
      "\u001b[0;32m<ipython-input-4-c9dc8f6827ed>\u001b[0m in \u001b[0;36m<module>\u001b[0;34m\u001b[0m\n\u001b[1;32m      3\u001b[0m \u001b[0;32mimport\u001b[0m \u001b[0mglob\u001b[0m\u001b[0;34m\u001b[0m\u001b[0;34m\u001b[0m\u001b[0m\n\u001b[1;32m      4\u001b[0m \u001b[0;34m\u001b[0m\u001b[0m\n\u001b[0;32m----> 5\u001b[0;31m \u001b[0;32mimport\u001b[0m \u001b[0msweetviz\u001b[0m \u001b[0;32mas\u001b[0m \u001b[0msv\u001b[0m\u001b[0;34m\u001b[0m\u001b[0;34m\u001b[0m\u001b[0m\n\u001b[0m",
      "\u001b[0;31mModuleNotFoundError\u001b[0m: No module named 'sweetviz'"
     ]
    }
   ],
   "source": [
    "import pandas as pd\n",
    "import numpy as np\n",
    "import glob\n",
    "\n",
    "import sweetviz as sv"
   ]
  },
  {
   "cell_type": "markdown",
   "id": "77ba6bd6-b9f7-4fbf-95fc-67f9fc7dcee4",
   "metadata": {},
   "source": [
    "### Load Data"
   ]
  },
  {
   "cell_type": "code",
   "execution_count": 2,
   "id": "7abb6370",
   "metadata": {},
   "outputs": [],
   "source": [
    "# Load csv's and merge to a single dataframe\n",
    "\n",
    "path = \"/Users/bur.oez/neuefische/Kickstarter-ML-Project/data/*.csv\" # Burak's path\n",
    "#path = \"data/*.csv\" # Christian's path\n",
    "#path = \".../*.csv\"\" # Matthias's path\n",
    "\n",
    "all_files = glob.glob(path)\n",
    "df_raw = pd.concat((pd.read_csv(f) for f in all_files))"
   ]
  },
  {
   "cell_type": "markdown",
   "id": "75d14ece-0c60-4482-9e7a-b90f4bd31929",
   "metadata": {},
   "source": [
    "### Overview"
   ]
  },
  {
   "cell_type": "code",
   "execution_count": 4,
   "id": "7f0ded9e",
   "metadata": {},
   "outputs": [
    {
     "output_type": "stream",
     "name": "stderr",
     "text": [
      "Done! Use 'show' commands to display/save.   |██████████| [100%]   00:03 -> (00:00 left)\n",
      "Report SWEETVIZ_REPORT.html was generated! NOTEBOOK/COLAB USERS: the web browser MAY not pop up, regardless, the report IS saved in your notebook/colab files.\n"
     ]
    }
   ],
   "source": [
    "## Execute Sweetviz \n",
    "#my_report = sv.analyze(df_raw)\n",
    "#my_report.show_html() # Default arguments will generate to \"SWEETVIZ_REPORT.html\""
   ]
  },
  {
   "cell_type": "code",
   "execution_count": 3,
   "id": "fcc9b39c-9e88-4f6a-a6a4-a2385a8cef43",
   "metadata": {},
   "outputs": [
    {
     "output_type": "execute_result",
     "data": {
      "text/plain": [
       "Index(['backers_count', 'blurb', 'category', 'converted_pledged_amount',\n",
       "       'country', 'created_at', 'creator', 'currency', 'currency_symbol',\n",
       "       'currency_trailing_code', 'current_currency', 'deadline',\n",
       "       'disable_communication', 'friends', 'fx_rate', 'goal', 'id',\n",
       "       'is_backing', 'is_starrable', 'is_starred', 'launched_at', 'location',\n",
       "       'name', 'permissions', 'photo', 'pledged', 'profile', 'slug',\n",
       "       'source_url', 'spotlight', 'staff_pick', 'state', 'state_changed_at',\n",
       "       'static_usd_rate', 'urls', 'usd_pledged', 'usd_type'],\n",
       "      dtype='object')"
      ]
     },
     "metadata": {},
     "execution_count": 3
    }
   ],
   "source": [
    "df_raw.columns"
   ]
  },
  {
   "cell_type": "markdown",
   "id": "59b990cd-291f-4036-9949-13775ef7d65a",
   "metadata": {},
   "source": [
    "## Data Cleaning\n",
    "\n",
    "For safety, we operate on a copy of the data frame."
   ]
  },
  {
   "cell_type": "code",
   "execution_count": 202,
   "id": "11847242-f172-4809-89fe-08f6d690e2c9",
   "metadata": {},
   "outputs": [],
   "source": [
    "df = df_raw.copy()"
   ]
  },
  {
   "cell_type": "markdown",
   "id": "3433db9b-5dc2-47f3-8a48-b579cd859c1c",
   "metadata": {},
   "source": [
    "For a basic feature analysis, we may focus on easily accessible features. Consequently, we drop the cols\n",
    "- `blurb`, `creator`, `slug`, `name` and `photo`, because they might only be exploitable through a semantic or context analysis,\n",
    "- `currency_symbol`, `currency_trailing_code`, because they are redundant,\n",
    "r a basic feature analysis, we may focus on easily accessible features. Consequently, we drop the cols\n",
    "- `blurb`, `creator`, `slug`, `name` and `photo`, because they might only be exploitable through a semantic or context analysis,\n",
    "- `currency_symbol`, `currency_trailing_code`, because they are redundant,\n",
    "- `friends`, ìs_starrable` and `permission`, because they do not contain any information,\n",
    "- `disable_communication`, `is_backing` and `is_starred`, because they have an entry only for the same 300 data points and it is questionable whether the missing entries may be treated as one category; later on we might try this with one of them and drop the other two,  \n",
    "- `urls`, `source_url` and `profile` because they do not contain additional information.\n",
    "- `spotlight` and `staff_pick` will be dropped, because the creator has no influence on Kickstarter Staff picks\n",
    "- `created_at`, `launched_at` and `state_changed_at` will be kept to calculate time-deltas for potential new features."
   ]
  },
  {
   "cell_type": "code",
   "execution_count": 203,
   "id": "e6b9a2ff-c29e-47c3-99d0-82cd4520ea7e",
   "metadata": {},
   "outputs": [
    {
     "output_type": "execute_result",
     "data": {
      "text/plain": [
       "   backers_count                                           category  \\\n",
       "0            315  {\"id\":266,\"name\":\"Footwear\",\"slug\":\"fashion/fo...   \n",
       "1             47  {\"id\":273,\"name\":\"Playing Cards\",\"slug\":\"games...   \n",
       "2            271  {\"id\":43,\"name\":\"Rock\",\"slug\":\"music/rock\",\"po...   \n",
       "3              3  {\"id\":273,\"name\":\"Playing Cards\",\"slug\":\"games...   \n",
       "4              3  {\"id\":48,\"name\":\"Nonfiction\",\"slug\":\"publishin...   \n",
       "\n",
       "   converted_pledged_amount country  created_at currency current_currency  \\\n",
       "0                     28645      US  1541459205      USD              USD   \n",
       "1                      1950      US  1501684093      USD              USD   \n",
       "2                     22404      US  1348987533      USD              USD   \n",
       "3                       165      GB  1483780271      GBP              USD   \n",
       "4                      2820      US  1354817071      USD              USD   \n",
       "\n",
       "     deadline   fx_rate     goal          id  launched_at  \\\n",
       "0  1552539775  1.000000  28000.0  2108505034   1548223375   \n",
       "1  1504976459  1.000000   1000.0   928751314   1502384459   \n",
       "2  1371013395  1.000000  15000.0   928014092   1368421395   \n",
       "3  1489425776  1.308394  10000.0   596091328   1484245376   \n",
       "4  1357763527  1.000000   2800.0   998516049   1355171527   \n",
       "\n",
       "                                            location  pledged       state  \\\n",
       "0  {\"id\":2462429,\"name\":\"Novato\",\"slug\":\"novato-c...  28645.0        live   \n",
       "1  {\"id\":2400549,\"name\":\"Euless\",\"slug\":\"euless-t...   1950.0  successful   \n",
       "2  {\"id\":2423474,\"name\":\"Hollywood\",\"slug\":\"holly...  22404.0  successful   \n",
       "3  {\"id\":475457,\"name\":\"Kaunas\",\"slug\":\"kaunas-ka...    136.0      failed   \n",
       "4  {\"id\":2507703,\"name\":\"Traverse City\",\"slug\":\"t...   2820.0  successful   \n",
       "\n",
       "   state_changed_at  static_usd_rate   usd_pledged  \n",
       "0        1548223375         1.000000  28645.000000  \n",
       "1        1504976459         1.000000   1950.000000  \n",
       "2        1371013395         1.000000  22404.000000  \n",
       "3        1489425776         1.216066    165.384934  \n",
       "4        1357763527         1.000000   2820.000000  "
      ],
      "text/html": "<div>\n<style scoped>\n    .dataframe tbody tr th:only-of-type {\n        vertical-align: middle;\n    }\n\n    .dataframe tbody tr th {\n        vertical-align: top;\n    }\n\n    .dataframe thead th {\n        text-align: right;\n    }\n</style>\n<table border=\"1\" class=\"dataframe\">\n  <thead>\n    <tr style=\"text-align: right;\">\n      <th></th>\n      <th>backers_count</th>\n      <th>category</th>\n      <th>converted_pledged_amount</th>\n      <th>country</th>\n      <th>created_at</th>\n      <th>currency</th>\n      <th>current_currency</th>\n      <th>deadline</th>\n      <th>fx_rate</th>\n      <th>goal</th>\n      <th>id</th>\n      <th>launched_at</th>\n      <th>location</th>\n      <th>pledged</th>\n      <th>state</th>\n      <th>state_changed_at</th>\n      <th>static_usd_rate</th>\n      <th>usd_pledged</th>\n    </tr>\n  </thead>\n  <tbody>\n    <tr>\n      <th>0</th>\n      <td>315</td>\n      <td>{\"id\":266,\"name\":\"Footwear\",\"slug\":\"fashion/fo...</td>\n      <td>28645</td>\n      <td>US</td>\n      <td>1541459205</td>\n      <td>USD</td>\n      <td>USD</td>\n      <td>1552539775</td>\n      <td>1.000000</td>\n      <td>28000.0</td>\n      <td>2108505034</td>\n      <td>1548223375</td>\n      <td>{\"id\":2462429,\"name\":\"Novato\",\"slug\":\"novato-c...</td>\n      <td>28645.0</td>\n      <td>live</td>\n      <td>1548223375</td>\n      <td>1.000000</td>\n      <td>28645.000000</td>\n    </tr>\n    <tr>\n      <th>1</th>\n      <td>47</td>\n      <td>{\"id\":273,\"name\":\"Playing Cards\",\"slug\":\"games...</td>\n      <td>1950</td>\n      <td>US</td>\n      <td>1501684093</td>\n      <td>USD</td>\n      <td>USD</td>\n      <td>1504976459</td>\n      <td>1.000000</td>\n      <td>1000.0</td>\n      <td>928751314</td>\n      <td>1502384459</td>\n      <td>{\"id\":2400549,\"name\":\"Euless\",\"slug\":\"euless-t...</td>\n      <td>1950.0</td>\n      <td>successful</td>\n      <td>1504976459</td>\n      <td>1.000000</td>\n      <td>1950.000000</td>\n    </tr>\n    <tr>\n      <th>2</th>\n      <td>271</td>\n      <td>{\"id\":43,\"name\":\"Rock\",\"slug\":\"music/rock\",\"po...</td>\n      <td>22404</td>\n      <td>US</td>\n      <td>1348987533</td>\n      <td>USD</td>\n      <td>USD</td>\n      <td>1371013395</td>\n      <td>1.000000</td>\n      <td>15000.0</td>\n      <td>928014092</td>\n      <td>1368421395</td>\n      <td>{\"id\":2423474,\"name\":\"Hollywood\",\"slug\":\"holly...</td>\n      <td>22404.0</td>\n      <td>successful</td>\n      <td>1371013395</td>\n      <td>1.000000</td>\n      <td>22404.000000</td>\n    </tr>\n    <tr>\n      <th>3</th>\n      <td>3</td>\n      <td>{\"id\":273,\"name\":\"Playing Cards\",\"slug\":\"games...</td>\n      <td>165</td>\n      <td>GB</td>\n      <td>1483780271</td>\n      <td>GBP</td>\n      <td>USD</td>\n      <td>1489425776</td>\n      <td>1.308394</td>\n      <td>10000.0</td>\n      <td>596091328</td>\n      <td>1484245376</td>\n      <td>{\"id\":475457,\"name\":\"Kaunas\",\"slug\":\"kaunas-ka...</td>\n      <td>136.0</td>\n      <td>failed</td>\n      <td>1489425776</td>\n      <td>1.216066</td>\n      <td>165.384934</td>\n    </tr>\n    <tr>\n      <th>4</th>\n      <td>3</td>\n      <td>{\"id\":48,\"name\":\"Nonfiction\",\"slug\":\"publishin...</td>\n      <td>2820</td>\n      <td>US</td>\n      <td>1354817071</td>\n      <td>USD</td>\n      <td>USD</td>\n      <td>1357763527</td>\n      <td>1.000000</td>\n      <td>2800.0</td>\n      <td>998516049</td>\n      <td>1355171527</td>\n      <td>{\"id\":2507703,\"name\":\"Traverse City\",\"slug\":\"t...</td>\n      <td>2820.0</td>\n      <td>successful</td>\n      <td>1357763527</td>\n      <td>1.000000</td>\n      <td>2820.000000</td>\n    </tr>\n  </tbody>\n</table>\n</div>"
     },
     "metadata": {},
     "execution_count": 203
    }
   ],
   "source": [
    "# dropping columns\n",
    "df = df.drop([\"blurb\", \"creator\", \"slug\", \"name\", \"photo\", \"currency_symbol\", \"currency_trailing_code\", \"friends\", \"permissions\", \"disable_communication\", \"is_backing\", \"is_starred\",\"urls\", \"source_url\", \"profile\", \"usd_type\", \"spotlight\", \"staff_pick\",\"is_starrable\"], axis = 1)\n",
    "df.head()"
   ]
  },
  {
   "cell_type": "markdown",
   "id": "f24103e3-731a-499e-b7e7-75a814f7303d",
   "metadata": {},
   "source": [
    "Extract field and subfield ids from `category` (id and parent_id):"
   ]
  },
  {
   "cell_type": "code",
   "execution_count": 204,
   "metadata": {},
   "outputs": [],
   "source": [
    "import ast\n",
    "df.category =[ ast.literal_eval(x) for x in df.iloc[:,df.columns.tolist().index(\"category\")]]"
   ]
  },
  {
   "cell_type": "code",
   "execution_count": 205,
   "metadata": {},
   "outputs": [
    {
     "output_type": "execute_result",
     "data": {
      "text/plain": [
       "9041"
      ]
     },
     "metadata": {},
     "execution_count": 205
    }
   ],
   "source": [
    "# checking which rows do not contain \"parent_id\" inside category dictionary\n",
    "cat_list_parent_id = np.array([\"parent_id\" not in df.category.iloc[x].keys() for x in range(0,len(df.category))])\n",
    "cat_list_parent_id.sum()"
   ]
  },
  {
   "cell_type": "code",
   "execution_count": 207,
   "metadata": {},
   "outputs": [
    {
     "output_type": "execute_result",
     "data": {
      "text/plain": [
       "    backers_count                                           category  \\\n",
       "7              33  {'id': 14, 'name': 'Music', 'slug': 'music', '...   \n",
       "25             74  {'id': 15, 'name': 'Photography', 'slug': 'pho...   \n",
       "27             41  {'id': 9, 'name': 'Fashion', 'slug': 'fashion'...   \n",
       "\n",
       "    converted_pledged_amount country  created_at currency current_currency  \\\n",
       "7                        660      US  1546965483      USD              USD   \n",
       "25                      2808      GB  1542202969      GBP              USD   \n",
       "27                     21161      GB  1551345787      GBP              CAD   \n",
       "\n",
       "      deadline   fx_rate     goal          id  launched_at  \\\n",
       "7   1550067305  1.000000    400.0  1481360049   1547475305   \n",
       "25  1544200381  1.308394   2000.0   865110410   1542385981   \n",
       "27  1554490790  1.748586  20000.0  1889386358   1551898790   \n",
       "\n",
       "                                             location  pledged       state  \\\n",
       "7   {\"id\":2430903,\"name\":\"Kaysville\",\"slug\":\"kaysv...    660.0  successful   \n",
       "25  {\"id\":12056,\"name\":\"Bath\",\"slug\":\"bath-gb\",\"sh...   2199.0  successful   \n",
       "27  {\"id\":40611,\"name\":\"Winchester\",\"slug\":\"winche...  12102.0        live   \n",
       "\n",
       "    state_changed_at  static_usd_rate   usd_pledged  \n",
       "7         1550067307         1.000000    660.000000  \n",
       "25        1544200381         1.301163   2861.258251  \n",
       "27        1551898791         1.315996  15926.177904  "
      ],
      "text/html": "<div>\n<style scoped>\n    .dataframe tbody tr th:only-of-type {\n        vertical-align: middle;\n    }\n\n    .dataframe tbody tr th {\n        vertical-align: top;\n    }\n\n    .dataframe thead th {\n        text-align: right;\n    }\n</style>\n<table border=\"1\" class=\"dataframe\">\n  <thead>\n    <tr style=\"text-align: right;\">\n      <th></th>\n      <th>backers_count</th>\n      <th>category</th>\n      <th>converted_pledged_amount</th>\n      <th>country</th>\n      <th>created_at</th>\n      <th>currency</th>\n      <th>current_currency</th>\n      <th>deadline</th>\n      <th>fx_rate</th>\n      <th>goal</th>\n      <th>id</th>\n      <th>launched_at</th>\n      <th>location</th>\n      <th>pledged</th>\n      <th>state</th>\n      <th>state_changed_at</th>\n      <th>static_usd_rate</th>\n      <th>usd_pledged</th>\n    </tr>\n  </thead>\n  <tbody>\n    <tr>\n      <th>7</th>\n      <td>33</td>\n      <td>{'id': 14, 'name': 'Music', 'slug': 'music', '...</td>\n      <td>660</td>\n      <td>US</td>\n      <td>1546965483</td>\n      <td>USD</td>\n      <td>USD</td>\n      <td>1550067305</td>\n      <td>1.000000</td>\n      <td>400.0</td>\n      <td>1481360049</td>\n      <td>1547475305</td>\n      <td>{\"id\":2430903,\"name\":\"Kaysville\",\"slug\":\"kaysv...</td>\n      <td>660.0</td>\n      <td>successful</td>\n      <td>1550067307</td>\n      <td>1.000000</td>\n      <td>660.000000</td>\n    </tr>\n    <tr>\n      <th>25</th>\n      <td>74</td>\n      <td>{'id': 15, 'name': 'Photography', 'slug': 'pho...</td>\n      <td>2808</td>\n      <td>GB</td>\n      <td>1542202969</td>\n      <td>GBP</td>\n      <td>USD</td>\n      <td>1544200381</td>\n      <td>1.308394</td>\n      <td>2000.0</td>\n      <td>865110410</td>\n      <td>1542385981</td>\n      <td>{\"id\":12056,\"name\":\"Bath\",\"slug\":\"bath-gb\",\"sh...</td>\n      <td>2199.0</td>\n      <td>successful</td>\n      <td>1544200381</td>\n      <td>1.301163</td>\n      <td>2861.258251</td>\n    </tr>\n    <tr>\n      <th>27</th>\n      <td>41</td>\n      <td>{'id': 9, 'name': 'Fashion', 'slug': 'fashion'...</td>\n      <td>21161</td>\n      <td>GB</td>\n      <td>1551345787</td>\n      <td>GBP</td>\n      <td>CAD</td>\n      <td>1554490790</td>\n      <td>1.748586</td>\n      <td>20000.0</td>\n      <td>1889386358</td>\n      <td>1551898790</td>\n      <td>{\"id\":40611,\"name\":\"Winchester\",\"slug\":\"winche...</td>\n      <td>12102.0</td>\n      <td>live</td>\n      <td>1551898791</td>\n      <td>1.315996</td>\n      <td>15926.177904</td>\n    </tr>\n  </tbody>\n</table>\n</div>"
     },
     "metadata": {},
     "execution_count": 207
    }
   ],
   "source": [
    "df[cat_list_parent_id].iloc[0:3]"
   ]
  },
  {
   "cell_type": "code",
   "execution_count": 208,
   "metadata": {},
   "outputs": [
    {
     "output_type": "execute_result",
     "data": {
      "text/plain": [
       "{'id': 266,\n",
       " 'name': 'Footwear',\n",
       " 'slug': 'fashion/footwear',\n",
       " 'position': 5,\n",
       " 'parent_id': 9,\n",
       " 'color': 16752598,\n",
       " 'urls': {'web': {'discover': 'http://www.kickstarter.com/discover/categories/fashion/footwear'}}}"
      ]
     },
     "metadata": {},
     "execution_count": 208
    }
   ],
   "source": [
    "df.category.iloc[0]"
   ]
  },
  {
   "source": [
    "The `id` column represents each subcategory. `parent_id` represents each parent category, since the values for `id` start after `parent_id` values, we will use `id` to seperate each project into categories.\n",
    "\n",
    "e `id` column represents each subcategory. `parent_id` represents each parent category, since the values for `id` start after `parent_id` values, we will use `id` to seperate each project into categories.\n",
    "\n",
    "To projects without proper subcategorisation the `parent_id` is assigned. In addition `slug`is added for increased readability."
   ],
   "cell_type": "markdown",
   "metadata": {}
  },
  {
   "cell_type": "code",
   "execution_count": 210,
   "metadata": {},
   "outputs": [],
   "source": [
    "df[\"cat_id\"] = [df.category.iloc[x][\"id\"] for x in range(0,len(df.category))]\n",
    "df[\"slug\"] = [df.category.iloc[x][\"slug\"] for x in range(0,len(df.category))]\n",
    "categories = df.pop(\"category\")"
   ]
  },
  {
   "cell_type": "code",
   "execution_count": 211,
   "metadata": {},
   "outputs": [
    {
     "output_type": "stream",
     "name": "stdout",
     "text": [
      "(209222, 19)\n"
     ]
    }
   ],
   "source": [
    "df.head(3)\n",
    "print(df.shape)"
   ]
  },
  {
   "cell_type": "code",
   "execution_count": null,
   "metadata": {},
   "outputs": [],
   "source": [
    "# check if currency - USD conversion with fx_rate and static_usd_rate matches usd_pledged value\n",
    "print(\"pledged * static_usd_rate == usd_pledged\")\n",
    "print(df.eval(\"pledged * static_usd_rate == usd_pledged\").value_counts())\n",
    "print(\"pledged * fx_rate == usd_pledged\")\n",
    "print(df.eval(\"pledged * fx_rate == usd_pledged\").value_counts())\n",
    "print(\"converted_pledged_amount == usd_pledged\")\n",
    "print(df.eval(\"converted_pledged_amount == usd_pledged\").value_counts())\n",
    "print(\"pledged * static_usd_rate == converted_pledged_amount\")\n",
    "print(df.eval(\"pledged * static_usd_rate == converted_pledged_amount\").value_counts())\n",
    "print(\"pledged * fx_rate == converted_pledged_amount\")\n",
    "print(df.eval(\"pledged * fx_rate == converted_pledged_amount\").value_counts())"
   ]
  },
  {
   "cell_type": "code",
   "execution_count": null,
   "metadata": {},
   "outputs": [],
   "source": [
    "print(df.eval(\"converted_pledged_amount == pledged + usd_pledged\").value_counts())"
   ]
  },
  {
   "source": [
    "The values in `usd_pledged` do not match with the conversion of `pledged` using `fx_rate` or `static_usd_rate`. \n",
    "\n",
    "We decided to take the max value for these columns as the correct amount."
   ],
   "cell_type": "markdown",
   "metadata": {}
  },
  {
   "cell_type": "code",
   "execution_count": 212,
   "metadata": {},
   "outputs": [],
   "source": [
    "# checking whether pledged, usd_pledged or converted_pledged_amount has the highest values\n",
    "df[\"max_pledged\"] = [max(df.pledged.iloc[x], \n",
    "df.usd_pledged.iloc[x], \n",
    "df.converted_pledged_amount.iloc[x]) for x in range(0,len(df))]\n",
    "df = df.drop([\"usd_pledged\", \"pledged\", \"converted_pledged_amount\"], axis = 1)"
   ]
  },
  {
   "cell_type": "code",
   "execution_count": 213,
   "metadata": {},
   "outputs": [],
   "source": [
    "# in addition all other currency info can also be dropped\n",
    "df = df.drop([\"static_usd_rate\", \"fx_rate\", \"currency\", \"current_currency\"], axis = 1)"
   ]
  },
  {
   "cell_type": "code",
   "execution_count": 214,
   "metadata": {},
   "outputs": [
    {
     "output_type": "stream",
     "name": "stdout",
     "text": [
      "(209222, 13)\n"
     ]
    }
   ],
   "source": [
    "# set checkpoint\n",
    "df2 = df.copy()\n",
    "df.head(2)\n",
    "print(df.shape)"
   ]
  },
  {
   "source": [
    "Now we will check whether `live` projects have met their goal and can be considered as `succesful`\n"
   ],
   "cell_type": "markdown",
   "metadata": {}
  },
  {
   "cell_type": "code",
   "execution_count": 215,
   "metadata": {},
   "outputs": [
    {
     "output_type": "execute_result",
     "data": {
      "text/plain": [
       "Series([], Name: state, dtype: object)"
      ]
     },
     "metadata": {},
     "execution_count": 215
    }
   ],
   "source": [
    "df.loc[df['max_pledged'] >= df.goal, 'state'] = \"successful\"\n",
    "#check whether there are live:successsful projects left\n",
    "df.query(\"state == 'live' and max_pledged >= goal\").state"
   ]
  },
  {
   "cell_type": "code",
   "execution_count": 249,
   "metadata": {},
   "outputs": [
    {
     "output_type": "execute_result",
     "data": {
      "text/plain": [
       "(209222, 13)"
      ]
     },
     "metadata": {},
     "execution_count": 249
    }
   ],
   "source": [
    "df = df2.copy()\n",
    "df.shape"
   ]
  },
  {
   "source": [
    "Now we will drop all entries, which are not `successful` or `failed`\n"
   ],
   "cell_type": "markdown",
   "metadata": {}
  },
  {
   "cell_type": "code",
   "execution_count": 233,
   "metadata": {},
   "outputs": [
    {
     "output_type": "execute_result",
     "data": {
      "text/plain": [
       "successful    117465\n",
       "failed         75199\n",
       "canceled        8624\n",
       "live            7311\n",
       "suspended        623\n",
       "Name: state, dtype: int64"
      ]
     },
     "metadata": {},
     "execution_count": 233
    }
   ],
   "source": [
    "df.state.value_counts()"
   ]
  },
  {
   "cell_type": "code",
   "execution_count": 252,
   "metadata": {},
   "outputs": [
    {
     "output_type": "execute_result",
     "data": {
      "text/plain": [
       "array(['successful', 'failed'], dtype=object)"
      ]
     },
     "metadata": {},
     "execution_count": 252
    }
   ],
   "source": [
    "df = df[df.state != \"canceled\"]\n",
    "df = df[df.state != \"suspended\"]\n",
    "df = df[df.state != \"live\"]\n",
    "df.state.unique()"
   ]
  },
  {
   "cell_type": "code",
   "execution_count": 253,
   "metadata": {},
   "outputs": [
    {
     "output_type": "execute_result",
     "data": {
      "text/plain": [
       "(192664, 13)"
      ]
     },
     "metadata": {},
     "execution_count": 253
    }
   ],
   "source": [
    "df.shape"
   ]
  },
  {
   "cell_type": "markdown",
   "id": "36355c28-e77b-40a1-b27d-186363de809c",
   "metadata": {},
   "source": [
    "Sort `countries` into categories US, NA, SEA, GB, ANZ, JP, EU:"
   ]
  },
  {
   "cell_type": "code",
   "execution_count": 254,
   "id": "6ddf464e-a215-4f17-8b48-a1c3a238931e",
   "metadata": {},
   "outputs": [
    {
     "output_type": "execute_result",
     "data": {
      "text/plain": [
       "array(['US', 'GB', 'FR', 'AU', 'NZ', 'ES', 'IT', 'NO', 'NL', 'CA', 'SG',\n",
       "       'MX', 'SE', 'IE', 'DE', 'BE', 'HK', 'AT', 'JP', 'DK', 'CH', 'LU'],\n",
       "      dtype=object)"
      ]
     },
     "metadata": {},
     "execution_count": 254
    }
   ],
   "source": [
    "pd.unique(df.country)"
   ]
  },
  {
   "cell_type": "code",
   "execution_count": 255,
   "metadata": {},
   "outputs": [],
   "source": [
    "df.country.replace({'HK':\"SEA\", 'NL':\"EU\", 'AU':\"ANZ\", 'DE':\"EU\", \"CA\":\"NA\", 'SE':\"EU\",\n",
    "                    'BE':\"EU\", 'MX':\"NA\", 'CH':\"EU\", 'SG':\"SEA\", 'FR':\"EU\", 'IT':\"EU\",\n",
    "                    'DK':\"EU\", 'LU':\"EU\", 'NO':\"EU\", 'ES':\"EU\", 'IE':\"EU\", 'NZ':\"ANZ\", \n",
    "                    'AT':\"EU\"}, inplace = True)"
   ]
  },
  {
   "source": [
    "Turn entries of `created_at`, `launched`, `deadline` into datetime:"
   ],
   "cell_type": "markdown",
   "metadata": {}
  },
  {
   "cell_type": "code",
   "execution_count": 256,
   "id": "2fad707e-c6c4-40ee-baf0-408048b411f3",
   "metadata": {},
   "outputs": [
    {
     "output_type": "execute_result",
     "data": {
      "text/plain": [
       "   backers_count country          created_at            deadline     goal  \\\n",
       "1             47      US 2017-08-02 14:28:13 2017-09-09 17:00:59   1000.0   \n",
       "2            271      US 2012-09-30 06:45:33 2013-06-12 05:03:15  15000.0   \n",
       "3              3      GB 2017-01-07 09:11:11 2017-03-13 17:22:56  10000.0   \n",
       "4              3      US 2012-12-06 18:04:31 2013-01-09 20:32:07   2800.0   \n",
       "5             35      US 2014-10-24 17:35:50 2015-05-02 02:25:46   3500.0   \n",
       "\n",
       "           id         launched_at  \\\n",
       "1   928751314 2017-08-10 17:00:59   \n",
       "2   928014092 2013-05-13 05:03:15   \n",
       "3   596091328 2017-01-12 18:22:56   \n",
       "4   998516049 2012-12-10 20:32:07   \n",
       "5  1224600291 2015-04-02 02:25:46   \n",
       "\n",
       "                                            location       state  \\\n",
       "1  {\"id\":2400549,\"name\":\"Euless\",\"slug\":\"euless-t...  successful   \n",
       "2  {\"id\":2423474,\"name\":\"Hollywood\",\"slug\":\"holly...  successful   \n",
       "3  {\"id\":475457,\"name\":\"Kaunas\",\"slug\":\"kaunas-ka...      failed   \n",
       "4  {\"id\":2507703,\"name\":\"Traverse City\",\"slug\":\"t...  successful   \n",
       "5  {\"id\":2354877,\"name\":\"Annapolis\",\"slug\":\"annap...  successful   \n",
       "\n",
       "     state_changed_at  cat_id                   slug   max_pledged  \n",
       "1 2017-09-09 17:00:59     273    games/playing cards   1950.000000  \n",
       "2 2013-06-12 05:03:15      43             music/rock  22404.000000  \n",
       "3 2017-03-13 17:22:56     273    games/playing cards    165.384934  \n",
       "4 2013-01-09 20:32:07      48  publishing/nonfiction   2820.000000  \n",
       "5 2015-05-02 02:25:46      36  music/classical music   3725.000000  "
      ],
      "text/html": "<div>\n<style scoped>\n    .dataframe tbody tr th:only-of-type {\n        vertical-align: middle;\n    }\n\n    .dataframe tbody tr th {\n        vertical-align: top;\n    }\n\n    .dataframe thead th {\n        text-align: right;\n    }\n</style>\n<table border=\"1\" class=\"dataframe\">\n  <thead>\n    <tr style=\"text-align: right;\">\n      <th></th>\n      <th>backers_count</th>\n      <th>country</th>\n      <th>created_at</th>\n      <th>deadline</th>\n      <th>goal</th>\n      <th>id</th>\n      <th>launched_at</th>\n      <th>location</th>\n      <th>state</th>\n      <th>state_changed_at</th>\n      <th>cat_id</th>\n      <th>slug</th>\n      <th>max_pledged</th>\n    </tr>\n  </thead>\n  <tbody>\n    <tr>\n      <th>1</th>\n      <td>47</td>\n      <td>US</td>\n      <td>2017-08-02 14:28:13</td>\n      <td>2017-09-09 17:00:59</td>\n      <td>1000.0</td>\n      <td>928751314</td>\n      <td>2017-08-10 17:00:59</td>\n      <td>{\"id\":2400549,\"name\":\"Euless\",\"slug\":\"euless-t...</td>\n      <td>successful</td>\n      <td>2017-09-09 17:00:59</td>\n      <td>273</td>\n      <td>games/playing cards</td>\n      <td>1950.000000</td>\n    </tr>\n    <tr>\n      <th>2</th>\n      <td>271</td>\n      <td>US</td>\n      <td>2012-09-30 06:45:33</td>\n      <td>2013-06-12 05:03:15</td>\n      <td>15000.0</td>\n      <td>928014092</td>\n      <td>2013-05-13 05:03:15</td>\n      <td>{\"id\":2423474,\"name\":\"Hollywood\",\"slug\":\"holly...</td>\n      <td>successful</td>\n      <td>2013-06-12 05:03:15</td>\n      <td>43</td>\n      <td>music/rock</td>\n      <td>22404.000000</td>\n    </tr>\n    <tr>\n      <th>3</th>\n      <td>3</td>\n      <td>GB</td>\n      <td>2017-01-07 09:11:11</td>\n      <td>2017-03-13 17:22:56</td>\n      <td>10000.0</td>\n      <td>596091328</td>\n      <td>2017-01-12 18:22:56</td>\n      <td>{\"id\":475457,\"name\":\"Kaunas\",\"slug\":\"kaunas-ka...</td>\n      <td>failed</td>\n      <td>2017-03-13 17:22:56</td>\n      <td>273</td>\n      <td>games/playing cards</td>\n      <td>165.384934</td>\n    </tr>\n    <tr>\n      <th>4</th>\n      <td>3</td>\n      <td>US</td>\n      <td>2012-12-06 18:04:31</td>\n      <td>2013-01-09 20:32:07</td>\n      <td>2800.0</td>\n      <td>998516049</td>\n      <td>2012-12-10 20:32:07</td>\n      <td>{\"id\":2507703,\"name\":\"Traverse City\",\"slug\":\"t...</td>\n      <td>successful</td>\n      <td>2013-01-09 20:32:07</td>\n      <td>48</td>\n      <td>publishing/nonfiction</td>\n      <td>2820.000000</td>\n    </tr>\n    <tr>\n      <th>5</th>\n      <td>35</td>\n      <td>US</td>\n      <td>2014-10-24 17:35:50</td>\n      <td>2015-05-02 02:25:46</td>\n      <td>3500.0</td>\n      <td>1224600291</td>\n      <td>2015-04-02 02:25:46</td>\n      <td>{\"id\":2354877,\"name\":\"Annapolis\",\"slug\":\"annap...</td>\n      <td>successful</td>\n      <td>2015-05-02 02:25:46</td>\n      <td>36</td>\n      <td>music/classical music</td>\n      <td>3725.000000</td>\n    </tr>\n  </tbody>\n</table>\n</div>"
     },
     "metadata": {},
     "execution_count": 256
    }
   ],
   "source": [
    "df.created_at = pd.to_datetime(df.iloc[:,df.columns.tolist().index(\"created_at\")],unit='s')\n",
    "df.launched_at = pd.to_datetime(df.iloc[:,df.columns.tolist().index(\"launched_at\")],unit='s')\n",
    "df.deadline = pd.to_datetime(df.iloc[:,df.columns.tolist().index(\"deadline\")],unit='s')\n",
    "df.state_changed_at = pd.to_datetime(df.iloc[:,df.columns.tolist().index(\"state_changed_at\")],unit='s')\n",
    "df.head()"
   ]
  },
  {
   "cell_type": "code",
   "execution_count": 257,
   "metadata": {},
   "outputs": [
    {
     "output_type": "execute_result",
     "data": {
      "text/plain": [
       "(192664, 13)"
      ]
     },
     "metadata": {},
     "execution_count": 257
    }
   ],
   "source": [
    "df.shape"
   ]
  },
  {
   "cell_type": "code",
   "execution_count": 258,
   "metadata": {},
   "outputs": [],
   "source": [
    "# set checkpoint\n",
    "df2 = df.copy()"
   ]
  },
  {
   "cell_type": "markdown",
   "id": "f7d67c5b-57dd-48b1-b9b4-f0e49fa29d64",
   "metadata": {},
   "source": [
    "Check for `id` copies and remove if they refer to the same data point: multiplicities of entries:"
   ]
  },
  {
   "cell_type": "code",
   "execution_count": 259,
   "id": "48760edb-d80f-4dd3-9e77-307ff1305f32",
   "metadata": {},
   "outputs": [
    {
     "output_type": "stream",
     "name": "stdout",
     "text": [
      "2 1\n"
     ]
    }
   ],
   "source": [
    "print(*df.id.value_counts().unique())"
   ]
  },
  {
   "cell_type": "markdown",
   "id": "e6623d03-a34f-404e-a135-c9fa3a7a740e",
   "metadata": {},
   "source": [
    "List of multiply used `id` entries:"
   ]
  },
  {
   "cell_type": "code",
   "execution_count": 260,
   "id": "eb955f60-49b3-469d-8c36-1f14e6b1102a",
   "metadata": {},
   "outputs": [
    {
     "output_type": "execute_result",
     "data": {
      "text/plain": [
       "23685"
      ]
     },
     "metadata": {},
     "execution_count": 260
    }
   ],
   "source": [
    "dic = df.id.value_counts()\n",
    "multiples = np.array([key for key in dic.keys() if dic[key] > 1])\n",
    "len(multiples)"
   ]
  },
  {
   "cell_type": "markdown",
   "id": "0f7b4ef2-0210-437c-a1cf-d00bebfa8abb",
   "metadata": {},
   "source": [
    "They don't differ in any features, except one."
   ]
  },
  {
   "cell_type": "code",
   "execution_count": 261,
   "id": "8bb749b5-887f-48bd-9b72-b32c7343a2e0",
   "metadata": {
    "tags": []
   },
   "outputs": [
    {
     "output_type": "stream",
     "name": "stdout",
     "text": [
      "(484859009, [])\n",
      "(378920150, [])\n",
      "(825148597, [])\n",
      "(940105647, [])\n",
      "(708119476, [])\n",
      "(1909365226, [])\n",
      "(944999464, [])\n",
      "(1869171908, [])\n",
      "(1178203051, [])\n",
      "(1833998747, [])\n",
      "(59894696, [])\n",
      "(886682531, [])\n",
      "(351380385, [])\n",
      "(64848610, [])\n",
      "(2031038417, [])\n",
      "(2023254936, [])\n",
      "(1258618795, [])\n",
      "(1803035537, [])\n",
      "(844476521, [])\n",
      "(316208677, [])\n",
      "(1593603299, [])\n",
      "(515416961, [])\n",
      "(1536912248, [])\n",
      "(146217846, [])\n",
      "(57353073, [])\n",
      "(1175792606, [])\n",
      "(852282178, [])\n",
      "(1425509220, [])\n",
      "(1296676559, [])\n",
      "(154363137, [])\n",
      "(1268960436, [])\n",
      "(9005823, [])\n",
      "(508197722, [])\n",
      "(1073017867, [])\n",
      "(1940431686, [])\n",
      "(789481316, [])\n",
      "(1229889383, [])\n",
      "(1681253417, [])\n",
      "(2048321384, [])\n",
      "(1370604629, [])\n",
      "(1128673137, [])\n",
      "(1696549691, [])\n",
      "(514021382, [])\n",
      "(1245195368, [])\n",
      "(1292379241, [])\n",
      "(1002183790, [])\n",
      "(1231604051, [])\n",
      "(518837367, [])\n",
      "(1431323140, [])\n",
      "(552998034, [])\n",
      "(1258537770, [])\n",
      "(213093155, [])\n",
      "(1975460849, [])\n",
      "(1341276954, [])\n",
      "(784802953, [])\n",
      "(2094003179, [])\n",
      "(1505383192, [])\n",
      "(1656687756, [])\n",
      "(2024782818, [])\n",
      "(825843615, [])\n",
      "(2039021366, [])\n",
      "(641440926, [])\n",
      "(295664898, [])\n",
      "(111310842, [])\n",
      "(1236274003, [])\n",
      "(2137443020, [])\n",
      "(751103344, [])\n",
      "(606458472, [])\n",
      "(1422103271, [])\n",
      "(949009854, [])\n",
      "(599132722, [])\n",
      "(1924699519, [])\n",
      "(159367245, [])\n",
      "(1294934328, [])\n",
      "(240267987, [])\n",
      "(2005615578, [])\n",
      "(1259548040, [])\n",
      "(1334536280, [])\n",
      "(744512089, [])\n",
      "(2137982349, [])\n",
      "(2085895530, [])\n",
      "(111521984, [])\n",
      "(963553984, [])\n",
      "(721945170, [])\n",
      "(2119031169, [])\n",
      "(1113841046, [])\n",
      "(2046564945, [])\n",
      "(536881462, [])\n",
      "(1511882390, [])\n",
      "(703751585, [])\n",
      "(1267235282, [])\n",
      "(955374254, [])\n",
      "(377517, [])\n",
      "(1250461919, [])\n",
      "(1832407103, [])\n",
      "(105460340, [])\n",
      "(1941912842, [])\n",
      "(796947012, [])\n",
      "(66988880, [])\n",
      "(1289594880, [])\n",
      "(1436548370, [])\n",
      "(2131694256, [])\n",
      "(1660262406, [])\n",
      "(2112333081, [])\n",
      "(958388905, [])\n",
      "(716787493, [])\n",
      "(117855527, [])\n",
      "(183643432, [])\n",
      "(449915696, [])\n",
      "(1018574123, [])\n",
      "(651025198, [])\n",
      "(1464722217, [])\n",
      "(312057182, [])\n",
      "(1654846771, [])\n",
      "(101548837, [])\n",
      "(2081045141, [])\n",
      "(928797471, [])\n",
      "(1606179614, [])\n",
      "(903263547, [])\n",
      "(660085526, [])\n",
      "(216021778, [])\n",
      "(624853634, [])\n",
      "(1642385455, [])\n",
      "(729561138, [])\n",
      "(405927251, [])\n",
      "(539538179, [])\n",
      "(906570824, [])\n",
      "(1483744086, [])\n",
      "(1016914844, [])\n",
      "(2137424668, [])\n",
      "(1010419089, [])\n",
      "(1070746651, [])\n",
      "(1128944664, [])\n",
      "(1587898008, [])\n",
      "(1262731154, [])\n",
      "(1273152845, [])\n",
      "(136168277, [])\n",
      "(2034534052, [])\n",
      "(1236700484, [])\n",
      "(629847363, [])\n",
      "(1313717082, [])\n",
      "(1673178119, [])\n",
      "(1432653147, [])\n",
      "(2075247563, [])\n",
      "(725477000, [])\n",
      "(332692322, [])\n",
      "(1640045878, [])\n",
      "(362624307, [])\n",
      "(1068405760, [])\n",
      "(1039670967, [])\n",
      "(1067680531, [])\n",
      "(2013584246, [])\n",
      "(227219467, [])\n",
      "(2048673053, [])\n",
      "(442254661, [])\n",
      "(1196725119, [])\n",
      "(451407561, [])\n",
      "(426249492, [])\n",
      "(193954850, [])\n",
      "(990639467, [])\n",
      "(1335942719, [])\n",
      "(476446122, [])\n",
      "(1654541788, [])\n",
      "(1771089441, [])\n",
      "(2054721061, [])\n",
      "(1205666930, [])\n",
      "(1937374317, [])\n",
      "(821425297, [])\n",
      "(1765643360, [])\n",
      "(832601659, [])\n",
      "(834901574, [])\n",
      "(174600083, [])\n",
      "(143930091, [])\n",
      "(536690098, [])\n",
      "(1829563120, [])\n",
      "(1858401011, [])\n",
      "(2098862894, [])\n",
      "(69670486, [])\n",
      "(1309709055, [])\n",
      "(1841319324, [])\n",
      "(1531188631, [])\n",
      "(1424538693, [])\n",
      "(923704935, [])\n",
      "(1524424078, [])\n",
      "(944524761, [])\n",
      "(628966445, [])\n",
      "(68631605, [])\n",
      "(905080441, [])\n",
      "(315583864, [])\n",
      "(1571284014, [])\n",
      "(1804039043, [])\n",
      "(591234018, [])\n",
      "(1101880382, [])\n",
      "(423562252, [])\n",
      "(572014805, [])\n",
      "(456156313, [])\n",
      "(2018069400, [])\n",
      "(1951049506, [])\n",
      "(1836299172, [])\n",
      "(1568116244, [])\n",
      "(902629140, [])\n",
      "(584735641, [])\n",
      "(755330841, [])\n",
      "(1774012188, [])\n",
      "(228420479, [])\n",
      "(975651965, [])\n",
      "(1489316727, [])\n",
      "(1533148089, [])\n",
      "(1476287366, [])\n",
      "(1029116943, [])\n",
      "(2114729778, [])\n",
      "(89207668, [])\n",
      "(1864636214, [])\n",
      "(313794359, [])\n",
      "(583924589, [])\n",
      "(1208511862, [])\n",
      "(945271835, [])\n",
      "(271551156, [])\n",
      "(382613872, [])\n",
      "(760929358, [])\n",
      "(1227712816, [])\n",
      "(550677568, [])\n",
      "(347450328, [])\n",
      "(1572531048, [])\n",
      "(971979658, [])\n",
      "(1888009157, [])\n",
      "(86967181, [])\n",
      "(1513245789, [])\n",
      "(238840799, [])\n",
      "(2114884201, [])\n",
      "(1090222508, [])\n",
      "(1862255509, [])\n",
      "(841976732, [])\n",
      "(1429707678, [])\n",
      "(1232403405, [])\n",
      "(1565662547, [])\n",
      "(1302552287, [])\n",
      "(1340516064, [])\n",
      "(654355082, [])\n",
      "(1252035523, [])\n",
      "(120428294, [])\n",
      "(935988140, [])\n",
      "(111811502, [])\n",
      "(1687823086, [])\n",
      "(177908664, [])\n",
      "(1215442673, [])\n",
      "(382283715, [])\n",
      "(604853439, [])\n",
      "(2047429572, [])\n",
      "(1421165509, [])\n",
      "(1494946760, [])\n",
      "(94699466, [])\n",
      "(275786910, ['max_pledged'])\n",
      "(1882931502, [])\n",
      "(347204264, [])\n",
      "(741492860, [])\n",
      "(496215071, [])\n",
      "(1289824201, [])\n",
      "(999205973, [])\n",
      "(641011767, [])\n",
      "(216502855, [])\n",
      "(135925676, [])\n",
      "(722987183, [])\n",
      "(1596895160, [])\n",
      "(942323643, [])\n",
      "(1009358886, [])\n",
      "(2090971171, [])\n",
      "(1395099811, [])\n",
      "(1586739977, [])\n",
      "(1371883461, [])\n",
      "(1897340509, [])\n",
      "(1574705174, [])\n",
      "(946685232, [])\n",
      "(1318802015, [])\n",
      "(1865319013, [])\n",
      "(1431449748, [])\n",
      "(10024970, [])\n",
      "(602257371, [])\n",
      "(1007692394, [])\n",
      "(186033745, [])\n",
      "(1277970405, [])\n",
      "(1989292659, [])\n",
      "(760916103, [])\n",
      "(84883575, [])\n",
      "(1290993454, [])\n",
      "(1344934773, [])\n",
      "(444691296, [])\n",
      "(1219147842, [])\n",
      "(1863040995, [])\n",
      "(1734666376, [])\n",
      "(1266338284, [])\n",
      "(1855763717, [])\n",
      "(835639790, [])\n",
      "(1280496111, [])\n",
      "(830601386, [])\n",
      "(802219654, [])\n",
      "(2058455204, [])\n",
      "(546680995, [])\n",
      "(1364165426, [])\n",
      "(1720435970, [])\n",
      "(145573419, [])\n",
      "(1450284895, [])\n",
      "(1234223245, [])\n",
      "(209299687, [])\n",
      "(795114042, [])\n",
      "(767600768, [])\n",
      "(1290823903, [])\n"
     ]
    },
    {
     "output_type": "error",
     "ename": "KeyboardInterrupt",
     "evalue": "",
     "traceback": [
      "\u001b[0;31m---------------------------------------------------------------------------\u001b[0m",
      "\u001b[0;31mKeyboardInterrupt\u001b[0m                         Traceback (most recent call last)",
      "\u001b[0;32m<ipython-input-261-eddc1813a80b>\u001b[0m in \u001b[0;36m<module>\u001b[0;34m\u001b[0m\n\u001b[1;32m      1\u001b[0m \u001b[0;32mfor\u001b[0m \u001b[0mid\u001b[0m \u001b[0;32min\u001b[0m \u001b[0mmultiples\u001b[0m\u001b[0;34m:\u001b[0m\u001b[0;34m\u001b[0m\u001b[0;34m\u001b[0m\u001b[0m\n\u001b[0;32m----> 2\u001b[0;31m     \u001b[0mprint\u001b[0m\u001b[0;34m(\u001b[0m\u001b[0;34m(\u001b[0m\u001b[0mid\u001b[0m\u001b[0;34m,\u001b[0m \u001b[0;34m[\u001b[0m\u001b[0mc\u001b[0m \u001b[0;32mfor\u001b[0m \u001b[0mc\u001b[0m \u001b[0;32min\u001b[0m \u001b[0mdf\u001b[0m\u001b[0;34m.\u001b[0m\u001b[0mcolumns\u001b[0m \u001b[0;32mif\u001b[0m \u001b[0mdf\u001b[0m\u001b[0;34m.\u001b[0m\u001b[0mquery\u001b[0m\u001b[0;34m(\u001b[0m\u001b[0;34m'id == '\u001b[0m\u001b[0;34m+\u001b[0m\u001b[0mstr\u001b[0m\u001b[0;34m(\u001b[0m\u001b[0mid\u001b[0m\u001b[0;34m)\u001b[0m\u001b[0;34m)\u001b[0m\u001b[0;34m[\u001b[0m\u001b[0mc\u001b[0m\u001b[0;34m]\u001b[0m\u001b[0;34m.\u001b[0m\u001b[0mnunique\u001b[0m\u001b[0;34m(\u001b[0m\u001b[0;34m)\u001b[0m \u001b[0;34m!=\u001b[0m \u001b[0;36m1\u001b[0m\u001b[0;34m]\u001b[0m\u001b[0;34m)\u001b[0m\u001b[0;34m)\u001b[0m\u001b[0;34m\u001b[0m\u001b[0;34m\u001b[0m\u001b[0m\n\u001b[0m",
      "\u001b[0;32m<ipython-input-261-eddc1813a80b>\u001b[0m in \u001b[0;36m<listcomp>\u001b[0;34m(.0)\u001b[0m\n\u001b[1;32m      1\u001b[0m \u001b[0;32mfor\u001b[0m \u001b[0mid\u001b[0m \u001b[0;32min\u001b[0m \u001b[0mmultiples\u001b[0m\u001b[0;34m:\u001b[0m\u001b[0;34m\u001b[0m\u001b[0;34m\u001b[0m\u001b[0m\n\u001b[0;32m----> 2\u001b[0;31m     \u001b[0mprint\u001b[0m\u001b[0;34m(\u001b[0m\u001b[0;34m(\u001b[0m\u001b[0mid\u001b[0m\u001b[0;34m,\u001b[0m \u001b[0;34m[\u001b[0m\u001b[0mc\u001b[0m \u001b[0;32mfor\u001b[0m \u001b[0mc\u001b[0m \u001b[0;32min\u001b[0m \u001b[0mdf\u001b[0m\u001b[0;34m.\u001b[0m\u001b[0mcolumns\u001b[0m \u001b[0;32mif\u001b[0m \u001b[0mdf\u001b[0m\u001b[0;34m.\u001b[0m\u001b[0mquery\u001b[0m\u001b[0;34m(\u001b[0m\u001b[0;34m'id == '\u001b[0m\u001b[0;34m+\u001b[0m\u001b[0mstr\u001b[0m\u001b[0;34m(\u001b[0m\u001b[0mid\u001b[0m\u001b[0;34m)\u001b[0m\u001b[0;34m)\u001b[0m\u001b[0;34m[\u001b[0m\u001b[0mc\u001b[0m\u001b[0;34m]\u001b[0m\u001b[0;34m.\u001b[0m\u001b[0mnunique\u001b[0m\u001b[0;34m(\u001b[0m\u001b[0;34m)\u001b[0m \u001b[0;34m!=\u001b[0m \u001b[0;36m1\u001b[0m\u001b[0;34m]\u001b[0m\u001b[0;34m)\u001b[0m\u001b[0;34m)\u001b[0m\u001b[0;34m\u001b[0m\u001b[0;34m\u001b[0m\u001b[0m\n\u001b[0m",
      "\u001b[0;32m~/.pyenv/versions/3.8.5/lib/python3.8/site-packages/pandas/core/frame.py\u001b[0m in \u001b[0;36mquery\u001b[0;34m(self, expr, inplace, **kwargs)\u001b[0m\n\u001b[1;32m   3467\u001b[0m         \u001b[0mkwargs\u001b[0m\u001b[0;34m[\u001b[0m\u001b[0;34m\"level\"\u001b[0m\u001b[0;34m]\u001b[0m \u001b[0;34m=\u001b[0m \u001b[0mkwargs\u001b[0m\u001b[0;34m.\u001b[0m\u001b[0mpop\u001b[0m\u001b[0;34m(\u001b[0m\u001b[0;34m\"level\"\u001b[0m\u001b[0;34m,\u001b[0m \u001b[0;36m0\u001b[0m\u001b[0;34m)\u001b[0m \u001b[0;34m+\u001b[0m \u001b[0;36m1\u001b[0m\u001b[0;34m\u001b[0m\u001b[0;34m\u001b[0m\u001b[0m\n\u001b[1;32m   3468\u001b[0m         \u001b[0mkwargs\u001b[0m\u001b[0;34m[\u001b[0m\u001b[0;34m\"target\"\u001b[0m\u001b[0;34m]\u001b[0m \u001b[0;34m=\u001b[0m \u001b[0;32mNone\u001b[0m\u001b[0;34m\u001b[0m\u001b[0;34m\u001b[0m\u001b[0m\n\u001b[0;32m-> 3469\u001b[0;31m         \u001b[0mres\u001b[0m \u001b[0;34m=\u001b[0m \u001b[0mself\u001b[0m\u001b[0;34m.\u001b[0m\u001b[0meval\u001b[0m\u001b[0;34m(\u001b[0m\u001b[0mexpr\u001b[0m\u001b[0;34m,\u001b[0m \u001b[0;34m**\u001b[0m\u001b[0mkwargs\u001b[0m\u001b[0;34m)\u001b[0m\u001b[0;34m\u001b[0m\u001b[0;34m\u001b[0m\u001b[0m\n\u001b[0m\u001b[1;32m   3470\u001b[0m \u001b[0;34m\u001b[0m\u001b[0m\n\u001b[1;32m   3471\u001b[0m         \u001b[0;32mtry\u001b[0m\u001b[0;34m:\u001b[0m\u001b[0;34m\u001b[0m\u001b[0;34m\u001b[0m\u001b[0m\n",
      "\u001b[0;32m~/.pyenv/versions/3.8.5/lib/python3.8/site-packages/pandas/core/frame.py\u001b[0m in \u001b[0;36meval\u001b[0;34m(self, expr, inplace, **kwargs)\u001b[0m\n\u001b[1;32m   3590\u001b[0m         \u001b[0mkwargs\u001b[0m\u001b[0;34m[\u001b[0m\u001b[0;34m\"level\"\u001b[0m\u001b[0;34m]\u001b[0m \u001b[0;34m=\u001b[0m \u001b[0mkwargs\u001b[0m\u001b[0;34m.\u001b[0m\u001b[0mpop\u001b[0m\u001b[0;34m(\u001b[0m\u001b[0;34m\"level\"\u001b[0m\u001b[0;34m,\u001b[0m \u001b[0;36m0\u001b[0m\u001b[0;34m)\u001b[0m \u001b[0;34m+\u001b[0m \u001b[0;36m1\u001b[0m\u001b[0;34m\u001b[0m\u001b[0;34m\u001b[0m\u001b[0m\n\u001b[1;32m   3591\u001b[0m         \u001b[0;32mif\u001b[0m \u001b[0mresolvers\u001b[0m \u001b[0;32mis\u001b[0m \u001b[0;32mNone\u001b[0m\u001b[0;34m:\u001b[0m\u001b[0;34m\u001b[0m\u001b[0;34m\u001b[0m\u001b[0m\n\u001b[0;32m-> 3592\u001b[0;31m             \u001b[0mindex_resolvers\u001b[0m \u001b[0;34m=\u001b[0m \u001b[0mself\u001b[0m\u001b[0;34m.\u001b[0m\u001b[0m_get_index_resolvers\u001b[0m\u001b[0;34m(\u001b[0m\u001b[0;34m)\u001b[0m\u001b[0;34m\u001b[0m\u001b[0;34m\u001b[0m\u001b[0m\n\u001b[0m\u001b[1;32m   3593\u001b[0m             \u001b[0mcolumn_resolvers\u001b[0m \u001b[0;34m=\u001b[0m \u001b[0mself\u001b[0m\u001b[0;34m.\u001b[0m\u001b[0m_get_cleaned_column_resolvers\u001b[0m\u001b[0;34m(\u001b[0m\u001b[0;34m)\u001b[0m\u001b[0;34m\u001b[0m\u001b[0;34m\u001b[0m\u001b[0m\n\u001b[1;32m   3594\u001b[0m             \u001b[0mresolvers\u001b[0m \u001b[0;34m=\u001b[0m \u001b[0mcolumn_resolvers\u001b[0m\u001b[0;34m,\u001b[0m \u001b[0mindex_resolvers\u001b[0m\u001b[0;34m\u001b[0m\u001b[0;34m\u001b[0m\u001b[0m\n",
      "\u001b[0;32m~/.pyenv/versions/3.8.5/lib/python3.8/site-packages/pandas/core/generic.py\u001b[0m in \u001b[0;36m_get_index_resolvers\u001b[0;34m(self)\u001b[0m\n\u001b[1;32m    521\u001b[0m         \u001b[0md\u001b[0m\u001b[0;34m:\u001b[0m \u001b[0mDict\u001b[0m\u001b[0;34m[\u001b[0m\u001b[0mstr\u001b[0m\u001b[0;34m,\u001b[0m \u001b[0mUnion\u001b[0m\u001b[0;34m[\u001b[0m\u001b[0mSeries\u001b[0m\u001b[0;34m,\u001b[0m \u001b[0mMultiIndex\u001b[0m\u001b[0;34m]\u001b[0m\u001b[0;34m]\u001b[0m \u001b[0;34m=\u001b[0m \u001b[0;34m{\u001b[0m\u001b[0;34m}\u001b[0m\u001b[0;34m\u001b[0m\u001b[0;34m\u001b[0m\u001b[0m\n\u001b[1;32m    522\u001b[0m         \u001b[0;32mfor\u001b[0m \u001b[0maxis_name\u001b[0m \u001b[0;32min\u001b[0m \u001b[0mself\u001b[0m\u001b[0;34m.\u001b[0m\u001b[0m_AXIS_ORDERS\u001b[0m\u001b[0;34m:\u001b[0m\u001b[0;34m\u001b[0m\u001b[0;34m\u001b[0m\u001b[0m\n\u001b[0;32m--> 523\u001b[0;31m             \u001b[0md\u001b[0m\u001b[0;34m.\u001b[0m\u001b[0mupdate\u001b[0m\u001b[0;34m(\u001b[0m\u001b[0mself\u001b[0m\u001b[0;34m.\u001b[0m\u001b[0m_get_axis_resolvers\u001b[0m\u001b[0;34m(\u001b[0m\u001b[0maxis_name\u001b[0m\u001b[0;34m)\u001b[0m\u001b[0;34m)\u001b[0m\u001b[0;34m\u001b[0m\u001b[0;34m\u001b[0m\u001b[0m\n\u001b[0m\u001b[1;32m    524\u001b[0m \u001b[0;34m\u001b[0m\u001b[0m\n\u001b[1;32m    525\u001b[0m         \u001b[0;32mreturn\u001b[0m \u001b[0;34m{\u001b[0m\u001b[0mclean_column_name\u001b[0m\u001b[0;34m(\u001b[0m\u001b[0mk\u001b[0m\u001b[0;34m)\u001b[0m\u001b[0;34m:\u001b[0m \u001b[0mv\u001b[0m \u001b[0;32mfor\u001b[0m \u001b[0mk\u001b[0m\u001b[0;34m,\u001b[0m \u001b[0mv\u001b[0m \u001b[0;32min\u001b[0m \u001b[0md\u001b[0m\u001b[0;34m.\u001b[0m\u001b[0mitems\u001b[0m\u001b[0;34m(\u001b[0m\u001b[0;34m)\u001b[0m \u001b[0;32mif\u001b[0m \u001b[0;32mnot\u001b[0m \u001b[0misinstance\u001b[0m\u001b[0;34m(\u001b[0m\u001b[0mk\u001b[0m\u001b[0;34m,\u001b[0m \u001b[0mint\u001b[0m\u001b[0;34m)\u001b[0m\u001b[0;34m}\u001b[0m\u001b[0;34m\u001b[0m\u001b[0;34m\u001b[0m\u001b[0m\n",
      "\u001b[0;32m~/.pyenv/versions/3.8.5/lib/python3.8/site-packages/pandas/core/generic.py\u001b[0m in \u001b[0;36m_get_axis_resolvers\u001b[0;34m(self, axis)\u001b[0m\n\u001b[1;32m    510\u001b[0m             \u001b[0mdindex\u001b[0m \u001b[0;34m=\u001b[0m \u001b[0maxis_index\u001b[0m\u001b[0;34m\u001b[0m\u001b[0;34m\u001b[0m\u001b[0m\n\u001b[1;32m    511\u001b[0m         \u001b[0;32melse\u001b[0m\u001b[0;34m:\u001b[0m\u001b[0;34m\u001b[0m\u001b[0;34m\u001b[0m\u001b[0m\n\u001b[0;32m--> 512\u001b[0;31m             \u001b[0mdindex\u001b[0m \u001b[0;34m=\u001b[0m \u001b[0maxis_index\u001b[0m\u001b[0;34m.\u001b[0m\u001b[0mto_series\u001b[0m\u001b[0;34m(\u001b[0m\u001b[0;34m)\u001b[0m\u001b[0;34m\u001b[0m\u001b[0;34m\u001b[0m\u001b[0m\n\u001b[0m\u001b[1;32m    513\u001b[0m \u001b[0;34m\u001b[0m\u001b[0m\n\u001b[1;32m    514\u001b[0m         \u001b[0md\u001b[0m\u001b[0;34m[\u001b[0m\u001b[0maxis\u001b[0m\u001b[0;34m]\u001b[0m \u001b[0;34m=\u001b[0m \u001b[0mdindex\u001b[0m\u001b[0;34m\u001b[0m\u001b[0;34m\u001b[0m\u001b[0m\n",
      "\u001b[0;32m~/.pyenv/versions/3.8.5/lib/python3.8/site-packages/pandas/core/indexes/base.py\u001b[0m in \u001b[0;36mto_series\u001b[0;34m(self, index, name)\u001b[0m\n\u001b[1;32m   1164\u001b[0m             \u001b[0mname\u001b[0m \u001b[0;34m=\u001b[0m \u001b[0mself\u001b[0m\u001b[0;34m.\u001b[0m\u001b[0mname\u001b[0m\u001b[0;34m\u001b[0m\u001b[0;34m\u001b[0m\u001b[0m\n\u001b[1;32m   1165\u001b[0m \u001b[0;34m\u001b[0m\u001b[0m\n\u001b[0;32m-> 1166\u001b[0;31m         \u001b[0;32mreturn\u001b[0m \u001b[0mSeries\u001b[0m\u001b[0;34m(\u001b[0m\u001b[0mself\u001b[0m\u001b[0;34m.\u001b[0m\u001b[0mvalues\u001b[0m\u001b[0;34m.\u001b[0m\u001b[0mcopy\u001b[0m\u001b[0;34m(\u001b[0m\u001b[0;34m)\u001b[0m\u001b[0;34m,\u001b[0m \u001b[0mindex\u001b[0m\u001b[0;34m=\u001b[0m\u001b[0mindex\u001b[0m\u001b[0;34m,\u001b[0m \u001b[0mname\u001b[0m\u001b[0;34m=\u001b[0m\u001b[0mname\u001b[0m\u001b[0;34m)\u001b[0m\u001b[0;34m\u001b[0m\u001b[0;34m\u001b[0m\u001b[0m\n\u001b[0m\u001b[1;32m   1167\u001b[0m \u001b[0;34m\u001b[0m\u001b[0m\n\u001b[1;32m   1168\u001b[0m     \u001b[0;32mdef\u001b[0m \u001b[0mto_frame\u001b[0m\u001b[0;34m(\u001b[0m\u001b[0mself\u001b[0m\u001b[0;34m,\u001b[0m \u001b[0mindex\u001b[0m\u001b[0;34m:\u001b[0m \u001b[0mbool\u001b[0m \u001b[0;34m=\u001b[0m \u001b[0;32mTrue\u001b[0m\u001b[0;34m,\u001b[0m \u001b[0mname\u001b[0m\u001b[0;34m=\u001b[0m\u001b[0;32mNone\u001b[0m\u001b[0;34m)\u001b[0m\u001b[0;34m:\u001b[0m\u001b[0;34m\u001b[0m\u001b[0;34m\u001b[0m\u001b[0m\n",
      "\u001b[0;31mKeyboardInterrupt\u001b[0m: "
     ]
    }
   ],
   "source": [
    "for id in multiples:\n",
    "    print((id, [c for c in df.columns if df.query('id == '+str(id))[c].nunique() != 1]))\n"
   ]
  },
  {
   "cell_type": "markdown",
   "id": "9b0ee64e-f07f-4495-b307-f375d8fa6fc6",
   "metadata": {},
   "source": [
    "In that case, only one of the rows with the same `id` entry need to be kept."
   ]
  },
  {
   "cell_type": "code",
   "execution_count": 263,
   "metadata": {},
   "outputs": [],
   "source": [
    "df.drop_duplicates(subset = \"id\", keep = \"first\", inplace = True)"
   ]
  },
  {
   "cell_type": "code",
   "execution_count": 264,
   "metadata": {},
   "outputs": [
    {
     "output_type": "execute_result",
     "data": {
      "text/plain": [
       "(168979, 13)"
      ]
     },
     "metadata": {},
     "execution_count": 264
    }
   ],
   "source": [
    "df.shape"
   ]
  },
  {
   "source": [
    "Now we will take a look in to `location` and try to extract some meaningful information.\n",
    "\n",
    "Fist we will drop NaN rows and then convert the `json-str` into a dictonary to extract keys and values."
   ],
   "cell_type": "markdown",
   "metadata": {}
  },
  {
   "cell_type": "code",
   "execution_count": 265,
   "metadata": {},
   "outputs": [
    {
     "output_type": "execute_result",
     "data": {
      "text/plain": [
       "213"
      ]
     },
     "metadata": {},
     "execution_count": 265
    }
   ],
   "source": [
    "df.location.isnull().sum()"
   ]
  },
  {
   "cell_type": "code",
   "execution_count": 266,
   "metadata": {},
   "outputs": [],
   "source": [
    "df.dropna(axis = 0, subset = [\"location\"], inplace = True)"
   ]
  },
  {
   "cell_type": "code",
   "execution_count": 267,
   "metadata": {},
   "outputs": [],
   "source": [
    "df.location =[json.loads(x) for x in df.location]"
   ]
  },
  {
   "cell_type": "code",
   "execution_count": 268,
   "metadata": {},
   "outputs": [],
   "source": [
    "df[\"location_type\"] = [df.location.iloc[x][\"type\"] for x in range(0,len(df.location))]\n",
    "df[\"location_city\"] = [df.location.iloc[x][\"short_name\"] for x in range(0,len(df.location))]\n",
    "df[\"location_state\"] = [df.location.iloc[x][\"state\"] for x in range(0,len(df.location))]"
   ]
  },
  {
   "cell_type": "code",
   "execution_count": 269,
   "metadata": {},
   "outputs": [
    {
     "output_type": "execute_result",
     "data": {
      "text/plain": [
       "Town             156447\n",
       "County             6384\n",
       "Suburb             4295\n",
       "LocalAdmin          986\n",
       "Zip                 409\n",
       "Island              209\n",
       "Country              17\n",
       "Miscellaneous        15\n",
       "Estate                4\n",
       "Name: location_type, dtype: int64"
      ]
     },
     "metadata": {},
     "execution_count": 269
    }
   ],
   "source": [
    "df.location_type.value_counts()"
   ]
  },
  {
   "cell_type": "markdown",
   "id": "c117696f-0032-4191-aa86-b5839d1af613",
   "metadata": {},
   "source": [
    "Remaining questions:\n",
    "- What to do with location? Extract cities and try to assign some score to each? To test this, extract a few big cities and check for correlation with target."
   ]
  },
  {
   "cell_type": "code",
   "execution_count": 270,
   "id": "ec1e5035-3d21-44d6-96a9-8db0023189b1",
   "metadata": {},
   "outputs": [
    {
     "output_type": "execute_result",
     "data": {
      "text/plain": [
       "(168766, 16)"
      ]
     },
     "metadata": {},
     "execution_count": 270
    }
   ],
   "source": [
    "df.shape"
   ]
  }
 ],
 "metadata": {
  "kernelspec": {
   "name": "python3",
   "display_name": "Python 3.8.5 64-bit ('3.8.5': pyenv)"
  },
  "language_info": {
   "codemirror_mode": {
    "name": "ipython",
    "version": 3
   },
   "file_extension": ".py",
   "mimetype": "text/x-python",
   "name": "python",
   "nbconvert_exporter": "python",
   "pygments_lexer": "ipython3",
   "version": "3.8.5"
  },
  "interpreter": {
   "hash": "b58e2bc1572df468e5d42d3993d3ef1ccd4fafa9e984d7179347929f947a7c38"
  }
 },
 "nbformat": 4,
 "nbformat_minor": 5
}