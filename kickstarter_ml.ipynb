{
 "cells": [
  {
   "cell_type": "markdown",
   "id": "d46ded39",
   "metadata": {
    "tags": []
   },
   "source": [
    "# Kickstarter ML Project"
   ]
  },
  {
   "cell_type": "code",
   "execution_count": 1,
   "id": "5d6bc5b3",
   "metadata": {},
   "outputs": [],
   "source": [
    "import pandas as pd\n",
    "import glob\n",
    "\n",
    "import sweetviz as sv"
   ]
  },
  {
   "cell_type": "code",
   "execution_count": 2,
   "id": "7abb6370",
   "metadata": {},
   "outputs": [],
   "source": [
    "# Load csv's and merge to a single dataframe\n",
    "\n",
    "#path = \".../*.csv\"\" # Borak's path\n",
    "path = \"data/*.csv\" # Christian's path\n",
    "#path = \".../*.csv\"\" # Matthias's path\n",
    "\n",
    "all_files = glob.glob(path)\n",
    "df = pd.concat((pd.read_csv(f) for f in all_files))"
   ]
  },
  {
   "cell_type": "code",
   "execution_count": 3,
   "id": "7f0ded9e",
   "metadata": {},
   "outputs": [],
   "source": [
    "## Execute Sweetviz \n",
    "#my_report = sv.analyze(df)\n",
    "#my_report.show_html() # Default arguments will generate to \"SWEETVIZ_REPORT.html\""
   ]
  },
  {
   "cell_type": "code",
   "execution_count": null,
   "id": "41ce13fd",
   "metadata": {},
   "outputs": [],
   "source": []
  }
 ],
 "metadata": {
  "kernelspec": {
   "display_name": "Python 3",
   "language": "python",
   "name": "python3"
  },
  "language_info": {
   "codemirror_mode": {
    "name": "ipython",
    "version": 3
   },
   "file_extension": ".py",
   "mimetype": "text/x-python",
   "name": "python",
   "nbconvert_exporter": "python",
   "pygments_lexer": "ipython3",
   "version": "3.8.5"
  }
 },
 "nbformat": 4,
 "nbformat_minor": 5
}
