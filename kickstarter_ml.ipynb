{
 "cells": [
  {
   "cell_type": "markdown",
   "id": "ebad1354",
   "metadata": {
    "tags": []
   },
   "source": [
    "# Kickstarter ML Project"
   ]
  },
  {
   "cell_type": "markdown",
   "id": "570c9704",
   "metadata": {},
   "source": [
    "## Preparation"
   ]
  },
  {
   "cell_type": "code",
   "execution_count": 84,
   "id": "2e587f21",
   "metadata": {},
   "outputs": [],
   "source": [
    "import pandas as pd\n",
    "import numpy as np\n",
    "import glob\n",
    "import seaborn as sns\n",
    "import matplotlib.pyplot as plt\n",
    "\n",
    "import sweetviz as sv\n",
    "import json"
   ]
  },
  {
   "cell_type": "markdown",
   "id": "d78bd766",
   "metadata": {},
   "source": [
    "### Load Data"
   ]
  },
  {
   "cell_type": "code",
   "execution_count": 2,
   "id": "f328d471",
   "metadata": {},
   "outputs": [],
   "source": [
    "# Load csv's and merge to a single dataframe\n",
    "\n",
    "path = \"/Users/bur.oez/neuefische/Kickstarter-ML-Project/data/*.csv\" # Burak's path\n",
    "#path = \"data/*.csv\" # Christian's path\n",
    "#path = \".../*.csv\"\" # Matthias's path\n",
    "\n",
    "all_files = glob.glob(path)\n",
    "df_raw = pd.concat((pd.read_csv(f) for f in all_files))"
   ]
  },
  {
   "cell_type": "markdown",
   "id": "ba05e37d",
   "metadata": {},
   "source": [
    "### Overview"
   ]
  },
  {
   "cell_type": "code",
   "execution_count": 3,
   "id": "c97ad1e3",
   "metadata": {},
   "outputs": [],
   "source": [
    "## Execute Sweetviz \n",
    "#my_report = sv.analyze(df_raw)\n",
    "#my_report.show_html() # Default arguments will generate to \"SWEETVIZ_REPORT.html\""
   ]
  },
  {
   "cell_type": "code",
   "execution_count": 4,
   "id": "6cb9b094",
   "metadata": {},
   "outputs": [
    {
     "output_type": "execute_result",
     "data": {
      "text/plain": [
       "Index(['backers_count', 'blurb', 'category', 'converted_pledged_amount',\n",
       "       'country', 'created_at', 'creator', 'currency', 'currency_symbol',\n",
       "       'currency_trailing_code', 'current_currency', 'deadline',\n",
       "       'disable_communication', 'friends', 'fx_rate', 'goal', 'id',\n",
       "       'is_backing', 'is_starrable', 'is_starred', 'launched_at', 'location',\n",
       "       'name', 'permissions', 'photo', 'pledged', 'profile', 'slug',\n",
       "       'source_url', 'spotlight', 'staff_pick', 'state', 'state_changed_at',\n",
       "       'static_usd_rate', 'urls', 'usd_pledged', 'usd_type'],\n",
       "      dtype='object')"
      ]
     },
     "metadata": {},
     "execution_count": 4
    }
   ],
   "source": [
    "df_raw.columns"
   ]
  },
  {
   "cell_type": "markdown",
   "id": "7ff6d524",
   "metadata": {},
   "source": [
    "## Data Cleaning\n",
    "\n",
    "For safety, we operate on a copy of the data frame."
   ]
  },
  {
   "cell_type": "code",
   "execution_count": 5,
   "id": "72e06fdf",
   "metadata": {},
   "outputs": [],
   "source": [
    "df = df_raw.copy()"
   ]
  },
  {
   "cell_type": "markdown",
   "id": "97260058",
   "metadata": {},
   "source": [
    "For a basic feature analysis, we may focus on easily accessible features. Consequently, we drop the cols\n",
    "- `blurb`, `slug`, `name` and `photo`, because they might only be exploitable through a semantic or context analysis,\n",
    "- `currency_symbol`, `currency_trailing_code`, because they are redundant,\n",
    "- `friends`, `is_starrable` and `permission`, because they do not contain any information,\n",
    "- `disable_communication`, `is_backing` and `is_starred`, because they have an entry only for the same 300 data points and it is questionable whether the missing entries may be treated as one category; later on we might try this with one of them and drop the other two,  \n",
    "- `urls`, `source_url` and `profile` because they do not contain additional information.\n",
    "- `state_changed_at`, `spotlight` and `staff_pick` will be dropped, because the creator does not know them in adcvance,\n",
    "- `created_at`, `launched_at` and `deadline` will be kept to calculate time-deltas for potential new features."
   ]
  },
  {
   "cell_type": "code",
   "execution_count": 6,
   "id": "b64a2cd1",
   "metadata": {},
   "outputs": [
    {
     "output_type": "execute_result",
     "data": {
      "text/plain": [
       "   backers_count                                           category  \\\n",
       "0            315  {\"id\":266,\"name\":\"Footwear\",\"slug\":\"fashion/fo...   \n",
       "1             47  {\"id\":273,\"name\":\"Playing Cards\",\"slug\":\"games...   \n",
       "2            271  {\"id\":43,\"name\":\"Rock\",\"slug\":\"music/rock\",\"po...   \n",
       "3              3  {\"id\":273,\"name\":\"Playing Cards\",\"slug\":\"games...   \n",
       "4              3  {\"id\":48,\"name\":\"Nonfiction\",\"slug\":\"publishin...   \n",
       "\n",
       "   converted_pledged_amount country  created_at  \\\n",
       "0                     28645      US  1541459205   \n",
       "1                      1950      US  1501684093   \n",
       "2                     22404      US  1348987533   \n",
       "3                       165      GB  1483780271   \n",
       "4                      2820      US  1354817071   \n",
       "\n",
       "                                             creator currency  \\\n",
       "0  {\"id\":2094277840,\"name\":\"Lucy Conroy\",\"slug\":\"...      USD   \n",
       "1  {\"id\":723886115,\"name\":\"Lisa Vollrath\",\"slug\":...      USD   \n",
       "2  {\"id\":323849677,\"name\":\"Electra\",\"is_registere...      USD   \n",
       "3  {\"id\":196281496,\"name\":\"Artur Ordijanc (delete...      GBP   \n",
       "4  {\"id\":1178460181,\"name\":\"Dawn Johnston\",\"is_re...      USD   \n",
       "\n",
       "  current_currency    deadline   fx_rate     goal          id  launched_at  \\\n",
       "0              USD  1552539775  1.000000  28000.0  2108505034   1548223375   \n",
       "1              USD  1504976459  1.000000   1000.0   928751314   1502384459   \n",
       "2              USD  1371013395  1.000000  15000.0   928014092   1368421395   \n",
       "3              USD  1489425776  1.308394  10000.0   596091328   1484245376   \n",
       "4              USD  1357763527  1.000000   2800.0   998516049   1355171527   \n",
       "\n",
       "                                            location  pledged       state  \\\n",
       "0  {\"id\":2462429,\"name\":\"Novato\",\"slug\":\"novato-c...  28645.0        live   \n",
       "1  {\"id\":2400549,\"name\":\"Euless\",\"slug\":\"euless-t...   1950.0  successful   \n",
       "2  {\"id\":2423474,\"name\":\"Hollywood\",\"slug\":\"holly...  22404.0  successful   \n",
       "3  {\"id\":475457,\"name\":\"Kaunas\",\"slug\":\"kaunas-ka...    136.0      failed   \n",
       "4  {\"id\":2507703,\"name\":\"Traverse City\",\"slug\":\"t...   2820.0  successful   \n",
       "\n",
       "   static_usd_rate   usd_pledged  \n",
       "0         1.000000  28645.000000  \n",
       "1         1.000000   1950.000000  \n",
       "2         1.000000  22404.000000  \n",
       "3         1.216066    165.384934  \n",
       "4         1.000000   2820.000000  "
      ],
      "text/html": "<div>\n<style scoped>\n    .dataframe tbody tr th:only-of-type {\n        vertical-align: middle;\n    }\n\n    .dataframe tbody tr th {\n        vertical-align: top;\n    }\n\n    .dataframe thead th {\n        text-align: right;\n    }\n</style>\n<table border=\"1\" class=\"dataframe\">\n  <thead>\n    <tr style=\"text-align: right;\">\n      <th></th>\n      <th>backers_count</th>\n      <th>category</th>\n      <th>converted_pledged_amount</th>\n      <th>country</th>\n      <th>created_at</th>\n      <th>creator</th>\n      <th>currency</th>\n      <th>current_currency</th>\n      <th>deadline</th>\n      <th>fx_rate</th>\n      <th>goal</th>\n      <th>id</th>\n      <th>launched_at</th>\n      <th>location</th>\n      <th>pledged</th>\n      <th>state</th>\n      <th>static_usd_rate</th>\n      <th>usd_pledged</th>\n    </tr>\n  </thead>\n  <tbody>\n    <tr>\n      <th>0</th>\n      <td>315</td>\n      <td>{\"id\":266,\"name\":\"Footwear\",\"slug\":\"fashion/fo...</td>\n      <td>28645</td>\n      <td>US</td>\n      <td>1541459205</td>\n      <td>{\"id\":2094277840,\"name\":\"Lucy Conroy\",\"slug\":\"...</td>\n      <td>USD</td>\n      <td>USD</td>\n      <td>1552539775</td>\n      <td>1.000000</td>\n      <td>28000.0</td>\n      <td>2108505034</td>\n      <td>1548223375</td>\n      <td>{\"id\":2462429,\"name\":\"Novato\",\"slug\":\"novato-c...</td>\n      <td>28645.0</td>\n      <td>live</td>\n      <td>1.000000</td>\n      <td>28645.000000</td>\n    </tr>\n    <tr>\n      <th>1</th>\n      <td>47</td>\n      <td>{\"id\":273,\"name\":\"Playing Cards\",\"slug\":\"games...</td>\n      <td>1950</td>\n      <td>US</td>\n      <td>1501684093</td>\n      <td>{\"id\":723886115,\"name\":\"Lisa Vollrath\",\"slug\":...</td>\n      <td>USD</td>\n      <td>USD</td>\n      <td>1504976459</td>\n      <td>1.000000</td>\n      <td>1000.0</td>\n      <td>928751314</td>\n      <td>1502384459</td>\n      <td>{\"id\":2400549,\"name\":\"Euless\",\"slug\":\"euless-t...</td>\n      <td>1950.0</td>\n      <td>successful</td>\n      <td>1.000000</td>\n      <td>1950.000000</td>\n    </tr>\n    <tr>\n      <th>2</th>\n      <td>271</td>\n      <td>{\"id\":43,\"name\":\"Rock\",\"slug\":\"music/rock\",\"po...</td>\n      <td>22404</td>\n      <td>US</td>\n      <td>1348987533</td>\n      <td>{\"id\":323849677,\"name\":\"Electra\",\"is_registere...</td>\n      <td>USD</td>\n      <td>USD</td>\n      <td>1371013395</td>\n      <td>1.000000</td>\n      <td>15000.0</td>\n      <td>928014092</td>\n      <td>1368421395</td>\n      <td>{\"id\":2423474,\"name\":\"Hollywood\",\"slug\":\"holly...</td>\n      <td>22404.0</td>\n      <td>successful</td>\n      <td>1.000000</td>\n      <td>22404.000000</td>\n    </tr>\n    <tr>\n      <th>3</th>\n      <td>3</td>\n      <td>{\"id\":273,\"name\":\"Playing Cards\",\"slug\":\"games...</td>\n      <td>165</td>\n      <td>GB</td>\n      <td>1483780271</td>\n      <td>{\"id\":196281496,\"name\":\"Artur Ordijanc (delete...</td>\n      <td>GBP</td>\n      <td>USD</td>\n      <td>1489425776</td>\n      <td>1.308394</td>\n      <td>10000.0</td>\n      <td>596091328</td>\n      <td>1484245376</td>\n      <td>{\"id\":475457,\"name\":\"Kaunas\",\"slug\":\"kaunas-ka...</td>\n      <td>136.0</td>\n      <td>failed</td>\n      <td>1.216066</td>\n      <td>165.384934</td>\n    </tr>\n    <tr>\n      <th>4</th>\n      <td>3</td>\n      <td>{\"id\":48,\"name\":\"Nonfiction\",\"slug\":\"publishin...</td>\n      <td>2820</td>\n      <td>US</td>\n      <td>1354817071</td>\n      <td>{\"id\":1178460181,\"name\":\"Dawn Johnston\",\"is_re...</td>\n      <td>USD</td>\n      <td>USD</td>\n      <td>1357763527</td>\n      <td>1.000000</td>\n      <td>2800.0</td>\n      <td>998516049</td>\n      <td>1355171527</td>\n      <td>{\"id\":2507703,\"name\":\"Traverse City\",\"slug\":\"t...</td>\n      <td>2820.0</td>\n      <td>successful</td>\n      <td>1.000000</td>\n      <td>2820.000000</td>\n    </tr>\n  </tbody>\n</table>\n</div>"
     },
     "metadata": {},
     "execution_count": 6
    }
   ],
   "source": [
    "# dropping columns\n",
    "df = df.drop([\"blurb\", \"slug\", \"name\", \"photo\", \"currency_symbol\", \"currency_trailing_code\", \"state_changed_at\",\n",
    "              \"friends\", \"permissions\", \"disable_communication\", \"is_backing\", \"is_starred\",\"urls\", \n",
    "              \"source_url\", \"profile\", \"usd_type\", \"spotlight\", \"staff_pick\", \"is_starrable\"], axis = 1)\n",
    "df.head()"
   ]
  },
  {
   "cell_type": "markdown",
   "id": "0e3b97ec",
   "metadata": {},
   "source": [
    "Extract field and subfield ids from `category` (id and parent_id):"
   ]
  },
  {
   "cell_type": "code",
   "execution_count": 7,
   "id": "6700b89b",
   "metadata": {},
   "outputs": [],
   "source": [
    "import ast\n",
    "df.category =[ ast.literal_eval(x) for x in df.iloc[:,df.columns.tolist().index(\"category\")]]"
   ]
  },
  {
   "cell_type": "code",
   "execution_count": 8,
   "id": "581d333b",
   "metadata": {},
   "outputs": [
    {
     "output_type": "execute_result",
     "data": {
      "text/plain": [
       "9041"
      ]
     },
     "metadata": {},
     "execution_count": 8
    }
   ],
   "source": [
    "# checking which rows do not contain \"parent_id\" inside category dictionary\n",
    "cat_list_parent_id = np.array([\"parent_id\" not in df.category.iloc[x].keys() for x in range(0,len(df.category))])\n",
    "cat_list_parent_id.sum()"
   ]
  },
  {
   "cell_type": "code",
   "execution_count": 9,
   "id": "f8d325b8",
   "metadata": {},
   "outputs": [
    {
     "output_type": "execute_result",
     "data": {
      "text/plain": [
       "    backers_count                                           category  \\\n",
       "7              33  {'id': 14, 'name': 'Music', 'slug': 'music', '...   \n",
       "25             74  {'id': 15, 'name': 'Photography', 'slug': 'pho...   \n",
       "27             41  {'id': 9, 'name': 'Fashion', 'slug': 'fashion'...   \n",
       "\n",
       "    converted_pledged_amount country  created_at  \\\n",
       "7                        660      US  1546965483   \n",
       "25                      2808      GB  1542202969   \n",
       "27                     21161      GB  1551345787   \n",
       "\n",
       "                                              creator currency  \\\n",
       "7   {\"id\":1945007923,\"name\":\"funktoast\",\"is_regist...      USD   \n",
       "25  {\"id\":1471052173,\"name\":\"Tim Beale\",\"is_regist...      GBP   \n",
       "27  {\"id\":103746336,\"name\":\"Jared Steadman\",\"is_re...      GBP   \n",
       "\n",
       "   current_currency    deadline   fx_rate     goal          id  launched_at  \\\n",
       "7               USD  1550067305  1.000000    400.0  1481360049   1547475305   \n",
       "25              USD  1544200381  1.308394   2000.0   865110410   1542385981   \n",
       "27              CAD  1554490790  1.748586  20000.0  1889386358   1551898790   \n",
       "\n",
       "                                             location  pledged       state  \\\n",
       "7   {\"id\":2430903,\"name\":\"Kaysville\",\"slug\":\"kaysv...    660.0  successful   \n",
       "25  {\"id\":12056,\"name\":\"Bath\",\"slug\":\"bath-gb\",\"sh...   2199.0  successful   \n",
       "27  {\"id\":40611,\"name\":\"Winchester\",\"slug\":\"winche...  12102.0        live   \n",
       "\n",
       "    static_usd_rate   usd_pledged  \n",
       "7          1.000000    660.000000  \n",
       "25         1.301163   2861.258251  \n",
       "27         1.315996  15926.177904  "
      ],
      "text/html": "<div>\n<style scoped>\n    .dataframe tbody tr th:only-of-type {\n        vertical-align: middle;\n    }\n\n    .dataframe tbody tr th {\n        vertical-align: top;\n    }\n\n    .dataframe thead th {\n        text-align: right;\n    }\n</style>\n<table border=\"1\" class=\"dataframe\">\n  <thead>\n    <tr style=\"text-align: right;\">\n      <th></th>\n      <th>backers_count</th>\n      <th>category</th>\n      <th>converted_pledged_amount</th>\n      <th>country</th>\n      <th>created_at</th>\n      <th>creator</th>\n      <th>currency</th>\n      <th>current_currency</th>\n      <th>deadline</th>\n      <th>fx_rate</th>\n      <th>goal</th>\n      <th>id</th>\n      <th>launched_at</th>\n      <th>location</th>\n      <th>pledged</th>\n      <th>state</th>\n      <th>static_usd_rate</th>\n      <th>usd_pledged</th>\n    </tr>\n  </thead>\n  <tbody>\n    <tr>\n      <th>7</th>\n      <td>33</td>\n      <td>{'id': 14, 'name': 'Music', 'slug': 'music', '...</td>\n      <td>660</td>\n      <td>US</td>\n      <td>1546965483</td>\n      <td>{\"id\":1945007923,\"name\":\"funktoast\",\"is_regist...</td>\n      <td>USD</td>\n      <td>USD</td>\n      <td>1550067305</td>\n      <td>1.000000</td>\n      <td>400.0</td>\n      <td>1481360049</td>\n      <td>1547475305</td>\n      <td>{\"id\":2430903,\"name\":\"Kaysville\",\"slug\":\"kaysv...</td>\n      <td>660.0</td>\n      <td>successful</td>\n      <td>1.000000</td>\n      <td>660.000000</td>\n    </tr>\n    <tr>\n      <th>25</th>\n      <td>74</td>\n      <td>{'id': 15, 'name': 'Photography', 'slug': 'pho...</td>\n      <td>2808</td>\n      <td>GB</td>\n      <td>1542202969</td>\n      <td>{\"id\":1471052173,\"name\":\"Tim Beale\",\"is_regist...</td>\n      <td>GBP</td>\n      <td>USD</td>\n      <td>1544200381</td>\n      <td>1.308394</td>\n      <td>2000.0</td>\n      <td>865110410</td>\n      <td>1542385981</td>\n      <td>{\"id\":12056,\"name\":\"Bath\",\"slug\":\"bath-gb\",\"sh...</td>\n      <td>2199.0</td>\n      <td>successful</td>\n      <td>1.301163</td>\n      <td>2861.258251</td>\n    </tr>\n    <tr>\n      <th>27</th>\n      <td>41</td>\n      <td>{'id': 9, 'name': 'Fashion', 'slug': 'fashion'...</td>\n      <td>21161</td>\n      <td>GB</td>\n      <td>1551345787</td>\n      <td>{\"id\":103746336,\"name\":\"Jared Steadman\",\"is_re...</td>\n      <td>GBP</td>\n      <td>CAD</td>\n      <td>1554490790</td>\n      <td>1.748586</td>\n      <td>20000.0</td>\n      <td>1889386358</td>\n      <td>1551898790</td>\n      <td>{\"id\":40611,\"name\":\"Winchester\",\"slug\":\"winche...</td>\n      <td>12102.0</td>\n      <td>live</td>\n      <td>1.315996</td>\n      <td>15926.177904</td>\n    </tr>\n  </tbody>\n</table>\n</div>"
     },
     "metadata": {},
     "execution_count": 9
    }
   ],
   "source": [
    "df[cat_list_parent_id].iloc[0:3]"
   ]
  },
  {
   "cell_type": "code",
   "execution_count": 10,
   "id": "027f778c",
   "metadata": {},
   "outputs": [
    {
     "output_type": "execute_result",
     "data": {
      "text/plain": [
       "{'id': 266,\n",
       " 'name': 'Footwear',\n",
       " 'slug': 'fashion/footwear',\n",
       " 'position': 5,\n",
       " 'parent_id': 9,\n",
       " 'color': 16752598,\n",
       " 'urls': {'web': {'discover': 'http://www.kickstarter.com/discover/categories/fashion/footwear'}}}"
      ]
     },
     "metadata": {},
     "execution_count": 10
    }
   ],
   "source": [
    "df.category.iloc[0]"
   ]
  },
  {
   "cell_type": "markdown",
   "id": "89221418",
   "metadata": {},
   "source": [
    "The `id` column represents each subcategory. `parent_id` represents each parent category, since the values for `id` start after `parent_id` values, we will use `id` to seperate each project into categories.\n",
    "\n",
    "e `id` column represents each subcategory. `parent_id` represents each parent category, since the values for `id` start after `parent_id` values, we will use `id` to seperate each project into categories.\n",
    "\n",
    "To projects without proper subcategorisation the `parent_id` is assigned. In addition `slug`is added for increased readability."
   ]
  },
  {
   "cell_type": "code",
   "execution_count": 11,
   "id": "3c9eba10",
   "metadata": {},
   "outputs": [],
   "source": [
    "df[\"cat_id\"] = [df.category.iloc[x][\"id\"] for x in range(0,len(df.category))]\n",
    "df[\"slug\"] = [df.category.iloc[x][\"slug\"] for x in range(0,len(df.category))]\n",
    "categories = df.pop(\"category\")"
   ]
  },
  {
   "cell_type": "code",
   "execution_count": 12,
   "id": "a55a35c1",
   "metadata": {},
   "outputs": [
    {
     "output_type": "stream",
     "name": "stdout",
     "text": [
      "   backers_count  converted_pledged_amount country  created_at  \\\n0            315                     28645      US  1541459205   \n1             47                      1950      US  1501684093   \n2            271                     22404      US  1348987533   \n\n                                             creator currency  \\\n0  {\"id\":2094277840,\"name\":\"Lucy Conroy\",\"slug\":\"...      USD   \n1  {\"id\":723886115,\"name\":\"Lisa Vollrath\",\"slug\":...      USD   \n2  {\"id\":323849677,\"name\":\"Electra\",\"is_registere...      USD   \n\n  current_currency    deadline  fx_rate     goal          id  launched_at  \\\n0              USD  1552539775      1.0  28000.0  2108505034   1548223375   \n1              USD  1504976459      1.0   1000.0   928751314   1502384459   \n2              USD  1371013395      1.0  15000.0   928014092   1368421395   \n\n                                            location  pledged       state  \\\n0  {\"id\":2462429,\"name\":\"Novato\",\"slug\":\"novato-c...  28645.0        live   \n1  {\"id\":2400549,\"name\":\"Euless\",\"slug\":\"euless-t...   1950.0  successful   \n2  {\"id\":2423474,\"name\":\"Hollywood\",\"slug\":\"holly...  22404.0  successful   \n\n   static_usd_rate  usd_pledged  cat_id                 slug  \n0              1.0      28645.0     266     fashion/footwear  \n1              1.0       1950.0     273  games/playing cards  \n2              1.0      22404.0      43           music/rock  \n(209222, 19)\n"
     ]
    }
   ],
   "source": [
    "print(df.head(3))\n",
    "print(df.shape)"
   ]
  },
  {
   "cell_type": "code",
   "execution_count": 13,
   "id": "0a6d76b9",
   "metadata": {},
   "outputs": [
    {
     "output_type": "stream",
     "name": "stdout",
     "text": [
      "pledged * static_usd_rate == usd_pledged\nTrue     193838\nFalse     15384\ndtype: int64\npledged * fx_rate == usd_pledged\nTrue     153961\nFalse     55261\ndtype: int64\nconverted_pledged_amount == usd_pledged\nTrue     140490\nFalse     68732\ndtype: int64\npledged * static_usd_rate == converted_pledged_amount\nTrue     140490\nFalse     68732\ndtype: int64\npledged * fx_rate == converted_pledged_amount\nTrue     140473\nFalse     68749\ndtype: int64\n"
     ]
    }
   ],
   "source": [
    "# check if currency - USD conversion with fx_rate and static_usd_rate matches usd_pledged value\n",
    "print(\"pledged * static_usd_rate == usd_pledged\")\n",
    "print(df.eval(\"pledged * static_usd_rate == usd_pledged\").value_counts())\n",
    "print(\"pledged * fx_rate == usd_pledged\")\n",
    "print(df.eval(\"pledged * fx_rate == usd_pledged\").value_counts())\n",
    "print(\"converted_pledged_amount == usd_pledged\")\n",
    "print(df.eval(\"converted_pledged_amount == usd_pledged\").value_counts())\n",
    "print(\"pledged * static_usd_rate == converted_pledged_amount\")\n",
    "print(df.eval(\"pledged * static_usd_rate == converted_pledged_amount\").value_counts())\n",
    "print(\"pledged * fx_rate == converted_pledged_amount\")\n",
    "print(df.eval(\"pledged * fx_rate == converted_pledged_amount\").value_counts())"
   ]
  },
  {
   "cell_type": "code",
   "execution_count": 14,
   "id": "4fcaa39f",
   "metadata": {},
   "outputs": [
    {
     "output_type": "stream",
     "name": "stdout",
     "text": [
      "False    190860\nTrue      18362\ndtype: int64\n"
     ]
    }
   ],
   "source": [
    "print(df.eval(\"converted_pledged_amount == pledged + usd_pledged\").value_counts())"
   ]
  },
  {
   "cell_type": "markdown",
   "id": "4f1744f3",
   "metadata": {},
   "source": [
    "The values in `usd_pledged` do not match with the conversion of `pledged` using `fx_rate` or `static_usd_rate`. \n",
    "\n",
    "We decided to take the max value for these columns as the correct amount."
   ]
  },
  {
   "cell_type": "code",
   "execution_count": 15,
   "id": "481639e1",
   "metadata": {},
   "outputs": [],
   "source": [
    "# checking whether pledged, usd_pledged or converted_pledged_amount has the highest values\n",
    "df[\"max_pledged\"] = [max(df.pledged.iloc[x], \n",
    "df.usd_pledged.iloc[x], \n",
    "df.converted_pledged_amount.iloc[x]) for x in range(0,len(df))]\n",
    "df = df.drop([\"usd_pledged\", \"pledged\", \"converted_pledged_amount\"], axis = 1)"
   ]
  },
  {
   "cell_type": "code",
   "execution_count": 16,
   "id": "dafc9620",
   "metadata": {},
   "outputs": [],
   "source": [
    "# in addition all other currency info can also be dropped\n",
    "df = df.drop([\"static_usd_rate\", \"fx_rate\", \"currency\", \"current_currency\"], axis = 1)"
   ]
  },
  {
   "cell_type": "code",
   "execution_count": 17,
   "id": "66cbb5b1",
   "metadata": {},
   "outputs": [
    {
     "output_type": "stream",
     "name": "stdout",
     "text": [
      "(209222, 13)\n"
     ]
    }
   ],
   "source": [
    "# set checkpoint\n",
    "df2 = df.copy()\n",
    "df.head(2)\n",
    "print(df.shape)"
   ]
  },
  {
   "cell_type": "markdown",
   "id": "063ebff6",
   "metadata": {},
   "source": [
    "Now we will check whether `live` projects have met their goal and can be considered as `succesful`\n"
   ]
  },
  {
   "cell_type": "code",
   "execution_count": 18,
   "id": "67bf4df6",
   "metadata": {},
   "outputs": [
    {
     "output_type": "execute_result",
     "data": {
      "text/plain": [
       "Series([], Name: state, dtype: object)"
      ]
     },
     "metadata": {},
     "execution_count": 18
    }
   ],
   "source": [
    "df.loc[df['max_pledged'] >= df.goal, 'state'] = \"successful\"\n",
    "#check whether there are live:successsful projects left\n",
    "df.query(\"state == 'live' and max_pledged >= goal\").state"
   ]
  },
  {
   "cell_type": "markdown",
   "id": "7577b039",
   "metadata": {},
   "source": [
    "Now we will drop all entries, which are not `successful` or `failed`\n"
   ]
  },
  {
   "cell_type": "code",
   "execution_count": 19,
   "id": "e8aa249e",
   "metadata": {},
   "outputs": [
    {
     "output_type": "execute_result",
     "data": {
      "text/plain": [
       "successful    119839\n",
       "failed         75108\n",
       "canceled        8456\n",
       "live            5277\n",
       "suspended        542\n",
       "Name: state, dtype: int64"
      ]
     },
     "metadata": {},
     "execution_count": 19
    }
   ],
   "source": [
    "df.state.value_counts()"
   ]
  },
  {
   "cell_type": "code",
   "execution_count": 20,
   "id": "fc31717b",
   "metadata": {},
   "outputs": [
    {
     "output_type": "execute_result",
     "data": {
      "text/plain": [
       "array(['successful', 'failed'], dtype=object)"
      ]
     },
     "metadata": {},
     "execution_count": 20
    }
   ],
   "source": [
    "df = df[df.state != \"canceled\"]\n",
    "df = df[df.state != \"suspended\"]\n",
    "df = df[df.state != \"live\"]\n",
    "df.state.unique()"
   ]
  },
  {
   "cell_type": "code",
   "execution_count": 21,
   "id": "b9fdbe87",
   "metadata": {},
   "outputs": [
    {
     "output_type": "execute_result",
     "data": {
      "text/plain": [
       "(209222, 13)"
      ]
     },
     "metadata": {},
     "execution_count": 21
    }
   ],
   "source": [
    "# Set checkpoint\n",
    "df = df2.copy()\n",
    "df.shape"
   ]
  },
  {
   "cell_type": "markdown",
   "id": "5a220080",
   "metadata": {},
   "source": [
    "Sort `countries` into categories US, NA, SEA, GB, ANZ, JP, EU:"
   ]
  },
  {
   "cell_type": "code",
   "execution_count": 22,
   "id": "257ab606",
   "metadata": {},
   "outputs": [
    {
     "output_type": "execute_result",
     "data": {
      "text/plain": [
       "array(['US', 'GB', 'FR', 'AU', 'NZ', 'ES', 'IT', 'NO', 'NL', 'CA', 'SG',\n",
       "       'MX', 'SE', 'IE', 'DE', 'BE', 'HK', 'AT', 'JP', 'DK', 'CH', 'LU'],\n",
       "      dtype=object)"
      ]
     },
     "metadata": {},
     "execution_count": 22
    }
   ],
   "source": [
    "pd.unique(df.country)"
   ]
  },
  {
   "cell_type": "code",
   "execution_count": 23,
   "id": "bd15bc43",
   "metadata": {},
   "outputs": [],
   "source": [
    "df.country.replace({'HK':\"SEA\", 'NL':\"EU\", 'AU':\"ANZ\", 'DE':\"EU\", \"CA\":\"NA\", 'SE':\"EU\",\n",
    "                    'BE':\"EU\", 'MX':\"NA\", 'CH':\"EU\", 'SG':\"SEA\", 'FR':\"EU\", 'IT':\"EU\",\n",
    "                    'DK':\"EU\", 'LU':\"EU\", 'NO':\"EU\", 'ES':\"EU\", 'IE':\"EU\", 'NZ':\"ANZ\", \n",
    "                    'AT':\"EU\"}, inplace = True)"
   ]
  },
  {
   "cell_type": "markdown",
   "id": "c5a468c8",
   "metadata": {},
   "source": [
    "Turn entries of `created_at`, `launched`, `deadline` into datetime:"
   ]
  },
  {
   "cell_type": "code",
   "execution_count": 24,
   "id": "5d1c1f94",
   "metadata": {},
   "outputs": [
    {
     "output_type": "execute_result",
     "data": {
      "text/plain": [
       "   backers_count country          created_at  \\\n",
       "0            315      US 2018-11-05 23:06:45   \n",
       "1             47      US 2017-08-02 14:28:13   \n",
       "2            271      US 2012-09-30 06:45:33   \n",
       "3              3      GB 2017-01-07 09:11:11   \n",
       "4              3      US 2012-12-06 18:04:31   \n",
       "\n",
       "                                             creator            deadline  \\\n",
       "0  {\"id\":2094277840,\"name\":\"Lucy Conroy\",\"slug\":\"... 2019-03-14 05:02:55   \n",
       "1  {\"id\":723886115,\"name\":\"Lisa Vollrath\",\"slug\":... 2017-09-09 17:00:59   \n",
       "2  {\"id\":323849677,\"name\":\"Electra\",\"is_registere... 2013-06-12 05:03:15   \n",
       "3  {\"id\":196281496,\"name\":\"Artur Ordijanc (delete... 2017-03-13 17:22:56   \n",
       "4  {\"id\":1178460181,\"name\":\"Dawn Johnston\",\"is_re... 2013-01-09 20:32:07   \n",
       "\n",
       "      goal          id         launched_at  \\\n",
       "0  28000.0  2108505034 2019-01-23 06:02:55   \n",
       "1   1000.0   928751314 2017-08-10 17:00:59   \n",
       "2  15000.0   928014092 2013-05-13 05:03:15   \n",
       "3  10000.0   596091328 2017-01-12 18:22:56   \n",
       "4   2800.0   998516049 2012-12-10 20:32:07   \n",
       "\n",
       "                                            location       state  cat_id  \\\n",
       "0  {\"id\":2462429,\"name\":\"Novato\",\"slug\":\"novato-c...        live     266   \n",
       "1  {\"id\":2400549,\"name\":\"Euless\",\"slug\":\"euless-t...  successful     273   \n",
       "2  {\"id\":2423474,\"name\":\"Hollywood\",\"slug\":\"holly...  successful      43   \n",
       "3  {\"id\":475457,\"name\":\"Kaunas\",\"slug\":\"kaunas-ka...      failed     273   \n",
       "4  {\"id\":2507703,\"name\":\"Traverse City\",\"slug\":\"t...  successful      48   \n",
       "\n",
       "                    slug   max_pledged  \n",
       "0       fashion/footwear  28645.000000  \n",
       "1    games/playing cards   1950.000000  \n",
       "2             music/rock  22404.000000  \n",
       "3    games/playing cards    165.384934  \n",
       "4  publishing/nonfiction   2820.000000  "
      ],
      "text/html": "<div>\n<style scoped>\n    .dataframe tbody tr th:only-of-type {\n        vertical-align: middle;\n    }\n\n    .dataframe tbody tr th {\n        vertical-align: top;\n    }\n\n    .dataframe thead th {\n        text-align: right;\n    }\n</style>\n<table border=\"1\" class=\"dataframe\">\n  <thead>\n    <tr style=\"text-align: right;\">\n      <th></th>\n      <th>backers_count</th>\n      <th>country</th>\n      <th>created_at</th>\n      <th>creator</th>\n      <th>deadline</th>\n      <th>goal</th>\n      <th>id</th>\n      <th>launched_at</th>\n      <th>location</th>\n      <th>state</th>\n      <th>cat_id</th>\n      <th>slug</th>\n      <th>max_pledged</th>\n    </tr>\n  </thead>\n  <tbody>\n    <tr>\n      <th>0</th>\n      <td>315</td>\n      <td>US</td>\n      <td>2018-11-05 23:06:45</td>\n      <td>{\"id\":2094277840,\"name\":\"Lucy Conroy\",\"slug\":\"...</td>\n      <td>2019-03-14 05:02:55</td>\n      <td>28000.0</td>\n      <td>2108505034</td>\n      <td>2019-01-23 06:02:55</td>\n      <td>{\"id\":2462429,\"name\":\"Novato\",\"slug\":\"novato-c...</td>\n      <td>live</td>\n      <td>266</td>\n      <td>fashion/footwear</td>\n      <td>28645.000000</td>\n    </tr>\n    <tr>\n      <th>1</th>\n      <td>47</td>\n      <td>US</td>\n      <td>2017-08-02 14:28:13</td>\n      <td>{\"id\":723886115,\"name\":\"Lisa Vollrath\",\"slug\":...</td>\n      <td>2017-09-09 17:00:59</td>\n      <td>1000.0</td>\n      <td>928751314</td>\n      <td>2017-08-10 17:00:59</td>\n      <td>{\"id\":2400549,\"name\":\"Euless\",\"slug\":\"euless-t...</td>\n      <td>successful</td>\n      <td>273</td>\n      <td>games/playing cards</td>\n      <td>1950.000000</td>\n    </tr>\n    <tr>\n      <th>2</th>\n      <td>271</td>\n      <td>US</td>\n      <td>2012-09-30 06:45:33</td>\n      <td>{\"id\":323849677,\"name\":\"Electra\",\"is_registere...</td>\n      <td>2013-06-12 05:03:15</td>\n      <td>15000.0</td>\n      <td>928014092</td>\n      <td>2013-05-13 05:03:15</td>\n      <td>{\"id\":2423474,\"name\":\"Hollywood\",\"slug\":\"holly...</td>\n      <td>successful</td>\n      <td>43</td>\n      <td>music/rock</td>\n      <td>22404.000000</td>\n    </tr>\n    <tr>\n      <th>3</th>\n      <td>3</td>\n      <td>GB</td>\n      <td>2017-01-07 09:11:11</td>\n      <td>{\"id\":196281496,\"name\":\"Artur Ordijanc (delete...</td>\n      <td>2017-03-13 17:22:56</td>\n      <td>10000.0</td>\n      <td>596091328</td>\n      <td>2017-01-12 18:22:56</td>\n      <td>{\"id\":475457,\"name\":\"Kaunas\",\"slug\":\"kaunas-ka...</td>\n      <td>failed</td>\n      <td>273</td>\n      <td>games/playing cards</td>\n      <td>165.384934</td>\n    </tr>\n    <tr>\n      <th>4</th>\n      <td>3</td>\n      <td>US</td>\n      <td>2012-12-06 18:04:31</td>\n      <td>{\"id\":1178460181,\"name\":\"Dawn Johnston\",\"is_re...</td>\n      <td>2013-01-09 20:32:07</td>\n      <td>2800.0</td>\n      <td>998516049</td>\n      <td>2012-12-10 20:32:07</td>\n      <td>{\"id\":2507703,\"name\":\"Traverse City\",\"slug\":\"t...</td>\n      <td>successful</td>\n      <td>48</td>\n      <td>publishing/nonfiction</td>\n      <td>2820.000000</td>\n    </tr>\n  </tbody>\n</table>\n</div>"
     },
     "metadata": {},
     "execution_count": 24
    }
   ],
   "source": [
    "df.created_at = pd.to_datetime(df.iloc[:,df.columns.tolist().index(\"created_at\")],unit='s')\n",
    "df.launched_at = pd.to_datetime(df.iloc[:,df.columns.tolist().index(\"launched_at\")],unit='s')\n",
    "df.deadline = pd.to_datetime(df.iloc[:,df.columns.tolist().index(\"deadline\")],unit='s')\n",
    "#df.state_changed_at = pd.to_datetime(df.iloc[:,df.columns.tolist().index(\"state_changed_at\")],unit='s')\n",
    "df.head()"
   ]
  },
  {
   "cell_type": "code",
   "execution_count": 25,
   "id": "e232a0fd",
   "metadata": {},
   "outputs": [
    {
     "output_type": "execute_result",
     "data": {
      "text/plain": [
       "(209222, 13)"
      ]
     },
     "metadata": {},
     "execution_count": 25
    }
   ],
   "source": [
    "# set checkpoint\n",
    "df2 = df.copy()\n",
    "df.shape"
   ]
  },
  {
   "cell_type": "markdown",
   "id": "cbd5b1e1",
   "metadata": {},
   "source": [
    "Check for `id` copies and remove if they refer to the same data point: multiplicities of entries:"
   ]
  },
  {
   "cell_type": "code",
   "execution_count": 26,
   "id": "4b321cd5",
   "metadata": {},
   "outputs": [
    {
     "output_type": "stream",
     "name": "stdout",
     "text": [
      "3 2 1\n"
     ]
    }
   ],
   "source": [
    "print(*df.id.value_counts().unique())"
   ]
  },
  {
   "cell_type": "markdown",
   "id": "d45b3310",
   "metadata": {},
   "source": [
    "List of multiply used `id` entries:"
   ]
  },
  {
   "cell_type": "code",
   "execution_count": 27,
   "id": "5804c7de",
   "metadata": {},
   "outputs": [
    {
     "output_type": "execute_result",
     "data": {
      "text/plain": [
       "26957"
      ]
     },
     "metadata": {},
     "execution_count": 27
    }
   ],
   "source": [
    "dic = df.id.value_counts()\n",
    "multiples = np.array([key for key in dic.keys() if dic[key] > 1])\n",
    "len(multiples)"
   ]
  },
  {
   "cell_type": "markdown",
   "id": "2a632b0e",
   "metadata": {},
   "source": [
    "They don't differ in any features, except one."
   ]
  },
  {
   "cell_type": "markdown",
   "id": "94cf49b0",
   "metadata": {},
   "source": [
    "In that case, only one of the rows with the same `id` entry need to be kept."
   ]
  },
  {
   "cell_type": "code",
   "execution_count": 28,
   "id": "5118eccb",
   "metadata": {},
   "outputs": [],
   "source": [
    "df.drop_duplicates(subset = \"id\", keep = \"first\", inplace = True)"
   ]
  },
  {
   "cell_type": "code",
   "execution_count": 29,
   "id": "0c604219",
   "metadata": {},
   "outputs": [
    {
     "output_type": "execute_result",
     "data": {
      "text/plain": [
       "(182264, 13)"
      ]
     },
     "metadata": {},
     "execution_count": 29
    }
   ],
   "source": [
    "df.shape"
   ]
  },
  {
   "cell_type": "markdown",
   "id": "ce86d86d",
   "metadata": {},
   "source": [
    "Now we will take a look at `location` and try to extract some meaningful information.\n",
    "\n",
    "Fist we will drop NaN rows and then convert the `json-str` into a dictonary to extract keys and values."
   ]
  },
  {
   "cell_type": "code",
   "execution_count": 30,
   "id": "9c897e0a",
   "metadata": {},
   "outputs": [
    {
     "output_type": "execute_result",
     "data": {
      "text/plain": [
       "224"
      ]
     },
     "metadata": {},
     "execution_count": 30
    }
   ],
   "source": [
    "df.location.isnull().sum()"
   ]
  },
  {
   "cell_type": "code",
   "execution_count": 31,
   "id": "01ea272a",
   "metadata": {},
   "outputs": [],
   "source": [
    "df.dropna(axis = 0, subset = [\"location\"], inplace = True)"
   ]
  },
  {
   "cell_type": "code",
   "execution_count": 32,
   "id": "2880142e",
   "metadata": {},
   "outputs": [],
   "source": [
    "df.location =[json.loads(x) for x in df.location]"
   ]
  },
  {
   "cell_type": "code",
   "execution_count": 33,
   "id": "558f3135",
   "metadata": {},
   "outputs": [],
   "source": [
    "df[\"location_type\"] = [df.location.iloc[x][\"type\"] for x in range(0,len(df.location))]\n",
    "df[\"location_city\"] = [df.location.iloc[x][\"short_name\"] for x in range(0,len(df.location))]\n",
    "df[\"location_state\"] = [df.location.iloc[x][\"state\"] for x in range(0,len(df.location))]\n",
    "location = df.pop(\"location\")"
   ]
  },
  {
   "cell_type": "code",
   "execution_count": 34,
   "id": "deef9c86",
   "metadata": {},
   "outputs": [
    {
     "output_type": "execute_result",
     "data": {
      "text/plain": [
       "Los Angeles, CA         8577\n",
       "New York, NY            6771\n",
       "London, UK              6528\n",
       "Chicago, IL             3429\n",
       "San Francisco, CA       2934\n",
       "                        ... \n",
       "North Yarmouth, ME         1\n",
       "Shantiniketan, India       1\n",
       "Pennsboro, WV              1\n",
       "Wiley Ford, WV             1\n",
       "Blacklion, Ireland         1\n",
       "Name: location_city, Length: 14514, dtype: int64"
      ]
     },
     "metadata": {},
     "execution_count": 34
    }
   ],
   "source": [
    "df.location_city.value_counts()"
   ]
  },
  {
   "cell_type": "code",
   "execution_count": 35,
   "id": "4314f6a8",
   "metadata": {},
   "outputs": [
    {
     "output_type": "execute_result",
     "data": {
      "text/plain": [
       "CA                   23857\n",
       "England              16576\n",
       "NY                   14840\n",
       "TX                    7542\n",
       "FL                    6353\n",
       "                     ...  \n",
       "Acre                     1\n",
       "Armavir                  1\n",
       "Nakhon Ratchasima        1\n",
       "Siparia                  1\n",
       "Haryana                  1\n",
       "Name: location_state, Length: 1152, dtype: int64"
      ]
     },
     "metadata": {},
     "execution_count": 35
    }
   ],
   "source": [
    "df.location_state.value_counts()"
   ]
  },
  {
   "cell_type": "code",
   "execution_count": 36,
   "id": "09865628",
   "metadata": {},
   "outputs": [
    {
     "output_type": "execute_result",
     "data": {
      "text/plain": [
       "Town             168846\n",
       "County             6797\n",
       "Suburb             4623\n",
       "LocalAdmin         1059\n",
       "Zip                 447\n",
       "Island              229\n",
       "Country              20\n",
       "Miscellaneous        15\n",
       "Estate                4\n",
       "Name: location_type, dtype: int64"
      ]
     },
     "metadata": {},
     "execution_count": 36
    }
   ],
   "source": [
    "df.location_type.value_counts()"
   ]
  },
  {
   "cell_type": "code",
   "execution_count": 37,
   "id": "3f047d3d",
   "metadata": {},
   "outputs": [
    {
     "output_type": "execute_result",
     "data": {
      "text/plain": [
       "(182040, 15)"
      ]
     },
     "metadata": {},
     "execution_count": 37
    }
   ],
   "source": [
    "# set checkpoint\n",
    "df2 = df.copy()\n",
    "df.shape"
   ]
  },
  {
   "cell_type": "markdown",
   "id": "be223fc7",
   "metadata": {},
   "source": [
    "## Data Exploration\n",
    "After cleaning the data, we will look into the distribution of the features and look into possible relationships"
   ]
  },
  {
   "cell_type": "code",
   "execution_count": 48,
   "metadata": {},
   "outputs": [
    {
     "output_type": "stream",
     "name": "stdout",
     "text": [
      "Categories in category:  169\n"
     ]
    },
    {
     "output_type": "execute_result",
     "data": {
      "text/plain": [
       "<AxesSubplot:title={'center':'Top 20 most popular categories'}>"
      ]
     },
     "metadata": {},
     "execution_count": 48
    },
    {
     "output_type": "display_data",
     "data": {
      "text/plain": "<Figure size 1008x432 with 1 Axes>",
      "image/svg+xml": "<?xml version=\"1.0\" encoding=\"utf-8\" standalone=\"no\"?>\n<!DOCTYPE svg PUBLIC \"-//W3C//DTD SVG 1.1//EN\"\n  \"http://www.w3.org/Graphics/SVG/1.1/DTD/svg11.dtd\">\n<svg height=\"372.35625pt\" version=\"1.1\" viewBox=\"0 0 944.611593 372.35625\" width=\"944.611593pt\" xmlns=\"http://www.w3.org/2000/svg\" xmlns:xlink=\"http://www.w3.org/1999/xlink\">\n <metadata>\n  <rdf:RDF xmlns:cc=\"http://creativecommons.org/ns#\" xmlns:dc=\"http://purl.org/dc/elements/1.1/\" xmlns:rdf=\"http://www.w3.org/1999/02/22-rdf-syntax-ns#\">\n   <cc:Work>\n    <dc:type rdf:resource=\"http://purl.org/dc/dcmitype/StillImage\"/>\n    <dc:date>2021-06-29T10:19:09.428953</dc:date>\n    <dc:format>image/svg+xml</dc:format>\n    <dc:creator>\n     <cc:Agent>\n      <dc:title>Matplotlib v3.4.2, https://matplotlib.org/</dc:title>\n     </cc:Agent>\n    </dc:creator>\n   </cc:Work>\n  </rdf:RDF>\n </metadata>\n <defs>\n  <style type=\"text/css\">*{stroke-linecap:butt;stroke-linejoin:round;}</style>\n </defs>\n <g id=\"figure_1\">\n  <g id=\"patch_1\">\n   <path d=\"M -0 372.35625 \nL 944.611593 372.35625 \nL 944.611593 0 \nL -0 0 \nz\n\" style=\"fill:none;\"/>\n  </g>\n  <g id=\"axes_1\">\n   <g id=\"patch_2\">\n    <path d=\"M 150.009375 348.478125 \nL 931.209375 348.478125 \nL 931.209375 22.318125 \nL 150.009375 22.318125 \nz\n\" style=\"fill:#ffffff;\"/>\n   </g>\n   <g id=\"patch_3\">\n    <path clip-path=\"url(#pc39e9a3db5)\" d=\"M 150.009375 344.401125 \nL 894.009375 344.401125 \nL 894.009375 336.247125 \nL 150.009375 336.247125 \nz\n\" style=\"fill:#1f77b4;\"/>\n   </g>\n   <g id=\"patch_4\">\n    <path clip-path=\"url(#pc39e9a3db5)\" d=\"M 150.009375 328.093125 \nL 893.699504 328.093125 \nL 893.699504 319.939125 \nL 150.009375 319.939125 \nz\n\" style=\"fill:#1f77b4;\"/>\n   </g>\n   <g id=\"patch_5\">\n    <path clip-path=\"url(#pc39e9a3db5)\" d=\"M 150.009375 311.785125 \nL 893.699504 311.785125 \nL 893.699504 303.631125 \nL 150.009375 303.631125 \nz\n\" style=\"fill:#1f77b4;\"/>\n   </g>\n   <g id=\"patch_6\">\n    <path clip-path=\"url(#pc39e9a3db5)\" d=\"M 150.009375 295.477125 \nL 893.699504 295.477125 \nL 893.699504 287.323125 \nL 150.009375 287.323125 \nz\n\" style=\"fill:#1f77b4;\"/>\n   </g>\n   <g id=\"patch_7\">\n    <path clip-path=\"url(#pc39e9a3db5)\" d=\"M 150.009375 279.169125 \nL 893.699504 279.169125 \nL 893.699504 271.015125 \nL 150.009375 271.015125 \nz\n\" style=\"fill:#1f77b4;\"/>\n   </g>\n   <g id=\"patch_8\">\n    <path clip-path=\"url(#pc39e9a3db5)\" d=\"M 150.009375 262.861125 \nL 893.699504 262.861125 \nL 893.699504 254.707125 \nL 150.009375 254.707125 \nz\n\" style=\"fill:#1f77b4;\"/>\n   </g>\n   <g id=\"patch_9\">\n    <path clip-path=\"url(#pc39e9a3db5)\" d=\"M 150.009375 246.553125 \nL 893.699504 246.553125 \nL 893.699504 238.399125 \nL 150.009375 238.399125 \nz\n\" style=\"fill:#1f77b4;\"/>\n   </g>\n   <g id=\"patch_10\">\n    <path clip-path=\"url(#pc39e9a3db5)\" d=\"M 150.009375 230.245125 \nL 893.699504 230.245125 \nL 893.699504 222.091125 \nL 150.009375 222.091125 \nz\n\" style=\"fill:#1f77b4;\"/>\n   </g>\n   <g id=\"patch_11\">\n    <path clip-path=\"url(#pc39e9a3db5)\" d=\"M 150.009375 213.937125 \nL 893.699504 213.937125 \nL 893.699504 205.783125 \nL 150.009375 205.783125 \nz\n\" style=\"fill:#1f77b4;\"/>\n   </g>\n   <g id=\"patch_12\">\n    <path clip-path=\"url(#pc39e9a3db5)\" d=\"M 150.009375 197.629125 \nL 893.699504 197.629125 \nL 893.699504 189.475125 \nL 150.009375 189.475125 \nz\n\" style=\"fill:#1f77b4;\"/>\n   </g>\n   <g id=\"patch_13\">\n    <path clip-path=\"url(#pc39e9a3db5)\" d=\"M 150.009375 181.321125 \nL 893.699504 181.321125 \nL 893.699504 173.167125 \nL 150.009375 173.167125 \nz\n\" style=\"fill:#1f77b4;\"/>\n   </g>\n   <g id=\"patch_14\">\n    <path clip-path=\"url(#pc39e9a3db5)\" d=\"M 150.009375 165.013125 \nL 893.699504 165.013125 \nL 893.699504 156.859125 \nL 150.009375 156.859125 \nz\n\" style=\"fill:#1f77b4;\"/>\n   </g>\n   <g id=\"patch_15\">\n    <path clip-path=\"url(#pc39e9a3db5)\" d=\"M 150.009375 148.705125 \nL 893.699504 148.705125 \nL 893.699504 140.551125 \nL 150.009375 140.551125 \nz\n\" style=\"fill:#1f77b4;\"/>\n   </g>\n   <g id=\"patch_16\">\n    <path clip-path=\"url(#pc39e9a3db5)\" d=\"M 150.009375 132.397125 \nL 893.699504 132.397125 \nL 893.699504 124.243125 \nL 150.009375 124.243125 \nz\n\" style=\"fill:#1f77b4;\"/>\n   </g>\n   <g id=\"patch_17\">\n    <path clip-path=\"url(#pc39e9a3db5)\" d=\"M 150.009375 116.089125 \nL 893.699504 116.089125 \nL 893.699504 107.935125 \nL 150.009375 107.935125 \nz\n\" style=\"fill:#1f77b4;\"/>\n   </g>\n   <g id=\"patch_18\">\n    <path clip-path=\"url(#pc39e9a3db5)\" d=\"M 150.009375 99.781125 \nL 893.699504 99.781125 \nL 893.699504 91.627125 \nL 150.009375 91.627125 \nz\n\" style=\"fill:#1f77b4;\"/>\n   </g>\n   <g id=\"patch_19\">\n    <path clip-path=\"url(#pc39e9a3db5)\" d=\"M 150.009375 83.473125 \nL 893.699504 83.473125 \nL 893.699504 75.319125 \nL 150.009375 75.319125 \nz\n\" style=\"fill:#1f77b4;\"/>\n   </g>\n   <g id=\"patch_20\">\n    <path clip-path=\"url(#pc39e9a3db5)\" d=\"M 150.009375 67.165125 \nL 893.699504 67.165125 \nL 893.699504 59.011125 \nL 150.009375 59.011125 \nz\n\" style=\"fill:#1f77b4;\"/>\n   </g>\n   <g id=\"patch_21\">\n    <path clip-path=\"url(#pc39e9a3db5)\" d=\"M 150.009375 50.857125 \nL 893.699504 50.857125 \nL 893.699504 42.703125 \nL 150.009375 42.703125 \nz\n\" style=\"fill:#1f77b4;\"/>\n   </g>\n   <g id=\"patch_22\">\n    <path clip-path=\"url(#pc39e9a3db5)\" d=\"M 150.009375 34.549125 \nL 893.699504 34.549125 \nL 893.699504 26.395125 \nL 150.009375 26.395125 \nz\n\" style=\"fill:#1f77b4;\"/>\n   </g>\n   <g id=\"matplotlib.axis_1\">\n    <g id=\"xtick_1\">\n     <g id=\"line2d_1\">\n      <defs>\n       <path d=\"M 0 0 \nL 0 3.5 \n\" id=\"mab58a803b6\" style=\"stroke:#000000;stroke-width:0.8;\"/>\n      </defs>\n      <g>\n       <use style=\"stroke:#000000;stroke-width:0.8;\" x=\"150.009375\" xlink:href=\"#mab58a803b6\" y=\"348.478125\"/>\n      </g>\n     </g>\n     <g id=\"text_1\">\n      <!-- 0 -->\n      <g transform=\"translate(146.828125 363.076563)scale(0.1 -0.1)\">\n       <defs>\n        <path d=\"M 2034 4250 \nQ 1547 4250 1301 3770 \nQ 1056 3291 1056 2328 \nQ 1056 1369 1301 889 \nQ 1547 409 2034 409 \nQ 2525 409 2770 889 \nQ 3016 1369 3016 2328 \nQ 3016 3291 2770 3770 \nQ 2525 4250 2034 4250 \nz\nM 2034 4750 \nQ 2819 4750 3233 4129 \nQ 3647 3509 3647 2328 \nQ 3647 1150 3233 529 \nQ 2819 -91 2034 -91 \nQ 1250 -91 836 529 \nQ 422 1150 422 2328 \nQ 422 3509 836 4129 \nQ 1250 4750 2034 4750 \nz\n\" id=\"DejaVuSans-30\" transform=\"scale(0.015625)\"/>\n       </defs>\n       <use xlink:href=\"#DejaVuSans-30\"/>\n      </g>\n     </g>\n    </g>\n    <g id=\"xtick_2\">\n     <g id=\"line2d_2\">\n      <g>\n       <use style=\"stroke:#000000;stroke-width:0.8;\" x=\"304.944819\" xlink:href=\"#mab58a803b6\" y=\"348.478125\"/>\n      </g>\n     </g>\n     <g id=\"text_2\">\n      <!-- 500 -->\n      <g transform=\"translate(295.401069 363.076563)scale(0.1 -0.1)\">\n       <defs>\n        <path d=\"M 691 4666 \nL 3169 4666 \nL 3169 4134 \nL 1269 4134 \nL 1269 2991 \nQ 1406 3038 1543 3061 \nQ 1681 3084 1819 3084 \nQ 2600 3084 3056 2656 \nQ 3513 2228 3513 1497 \nQ 3513 744 3044 326 \nQ 2575 -91 1722 -91 \nQ 1428 -91 1123 -41 \nQ 819 9 494 109 \nL 494 744 \nQ 775 591 1075 516 \nQ 1375 441 1709 441 \nQ 2250 441 2565 725 \nQ 2881 1009 2881 1497 \nQ 2881 1984 2565 2268 \nQ 2250 2553 1709 2553 \nQ 1456 2553 1204 2497 \nQ 953 2441 691 2322 \nL 691 4666 \nz\n\" id=\"DejaVuSans-35\" transform=\"scale(0.015625)\"/>\n       </defs>\n       <use xlink:href=\"#DejaVuSans-35\"/>\n       <use x=\"63.623047\" xlink:href=\"#DejaVuSans-30\"/>\n       <use x=\"127.246094\" xlink:href=\"#DejaVuSans-30\"/>\n      </g>\n     </g>\n    </g>\n    <g id=\"xtick_3\">\n     <g id=\"line2d_3\">\n      <g>\n       <use style=\"stroke:#000000;stroke-width:0.8;\" x=\"459.880262\" xlink:href=\"#mab58a803b6\" y=\"348.478125\"/>\n      </g>\n     </g>\n     <g id=\"text_3\">\n      <!-- 1000 -->\n      <g transform=\"translate(447.155262 363.076563)scale(0.1 -0.1)\">\n       <defs>\n        <path d=\"M 794 531 \nL 1825 531 \nL 1825 4091 \nL 703 3866 \nL 703 4441 \nL 1819 4666 \nL 2450 4666 \nL 2450 531 \nL 3481 531 \nL 3481 0 \nL 794 0 \nL 794 531 \nz\n\" id=\"DejaVuSans-31\" transform=\"scale(0.015625)\"/>\n       </defs>\n       <use xlink:href=\"#DejaVuSans-31\"/>\n       <use x=\"63.623047\" xlink:href=\"#DejaVuSans-30\"/>\n       <use x=\"127.246094\" xlink:href=\"#DejaVuSans-30\"/>\n       <use x=\"190.869141\" xlink:href=\"#DejaVuSans-30\"/>\n      </g>\n     </g>\n    </g>\n    <g id=\"xtick_4\">\n     <g id=\"line2d_4\">\n      <g>\n       <use style=\"stroke:#000000;stroke-width:0.8;\" x=\"614.815706\" xlink:href=\"#mab58a803b6\" y=\"348.478125\"/>\n      </g>\n     </g>\n     <g id=\"text_4\">\n      <!-- 1500 -->\n      <g transform=\"translate(602.090706 363.076563)scale(0.1 -0.1)\">\n       <use xlink:href=\"#DejaVuSans-31\"/>\n       <use x=\"63.623047\" xlink:href=\"#DejaVuSans-35\"/>\n       <use x=\"127.246094\" xlink:href=\"#DejaVuSans-30\"/>\n       <use x=\"190.869141\" xlink:href=\"#DejaVuSans-30\"/>\n      </g>\n     </g>\n    </g>\n    <g id=\"xtick_5\">\n     <g id=\"line2d_5\">\n      <g>\n       <use style=\"stroke:#000000;stroke-width:0.8;\" x=\"769.751149\" xlink:href=\"#mab58a803b6\" y=\"348.478125\"/>\n      </g>\n     </g>\n     <g id=\"text_5\">\n      <!-- 2000 -->\n      <g transform=\"translate(757.026149 363.076563)scale(0.1 -0.1)\">\n       <defs>\n        <path d=\"M 1228 531 \nL 3431 531 \nL 3431 0 \nL 469 0 \nL 469 531 \nQ 828 903 1448 1529 \nQ 2069 2156 2228 2338 \nQ 2531 2678 2651 2914 \nQ 2772 3150 2772 3378 \nQ 2772 3750 2511 3984 \nQ 2250 4219 1831 4219 \nQ 1534 4219 1204 4116 \nQ 875 4013 500 3803 \nL 500 4441 \nQ 881 4594 1212 4672 \nQ 1544 4750 1819 4750 \nQ 2544 4750 2975 4387 \nQ 3406 4025 3406 3419 \nQ 3406 3131 3298 2873 \nQ 3191 2616 2906 2266 \nQ 2828 2175 2409 1742 \nQ 1991 1309 1228 531 \nz\n\" id=\"DejaVuSans-32\" transform=\"scale(0.015625)\"/>\n       </defs>\n       <use xlink:href=\"#DejaVuSans-32\"/>\n       <use x=\"63.623047\" xlink:href=\"#DejaVuSans-30\"/>\n       <use x=\"127.246094\" xlink:href=\"#DejaVuSans-30\"/>\n       <use x=\"190.869141\" xlink:href=\"#DejaVuSans-30\"/>\n      </g>\n     </g>\n    </g>\n    <g id=\"xtick_6\">\n     <g id=\"line2d_6\">\n      <g>\n       <use style=\"stroke:#000000;stroke-width:0.8;\" x=\"924.686593\" xlink:href=\"#mab58a803b6\" y=\"348.478125\"/>\n      </g>\n     </g>\n     <g id=\"text_6\">\n      <!-- 2500 -->\n      <g transform=\"translate(911.961593 363.076563)scale(0.1 -0.1)\">\n       <use xlink:href=\"#DejaVuSans-32\"/>\n       <use x=\"63.623047\" xlink:href=\"#DejaVuSans-35\"/>\n       <use x=\"127.246094\" xlink:href=\"#DejaVuSans-30\"/>\n       <use x=\"190.869141\" xlink:href=\"#DejaVuSans-30\"/>\n      </g>\n     </g>\n    </g>\n   </g>\n   <g id=\"matplotlib.axis_2\">\n    <g id=\"ytick_1\">\n     <g id=\"line2d_7\">\n      <defs>\n       <path d=\"M 0 0 \nL -3.5 0 \n\" id=\"m88342510ee\" style=\"stroke:#000000;stroke-width:0.8;\"/>\n      </defs>\n      <g>\n       <use style=\"stroke:#000000;stroke-width:0.8;\" x=\"150.009375\" xlink:href=\"#m88342510ee\" y=\"340.324125\"/>\n      </g>\n     </g>\n     <g id=\"text_7\">\n      <!-- publishing/nonfiction -->\n      <g transform=\"translate(38.29375 344.123344)scale(0.1 -0.1)\">\n       <defs>\n        <path d=\"M 1159 525 \nL 1159 -1331 \nL 581 -1331 \nL 581 3500 \nL 1159 3500 \nL 1159 2969 \nQ 1341 3281 1617 3432 \nQ 1894 3584 2278 3584 \nQ 2916 3584 3314 3078 \nQ 3713 2572 3713 1747 \nQ 3713 922 3314 415 \nQ 2916 -91 2278 -91 \nQ 1894 -91 1617 61 \nQ 1341 213 1159 525 \nz\nM 3116 1747 \nQ 3116 2381 2855 2742 \nQ 2594 3103 2138 3103 \nQ 1681 3103 1420 2742 \nQ 1159 2381 1159 1747 \nQ 1159 1113 1420 752 \nQ 1681 391 2138 391 \nQ 2594 391 2855 752 \nQ 3116 1113 3116 1747 \nz\n\" id=\"DejaVuSans-70\" transform=\"scale(0.015625)\"/>\n        <path d=\"M 544 1381 \nL 544 3500 \nL 1119 3500 \nL 1119 1403 \nQ 1119 906 1312 657 \nQ 1506 409 1894 409 \nQ 2359 409 2629 706 \nQ 2900 1003 2900 1516 \nL 2900 3500 \nL 3475 3500 \nL 3475 0 \nL 2900 0 \nL 2900 538 \nQ 2691 219 2414 64 \nQ 2138 -91 1772 -91 \nQ 1169 -91 856 284 \nQ 544 659 544 1381 \nz\nM 1991 3584 \nL 1991 3584 \nz\n\" id=\"DejaVuSans-75\" transform=\"scale(0.015625)\"/>\n        <path d=\"M 3116 1747 \nQ 3116 2381 2855 2742 \nQ 2594 3103 2138 3103 \nQ 1681 3103 1420 2742 \nQ 1159 2381 1159 1747 \nQ 1159 1113 1420 752 \nQ 1681 391 2138 391 \nQ 2594 391 2855 752 \nQ 3116 1113 3116 1747 \nz\nM 1159 2969 \nQ 1341 3281 1617 3432 \nQ 1894 3584 2278 3584 \nQ 2916 3584 3314 3078 \nQ 3713 2572 3713 1747 \nQ 3713 922 3314 415 \nQ 2916 -91 2278 -91 \nQ 1894 -91 1617 61 \nQ 1341 213 1159 525 \nL 1159 0 \nL 581 0 \nL 581 4863 \nL 1159 4863 \nL 1159 2969 \nz\n\" id=\"DejaVuSans-62\" transform=\"scale(0.015625)\"/>\n        <path d=\"M 603 4863 \nL 1178 4863 \nL 1178 0 \nL 603 0 \nL 603 4863 \nz\n\" id=\"DejaVuSans-6c\" transform=\"scale(0.015625)\"/>\n        <path d=\"M 603 3500 \nL 1178 3500 \nL 1178 0 \nL 603 0 \nL 603 3500 \nz\nM 603 4863 \nL 1178 4863 \nL 1178 4134 \nL 603 4134 \nL 603 4863 \nz\n\" id=\"DejaVuSans-69\" transform=\"scale(0.015625)\"/>\n        <path d=\"M 2834 3397 \nL 2834 2853 \nQ 2591 2978 2328 3040 \nQ 2066 3103 1784 3103 \nQ 1356 3103 1142 2972 \nQ 928 2841 928 2578 \nQ 928 2378 1081 2264 \nQ 1234 2150 1697 2047 \nL 1894 2003 \nQ 2506 1872 2764 1633 \nQ 3022 1394 3022 966 \nQ 3022 478 2636 193 \nQ 2250 -91 1575 -91 \nQ 1294 -91 989 -36 \nQ 684 19 347 128 \nL 347 722 \nQ 666 556 975 473 \nQ 1284 391 1588 391 \nQ 1994 391 2212 530 \nQ 2431 669 2431 922 \nQ 2431 1156 2273 1281 \nQ 2116 1406 1581 1522 \nL 1381 1569 \nQ 847 1681 609 1914 \nQ 372 2147 372 2553 \nQ 372 3047 722 3315 \nQ 1072 3584 1716 3584 \nQ 2034 3584 2315 3537 \nQ 2597 3491 2834 3397 \nz\n\" id=\"DejaVuSans-73\" transform=\"scale(0.015625)\"/>\n        <path d=\"M 3513 2113 \nL 3513 0 \nL 2938 0 \nL 2938 2094 \nQ 2938 2591 2744 2837 \nQ 2550 3084 2163 3084 \nQ 1697 3084 1428 2787 \nQ 1159 2491 1159 1978 \nL 1159 0 \nL 581 0 \nL 581 4863 \nL 1159 4863 \nL 1159 2956 \nQ 1366 3272 1645 3428 \nQ 1925 3584 2291 3584 \nQ 2894 3584 3203 3211 \nQ 3513 2838 3513 2113 \nz\n\" id=\"DejaVuSans-68\" transform=\"scale(0.015625)\"/>\n        <path d=\"M 3513 2113 \nL 3513 0 \nL 2938 0 \nL 2938 2094 \nQ 2938 2591 2744 2837 \nQ 2550 3084 2163 3084 \nQ 1697 3084 1428 2787 \nQ 1159 2491 1159 1978 \nL 1159 0 \nL 581 0 \nL 581 3500 \nL 1159 3500 \nL 1159 2956 \nQ 1366 3272 1645 3428 \nQ 1925 3584 2291 3584 \nQ 2894 3584 3203 3211 \nQ 3513 2838 3513 2113 \nz\n\" id=\"DejaVuSans-6e\" transform=\"scale(0.015625)\"/>\n        <path d=\"M 2906 1791 \nQ 2906 2416 2648 2759 \nQ 2391 3103 1925 3103 \nQ 1463 3103 1205 2759 \nQ 947 2416 947 1791 \nQ 947 1169 1205 825 \nQ 1463 481 1925 481 \nQ 2391 481 2648 825 \nQ 2906 1169 2906 1791 \nz\nM 3481 434 \nQ 3481 -459 3084 -895 \nQ 2688 -1331 1869 -1331 \nQ 1566 -1331 1297 -1286 \nQ 1028 -1241 775 -1147 \nL 775 -588 \nQ 1028 -725 1275 -790 \nQ 1522 -856 1778 -856 \nQ 2344 -856 2625 -561 \nQ 2906 -266 2906 331 \nL 2906 616 \nQ 2728 306 2450 153 \nQ 2172 0 1784 0 \nQ 1141 0 747 490 \nQ 353 981 353 1791 \nQ 353 2603 747 3093 \nQ 1141 3584 1784 3584 \nQ 2172 3584 2450 3431 \nQ 2728 3278 2906 2969 \nL 2906 3500 \nL 3481 3500 \nL 3481 434 \nz\n\" id=\"DejaVuSans-67\" transform=\"scale(0.015625)\"/>\n        <path d=\"M 1625 4666 \nL 2156 4666 \nL 531 -594 \nL 0 -594 \nL 1625 4666 \nz\n\" id=\"DejaVuSans-2f\" transform=\"scale(0.015625)\"/>\n        <path d=\"M 1959 3097 \nQ 1497 3097 1228 2736 \nQ 959 2375 959 1747 \nQ 959 1119 1226 758 \nQ 1494 397 1959 397 \nQ 2419 397 2687 759 \nQ 2956 1122 2956 1747 \nQ 2956 2369 2687 2733 \nQ 2419 3097 1959 3097 \nz\nM 1959 3584 \nQ 2709 3584 3137 3096 \nQ 3566 2609 3566 1747 \nQ 3566 888 3137 398 \nQ 2709 -91 1959 -91 \nQ 1206 -91 779 398 \nQ 353 888 353 1747 \nQ 353 2609 779 3096 \nQ 1206 3584 1959 3584 \nz\n\" id=\"DejaVuSans-6f\" transform=\"scale(0.015625)\"/>\n        <path d=\"M 2375 4863 \nL 2375 4384 \nL 1825 4384 \nQ 1516 4384 1395 4259 \nQ 1275 4134 1275 3809 \nL 1275 3500 \nL 2222 3500 \nL 2222 3053 \nL 1275 3053 \nL 1275 0 \nL 697 0 \nL 697 3053 \nL 147 3053 \nL 147 3500 \nL 697 3500 \nL 697 3744 \nQ 697 4328 969 4595 \nQ 1241 4863 1831 4863 \nL 2375 4863 \nz\n\" id=\"DejaVuSans-66\" transform=\"scale(0.015625)\"/>\n        <path d=\"M 3122 3366 \nL 3122 2828 \nQ 2878 2963 2633 3030 \nQ 2388 3097 2138 3097 \nQ 1578 3097 1268 2742 \nQ 959 2388 959 1747 \nQ 959 1106 1268 751 \nQ 1578 397 2138 397 \nQ 2388 397 2633 464 \nQ 2878 531 3122 666 \nL 3122 134 \nQ 2881 22 2623 -34 \nQ 2366 -91 2075 -91 \nQ 1284 -91 818 406 \nQ 353 903 353 1747 \nQ 353 2603 823 3093 \nQ 1294 3584 2113 3584 \nQ 2378 3584 2631 3529 \nQ 2884 3475 3122 3366 \nz\n\" id=\"DejaVuSans-63\" transform=\"scale(0.015625)\"/>\n        <path d=\"M 1172 4494 \nL 1172 3500 \nL 2356 3500 \nL 2356 3053 \nL 1172 3053 \nL 1172 1153 \nQ 1172 725 1289 603 \nQ 1406 481 1766 481 \nL 2356 481 \nL 2356 0 \nL 1766 0 \nQ 1100 0 847 248 \nQ 594 497 594 1153 \nL 594 3053 \nL 172 3053 \nL 172 3500 \nL 594 3500 \nL 594 4494 \nL 1172 4494 \nz\n\" id=\"DejaVuSans-74\" transform=\"scale(0.015625)\"/>\n       </defs>\n       <use xlink:href=\"#DejaVuSans-70\"/>\n       <use x=\"63.476562\" xlink:href=\"#DejaVuSans-75\"/>\n       <use x=\"126.855469\" xlink:href=\"#DejaVuSans-62\"/>\n       <use x=\"190.332031\" xlink:href=\"#DejaVuSans-6c\"/>\n       <use x=\"218.115234\" xlink:href=\"#DejaVuSans-69\"/>\n       <use x=\"245.898438\" xlink:href=\"#DejaVuSans-73\"/>\n       <use x=\"297.998047\" xlink:href=\"#DejaVuSans-68\"/>\n       <use x=\"361.376953\" xlink:href=\"#DejaVuSans-69\"/>\n       <use x=\"389.160156\" xlink:href=\"#DejaVuSans-6e\"/>\n       <use x=\"452.539062\" xlink:href=\"#DejaVuSans-67\"/>\n       <use x=\"516.015625\" xlink:href=\"#DejaVuSans-2f\"/>\n       <use x=\"549.707031\" xlink:href=\"#DejaVuSans-6e\"/>\n       <use x=\"613.085938\" xlink:href=\"#DejaVuSans-6f\"/>\n       <use x=\"674.267578\" xlink:href=\"#DejaVuSans-6e\"/>\n       <use x=\"737.646484\" xlink:href=\"#DejaVuSans-66\"/>\n       <use x=\"772.851562\" xlink:href=\"#DejaVuSans-69\"/>\n       <use x=\"800.634766\" xlink:href=\"#DejaVuSans-63\"/>\n       <use x=\"855.615234\" xlink:href=\"#DejaVuSans-74\"/>\n       <use x=\"894.824219\" xlink:href=\"#DejaVuSans-69\"/>\n       <use x=\"922.607422\" xlink:href=\"#DejaVuSans-6f\"/>\n       <use x=\"983.789062\" xlink:href=\"#DejaVuSans-6e\"/>\n      </g>\n     </g>\n    </g>\n    <g id=\"ytick_2\">\n     <g id=\"line2d_8\">\n      <g>\n       <use style=\"stroke:#000000;stroke-width:0.8;\" x=\"150.009375\" xlink:href=\"#m88342510ee\" y=\"324.016125\"/>\n      </g>\n     </g>\n     <g id=\"text_8\">\n      <!-- music/country &amp; folk -->\n      <g transform=\"translate(39.471875 327.815344)scale(0.1 -0.1)\">\n       <defs>\n        <path d=\"M 3328 2828 \nQ 3544 3216 3844 3400 \nQ 4144 3584 4550 3584 \nQ 5097 3584 5394 3201 \nQ 5691 2819 5691 2113 \nL 5691 0 \nL 5113 0 \nL 5113 2094 \nQ 5113 2597 4934 2840 \nQ 4756 3084 4391 3084 \nQ 3944 3084 3684 2787 \nQ 3425 2491 3425 1978 \nL 3425 0 \nL 2847 0 \nL 2847 2094 \nQ 2847 2600 2669 2842 \nQ 2491 3084 2119 3084 \nQ 1678 3084 1418 2786 \nQ 1159 2488 1159 1978 \nL 1159 0 \nL 581 0 \nL 581 3500 \nL 1159 3500 \nL 1159 2956 \nQ 1356 3278 1631 3431 \nQ 1906 3584 2284 3584 \nQ 2666 3584 2933 3390 \nQ 3200 3197 3328 2828 \nz\n\" id=\"DejaVuSans-6d\" transform=\"scale(0.015625)\"/>\n        <path d=\"M 2631 2963 \nQ 2534 3019 2420 3045 \nQ 2306 3072 2169 3072 \nQ 1681 3072 1420 2755 \nQ 1159 2438 1159 1844 \nL 1159 0 \nL 581 0 \nL 581 3500 \nL 1159 3500 \nL 1159 2956 \nQ 1341 3275 1631 3429 \nQ 1922 3584 2338 3584 \nQ 2397 3584 2469 3576 \nQ 2541 3569 2628 3553 \nL 2631 2963 \nz\n\" id=\"DejaVuSans-72\" transform=\"scale(0.015625)\"/>\n        <path d=\"M 2059 -325 \nQ 1816 -950 1584 -1140 \nQ 1353 -1331 966 -1331 \nL 506 -1331 \nL 506 -850 \nL 844 -850 \nQ 1081 -850 1212 -737 \nQ 1344 -625 1503 -206 \nL 1606 56 \nL 191 3500 \nL 800 3500 \nL 1894 763 \nL 2988 3500 \nL 3597 3500 \nL 2059 -325 \nz\n\" id=\"DejaVuSans-79\" transform=\"scale(0.015625)\"/>\n        <path id=\"DejaVuSans-20\" transform=\"scale(0.015625)\"/>\n        <path d=\"M 1556 2509 \nQ 1272 2256 1139 2004 \nQ 1006 1753 1006 1478 \nQ 1006 1022 1337 719 \nQ 1669 416 2169 416 \nQ 2466 416 2725 514 \nQ 2984 613 3213 813 \nL 1556 2509 \nz\nM 1997 2859 \nL 3584 1234 \nQ 3769 1513 3872 1830 \nQ 3975 2147 3994 2503 \nL 4575 2503 \nQ 4538 2091 4375 1687 \nQ 4213 1284 3922 891 \nL 4794 0 \nL 4006 0 \nL 3559 459 \nQ 3234 181 2878 45 \nQ 2522 -91 2113 -91 \nQ 1359 -91 881 339 \nQ 403 769 403 1441 \nQ 403 1841 612 2192 \nQ 822 2544 1241 2853 \nQ 1091 3050 1012 3245 \nQ 934 3441 934 3628 \nQ 934 4134 1281 4442 \nQ 1628 4750 2203 4750 \nQ 2463 4750 2720 4694 \nQ 2978 4638 3244 4525 \nL 3244 3956 \nQ 2972 4103 2725 4179 \nQ 2478 4256 2266 4256 \nQ 1938 4256 1733 4082 \nQ 1528 3909 1528 3634 \nQ 1528 3475 1620 3314 \nQ 1713 3153 1997 2859 \nz\n\" id=\"DejaVuSans-26\" transform=\"scale(0.015625)\"/>\n        <path d=\"M 581 4863 \nL 1159 4863 \nL 1159 1991 \nL 2875 3500 \nL 3609 3500 \nL 1753 1863 \nL 3688 0 \nL 2938 0 \nL 1159 1709 \nL 1159 0 \nL 581 0 \nL 581 4863 \nz\n\" id=\"DejaVuSans-6b\" transform=\"scale(0.015625)\"/>\n       </defs>\n       <use xlink:href=\"#DejaVuSans-6d\"/>\n       <use x=\"97.412109\" xlink:href=\"#DejaVuSans-75\"/>\n       <use x=\"160.791016\" xlink:href=\"#DejaVuSans-73\"/>\n       <use x=\"212.890625\" xlink:href=\"#DejaVuSans-69\"/>\n       <use x=\"240.673828\" xlink:href=\"#DejaVuSans-63\"/>\n       <use x=\"295.654297\" xlink:href=\"#DejaVuSans-2f\"/>\n       <use x=\"329.345703\" xlink:href=\"#DejaVuSans-63\"/>\n       <use x=\"384.326172\" xlink:href=\"#DejaVuSans-6f\"/>\n       <use x=\"445.507812\" xlink:href=\"#DejaVuSans-75\"/>\n       <use x=\"508.886719\" xlink:href=\"#DejaVuSans-6e\"/>\n       <use x=\"572.265625\" xlink:href=\"#DejaVuSans-74\"/>\n       <use x=\"611.474609\" xlink:href=\"#DejaVuSans-72\"/>\n       <use x=\"652.587891\" xlink:href=\"#DejaVuSans-79\"/>\n       <use x=\"711.767578\" xlink:href=\"#DejaVuSans-20\"/>\n       <use x=\"743.554688\" xlink:href=\"#DejaVuSans-26\"/>\n       <use x=\"821.533203\" xlink:href=\"#DejaVuSans-20\"/>\n       <use x=\"853.320312\" xlink:href=\"#DejaVuSans-66\"/>\n       <use x=\"888.525391\" xlink:href=\"#DejaVuSans-6f\"/>\n       <use x=\"949.707031\" xlink:href=\"#DejaVuSans-6c\"/>\n       <use x=\"977.490234\" xlink:href=\"#DejaVuSans-6b\"/>\n      </g>\n     </g>\n    </g>\n    <g id=\"ytick_3\">\n     <g id=\"line2d_9\">\n      <g>\n       <use style=\"stroke:#000000;stroke-width:0.8;\" x=\"150.009375\" xlink:href=\"#m88342510ee\" y=\"307.708125\"/>\n      </g>\n     </g>\n     <g id=\"text_9\">\n      <!-- technology/gadgets -->\n      <g transform=\"translate(43.654688 311.507344)scale(0.1 -0.1)\">\n       <defs>\n        <path d=\"M 3597 1894 \nL 3597 1613 \nL 953 1613 \nQ 991 1019 1311 708 \nQ 1631 397 2203 397 \nQ 2534 397 2845 478 \nQ 3156 559 3463 722 \nL 3463 178 \nQ 3153 47 2828 -22 \nQ 2503 -91 2169 -91 \nQ 1331 -91 842 396 \nQ 353 884 353 1716 \nQ 353 2575 817 3079 \nQ 1281 3584 2069 3584 \nQ 2775 3584 3186 3129 \nQ 3597 2675 3597 1894 \nz\nM 3022 2063 \nQ 3016 2534 2758 2815 \nQ 2500 3097 2075 3097 \nQ 1594 3097 1305 2825 \nQ 1016 2553 972 2059 \nL 3022 2063 \nz\n\" id=\"DejaVuSans-65\" transform=\"scale(0.015625)\"/>\n        <path d=\"M 2194 1759 \nQ 1497 1759 1228 1600 \nQ 959 1441 959 1056 \nQ 959 750 1161 570 \nQ 1363 391 1709 391 \nQ 2188 391 2477 730 \nQ 2766 1069 2766 1631 \nL 2766 1759 \nL 2194 1759 \nz\nM 3341 1997 \nL 3341 0 \nL 2766 0 \nL 2766 531 \nQ 2569 213 2275 61 \nQ 1981 -91 1556 -91 \nQ 1019 -91 701 211 \nQ 384 513 384 1019 \nQ 384 1609 779 1909 \nQ 1175 2209 1959 2209 \nL 2766 2209 \nL 2766 2266 \nQ 2766 2663 2505 2880 \nQ 2244 3097 1772 3097 \nQ 1472 3097 1187 3025 \nQ 903 2953 641 2809 \nL 641 3341 \nQ 956 3463 1253 3523 \nQ 1550 3584 1831 3584 \nQ 2591 3584 2966 3190 \nQ 3341 2797 3341 1997 \nz\n\" id=\"DejaVuSans-61\" transform=\"scale(0.015625)\"/>\n        <path d=\"M 2906 2969 \nL 2906 4863 \nL 3481 4863 \nL 3481 0 \nL 2906 0 \nL 2906 525 \nQ 2725 213 2448 61 \nQ 2172 -91 1784 -91 \nQ 1150 -91 751 415 \nQ 353 922 353 1747 \nQ 353 2572 751 3078 \nQ 1150 3584 1784 3584 \nQ 2172 3584 2448 3432 \nQ 2725 3281 2906 2969 \nz\nM 947 1747 \nQ 947 1113 1208 752 \nQ 1469 391 1925 391 \nQ 2381 391 2643 752 \nQ 2906 1113 2906 1747 \nQ 2906 2381 2643 2742 \nQ 2381 3103 1925 3103 \nQ 1469 3103 1208 2742 \nQ 947 2381 947 1747 \nz\n\" id=\"DejaVuSans-64\" transform=\"scale(0.015625)\"/>\n       </defs>\n       <use xlink:href=\"#DejaVuSans-74\"/>\n       <use x=\"39.208984\" xlink:href=\"#DejaVuSans-65\"/>\n       <use x=\"100.732422\" xlink:href=\"#DejaVuSans-63\"/>\n       <use x=\"155.712891\" xlink:href=\"#DejaVuSans-68\"/>\n       <use x=\"219.091797\" xlink:href=\"#DejaVuSans-6e\"/>\n       <use x=\"282.470703\" xlink:href=\"#DejaVuSans-6f\"/>\n       <use x=\"343.652344\" xlink:href=\"#DejaVuSans-6c\"/>\n       <use x=\"371.435547\" xlink:href=\"#DejaVuSans-6f\"/>\n       <use x=\"432.617188\" xlink:href=\"#DejaVuSans-67\"/>\n       <use x=\"496.09375\" xlink:href=\"#DejaVuSans-79\"/>\n       <use x=\"555.273438\" xlink:href=\"#DejaVuSans-2f\"/>\n       <use x=\"588.964844\" xlink:href=\"#DejaVuSans-67\"/>\n       <use x=\"652.441406\" xlink:href=\"#DejaVuSans-61\"/>\n       <use x=\"713.720703\" xlink:href=\"#DejaVuSans-64\"/>\n       <use x=\"777.197266\" xlink:href=\"#DejaVuSans-67\"/>\n       <use x=\"840.673828\" xlink:href=\"#DejaVuSans-65\"/>\n       <use x=\"902.197266\" xlink:href=\"#DejaVuSans-74\"/>\n       <use x=\"941.40625\" xlink:href=\"#DejaVuSans-73\"/>\n      </g>\n     </g>\n    </g>\n    <g id=\"ytick_4\">\n     <g id=\"line2d_10\">\n      <g>\n       <use style=\"stroke:#000000;stroke-width:0.8;\" x=\"150.009375\" xlink:href=\"#m88342510ee\" y=\"291.400125\"/>\n      </g>\n     </g>\n     <g id=\"text_10\">\n      <!-- technology/web -->\n      <g transform=\"translate(63.43125 295.199344)scale(0.1 -0.1)\">\n       <defs>\n        <path d=\"M 269 3500 \nL 844 3500 \nL 1563 769 \nL 2278 3500 \nL 2956 3500 \nL 3675 769 \nL 4391 3500 \nL 4966 3500 \nL 4050 0 \nL 3372 0 \nL 2619 2869 \nL 1863 0 \nL 1184 0 \nL 269 3500 \nz\n\" id=\"DejaVuSans-77\" transform=\"scale(0.015625)\"/>\n       </defs>\n       <use xlink:href=\"#DejaVuSans-74\"/>\n       <use x=\"39.208984\" xlink:href=\"#DejaVuSans-65\"/>\n       <use x=\"100.732422\" xlink:href=\"#DejaVuSans-63\"/>\n       <use x=\"155.712891\" xlink:href=\"#DejaVuSans-68\"/>\n       <use x=\"219.091797\" xlink:href=\"#DejaVuSans-6e\"/>\n       <use x=\"282.470703\" xlink:href=\"#DejaVuSans-6f\"/>\n       <use x=\"343.652344\" xlink:href=\"#DejaVuSans-6c\"/>\n       <use x=\"371.435547\" xlink:href=\"#DejaVuSans-6f\"/>\n       <use x=\"432.617188\" xlink:href=\"#DejaVuSans-67\"/>\n       <use x=\"496.09375\" xlink:href=\"#DejaVuSans-79\"/>\n       <use x=\"555.273438\" xlink:href=\"#DejaVuSans-2f\"/>\n       <use x=\"588.964844\" xlink:href=\"#DejaVuSans-77\"/>\n       <use x=\"670.751953\" xlink:href=\"#DejaVuSans-65\"/>\n       <use x=\"732.275391\" xlink:href=\"#DejaVuSans-62\"/>\n      </g>\n     </g>\n    </g>\n    <g id=\"ytick_5\">\n     <g id=\"line2d_11\">\n      <g>\n       <use style=\"stroke:#000000;stroke-width:0.8;\" x=\"150.009375\" xlink:href=\"#m88342510ee\" y=\"275.092125\"/>\n      </g>\n     </g>\n     <g id=\"text_11\">\n      <!-- film &amp; video/shorts -->\n      <g transform=\"translate(48.445313 278.891344)scale(0.1 -0.1)\">\n       <defs>\n        <path d=\"M 191 3500 \nL 800 3500 \nL 1894 563 \nL 2988 3500 \nL 3597 3500 \nL 2284 0 \nL 1503 0 \nL 191 3500 \nz\n\" id=\"DejaVuSans-76\" transform=\"scale(0.015625)\"/>\n       </defs>\n       <use xlink:href=\"#DejaVuSans-66\"/>\n       <use x=\"35.205078\" xlink:href=\"#DejaVuSans-69\"/>\n       <use x=\"62.988281\" xlink:href=\"#DejaVuSans-6c\"/>\n       <use x=\"90.771484\" xlink:href=\"#DejaVuSans-6d\"/>\n       <use x=\"188.183594\" xlink:href=\"#DejaVuSans-20\"/>\n       <use x=\"219.970703\" xlink:href=\"#DejaVuSans-26\"/>\n       <use x=\"297.949219\" xlink:href=\"#DejaVuSans-20\"/>\n       <use x=\"329.736328\" xlink:href=\"#DejaVuSans-76\"/>\n       <use x=\"388.916016\" xlink:href=\"#DejaVuSans-69\"/>\n       <use x=\"416.699219\" xlink:href=\"#DejaVuSans-64\"/>\n       <use x=\"480.175781\" xlink:href=\"#DejaVuSans-65\"/>\n       <use x=\"541.699219\" xlink:href=\"#DejaVuSans-6f\"/>\n       <use x=\"602.880859\" xlink:href=\"#DejaVuSans-2f\"/>\n       <use x=\"636.572266\" xlink:href=\"#DejaVuSans-73\"/>\n       <use x=\"688.671875\" xlink:href=\"#DejaVuSans-68\"/>\n       <use x=\"752.050781\" xlink:href=\"#DejaVuSans-6f\"/>\n       <use x=\"813.232422\" xlink:href=\"#DejaVuSans-72\"/>\n       <use x=\"854.345703\" xlink:href=\"#DejaVuSans-74\"/>\n       <use x=\"893.554688\" xlink:href=\"#DejaVuSans-73\"/>\n      </g>\n     </g>\n    </g>\n    <g id=\"ytick_6\">\n     <g id=\"line2d_12\">\n      <g>\n       <use style=\"stroke:#000000;stroke-width:0.8;\" x=\"150.009375\" xlink:href=\"#m88342510ee\" y=\"258.784125\"/>\n      </g>\n     </g>\n     <g id=\"text_12\">\n      <!-- publishing/fiction -->\n      <g transform=\"translate(57.0875 262.583344)scale(0.1 -0.1)\">\n       <use xlink:href=\"#DejaVuSans-70\"/>\n       <use x=\"63.476562\" xlink:href=\"#DejaVuSans-75\"/>\n       <use x=\"126.855469\" xlink:href=\"#DejaVuSans-62\"/>\n       <use x=\"190.332031\" xlink:href=\"#DejaVuSans-6c\"/>\n       <use x=\"218.115234\" xlink:href=\"#DejaVuSans-69\"/>\n       <use x=\"245.898438\" xlink:href=\"#DejaVuSans-73\"/>\n       <use x=\"297.998047\" xlink:href=\"#DejaVuSans-68\"/>\n       <use x=\"361.376953\" xlink:href=\"#DejaVuSans-69\"/>\n       <use x=\"389.160156\" xlink:href=\"#DejaVuSans-6e\"/>\n       <use x=\"452.539062\" xlink:href=\"#DejaVuSans-67\"/>\n       <use x=\"516.015625\" xlink:href=\"#DejaVuSans-2f\"/>\n       <use x=\"549.707031\" xlink:href=\"#DejaVuSans-66\"/>\n       <use x=\"584.912109\" xlink:href=\"#DejaVuSans-69\"/>\n       <use x=\"612.695312\" xlink:href=\"#DejaVuSans-63\"/>\n       <use x=\"667.675781\" xlink:href=\"#DejaVuSans-74\"/>\n       <use x=\"706.884766\" xlink:href=\"#DejaVuSans-69\"/>\n       <use x=\"734.667969\" xlink:href=\"#DejaVuSans-6f\"/>\n       <use x=\"795.849609\" xlink:href=\"#DejaVuSans-6e\"/>\n      </g>\n     </g>\n    </g>\n    <g id=\"ytick_7\">\n     <g id=\"line2d_13\">\n      <g>\n       <use style=\"stroke:#000000;stroke-width:0.8;\" x=\"150.009375\" xlink:href=\"#m88342510ee\" y=\"242.476125\"/>\n      </g>\n     </g>\n     <g id=\"text_13\">\n      <!-- technology/apps -->\n      <g transform=\"translate(60.076563 246.275344)scale(0.1 -0.1)\">\n       <use xlink:href=\"#DejaVuSans-74\"/>\n       <use x=\"39.208984\" xlink:href=\"#DejaVuSans-65\"/>\n       <use x=\"100.732422\" xlink:href=\"#DejaVuSans-63\"/>\n       <use x=\"155.712891\" xlink:href=\"#DejaVuSans-68\"/>\n       <use x=\"219.091797\" xlink:href=\"#DejaVuSans-6e\"/>\n       <use x=\"282.470703\" xlink:href=\"#DejaVuSans-6f\"/>\n       <use x=\"343.652344\" xlink:href=\"#DejaVuSans-6c\"/>\n       <use x=\"371.435547\" xlink:href=\"#DejaVuSans-6f\"/>\n       <use x=\"432.617188\" xlink:href=\"#DejaVuSans-67\"/>\n       <use x=\"496.09375\" xlink:href=\"#DejaVuSans-79\"/>\n       <use x=\"555.273438\" xlink:href=\"#DejaVuSans-2f\"/>\n       <use x=\"588.964844\" xlink:href=\"#DejaVuSans-61\"/>\n       <use x=\"650.244141\" xlink:href=\"#DejaVuSans-70\"/>\n       <use x=\"713.720703\" xlink:href=\"#DejaVuSans-70\"/>\n       <use x=\"777.197266\" xlink:href=\"#DejaVuSans-73\"/>\n      </g>\n     </g>\n    </g>\n    <g id=\"ytick_8\">\n     <g id=\"line2d_14\">\n      <g>\n       <use style=\"stroke:#000000;stroke-width:0.8;\" x=\"150.009375\" xlink:href=\"#m88342510ee\" y=\"226.168125\"/>\n      </g>\n     </g>\n     <g id=\"text_14\">\n      <!-- film &amp; video/documentary -->\n      <g transform=\"translate(12.739063 229.967344)scale(0.1 -0.1)\">\n       <use xlink:href=\"#DejaVuSans-66\"/>\n       <use x=\"35.205078\" xlink:href=\"#DejaVuSans-69\"/>\n       <use x=\"62.988281\" xlink:href=\"#DejaVuSans-6c\"/>\n       <use x=\"90.771484\" xlink:href=\"#DejaVuSans-6d\"/>\n       <use x=\"188.183594\" xlink:href=\"#DejaVuSans-20\"/>\n       <use x=\"219.970703\" xlink:href=\"#DejaVuSans-26\"/>\n       <use x=\"297.949219\" xlink:href=\"#DejaVuSans-20\"/>\n       <use x=\"329.736328\" xlink:href=\"#DejaVuSans-76\"/>\n       <use x=\"388.916016\" xlink:href=\"#DejaVuSans-69\"/>\n       <use x=\"416.699219\" xlink:href=\"#DejaVuSans-64\"/>\n       <use x=\"480.175781\" xlink:href=\"#DejaVuSans-65\"/>\n       <use x=\"541.699219\" xlink:href=\"#DejaVuSans-6f\"/>\n       <use x=\"602.880859\" xlink:href=\"#DejaVuSans-2f\"/>\n       <use x=\"636.572266\" xlink:href=\"#DejaVuSans-64\"/>\n       <use x=\"700.048828\" xlink:href=\"#DejaVuSans-6f\"/>\n       <use x=\"761.230469\" xlink:href=\"#DejaVuSans-63\"/>\n       <use x=\"816.210938\" xlink:href=\"#DejaVuSans-75\"/>\n       <use x=\"879.589844\" xlink:href=\"#DejaVuSans-6d\"/>\n       <use x=\"977.001953\" xlink:href=\"#DejaVuSans-65\"/>\n       <use x=\"1038.525391\" xlink:href=\"#DejaVuSans-6e\"/>\n       <use x=\"1101.904297\" xlink:href=\"#DejaVuSans-74\"/>\n       <use x=\"1141.113281\" xlink:href=\"#DejaVuSans-61\"/>\n       <use x=\"1202.392578\" xlink:href=\"#DejaVuSans-72\"/>\n       <use x=\"1243.505859\" xlink:href=\"#DejaVuSans-79\"/>\n      </g>\n     </g>\n    </g>\n    <g id=\"ytick_9\">\n     <g id=\"line2d_15\">\n      <g>\n       <use style=\"stroke:#000000;stroke-width:0.8;\" x=\"150.009375\" xlink:href=\"#m88342510ee\" y=\"209.860125\"/>\n      </g>\n     </g>\n     <g id=\"text_15\">\n      <!-- food/drinks -->\n      <g transform=\"translate(86.959375 213.659344)scale(0.1 -0.1)\">\n       <use xlink:href=\"#DejaVuSans-66\"/>\n       <use x=\"35.205078\" xlink:href=\"#DejaVuSans-6f\"/>\n       <use x=\"96.386719\" xlink:href=\"#DejaVuSans-6f\"/>\n       <use x=\"157.568359\" xlink:href=\"#DejaVuSans-64\"/>\n       <use x=\"221.044922\" xlink:href=\"#DejaVuSans-2f\"/>\n       <use x=\"254.736328\" xlink:href=\"#DejaVuSans-64\"/>\n       <use x=\"318.212891\" xlink:href=\"#DejaVuSans-72\"/>\n       <use x=\"359.326172\" xlink:href=\"#DejaVuSans-69\"/>\n       <use x=\"387.109375\" xlink:href=\"#DejaVuSans-6e\"/>\n       <use x=\"450.488281\" xlink:href=\"#DejaVuSans-6b\"/>\n       <use x=\"508.398438\" xlink:href=\"#DejaVuSans-73\"/>\n      </g>\n     </g>\n    </g>\n    <g id=\"ytick_10\">\n     <g id=\"line2d_16\">\n      <g>\n       <use style=\"stroke:#000000;stroke-width:0.8;\" x=\"150.009375\" xlink:href=\"#m88342510ee\" y=\"193.552125\"/>\n      </g>\n     </g>\n     <g id=\"text_16\">\n      <!-- film &amp; video/drama -->\n      <g transform=\"translate(46.895313 197.351344)scale(0.1 -0.1)\">\n       <use xlink:href=\"#DejaVuSans-66\"/>\n       <use x=\"35.205078\" xlink:href=\"#DejaVuSans-69\"/>\n       <use x=\"62.988281\" xlink:href=\"#DejaVuSans-6c\"/>\n       <use x=\"90.771484\" xlink:href=\"#DejaVuSans-6d\"/>\n       <use x=\"188.183594\" xlink:href=\"#DejaVuSans-20\"/>\n       <use x=\"219.970703\" xlink:href=\"#DejaVuSans-26\"/>\n       <use x=\"297.949219\" xlink:href=\"#DejaVuSans-20\"/>\n       <use x=\"329.736328\" xlink:href=\"#DejaVuSans-76\"/>\n       <use x=\"388.916016\" xlink:href=\"#DejaVuSans-69\"/>\n       <use x=\"416.699219\" xlink:href=\"#DejaVuSans-64\"/>\n       <use x=\"480.175781\" xlink:href=\"#DejaVuSans-65\"/>\n       <use x=\"541.699219\" xlink:href=\"#DejaVuSans-6f\"/>\n       <use x=\"602.880859\" xlink:href=\"#DejaVuSans-2f\"/>\n       <use x=\"636.572266\" xlink:href=\"#DejaVuSans-64\"/>\n       <use x=\"700.048828\" xlink:href=\"#DejaVuSans-72\"/>\n       <use x=\"741.162109\" xlink:href=\"#DejaVuSans-61\"/>\n       <use x=\"802.441406\" xlink:href=\"#DejaVuSans-6d\"/>\n       <use x=\"899.853516\" xlink:href=\"#DejaVuSans-61\"/>\n      </g>\n     </g>\n    </g>\n    <g id=\"ytick_11\">\n     <g id=\"line2d_17\">\n      <g>\n       <use style=\"stroke:#000000;stroke-width:0.8;\" x=\"150.009375\" xlink:href=\"#m88342510ee\" y=\"177.244125\"/>\n      </g>\n     </g>\n     <g id=\"text_17\">\n      <!-- music/rock -->\n      <g transform=\"translate(88.782813 181.043344)scale(0.1 -0.1)\">\n       <use xlink:href=\"#DejaVuSans-6d\"/>\n       <use x=\"97.412109\" xlink:href=\"#DejaVuSans-75\"/>\n       <use x=\"160.791016\" xlink:href=\"#DejaVuSans-73\"/>\n       <use x=\"212.890625\" xlink:href=\"#DejaVuSans-69\"/>\n       <use x=\"240.673828\" xlink:href=\"#DejaVuSans-63\"/>\n       <use x=\"295.654297\" xlink:href=\"#DejaVuSans-2f\"/>\n       <use x=\"329.345703\" xlink:href=\"#DejaVuSans-72\"/>\n       <use x=\"368.208984\" xlink:href=\"#DejaVuSans-6f\"/>\n       <use x=\"429.390625\" xlink:href=\"#DejaVuSans-63\"/>\n       <use x=\"484.371094\" xlink:href=\"#DejaVuSans-6b\"/>\n      </g>\n     </g>\n    </g>\n    <g id=\"ytick_12\">\n     <g id=\"line2d_18\">\n      <g>\n       <use style=\"stroke:#000000;stroke-width:0.8;\" x=\"150.009375\" xlink:href=\"#m88342510ee\" y=\"160.936125\"/>\n      </g>\n     </g>\n     <g id=\"text_18\">\n      <!-- publishing/children's books -->\n      <g transform=\"translate(7.2 164.735344)scale(0.1 -0.1)\">\n       <defs>\n        <path d=\"M 1147 4666 \nL 1147 2931 \nL 616 2931 \nL 616 4666 \nL 1147 4666 \nz\n\" id=\"DejaVuSans-27\" transform=\"scale(0.015625)\"/>\n       </defs>\n       <use xlink:href=\"#DejaVuSans-70\"/>\n       <use x=\"63.476562\" xlink:href=\"#DejaVuSans-75\"/>\n       <use x=\"126.855469\" xlink:href=\"#DejaVuSans-62\"/>\n       <use x=\"190.332031\" xlink:href=\"#DejaVuSans-6c\"/>\n       <use x=\"218.115234\" xlink:href=\"#DejaVuSans-69\"/>\n       <use x=\"245.898438\" xlink:href=\"#DejaVuSans-73\"/>\n       <use x=\"297.998047\" xlink:href=\"#DejaVuSans-68\"/>\n       <use x=\"361.376953\" xlink:href=\"#DejaVuSans-69\"/>\n       <use x=\"389.160156\" xlink:href=\"#DejaVuSans-6e\"/>\n       <use x=\"452.539062\" xlink:href=\"#DejaVuSans-67\"/>\n       <use x=\"516.015625\" xlink:href=\"#DejaVuSans-2f\"/>\n       <use x=\"549.707031\" xlink:href=\"#DejaVuSans-63\"/>\n       <use x=\"604.6875\" xlink:href=\"#DejaVuSans-68\"/>\n       <use x=\"668.066406\" xlink:href=\"#DejaVuSans-69\"/>\n       <use x=\"695.849609\" xlink:href=\"#DejaVuSans-6c\"/>\n       <use x=\"723.632812\" xlink:href=\"#DejaVuSans-64\"/>\n       <use x=\"787.109375\" xlink:href=\"#DejaVuSans-72\"/>\n       <use x=\"825.972656\" xlink:href=\"#DejaVuSans-65\"/>\n       <use x=\"887.496094\" xlink:href=\"#DejaVuSans-6e\"/>\n       <use x=\"950.875\" xlink:href=\"#DejaVuSans-27\"/>\n       <use x=\"978.365234\" xlink:href=\"#DejaVuSans-73\"/>\n       <use x=\"1030.464844\" xlink:href=\"#DejaVuSans-20\"/>\n       <use x=\"1062.251953\" xlink:href=\"#DejaVuSans-62\"/>\n       <use x=\"1125.728516\" xlink:href=\"#DejaVuSans-6f\"/>\n       <use x=\"1186.910156\" xlink:href=\"#DejaVuSans-6f\"/>\n       <use x=\"1248.091797\" xlink:href=\"#DejaVuSans-6b\"/>\n       <use x=\"1306.001953\" xlink:href=\"#DejaVuSans-73\"/>\n      </g>\n     </g>\n    </g>\n    <g id=\"ytick_13\">\n     <g id=\"line2d_19\">\n      <g>\n       <use style=\"stroke:#000000;stroke-width:0.8;\" x=\"150.009375\" xlink:href=\"#m88342510ee\" y=\"144.628125\"/>\n      </g>\n     </g>\n     <g id=\"text_19\">\n      <!-- comics/comic books -->\n      <g transform=\"translate(42.398438 148.427344)scale(0.1 -0.1)\">\n       <use xlink:href=\"#DejaVuSans-63\"/>\n       <use x=\"54.980469\" xlink:href=\"#DejaVuSans-6f\"/>\n       <use x=\"116.162109\" xlink:href=\"#DejaVuSans-6d\"/>\n       <use x=\"213.574219\" xlink:href=\"#DejaVuSans-69\"/>\n       <use x=\"241.357422\" xlink:href=\"#DejaVuSans-63\"/>\n       <use x=\"296.337891\" xlink:href=\"#DejaVuSans-73\"/>\n       <use x=\"348.4375\" xlink:href=\"#DejaVuSans-2f\"/>\n       <use x=\"382.128906\" xlink:href=\"#DejaVuSans-63\"/>\n       <use x=\"437.109375\" xlink:href=\"#DejaVuSans-6f\"/>\n       <use x=\"498.291016\" xlink:href=\"#DejaVuSans-6d\"/>\n       <use x=\"595.703125\" xlink:href=\"#DejaVuSans-69\"/>\n       <use x=\"623.486328\" xlink:href=\"#DejaVuSans-63\"/>\n       <use x=\"678.466797\" xlink:href=\"#DejaVuSans-20\"/>\n       <use x=\"710.253906\" xlink:href=\"#DejaVuSans-62\"/>\n       <use x=\"773.730469\" xlink:href=\"#DejaVuSans-6f\"/>\n       <use x=\"834.912109\" xlink:href=\"#DejaVuSans-6f\"/>\n       <use x=\"896.09375\" xlink:href=\"#DejaVuSans-6b\"/>\n       <use x=\"954.003906\" xlink:href=\"#DejaVuSans-73\"/>\n      </g>\n     </g>\n    </g>\n    <g id=\"ytick_14\">\n     <g id=\"line2d_20\">\n      <g>\n       <use style=\"stroke:#000000;stroke-width:0.8;\" x=\"150.009375\" xlink:href=\"#m88342510ee\" y=\"128.320125\"/>\n      </g>\n     </g>\n     <g id=\"text_20\">\n      <!-- games/video games -->\n      <g transform=\"translate(41.985938 132.119344)scale(0.1 -0.1)\">\n       <use xlink:href=\"#DejaVuSans-67\"/>\n       <use x=\"63.476562\" xlink:href=\"#DejaVuSans-61\"/>\n       <use x=\"124.755859\" xlink:href=\"#DejaVuSans-6d\"/>\n       <use x=\"222.167969\" xlink:href=\"#DejaVuSans-65\"/>\n       <use x=\"283.691406\" xlink:href=\"#DejaVuSans-73\"/>\n       <use x=\"335.791016\" xlink:href=\"#DejaVuSans-2f\"/>\n       <use x=\"369.482422\" xlink:href=\"#DejaVuSans-76\"/>\n       <use x=\"428.662109\" xlink:href=\"#DejaVuSans-69\"/>\n       <use x=\"456.445312\" xlink:href=\"#DejaVuSans-64\"/>\n       <use x=\"519.921875\" xlink:href=\"#DejaVuSans-65\"/>\n       <use x=\"581.445312\" xlink:href=\"#DejaVuSans-6f\"/>\n       <use x=\"642.626953\" xlink:href=\"#DejaVuSans-20\"/>\n       <use x=\"674.414062\" xlink:href=\"#DejaVuSans-67\"/>\n       <use x=\"737.890625\" xlink:href=\"#DejaVuSans-61\"/>\n       <use x=\"799.169922\" xlink:href=\"#DejaVuSans-6d\"/>\n       <use x=\"896.582031\" xlink:href=\"#DejaVuSans-65\"/>\n       <use x=\"958.105469\" xlink:href=\"#DejaVuSans-73\"/>\n      </g>\n     </g>\n    </g>\n    <g id=\"ytick_15\">\n     <g id=\"line2d_21\">\n      <g>\n       <use style=\"stroke:#000000;stroke-width:0.8;\" x=\"150.009375\" xlink:href=\"#m88342510ee\" y=\"112.012125\"/>\n      </g>\n     </g>\n     <g id=\"text_21\">\n      <!-- fashion/apparel -->\n      <g transform=\"translate(65.440625 115.811344)scale(0.1 -0.1)\">\n       <use xlink:href=\"#DejaVuSans-66\"/>\n       <use x=\"35.205078\" xlink:href=\"#DejaVuSans-61\"/>\n       <use x=\"96.484375\" xlink:href=\"#DejaVuSans-73\"/>\n       <use x=\"148.583984\" xlink:href=\"#DejaVuSans-68\"/>\n       <use x=\"211.962891\" xlink:href=\"#DejaVuSans-69\"/>\n       <use x=\"239.746094\" xlink:href=\"#DejaVuSans-6f\"/>\n       <use x=\"300.927734\" xlink:href=\"#DejaVuSans-6e\"/>\n       <use x=\"364.306641\" xlink:href=\"#DejaVuSans-2f\"/>\n       <use x=\"397.998047\" xlink:href=\"#DejaVuSans-61\"/>\n       <use x=\"459.277344\" xlink:href=\"#DejaVuSans-70\"/>\n       <use x=\"522.753906\" xlink:href=\"#DejaVuSans-70\"/>\n       <use x=\"586.230469\" xlink:href=\"#DejaVuSans-61\"/>\n       <use x=\"647.509766\" xlink:href=\"#DejaVuSans-72\"/>\n       <use x=\"686.373047\" xlink:href=\"#DejaVuSans-65\"/>\n       <use x=\"747.896484\" xlink:href=\"#DejaVuSans-6c\"/>\n      </g>\n     </g>\n    </g>\n    <g id=\"ytick_16\">\n     <g id=\"line2d_22\">\n      <g>\n       <use style=\"stroke:#000000;stroke-width:0.8;\" x=\"150.009375\" xlink:href=\"#m88342510ee\" y=\"95.704125\"/>\n      </g>\n     </g>\n     <g id=\"text_22\">\n      <!-- comics/graphic novels -->\n      <g transform=\"translate(31.553125 99.503344)scale(0.1 -0.1)\">\n       <use xlink:href=\"#DejaVuSans-63\"/>\n       <use x=\"54.980469\" xlink:href=\"#DejaVuSans-6f\"/>\n       <use x=\"116.162109\" xlink:href=\"#DejaVuSans-6d\"/>\n       <use x=\"213.574219\" xlink:href=\"#DejaVuSans-69\"/>\n       <use x=\"241.357422\" xlink:href=\"#DejaVuSans-63\"/>\n       <use x=\"296.337891\" xlink:href=\"#DejaVuSans-73\"/>\n       <use x=\"348.4375\" xlink:href=\"#DejaVuSans-2f\"/>\n       <use x=\"382.128906\" xlink:href=\"#DejaVuSans-67\"/>\n       <use x=\"445.605469\" xlink:href=\"#DejaVuSans-72\"/>\n       <use x=\"486.71875\" xlink:href=\"#DejaVuSans-61\"/>\n       <use x=\"547.998047\" xlink:href=\"#DejaVuSans-70\"/>\n       <use x=\"611.474609\" xlink:href=\"#DejaVuSans-68\"/>\n       <use x=\"674.853516\" xlink:href=\"#DejaVuSans-69\"/>\n       <use x=\"702.636719\" xlink:href=\"#DejaVuSans-63\"/>\n       <use x=\"757.617188\" xlink:href=\"#DejaVuSans-20\"/>\n       <use x=\"789.404297\" xlink:href=\"#DejaVuSans-6e\"/>\n       <use x=\"852.783203\" xlink:href=\"#DejaVuSans-6f\"/>\n       <use x=\"913.964844\" xlink:href=\"#DejaVuSans-76\"/>\n       <use x=\"973.144531\" xlink:href=\"#DejaVuSans-65\"/>\n       <use x=\"1034.667969\" xlink:href=\"#DejaVuSans-6c\"/>\n       <use x=\"1062.451172\" xlink:href=\"#DejaVuSans-73\"/>\n      </g>\n     </g>\n    </g>\n    <g id=\"ytick_17\">\n     <g id=\"line2d_23\">\n      <g>\n       <use style=\"stroke:#000000;stroke-width:0.8;\" x=\"150.009375\" xlink:href=\"#m88342510ee\" y=\"79.396125\"/>\n      </g>\n     </g>\n     <g id=\"text_23\">\n      <!-- fashion/accessories -->\n      <g transform=\"translate(45.14375 83.195344)scale(0.1 -0.1)\">\n       <use xlink:href=\"#DejaVuSans-66\"/>\n       <use x=\"35.205078\" xlink:href=\"#DejaVuSans-61\"/>\n       <use x=\"96.484375\" xlink:href=\"#DejaVuSans-73\"/>\n       <use x=\"148.583984\" xlink:href=\"#DejaVuSans-68\"/>\n       <use x=\"211.962891\" xlink:href=\"#DejaVuSans-69\"/>\n       <use x=\"239.746094\" xlink:href=\"#DejaVuSans-6f\"/>\n       <use x=\"300.927734\" xlink:href=\"#DejaVuSans-6e\"/>\n       <use x=\"364.306641\" xlink:href=\"#DejaVuSans-2f\"/>\n       <use x=\"397.998047\" xlink:href=\"#DejaVuSans-61\"/>\n       <use x=\"459.277344\" xlink:href=\"#DejaVuSans-63\"/>\n       <use x=\"514.257812\" xlink:href=\"#DejaVuSans-63\"/>\n       <use x=\"569.238281\" xlink:href=\"#DejaVuSans-65\"/>\n       <use x=\"630.761719\" xlink:href=\"#DejaVuSans-73\"/>\n       <use x=\"682.861328\" xlink:href=\"#DejaVuSans-73\"/>\n       <use x=\"734.960938\" xlink:href=\"#DejaVuSans-6f\"/>\n       <use x=\"796.142578\" xlink:href=\"#DejaVuSans-72\"/>\n       <use x=\"837.255859\" xlink:href=\"#DejaVuSans-69\"/>\n       <use x=\"865.039062\" xlink:href=\"#DejaVuSans-65\"/>\n       <use x=\"926.5625\" xlink:href=\"#DejaVuSans-73\"/>\n      </g>\n     </g>\n    </g>\n    <g id=\"ytick_18\">\n     <g id=\"line2d_24\">\n      <g>\n       <use style=\"stroke:#000000;stroke-width:0.8;\" x=\"150.009375\" xlink:href=\"#m88342510ee\" y=\"63.088125\"/>\n      </g>\n     </g>\n     <g id=\"text_24\">\n      <!-- music/indie rock -->\n      <g transform=\"translate(61.209375 66.887344)scale(0.1 -0.1)\">\n       <use xlink:href=\"#DejaVuSans-6d\"/>\n       <use x=\"97.412109\" xlink:href=\"#DejaVuSans-75\"/>\n       <use x=\"160.791016\" xlink:href=\"#DejaVuSans-73\"/>\n       <use x=\"212.890625\" xlink:href=\"#DejaVuSans-69\"/>\n       <use x=\"240.673828\" xlink:href=\"#DejaVuSans-63\"/>\n       <use x=\"295.654297\" xlink:href=\"#DejaVuSans-2f\"/>\n       <use x=\"329.345703\" xlink:href=\"#DejaVuSans-69\"/>\n       <use x=\"357.128906\" xlink:href=\"#DejaVuSans-6e\"/>\n       <use x=\"420.507812\" xlink:href=\"#DejaVuSans-64\"/>\n       <use x=\"483.984375\" xlink:href=\"#DejaVuSans-69\"/>\n       <use x=\"511.767578\" xlink:href=\"#DejaVuSans-65\"/>\n       <use x=\"573.291016\" xlink:href=\"#DejaVuSans-20\"/>\n       <use x=\"605.078125\" xlink:href=\"#DejaVuSans-72\"/>\n       <use x=\"643.941406\" xlink:href=\"#DejaVuSans-6f\"/>\n       <use x=\"705.123047\" xlink:href=\"#DejaVuSans-63\"/>\n       <use x=\"760.103516\" xlink:href=\"#DejaVuSans-6b\"/>\n      </g>\n     </g>\n    </g>\n    <g id=\"ytick_19\">\n     <g id=\"line2d_25\">\n      <g>\n       <use style=\"stroke:#000000;stroke-width:0.8;\" x=\"150.009375\" xlink:href=\"#m88342510ee\" y=\"46.780125\"/>\n      </g>\n     </g>\n     <g id=\"text_25\">\n      <!-- games/playing cards -->\n      <g transform=\"translate(39.125 50.579344)scale(0.1 -0.1)\">\n       <use xlink:href=\"#DejaVuSans-67\"/>\n       <use x=\"63.476562\" xlink:href=\"#DejaVuSans-61\"/>\n       <use x=\"124.755859\" xlink:href=\"#DejaVuSans-6d\"/>\n       <use x=\"222.167969\" xlink:href=\"#DejaVuSans-65\"/>\n       <use x=\"283.691406\" xlink:href=\"#DejaVuSans-73\"/>\n       <use x=\"335.791016\" xlink:href=\"#DejaVuSans-2f\"/>\n       <use x=\"369.482422\" xlink:href=\"#DejaVuSans-70\"/>\n       <use x=\"432.958984\" xlink:href=\"#DejaVuSans-6c\"/>\n       <use x=\"460.742188\" xlink:href=\"#DejaVuSans-61\"/>\n       <use x=\"522.021484\" xlink:href=\"#DejaVuSans-79\"/>\n       <use x=\"581.201172\" xlink:href=\"#DejaVuSans-69\"/>\n       <use x=\"608.984375\" xlink:href=\"#DejaVuSans-6e\"/>\n       <use x=\"672.363281\" xlink:href=\"#DejaVuSans-67\"/>\n       <use x=\"735.839844\" xlink:href=\"#DejaVuSans-20\"/>\n       <use x=\"767.626953\" xlink:href=\"#DejaVuSans-63\"/>\n       <use x=\"822.607422\" xlink:href=\"#DejaVuSans-61\"/>\n       <use x=\"883.886719\" xlink:href=\"#DejaVuSans-72\"/>\n       <use x=\"923.25\" xlink:href=\"#DejaVuSans-64\"/>\n       <use x=\"986.726562\" xlink:href=\"#DejaVuSans-73\"/>\n      </g>\n     </g>\n    </g>\n    <g id=\"ytick_20\">\n     <g id=\"line2d_26\">\n      <g>\n       <use style=\"stroke:#000000;stroke-width:0.8;\" x=\"150.009375\" xlink:href=\"#m88342510ee\" y=\"30.472125\"/>\n      </g>\n     </g>\n     <g id=\"text_26\">\n      <!-- design/product design -->\n      <g transform=\"translate(31.654688 34.271344)scale(0.1 -0.1)\">\n       <use xlink:href=\"#DejaVuSans-64\"/>\n       <use x=\"63.476562\" xlink:href=\"#DejaVuSans-65\"/>\n       <use x=\"125\" xlink:href=\"#DejaVuSans-73\"/>\n       <use x=\"177.099609\" xlink:href=\"#DejaVuSans-69\"/>\n       <use x=\"204.882812\" xlink:href=\"#DejaVuSans-67\"/>\n       <use x=\"268.359375\" xlink:href=\"#DejaVuSans-6e\"/>\n       <use x=\"331.738281\" xlink:href=\"#DejaVuSans-2f\"/>\n       <use x=\"365.429688\" xlink:href=\"#DejaVuSans-70\"/>\n       <use x=\"428.90625\" xlink:href=\"#DejaVuSans-72\"/>\n       <use x=\"467.769531\" xlink:href=\"#DejaVuSans-6f\"/>\n       <use x=\"528.951172\" xlink:href=\"#DejaVuSans-64\"/>\n       <use x=\"592.427734\" xlink:href=\"#DejaVuSans-75\"/>\n       <use x=\"655.806641\" xlink:href=\"#DejaVuSans-63\"/>\n       <use x=\"710.787109\" xlink:href=\"#DejaVuSans-74\"/>\n       <use x=\"749.996094\" xlink:href=\"#DejaVuSans-20\"/>\n       <use x=\"781.783203\" xlink:href=\"#DejaVuSans-64\"/>\n       <use x=\"845.259766\" xlink:href=\"#DejaVuSans-65\"/>\n       <use x=\"906.783203\" xlink:href=\"#DejaVuSans-73\"/>\n       <use x=\"958.882812\" xlink:href=\"#DejaVuSans-69\"/>\n       <use x=\"986.666016\" xlink:href=\"#DejaVuSans-67\"/>\n       <use x=\"1050.142578\" xlink:href=\"#DejaVuSans-6e\"/>\n      </g>\n     </g>\n    </g>\n   </g>\n   <g id=\"patch_23\">\n    <path d=\"M 150.009375 348.478125 \nL 150.009375 22.318125 \n\" style=\"fill:none;stroke:#000000;stroke-linecap:square;stroke-linejoin:miter;stroke-width:0.8;\"/>\n   </g>\n   <g id=\"patch_24\">\n    <path d=\"M 931.209375 348.478125 \nL 931.209375 22.318125 \n\" style=\"fill:none;stroke:#000000;stroke-linecap:square;stroke-linejoin:miter;stroke-width:0.8;\"/>\n   </g>\n   <g id=\"patch_25\">\n    <path d=\"M 150.009375 348.478125 \nL 931.209375 348.478125 \n\" style=\"fill:none;stroke:#000000;stroke-linecap:square;stroke-linejoin:miter;stroke-width:0.8;\"/>\n   </g>\n   <g id=\"patch_26\">\n    <path d=\"M 150.009375 22.318125 \nL 931.209375 22.318125 \n\" style=\"fill:none;stroke:#000000;stroke-linecap:square;stroke-linejoin:miter;stroke-width:0.8;\"/>\n   </g>\n   <g id=\"text_27\">\n    <!-- Top 20 most popular categories -->\n    <g transform=\"translate(445.875 16.318125)scale(0.12 -0.12)\">\n     <defs>\n      <path d=\"M -19 4666 \nL 3928 4666 \nL 3928 4134 \nL 2272 4134 \nL 2272 0 \nL 1638 0 \nL 1638 4134 \nL -19 4134 \nL -19 4666 \nz\n\" id=\"DejaVuSans-54\" transform=\"scale(0.015625)\"/>\n     </defs>\n     <use xlink:href=\"#DejaVuSans-54\"/>\n     <use x=\"44.083984\" xlink:href=\"#DejaVuSans-6f\"/>\n     <use x=\"105.265625\" xlink:href=\"#DejaVuSans-70\"/>\n     <use x=\"168.742188\" xlink:href=\"#DejaVuSans-20\"/>\n     <use x=\"200.529297\" xlink:href=\"#DejaVuSans-32\"/>\n     <use x=\"264.152344\" xlink:href=\"#DejaVuSans-30\"/>\n     <use x=\"327.775391\" xlink:href=\"#DejaVuSans-20\"/>\n     <use x=\"359.5625\" xlink:href=\"#DejaVuSans-6d\"/>\n     <use x=\"456.974609\" xlink:href=\"#DejaVuSans-6f\"/>\n     <use x=\"518.15625\" xlink:href=\"#DejaVuSans-73\"/>\n     <use x=\"570.255859\" xlink:href=\"#DejaVuSans-74\"/>\n     <use x=\"609.464844\" xlink:href=\"#DejaVuSans-20\"/>\n     <use x=\"641.251953\" xlink:href=\"#DejaVuSans-70\"/>\n     <use x=\"704.728516\" xlink:href=\"#DejaVuSans-6f\"/>\n     <use x=\"765.910156\" xlink:href=\"#DejaVuSans-70\"/>\n     <use x=\"829.386719\" xlink:href=\"#DejaVuSans-75\"/>\n     <use x=\"892.765625\" xlink:href=\"#DejaVuSans-6c\"/>\n     <use x=\"920.548828\" xlink:href=\"#DejaVuSans-61\"/>\n     <use x=\"981.828125\" xlink:href=\"#DejaVuSans-72\"/>\n     <use x=\"1022.941406\" xlink:href=\"#DejaVuSans-20\"/>\n     <use x=\"1054.728516\" xlink:href=\"#DejaVuSans-63\"/>\n     <use x=\"1109.708984\" xlink:href=\"#DejaVuSans-61\"/>\n     <use x=\"1170.988281\" xlink:href=\"#DejaVuSans-74\"/>\n     <use x=\"1210.197266\" xlink:href=\"#DejaVuSans-65\"/>\n     <use x=\"1271.720703\" xlink:href=\"#DejaVuSans-67\"/>\n     <use x=\"1335.197266\" xlink:href=\"#DejaVuSans-6f\"/>\n     <use x=\"1396.378906\" xlink:href=\"#DejaVuSans-72\"/>\n     <use x=\"1437.492188\" xlink:href=\"#DejaVuSans-69\"/>\n     <use x=\"1465.275391\" xlink:href=\"#DejaVuSans-65\"/>\n     <use x=\"1526.798828\" xlink:href=\"#DejaVuSans-73\"/>\n    </g>\n   </g>\n  </g>\n </g>\n <defs>\n  <clipPath id=\"pc39e9a3db5\">\n   <rect height=\"326.16\" width=\"781.2\" x=\"150.009375\" y=\"22.318125\"/>\n  </clipPath>\n </defs>\n</svg>\n",
      "image/png": "[encoded data removed]"
     },
     "metadata": {
      "needs_background": "light"
     }
    }
   ],
   "source": [
    "print('Categories in category: ', df['slug'].nunique())\n",
    "df['slug'].value_counts()[:20].plot(kind='barh', \n",
    "                                        figsize=(14,6), \n",
    "                                        title='Top 20 most popular categories')"
   ]
  },
  {
   "cell_type": "code",
   "execution_count": 50,
   "metadata": {},
   "outputs": [
    {
     "output_type": "stream",
     "name": "stdout",
     "text": [
      "Number of unique countries:  7\n"
     ]
    },
    {
     "output_type": "execute_result",
     "data": {
      "text/plain": [
       "<AxesSubplot:title={'center':'Top 7countries'}>"
      ]
     },
     "metadata": {},
     "execution_count": 50
    },
    {
     "output_type": "display_data",
     "data": {
      "text/plain": "<Figure size 1008x432 with 1 Axes>",
      "image/svg+xml": "<?xml version=\"1.0\" encoding=\"utf-8\" standalone=\"no\"?>\n<!DOCTYPE svg PUBLIC \"-//W3C//DTD SVG 1.1//EN\"\n  \"http://www.w3.org/Graphics/SVG/1.1/DTD/svg11.dtd\">\n<svg height=\"372.35625pt\" version=\"1.1\" viewBox=\"0 0 823.771875 372.35625\" width=\"823.771875pt\" xmlns=\"http://www.w3.org/2000/svg\" xmlns:xlink=\"http://www.w3.org/1999/xlink\">\n <metadata>\n  <rdf:RDF xmlns:cc=\"http://creativecommons.org/ns#\" xmlns:dc=\"http://purl.org/dc/elements/1.1/\" xmlns:rdf=\"http://www.w3.org/1999/02/22-rdf-syntax-ns#\">\n   <cc:Work>\n    <dc:type rdf:resource=\"http://purl.org/dc/dcmitype/StillImage\"/>\n    <dc:date>2021-06-29T10:20:17.864501</dc:date>\n    <dc:format>image/svg+xml</dc:format>\n    <dc:creator>\n     <cc:Agent>\n      <dc:title>Matplotlib v3.4.2, https://matplotlib.org/</dc:title>\n     </cc:Agent>\n    </dc:creator>\n   </cc:Work>\n  </rdf:RDF>\n </metadata>\n <defs>\n  <style type=\"text/css\">*{stroke-linecap:butt;stroke-linejoin:round;}</style>\n </defs>\n <g id=\"figure_1\">\n  <g id=\"patch_1\">\n   <path d=\"M 0 372.35625 \nL 823.771875 372.35625 \nL 823.771875 0 \nL 0 0 \nz\n\" style=\"fill:none;\"/>\n  </g>\n  <g id=\"axes_1\">\n   <g id=\"patch_2\">\n    <path d=\"M 35.371875 348.478125 \nL 816.571875 348.478125 \nL 816.571875 22.318125 \nL 35.371875 22.318125 \nz\n\" style=\"fill:#ffffff;\"/>\n   </g>\n   <g id=\"patch_3\">\n    <path clip-path=\"url(#pa2544422b4)\" d=\"M 35.371875 336.829554 \nL 779.371875 336.829554 \nL 779.371875 313.532411 \nL 35.371875 313.532411 \nz\n\" style=\"fill:#1f77b4;\"/>\n   </g>\n   <g id=\"patch_4\">\n    <path clip-path=\"url(#pa2544422b4)\" d=\"M 35.371875 290.235268 \nL 145.228759 290.235268 \nL 145.228759 266.938125 \nL 35.371875 266.938125 \nz\n\" style=\"fill:#1f77b4;\"/>\n   </g>\n   <g id=\"patch_5\">\n    <path clip-path=\"url(#pa2544422b4)\" d=\"M 35.371875 243.640982 \nL 119.458248 243.640982 \nL 119.458248 220.343839 \nL 35.371875 220.343839 \nz\n\" style=\"fill:#1f77b4;\"/>\n   </g>\n   <g id=\"patch_6\">\n    <path clip-path=\"url(#pa2544422b4)\" d=\"M 35.371875 197.046696 \nL 93.875138 197.046696 \nL 93.875138 173.749554 \nL 35.371875 173.749554 \nz\n\" style=\"fill:#1f77b4;\"/>\n   </g>\n   <g id=\"patch_7\">\n    <path clip-path=\"url(#pa2544422b4)\" d=\"M 35.371875 150.452411 \nL 63.998836 150.452411 \nL 63.998836 127.155268 \nL 35.371875 127.155268 \nz\n\" style=\"fill:#1f77b4;\"/>\n   </g>\n   <g id=\"patch_8\">\n    <path clip-path=\"url(#pa2544422b4)\" d=\"M 35.371875 103.858125 \nL 42.60102 103.858125 \nL 42.60102 80.560982 \nL 35.371875 80.560982 \nz\n\" style=\"fill:#1f77b4;\"/>\n   </g>\n   <g id=\"patch_9\">\n    <path clip-path=\"url(#pa2544422b4)\" d=\"M 35.371875 57.263839 \nL 36.842691 57.263839 \nL 36.842691 33.966696 \nL 35.371875 33.966696 \nz\n\" style=\"fill:#1f77b4;\"/>\n   </g>\n   <g id=\"matplotlib.axis_1\">\n    <g id=\"xtick_1\">\n     <g id=\"line2d_1\">\n      <defs>\n       <path d=\"M 0 0 \nL 0 3.5 \n\" id=\"m9fbc641c32\" style=\"stroke:#000000;stroke-width:0.8;\"/>\n      </defs>\n      <g>\n       <use style=\"stroke:#000000;stroke-width:0.8;\" x=\"35.371875\" xlink:href=\"#m9fbc641c32\" y=\"348.478125\"/>\n      </g>\n     </g>\n     <g id=\"text_1\">\n      <!-- 0 -->\n      <g transform=\"translate(32.190625 363.076563)scale(0.1 -0.1)\">\n       <defs>\n        <path d=\"M 2034 4250 \nQ 1547 4250 1301 3770 \nQ 1056 3291 1056 2328 \nQ 1056 1369 1301 889 \nQ 1547 409 2034 409 \nQ 2525 409 2770 889 \nQ 3016 1369 3016 2328 \nQ 3016 3291 2770 3770 \nQ 2525 4250 2034 4250 \nz\nM 2034 4750 \nQ 2819 4750 3233 4129 \nQ 3647 3509 3647 2328 \nQ 3647 1150 3233 529 \nQ 2819 -91 2034 -91 \nQ 1250 -91 836 529 \nQ 422 1150 422 2328 \nQ 422 3509 836 4129 \nQ 1250 4750 2034 4750 \nz\n\" id=\"DejaVuSans-30\" transform=\"scale(0.015625)\"/>\n       </defs>\n       <use xlink:href=\"#DejaVuSans-30\"/>\n      </g>\n     </g>\n    </g>\n    <g id=\"xtick_2\">\n     <g id=\"line2d_2\">\n      <g>\n       <use style=\"stroke:#000000;stroke-width:0.8;\" x=\"148.94839\" xlink:href=\"#m9fbc641c32\" y=\"348.478125\"/>\n      </g>\n     </g>\n     <g id=\"text_2\">\n      <!-- 20000 -->\n      <g transform=\"translate(133.04214 363.076563)scale(0.1 -0.1)\">\n       <defs>\n        <path d=\"M 1228 531 \nL 3431 531 \nL 3431 0 \nL 469 0 \nL 469 531 \nQ 828 903 1448 1529 \nQ 2069 2156 2228 2338 \nQ 2531 2678 2651 2914 \nQ 2772 3150 2772 3378 \nQ 2772 3750 2511 3984 \nQ 2250 4219 1831 4219 \nQ 1534 4219 1204 4116 \nQ 875 4013 500 3803 \nL 500 4441 \nQ 881 4594 1212 4672 \nQ 1544 4750 1819 4750 \nQ 2544 4750 2975 4387 \nQ 3406 4025 3406 3419 \nQ 3406 3131 3298 2873 \nQ 3191 2616 2906 2266 \nQ 2828 2175 2409 1742 \nQ 1991 1309 1228 531 \nz\n\" id=\"DejaVuSans-32\" transform=\"scale(0.015625)\"/>\n       </defs>\n       <use xlink:href=\"#DejaVuSans-32\"/>\n       <use x=\"63.623047\" xlink:href=\"#DejaVuSans-30\"/>\n       <use x=\"127.246094\" xlink:href=\"#DejaVuSans-30\"/>\n       <use x=\"190.869141\" xlink:href=\"#DejaVuSans-30\"/>\n       <use x=\"254.492188\" xlink:href=\"#DejaVuSans-30\"/>\n      </g>\n     </g>\n    </g>\n    <g id=\"xtick_3\">\n     <g id=\"line2d_3\">\n      <g>\n       <use style=\"stroke:#000000;stroke-width:0.8;\" x=\"262.524906\" xlink:href=\"#m9fbc641c32\" y=\"348.478125\"/>\n      </g>\n     </g>\n     <g id=\"text_3\">\n      <!-- 40000 -->\n      <g transform=\"translate(246.618656 363.076563)scale(0.1 -0.1)\">\n       <defs>\n        <path d=\"M 2419 4116 \nL 825 1625 \nL 2419 1625 \nL 2419 4116 \nz\nM 2253 4666 \nL 3047 4666 \nL 3047 1625 \nL 3713 1625 \nL 3713 1100 \nL 3047 1100 \nL 3047 0 \nL 2419 0 \nL 2419 1100 \nL 313 1100 \nL 313 1709 \nL 2253 4666 \nz\n\" id=\"DejaVuSans-34\" transform=\"scale(0.015625)\"/>\n       </defs>\n       <use xlink:href=\"#DejaVuSans-34\"/>\n       <use x=\"63.623047\" xlink:href=\"#DejaVuSans-30\"/>\n       <use x=\"127.246094\" xlink:href=\"#DejaVuSans-30\"/>\n       <use x=\"190.869141\" xlink:href=\"#DejaVuSans-30\"/>\n       <use x=\"254.492188\" xlink:href=\"#DejaVuSans-30\"/>\n      </g>\n     </g>\n    </g>\n    <g id=\"xtick_4\">\n     <g id=\"line2d_4\">\n      <g>\n       <use style=\"stroke:#000000;stroke-width:0.8;\" x=\"376.101421\" xlink:href=\"#m9fbc641c32\" y=\"348.478125\"/>\n      </g>\n     </g>\n     <g id=\"text_4\">\n      <!-- 60000 -->\n      <g transform=\"translate(360.195171 363.076563)scale(0.1 -0.1)\">\n       <defs>\n        <path d=\"M 2113 2584 \nQ 1688 2584 1439 2293 \nQ 1191 2003 1191 1497 \nQ 1191 994 1439 701 \nQ 1688 409 2113 409 \nQ 2538 409 2786 701 \nQ 3034 994 3034 1497 \nQ 3034 2003 2786 2293 \nQ 2538 2584 2113 2584 \nz\nM 3366 4563 \nL 3366 3988 \nQ 3128 4100 2886 4159 \nQ 2644 4219 2406 4219 \nQ 1781 4219 1451 3797 \nQ 1122 3375 1075 2522 \nQ 1259 2794 1537 2939 \nQ 1816 3084 2150 3084 \nQ 2853 3084 3261 2657 \nQ 3669 2231 3669 1497 \nQ 3669 778 3244 343 \nQ 2819 -91 2113 -91 \nQ 1303 -91 875 529 \nQ 447 1150 447 2328 \nQ 447 3434 972 4092 \nQ 1497 4750 2381 4750 \nQ 2619 4750 2861 4703 \nQ 3103 4656 3366 4563 \nz\n\" id=\"DejaVuSans-36\" transform=\"scale(0.015625)\"/>\n       </defs>\n       <use xlink:href=\"#DejaVuSans-36\"/>\n       <use x=\"63.623047\" xlink:href=\"#DejaVuSans-30\"/>\n       <use x=\"127.246094\" xlink:href=\"#DejaVuSans-30\"/>\n       <use x=\"190.869141\" xlink:href=\"#DejaVuSans-30\"/>\n       <use x=\"254.492188\" xlink:href=\"#DejaVuSans-30\"/>\n      </g>\n     </g>\n    </g>\n    <g id=\"xtick_5\">\n     <g id=\"line2d_5\">\n      <g>\n       <use style=\"stroke:#000000;stroke-width:0.8;\" x=\"489.677936\" xlink:href=\"#m9fbc641c32\" y=\"348.478125\"/>\n      </g>\n     </g>\n     <g id=\"text_5\">\n      <!-- 80000 -->\n      <g transform=\"translate(473.771686 363.076563)scale(0.1 -0.1)\">\n       <defs>\n        <path d=\"M 2034 2216 \nQ 1584 2216 1326 1975 \nQ 1069 1734 1069 1313 \nQ 1069 891 1326 650 \nQ 1584 409 2034 409 \nQ 2484 409 2743 651 \nQ 3003 894 3003 1313 \nQ 3003 1734 2745 1975 \nQ 2488 2216 2034 2216 \nz\nM 1403 2484 \nQ 997 2584 770 2862 \nQ 544 3141 544 3541 \nQ 544 4100 942 4425 \nQ 1341 4750 2034 4750 \nQ 2731 4750 3128 4425 \nQ 3525 4100 3525 3541 \nQ 3525 3141 3298 2862 \nQ 3072 2584 2669 2484 \nQ 3125 2378 3379 2068 \nQ 3634 1759 3634 1313 \nQ 3634 634 3220 271 \nQ 2806 -91 2034 -91 \nQ 1263 -91 848 271 \nQ 434 634 434 1313 \nQ 434 1759 690 2068 \nQ 947 2378 1403 2484 \nz\nM 1172 3481 \nQ 1172 3119 1398 2916 \nQ 1625 2713 2034 2713 \nQ 2441 2713 2670 2916 \nQ 2900 3119 2900 3481 \nQ 2900 3844 2670 4047 \nQ 2441 4250 2034 4250 \nQ 1625 4250 1398 4047 \nQ 1172 3844 1172 3481 \nz\n\" id=\"DejaVuSans-38\" transform=\"scale(0.015625)\"/>\n       </defs>\n       <use xlink:href=\"#DejaVuSans-38\"/>\n       <use x=\"63.623047\" xlink:href=\"#DejaVuSans-30\"/>\n       <use x=\"127.246094\" xlink:href=\"#DejaVuSans-30\"/>\n       <use x=\"190.869141\" xlink:href=\"#DejaVuSans-30\"/>\n       <use x=\"254.492188\" xlink:href=\"#DejaVuSans-30\"/>\n      </g>\n     </g>\n    </g>\n    <g id=\"xtick_6\">\n     <g id=\"line2d_6\">\n      <g>\n       <use style=\"stroke:#000000;stroke-width:0.8;\" x=\"603.254452\" xlink:href=\"#m9fbc641c32\" y=\"348.478125\"/>\n      </g>\n     </g>\n     <g id=\"text_6\">\n      <!-- 100000 -->\n      <g transform=\"translate(584.166952 363.076563)scale(0.1 -0.1)\">\n       <defs>\n        <path d=\"M 794 531 \nL 1825 531 \nL 1825 4091 \nL 703 3866 \nL 703 4441 \nL 1819 4666 \nL 2450 4666 \nL 2450 531 \nL 3481 531 \nL 3481 0 \nL 794 0 \nL 794 531 \nz\n\" id=\"DejaVuSans-31\" transform=\"scale(0.015625)\"/>\n       </defs>\n       <use xlink:href=\"#DejaVuSans-31\"/>\n       <use x=\"63.623047\" xlink:href=\"#DejaVuSans-30\"/>\n       <use x=\"127.246094\" xlink:href=\"#DejaVuSans-30\"/>\n       <use x=\"190.869141\" xlink:href=\"#DejaVuSans-30\"/>\n       <use x=\"254.492188\" xlink:href=\"#DejaVuSans-30\"/>\n       <use x=\"318.115234\" xlink:href=\"#DejaVuSans-30\"/>\n      </g>\n     </g>\n    </g>\n    <g id=\"xtick_7\">\n     <g id=\"line2d_7\">\n      <g>\n       <use style=\"stroke:#000000;stroke-width:0.8;\" x=\"716.830967\" xlink:href=\"#m9fbc641c32\" y=\"348.478125\"/>\n      </g>\n     </g>\n     <g id=\"text_7\">\n      <!-- 120000 -->\n      <g transform=\"translate(697.743467 363.076563)scale(0.1 -0.1)\">\n       <use xlink:href=\"#DejaVuSans-31\"/>\n       <use x=\"63.623047\" xlink:href=\"#DejaVuSans-32\"/>\n       <use x=\"127.246094\" xlink:href=\"#DejaVuSans-30\"/>\n       <use x=\"190.869141\" xlink:href=\"#DejaVuSans-30\"/>\n       <use x=\"254.492188\" xlink:href=\"#DejaVuSans-30\"/>\n       <use x=\"318.115234\" xlink:href=\"#DejaVuSans-30\"/>\n      </g>\n     </g>\n    </g>\n   </g>\n   <g id=\"matplotlib.axis_2\">\n    <g id=\"ytick_1\">\n     <g id=\"line2d_8\">\n      <defs>\n       <path d=\"M 0 0 \nL -3.5 0 \n\" id=\"mb2e53089c7\" style=\"stroke:#000000;stroke-width:0.8;\"/>\n      </defs>\n      <g>\n       <use style=\"stroke:#000000;stroke-width:0.8;\" x=\"35.371875\" xlink:href=\"#mb2e53089c7\" y=\"325.180982\"/>\n      </g>\n     </g>\n     <g id=\"text_8\">\n      <!-- US -->\n      <g transform=\"translate(14.704688 328.980201)scale(0.1 -0.1)\">\n       <defs>\n        <path d=\"M 556 4666 \nL 1191 4666 \nL 1191 1831 \nQ 1191 1081 1462 751 \nQ 1734 422 2344 422 \nQ 2950 422 3222 751 \nQ 3494 1081 3494 1831 \nL 3494 4666 \nL 4128 4666 \nL 4128 1753 \nQ 4128 841 3676 375 \nQ 3225 -91 2344 -91 \nQ 1459 -91 1007 375 \nQ 556 841 556 1753 \nL 556 4666 \nz\n\" id=\"DejaVuSans-55\" transform=\"scale(0.015625)\"/>\n        <path d=\"M 3425 4513 \nL 3425 3897 \nQ 3066 4069 2747 4153 \nQ 2428 4238 2131 4238 \nQ 1616 4238 1336 4038 \nQ 1056 3838 1056 3469 \nQ 1056 3159 1242 3001 \nQ 1428 2844 1947 2747 \nL 2328 2669 \nQ 3034 2534 3370 2195 \nQ 3706 1856 3706 1288 \nQ 3706 609 3251 259 \nQ 2797 -91 1919 -91 \nQ 1588 -91 1214 -16 \nQ 841 59 441 206 \nL 441 856 \nQ 825 641 1194 531 \nQ 1563 422 1919 422 \nQ 2459 422 2753 634 \nQ 3047 847 3047 1241 \nQ 3047 1584 2836 1778 \nQ 2625 1972 2144 2069 \nL 1759 2144 \nQ 1053 2284 737 2584 \nQ 422 2884 422 3419 \nQ 422 4038 858 4394 \nQ 1294 4750 2059 4750 \nQ 2388 4750 2728 4690 \nQ 3069 4631 3425 4513 \nz\n\" id=\"DejaVuSans-53\" transform=\"scale(0.015625)\"/>\n       </defs>\n       <use xlink:href=\"#DejaVuSans-55\"/>\n       <use x=\"73.193359\" xlink:href=\"#DejaVuSans-53\"/>\n      </g>\n     </g>\n    </g>\n    <g id=\"ytick_2\">\n     <g id=\"line2d_9\">\n      <g>\n       <use style=\"stroke:#000000;stroke-width:0.8;\" x=\"35.371875\" xlink:href=\"#mb2e53089c7\" y=\"278.586696\"/>\n      </g>\n     </g>\n     <g id=\"text_9\">\n      <!-- GB -->\n      <g transform=\"translate(13.7625 282.385915)scale(0.1 -0.1)\">\n       <defs>\n        <path d=\"M 3809 666 \nL 3809 1919 \nL 2778 1919 \nL 2778 2438 \nL 4434 2438 \nL 4434 434 \nQ 4069 175 3628 42 \nQ 3188 -91 2688 -91 \nQ 1594 -91 976 548 \nQ 359 1188 359 2328 \nQ 359 3472 976 4111 \nQ 1594 4750 2688 4750 \nQ 3144 4750 3555 4637 \nQ 3966 4525 4313 4306 \nL 4313 3634 \nQ 3963 3931 3569 4081 \nQ 3175 4231 2741 4231 \nQ 1884 4231 1454 3753 \nQ 1025 3275 1025 2328 \nQ 1025 1384 1454 906 \nQ 1884 428 2741 428 \nQ 3075 428 3337 486 \nQ 3600 544 3809 666 \nz\n\" id=\"DejaVuSans-47\" transform=\"scale(0.015625)\"/>\n        <path d=\"M 1259 2228 \nL 1259 519 \nL 2272 519 \nQ 2781 519 3026 730 \nQ 3272 941 3272 1375 \nQ 3272 1813 3026 2020 \nQ 2781 2228 2272 2228 \nL 1259 2228 \nz\nM 1259 4147 \nL 1259 2741 \nL 2194 2741 \nQ 2656 2741 2882 2914 \nQ 3109 3088 3109 3444 \nQ 3109 3797 2882 3972 \nQ 2656 4147 2194 4147 \nL 1259 4147 \nz\nM 628 4666 \nL 2241 4666 \nQ 2963 4666 3353 4366 \nQ 3744 4066 3744 3513 \nQ 3744 3084 3544 2831 \nQ 3344 2578 2956 2516 \nQ 3422 2416 3680 2098 \nQ 3938 1781 3938 1306 \nQ 3938 681 3513 340 \nQ 3088 0 2303 0 \nL 628 0 \nL 628 4666 \nz\n\" id=\"DejaVuSans-42\" transform=\"scale(0.015625)\"/>\n       </defs>\n       <use xlink:href=\"#DejaVuSans-47\"/>\n       <use x=\"77.490234\" xlink:href=\"#DejaVuSans-42\"/>\n      </g>\n     </g>\n    </g>\n    <g id=\"ytick_3\">\n     <g id=\"line2d_10\">\n      <g>\n       <use style=\"stroke:#000000;stroke-width:0.8;\" x=\"35.371875\" xlink:href=\"#mb2e53089c7\" y=\"231.992411\"/>\n      </g>\n     </g>\n     <g id=\"text_10\">\n      <!-- EU -->\n      <g transform=\"translate(14.734375 235.791629)scale(0.1 -0.1)\">\n       <defs>\n        <path d=\"M 628 4666 \nL 3578 4666 \nL 3578 4134 \nL 1259 4134 \nL 1259 2753 \nL 3481 2753 \nL 3481 2222 \nL 1259 2222 \nL 1259 531 \nL 3634 531 \nL 3634 0 \nL 628 0 \nL 628 4666 \nz\n\" id=\"DejaVuSans-45\" transform=\"scale(0.015625)\"/>\n       </defs>\n       <use xlink:href=\"#DejaVuSans-45\"/>\n       <use x=\"63.183594\" xlink:href=\"#DejaVuSans-55\"/>\n      </g>\n     </g>\n    </g>\n    <g id=\"ytick_4\">\n     <g id=\"line2d_11\">\n      <g>\n       <use style=\"stroke:#000000;stroke-width:0.8;\" x=\"35.371875\" xlink:href=\"#mb2e53089c7\" y=\"185.398125\"/>\n      </g>\n     </g>\n     <g id=\"text_11\">\n      <!-- NA -->\n      <g transform=\"translate(14.05 189.197344)scale(0.1 -0.1)\">\n       <defs>\n        <path d=\"M 628 4666 \nL 1478 4666 \nL 3547 763 \nL 3547 4666 \nL 4159 4666 \nL 4159 0 \nL 3309 0 \nL 1241 3903 \nL 1241 0 \nL 628 0 \nL 628 4666 \nz\n\" id=\"DejaVuSans-4e\" transform=\"scale(0.015625)\"/>\n        <path d=\"M 2188 4044 \nL 1331 1722 \nL 3047 1722 \nL 2188 4044 \nz\nM 1831 4666 \nL 2547 4666 \nL 4325 0 \nL 3669 0 \nL 3244 1197 \nL 1141 1197 \nL 716 0 \nL 50 0 \nL 1831 4666 \nz\n\" id=\"DejaVuSans-41\" transform=\"scale(0.015625)\"/>\n       </defs>\n       <use xlink:href=\"#DejaVuSans-4e\"/>\n       <use x=\"74.804688\" xlink:href=\"#DejaVuSans-41\"/>\n      </g>\n     </g>\n    </g>\n    <g id=\"ytick_5\">\n     <g id=\"line2d_12\">\n      <g>\n       <use style=\"stroke:#000000;stroke-width:0.8;\" x=\"35.371875\" xlink:href=\"#mb2e53089c7\" y=\"138.803839\"/>\n      </g>\n     </g>\n     <g id=\"text_12\">\n      <!-- ANZ -->\n      <g transform=\"translate(7.2 142.603058)scale(0.1 -0.1)\">\n       <defs>\n        <path d=\"M 359 4666 \nL 4025 4666 \nL 4025 4184 \nL 1075 531 \nL 4097 531 \nL 4097 0 \nL 288 0 \nL 288 481 \nL 3238 4134 \nL 359 4134 \nL 359 4666 \nz\n\" id=\"DejaVuSans-5a\" transform=\"scale(0.015625)\"/>\n       </defs>\n       <use xlink:href=\"#DejaVuSans-41\"/>\n       <use x=\"68.408203\" xlink:href=\"#DejaVuSans-4e\"/>\n       <use x=\"143.212891\" xlink:href=\"#DejaVuSans-5a\"/>\n      </g>\n     </g>\n    </g>\n    <g id=\"ytick_6\">\n     <g id=\"line2d_13\">\n      <g>\n       <use style=\"stroke:#000000;stroke-width:0.8;\" x=\"35.371875\" xlink:href=\"#mb2e53089c7\" y=\"92.209554\"/>\n      </g>\n     </g>\n     <g id=\"text_13\">\n      <!-- SEA -->\n      <g transform=\"translate(8.864063 96.008772)scale(0.1 -0.1)\">\n       <use xlink:href=\"#DejaVuSans-53\"/>\n       <use x=\"63.476562\" xlink:href=\"#DejaVuSans-45\"/>\n       <use x=\"126.660156\" xlink:href=\"#DejaVuSans-41\"/>\n      </g>\n     </g>\n    </g>\n    <g id=\"ytick_7\">\n     <g id=\"line2d_14\">\n      <g>\n       <use style=\"stroke:#000000;stroke-width:0.8;\" x=\"35.371875\" xlink:href=\"#mb2e53089c7\" y=\"45.615268\"/>\n      </g>\n     </g>\n     <g id=\"text_14\">\n      <!-- JP -->\n      <g transform=\"translate(19.392188 49.414487)scale(0.1 -0.1)\">\n       <defs>\n        <path d=\"M 628 4666 \nL 1259 4666 \nL 1259 325 \nQ 1259 -519 939 -900 \nQ 619 -1281 -91 -1281 \nL -331 -1281 \nL -331 -750 \nL -134 -750 \nQ 284 -750 456 -515 \nQ 628 -281 628 325 \nL 628 4666 \nz\n\" id=\"DejaVuSans-4a\" transform=\"scale(0.015625)\"/>\n        <path d=\"M 1259 4147 \nL 1259 2394 \nL 2053 2394 \nQ 2494 2394 2734 2622 \nQ 2975 2850 2975 3272 \nQ 2975 3691 2734 3919 \nQ 2494 4147 2053 4147 \nL 1259 4147 \nz\nM 628 4666 \nL 2053 4666 \nQ 2838 4666 3239 4311 \nQ 3641 3956 3641 3272 \nQ 3641 2581 3239 2228 \nQ 2838 1875 2053 1875 \nL 1259 1875 \nL 1259 0 \nL 628 0 \nL 628 4666 \nz\n\" id=\"DejaVuSans-50\" transform=\"scale(0.015625)\"/>\n       </defs>\n       <use xlink:href=\"#DejaVuSans-4a\"/>\n       <use x=\"29.492188\" xlink:href=\"#DejaVuSans-50\"/>\n      </g>\n     </g>\n    </g>\n   </g>\n   <g id=\"patch_10\">\n    <path d=\"M 35.371875 348.478125 \nL 35.371875 22.318125 \n\" style=\"fill:none;stroke:#000000;stroke-linecap:square;stroke-linejoin:miter;stroke-width:0.8;\"/>\n   </g>\n   <g id=\"patch_11\">\n    <path d=\"M 816.571875 348.478125 \nL 816.571875 22.318125 \n\" style=\"fill:none;stroke:#000000;stroke-linecap:square;stroke-linejoin:miter;stroke-width:0.8;\"/>\n   </g>\n   <g id=\"patch_12\">\n    <path d=\"M 35.371875 348.478125 \nL 816.571875 348.478125 \n\" style=\"fill:none;stroke:#000000;stroke-linecap:square;stroke-linejoin:miter;stroke-width:0.8;\"/>\n   </g>\n   <g id=\"patch_13\">\n    <path d=\"M 35.371875 22.318125 \nL 816.571875 22.318125 \n\" style=\"fill:none;stroke:#000000;stroke-linecap:square;stroke-linejoin:miter;stroke-width:0.8;\"/>\n   </g>\n   <g id=\"text_15\">\n    <!-- Top 7countries -->\n    <g transform=\"translate(382.244063 16.318125)scale(0.12 -0.12)\">\n     <defs>\n      <path d=\"M -19 4666 \nL 3928 4666 \nL 3928 4134 \nL 2272 4134 \nL 2272 0 \nL 1638 0 \nL 1638 4134 \nL -19 4134 \nL -19 4666 \nz\n\" id=\"DejaVuSans-54\" transform=\"scale(0.015625)\"/>\n      <path d=\"M 1959 3097 \nQ 1497 3097 1228 2736 \nQ 959 2375 959 1747 \nQ 959 1119 1226 758 \nQ 1494 397 1959 397 \nQ 2419 397 2687 759 \nQ 2956 1122 2956 1747 \nQ 2956 2369 2687 2733 \nQ 2419 3097 1959 3097 \nz\nM 1959 3584 \nQ 2709 3584 3137 3096 \nQ 3566 2609 3566 1747 \nQ 3566 888 3137 398 \nQ 2709 -91 1959 -91 \nQ 1206 -91 779 398 \nQ 353 888 353 1747 \nQ 353 2609 779 3096 \nQ 1206 3584 1959 3584 \nz\n\" id=\"DejaVuSans-6f\" transform=\"scale(0.015625)\"/>\n      <path d=\"M 1159 525 \nL 1159 -1331 \nL 581 -1331 \nL 581 3500 \nL 1159 3500 \nL 1159 2969 \nQ 1341 3281 1617 3432 \nQ 1894 3584 2278 3584 \nQ 2916 3584 3314 3078 \nQ 3713 2572 3713 1747 \nQ 3713 922 3314 415 \nQ 2916 -91 2278 -91 \nQ 1894 -91 1617 61 \nQ 1341 213 1159 525 \nz\nM 3116 1747 \nQ 3116 2381 2855 2742 \nQ 2594 3103 2138 3103 \nQ 1681 3103 1420 2742 \nQ 1159 2381 1159 1747 \nQ 1159 1113 1420 752 \nQ 1681 391 2138 391 \nQ 2594 391 2855 752 \nQ 3116 1113 3116 1747 \nz\n\" id=\"DejaVuSans-70\" transform=\"scale(0.015625)\"/>\n      <path id=\"DejaVuSans-20\" transform=\"scale(0.015625)\"/>\n      <path d=\"M 525 4666 \nL 3525 4666 \nL 3525 4397 \nL 1831 0 \nL 1172 0 \nL 2766 4134 \nL 525 4134 \nL 525 4666 \nz\n\" id=\"DejaVuSans-37\" transform=\"scale(0.015625)\"/>\n      <path d=\"M 3122 3366 \nL 3122 2828 \nQ 2878 2963 2633 3030 \nQ 2388 3097 2138 3097 \nQ 1578 3097 1268 2742 \nQ 959 2388 959 1747 \nQ 959 1106 1268 751 \nQ 1578 397 2138 397 \nQ 2388 397 2633 464 \nQ 2878 531 3122 666 \nL 3122 134 \nQ 2881 22 2623 -34 \nQ 2366 -91 2075 -91 \nQ 1284 -91 818 406 \nQ 353 903 353 1747 \nQ 353 2603 823 3093 \nQ 1294 3584 2113 3584 \nQ 2378 3584 2631 3529 \nQ 2884 3475 3122 3366 \nz\n\" id=\"DejaVuSans-63\" transform=\"scale(0.015625)\"/>\n      <path d=\"M 544 1381 \nL 544 3500 \nL 1119 3500 \nL 1119 1403 \nQ 1119 906 1312 657 \nQ 1506 409 1894 409 \nQ 2359 409 2629 706 \nQ 2900 1003 2900 1516 \nL 2900 3500 \nL 3475 3500 \nL 3475 0 \nL 2900 0 \nL 2900 538 \nQ 2691 219 2414 64 \nQ 2138 -91 1772 -91 \nQ 1169 -91 856 284 \nQ 544 659 544 1381 \nz\nM 1991 3584 \nL 1991 3584 \nz\n\" id=\"DejaVuSans-75\" transform=\"scale(0.015625)\"/>\n      <path d=\"M 3513 2113 \nL 3513 0 \nL 2938 0 \nL 2938 2094 \nQ 2938 2591 2744 2837 \nQ 2550 3084 2163 3084 \nQ 1697 3084 1428 2787 \nQ 1159 2491 1159 1978 \nL 1159 0 \nL 581 0 \nL 581 3500 \nL 1159 3500 \nL 1159 2956 \nQ 1366 3272 1645 3428 \nQ 1925 3584 2291 3584 \nQ 2894 3584 3203 3211 \nQ 3513 2838 3513 2113 \nz\n\" id=\"DejaVuSans-6e\" transform=\"scale(0.015625)\"/>\n      <path d=\"M 1172 4494 \nL 1172 3500 \nL 2356 3500 \nL 2356 3053 \nL 1172 3053 \nL 1172 1153 \nQ 1172 725 1289 603 \nQ 1406 481 1766 481 \nL 2356 481 \nL 2356 0 \nL 1766 0 \nQ 1100 0 847 248 \nQ 594 497 594 1153 \nL 594 3053 \nL 172 3053 \nL 172 3500 \nL 594 3500 \nL 594 4494 \nL 1172 4494 \nz\n\" id=\"DejaVuSans-74\" transform=\"scale(0.015625)\"/>\n      <path d=\"M 2631 2963 \nQ 2534 3019 2420 3045 \nQ 2306 3072 2169 3072 \nQ 1681 3072 1420 2755 \nQ 1159 2438 1159 1844 \nL 1159 0 \nL 581 0 \nL 581 3500 \nL 1159 3500 \nL 1159 2956 \nQ 1341 3275 1631 3429 \nQ 1922 3584 2338 3584 \nQ 2397 3584 2469 3576 \nQ 2541 3569 2628 3553 \nL 2631 2963 \nz\n\" id=\"DejaVuSans-72\" transform=\"scale(0.015625)\"/>\n      <path d=\"M 603 3500 \nL 1178 3500 \nL 1178 0 \nL 603 0 \nL 603 3500 \nz\nM 603 4863 \nL 1178 4863 \nL 1178 4134 \nL 603 4134 \nL 603 4863 \nz\n\" id=\"DejaVuSans-69\" transform=\"scale(0.015625)\"/>\n      <path d=\"M 3597 1894 \nL 3597 1613 \nL 953 1613 \nQ 991 1019 1311 708 \nQ 1631 397 2203 397 \nQ 2534 397 2845 478 \nQ 3156 559 3463 722 \nL 3463 178 \nQ 3153 47 2828 -22 \nQ 2503 -91 2169 -91 \nQ 1331 -91 842 396 \nQ 353 884 353 1716 \nQ 353 2575 817 3079 \nQ 1281 3584 2069 3584 \nQ 2775 3584 3186 3129 \nQ 3597 2675 3597 1894 \nz\nM 3022 2063 \nQ 3016 2534 2758 2815 \nQ 2500 3097 2075 3097 \nQ 1594 3097 1305 2825 \nQ 1016 2553 972 2059 \nL 3022 2063 \nz\n\" id=\"DejaVuSans-65\" transform=\"scale(0.015625)\"/>\n      <path d=\"M 2834 3397 \nL 2834 2853 \nQ 2591 2978 2328 3040 \nQ 2066 3103 1784 3103 \nQ 1356 3103 1142 2972 \nQ 928 2841 928 2578 \nQ 928 2378 1081 2264 \nQ 1234 2150 1697 2047 \nL 1894 2003 \nQ 2506 1872 2764 1633 \nQ 3022 1394 3022 966 \nQ 3022 478 2636 193 \nQ 2250 -91 1575 -91 \nQ 1294 -91 989 -36 \nQ 684 19 347 128 \nL 347 722 \nQ 666 556 975 473 \nQ 1284 391 1588 391 \nQ 1994 391 2212 530 \nQ 2431 669 2431 922 \nQ 2431 1156 2273 1281 \nQ 2116 1406 1581 1522 \nL 1381 1569 \nQ 847 1681 609 1914 \nQ 372 2147 372 2553 \nQ 372 3047 722 3315 \nQ 1072 3584 1716 3584 \nQ 2034 3584 2315 3537 \nQ 2597 3491 2834 3397 \nz\n\" id=\"DejaVuSans-73\" transform=\"scale(0.015625)\"/>\n     </defs>\n     <use xlink:href=\"#DejaVuSans-54\"/>\n     <use x=\"44.083984\" xlink:href=\"#DejaVuSans-6f\"/>\n     <use x=\"105.265625\" xlink:href=\"#DejaVuSans-70\"/>\n     <use x=\"168.742188\" xlink:href=\"#DejaVuSans-20\"/>\n     <use x=\"200.529297\" xlink:href=\"#DejaVuSans-37\"/>\n     <use x=\"264.152344\" xlink:href=\"#DejaVuSans-63\"/>\n     <use x=\"319.132812\" xlink:href=\"#DejaVuSans-6f\"/>\n     <use x=\"380.314453\" xlink:href=\"#DejaVuSans-75\"/>\n     <use x=\"443.693359\" xlink:href=\"#DejaVuSans-6e\"/>\n     <use x=\"507.072266\" xlink:href=\"#DejaVuSans-74\"/>\n     <use x=\"546.28125\" xlink:href=\"#DejaVuSans-72\"/>\n     <use x=\"587.394531\" xlink:href=\"#DejaVuSans-69\"/>\n     <use x=\"615.177734\" xlink:href=\"#DejaVuSans-65\"/>\n     <use x=\"676.701172\" xlink:href=\"#DejaVuSans-73\"/>\n    </g>\n   </g>\n  </g>\n </g>\n <defs>\n  <clipPath id=\"pa2544422b4\">\n   <rect height=\"326.16\" width=\"781.2\" x=\"35.371875\" y=\"22.318125\"/>\n  </clipPath>\n </defs>\n</svg>\n",
      "image/png": "[encoded data removed]"
     },
     "metadata": {
      "needs_background": "light"
     }
    }
   ],
   "source": [
    "print('Number of unique countries: ', df['country'].nunique())\n",
    "df['country'].value_counts()[:15].plot(kind='barh', \n",
    "                                       figsize=(14,6), \n",
    "                                       title='Top 7countries')"
   ]
  },
  {
   "cell_type": "code",
   "execution_count": 53,
   "metadata": {},
   "outputs": [
    {
     "output_type": "stream",
     "name": "stdout",
     "text": [
      "The average Kickstarter campaign has 16209.27 USD pledged, 133 backers and a goal of 52661.41 USD.\n"
     ]
    }
   ],
   "source": [
    "print('The average Kickstarter campaign has {} USD pledged, {} backers and a goal of {} USD.'.format(round(df['max_pledged'].mean(), 2),\n",
    "                                                                                               int(df['backers_count'].mean()),\n",
    "                                                                                               round(df['goal'].mean(), 2)))"
   ]
  },
  {
   "source": [
    "# Create a feature for average amount pledged per backer\n",
    "df['avg_pledged'] = df['max_pledged'] / df['backers_count']\n",
    "\n",
    "# Take care of infinite values and campaigns with 0 backers\n",
    "df['avg_pledged'].fillna(0, inplace=True)\n",
    "df.replace(to_replace=[np.inf, -np.inf], value=0, inplace=True)\n",
    "\n",
    "print('Kickstarter backers pledge {} USD to a campaign on average'.format(round(df['avg_pledged'].mean(), 2)))"
   ],
   "cell_type": "code",
   "metadata": {},
   "execution_count": 54,
   "outputs": [
    {
     "output_type": "stream",
     "name": "stdout",
     "text": [
      "Kickstarter backers pledge 106.47 USD to a campaign on average\n"
     ]
    }
   ]
  },
  {
   "cell_type": "code",
   "execution_count": 58,
   "metadata": {},
   "outputs": [],
   "source": [
    "# Get a list of all categories in 'main_category'\n",
    "cat_list = list(df['slug'].unique())\n",
    "\n",
    "# Create a mapping of the average pledged per backer for every category\n",
    "pledge_mapping = dict()\n",
    "for category in cat_list:\n",
    "    cat_df = df[df['slug'] == category]\n",
    "    pledge_mapping.update({category : cat_df['avg_pledged'].mean()})\n",
    "    "
   ]
  },
  {
   "cell_type": "code",
   "execution_count": 91,
   "metadata": {},
   "outputs": [
    {
     "output_type": "display_data",
     "data": {
      "text/plain": "             technology/sound  crafts/pottery  design/product design  \\\navg_pledged        867.383855      486.955813             465.776539   \n\n             technology/robots  technology/makerspaces  \\\navg_pledged         454.798701               452.01984   \n\n             technology/3d printing  technology  technology/camera equipment  \\\navg_pledged              440.085486  426.819789                   411.943024   \n\n             technology/hardware  technology/gadgets  ...  music/r&b  \\\navg_pledged           247.041335          244.408842  ...  41.846881   \n\n             publishing/young adult  music/comedy  journalism/photo  \\\navg_pledged               41.707644      40.42765         38.306866   \n\n             journalism/video  music/hip-hop  publishing/poetry  \\\navg_pledged         35.090483      34.638978          33.682107   \n\n             crafts/candles  food/bacon  crafts/crochet  \navg_pledged       26.798604   24.803273       22.722898  \n\n[1 rows x 169 columns]",
      "text/html": "<div>\n<style scoped>\n    .dataframe tbody tr th:only-of-type {\n        vertical-align: middle;\n    }\n\n    .dataframe tbody tr th {\n        vertical-align: top;\n    }\n\n    .dataframe thead th {\n        text-align: right;\n    }\n</style>\n<table border=\"1\" class=\"dataframe\">\n  <thead>\n    <tr style=\"text-align: right;\">\n      <th></th>\n      <th>technology/sound</th>\n      <th>crafts/pottery</th>\n      <th>design/product design</th>\n      <th>technology/robots</th>\n      <th>technology/makerspaces</th>\n      <th>technology/3d printing</th>\n      <th>technology</th>\n      <th>technology/camera equipment</th>\n      <th>technology/hardware</th>\n      <th>technology/gadgets</th>\n      <th>...</th>\n      <th>music/r&amp;b</th>\n      <th>publishing/young adult</th>\n      <th>music/comedy</th>\n      <th>journalism/photo</th>\n      <th>journalism/video</th>\n      <th>music/hip-hop</th>\n      <th>publishing/poetry</th>\n      <th>crafts/candles</th>\n      <th>food/bacon</th>\n      <th>crafts/crochet</th>\n    </tr>\n  </thead>\n  <tbody>\n    <tr>\n      <th>avg_pledged</th>\n      <td>867.383855</td>\n      <td>486.955813</td>\n      <td>465.776539</td>\n      <td>454.798701</td>\n      <td>452.01984</td>\n      <td>440.085486</td>\n      <td>426.819789</td>\n      <td>411.943024</td>\n      <td>247.041335</td>\n      <td>244.408842</td>\n      <td>...</td>\n      <td>41.846881</td>\n      <td>41.707644</td>\n      <td>40.42765</td>\n      <td>38.306866</td>\n      <td>35.090483</td>\n      <td>34.638978</td>\n      <td>33.682107</td>\n      <td>26.798604</td>\n      <td>24.803273</td>\n      <td>22.722898</td>\n    </tr>\n  </tbody>\n</table>\n<p>1 rows × 169 columns</p>\n</div>"
     },
     "metadata": {}
    },
    {
     "output_type": "execute_result",
     "data": {
      "text/plain": [
       "(array([ 0,  1,  2,  3,  4,  5,  6,  7,  8,  9, 10, 11, 12, 13, 14, 15, 16,\n",
       "        17, 18, 19]),\n",
       " [Text(0, 0, 'technology/sound'),\n",
       "  Text(1, 0, 'crafts/pottery'),\n",
       "  Text(2, 0, 'design/product design'),\n",
       "  Text(3, 0, 'technology/robots'),\n",
       "  Text(4, 0, 'technology/makerspaces'),\n",
       "  Text(5, 0, 'technology/3d printing'),\n",
       "  Text(6, 0, 'technology'),\n",
       "  Text(7, 0, 'technology/camera equipment'),\n",
       "  Text(8, 0, 'technology/hardware'),\n",
       "  Text(9, 0, 'technology/gadgets'),\n",
       "  Text(10, 0, 'technology/fabrication tools'),\n",
       "  Text(11, 0, 'publishing'),\n",
       "  Text(12, 0, 'technology/wearables'),\n",
       "  Text(13, 0, 'technology/diy electronics'),\n",
       "  Text(14, 0, 'film & video'),\n",
       "  Text(15, 0, 'film & video/documentary'),\n",
       "  Text(16, 0, 'design'),\n",
       "  Text(17, 0, 'film & video/shorts'),\n",
       "  Text(18, 0, 'fashion'),\n",
       "  Text(19, 0, 'fashion/footwear')])"
      ]
     },
     "metadata": {},
     "execution_count": 91
    },
    {
     "output_type": "display_data",
     "data": {
      "text/plain": "<Figure size 432x288 with 1 Axes>",
      "image/svg+xml": "<?xml version=\"1.0\" encoding=\"utf-8\" standalone=\"no\"?>\n<!DOCTYPE svg PUBLIC \"-//W3C//DTD SVG 1.1//EN\"\n  \"http://www.w3.org/Graphics/SVG/1.1/DTD/svg11.dtd\">\n<svg height=\"421.589375pt\" version=\"1.1\" viewBox=\"0 0 388.965625 421.589375\" width=\"388.965625pt\" xmlns=\"http://www.w3.org/2000/svg\" xmlns:xlink=\"http://www.w3.org/1999/xlink\">\n <metadata>\n  <rdf:RDF xmlns:cc=\"http://creativecommons.org/ns#\" xmlns:dc=\"http://purl.org/dc/elements/1.1/\" xmlns:rdf=\"http://www.w3.org/1999/02/22-rdf-syntax-ns#\">\n   <cc:Work>\n    <dc:type rdf:resource=\"http://purl.org/dc/dcmitype/StillImage\"/>\n    <dc:date>2021-06-29T10:47:35.038310</dc:date>\n    <dc:format>image/svg+xml</dc:format>\n    <dc:creator>\n     <cc:Agent>\n      <dc:title>Matplotlib v3.4.2, https://matplotlib.org/</dc:title>\n     </cc:Agent>\n    </dc:creator>\n   </cc:Work>\n  </rdf:RDF>\n </metadata>\n <defs>\n  <style type=\"text/css\">*{stroke-linecap:butt;stroke-linejoin:round;}</style>\n </defs>\n <g id=\"figure_1\">\n  <g id=\"patch_1\">\n   <path d=\"M -0 421.589375 \nL 388.965625 421.589375 \nL 388.965625 0 \nL -0 0 \nz\n\" style=\"fill:none;\"/>\n  </g>\n  <g id=\"axes_1\">\n   <g id=\"patch_2\">\n    <path d=\"M 46.965625 239.758125 \nL 381.765625 239.758125 \nL 381.765625 22.318125 \nL 46.965625 22.318125 \nz\n\" style=\"fill:#ffffff;\"/>\n   </g>\n   <g id=\"patch_3\">\n    <path clip-path=\"url(#p989fadf115)\" d=\"M 48.639625 239.758125 \nL 62.031625 239.758125 \nL 62.031625 32.672411 \nL 48.639625 32.672411 \nz\n\" style=\"fill:#ea96a3;\"/>\n   </g>\n   <g id=\"patch_4\">\n    <path clip-path=\"url(#p989fadf115)\" d=\"M 65.379625 239.758125 \nL 78.771625 239.758125 \nL 78.771625 123.498649 \nL 65.379625 123.498649 \nz\n\" style=\"fill:#e79683;\"/>\n   </g>\n   <g id=\"patch_5\">\n    <path clip-path=\"url(#p989fadf115)\" d=\"M 82.119625 239.758125 \nL 95.511625 239.758125 \nL 95.511625 128.555148 \nL 82.119625 128.555148 \nz\n\" style=\"fill:#d7944e;\"/>\n   </g>\n   <g id=\"patch_6\">\n    <path clip-path=\"url(#p989fadf115)\" d=\"M 98.859625 239.758125 \nL 112.251625 239.758125 \nL 112.251625 131.176079 \nL 98.859625 131.176079 \nz\n\" style=\"fill:#bf9a4a;\"/>\n   </g>\n   <g id=\"patch_7\">\n    <path clip-path=\"url(#p989fadf115)\" d=\"M 115.599625 239.758125 \nL 128.991625 239.758125 \nL 128.991625 131.839525 \nL 115.599625 131.839525 \nz\n\" style=\"fill:#ab9e47;\"/>\n   </g>\n   <g id=\"patch_8\">\n    <path clip-path=\"url(#p989fadf115)\" d=\"M 132.339625 239.758125 \nL 145.731625 239.758125 \nL 145.731625 134.688822 \nL 132.339625 134.688822 \nz\n\" style=\"fill:#98a246;\"/>\n   </g>\n   <g id=\"patch_9\">\n    <path clip-path=\"url(#p989fadf115)\" d=\"M 149.079625 239.758125 \nL 162.471625 239.758125 \nL 162.471625 137.855973 \nL 149.079625 137.855973 \nz\n\" style=\"fill:#7fa946;\"/>\n   </g>\n   <g id=\"patch_10\">\n    <path clip-path=\"url(#p989fadf115)\" d=\"M 165.819625 239.758125 \nL 179.211625 239.758125 \nL 179.211625 141.407764 \nL 165.819625 141.407764 \nz\n\" style=\"fill:#48b052;\"/>\n   </g>\n   <g id=\"patch_11\">\n    <path clip-path=\"url(#p989fadf115)\" d=\"M 182.559625 239.758125 \nL 195.951625 239.758125 \nL 195.951625 180.777627 \nL 182.559625 180.777627 \nz\n\" style=\"fill:#49ae83;\"/>\n   </g>\n   <g id=\"patch_12\">\n    <path clip-path=\"url(#p989fadf115)\" d=\"M 199.299625 239.758125 \nL 212.691625 239.758125 \nL 212.691625 181.406128 \nL 199.299625 181.406128 \nz\n\" style=\"fill:#4aad96;\"/>\n   </g>\n   <g id=\"patch_13\">\n    <path clip-path=\"url(#p989fadf115)\" d=\"M 216.039625 239.758125 \nL 229.431625 239.758125 \nL 229.431625 186.131932 \nL 216.039625 186.131932 \nz\n\" style=\"fill:#4baba4;\"/>\n   </g>\n   <g id=\"patch_14\">\n    <path clip-path=\"url(#p989fadf115)\" d=\"M 232.779625 239.758125 \nL 246.171625 239.758125 \nL 246.171625 190.791253 \nL 232.779625 190.791253 \nz\n\" style=\"fill:#4dabb2;\"/>\n   </g>\n   <g id=\"patch_15\">\n    <path clip-path=\"url(#p989fadf115)\" d=\"M 249.519625 239.758125 \nL 262.911625 239.758125 \nL 262.911625 194.104668 \nL 249.519625 194.104668 \nz\n\" style=\"fill:#50acc3;\"/>\n   </g>\n   <g id=\"patch_16\">\n    <path clip-path=\"url(#p989fadf115)\" d=\"M 266.259625 239.758125 \nL 279.651625 239.758125 \nL 279.651625 195.829179 \nL 266.259625 195.829179 \nz\n\" style=\"fill:#56addb;\"/>\n   </g>\n   <g id=\"patch_17\">\n    <path clip-path=\"url(#p989fadf115)\" d=\"M 282.999625 239.758125 \nL 296.391625 239.758125 \nL 296.391625 198.389078 \nL 282.999625 198.389078 \nz\n\" style=\"fill:#94aee8;\"/>\n   </g>\n   <g id=\"patch_18\">\n    <path clip-path=\"url(#p989fadf115)\" d=\"M 299.739625 239.758125 \nL 313.131625 239.758125 \nL 313.131625 199.338017 \nL 299.739625 199.338017 \nz\n\" style=\"fill:#b6a8eb;\"/>\n   </g>\n   <g id=\"patch_19\">\n    <path clip-path=\"url(#p989fadf115)\" d=\"M 316.479625 239.758125 \nL 329.871625 239.758125 \nL 329.871625 199.740458 \nL 316.479625 199.740458 \nz\n\" style=\"fill:#ce9be9;\"/>\n   </g>\n   <g id=\"patch_20\">\n    <path clip-path=\"url(#p989fadf115)\" d=\"M 333.219625 239.758125 \nL 346.611625 239.758125 \nL 346.611625 201.798712 \nL 333.219625 201.798712 \nz\n\" style=\"fill:#e689e4;\"/>\n   </g>\n   <g id=\"patch_21\">\n    <path clip-path=\"url(#p989fadf115)\" d=\"M 349.959625 239.758125 \nL 363.351625 239.758125 \nL 363.351625 202.291088 \nL 349.959625 202.291088 \nz\n\" style=\"fill:#e88fcc;\"/>\n   </g>\n   <g id=\"patch_22\">\n    <path clip-path=\"url(#p989fadf115)\" d=\"M 366.699625 239.758125 \nL 380.091625 239.758125 \nL 380.091625 202.359658 \nL 366.699625 202.359658 \nz\n\" style=\"fill:#e993b9;\"/>\n   </g>\n   <g id=\"matplotlib.axis_1\">\n    <g id=\"xtick_1\">\n     <g id=\"line2d_1\">\n      <defs>\n       <path d=\"M 0 0 \nL 0 3.5 \n\" id=\"m0be3d3009f\" style=\"stroke:#000000;stroke-width:0.8;\"/>\n      </defs>\n      <g>\n       <use style=\"stroke:#000000;stroke-width:0.8;\" x=\"55.335625\" xlink:href=\"#m0be3d3009f\" y=\"239.758125\"/>\n      </g>\n     </g>\n     <g id=\"text_1\">\n      <!-- technology/sound -->\n      <g transform=\"translate(58.095 336.008125)rotate(-90)scale(0.1 -0.1)\">\n       <defs>\n        <path d=\"M 1172 4494 \nL 1172 3500 \nL 2356 3500 \nL 2356 3053 \nL 1172 3053 \nL 1172 1153 \nQ 1172 725 1289 603 \nQ 1406 481 1766 481 \nL 2356 481 \nL 2356 0 \nL 1766 0 \nQ 1100 0 847 248 \nQ 594 497 594 1153 \nL 594 3053 \nL 172 3053 \nL 172 3500 \nL 594 3500 \nL 594 4494 \nL 1172 4494 \nz\n\" id=\"DejaVuSans-74\" transform=\"scale(0.015625)\"/>\n        <path d=\"M 3597 1894 \nL 3597 1613 \nL 953 1613 \nQ 991 1019 1311 708 \nQ 1631 397 2203 397 \nQ 2534 397 2845 478 \nQ 3156 559 3463 722 \nL 3463 178 \nQ 3153 47 2828 -22 \nQ 2503 -91 2169 -91 \nQ 1331 -91 842 396 \nQ 353 884 353 1716 \nQ 353 2575 817 3079 \nQ 1281 3584 2069 3584 \nQ 2775 3584 3186 3129 \nQ 3597 2675 3597 1894 \nz\nM 3022 2063 \nQ 3016 2534 2758 2815 \nQ 2500 3097 2075 3097 \nQ 1594 3097 1305 2825 \nQ 1016 2553 972 2059 \nL 3022 2063 \nz\n\" id=\"DejaVuSans-65\" transform=\"scale(0.015625)\"/>\n        <path d=\"M 3122 3366 \nL 3122 2828 \nQ 2878 2963 2633 3030 \nQ 2388 3097 2138 3097 \nQ 1578 3097 1268 2742 \nQ 959 2388 959 1747 \nQ 959 1106 1268 751 \nQ 1578 397 2138 397 \nQ 2388 397 2633 464 \nQ 2878 531 3122 666 \nL 3122 134 \nQ 2881 22 2623 -34 \nQ 2366 -91 2075 -91 \nQ 1284 -91 818 406 \nQ 353 903 353 1747 \nQ 353 2603 823 3093 \nQ 1294 3584 2113 3584 \nQ 2378 3584 2631 3529 \nQ 2884 3475 3122 3366 \nz\n\" id=\"DejaVuSans-63\" transform=\"scale(0.015625)\"/>\n        <path d=\"M 3513 2113 \nL 3513 0 \nL 2938 0 \nL 2938 2094 \nQ 2938 2591 2744 2837 \nQ 2550 3084 2163 3084 \nQ 1697 3084 1428 2787 \nQ 1159 2491 1159 1978 \nL 1159 0 \nL 581 0 \nL 581 4863 \nL 1159 4863 \nL 1159 2956 \nQ 1366 3272 1645 3428 \nQ 1925 3584 2291 3584 \nQ 2894 3584 3203 3211 \nQ 3513 2838 3513 2113 \nz\n\" id=\"DejaVuSans-68\" transform=\"scale(0.015625)\"/>\n        <path d=\"M 3513 2113 \nL 3513 0 \nL 2938 0 \nL 2938 2094 \nQ 2938 2591 2744 2837 \nQ 2550 3084 2163 3084 \nQ 1697 3084 1428 2787 \nQ 1159 2491 1159 1978 \nL 1159 0 \nL 581 0 \nL 581 3500 \nL 1159 3500 \nL 1159 2956 \nQ 1366 3272 1645 3428 \nQ 1925 3584 2291 3584 \nQ 2894 3584 3203 3211 \nQ 3513 2838 3513 2113 \nz\n\" id=\"DejaVuSans-6e\" transform=\"scale(0.015625)\"/>\n        <path d=\"M 1959 3097 \nQ 1497 3097 1228 2736 \nQ 959 2375 959 1747 \nQ 959 1119 1226 758 \nQ 1494 397 1959 397 \nQ 2419 397 2687 759 \nQ 2956 1122 2956 1747 \nQ 2956 2369 2687 2733 \nQ 2419 3097 1959 3097 \nz\nM 1959 3584 \nQ 2709 3584 3137 3096 \nQ 3566 2609 3566 1747 \nQ 3566 888 3137 398 \nQ 2709 -91 1959 -91 \nQ 1206 -91 779 398 \nQ 353 888 353 1747 \nQ 353 2609 779 3096 \nQ 1206 3584 1959 3584 \nz\n\" id=\"DejaVuSans-6f\" transform=\"scale(0.015625)\"/>\n        <path d=\"M 603 4863 \nL 1178 4863 \nL 1178 0 \nL 603 0 \nL 603 4863 \nz\n\" id=\"DejaVuSans-6c\" transform=\"scale(0.015625)\"/>\n        <path d=\"M 2906 1791 \nQ 2906 2416 2648 2759 \nQ 2391 3103 1925 3103 \nQ 1463 3103 1205 2759 \nQ 947 2416 947 1791 \nQ 947 1169 1205 825 \nQ 1463 481 1925 481 \nQ 2391 481 2648 825 \nQ 2906 1169 2906 1791 \nz\nM 3481 434 \nQ 3481 -459 3084 -895 \nQ 2688 -1331 1869 -1331 \nQ 1566 -1331 1297 -1286 \nQ 1028 -1241 775 -1147 \nL 775 -588 \nQ 1028 -725 1275 -790 \nQ 1522 -856 1778 -856 \nQ 2344 -856 2625 -561 \nQ 2906 -266 2906 331 \nL 2906 616 \nQ 2728 306 2450 153 \nQ 2172 0 1784 0 \nQ 1141 0 747 490 \nQ 353 981 353 1791 \nQ 353 2603 747 3093 \nQ 1141 3584 1784 3584 \nQ 2172 3584 2450 3431 \nQ 2728 3278 2906 2969 \nL 2906 3500 \nL 3481 3500 \nL 3481 434 \nz\n\" id=\"DejaVuSans-67\" transform=\"scale(0.015625)\"/>\n        <path d=\"M 2059 -325 \nQ 1816 -950 1584 -1140 \nQ 1353 -1331 966 -1331 \nL 506 -1331 \nL 506 -850 \nL 844 -850 \nQ 1081 -850 1212 -737 \nQ 1344 -625 1503 -206 \nL 1606 56 \nL 191 3500 \nL 800 3500 \nL 1894 763 \nL 2988 3500 \nL 3597 3500 \nL 2059 -325 \nz\n\" id=\"DejaVuSans-79\" transform=\"scale(0.015625)\"/>\n        <path d=\"M 1625 4666 \nL 2156 4666 \nL 531 -594 \nL 0 -594 \nL 1625 4666 \nz\n\" id=\"DejaVuSans-2f\" transform=\"scale(0.015625)\"/>\n        <path d=\"M 2834 3397 \nL 2834 2853 \nQ 2591 2978 2328 3040 \nQ 2066 3103 1784 3103 \nQ 1356 3103 1142 2972 \nQ 928 2841 928 2578 \nQ 928 2378 1081 2264 \nQ 1234 2150 1697 2047 \nL 1894 2003 \nQ 2506 1872 2764 1633 \nQ 3022 1394 3022 966 \nQ 3022 478 2636 193 \nQ 2250 -91 1575 -91 \nQ 1294 -91 989 -36 \nQ 684 19 347 128 \nL 347 722 \nQ 666 556 975 473 \nQ 1284 391 1588 391 \nQ 1994 391 2212 530 \nQ 2431 669 2431 922 \nQ 2431 1156 2273 1281 \nQ 2116 1406 1581 1522 \nL 1381 1569 \nQ 847 1681 609 1914 \nQ 372 2147 372 2553 \nQ 372 3047 722 3315 \nQ 1072 3584 1716 3584 \nQ 2034 3584 2315 3537 \nQ 2597 3491 2834 3397 \nz\n\" id=\"DejaVuSans-73\" transform=\"scale(0.015625)\"/>\n        <path d=\"M 544 1381 \nL 544 3500 \nL 1119 3500 \nL 1119 1403 \nQ 1119 906 1312 657 \nQ 1506 409 1894 409 \nQ 2359 409 2629 706 \nQ 2900 1003 2900 1516 \nL 2900 3500 \nL 3475 3500 \nL 3475 0 \nL 2900 0 \nL 2900 538 \nQ 2691 219 2414 64 \nQ 2138 -91 1772 -91 \nQ 1169 -91 856 284 \nQ 544 659 544 1381 \nz\nM 1991 3584 \nL 1991 3584 \nz\n\" id=\"DejaVuSans-75\" transform=\"scale(0.015625)\"/>\n        <path d=\"M 2906 2969 \nL 2906 4863 \nL 3481 4863 \nL 3481 0 \nL 2906 0 \nL 2906 525 \nQ 2725 213 2448 61 \nQ 2172 -91 1784 -91 \nQ 1150 -91 751 415 \nQ 353 922 353 1747 \nQ 353 2572 751 3078 \nQ 1150 3584 1784 3584 \nQ 2172 3584 2448 3432 \nQ 2725 3281 2906 2969 \nz\nM 947 1747 \nQ 947 1113 1208 752 \nQ 1469 391 1925 391 \nQ 2381 391 2643 752 \nQ 2906 1113 2906 1747 \nQ 2906 2381 2643 2742 \nQ 2381 3103 1925 3103 \nQ 1469 3103 1208 2742 \nQ 947 2381 947 1747 \nz\n\" id=\"DejaVuSans-64\" transform=\"scale(0.015625)\"/>\n       </defs>\n       <use xlink:href=\"#DejaVuSans-74\"/>\n       <use x=\"39.208984\" xlink:href=\"#DejaVuSans-65\"/>\n       <use x=\"100.732422\" xlink:href=\"#DejaVuSans-63\"/>\n       <use x=\"155.712891\" xlink:href=\"#DejaVuSans-68\"/>\n       <use x=\"219.091797\" xlink:href=\"#DejaVuSans-6e\"/>\n       <use x=\"282.470703\" xlink:href=\"#DejaVuSans-6f\"/>\n       <use x=\"343.652344\" xlink:href=\"#DejaVuSans-6c\"/>\n       <use x=\"371.435547\" xlink:href=\"#DejaVuSans-6f\"/>\n       <use x=\"432.617188\" xlink:href=\"#DejaVuSans-67\"/>\n       <use x=\"496.09375\" xlink:href=\"#DejaVuSans-79\"/>\n       <use x=\"555.273438\" xlink:href=\"#DejaVuSans-2f\"/>\n       <use x=\"588.964844\" xlink:href=\"#DejaVuSans-73\"/>\n       <use x=\"641.064453\" xlink:href=\"#DejaVuSans-6f\"/>\n       <use x=\"702.246094\" xlink:href=\"#DejaVuSans-75\"/>\n       <use x=\"765.625\" xlink:href=\"#DejaVuSans-6e\"/>\n       <use x=\"829.003906\" xlink:href=\"#DejaVuSans-64\"/>\n      </g>\n     </g>\n    </g>\n    <g id=\"xtick_2\">\n     <g id=\"line2d_2\">\n      <g>\n       <use style=\"stroke:#000000;stroke-width:0.8;\" x=\"72.075625\" xlink:href=\"#m0be3d3009f\" y=\"239.758125\"/>\n      </g>\n     </g>\n     <g id=\"text_2\">\n      <!-- crafts/pottery -->\n      <g transform=\"translate(74.835 314.83)rotate(-90)scale(0.1 -0.1)\">\n       <defs>\n        <path d=\"M 2631 2963 \nQ 2534 3019 2420 3045 \nQ 2306 3072 2169 3072 \nQ 1681 3072 1420 2755 \nQ 1159 2438 1159 1844 \nL 1159 0 \nL 581 0 \nL 581 3500 \nL 1159 3500 \nL 1159 2956 \nQ 1341 3275 1631 3429 \nQ 1922 3584 2338 3584 \nQ 2397 3584 2469 3576 \nQ 2541 3569 2628 3553 \nL 2631 2963 \nz\n\" id=\"DejaVuSans-72\" transform=\"scale(0.015625)\"/>\n        <path d=\"M 2194 1759 \nQ 1497 1759 1228 1600 \nQ 959 1441 959 1056 \nQ 959 750 1161 570 \nQ 1363 391 1709 391 \nQ 2188 391 2477 730 \nQ 2766 1069 2766 1631 \nL 2766 1759 \nL 2194 1759 \nz\nM 3341 1997 \nL 3341 0 \nL 2766 0 \nL 2766 531 \nQ 2569 213 2275 61 \nQ 1981 -91 1556 -91 \nQ 1019 -91 701 211 \nQ 384 513 384 1019 \nQ 384 1609 779 1909 \nQ 1175 2209 1959 2209 \nL 2766 2209 \nL 2766 2266 \nQ 2766 2663 2505 2880 \nQ 2244 3097 1772 3097 \nQ 1472 3097 1187 3025 \nQ 903 2953 641 2809 \nL 641 3341 \nQ 956 3463 1253 3523 \nQ 1550 3584 1831 3584 \nQ 2591 3584 2966 3190 \nQ 3341 2797 3341 1997 \nz\n\" id=\"DejaVuSans-61\" transform=\"scale(0.015625)\"/>\n        <path d=\"M 2375 4863 \nL 2375 4384 \nL 1825 4384 \nQ 1516 4384 1395 4259 \nQ 1275 4134 1275 3809 \nL 1275 3500 \nL 2222 3500 \nL 2222 3053 \nL 1275 3053 \nL 1275 0 \nL 697 0 \nL 697 3053 \nL 147 3053 \nL 147 3500 \nL 697 3500 \nL 697 3744 \nQ 697 4328 969 4595 \nQ 1241 4863 1831 4863 \nL 2375 4863 \nz\n\" id=\"DejaVuSans-66\" transform=\"scale(0.015625)\"/>\n        <path d=\"M 1159 525 \nL 1159 -1331 \nL 581 -1331 \nL 581 3500 \nL 1159 3500 \nL 1159 2969 \nQ 1341 3281 1617 3432 \nQ 1894 3584 2278 3584 \nQ 2916 3584 3314 3078 \nQ 3713 2572 3713 1747 \nQ 3713 922 3314 415 \nQ 2916 -91 2278 -91 \nQ 1894 -91 1617 61 \nQ 1341 213 1159 525 \nz\nM 3116 1747 \nQ 3116 2381 2855 2742 \nQ 2594 3103 2138 3103 \nQ 1681 3103 1420 2742 \nQ 1159 2381 1159 1747 \nQ 1159 1113 1420 752 \nQ 1681 391 2138 391 \nQ 2594 391 2855 752 \nQ 3116 1113 3116 1747 \nz\n\" id=\"DejaVuSans-70\" transform=\"scale(0.015625)\"/>\n       </defs>\n       <use xlink:href=\"#DejaVuSans-63\"/>\n       <use x=\"54.980469\" xlink:href=\"#DejaVuSans-72\"/>\n       <use x=\"96.09375\" xlink:href=\"#DejaVuSans-61\"/>\n       <use x=\"157.373047\" xlink:href=\"#DejaVuSans-66\"/>\n       <use x=\"190.828125\" xlink:href=\"#DejaVuSans-74\"/>\n       <use x=\"230.037109\" xlink:href=\"#DejaVuSans-73\"/>\n       <use x=\"282.136719\" xlink:href=\"#DejaVuSans-2f\"/>\n       <use x=\"315.828125\" xlink:href=\"#DejaVuSans-70\"/>\n       <use x=\"379.304688\" xlink:href=\"#DejaVuSans-6f\"/>\n       <use x=\"440.486328\" xlink:href=\"#DejaVuSans-74\"/>\n       <use x=\"479.695312\" xlink:href=\"#DejaVuSans-74\"/>\n       <use x=\"518.904297\" xlink:href=\"#DejaVuSans-65\"/>\n       <use x=\"580.427734\" xlink:href=\"#DejaVuSans-72\"/>\n       <use x=\"621.541016\" xlink:href=\"#DejaVuSans-79\"/>\n      </g>\n     </g>\n    </g>\n    <g id=\"xtick_3\">\n     <g id=\"line2d_3\">\n      <g>\n       <use style=\"stroke:#000000;stroke-width:0.8;\" x=\"88.815625\" xlink:href=\"#m0be3d3009f\" y=\"239.758125\"/>\n      </g>\n     </g>\n     <g id=\"text_3\">\n      <!-- design/product design -->\n      <g transform=\"translate(91.575 358.112813)rotate(-90)scale(0.1 -0.1)\">\n       <defs>\n        <path d=\"M 603 3500 \nL 1178 3500 \nL 1178 0 \nL 603 0 \nL 603 3500 \nz\nM 603 4863 \nL 1178 4863 \nL 1178 4134 \nL 603 4134 \nL 603 4863 \nz\n\" id=\"DejaVuSans-69\" transform=\"scale(0.015625)\"/>\n        <path id=\"DejaVuSans-20\" transform=\"scale(0.015625)\"/>\n       </defs>\n       <use xlink:href=\"#DejaVuSans-64\"/>\n       <use x=\"63.476562\" xlink:href=\"#DejaVuSans-65\"/>\n       <use x=\"125\" xlink:href=\"#DejaVuSans-73\"/>\n       <use x=\"177.099609\" xlink:href=\"#DejaVuSans-69\"/>\n       <use x=\"204.882812\" xlink:href=\"#DejaVuSans-67\"/>\n       <use x=\"268.359375\" xlink:href=\"#DejaVuSans-6e\"/>\n       <use x=\"331.738281\" xlink:href=\"#DejaVuSans-2f\"/>\n       <use x=\"365.429688\" xlink:href=\"#DejaVuSans-70\"/>\n       <use x=\"428.90625\" xlink:href=\"#DejaVuSans-72\"/>\n       <use x=\"467.769531\" xlink:href=\"#DejaVuSans-6f\"/>\n       <use x=\"528.951172\" xlink:href=\"#DejaVuSans-64\"/>\n       <use x=\"592.427734\" xlink:href=\"#DejaVuSans-75\"/>\n       <use x=\"655.806641\" xlink:href=\"#DejaVuSans-63\"/>\n       <use x=\"710.787109\" xlink:href=\"#DejaVuSans-74\"/>\n       <use x=\"749.996094\" xlink:href=\"#DejaVuSans-20\"/>\n       <use x=\"781.783203\" xlink:href=\"#DejaVuSans-64\"/>\n       <use x=\"845.259766\" xlink:href=\"#DejaVuSans-65\"/>\n       <use x=\"906.783203\" xlink:href=\"#DejaVuSans-73\"/>\n       <use x=\"958.882812\" xlink:href=\"#DejaVuSans-69\"/>\n       <use x=\"986.666016\" xlink:href=\"#DejaVuSans-67\"/>\n       <use x=\"1050.142578\" xlink:href=\"#DejaVuSans-6e\"/>\n      </g>\n     </g>\n    </g>\n    <g id=\"xtick_4\">\n     <g id=\"line2d_4\">\n      <g>\n       <use style=\"stroke:#000000;stroke-width:0.8;\" x=\"105.555625\" xlink:href=\"#m0be3d3009f\" y=\"239.758125\"/>\n      </g>\n     </g>\n     <g id=\"text_4\">\n      <!-- technology/robots -->\n      <g transform=\"translate(108.315 337.258125)rotate(-90)scale(0.1 -0.1)\">\n       <defs>\n        <path d=\"M 3116 1747 \nQ 3116 2381 2855 2742 \nQ 2594 3103 2138 3103 \nQ 1681 3103 1420 2742 \nQ 1159 2381 1159 1747 \nQ 1159 1113 1420 752 \nQ 1681 391 2138 391 \nQ 2594 391 2855 752 \nQ 3116 1113 3116 1747 \nz\nM 1159 2969 \nQ 1341 3281 1617 3432 \nQ 1894 3584 2278 3584 \nQ 2916 3584 3314 3078 \nQ 3713 2572 3713 1747 \nQ 3713 922 3314 415 \nQ 2916 -91 2278 -91 \nQ 1894 -91 1617 61 \nQ 1341 213 1159 525 \nL 1159 0 \nL 581 0 \nL 581 4863 \nL 1159 4863 \nL 1159 2969 \nz\n\" id=\"DejaVuSans-62\" transform=\"scale(0.015625)\"/>\n       </defs>\n       <use xlink:href=\"#DejaVuSans-74\"/>\n       <use x=\"39.208984\" xlink:href=\"#DejaVuSans-65\"/>\n       <use x=\"100.732422\" xlink:href=\"#DejaVuSans-63\"/>\n       <use x=\"155.712891\" xlink:href=\"#DejaVuSans-68\"/>\n       <use x=\"219.091797\" xlink:href=\"#DejaVuSans-6e\"/>\n       <use x=\"282.470703\" xlink:href=\"#DejaVuSans-6f\"/>\n       <use x=\"343.652344\" xlink:href=\"#DejaVuSans-6c\"/>\n       <use x=\"371.435547\" xlink:href=\"#DejaVuSans-6f\"/>\n       <use x=\"432.617188\" xlink:href=\"#DejaVuSans-67\"/>\n       <use x=\"496.09375\" xlink:href=\"#DejaVuSans-79\"/>\n       <use x=\"555.273438\" xlink:href=\"#DejaVuSans-2f\"/>\n       <use x=\"588.964844\" xlink:href=\"#DejaVuSans-72\"/>\n       <use x=\"627.828125\" xlink:href=\"#DejaVuSans-6f\"/>\n       <use x=\"689.009766\" xlink:href=\"#DejaVuSans-62\"/>\n       <use x=\"752.486328\" xlink:href=\"#DejaVuSans-6f\"/>\n       <use x=\"813.667969\" xlink:href=\"#DejaVuSans-74\"/>\n       <use x=\"852.876953\" xlink:href=\"#DejaVuSans-73\"/>\n      </g>\n     </g>\n    </g>\n    <g id=\"xtick_5\">\n     <g id=\"line2d_5\">\n      <g>\n       <use style=\"stroke:#000000;stroke-width:0.8;\" x=\"122.295625\" xlink:href=\"#m0be3d3009f\" y=\"239.758125\"/>\n      </g>\n     </g>\n     <g id=\"text_5\">\n      <!-- technology/makerspaces -->\n      <g transform=\"translate(125.055 371.764375)rotate(-90)scale(0.1 -0.1)\">\n       <defs>\n        <path d=\"M 3328 2828 \nQ 3544 3216 3844 3400 \nQ 4144 3584 4550 3584 \nQ 5097 3584 5394 3201 \nQ 5691 2819 5691 2113 \nL 5691 0 \nL 5113 0 \nL 5113 2094 \nQ 5113 2597 4934 2840 \nQ 4756 3084 4391 3084 \nQ 3944 3084 3684 2787 \nQ 3425 2491 3425 1978 \nL 3425 0 \nL 2847 0 \nL 2847 2094 \nQ 2847 2600 2669 2842 \nQ 2491 3084 2119 3084 \nQ 1678 3084 1418 2786 \nQ 1159 2488 1159 1978 \nL 1159 0 \nL 581 0 \nL 581 3500 \nL 1159 3500 \nL 1159 2956 \nQ 1356 3278 1631 3431 \nQ 1906 3584 2284 3584 \nQ 2666 3584 2933 3390 \nQ 3200 3197 3328 2828 \nz\n\" id=\"DejaVuSans-6d\" transform=\"scale(0.015625)\"/>\n        <path d=\"M 581 4863 \nL 1159 4863 \nL 1159 1991 \nL 2875 3500 \nL 3609 3500 \nL 1753 1863 \nL 3688 0 \nL 2938 0 \nL 1159 1709 \nL 1159 0 \nL 581 0 \nL 581 4863 \nz\n\" id=\"DejaVuSans-6b\" transform=\"scale(0.015625)\"/>\n       </defs>\n       <use xlink:href=\"#DejaVuSans-74\"/>\n       <use x=\"39.208984\" xlink:href=\"#DejaVuSans-65\"/>\n       <use x=\"100.732422\" xlink:href=\"#DejaVuSans-63\"/>\n       <use x=\"155.712891\" xlink:href=\"#DejaVuSans-68\"/>\n       <use x=\"219.091797\" xlink:href=\"#DejaVuSans-6e\"/>\n       <use x=\"282.470703\" xlink:href=\"#DejaVuSans-6f\"/>\n       <use x=\"343.652344\" xlink:href=\"#DejaVuSans-6c\"/>\n       <use x=\"371.435547\" xlink:href=\"#DejaVuSans-6f\"/>\n       <use x=\"432.617188\" xlink:href=\"#DejaVuSans-67\"/>\n       <use x=\"496.09375\" xlink:href=\"#DejaVuSans-79\"/>\n       <use x=\"555.273438\" xlink:href=\"#DejaVuSans-2f\"/>\n       <use x=\"588.964844\" xlink:href=\"#DejaVuSans-6d\"/>\n       <use x=\"686.376953\" xlink:href=\"#DejaVuSans-61\"/>\n       <use x=\"747.65625\" xlink:href=\"#DejaVuSans-6b\"/>\n       <use x=\"801.941406\" xlink:href=\"#DejaVuSans-65\"/>\n       <use x=\"863.464844\" xlink:href=\"#DejaVuSans-72\"/>\n       <use x=\"904.578125\" xlink:href=\"#DejaVuSans-73\"/>\n       <use x=\"956.677734\" xlink:href=\"#DejaVuSans-70\"/>\n       <use x=\"1020.154297\" xlink:href=\"#DejaVuSans-61\"/>\n       <use x=\"1081.433594\" xlink:href=\"#DejaVuSans-63\"/>\n       <use x=\"1136.414062\" xlink:href=\"#DejaVuSans-65\"/>\n       <use x=\"1197.9375\" xlink:href=\"#DejaVuSans-73\"/>\n      </g>\n     </g>\n    </g>\n    <g id=\"xtick_6\">\n     <g id=\"line2d_6\">\n      <g>\n       <use style=\"stroke:#000000;stroke-width:0.8;\" x=\"139.035625\" xlink:href=\"#m0be3d3009f\" y=\"239.758125\"/>\n      </g>\n     </g>\n     <g id=\"text_6\">\n      <!-- technology/3d printing -->\n      <g transform=\"translate(141.795 360.505)rotate(-90)scale(0.1 -0.1)\">\n       <defs>\n        <path d=\"M 2597 2516 \nQ 3050 2419 3304 2112 \nQ 3559 1806 3559 1356 \nQ 3559 666 3084 287 \nQ 2609 -91 1734 -91 \nQ 1441 -91 1130 -33 \nQ 819 25 488 141 \nL 488 750 \nQ 750 597 1062 519 \nQ 1375 441 1716 441 \nQ 2309 441 2620 675 \nQ 2931 909 2931 1356 \nQ 2931 1769 2642 2001 \nQ 2353 2234 1838 2234 \nL 1294 2234 \nL 1294 2753 \nL 1863 2753 \nQ 2328 2753 2575 2939 \nQ 2822 3125 2822 3475 \nQ 2822 3834 2567 4026 \nQ 2313 4219 1838 4219 \nQ 1578 4219 1281 4162 \nQ 984 4106 628 3988 \nL 628 4550 \nQ 988 4650 1302 4700 \nQ 1616 4750 1894 4750 \nQ 2613 4750 3031 4423 \nQ 3450 4097 3450 3541 \nQ 3450 3153 3228 2886 \nQ 3006 2619 2597 2516 \nz\n\" id=\"DejaVuSans-33\" transform=\"scale(0.015625)\"/>\n       </defs>\n       <use xlink:href=\"#DejaVuSans-74\"/>\n       <use x=\"39.208984\" xlink:href=\"#DejaVuSans-65\"/>\n       <use x=\"100.732422\" xlink:href=\"#DejaVuSans-63\"/>\n       <use x=\"155.712891\" xlink:href=\"#DejaVuSans-68\"/>\n       <use x=\"219.091797\" xlink:href=\"#DejaVuSans-6e\"/>\n       <use x=\"282.470703\" xlink:href=\"#DejaVuSans-6f\"/>\n       <use x=\"343.652344\" xlink:href=\"#DejaVuSans-6c\"/>\n       <use x=\"371.435547\" xlink:href=\"#DejaVuSans-6f\"/>\n       <use x=\"432.617188\" xlink:href=\"#DejaVuSans-67\"/>\n       <use x=\"496.09375\" xlink:href=\"#DejaVuSans-79\"/>\n       <use x=\"555.273438\" xlink:href=\"#DejaVuSans-2f\"/>\n       <use x=\"588.964844\" xlink:href=\"#DejaVuSans-33\"/>\n       <use x=\"652.587891\" xlink:href=\"#DejaVuSans-64\"/>\n       <use x=\"716.064453\" xlink:href=\"#DejaVuSans-20\"/>\n       <use x=\"747.851562\" xlink:href=\"#DejaVuSans-70\"/>\n       <use x=\"811.328125\" xlink:href=\"#DejaVuSans-72\"/>\n       <use x=\"852.441406\" xlink:href=\"#DejaVuSans-69\"/>\n       <use x=\"880.224609\" xlink:href=\"#DejaVuSans-6e\"/>\n       <use x=\"943.603516\" xlink:href=\"#DejaVuSans-74\"/>\n       <use x=\"982.8125\" xlink:href=\"#DejaVuSans-69\"/>\n       <use x=\"1010.595703\" xlink:href=\"#DejaVuSans-6e\"/>\n       <use x=\"1073.974609\" xlink:href=\"#DejaVuSans-67\"/>\n      </g>\n     </g>\n    </g>\n    <g id=\"xtick_7\">\n     <g id=\"line2d_7\">\n      <g>\n       <use style=\"stroke:#000000;stroke-width:0.8;\" x=\"155.775625\" xlink:href=\"#m0be3d3009f\" y=\"239.758125\"/>\n      </g>\n     </g>\n     <g id=\"text_7\">\n      <!-- technology -->\n      <g transform=\"translate(158.535 302.287812)rotate(-90)scale(0.1 -0.1)\">\n       <use xlink:href=\"#DejaVuSans-74\"/>\n       <use x=\"39.208984\" xlink:href=\"#DejaVuSans-65\"/>\n       <use x=\"100.732422\" xlink:href=\"#DejaVuSans-63\"/>\n       <use x=\"155.712891\" xlink:href=\"#DejaVuSans-68\"/>\n       <use x=\"219.091797\" xlink:href=\"#DejaVuSans-6e\"/>\n       <use x=\"282.470703\" xlink:href=\"#DejaVuSans-6f\"/>\n       <use x=\"343.652344\" xlink:href=\"#DejaVuSans-6c\"/>\n       <use x=\"371.435547\" xlink:href=\"#DejaVuSans-6f\"/>\n       <use x=\"432.617188\" xlink:href=\"#DejaVuSans-67\"/>\n       <use x=\"496.09375\" xlink:href=\"#DejaVuSans-79\"/>\n      </g>\n     </g>\n    </g>\n    <g id=\"xtick_8\">\n     <g id=\"line2d_8\">\n      <g>\n       <use style=\"stroke:#000000;stroke-width:0.8;\" x=\"172.515625\" xlink:href=\"#m0be3d3009f\" y=\"239.758125\"/>\n      </g>\n     </g>\n     <g id=\"text_8\">\n      <!-- technology/camera equipment -->\n      <g transform=\"translate(175.275 400.71125)rotate(-90)scale(0.1 -0.1)\">\n       <defs>\n        <path d=\"M 947 1747 \nQ 947 1113 1208 752 \nQ 1469 391 1925 391 \nQ 2381 391 2643 752 \nQ 2906 1113 2906 1747 \nQ 2906 2381 2643 2742 \nQ 2381 3103 1925 3103 \nQ 1469 3103 1208 2742 \nQ 947 2381 947 1747 \nz\nM 2906 525 \nQ 2725 213 2448 61 \nQ 2172 -91 1784 -91 \nQ 1150 -91 751 415 \nQ 353 922 353 1747 \nQ 353 2572 751 3078 \nQ 1150 3584 1784 3584 \nQ 2172 3584 2448 3432 \nQ 2725 3281 2906 2969 \nL 2906 3500 \nL 3481 3500 \nL 3481 -1331 \nL 2906 -1331 \nL 2906 525 \nz\n\" id=\"DejaVuSans-71\" transform=\"scale(0.015625)\"/>\n       </defs>\n       <use xlink:href=\"#DejaVuSans-74\"/>\n       <use x=\"39.208984\" xlink:href=\"#DejaVuSans-65\"/>\n       <use x=\"100.732422\" xlink:href=\"#DejaVuSans-63\"/>\n       <use x=\"155.712891\" xlink:href=\"#DejaVuSans-68\"/>\n       <use x=\"219.091797\" xlink:href=\"#DejaVuSans-6e\"/>\n       <use x=\"282.470703\" xlink:href=\"#DejaVuSans-6f\"/>\n       <use x=\"343.652344\" xlink:href=\"#DejaVuSans-6c\"/>\n       <use x=\"371.435547\" xlink:href=\"#DejaVuSans-6f\"/>\n       <use x=\"432.617188\" xlink:href=\"#DejaVuSans-67\"/>\n       <use x=\"496.09375\" xlink:href=\"#DejaVuSans-79\"/>\n       <use x=\"555.273438\" xlink:href=\"#DejaVuSans-2f\"/>\n       <use x=\"588.964844\" xlink:href=\"#DejaVuSans-63\"/>\n       <use x=\"643.945312\" xlink:href=\"#DejaVuSans-61\"/>\n       <use x=\"705.224609\" xlink:href=\"#DejaVuSans-6d\"/>\n       <use x=\"802.636719\" xlink:href=\"#DejaVuSans-65\"/>\n       <use x=\"864.160156\" xlink:href=\"#DejaVuSans-72\"/>\n       <use x=\"905.273438\" xlink:href=\"#DejaVuSans-61\"/>\n       <use x=\"966.552734\" xlink:href=\"#DejaVuSans-20\"/>\n       <use x=\"998.339844\" xlink:href=\"#DejaVuSans-65\"/>\n       <use x=\"1059.863281\" xlink:href=\"#DejaVuSans-71\"/>\n       <use x=\"1123.339844\" xlink:href=\"#DejaVuSans-75\"/>\n       <use x=\"1186.71875\" xlink:href=\"#DejaVuSans-69\"/>\n       <use x=\"1214.501953\" xlink:href=\"#DejaVuSans-70\"/>\n       <use x=\"1277.978516\" xlink:href=\"#DejaVuSans-6d\"/>\n       <use x=\"1375.390625\" xlink:href=\"#DejaVuSans-65\"/>\n       <use x=\"1436.914062\" xlink:href=\"#DejaVuSans-6e\"/>\n       <use x=\"1500.292969\" xlink:href=\"#DejaVuSans-74\"/>\n      </g>\n     </g>\n    </g>\n    <g id=\"xtick_9\">\n     <g id=\"line2d_9\">\n      <g>\n       <use style=\"stroke:#000000;stroke-width:0.8;\" x=\"189.255625\" xlink:href=\"#m0be3d3009f\" y=\"239.758125\"/>\n      </g>\n     </g>\n     <g id=\"text_9\">\n      <!-- technology/hardware -->\n      <g transform=\"translate(192.015 352.751875)rotate(-90)scale(0.1 -0.1)\">\n       <defs>\n        <path d=\"M 269 3500 \nL 844 3500 \nL 1563 769 \nL 2278 3500 \nL 2956 3500 \nL 3675 769 \nL 4391 3500 \nL 4966 3500 \nL 4050 0 \nL 3372 0 \nL 2619 2869 \nL 1863 0 \nL 1184 0 \nL 269 3500 \nz\n\" id=\"DejaVuSans-77\" transform=\"scale(0.015625)\"/>\n       </defs>\n       <use xlink:href=\"#DejaVuSans-74\"/>\n       <use x=\"39.208984\" xlink:href=\"#DejaVuSans-65\"/>\n       <use x=\"100.732422\" xlink:href=\"#DejaVuSans-63\"/>\n       <use x=\"155.712891\" xlink:href=\"#DejaVuSans-68\"/>\n       <use x=\"219.091797\" xlink:href=\"#DejaVuSans-6e\"/>\n       <use x=\"282.470703\" xlink:href=\"#DejaVuSans-6f\"/>\n       <use x=\"343.652344\" xlink:href=\"#DejaVuSans-6c\"/>\n       <use x=\"371.435547\" xlink:href=\"#DejaVuSans-6f\"/>\n       <use x=\"432.617188\" xlink:href=\"#DejaVuSans-67\"/>\n       <use x=\"496.09375\" xlink:href=\"#DejaVuSans-79\"/>\n       <use x=\"555.273438\" xlink:href=\"#DejaVuSans-2f\"/>\n       <use x=\"588.964844\" xlink:href=\"#DejaVuSans-68\"/>\n       <use x=\"652.34375\" xlink:href=\"#DejaVuSans-61\"/>\n       <use x=\"713.623047\" xlink:href=\"#DejaVuSans-72\"/>\n       <use x=\"752.986328\" xlink:href=\"#DejaVuSans-64\"/>\n       <use x=\"816.462891\" xlink:href=\"#DejaVuSans-77\"/>\n       <use x=\"898.25\" xlink:href=\"#DejaVuSans-61\"/>\n       <use x=\"959.529297\" xlink:href=\"#DejaVuSans-72\"/>\n       <use x=\"998.392578\" xlink:href=\"#DejaVuSans-65\"/>\n      </g>\n     </g>\n    </g>\n    <g id=\"xtick_10\">\n     <g id=\"line2d_10\">\n      <g>\n       <use style=\"stroke:#000000;stroke-width:0.8;\" x=\"205.995625\" xlink:href=\"#m0be3d3009f\" y=\"239.758125\"/>\n      </g>\n     </g>\n     <g id=\"text_10\">\n      <!-- technology/gadgets -->\n      <g transform=\"translate(208.755 346.112813)rotate(-90)scale(0.1 -0.1)\">\n       <use xlink:href=\"#DejaVuSans-74\"/>\n       <use x=\"39.208984\" xlink:href=\"#DejaVuSans-65\"/>\n       <use x=\"100.732422\" xlink:href=\"#DejaVuSans-63\"/>\n       <use x=\"155.712891\" xlink:href=\"#DejaVuSans-68\"/>\n       <use x=\"219.091797\" xlink:href=\"#DejaVuSans-6e\"/>\n       <use x=\"282.470703\" xlink:href=\"#DejaVuSans-6f\"/>\n       <use x=\"343.652344\" xlink:href=\"#DejaVuSans-6c\"/>\n       <use x=\"371.435547\" xlink:href=\"#DejaVuSans-6f\"/>\n       <use x=\"432.617188\" xlink:href=\"#DejaVuSans-67\"/>\n       <use x=\"496.09375\" xlink:href=\"#DejaVuSans-79\"/>\n       <use x=\"555.273438\" xlink:href=\"#DejaVuSans-2f\"/>\n       <use x=\"588.964844\" xlink:href=\"#DejaVuSans-67\"/>\n       <use x=\"652.441406\" xlink:href=\"#DejaVuSans-61\"/>\n       <use x=\"713.720703\" xlink:href=\"#DejaVuSans-64\"/>\n       <use x=\"777.197266\" xlink:href=\"#DejaVuSans-67\"/>\n       <use x=\"840.673828\" xlink:href=\"#DejaVuSans-65\"/>\n       <use x=\"902.197266\" xlink:href=\"#DejaVuSans-74\"/>\n       <use x=\"941.40625\" xlink:href=\"#DejaVuSans-73\"/>\n      </g>\n     </g>\n    </g>\n    <g id=\"xtick_11\">\n     <g id=\"line2d_11\">\n      <g>\n       <use style=\"stroke:#000000;stroke-width:0.8;\" x=\"222.735625\" xlink:href=\"#m0be3d3009f\" y=\"239.758125\"/>\n      </g>\n     </g>\n     <g id=\"text_11\">\n      <!-- technology/fabrication tools -->\n      <g transform=\"translate(225.495 386.647187)rotate(-90)scale(0.1 -0.1)\">\n       <use xlink:href=\"#DejaVuSans-74\"/>\n       <use x=\"39.208984\" xlink:href=\"#DejaVuSans-65\"/>\n       <use x=\"100.732422\" xlink:href=\"#DejaVuSans-63\"/>\n       <use x=\"155.712891\" xlink:href=\"#DejaVuSans-68\"/>\n       <use x=\"219.091797\" xlink:href=\"#DejaVuSans-6e\"/>\n       <use x=\"282.470703\" xlink:href=\"#DejaVuSans-6f\"/>\n       <use x=\"343.652344\" xlink:href=\"#DejaVuSans-6c\"/>\n       <use x=\"371.435547\" xlink:href=\"#DejaVuSans-6f\"/>\n       <use x=\"432.617188\" xlink:href=\"#DejaVuSans-67\"/>\n       <use x=\"496.09375\" xlink:href=\"#DejaVuSans-79\"/>\n       <use x=\"555.273438\" xlink:href=\"#DejaVuSans-2f\"/>\n       <use x=\"588.964844\" xlink:href=\"#DejaVuSans-66\"/>\n       <use x=\"624.169922\" xlink:href=\"#DejaVuSans-61\"/>\n       <use x=\"685.449219\" xlink:href=\"#DejaVuSans-62\"/>\n       <use x=\"748.925781\" xlink:href=\"#DejaVuSans-72\"/>\n       <use x=\"790.039062\" xlink:href=\"#DejaVuSans-69\"/>\n       <use x=\"817.822266\" xlink:href=\"#DejaVuSans-63\"/>\n       <use x=\"872.802734\" xlink:href=\"#DejaVuSans-61\"/>\n       <use x=\"934.082031\" xlink:href=\"#DejaVuSans-74\"/>\n       <use x=\"973.291016\" xlink:href=\"#DejaVuSans-69\"/>\n       <use x=\"1001.074219\" xlink:href=\"#DejaVuSans-6f\"/>\n       <use x=\"1062.255859\" xlink:href=\"#DejaVuSans-6e\"/>\n       <use x=\"1125.634766\" xlink:href=\"#DejaVuSans-20\"/>\n       <use x=\"1157.421875\" xlink:href=\"#DejaVuSans-74\"/>\n       <use x=\"1196.630859\" xlink:href=\"#DejaVuSans-6f\"/>\n       <use x=\"1257.8125\" xlink:href=\"#DejaVuSans-6f\"/>\n       <use x=\"1318.994141\" xlink:href=\"#DejaVuSans-6c\"/>\n       <use x=\"1346.777344\" xlink:href=\"#DejaVuSans-73\"/>\n      </g>\n     </g>\n    </g>\n    <g id=\"xtick_12\">\n     <g id=\"line2d_12\">\n      <g>\n       <use style=\"stroke:#000000;stroke-width:0.8;\" x=\"239.475625\" xlink:href=\"#m0be3d3009f\" y=\"239.758125\"/>\n      </g>\n     </g>\n     <g id=\"text_12\">\n      <!-- publishing -->\n      <g transform=\"translate(242.235 298.359687)rotate(-90)scale(0.1 -0.1)\">\n       <use xlink:href=\"#DejaVuSans-70\"/>\n       <use x=\"63.476562\" xlink:href=\"#DejaVuSans-75\"/>\n       <use x=\"126.855469\" xlink:href=\"#DejaVuSans-62\"/>\n       <use x=\"190.332031\" xlink:href=\"#DejaVuSans-6c\"/>\n       <use x=\"218.115234\" xlink:href=\"#DejaVuSans-69\"/>\n       <use x=\"245.898438\" xlink:href=\"#DejaVuSans-73\"/>\n       <use x=\"297.998047\" xlink:href=\"#DejaVuSans-68\"/>\n       <use x=\"361.376953\" xlink:href=\"#DejaVuSans-69\"/>\n       <use x=\"389.160156\" xlink:href=\"#DejaVuSans-6e\"/>\n       <use x=\"452.539062\" xlink:href=\"#DejaVuSans-67\"/>\n      </g>\n     </g>\n    </g>\n    <g id=\"xtick_13\">\n     <g id=\"line2d_13\">\n      <g>\n       <use style=\"stroke:#000000;stroke-width:0.8;\" x=\"256.215625\" xlink:href=\"#m0be3d3009f\" y=\"239.758125\"/>\n      </g>\n     </g>\n     <g id=\"text_13\">\n      <!-- technology/wearables -->\n      <g transform=\"translate(258.975 356.844062)rotate(-90)scale(0.1 -0.1)\">\n       <use xlink:href=\"#DejaVuSans-74\"/>\n       <use x=\"39.208984\" xlink:href=\"#DejaVuSans-65\"/>\n       <use x=\"100.732422\" xlink:href=\"#DejaVuSans-63\"/>\n       <use x=\"155.712891\" xlink:href=\"#DejaVuSans-68\"/>\n       <use x=\"219.091797\" xlink:href=\"#DejaVuSans-6e\"/>\n       <use x=\"282.470703\" xlink:href=\"#DejaVuSans-6f\"/>\n       <use x=\"343.652344\" xlink:href=\"#DejaVuSans-6c\"/>\n       <use x=\"371.435547\" xlink:href=\"#DejaVuSans-6f\"/>\n       <use x=\"432.617188\" xlink:href=\"#DejaVuSans-67\"/>\n       <use x=\"496.09375\" xlink:href=\"#DejaVuSans-79\"/>\n       <use x=\"555.273438\" xlink:href=\"#DejaVuSans-2f\"/>\n       <use x=\"588.964844\" xlink:href=\"#DejaVuSans-77\"/>\n       <use x=\"670.751953\" xlink:href=\"#DejaVuSans-65\"/>\n       <use x=\"732.275391\" xlink:href=\"#DejaVuSans-61\"/>\n       <use x=\"793.554688\" xlink:href=\"#DejaVuSans-72\"/>\n       <use x=\"834.667969\" xlink:href=\"#DejaVuSans-61\"/>\n       <use x=\"895.947266\" xlink:href=\"#DejaVuSans-62\"/>\n       <use x=\"959.423828\" xlink:href=\"#DejaVuSans-6c\"/>\n       <use x=\"987.207031\" xlink:href=\"#DejaVuSans-65\"/>\n       <use x=\"1048.730469\" xlink:href=\"#DejaVuSans-73\"/>\n      </g>\n     </g>\n    </g>\n    <g id=\"xtick_14\">\n     <g id=\"line2d_14\">\n      <g>\n       <use style=\"stroke:#000000;stroke-width:0.8;\" x=\"272.955625\" xlink:href=\"#m0be3d3009f\" y=\"239.758125\"/>\n      </g>\n     </g>\n     <g id=\"text_14\">\n      <!-- technology/diy electronics -->\n      <g transform=\"translate(275.715 378.21125)rotate(-90)scale(0.1 -0.1)\">\n       <use xlink:href=\"#DejaVuSans-74\"/>\n       <use x=\"39.208984\" xlink:href=\"#DejaVuSans-65\"/>\n       <use x=\"100.732422\" xlink:href=\"#DejaVuSans-63\"/>\n       <use x=\"155.712891\" xlink:href=\"#DejaVuSans-68\"/>\n       <use x=\"219.091797\" xlink:href=\"#DejaVuSans-6e\"/>\n       <use x=\"282.470703\" xlink:href=\"#DejaVuSans-6f\"/>\n       <use x=\"343.652344\" xlink:href=\"#DejaVuSans-6c\"/>\n       <use x=\"371.435547\" xlink:href=\"#DejaVuSans-6f\"/>\n       <use x=\"432.617188\" xlink:href=\"#DejaVuSans-67\"/>\n       <use x=\"496.09375\" xlink:href=\"#DejaVuSans-79\"/>\n       <use x=\"555.273438\" xlink:href=\"#DejaVuSans-2f\"/>\n       <use x=\"588.964844\" xlink:href=\"#DejaVuSans-64\"/>\n       <use x=\"652.441406\" xlink:href=\"#DejaVuSans-69\"/>\n       <use x=\"680.224609\" xlink:href=\"#DejaVuSans-79\"/>\n       <use x=\"739.404297\" xlink:href=\"#DejaVuSans-20\"/>\n       <use x=\"771.191406\" xlink:href=\"#DejaVuSans-65\"/>\n       <use x=\"832.714844\" xlink:href=\"#DejaVuSans-6c\"/>\n       <use x=\"860.498047\" xlink:href=\"#DejaVuSans-65\"/>\n       <use x=\"922.021484\" xlink:href=\"#DejaVuSans-63\"/>\n       <use x=\"977.001953\" xlink:href=\"#DejaVuSans-74\"/>\n       <use x=\"1016.210938\" xlink:href=\"#DejaVuSans-72\"/>\n       <use x=\"1055.074219\" xlink:href=\"#DejaVuSans-6f\"/>\n       <use x=\"1116.255859\" xlink:href=\"#DejaVuSans-6e\"/>\n       <use x=\"1179.634766\" xlink:href=\"#DejaVuSans-69\"/>\n       <use x=\"1207.417969\" xlink:href=\"#DejaVuSans-63\"/>\n       <use x=\"1262.398438\" xlink:href=\"#DejaVuSans-73\"/>\n      </g>\n     </g>\n    </g>\n    <g id=\"xtick_15\">\n     <g id=\"line2d_15\">\n      <g>\n       <use style=\"stroke:#000000;stroke-width:0.8;\" x=\"289.695625\" xlink:href=\"#m0be3d3009f\" y=\"239.758125\"/>\n      </g>\n     </g>\n     <g id=\"text_15\">\n      <!-- film &amp; video -->\n      <g transform=\"translate(292.455 307.047187)rotate(-90)scale(0.1 -0.1)\">\n       <defs>\n        <path d=\"M 1556 2509 \nQ 1272 2256 1139 2004 \nQ 1006 1753 1006 1478 \nQ 1006 1022 1337 719 \nQ 1669 416 2169 416 \nQ 2466 416 2725 514 \nQ 2984 613 3213 813 \nL 1556 2509 \nz\nM 1997 2859 \nL 3584 1234 \nQ 3769 1513 3872 1830 \nQ 3975 2147 3994 2503 \nL 4575 2503 \nQ 4538 2091 4375 1687 \nQ 4213 1284 3922 891 \nL 4794 0 \nL 4006 0 \nL 3559 459 \nQ 3234 181 2878 45 \nQ 2522 -91 2113 -91 \nQ 1359 -91 881 339 \nQ 403 769 403 1441 \nQ 403 1841 612 2192 \nQ 822 2544 1241 2853 \nQ 1091 3050 1012 3245 \nQ 934 3441 934 3628 \nQ 934 4134 1281 4442 \nQ 1628 4750 2203 4750 \nQ 2463 4750 2720 4694 \nQ 2978 4638 3244 4525 \nL 3244 3956 \nQ 2972 4103 2725 4179 \nQ 2478 4256 2266 4256 \nQ 1938 4256 1733 4082 \nQ 1528 3909 1528 3634 \nQ 1528 3475 1620 3314 \nQ 1713 3153 1997 2859 \nz\n\" id=\"DejaVuSans-26\" transform=\"scale(0.015625)\"/>\n        <path d=\"M 191 3500 \nL 800 3500 \nL 1894 563 \nL 2988 3500 \nL 3597 3500 \nL 2284 0 \nL 1503 0 \nL 191 3500 \nz\n\" id=\"DejaVuSans-76\" transform=\"scale(0.015625)\"/>\n       </defs>\n       <use xlink:href=\"#DejaVuSans-66\"/>\n       <use x=\"35.205078\" xlink:href=\"#DejaVuSans-69\"/>\n       <use x=\"62.988281\" xlink:href=\"#DejaVuSans-6c\"/>\n       <use x=\"90.771484\" xlink:href=\"#DejaVuSans-6d\"/>\n       <use x=\"188.183594\" xlink:href=\"#DejaVuSans-20\"/>\n       <use x=\"219.970703\" xlink:href=\"#DejaVuSans-26\"/>\n       <use x=\"297.949219\" xlink:href=\"#DejaVuSans-20\"/>\n       <use x=\"329.736328\" xlink:href=\"#DejaVuSans-76\"/>\n       <use x=\"388.916016\" xlink:href=\"#DejaVuSans-69\"/>\n       <use x=\"416.699219\" xlink:href=\"#DejaVuSans-64\"/>\n       <use x=\"480.175781\" xlink:href=\"#DejaVuSans-65\"/>\n       <use x=\"541.699219\" xlink:href=\"#DejaVuSans-6f\"/>\n      </g>\n     </g>\n    </g>\n    <g id=\"xtick_16\">\n     <g id=\"line2d_16\">\n      <g>\n       <use style=\"stroke:#000000;stroke-width:0.8;\" x=\"306.435625\" xlink:href=\"#m0be3d3009f\" y=\"239.758125\"/>\n      </g>\n     </g>\n     <g id=\"text_16\">\n      <!-- film &amp; video/documentary -->\n      <g transform=\"translate(309.195 377.028437)rotate(-90)scale(0.1 -0.1)\">\n       <use xlink:href=\"#DejaVuSans-66\"/>\n       <use x=\"35.205078\" xlink:href=\"#DejaVuSans-69\"/>\n       <use x=\"62.988281\" xlink:href=\"#DejaVuSans-6c\"/>\n       <use x=\"90.771484\" xlink:href=\"#DejaVuSans-6d\"/>\n       <use x=\"188.183594\" xlink:href=\"#DejaVuSans-20\"/>\n       <use x=\"219.970703\" xlink:href=\"#DejaVuSans-26\"/>\n       <use x=\"297.949219\" xlink:href=\"#DejaVuSans-20\"/>\n       <use x=\"329.736328\" xlink:href=\"#DejaVuSans-76\"/>\n       <use x=\"388.916016\" xlink:href=\"#DejaVuSans-69\"/>\n       <use x=\"416.699219\" xlink:href=\"#DejaVuSans-64\"/>\n       <use x=\"480.175781\" xlink:href=\"#DejaVuSans-65\"/>\n       <use x=\"541.699219\" xlink:href=\"#DejaVuSans-6f\"/>\n       <use x=\"602.880859\" xlink:href=\"#DejaVuSans-2f\"/>\n       <use x=\"636.572266\" xlink:href=\"#DejaVuSans-64\"/>\n       <use x=\"700.048828\" xlink:href=\"#DejaVuSans-6f\"/>\n       <use x=\"761.230469\" xlink:href=\"#DejaVuSans-63\"/>\n       <use x=\"816.210938\" xlink:href=\"#DejaVuSans-75\"/>\n       <use x=\"879.589844\" xlink:href=\"#DejaVuSans-6d\"/>\n       <use x=\"977.001953\" xlink:href=\"#DejaVuSans-65\"/>\n       <use x=\"1038.525391\" xlink:href=\"#DejaVuSans-6e\"/>\n       <use x=\"1101.904297\" xlink:href=\"#DejaVuSans-74\"/>\n       <use x=\"1141.113281\" xlink:href=\"#DejaVuSans-61\"/>\n       <use x=\"1202.392578\" xlink:href=\"#DejaVuSans-72\"/>\n       <use x=\"1243.505859\" xlink:href=\"#DejaVuSans-79\"/>\n      </g>\n     </g>\n    </g>\n    <g id=\"xtick_17\">\n     <g id=\"line2d_17\">\n      <g>\n       <use style=\"stroke:#000000;stroke-width:0.8;\" x=\"323.175625\" xlink:href=\"#m0be3d3009f\" y=\"239.758125\"/>\n      </g>\n     </g>\n     <g id=\"text_17\">\n      <!-- design -->\n      <g transform=\"translate(325.935 279.933125)rotate(-90)scale(0.1 -0.1)\">\n       <use xlink:href=\"#DejaVuSans-64\"/>\n       <use x=\"63.476562\" xlink:href=\"#DejaVuSans-65\"/>\n       <use x=\"125\" xlink:href=\"#DejaVuSans-73\"/>\n       <use x=\"177.099609\" xlink:href=\"#DejaVuSans-69\"/>\n       <use x=\"204.882812\" xlink:href=\"#DejaVuSans-67\"/>\n       <use x=\"268.359375\" xlink:href=\"#DejaVuSans-6e\"/>\n      </g>\n     </g>\n    </g>\n    <g id=\"xtick_18\">\n     <g id=\"line2d_18\">\n      <g>\n       <use style=\"stroke:#000000;stroke-width:0.8;\" x=\"339.915625\" xlink:href=\"#m0be3d3009f\" y=\"239.758125\"/>\n      </g>\n     </g>\n     <g id=\"text_18\">\n      <!-- film &amp; video/shorts -->\n      <g transform=\"translate(342.675 341.322187)rotate(-90)scale(0.1 -0.1)\">\n       <use xlink:href=\"#DejaVuSans-66\"/>\n       <use x=\"35.205078\" xlink:href=\"#DejaVuSans-69\"/>\n       <use x=\"62.988281\" xlink:href=\"#DejaVuSans-6c\"/>\n       <use x=\"90.771484\" xlink:href=\"#DejaVuSans-6d\"/>\n       <use x=\"188.183594\" xlink:href=\"#DejaVuSans-20\"/>\n       <use x=\"219.970703\" xlink:href=\"#DejaVuSans-26\"/>\n       <use x=\"297.949219\" xlink:href=\"#DejaVuSans-20\"/>\n       <use x=\"329.736328\" xlink:href=\"#DejaVuSans-76\"/>\n       <use x=\"388.916016\" xlink:href=\"#DejaVuSans-69\"/>\n       <use x=\"416.699219\" xlink:href=\"#DejaVuSans-64\"/>\n       <use x=\"480.175781\" xlink:href=\"#DejaVuSans-65\"/>\n       <use x=\"541.699219\" xlink:href=\"#DejaVuSans-6f\"/>\n       <use x=\"602.880859\" xlink:href=\"#DejaVuSans-2f\"/>\n       <use x=\"636.572266\" xlink:href=\"#DejaVuSans-73\"/>\n       <use x=\"688.671875\" xlink:href=\"#DejaVuSans-68\"/>\n       <use x=\"752.050781\" xlink:href=\"#DejaVuSans-6f\"/>\n       <use x=\"813.232422\" xlink:href=\"#DejaVuSans-72\"/>\n       <use x=\"854.345703\" xlink:href=\"#DejaVuSans-74\"/>\n       <use x=\"893.554688\" xlink:href=\"#DejaVuSans-73\"/>\n      </g>\n     </g>\n    </g>\n    <g id=\"xtick_19\">\n     <g id=\"line2d_19\">\n      <g>\n       <use style=\"stroke:#000000;stroke-width:0.8;\" x=\"356.655625\" xlink:href=\"#m0be3d3009f\" y=\"239.758125\"/>\n      </g>\n     </g>\n     <g id=\"text_19\">\n      <!-- fashion -->\n      <g transform=\"translate(359.415 283.187812)rotate(-90)scale(0.1 -0.1)\">\n       <use xlink:href=\"#DejaVuSans-66\"/>\n       <use x=\"35.205078\" xlink:href=\"#DejaVuSans-61\"/>\n       <use x=\"96.484375\" xlink:href=\"#DejaVuSans-73\"/>\n       <use x=\"148.583984\" xlink:href=\"#DejaVuSans-68\"/>\n       <use x=\"211.962891\" xlink:href=\"#DejaVuSans-69\"/>\n       <use x=\"239.746094\" xlink:href=\"#DejaVuSans-6f\"/>\n       <use x=\"300.927734\" xlink:href=\"#DejaVuSans-6e\"/>\n      </g>\n     </g>\n    </g>\n    <g id=\"xtick_20\">\n     <g id=\"line2d_20\">\n      <g>\n       <use style=\"stroke:#000000;stroke-width:0.8;\" x=\"373.395625\" xlink:href=\"#m0be3d3009f\" y=\"239.758125\"/>\n      </g>\n     </g>\n     <g id=\"text_20\">\n      <!-- fashion/footwear -->\n      <g transform=\"translate(376.155 330.805)rotate(-90)scale(0.1 -0.1)\">\n       <use xlink:href=\"#DejaVuSans-66\"/>\n       <use x=\"35.205078\" xlink:href=\"#DejaVuSans-61\"/>\n       <use x=\"96.484375\" xlink:href=\"#DejaVuSans-73\"/>\n       <use x=\"148.583984\" xlink:href=\"#DejaVuSans-68\"/>\n       <use x=\"211.962891\" xlink:href=\"#DejaVuSans-69\"/>\n       <use x=\"239.746094\" xlink:href=\"#DejaVuSans-6f\"/>\n       <use x=\"300.927734\" xlink:href=\"#DejaVuSans-6e\"/>\n       <use x=\"364.306641\" xlink:href=\"#DejaVuSans-2f\"/>\n       <use x=\"397.998047\" xlink:href=\"#DejaVuSans-66\"/>\n       <use x=\"433.203125\" xlink:href=\"#DejaVuSans-6f\"/>\n       <use x=\"494.384766\" xlink:href=\"#DejaVuSans-6f\"/>\n       <use x=\"555.566406\" xlink:href=\"#DejaVuSans-74\"/>\n       <use x=\"594.775391\" xlink:href=\"#DejaVuSans-77\"/>\n       <use x=\"676.5625\" xlink:href=\"#DejaVuSans-65\"/>\n       <use x=\"738.085938\" xlink:href=\"#DejaVuSans-61\"/>\n       <use x=\"799.365234\" xlink:href=\"#DejaVuSans-72\"/>\n      </g>\n     </g>\n    </g>\n    <g id=\"text_21\">\n     <!-- Categories -->\n     <g transform=\"translate(187.414063 412.309687)scale(0.1 -0.1)\">\n      <defs>\n       <path d=\"M 4122 4306 \nL 4122 3641 \nQ 3803 3938 3442 4084 \nQ 3081 4231 2675 4231 \nQ 1875 4231 1450 3742 \nQ 1025 3253 1025 2328 \nQ 1025 1406 1450 917 \nQ 1875 428 2675 428 \nQ 3081 428 3442 575 \nQ 3803 722 4122 1019 \nL 4122 359 \nQ 3791 134 3420 21 \nQ 3050 -91 2638 -91 \nQ 1578 -91 968 557 \nQ 359 1206 359 2328 \nQ 359 3453 968 4101 \nQ 1578 4750 2638 4750 \nQ 3056 4750 3426 4639 \nQ 3797 4528 4122 4306 \nz\n\" id=\"DejaVuSans-43\" transform=\"scale(0.015625)\"/>\n      </defs>\n      <use xlink:href=\"#DejaVuSans-43\"/>\n      <use x=\"69.824219\" xlink:href=\"#DejaVuSans-61\"/>\n      <use x=\"131.103516\" xlink:href=\"#DejaVuSans-74\"/>\n      <use x=\"170.3125\" xlink:href=\"#DejaVuSans-65\"/>\n      <use x=\"231.835938\" xlink:href=\"#DejaVuSans-67\"/>\n      <use x=\"295.3125\" xlink:href=\"#DejaVuSans-6f\"/>\n      <use x=\"356.494141\" xlink:href=\"#DejaVuSans-72\"/>\n      <use x=\"397.607422\" xlink:href=\"#DejaVuSans-69\"/>\n      <use x=\"425.390625\" xlink:href=\"#DejaVuSans-65\"/>\n      <use x=\"486.914062\" xlink:href=\"#DejaVuSans-73\"/>\n     </g>\n    </g>\n   </g>\n   <g id=\"matplotlib.axis_2\">\n    <g id=\"ytick_1\">\n     <g id=\"line2d_21\">\n      <defs>\n       <path d=\"M 0 0 \nL -3.5 0 \n\" id=\"m2e6eee5793\" style=\"stroke:#000000;stroke-width:0.8;\"/>\n      </defs>\n      <g>\n       <use style=\"stroke:#000000;stroke-width:0.8;\" x=\"46.965625\" xlink:href=\"#m2e6eee5793\" y=\"239.758125\"/>\n      </g>\n     </g>\n     <g id=\"text_22\">\n      <!-- 0 -->\n      <g transform=\"translate(33.603125 243.557344)scale(0.1 -0.1)\">\n       <defs>\n        <path d=\"M 2034 4250 \nQ 1547 4250 1301 3770 \nQ 1056 3291 1056 2328 \nQ 1056 1369 1301 889 \nQ 1547 409 2034 409 \nQ 2525 409 2770 889 \nQ 3016 1369 3016 2328 \nQ 3016 3291 2770 3770 \nQ 2525 4250 2034 4250 \nz\nM 2034 4750 \nQ 2819 4750 3233 4129 \nQ 3647 3509 3647 2328 \nQ 3647 1150 3233 529 \nQ 2819 -91 2034 -91 \nQ 1250 -91 836 529 \nQ 422 1150 422 2328 \nQ 422 3509 836 4129 \nQ 1250 4750 2034 4750 \nz\n\" id=\"DejaVuSans-30\" transform=\"scale(0.015625)\"/>\n       </defs>\n       <use xlink:href=\"#DejaVuSans-30\"/>\n      </g>\n     </g>\n    </g>\n    <g id=\"ytick_2\">\n     <g id=\"line2d_22\">\n      <g>\n       <use style=\"stroke:#000000;stroke-width:0.8;\" x=\"46.965625\" xlink:href=\"#m2e6eee5793\" y=\"192.008628\"/>\n      </g>\n     </g>\n     <g id=\"text_23\">\n      <!-- 200 -->\n      <g transform=\"translate(20.878125 195.807847)scale(0.1 -0.1)\">\n       <defs>\n        <path d=\"M 1228 531 \nL 3431 531 \nL 3431 0 \nL 469 0 \nL 469 531 \nQ 828 903 1448 1529 \nQ 2069 2156 2228 2338 \nQ 2531 2678 2651 2914 \nQ 2772 3150 2772 3378 \nQ 2772 3750 2511 3984 \nQ 2250 4219 1831 4219 \nQ 1534 4219 1204 4116 \nQ 875 4013 500 3803 \nL 500 4441 \nQ 881 4594 1212 4672 \nQ 1544 4750 1819 4750 \nQ 2544 4750 2975 4387 \nQ 3406 4025 3406 3419 \nQ 3406 3131 3298 2873 \nQ 3191 2616 2906 2266 \nQ 2828 2175 2409 1742 \nQ 1991 1309 1228 531 \nz\n\" id=\"DejaVuSans-32\" transform=\"scale(0.015625)\"/>\n       </defs>\n       <use xlink:href=\"#DejaVuSans-32\"/>\n       <use x=\"63.623047\" xlink:href=\"#DejaVuSans-30\"/>\n       <use x=\"127.246094\" xlink:href=\"#DejaVuSans-30\"/>\n      </g>\n     </g>\n    </g>\n    <g id=\"ytick_3\">\n     <g id=\"line2d_23\">\n      <g>\n       <use style=\"stroke:#000000;stroke-width:0.8;\" x=\"46.965625\" xlink:href=\"#m2e6eee5793\" y=\"144.259131\"/>\n      </g>\n     </g>\n     <g id=\"text_24\">\n      <!-- 400 -->\n      <g transform=\"translate(20.878125 148.05835)scale(0.1 -0.1)\">\n       <defs>\n        <path d=\"M 2419 4116 \nL 825 1625 \nL 2419 1625 \nL 2419 4116 \nz\nM 2253 4666 \nL 3047 4666 \nL 3047 1625 \nL 3713 1625 \nL 3713 1100 \nL 3047 1100 \nL 3047 0 \nL 2419 0 \nL 2419 1100 \nL 313 1100 \nL 313 1709 \nL 2253 4666 \nz\n\" id=\"DejaVuSans-34\" transform=\"scale(0.015625)\"/>\n       </defs>\n       <use xlink:href=\"#DejaVuSans-34\"/>\n       <use x=\"63.623047\" xlink:href=\"#DejaVuSans-30\"/>\n       <use x=\"127.246094\" xlink:href=\"#DejaVuSans-30\"/>\n      </g>\n     </g>\n    </g>\n    <g id=\"ytick_4\">\n     <g id=\"line2d_24\">\n      <g>\n       <use style=\"stroke:#000000;stroke-width:0.8;\" x=\"46.965625\" xlink:href=\"#m2e6eee5793\" y=\"96.509634\"/>\n      </g>\n     </g>\n     <g id=\"text_25\">\n      <!-- 600 -->\n      <g transform=\"translate(20.878125 100.308852)scale(0.1 -0.1)\">\n       <defs>\n        <path d=\"M 2113 2584 \nQ 1688 2584 1439 2293 \nQ 1191 2003 1191 1497 \nQ 1191 994 1439 701 \nQ 1688 409 2113 409 \nQ 2538 409 2786 701 \nQ 3034 994 3034 1497 \nQ 3034 2003 2786 2293 \nQ 2538 2584 2113 2584 \nz\nM 3366 4563 \nL 3366 3988 \nQ 3128 4100 2886 4159 \nQ 2644 4219 2406 4219 \nQ 1781 4219 1451 3797 \nQ 1122 3375 1075 2522 \nQ 1259 2794 1537 2939 \nQ 1816 3084 2150 3084 \nQ 2853 3084 3261 2657 \nQ 3669 2231 3669 1497 \nQ 3669 778 3244 343 \nQ 2819 -91 2113 -91 \nQ 1303 -91 875 529 \nQ 447 1150 447 2328 \nQ 447 3434 972 4092 \nQ 1497 4750 2381 4750 \nQ 2619 4750 2861 4703 \nQ 3103 4656 3366 4563 \nz\n\" id=\"DejaVuSans-36\" transform=\"scale(0.015625)\"/>\n       </defs>\n       <use xlink:href=\"#DejaVuSans-36\"/>\n       <use x=\"63.623047\" xlink:href=\"#DejaVuSans-30\"/>\n       <use x=\"127.246094\" xlink:href=\"#DejaVuSans-30\"/>\n      </g>\n     </g>\n    </g>\n    <g id=\"ytick_5\">\n     <g id=\"line2d_25\">\n      <g>\n       <use style=\"stroke:#000000;stroke-width:0.8;\" x=\"46.965625\" xlink:href=\"#m2e6eee5793\" y=\"48.760137\"/>\n      </g>\n     </g>\n     <g id=\"text_26\">\n      <!-- 800 -->\n      <g transform=\"translate(20.878125 52.559355)scale(0.1 -0.1)\">\n       <defs>\n        <path d=\"M 2034 2216 \nQ 1584 2216 1326 1975 \nQ 1069 1734 1069 1313 \nQ 1069 891 1326 650 \nQ 1584 409 2034 409 \nQ 2484 409 2743 651 \nQ 3003 894 3003 1313 \nQ 3003 1734 2745 1975 \nQ 2488 2216 2034 2216 \nz\nM 1403 2484 \nQ 997 2584 770 2862 \nQ 544 3141 544 3541 \nQ 544 4100 942 4425 \nQ 1341 4750 2034 4750 \nQ 2731 4750 3128 4425 \nQ 3525 4100 3525 3541 \nQ 3525 3141 3298 2862 \nQ 3072 2584 2669 2484 \nQ 3125 2378 3379 2068 \nQ 3634 1759 3634 1313 \nQ 3634 634 3220 271 \nQ 2806 -91 2034 -91 \nQ 1263 -91 848 271 \nQ 434 634 434 1313 \nQ 434 1759 690 2068 \nQ 947 2378 1403 2484 \nz\nM 1172 3481 \nQ 1172 3119 1398 2916 \nQ 1625 2713 2034 2713 \nQ 2441 2713 2670 2916 \nQ 2900 3119 2900 3481 \nQ 2900 3844 2670 4047 \nQ 2441 4250 2034 4250 \nQ 1625 4250 1398 4047 \nQ 1172 3844 1172 3481 \nz\n\" id=\"DejaVuSans-38\" transform=\"scale(0.015625)\"/>\n       </defs>\n       <use xlink:href=\"#DejaVuSans-38\"/>\n       <use x=\"63.623047\" xlink:href=\"#DejaVuSans-30\"/>\n       <use x=\"127.246094\" xlink:href=\"#DejaVuSans-30\"/>\n      </g>\n     </g>\n    </g>\n    <g id=\"text_27\">\n     <!-- Average pledged per backer (USD) -->\n     <g transform=\"translate(14.798438 217.89125)rotate(-90)scale(0.1 -0.1)\">\n      <defs>\n       <path d=\"M 2188 4044 \nL 1331 1722 \nL 3047 1722 \nL 2188 4044 \nz\nM 1831 4666 \nL 2547 4666 \nL 4325 0 \nL 3669 0 \nL 3244 1197 \nL 1141 1197 \nL 716 0 \nL 50 0 \nL 1831 4666 \nz\n\" id=\"DejaVuSans-41\" transform=\"scale(0.015625)\"/>\n       <path d=\"M 1984 4856 \nQ 1566 4138 1362 3434 \nQ 1159 2731 1159 2009 \nQ 1159 1288 1364 580 \nQ 1569 -128 1984 -844 \nL 1484 -844 \nQ 1016 -109 783 600 \nQ 550 1309 550 2009 \nQ 550 2706 781 3412 \nQ 1013 4119 1484 4856 \nL 1984 4856 \nz\n\" id=\"DejaVuSans-28\" transform=\"scale(0.015625)\"/>\n       <path d=\"M 556 4666 \nL 1191 4666 \nL 1191 1831 \nQ 1191 1081 1462 751 \nQ 1734 422 2344 422 \nQ 2950 422 3222 751 \nQ 3494 1081 3494 1831 \nL 3494 4666 \nL 4128 4666 \nL 4128 1753 \nQ 4128 841 3676 375 \nQ 3225 -91 2344 -91 \nQ 1459 -91 1007 375 \nQ 556 841 556 1753 \nL 556 4666 \nz\n\" id=\"DejaVuSans-55\" transform=\"scale(0.015625)\"/>\n       <path d=\"M 3425 4513 \nL 3425 3897 \nQ 3066 4069 2747 4153 \nQ 2428 4238 2131 4238 \nQ 1616 4238 1336 4038 \nQ 1056 3838 1056 3469 \nQ 1056 3159 1242 3001 \nQ 1428 2844 1947 2747 \nL 2328 2669 \nQ 3034 2534 3370 2195 \nQ 3706 1856 3706 1288 \nQ 3706 609 3251 259 \nQ 2797 -91 1919 -91 \nQ 1588 -91 1214 -16 \nQ 841 59 441 206 \nL 441 856 \nQ 825 641 1194 531 \nQ 1563 422 1919 422 \nQ 2459 422 2753 634 \nQ 3047 847 3047 1241 \nQ 3047 1584 2836 1778 \nQ 2625 1972 2144 2069 \nL 1759 2144 \nQ 1053 2284 737 2584 \nQ 422 2884 422 3419 \nQ 422 4038 858 4394 \nQ 1294 4750 2059 4750 \nQ 2388 4750 2728 4690 \nQ 3069 4631 3425 4513 \nz\n\" id=\"DejaVuSans-53\" transform=\"scale(0.015625)\"/>\n       <path d=\"M 1259 4147 \nL 1259 519 \nL 2022 519 \nQ 2988 519 3436 956 \nQ 3884 1394 3884 2338 \nQ 3884 3275 3436 3711 \nQ 2988 4147 2022 4147 \nL 1259 4147 \nz\nM 628 4666 \nL 1925 4666 \nQ 3281 4666 3915 4102 \nQ 4550 3538 4550 2338 \nQ 4550 1131 3912 565 \nQ 3275 0 1925 0 \nL 628 0 \nL 628 4666 \nz\n\" id=\"DejaVuSans-44\" transform=\"scale(0.015625)\"/>\n       <path d=\"M 513 4856 \nL 1013 4856 \nQ 1481 4119 1714 3412 \nQ 1947 2706 1947 2009 \nQ 1947 1309 1714 600 \nQ 1481 -109 1013 -844 \nL 513 -844 \nQ 928 -128 1133 580 \nQ 1338 1288 1338 2009 \nQ 1338 2731 1133 3434 \nQ 928 4138 513 4856 \nz\n\" id=\"DejaVuSans-29\" transform=\"scale(0.015625)\"/>\n      </defs>\n      <use xlink:href=\"#DejaVuSans-41\"/>\n      <use x=\"62.533203\" xlink:href=\"#DejaVuSans-76\"/>\n      <use x=\"121.712891\" xlink:href=\"#DejaVuSans-65\"/>\n      <use x=\"183.236328\" xlink:href=\"#DejaVuSans-72\"/>\n      <use x=\"224.349609\" xlink:href=\"#DejaVuSans-61\"/>\n      <use x=\"285.628906\" xlink:href=\"#DejaVuSans-67\"/>\n      <use x=\"349.105469\" xlink:href=\"#DejaVuSans-65\"/>\n      <use x=\"410.628906\" xlink:href=\"#DejaVuSans-20\"/>\n      <use x=\"442.416016\" xlink:href=\"#DejaVuSans-70\"/>\n      <use x=\"505.892578\" xlink:href=\"#DejaVuSans-6c\"/>\n      <use x=\"533.675781\" xlink:href=\"#DejaVuSans-65\"/>\n      <use x=\"595.199219\" xlink:href=\"#DejaVuSans-64\"/>\n      <use x=\"658.675781\" xlink:href=\"#DejaVuSans-67\"/>\n      <use x=\"722.152344\" xlink:href=\"#DejaVuSans-65\"/>\n      <use x=\"783.675781\" xlink:href=\"#DejaVuSans-64\"/>\n      <use x=\"847.152344\" xlink:href=\"#DejaVuSans-20\"/>\n      <use x=\"878.939453\" xlink:href=\"#DejaVuSans-70\"/>\n      <use x=\"942.416016\" xlink:href=\"#DejaVuSans-65\"/>\n      <use x=\"1003.939453\" xlink:href=\"#DejaVuSans-72\"/>\n      <use x=\"1045.052734\" xlink:href=\"#DejaVuSans-20\"/>\n      <use x=\"1076.839844\" xlink:href=\"#DejaVuSans-62\"/>\n      <use x=\"1140.316406\" xlink:href=\"#DejaVuSans-61\"/>\n      <use x=\"1201.595703\" xlink:href=\"#DejaVuSans-63\"/>\n      <use x=\"1256.576172\" xlink:href=\"#DejaVuSans-6b\"/>\n      <use x=\"1310.861328\" xlink:href=\"#DejaVuSans-65\"/>\n      <use x=\"1372.384766\" xlink:href=\"#DejaVuSans-72\"/>\n      <use x=\"1413.498047\" xlink:href=\"#DejaVuSans-20\"/>\n      <use x=\"1445.285156\" xlink:href=\"#DejaVuSans-28\"/>\n      <use x=\"1484.298828\" xlink:href=\"#DejaVuSans-55\"/>\n      <use x=\"1557.492188\" xlink:href=\"#DejaVuSans-53\"/>\n      <use x=\"1620.96875\" xlink:href=\"#DejaVuSans-44\"/>\n      <use x=\"1697.970703\" xlink:href=\"#DejaVuSans-29\"/>\n     </g>\n    </g>\n   </g>\n   <g id=\"line2d_26\">\n    <path clip-path=\"url(#p989fadf115)\" style=\"fill:none;stroke:#424242;stroke-linecap:square;stroke-width:2.7;\"/>\n   </g>\n   <g id=\"line2d_27\">\n    <path clip-path=\"url(#p989fadf115)\" style=\"fill:none;stroke:#424242;stroke-linecap:square;stroke-width:2.7;\"/>\n   </g>\n   <g id=\"line2d_28\">\n    <path clip-path=\"url(#p989fadf115)\" style=\"fill:none;stroke:#424242;stroke-linecap:square;stroke-width:2.7;\"/>\n   </g>\n   <g id=\"line2d_29\">\n    <path clip-path=\"url(#p989fadf115)\" style=\"fill:none;stroke:#424242;stroke-linecap:square;stroke-width:2.7;\"/>\n   </g>\n   <g id=\"line2d_30\">\n    <path clip-path=\"url(#p989fadf115)\" style=\"fill:none;stroke:#424242;stroke-linecap:square;stroke-width:2.7;\"/>\n   </g>\n   <g id=\"line2d_31\">\n    <path clip-path=\"url(#p989fadf115)\" style=\"fill:none;stroke:#424242;stroke-linecap:square;stroke-width:2.7;\"/>\n   </g>\n   <g id=\"line2d_32\">\n    <path clip-path=\"url(#p989fadf115)\" style=\"fill:none;stroke:#424242;stroke-linecap:square;stroke-width:2.7;\"/>\n   </g>\n   <g id=\"line2d_33\">\n    <path clip-path=\"url(#p989fadf115)\" style=\"fill:none;stroke:#424242;stroke-linecap:square;stroke-width:2.7;\"/>\n   </g>\n   <g id=\"line2d_34\">\n    <path clip-path=\"url(#p989fadf115)\" style=\"fill:none;stroke:#424242;stroke-linecap:square;stroke-width:2.7;\"/>\n   </g>\n   <g id=\"line2d_35\">\n    <path clip-path=\"url(#p989fadf115)\" style=\"fill:none;stroke:#424242;stroke-linecap:square;stroke-width:2.7;\"/>\n   </g>\n   <g id=\"line2d_36\">\n    <path clip-path=\"url(#p989fadf115)\" style=\"fill:none;stroke:#424242;stroke-linecap:square;stroke-width:2.7;\"/>\n   </g>\n   <g id=\"line2d_37\">\n    <path clip-path=\"url(#p989fadf115)\" style=\"fill:none;stroke:#424242;stroke-linecap:square;stroke-width:2.7;\"/>\n   </g>\n   <g id=\"line2d_38\">\n    <path clip-path=\"url(#p989fadf115)\" style=\"fill:none;stroke:#424242;stroke-linecap:square;stroke-width:2.7;\"/>\n   </g>\n   <g id=\"line2d_39\">\n    <path clip-path=\"url(#p989fadf115)\" style=\"fill:none;stroke:#424242;stroke-linecap:square;stroke-width:2.7;\"/>\n   </g>\n   <g id=\"line2d_40\">\n    <path clip-path=\"url(#p989fadf115)\" style=\"fill:none;stroke:#424242;stroke-linecap:square;stroke-width:2.7;\"/>\n   </g>\n   <g id=\"line2d_41\">\n    <path clip-path=\"url(#p989fadf115)\" style=\"fill:none;stroke:#424242;stroke-linecap:square;stroke-width:2.7;\"/>\n   </g>\n   <g id=\"line2d_42\">\n    <path clip-path=\"url(#p989fadf115)\" style=\"fill:none;stroke:#424242;stroke-linecap:square;stroke-width:2.7;\"/>\n   </g>\n   <g id=\"line2d_43\">\n    <path clip-path=\"url(#p989fadf115)\" style=\"fill:none;stroke:#424242;stroke-linecap:square;stroke-width:2.7;\"/>\n   </g>\n   <g id=\"line2d_44\">\n    <path clip-path=\"url(#p989fadf115)\" style=\"fill:none;stroke:#424242;stroke-linecap:square;stroke-width:2.7;\"/>\n   </g>\n   <g id=\"line2d_45\">\n    <path clip-path=\"url(#p989fadf115)\" style=\"fill:none;stroke:#424242;stroke-linecap:square;stroke-width:2.7;\"/>\n   </g>\n   <g id=\"patch_23\">\n    <path d=\"M 46.965625 239.758125 \nL 46.965625 22.318125 \n\" style=\"fill:none;stroke:#000000;stroke-linecap:square;stroke-linejoin:miter;stroke-width:0.8;\"/>\n   </g>\n   <g id=\"patch_24\">\n    <path d=\"M 381.765625 239.758125 \nL 381.765625 22.318125 \n\" style=\"fill:none;stroke:#000000;stroke-linecap:square;stroke-linejoin:miter;stroke-width:0.8;\"/>\n   </g>\n   <g id=\"patch_25\">\n    <path d=\"M 46.965625 239.758125 \nL 381.765625 239.758125 \n\" style=\"fill:none;stroke:#000000;stroke-linecap:square;stroke-linejoin:miter;stroke-width:0.8;\"/>\n   </g>\n   <g id=\"patch_26\">\n    <path d=\"M 46.965625 22.318125 \nL 381.765625 22.318125 \n\" style=\"fill:none;stroke:#000000;stroke-linecap:square;stroke-linejoin:miter;stroke-width:0.8;\"/>\n   </g>\n   <g id=\"text_28\">\n    <!-- Average pledged per backer by category -->\n    <g transform=\"translate(91.85875 16.318125)scale(0.12 -0.12)\">\n     <use xlink:href=\"#DejaVuSans-41\"/>\n     <use x=\"62.533203\" xlink:href=\"#DejaVuSans-76\"/>\n     <use x=\"121.712891\" xlink:href=\"#DejaVuSans-65\"/>\n     <use x=\"183.236328\" xlink:href=\"#DejaVuSans-72\"/>\n     <use x=\"224.349609\" xlink:href=\"#DejaVuSans-61\"/>\n     <use x=\"285.628906\" xlink:href=\"#DejaVuSans-67\"/>\n     <use x=\"349.105469\" xlink:href=\"#DejaVuSans-65\"/>\n     <use x=\"410.628906\" xlink:href=\"#DejaVuSans-20\"/>\n     <use x=\"442.416016\" xlink:href=\"#DejaVuSans-70\"/>\n     <use x=\"505.892578\" xlink:href=\"#DejaVuSans-6c\"/>\n     <use x=\"533.675781\" xlink:href=\"#DejaVuSans-65\"/>\n     <use x=\"595.199219\" xlink:href=\"#DejaVuSans-64\"/>\n     <use x=\"658.675781\" xlink:href=\"#DejaVuSans-67\"/>\n     <use x=\"722.152344\" xlink:href=\"#DejaVuSans-65\"/>\n     <use x=\"783.675781\" xlink:href=\"#DejaVuSans-64\"/>\n     <use x=\"847.152344\" xlink:href=\"#DejaVuSans-20\"/>\n     <use x=\"878.939453\" xlink:href=\"#DejaVuSans-70\"/>\n     <use x=\"942.416016\" xlink:href=\"#DejaVuSans-65\"/>\n     <use x=\"1003.939453\" xlink:href=\"#DejaVuSans-72\"/>\n     <use x=\"1045.052734\" xlink:href=\"#DejaVuSans-20\"/>\n     <use x=\"1076.839844\" xlink:href=\"#DejaVuSans-62\"/>\n     <use x=\"1140.316406\" xlink:href=\"#DejaVuSans-61\"/>\n     <use x=\"1201.595703\" xlink:href=\"#DejaVuSans-63\"/>\n     <use x=\"1256.576172\" xlink:href=\"#DejaVuSans-6b\"/>\n     <use x=\"1310.861328\" xlink:href=\"#DejaVuSans-65\"/>\n     <use x=\"1372.384766\" xlink:href=\"#DejaVuSans-72\"/>\n     <use x=\"1413.498047\" xlink:href=\"#DejaVuSans-20\"/>\n     <use x=\"1445.285156\" xlink:href=\"#DejaVuSans-62\"/>\n     <use x=\"1508.761719\" xlink:href=\"#DejaVuSans-79\"/>\n     <use x=\"1567.941406\" xlink:href=\"#DejaVuSans-20\"/>\n     <use x=\"1599.728516\" xlink:href=\"#DejaVuSans-63\"/>\n     <use x=\"1654.708984\" xlink:href=\"#DejaVuSans-61\"/>\n     <use x=\"1715.988281\" xlink:href=\"#DejaVuSans-74\"/>\n     <use x=\"1755.197266\" xlink:href=\"#DejaVuSans-65\"/>\n     <use x=\"1816.720703\" xlink:href=\"#DejaVuSans-67\"/>\n     <use x=\"1880.197266\" xlink:href=\"#DejaVuSans-6f\"/>\n     <use x=\"1941.378906\" xlink:href=\"#DejaVuSans-72\"/>\n     <use x=\"1982.492188\" xlink:href=\"#DejaVuSans-79\"/>\n    </g>\n   </g>\n  </g>\n </g>\n <defs>\n  <clipPath id=\"p989fadf115\">\n   <rect height=\"217.44\" width=\"334.8\" x=\"46.965625\" y=\"22.318125\"/>\n  </clipPath>\n </defs>\n</svg>\n",
      "image/png": "[encoded data removed]"
     },
     "metadata": {
      "needs_background": "light"
     }
    }
   ],
   "source": [
    "# Visualize the results\n",
    "pledge_df = pd.DataFrame(pledge_mapping, index=['avg_pledged'])\n",
    "pledge_df.sort_values('avg_pledged', axis=1, inplace=True, ascending=False)\n",
    "display(pledge_df.head())\n",
    "dfplot = pledge_df.iloc[:,: 20];\n",
    "sns.barplot(data = dfplot);\n",
    "plt.title('Average pledged per backer by category')\n",
    "plt.xlabel('Categories')\n",
    "plt.ylabel('Average pledged per backer (USD)')\n",
    "plt.xticks(rotation=\"vertical\")\n"
   ]
  },
  {
   "cell_type": "markdown",
   "id": "fb36ac3d-51a2-4b92-8fdf-766b46e4ac54",
   "metadata": {},
   "source": [
    "### Location score"
   ]
  },
  {
   "cell_type": "code",
   "execution_count": 39,
   "id": "152d48aa-2e89-43e8-be14-29f7bada389f",
   "metadata": {},
   "outputs": [],
   "source": [
    "dic = {x:0 for x in df.location_city}\n",
    "\n",
    "dic.update(df.query('state == 1').location_city.value_counts().to_dict())\n",
    "df['location_score'] = df.location_city.replace(dic)\n",
    "\n",
    "df['location_score'] = [max(0, x-1) for x in df.location_score]"
   ]
  },
  {
   "cell_type": "markdown",
   "id": "5b1a5be4-05af-4757-926f-09b409e802e7",
   "metadata": {},
   "source": [
    "### Goal cutoff and log"
   ]
  },
  {
   "cell_type": "markdown",
   "id": "4ffbc84c-9591-480a-99d6-e6eaaae792ef",
   "metadata": {
    "tags": []
   },
   "source": [
    "The distribution of `goal` is sporadic:"
   ]
  },
  {
   "cell_type": "code",
   "execution_count": 40,
   "id": "8c9dee09-8f98-4184-bb1c-14a325eb7328",
   "metadata": {},
   "outputs": [
    {
     "data": {
      "text/plain": [
       "(100000000.0, 0.01, 52661.41345132938, 5000.0, 1238320.2298351228)"
      ]
     },
     "execution_count": 40,
     "metadata": {},
     "output_type": "execute_result"
    }
   ],
   "source": [
    "df.goal.max(), df.goal.min(), df.goal.mean(), df.goal.median(), df.goal.std()"
   ]
  },
  {
   "cell_type": "markdown",
   "id": "039b7813-9333-444a-9e17-c0ea274b01f0",
   "metadata": {},
   "source": [
    "Let us see how many data points get lost for certain `goal` cutoffs:"
   ]
  },
  {
   "cell_type": "code",
   "execution_count": 41,
   "id": "0b29b8ae-1749-480d-b84b-3aa1c0d76ff1",
   "metadata": {},
   "outputs": [
    {
     "name": "stdout",
     "output_type": "stream",
     "text": [
      "cutoff = 10,000,000: 85\n",
      "cutoff = 5,000,000: 178\n",
      "cutoff = 2,000,000: 383\n",
      "cutoff = 1,000,000: 671\n"
     ]
    }
   ],
   "source": [
    "print('cutoff = 10,000,000:', df.query('goal > 10000000').goal.count())\n",
    "print('cutoff = 5,000,000:', df.query('goal > 5000000').goal.count())\n",
    "print('cutoff = 2,000,000:', df.query('goal > 2000000').goal.count())\n",
    "print('cutoff = 1,000,000:', df.query('goal > 1000000').goal.count())"
   ]
  },
  {
   "cell_type": "markdown",
   "id": "03d2fea0-ac5e-46ad-bac8-2b6101140535",
   "metadata": {},
   "source": [
    "We cut off at 10,000,000:"
   ]
  },
  {
   "cell_type": "code",
   "execution_count": 42,
   "id": "a5065942-4254-4765-ba03-59b392be8bf2",
   "metadata": {},
   "outputs": [],
   "source": [
    "df = df.query('goal < 10000001')"
   ]
  },
  {
   "cell_type": "markdown",
   "id": "f63d0661-7c89-4dd3-be52-81c002a9995d",
   "metadata": {},
   "source": [
    "In addition, we take the log:"
   ]
  },
  {
   "cell_type": "code",
   "execution_count": 43,
   "id": "8d5466bd-ff09-4ae1-a45f-60bb3e04b5db",
   "metadata": {},
   "outputs": [],
   "source": [
    "df.goal = df.eval('log(goal)')"
   ]
  },
  {
   "cell_type": "code",
   "execution_count": 44,
   "id": "0f6b86f4-b62c-4dc0-9ebc-fa6c6bbe2f68",
   "metadata": {},
   "outputs": [
    {
     "data": {
      "image/png": "[encoded data removed]",
      "text/plain": [
       "<Figure size 432x288 with 1 Axes>"
      ]
     },
     "metadata": {
      "needs_background": "light"
     },
     "output_type": "display_data"
    }
   ],
   "source": [
    "import seaborn as sns\n",
    "sns.histplot(df.goal);"
   ]
  },
  {
   "cell_type": "markdown",
   "id": "929d30d5-ac8a-4742-85dc-63458e076b5b",
   "metadata": {
    "tags": []
   },
   "source": [
    "### Success rate"
   ]
  },
  {
   "cell_type": "code",
   "execution_count": 45,
   "id": "2edd9180-2364-43b6-a6b6-8385468f130e",
   "metadata": {},
   "outputs": [],
   "source": [
    "df['creator_id'] = [x[x.find(':')+1 : x.find(',')] for x in df.creator]\n",
    "\n",
    "dic_suc = {id:0 for id in df.creator_id.unique()}\n",
    "dic_fai = {id:0 for id in df.creator_id.unique()}\n",
    "dic_suc.update(df.query('state == \"successful\"').creator_id.value_counts().to_dict())\n",
    "dic_fai.update(df.query('state == \"failed\"').creator_id.value_counts().to_dict())\n",
    "\n",
    "df['projects_successful'] = df.creator_id\n",
    "df['projects_failed'] = df.creator_id"
   ]
  },
  {
   "cell_type": "code",
   "execution_count": 46,
   "id": "4128f4cc-d876-47e0-aae9-23d88c77d67f",
   "metadata": {
    "tags": []
   },
   "outputs": [],
   "source": [
    "df.projects_successful.replace(dic_suc, inplace=True)\n",
    "df.projects_failed.replace(dic_fai, inplace=True)"
   ]
  },
  {
   "cell_type": "code",
   "execution_count": 47,
   "id": "51442397-6f30-41bb-bc40-06fe28ea5466",
   "metadata": {
    "tags": []
   },
   "outputs": [],
   "source": [
    "df['projects_successful_nm'] = [max(0, x-1) for x in df.projects_successful]\n",
    "df['projects_failed_nm'] = [max(0, x-1) for x in df.projects_failed]"
   ]
  },
  {
   "cell_type": "markdown",
   "id": "282227fa-9f85-4cd8-86aa-0d5f37c5ca74",
   "metadata": {},
   "source": [
    "Drop `creator_id`:"
   ]
  },
  {
   "cell_type": "code",
   "execution_count": 48,
   "id": "25681778-60ce-482f-898c-f5a7831dbc8e",
   "metadata": {},
   "outputs": [],
   "source": [
    "df.drop('creator_id', axis=1, inplace=True)"
   ]
  },
  {
   "cell_type": "code",
   "execution_count": 49,
   "id": "dbc3a7e3-a67b-4db4-9b2e-1311bcd7ad97",
   "metadata": {},
   "outputs": [
    {
     "data": {
      "text/plain": [
       "(0       0\n",
       " 1       6\n",
       " 2       0\n",
       " 3       0\n",
       " 4       0\n",
       "        ..\n",
       " 3786    0\n",
       " 3788    0\n",
       " 3789    0\n",
       " 3790    1\n",
       " 3791    0\n",
       " Name: projects_successful_nm, Length: 181955, dtype: int64,\n",
       " 0       0\n",
       " 1       0\n",
       " 2       0\n",
       " 3       1\n",
       " 4       0\n",
       "        ..\n",
       " 3786    0\n",
       " 3788    0\n",
       " 3789    0\n",
       " 3790    0\n",
       " 3791    0\n",
       " Name: projects_failed_nm, Length: 181955, dtype: int64)"
      ]
     },
     "execution_count": 49,
     "metadata": {},
     "output_type": "execute_result"
    }
   ],
   "source": [
    "df.projects_successful_nm, df.projects_failed_nm "
   ]
  },
  {
   "cell_type": "markdown",
   "id": "9aea954d-a989-48c1-b8e5-967b38039b89",
   "metadata": {},
   "source": [
    "### Gender"
   ]
  },
  {
   "cell_type": "code",
   "execution_count": 50,
   "id": "8c0be304-476c-49e8-b022-02f52daa9c4f",
   "metadata": {},
   "outputs": [],
   "source": [
    "df['creator_name'] = [x[x.find('\":\"')+3 : x.find('\",\"')].split(' ')[0].lower() for x in df.creator]"
   ]
  },
  {
   "cell_type": "code",
   "execution_count": 51,
   "id": "e6c779f8-1678-4563-bd60-8d67132f3a22",
   "metadata": {
    "tags": []
   },
   "outputs": [
    {
     "ename": "FileNotFoundError",
     "evalue": "[Errno 2] No such file or directory: 'male.txt'",
     "output_type": "error",
     "traceback": [
      "\u001b[0;31m---------------------------------------------------------------------------\u001b[0m",
      "\u001b[0;31mFileNotFoundError\u001b[0m                         Traceback (most recent call last)",
      "\u001b[0;32m<ipython-input-51-4660f1045f9b>\u001b[0m in \u001b[0;36m<module>\u001b[0;34m\u001b[0m\n\u001b[0;32m----> 1\u001b[0;31m \u001b[0mmales\u001b[0m \u001b[0;34m=\u001b[0m \u001b[0mpd\u001b[0m\u001b[0;34m.\u001b[0m\u001b[0mread_csv\u001b[0m\u001b[0;34m(\u001b[0m\u001b[0;34m'male.txt'\u001b[0m\u001b[0;34m,\u001b[0m \u001b[0msep\u001b[0m\u001b[0;34m=\u001b[0m\u001b[0;34m'\\n'\u001b[0m\u001b[0;34m)\u001b[0m\u001b[0;34m\u001b[0m\u001b[0;34m\u001b[0m\u001b[0m\n\u001b[0m\u001b[1;32m      2\u001b[0m \u001b[0mfemales\u001b[0m \u001b[0;34m=\u001b[0m \u001b[0mpd\u001b[0m\u001b[0;34m.\u001b[0m\u001b[0mread_csv\u001b[0m\u001b[0;34m(\u001b[0m\u001b[0;34m'female.txt'\u001b[0m\u001b[0;34m,\u001b[0m \u001b[0msep\u001b[0m\u001b[0;34m=\u001b[0m\u001b[0;34m'\\n'\u001b[0m\u001b[0;34m)\u001b[0m\u001b[0;34m\u001b[0m\u001b[0;34m\u001b[0m\u001b[0m\n\u001b[1;32m      3\u001b[0m \u001b[0;34m\u001b[0m\u001b[0m\n\u001b[1;32m      4\u001b[0m \u001b[0mdic_names\u001b[0m \u001b[0;34m=\u001b[0m \u001b[0;34m{\u001b[0m\u001b[0mx\u001b[0m\u001b[0;34m.\u001b[0m\u001b[0mlower\u001b[0m\u001b[0;34m(\u001b[0m\u001b[0;34m)\u001b[0m\u001b[0;34m:\u001b[0m\u001b[0;36m1\u001b[0m \u001b[0;32mfor\u001b[0m \u001b[0mx\u001b[0m \u001b[0;32min\u001b[0m \u001b[0mmales\u001b[0m\u001b[0;34m[\u001b[0m\u001b[0;34m'# List of common male names.'\u001b[0m\u001b[0;34m]\u001b[0m\u001b[0;34m.\u001b[0m\u001b[0miloc\u001b[0m\u001b[0;34m[\u001b[0m\u001b[0;36m4\u001b[0m\u001b[0;34m:\u001b[0m\u001b[0;34m]\u001b[0m\u001b[0;34m}\u001b[0m\u001b[0;34m\u001b[0m\u001b[0;34m\u001b[0m\u001b[0m\n\u001b[1;32m      5\u001b[0m \u001b[0mdic_names\u001b[0m\u001b[0;34m.\u001b[0m\u001b[0mupdate\u001b[0m\u001b[0;34m(\u001b[0m\u001b[0;34m{\u001b[0m\u001b[0mx\u001b[0m\u001b[0;34m.\u001b[0m\u001b[0mlower\u001b[0m\u001b[0;34m(\u001b[0m\u001b[0;34m)\u001b[0m\u001b[0;34m:\u001b[0m\u001b[0;36m0\u001b[0m \u001b[0;32mfor\u001b[0m \u001b[0mx\u001b[0m \u001b[0;32min\u001b[0m \u001b[0mfemales\u001b[0m\u001b[0;34m[\u001b[0m\u001b[0;34m'# List of common female names.'\u001b[0m\u001b[0;34m]\u001b[0m\u001b[0;34m.\u001b[0m\u001b[0miloc\u001b[0m\u001b[0;34m[\u001b[0m\u001b[0;36m4\u001b[0m\u001b[0;34m:\u001b[0m\u001b[0;34m]\u001b[0m\u001b[0;34m}\u001b[0m\u001b[0;34m)\u001b[0m\u001b[0;34m\u001b[0m\u001b[0;34m\u001b[0m\u001b[0m\n",
      "\u001b[0;32m~/.pyenv/versions/3.8.5/lib/python3.8/site-packages/pandas/io/parsers.py\u001b[0m in \u001b[0;36mread_csv\u001b[0;34m(filepath_or_buffer, sep, delimiter, header, names, index_col, usecols, squeeze, prefix, mangle_dupe_cols, dtype, engine, converters, true_values, false_values, skipinitialspace, skiprows, skipfooter, nrows, na_values, keep_default_na, na_filter, verbose, skip_blank_lines, parse_dates, infer_datetime_format, keep_date_col, date_parser, dayfirst, cache_dates, iterator, chunksize, compression, thousands, decimal, lineterminator, quotechar, quoting, doublequote, escapechar, comment, encoding, dialect, error_bad_lines, warn_bad_lines, delim_whitespace, low_memory, memory_map, float_precision, storage_options)\u001b[0m\n\u001b[1;32m    608\u001b[0m     \u001b[0mkwds\u001b[0m\u001b[0;34m.\u001b[0m\u001b[0mupdate\u001b[0m\u001b[0;34m(\u001b[0m\u001b[0mkwds_defaults\u001b[0m\u001b[0;34m)\u001b[0m\u001b[0;34m\u001b[0m\u001b[0;34m\u001b[0m\u001b[0m\n\u001b[1;32m    609\u001b[0m \u001b[0;34m\u001b[0m\u001b[0m\n\u001b[0;32m--> 610\u001b[0;31m     \u001b[0;32mreturn\u001b[0m \u001b[0m_read\u001b[0m\u001b[0;34m(\u001b[0m\u001b[0mfilepath_or_buffer\u001b[0m\u001b[0;34m,\u001b[0m \u001b[0mkwds\u001b[0m\u001b[0;34m)\u001b[0m\u001b[0;34m\u001b[0m\u001b[0;34m\u001b[0m\u001b[0m\n\u001b[0m\u001b[1;32m    611\u001b[0m \u001b[0;34m\u001b[0m\u001b[0m\n\u001b[1;32m    612\u001b[0m \u001b[0;34m\u001b[0m\u001b[0m\n",
      "\u001b[0;32m~/.pyenv/versions/3.8.5/lib/python3.8/site-packages/pandas/io/parsers.py\u001b[0m in \u001b[0;36m_read\u001b[0;34m(filepath_or_buffer, kwds)\u001b[0m\n\u001b[1;32m    460\u001b[0m \u001b[0;34m\u001b[0m\u001b[0m\n\u001b[1;32m    461\u001b[0m     \u001b[0;31m# Create the parser.\u001b[0m\u001b[0;34m\u001b[0m\u001b[0;34m\u001b[0m\u001b[0;34m\u001b[0m\u001b[0m\n\u001b[0;32m--> 462\u001b[0;31m     \u001b[0mparser\u001b[0m \u001b[0;34m=\u001b[0m \u001b[0mTextFileReader\u001b[0m\u001b[0;34m(\u001b[0m\u001b[0mfilepath_or_buffer\u001b[0m\u001b[0;34m,\u001b[0m \u001b[0;34m**\u001b[0m\u001b[0mkwds\u001b[0m\u001b[0;34m)\u001b[0m\u001b[0;34m\u001b[0m\u001b[0;34m\u001b[0m\u001b[0m\n\u001b[0m\u001b[1;32m    463\u001b[0m \u001b[0;34m\u001b[0m\u001b[0m\n\u001b[1;32m    464\u001b[0m     \u001b[0;32mif\u001b[0m \u001b[0mchunksize\u001b[0m \u001b[0;32mor\u001b[0m \u001b[0miterator\u001b[0m\u001b[0;34m:\u001b[0m\u001b[0;34m\u001b[0m\u001b[0;34m\u001b[0m\u001b[0m\n",
      "\u001b[0;32m~/.pyenv/versions/3.8.5/lib/python3.8/site-packages/pandas/io/parsers.py\u001b[0m in \u001b[0;36m__init__\u001b[0;34m(self, f, engine, **kwds)\u001b[0m\n\u001b[1;32m    817\u001b[0m             \u001b[0mself\u001b[0m\u001b[0;34m.\u001b[0m\u001b[0moptions\u001b[0m\u001b[0;34m[\u001b[0m\u001b[0;34m\"has_index_names\"\u001b[0m\u001b[0;34m]\u001b[0m \u001b[0;34m=\u001b[0m \u001b[0mkwds\u001b[0m\u001b[0;34m[\u001b[0m\u001b[0;34m\"has_index_names\"\u001b[0m\u001b[0;34m]\u001b[0m\u001b[0;34m\u001b[0m\u001b[0;34m\u001b[0m\u001b[0m\n\u001b[1;32m    818\u001b[0m \u001b[0;34m\u001b[0m\u001b[0m\n\u001b[0;32m--> 819\u001b[0;31m         \u001b[0mself\u001b[0m\u001b[0;34m.\u001b[0m\u001b[0m_engine\u001b[0m \u001b[0;34m=\u001b[0m \u001b[0mself\u001b[0m\u001b[0;34m.\u001b[0m\u001b[0m_make_engine\u001b[0m\u001b[0;34m(\u001b[0m\u001b[0mself\u001b[0m\u001b[0;34m.\u001b[0m\u001b[0mengine\u001b[0m\u001b[0;34m)\u001b[0m\u001b[0;34m\u001b[0m\u001b[0;34m\u001b[0m\u001b[0m\n\u001b[0m\u001b[1;32m    820\u001b[0m \u001b[0;34m\u001b[0m\u001b[0m\n\u001b[1;32m    821\u001b[0m     \u001b[0;32mdef\u001b[0m \u001b[0mclose\u001b[0m\u001b[0;34m(\u001b[0m\u001b[0mself\u001b[0m\u001b[0;34m)\u001b[0m\u001b[0;34m:\u001b[0m\u001b[0;34m\u001b[0m\u001b[0;34m\u001b[0m\u001b[0m\n",
      "\u001b[0;32m~/.pyenv/versions/3.8.5/lib/python3.8/site-packages/pandas/io/parsers.py\u001b[0m in \u001b[0;36m_make_engine\u001b[0;34m(self, engine)\u001b[0m\n\u001b[1;32m   1048\u001b[0m             )\n\u001b[1;32m   1049\u001b[0m         \u001b[0;31m# error: Too many arguments for \"ParserBase\"\u001b[0m\u001b[0;34m\u001b[0m\u001b[0;34m\u001b[0m\u001b[0;34m\u001b[0m\u001b[0m\n\u001b[0;32m-> 1050\u001b[0;31m         \u001b[0;32mreturn\u001b[0m \u001b[0mmapping\u001b[0m\u001b[0;34m[\u001b[0m\u001b[0mengine\u001b[0m\u001b[0;34m]\u001b[0m\u001b[0;34m(\u001b[0m\u001b[0mself\u001b[0m\u001b[0;34m.\u001b[0m\u001b[0mf\u001b[0m\u001b[0;34m,\u001b[0m \u001b[0;34m**\u001b[0m\u001b[0mself\u001b[0m\u001b[0;34m.\u001b[0m\u001b[0moptions\u001b[0m\u001b[0;34m)\u001b[0m  \u001b[0;31m# type: ignore[call-arg]\u001b[0m\u001b[0;34m\u001b[0m\u001b[0;34m\u001b[0m\u001b[0m\n\u001b[0m\u001b[1;32m   1051\u001b[0m \u001b[0;34m\u001b[0m\u001b[0m\n\u001b[1;32m   1052\u001b[0m     \u001b[0;32mdef\u001b[0m \u001b[0m_failover_to_python\u001b[0m\u001b[0;34m(\u001b[0m\u001b[0mself\u001b[0m\u001b[0;34m)\u001b[0m\u001b[0;34m:\u001b[0m\u001b[0;34m\u001b[0m\u001b[0;34m\u001b[0m\u001b[0m\n",
      "\u001b[0;32m~/.pyenv/versions/3.8.5/lib/python3.8/site-packages/pandas/io/parsers.py\u001b[0m in \u001b[0;36m__init__\u001b[0;34m(self, src, **kwds)\u001b[0m\n\u001b[1;32m   1865\u001b[0m \u001b[0;34m\u001b[0m\u001b[0m\n\u001b[1;32m   1866\u001b[0m         \u001b[0;31m# open handles\u001b[0m\u001b[0;34m\u001b[0m\u001b[0;34m\u001b[0m\u001b[0;34m\u001b[0m\u001b[0m\n\u001b[0;32m-> 1867\u001b[0;31m         \u001b[0mself\u001b[0m\u001b[0;34m.\u001b[0m\u001b[0m_open_handles\u001b[0m\u001b[0;34m(\u001b[0m\u001b[0msrc\u001b[0m\u001b[0;34m,\u001b[0m \u001b[0mkwds\u001b[0m\u001b[0;34m)\u001b[0m\u001b[0;34m\u001b[0m\u001b[0;34m\u001b[0m\u001b[0m\n\u001b[0m\u001b[1;32m   1868\u001b[0m         \u001b[0;32massert\u001b[0m \u001b[0mself\u001b[0m\u001b[0;34m.\u001b[0m\u001b[0mhandles\u001b[0m \u001b[0;32mis\u001b[0m \u001b[0;32mnot\u001b[0m \u001b[0;32mNone\u001b[0m\u001b[0;34m\u001b[0m\u001b[0;34m\u001b[0m\u001b[0m\n\u001b[1;32m   1869\u001b[0m         \u001b[0;32mfor\u001b[0m \u001b[0mkey\u001b[0m \u001b[0;32min\u001b[0m \u001b[0;34m(\u001b[0m\u001b[0;34m\"storage_options\"\u001b[0m\u001b[0;34m,\u001b[0m \u001b[0;34m\"encoding\"\u001b[0m\u001b[0;34m,\u001b[0m \u001b[0;34m\"memory_map\"\u001b[0m\u001b[0;34m,\u001b[0m \u001b[0;34m\"compression\"\u001b[0m\u001b[0;34m)\u001b[0m\u001b[0;34m:\u001b[0m\u001b[0;34m\u001b[0m\u001b[0;34m\u001b[0m\u001b[0m\n",
      "\u001b[0;32m~/.pyenv/versions/3.8.5/lib/python3.8/site-packages/pandas/io/parsers.py\u001b[0m in \u001b[0;36m_open_handles\u001b[0;34m(self, src, kwds)\u001b[0m\n\u001b[1;32m   1360\u001b[0m         \u001b[0mLet\u001b[0m \u001b[0mthe\u001b[0m \u001b[0mreaders\u001b[0m \u001b[0mopen\u001b[0m \u001b[0mIOHanldes\u001b[0m \u001b[0mafter\u001b[0m \u001b[0mthey\u001b[0m \u001b[0mare\u001b[0m \u001b[0mdone\u001b[0m \u001b[0;32mwith\u001b[0m \u001b[0mtheir\u001b[0m \u001b[0mpotential\u001b[0m \u001b[0mraises\u001b[0m\u001b[0;34m.\u001b[0m\u001b[0;34m\u001b[0m\u001b[0;34m\u001b[0m\u001b[0m\n\u001b[1;32m   1361\u001b[0m         \"\"\"\n\u001b[0;32m-> 1362\u001b[0;31m         self.handles = get_handle(\n\u001b[0m\u001b[1;32m   1363\u001b[0m             \u001b[0msrc\u001b[0m\u001b[0;34m,\u001b[0m\u001b[0;34m\u001b[0m\u001b[0;34m\u001b[0m\u001b[0m\n\u001b[1;32m   1364\u001b[0m             \u001b[0;34m\"r\"\u001b[0m\u001b[0;34m,\u001b[0m\u001b[0;34m\u001b[0m\u001b[0;34m\u001b[0m\u001b[0m\n",
      "\u001b[0;32m~/.pyenv/versions/3.8.5/lib/python3.8/site-packages/pandas/io/common.py\u001b[0m in \u001b[0;36mget_handle\u001b[0;34m(path_or_buf, mode, encoding, compression, memory_map, is_text, errors, storage_options)\u001b[0m\n\u001b[1;32m    640\u001b[0m                 \u001b[0merrors\u001b[0m \u001b[0;34m=\u001b[0m \u001b[0;34m\"replace\"\u001b[0m\u001b[0;34m\u001b[0m\u001b[0;34m\u001b[0m\u001b[0m\n\u001b[1;32m    641\u001b[0m             \u001b[0;31m# Encoding\u001b[0m\u001b[0;34m\u001b[0m\u001b[0;34m\u001b[0m\u001b[0;34m\u001b[0m\u001b[0m\n\u001b[0;32m--> 642\u001b[0;31m             handle = open(\n\u001b[0m\u001b[1;32m    643\u001b[0m                 \u001b[0mhandle\u001b[0m\u001b[0;34m,\u001b[0m\u001b[0;34m\u001b[0m\u001b[0;34m\u001b[0m\u001b[0m\n\u001b[1;32m    644\u001b[0m                 \u001b[0mioargs\u001b[0m\u001b[0;34m.\u001b[0m\u001b[0mmode\u001b[0m\u001b[0;34m,\u001b[0m\u001b[0;34m\u001b[0m\u001b[0;34m\u001b[0m\u001b[0m\n",
      "\u001b[0;31mFileNotFoundError\u001b[0m: [Errno 2] No such file or directory: 'male.txt'"
     ]
    }
   ],
   "source": [
    "males = pd.read_csv('male.txt', sep='\\n')\n",
    "females = pd.read_csv('female.txt', sep='\\n')\n",
    "\n",
    "dic_names = {x.lower():1 for x in males['# List of common male names.'].iloc[4:]}\n",
    "dic_names.update({x.lower():0 for x in females['# List of common female names.'].iloc[4:]})\n",
    "\n",
    "dic = {x:2 for x in df.creator_name}\n",
    "dic.update(dic_names)"
   ]
  },
  {
   "cell_type": "code",
   "execution_count": 52,
   "id": "cb775c2b-9c5e-4f54-889a-8e020eb1cb0c",
   "metadata": {
    "collapsed": true,
    "jupyter": {
     "outputs_hidden": true
    },
    "tags": []
   },
   "outputs": [
    {
     "ename": "KeyboardInterrupt",
     "evalue": "",
     "output_type": "error",
     "traceback": [
      "\u001b[0;31m---------------------------------------------------------------------------\u001b[0m",
      "\u001b[0;31mKeyboardInterrupt\u001b[0m                         Traceback (most recent call last)",
      "\u001b[0;32m<ipython-input-52-6e979c2748bf>\u001b[0m in \u001b[0;36m<module>\u001b[0;34m\u001b[0m\n\u001b[0;32m----> 1\u001b[0;31m \u001b[0mdf\u001b[0m\u001b[0;34m[\u001b[0m\u001b[0;34m'gender'\u001b[0m\u001b[0;34m]\u001b[0m \u001b[0;34m=\u001b[0m \u001b[0mdf\u001b[0m\u001b[0;34m.\u001b[0m\u001b[0mcreator_name\u001b[0m\u001b[0;34m.\u001b[0m\u001b[0mreplace\u001b[0m\u001b[0;34m(\u001b[0m\u001b[0mdic\u001b[0m\u001b[0;34m)\u001b[0m\u001b[0;34m\u001b[0m\u001b[0;34m\u001b[0m\u001b[0m\n\u001b[0m",
      "\u001b[0;32m~/.pyenv/versions/3.8.5/lib/python3.8/site-packages/pandas/core/series.py\u001b[0m in \u001b[0;36mreplace\u001b[0;34m(self, to_replace, value, inplace, limit, regex, method)\u001b[0m\n\u001b[1;32m   4507\u001b[0m         \u001b[0mmethod\u001b[0m\u001b[0;34m=\u001b[0m\u001b[0;34m\"pad\"\u001b[0m\u001b[0;34m,\u001b[0m\u001b[0;34m\u001b[0m\u001b[0;34m\u001b[0m\u001b[0m\n\u001b[1;32m   4508\u001b[0m     ):\n\u001b[0;32m-> 4509\u001b[0;31m         return super().replace(\n\u001b[0m\u001b[1;32m   4510\u001b[0m             \u001b[0mto_replace\u001b[0m\u001b[0;34m=\u001b[0m\u001b[0mto_replace\u001b[0m\u001b[0;34m,\u001b[0m\u001b[0;34m\u001b[0m\u001b[0;34m\u001b[0m\u001b[0m\n\u001b[1;32m   4511\u001b[0m             \u001b[0mvalue\u001b[0m\u001b[0;34m=\u001b[0m\u001b[0mvalue\u001b[0m\u001b[0;34m,\u001b[0m\u001b[0;34m\u001b[0m\u001b[0;34m\u001b[0m\u001b[0m\n",
      "\u001b[0;32m~/.pyenv/versions/3.8.5/lib/python3.8/site-packages/pandas/core/generic.py\u001b[0m in \u001b[0;36mreplace\u001b[0;34m(self, to_replace, value, inplace, limit, regex, method)\u001b[0m\n\u001b[1;32m   6845\u001b[0m                 \u001b[0mto_replace\u001b[0m\u001b[0;34m,\u001b[0m \u001b[0mvalue\u001b[0m \u001b[0;34m=\u001b[0m \u001b[0mkeys\u001b[0m\u001b[0;34m,\u001b[0m \u001b[0mvalues\u001b[0m\u001b[0;34m\u001b[0m\u001b[0;34m\u001b[0m\u001b[0m\n\u001b[1;32m   6846\u001b[0m \u001b[0;34m\u001b[0m\u001b[0m\n\u001b[0;32m-> 6847\u001b[0;31m             return self.replace(\n\u001b[0m\u001b[1;32m   6848\u001b[0m                 \u001b[0mto_replace\u001b[0m\u001b[0;34m,\u001b[0m \u001b[0mvalue\u001b[0m\u001b[0;34m,\u001b[0m \u001b[0minplace\u001b[0m\u001b[0;34m=\u001b[0m\u001b[0minplace\u001b[0m\u001b[0;34m,\u001b[0m \u001b[0mlimit\u001b[0m\u001b[0;34m=\u001b[0m\u001b[0mlimit\u001b[0m\u001b[0;34m,\u001b[0m \u001b[0mregex\u001b[0m\u001b[0;34m=\u001b[0m\u001b[0mregex\u001b[0m\u001b[0;34m\u001b[0m\u001b[0;34m\u001b[0m\u001b[0m\n\u001b[1;32m   6849\u001b[0m             )\n",
      "\u001b[0;32m~/.pyenv/versions/3.8.5/lib/python3.8/site-packages/pandas/core/series.py\u001b[0m in \u001b[0;36mreplace\u001b[0;34m(self, to_replace, value, inplace, limit, regex, method)\u001b[0m\n\u001b[1;32m   4507\u001b[0m         \u001b[0mmethod\u001b[0m\u001b[0;34m=\u001b[0m\u001b[0;34m\"pad\"\u001b[0m\u001b[0;34m,\u001b[0m\u001b[0;34m\u001b[0m\u001b[0;34m\u001b[0m\u001b[0m\n\u001b[1;32m   4508\u001b[0m     ):\n\u001b[0;32m-> 4509\u001b[0;31m         return super().replace(\n\u001b[0m\u001b[1;32m   4510\u001b[0m             \u001b[0mto_replace\u001b[0m\u001b[0;34m=\u001b[0m\u001b[0mto_replace\u001b[0m\u001b[0;34m,\u001b[0m\u001b[0;34m\u001b[0m\u001b[0;34m\u001b[0m\u001b[0m\n\u001b[1;32m   4511\u001b[0m             \u001b[0mvalue\u001b[0m\u001b[0;34m=\u001b[0m\u001b[0mvalue\u001b[0m\u001b[0;34m,\u001b[0m\u001b[0;34m\u001b[0m\u001b[0;34m\u001b[0m\u001b[0m\n",
      "\u001b[0;32m~/.pyenv/versions/3.8.5/lib/python3.8/site-packages/pandas/core/generic.py\u001b[0m in \u001b[0;36mreplace\u001b[0;34m(self, to_replace, value, inplace, limit, regex, method)\u001b[0m\n\u001b[1;32m   6894\u001b[0m                         \u001b[0;34mf\"Expecting {len(to_replace)} got {len(value)} \"\u001b[0m\u001b[0;34m\u001b[0m\u001b[0;34m\u001b[0m\u001b[0m\n\u001b[1;32m   6895\u001b[0m                     )\n\u001b[0;32m-> 6896\u001b[0;31m                 new_data = self._mgr.replace_list(\n\u001b[0m\u001b[1;32m   6897\u001b[0m                     \u001b[0msrc_list\u001b[0m\u001b[0;34m=\u001b[0m\u001b[0mto_replace\u001b[0m\u001b[0;34m,\u001b[0m\u001b[0;34m\u001b[0m\u001b[0;34m\u001b[0m\u001b[0m\n\u001b[1;32m   6898\u001b[0m                     \u001b[0mdest_list\u001b[0m\u001b[0;34m=\u001b[0m\u001b[0mvalue\u001b[0m\u001b[0;34m,\u001b[0m\u001b[0;34m\u001b[0m\u001b[0;34m\u001b[0m\u001b[0m\n",
      "\u001b[0;32m~/.pyenv/versions/3.8.5/lib/python3.8/site-packages/pandas/core/internals/managers.py\u001b[0m in \u001b[0;36mreplace_list\u001b[0;34m(self, src_list, dest_list, inplace, regex)\u001b[0m\n\u001b[1;32m    662\u001b[0m         \u001b[0minplace\u001b[0m \u001b[0;34m=\u001b[0m \u001b[0mvalidate_bool_kwarg\u001b[0m\u001b[0;34m(\u001b[0m\u001b[0minplace\u001b[0m\u001b[0;34m,\u001b[0m \u001b[0;34m\"inplace\"\u001b[0m\u001b[0;34m)\u001b[0m\u001b[0;34m\u001b[0m\u001b[0;34m\u001b[0m\u001b[0m\n\u001b[1;32m    663\u001b[0m \u001b[0;34m\u001b[0m\u001b[0m\n\u001b[0;32m--> 664\u001b[0;31m         bm = self.apply(\n\u001b[0m\u001b[1;32m    665\u001b[0m             \u001b[0;34m\"_replace_list\"\u001b[0m\u001b[0;34m,\u001b[0m\u001b[0;34m\u001b[0m\u001b[0;34m\u001b[0m\u001b[0m\n\u001b[1;32m    666\u001b[0m             \u001b[0msrc_list\u001b[0m\u001b[0;34m=\u001b[0m\u001b[0msrc_list\u001b[0m\u001b[0;34m,\u001b[0m\u001b[0;34m\u001b[0m\u001b[0;34m\u001b[0m\u001b[0m\n",
      "\u001b[0;32m~/.pyenv/versions/3.8.5/lib/python3.8/site-packages/pandas/core/internals/managers.py\u001b[0m in \u001b[0;36mapply\u001b[0;34m(self, f, align_keys, ignore_failures, **kwargs)\u001b[0m\n\u001b[1;32m    425\u001b[0m                     \u001b[0mapplied\u001b[0m \u001b[0;34m=\u001b[0m \u001b[0mb\u001b[0m\u001b[0;34m.\u001b[0m\u001b[0mapply\u001b[0m\u001b[0;34m(\u001b[0m\u001b[0mf\u001b[0m\u001b[0;34m,\u001b[0m \u001b[0;34m**\u001b[0m\u001b[0mkwargs\u001b[0m\u001b[0;34m)\u001b[0m\u001b[0;34m\u001b[0m\u001b[0;34m\u001b[0m\u001b[0m\n\u001b[1;32m    426\u001b[0m                 \u001b[0;32melse\u001b[0m\u001b[0;34m:\u001b[0m\u001b[0;34m\u001b[0m\u001b[0;34m\u001b[0m\u001b[0m\n\u001b[0;32m--> 427\u001b[0;31m                     \u001b[0mapplied\u001b[0m \u001b[0;34m=\u001b[0m \u001b[0mgetattr\u001b[0m\u001b[0;34m(\u001b[0m\u001b[0mb\u001b[0m\u001b[0;34m,\u001b[0m \u001b[0mf\u001b[0m\u001b[0;34m)\u001b[0m\u001b[0;34m(\u001b[0m\u001b[0;34m**\u001b[0m\u001b[0mkwargs\u001b[0m\u001b[0;34m)\u001b[0m\u001b[0;34m\u001b[0m\u001b[0;34m\u001b[0m\u001b[0m\n\u001b[0m\u001b[1;32m    428\u001b[0m             \u001b[0;32mexcept\u001b[0m \u001b[0;34m(\u001b[0m\u001b[0mTypeError\u001b[0m\u001b[0;34m,\u001b[0m \u001b[0mNotImplementedError\u001b[0m\u001b[0;34m)\u001b[0m\u001b[0;34m:\u001b[0m\u001b[0;34m\u001b[0m\u001b[0;34m\u001b[0m\u001b[0m\n\u001b[1;32m    429\u001b[0m                 \u001b[0;32mif\u001b[0m \u001b[0;32mnot\u001b[0m \u001b[0mignore_failures\u001b[0m\u001b[0;34m:\u001b[0m\u001b[0;34m\u001b[0m\u001b[0;34m\u001b[0m\u001b[0m\n",
      "\u001b[0;32m~/.pyenv/versions/3.8.5/lib/python3.8/site-packages/pandas/core/internals/blocks.py\u001b[0m in \u001b[0;36m_replace_list\u001b[0;34m(self, src_list, dest_list, inplace, regex)\u001b[0m\n\u001b[1;32m    886\u001b[0m             \u001b[0;31m# in order to avoid repeating the same computations\u001b[0m\u001b[0;34m\u001b[0m\u001b[0;34m\u001b[0m\u001b[0;34m\u001b[0m\u001b[0m\n\u001b[1;32m    887\u001b[0m             \u001b[0mmask\u001b[0m \u001b[0;34m=\u001b[0m \u001b[0;34m~\u001b[0m\u001b[0misna\u001b[0m\u001b[0;34m(\u001b[0m\u001b[0mself\u001b[0m\u001b[0;34m.\u001b[0m\u001b[0mvalues\u001b[0m\u001b[0;34m)\u001b[0m\u001b[0;34m\u001b[0m\u001b[0;34m\u001b[0m\u001b[0m\n\u001b[0;32m--> 888\u001b[0;31m             \u001b[0mmasks\u001b[0m \u001b[0;34m=\u001b[0m \u001b[0;34m[\u001b[0m\u001b[0mcomp\u001b[0m\u001b[0;34m(\u001b[0m\u001b[0ms\u001b[0m\u001b[0;34m[\u001b[0m\u001b[0;36m0\u001b[0m\u001b[0;34m]\u001b[0m\u001b[0;34m,\u001b[0m \u001b[0mmask\u001b[0m\u001b[0;34m,\u001b[0m \u001b[0mregex\u001b[0m\u001b[0;34m)\u001b[0m \u001b[0;32mfor\u001b[0m \u001b[0ms\u001b[0m \u001b[0;32min\u001b[0m \u001b[0mpairs\u001b[0m\u001b[0;34m]\u001b[0m\u001b[0;34m\u001b[0m\u001b[0;34m\u001b[0m\u001b[0m\n\u001b[0m\u001b[1;32m    889\u001b[0m         \u001b[0;32melse\u001b[0m\u001b[0;34m:\u001b[0m\u001b[0;34m\u001b[0m\u001b[0;34m\u001b[0m\u001b[0m\n\u001b[1;32m    890\u001b[0m             \u001b[0;31m# GH#38086 faster if we know we dont need to check for regex\u001b[0m\u001b[0;34m\u001b[0m\u001b[0;34m\u001b[0m\u001b[0;34m\u001b[0m\u001b[0m\n",
      "\u001b[0;32m~/.pyenv/versions/3.8.5/lib/python3.8/site-packages/pandas/core/internals/blocks.py\u001b[0m in \u001b[0;36m<listcomp>\u001b[0;34m(.0)\u001b[0m\n\u001b[1;32m    886\u001b[0m             \u001b[0;31m# in order to avoid repeating the same computations\u001b[0m\u001b[0;34m\u001b[0m\u001b[0;34m\u001b[0m\u001b[0;34m\u001b[0m\u001b[0m\n\u001b[1;32m    887\u001b[0m             \u001b[0mmask\u001b[0m \u001b[0;34m=\u001b[0m \u001b[0;34m~\u001b[0m\u001b[0misna\u001b[0m\u001b[0;34m(\u001b[0m\u001b[0mself\u001b[0m\u001b[0;34m.\u001b[0m\u001b[0mvalues\u001b[0m\u001b[0;34m)\u001b[0m\u001b[0;34m\u001b[0m\u001b[0;34m\u001b[0m\u001b[0m\n\u001b[0;32m--> 888\u001b[0;31m             \u001b[0mmasks\u001b[0m \u001b[0;34m=\u001b[0m \u001b[0;34m[\u001b[0m\u001b[0mcomp\u001b[0m\u001b[0;34m(\u001b[0m\u001b[0ms\u001b[0m\u001b[0;34m[\u001b[0m\u001b[0;36m0\u001b[0m\u001b[0;34m]\u001b[0m\u001b[0;34m,\u001b[0m \u001b[0mmask\u001b[0m\u001b[0;34m,\u001b[0m \u001b[0mregex\u001b[0m\u001b[0;34m)\u001b[0m \u001b[0;32mfor\u001b[0m \u001b[0ms\u001b[0m \u001b[0;32min\u001b[0m \u001b[0mpairs\u001b[0m\u001b[0;34m]\u001b[0m\u001b[0;34m\u001b[0m\u001b[0;34m\u001b[0m\u001b[0m\n\u001b[0m\u001b[1;32m    889\u001b[0m         \u001b[0;32melse\u001b[0m\u001b[0;34m:\u001b[0m\u001b[0;34m\u001b[0m\u001b[0;34m\u001b[0m\u001b[0m\n\u001b[1;32m    890\u001b[0m             \u001b[0;31m# GH#38086 faster if we know we dont need to check for regex\u001b[0m\u001b[0;34m\u001b[0m\u001b[0;34m\u001b[0m\u001b[0;34m\u001b[0m\u001b[0m\n",
      "\u001b[0;32m~/.pyenv/versions/3.8.5/lib/python3.8/site-packages/pandas/core/internals/blocks.py\u001b[0m in \u001b[0;36mcomp\u001b[0;34m(s, mask, regex)\u001b[0m\n\u001b[1;32m    880\u001b[0m \u001b[0;34m\u001b[0m\u001b[0m\n\u001b[1;32m    881\u001b[0m             \u001b[0ms\u001b[0m \u001b[0;34m=\u001b[0m \u001b[0mmaybe_box_datetimelike\u001b[0m\u001b[0;34m(\u001b[0m\u001b[0ms\u001b[0m\u001b[0;34m)\u001b[0m\u001b[0;34m\u001b[0m\u001b[0;34m\u001b[0m\u001b[0m\n\u001b[0;32m--> 882\u001b[0;31m             \u001b[0;32mreturn\u001b[0m \u001b[0mcompare_or_regex_search\u001b[0m\u001b[0;34m(\u001b[0m\u001b[0mself\u001b[0m\u001b[0;34m.\u001b[0m\u001b[0mvalues\u001b[0m\u001b[0;34m,\u001b[0m \u001b[0ms\u001b[0m\u001b[0;34m,\u001b[0m \u001b[0mregex\u001b[0m\u001b[0;34m,\u001b[0m \u001b[0mmask\u001b[0m\u001b[0;34m)\u001b[0m\u001b[0;34m\u001b[0m\u001b[0;34m\u001b[0m\u001b[0m\n\u001b[0m\u001b[1;32m    883\u001b[0m \u001b[0;34m\u001b[0m\u001b[0m\n\u001b[1;32m    884\u001b[0m         \u001b[0;32mif\u001b[0m \u001b[0mself\u001b[0m\u001b[0;34m.\u001b[0m\u001b[0mis_object\u001b[0m\u001b[0;34m:\u001b[0m\u001b[0;34m\u001b[0m\u001b[0;34m\u001b[0m\u001b[0m\n",
      "\u001b[0;32m~/.pyenv/versions/3.8.5/lib/python3.8/site-packages/pandas/core/array_algos/replace.py\u001b[0m in \u001b[0;36mcompare_or_regex_search\u001b[0;34m(a, b, regex, mask)\u001b[0m\n\u001b[1;32m     79\u001b[0m         \u001b[0;32mreturn\u001b[0m \u001b[0;32mFalse\u001b[0m\u001b[0;34m\u001b[0m\u001b[0;34m\u001b[0m\u001b[0m\n\u001b[1;32m     80\u001b[0m \u001b[0;34m\u001b[0m\u001b[0m\n\u001b[0;32m---> 81\u001b[0;31m     \u001b[0mresult\u001b[0m \u001b[0;34m=\u001b[0m \u001b[0mop\u001b[0m\u001b[0;34m(\u001b[0m\u001b[0ma\u001b[0m\u001b[0;34m)\u001b[0m\u001b[0;34m\u001b[0m\u001b[0;34m\u001b[0m\u001b[0m\n\u001b[0m\u001b[1;32m     82\u001b[0m \u001b[0;34m\u001b[0m\u001b[0m\n\u001b[1;32m     83\u001b[0m     \u001b[0;32mif\u001b[0m \u001b[0misinstance\u001b[0m\u001b[0;34m(\u001b[0m\u001b[0mresult\u001b[0m\u001b[0;34m,\u001b[0m \u001b[0mnp\u001b[0m\u001b[0;34m.\u001b[0m\u001b[0mndarray\u001b[0m\u001b[0;34m)\u001b[0m \u001b[0;32mand\u001b[0m \u001b[0mmask\u001b[0m \u001b[0;32mis\u001b[0m \u001b[0;32mnot\u001b[0m \u001b[0;32mNone\u001b[0m\u001b[0;34m:\u001b[0m\u001b[0;34m\u001b[0m\u001b[0;34m\u001b[0m\u001b[0m\n",
      "\u001b[0;32m~/.pyenv/versions/3.8.5/lib/python3.8/site-packages/pandas/core/array_algos/replace.py\u001b[0m in \u001b[0;36m<lambda>\u001b[0;34m(x)\u001b[0m\n\u001b[1;32m     58\u001b[0m \u001b[0;34m\u001b[0m\u001b[0m\n\u001b[1;32m     59\u001b[0m     \u001b[0;32mif\u001b[0m \u001b[0;32mnot\u001b[0m \u001b[0mregex\u001b[0m\u001b[0;34m:\u001b[0m\u001b[0;34m\u001b[0m\u001b[0;34m\u001b[0m\u001b[0m\n\u001b[0;32m---> 60\u001b[0;31m         \u001b[0mop\u001b[0m \u001b[0;34m=\u001b[0m \u001b[0;32mlambda\u001b[0m \u001b[0mx\u001b[0m\u001b[0;34m:\u001b[0m \u001b[0moperator\u001b[0m\u001b[0;34m.\u001b[0m\u001b[0meq\u001b[0m\u001b[0;34m(\u001b[0m\u001b[0mx\u001b[0m\u001b[0;34m,\u001b[0m \u001b[0mb\u001b[0m\u001b[0;34m)\u001b[0m\u001b[0;34m\u001b[0m\u001b[0;34m\u001b[0m\u001b[0m\n\u001b[0m\u001b[1;32m     61\u001b[0m     \u001b[0;32melse\u001b[0m\u001b[0;34m:\u001b[0m\u001b[0;34m\u001b[0m\u001b[0;34m\u001b[0m\u001b[0m\n\u001b[1;32m     62\u001b[0m         op = np.vectorize(\n",
      "\u001b[0;31mKeyboardInterrupt\u001b[0m: "
     ]
    }
   ],
   "source": [
    "df['gender'] = df.creator_name.replace(dic)"
   ]
  },
  {
   "cell_type": "code",
   "execution_count": null,
   "id": "650f9f5d-844f-4450-8169-f09037934f9f",
   "metadata": {
    "tags": []
   },
   "outputs": [],
   "source": [
    "# Save cleaned data\n",
    "df.to_csv('data_cleaned/kickstarter_cleaned.csv')"
   ]
  },
  {
   "cell_type": "code",
   "execution_count": 53,
   "id": "22354d0f",
   "metadata": {},
   "outputs": [],
   "source": [
    "df['month_created'] = df['created_at'].dt.month\n",
    "df['month_launced'] = df['launched_at'].dt.month\n",
    "df['month_deadline'] = df['deadline'].dt.month"
   ]
  },
  {
   "cell_type": "code",
   "execution_count": 54,
   "id": "7cb15b35",
   "metadata": {},
   "outputs": [],
   "source": [
    "df['delta_public'] = (df['created_at'] - df['launched_at']) / pd.offsets.Day(-1)\n",
    "df['delta_funding'] = (df['launched_at'] - df['deadline']) / pd.offsets.Day(-1)"
   ]
  },
  {
   "cell_type": "code",
   "execution_count": 55,
   "id": "a5ea0179",
   "metadata": {},
   "outputs": [],
   "source": [
    "df['delta_public'] = df.delta_public.round(0)\n",
    "df['delta_funding'] = df.delta_funding.round(0)"
   ]
  },
  {
   "cell_type": "code",
   "execution_count": null,
   "id": "b1e29712",
   "metadata": {},
   "outputs": [],
   "source": [
    "#We will also take a look into, whether a project has been succesful prior to the deadline.\n",
    "#print(sum(df[\"deadline\"] > df[\"state_changed_at\"]))\n",
    "#print(sum(df[\"deadline\"] <= df[\"state_changed_at\"]))"
   ]
  },
  {
   "cell_type": "markdown",
   "id": "ed6f279c",
   "metadata": {},
   "source": [
    "It seems like the state of the project is either changed at the exact same time of the deadline or afterwards. Only 0.8% have reached their goal before the deadline. \n",
    "\n",
    "A creator can extend the goals of the project further, if the sum is succesfully campaigned before the deadline. There is no indication in our dataset, whether this has been done for a project."
   ]
  },
  {
   "cell_type": "code",
   "execution_count": 56,
   "id": "eb3e67c5",
   "metadata": {},
   "outputs": [
    {
     "data": {
      "text/html": [
       "<div>\n",
       "<style scoped>\n",
       "    .dataframe tbody tr th:only-of-type {\n",
       "        vertical-align: middle;\n",
       "    }\n",
       "\n",
       "    .dataframe tbody tr th {\n",
       "        vertical-align: top;\n",
       "    }\n",
       "\n",
       "    .dataframe thead th {\n",
       "        text-align: right;\n",
       "    }\n",
       "</style>\n",
       "<table border=\"1\" class=\"dataframe\">\n",
       "  <thead>\n",
       "    <tr style=\"text-align: right;\">\n",
       "      <th></th>\n",
       "      <th>backers_count</th>\n",
       "      <th>country</th>\n",
       "      <th>creator</th>\n",
       "      <th>goal</th>\n",
       "      <th>id</th>\n",
       "      <th>state</th>\n",
       "      <th>cat_id</th>\n",
       "      <th>slug</th>\n",
       "      <th>max_pledged</th>\n",
       "      <th>location_type</th>\n",
       "      <th>...</th>\n",
       "      <th>projects_successful</th>\n",
       "      <th>projects_failed</th>\n",
       "      <th>projects_successful_nm</th>\n",
       "      <th>projects_failed_nm</th>\n",
       "      <th>creator_name</th>\n",
       "      <th>month_created</th>\n",
       "      <th>month_launced</th>\n",
       "      <th>month_deadline</th>\n",
       "      <th>delta_public</th>\n",
       "      <th>delta_funding</th>\n",
       "    </tr>\n",
       "  </thead>\n",
       "  <tbody>\n",
       "    <tr>\n",
       "      <th>0</th>\n",
       "      <td>315</td>\n",
       "      <td>US</td>\n",
       "      <td>{\"id\":2094277840,\"name\":\"Lucy Conroy\",\"slug\":\"...</td>\n",
       "      <td>10.239960</td>\n",
       "      <td>2108505034</td>\n",
       "      <td>live</td>\n",
       "      <td>266</td>\n",
       "      <td>fashion/footwear</td>\n",
       "      <td>28645.0</td>\n",
       "      <td>Town</td>\n",
       "      <td>...</td>\n",
       "      <td>0</td>\n",
       "      <td>0</td>\n",
       "      <td>0</td>\n",
       "      <td>0</td>\n",
       "      <td>lucy</td>\n",
       "      <td>11</td>\n",
       "      <td>1</td>\n",
       "      <td>3</td>\n",
       "      <td>78.0</td>\n",
       "      <td>50.0</td>\n",
       "    </tr>\n",
       "    <tr>\n",
       "      <th>1</th>\n",
       "      <td>47</td>\n",
       "      <td>US</td>\n",
       "      <td>{\"id\":723886115,\"name\":\"Lisa Vollrath\",\"slug\":...</td>\n",
       "      <td>6.907755</td>\n",
       "      <td>928751314</td>\n",
       "      <td>successful</td>\n",
       "      <td>273</td>\n",
       "      <td>games/playing cards</td>\n",
       "      <td>1950.0</td>\n",
       "      <td>Town</td>\n",
       "      <td>...</td>\n",
       "      <td>7</td>\n",
       "      <td>0</td>\n",
       "      <td>6</td>\n",
       "      <td>0</td>\n",
       "      <td>lisa</td>\n",
       "      <td>8</td>\n",
       "      <td>8</td>\n",
       "      <td>9</td>\n",
       "      <td>8.0</td>\n",
       "      <td>30.0</td>\n",
       "    </tr>\n",
       "    <tr>\n",
       "      <th>2</th>\n",
       "      <td>271</td>\n",
       "      <td>US</td>\n",
       "      <td>{\"id\":323849677,\"name\":\"Electra\",\"is_registere...</td>\n",
       "      <td>9.615805</td>\n",
       "      <td>928014092</td>\n",
       "      <td>successful</td>\n",
       "      <td>43</td>\n",
       "      <td>music/rock</td>\n",
       "      <td>22404.0</td>\n",
       "      <td>Suburb</td>\n",
       "      <td>...</td>\n",
       "      <td>1</td>\n",
       "      <td>0</td>\n",
       "      <td>0</td>\n",
       "      <td>0</td>\n",
       "      <td>electra</td>\n",
       "      <td>9</td>\n",
       "      <td>5</td>\n",
       "      <td>6</td>\n",
       "      <td>225.0</td>\n",
       "      <td>30.0</td>\n",
       "    </tr>\n",
       "  </tbody>\n",
       "</table>\n",
       "<p>3 rows × 23 columns</p>\n",
       "</div>"
      ],
      "text/plain": [
       "   backers_count country                                            creator  \\\n",
       "0            315      US  {\"id\":2094277840,\"name\":\"Lucy Conroy\",\"slug\":\"...   \n",
       "1             47      US  {\"id\":723886115,\"name\":\"Lisa Vollrath\",\"slug\":...   \n",
       "2            271      US  {\"id\":323849677,\"name\":\"Electra\",\"is_registere...   \n",
       "\n",
       "        goal          id       state  cat_id                 slug  \\\n",
       "0  10.239960  2108505034        live     266     fashion/footwear   \n",
       "1   6.907755   928751314  successful     273  games/playing cards   \n",
       "2   9.615805   928014092  successful      43           music/rock   \n",
       "\n",
       "   max_pledged location_type  ... projects_successful projects_failed  \\\n",
       "0      28645.0          Town  ...                   0               0   \n",
       "1       1950.0          Town  ...                   7               0   \n",
       "2      22404.0        Suburb  ...                   1               0   \n",
       "\n",
       "   projects_successful_nm  projects_failed_nm  creator_name  month_created  \\\n",
       "0                       0                   0          lucy             11   \n",
       "1                       6                   0          lisa              8   \n",
       "2                       0                   0       electra              9   \n",
       "\n",
       "   month_launced month_deadline  delta_public  delta_funding  \n",
       "0              1              3          78.0           50.0  \n",
       "1              8              9           8.0           30.0  \n",
       "2              5              6         225.0           30.0  \n",
       "\n",
       "[3 rows x 23 columns]"
      ]
     },
     "execution_count": 56,
     "metadata": {},
     "output_type": "execute_result"
    }
   ],
   "source": [
    "df = df.drop([\"created_at\", \"deadline\", \"launched_at\",\n",
    "              #\"state_changed_at\"\n",
    "             ], axis = 1)\n",
    "df.head(3)"
   ]
  },
  {
   "cell_type": "code",
   "execution_count": 57,
   "id": "1e7e759c-8c37-4f4f-b59c-6f95512fca8f",
   "metadata": {},
   "outputs": [
    {
     "data": {
      "text/plain": [
       "Index(['backers_count', 'country', 'creator', 'goal', 'id', 'state', 'cat_id',\n",
       "       'slug', 'max_pledged', 'location_type', 'location_city',\n",
       "       'location_state', 'location_score', 'projects_successful',\n",
       "       'projects_failed', 'projects_successful_nm', 'projects_failed_nm',\n",
       "       'creator_name', 'month_created', 'month_launced', 'month_deadline',\n",
       "       'delta_public', 'delta_funding'],\n",
       "      dtype='object')"
      ]
     },
     "execution_count": 57,
     "metadata": {},
     "output_type": "execute_result"
    }
   ],
   "source": [
    "df.columns"
   ]
  },
  {
   "cell_type": "code",
   "execution_count": 58,
   "id": "d73f6d08",
   "metadata": {},
   "outputs": [],
   "source": [
    "# set Checkpoint after creating time-frame features\n",
    "df2 = df.copy()"
   ]
  },
  {
   "cell_type": "markdown",
   "id": "45b4dd6a",
   "metadata": {},
   "source": [
    "## Predictive Modelling"
   ]
  },
  {
   "cell_type": "markdown",
   "id": "ee1991eb",
   "metadata": {},
   "source": [
    "Now we will construct models to predict the success of each project based on the features obtained/ created. \n",
    "\n",
    "Therefore our target feature will be `state`\n",
    "."
   ]
  },
  {
   "cell_type": "code",
   "execution_count": 59,
   "id": "0a0e62e6",
   "metadata": {},
   "outputs": [],
   "source": [
    "# Import of relevant packages\n",
    "import numpy as np\n",
    "import pandas as pd\n",
    "import warnings\n",
    "import matplotlib.pyplot as plt\n",
    "import seaborn as sns\n",
    "\n",
    "from sklearn.pipeline import Pipeline\n",
    "from sklearn.compose import ColumnTransformer\n",
    "from sklearn.preprocessing import OneHotEncoder, StandardScaler\n",
    "from sklearn.impute import SimpleImputer\n",
    "from sklearn.model_selection import train_test_split\n",
    "from sklearn.model_selection import GridSearchCV, RandomizedSearchCV\n",
    "from sklearn.model_selection import cross_val_predict, cross_val_score, cross_validate\n",
    "from sklearn.metrics import roc_curve, confusion_matrix, accuracy_score, recall_score, precision_score\n",
    "\n",
    "from sklearn.linear_model import LogisticRegression\n",
    "\n",
    "# Set random seed \n",
    "RSEED = 42"
   ]
  },
  {
   "cell_type": "code",
   "execution_count": 60,
   "id": "86c9bada",
   "metadata": {},
   "outputs": [
    {
     "data": {
      "text/html": [
       "<div>\n",
       "<style scoped>\n",
       "    .dataframe tbody tr th:only-of-type {\n",
       "        vertical-align: middle;\n",
       "    }\n",
       "\n",
       "    .dataframe tbody tr th {\n",
       "        vertical-align: top;\n",
       "    }\n",
       "\n",
       "    .dataframe thead th {\n",
       "        text-align: right;\n",
       "    }\n",
       "</style>\n",
       "<table border=\"1\" class=\"dataframe\">\n",
       "  <thead>\n",
       "    <tr style=\"text-align: right;\">\n",
       "      <th></th>\n",
       "      <th>backers_count</th>\n",
       "      <th>country</th>\n",
       "      <th>creator</th>\n",
       "      <th>goal</th>\n",
       "      <th>id</th>\n",
       "      <th>state</th>\n",
       "      <th>cat_id</th>\n",
       "      <th>slug</th>\n",
       "      <th>max_pledged</th>\n",
       "      <th>location_type</th>\n",
       "      <th>...</th>\n",
       "      <th>projects_successful</th>\n",
       "      <th>projects_failed</th>\n",
       "      <th>projects_successful_nm</th>\n",
       "      <th>projects_failed_nm</th>\n",
       "      <th>creator_name</th>\n",
       "      <th>month_created</th>\n",
       "      <th>month_launced</th>\n",
       "      <th>month_deadline</th>\n",
       "      <th>delta_public</th>\n",
       "      <th>delta_funding</th>\n",
       "    </tr>\n",
       "  </thead>\n",
       "  <tbody>\n",
       "    <tr>\n",
       "      <th>0</th>\n",
       "      <td>315</td>\n",
       "      <td>US</td>\n",
       "      <td>{\"id\":2094277840,\"name\":\"Lucy Conroy\",\"slug\":\"...</td>\n",
       "      <td>10.239960</td>\n",
       "      <td>2108505034</td>\n",
       "      <td>live</td>\n",
       "      <td>266</td>\n",
       "      <td>fashion/footwear</td>\n",
       "      <td>28645.000000</td>\n",
       "      <td>Town</td>\n",
       "      <td>...</td>\n",
       "      <td>0</td>\n",
       "      <td>0</td>\n",
       "      <td>0</td>\n",
       "      <td>0</td>\n",
       "      <td>lucy</td>\n",
       "      <td>11</td>\n",
       "      <td>1</td>\n",
       "      <td>3</td>\n",
       "      <td>78.0</td>\n",
       "      <td>50.0</td>\n",
       "    </tr>\n",
       "    <tr>\n",
       "      <th>1</th>\n",
       "      <td>47</td>\n",
       "      <td>US</td>\n",
       "      <td>{\"id\":723886115,\"name\":\"Lisa Vollrath\",\"slug\":...</td>\n",
       "      <td>6.907755</td>\n",
       "      <td>928751314</td>\n",
       "      <td>successful</td>\n",
       "      <td>273</td>\n",
       "      <td>games/playing cards</td>\n",
       "      <td>1950.000000</td>\n",
       "      <td>Town</td>\n",
       "      <td>...</td>\n",
       "      <td>7</td>\n",
       "      <td>0</td>\n",
       "      <td>6</td>\n",
       "      <td>0</td>\n",
       "      <td>lisa</td>\n",
       "      <td>8</td>\n",
       "      <td>8</td>\n",
       "      <td>9</td>\n",
       "      <td>8.0</td>\n",
       "      <td>30.0</td>\n",
       "    </tr>\n",
       "    <tr>\n",
       "      <th>2</th>\n",
       "      <td>271</td>\n",
       "      <td>US</td>\n",
       "      <td>{\"id\":323849677,\"name\":\"Electra\",\"is_registere...</td>\n",
       "      <td>9.615805</td>\n",
       "      <td>928014092</td>\n",
       "      <td>successful</td>\n",
       "      <td>43</td>\n",
       "      <td>music/rock</td>\n",
       "      <td>22404.000000</td>\n",
       "      <td>Suburb</td>\n",
       "      <td>...</td>\n",
       "      <td>1</td>\n",
       "      <td>0</td>\n",
       "      <td>0</td>\n",
       "      <td>0</td>\n",
       "      <td>electra</td>\n",
       "      <td>9</td>\n",
       "      <td>5</td>\n",
       "      <td>6</td>\n",
       "      <td>225.0</td>\n",
       "      <td>30.0</td>\n",
       "    </tr>\n",
       "    <tr>\n",
       "      <th>3</th>\n",
       "      <td>3</td>\n",
       "      <td>GB</td>\n",
       "      <td>{\"id\":196281496,\"name\":\"Artur Ordijanc (delete...</td>\n",
       "      <td>9.210340</td>\n",
       "      <td>596091328</td>\n",
       "      <td>failed</td>\n",
       "      <td>273</td>\n",
       "      <td>games/playing cards</td>\n",
       "      <td>165.384934</td>\n",
       "      <td>Town</td>\n",
       "      <td>...</td>\n",
       "      <td>0</td>\n",
       "      <td>2</td>\n",
       "      <td>0</td>\n",
       "      <td>1</td>\n",
       "      <td>artur</td>\n",
       "      <td>1</td>\n",
       "      <td>1</td>\n",
       "      <td>3</td>\n",
       "      <td>5.0</td>\n",
       "      <td>60.0</td>\n",
       "    </tr>\n",
       "    <tr>\n",
       "      <th>4</th>\n",
       "      <td>3</td>\n",
       "      <td>US</td>\n",
       "      <td>{\"id\":1178460181,\"name\":\"Dawn Johnston\",\"is_re...</td>\n",
       "      <td>7.937375</td>\n",
       "      <td>998516049</td>\n",
       "      <td>successful</td>\n",
       "      <td>48</td>\n",
       "      <td>publishing/nonfiction</td>\n",
       "      <td>2820.000000</td>\n",
       "      <td>Town</td>\n",
       "      <td>...</td>\n",
       "      <td>1</td>\n",
       "      <td>0</td>\n",
       "      <td>0</td>\n",
       "      <td>0</td>\n",
       "      <td>dawn</td>\n",
       "      <td>12</td>\n",
       "      <td>12</td>\n",
       "      <td>1</td>\n",
       "      <td>4.0</td>\n",
       "      <td>30.0</td>\n",
       "    </tr>\n",
       "  </tbody>\n",
       "</table>\n",
       "<p>5 rows × 23 columns</p>\n",
       "</div>"
      ],
      "text/plain": [
       "   backers_count country                                            creator  \\\n",
       "0            315      US  {\"id\":2094277840,\"name\":\"Lucy Conroy\",\"slug\":\"...   \n",
       "1             47      US  {\"id\":723886115,\"name\":\"Lisa Vollrath\",\"slug\":...   \n",
       "2            271      US  {\"id\":323849677,\"name\":\"Electra\",\"is_registere...   \n",
       "3              3      GB  {\"id\":196281496,\"name\":\"Artur Ordijanc (delete...   \n",
       "4              3      US  {\"id\":1178460181,\"name\":\"Dawn Johnston\",\"is_re...   \n",
       "\n",
       "        goal          id       state  cat_id                   slug  \\\n",
       "0  10.239960  2108505034        live     266       fashion/footwear   \n",
       "1   6.907755   928751314  successful     273    games/playing cards   \n",
       "2   9.615805   928014092  successful      43             music/rock   \n",
       "3   9.210340   596091328      failed     273    games/playing cards   \n",
       "4   7.937375   998516049  successful      48  publishing/nonfiction   \n",
       "\n",
       "    max_pledged location_type  ... projects_successful projects_failed  \\\n",
       "0  28645.000000          Town  ...                   0               0   \n",
       "1   1950.000000          Town  ...                   7               0   \n",
       "2  22404.000000        Suburb  ...                   1               0   \n",
       "3    165.384934          Town  ...                   0               2   \n",
       "4   2820.000000          Town  ...                   1               0   \n",
       "\n",
       "   projects_successful_nm  projects_failed_nm  creator_name  month_created  \\\n",
       "0                       0                   0          lucy             11   \n",
       "1                       6                   0          lisa              8   \n",
       "2                       0                   0       electra              9   \n",
       "3                       0                   1         artur              1   \n",
       "4                       0                   0          dawn             12   \n",
       "\n",
       "   month_launced month_deadline  delta_public  delta_funding  \n",
       "0              1              3          78.0           50.0  \n",
       "1              8              9           8.0           30.0  \n",
       "2              5              6         225.0           30.0  \n",
       "3              1              3           5.0           60.0  \n",
       "4             12              1           4.0           30.0  \n",
       "\n",
       "[5 rows x 23 columns]"
      ]
     },
     "execution_count": 60,
     "metadata": {},
     "output_type": "execute_result"
    }
   ],
   "source": [
    "df.head()"
   ]
  },
  {
   "cell_type": "code",
   "execution_count": 61,
   "id": "9de4eee4",
   "metadata": {},
   "outputs": [
    {
     "name": "stdout",
     "output_type": "stream",
     "text": [
      "<class 'pandas.core.frame.DataFrame'>\n",
      "Int64Index: 181955 entries, 0 to 3791\n",
      "Data columns (total 23 columns):\n",
      " #   Column                  Non-Null Count   Dtype  \n",
      "---  ------                  --------------   -----  \n",
      " 0   backers_count           181955 non-null  int64  \n",
      " 1   country                 181955 non-null  object \n",
      " 2   creator                 181955 non-null  object \n",
      " 3   goal                    181955 non-null  float64\n",
      " 4   id                      181955 non-null  int64  \n",
      " 5   state                   181955 non-null  object \n",
      " 6   cat_id                  181955 non-null  int64  \n",
      " 7   slug                    181955 non-null  object \n",
      " 8   max_pledged             181955 non-null  float64\n",
      " 9   location_type           181955 non-null  object \n",
      " 10  location_city           181955 non-null  object \n",
      " 11  location_state          181906 non-null  object \n",
      " 12  location_score          181955 non-null  int64  \n",
      " 13  projects_successful     181955 non-null  int64  \n",
      " 14  projects_failed         181955 non-null  int64  \n",
      " 15  projects_successful_nm  181955 non-null  int64  \n",
      " 16  projects_failed_nm      181955 non-null  int64  \n",
      " 17  creator_name            181955 non-null  object \n",
      " 18  month_created           181955 non-null  int64  \n",
      " 19  month_launced           181955 non-null  int64  \n",
      " 20  month_deadline          181955 non-null  int64  \n",
      " 21  delta_public            181955 non-null  float64\n",
      " 22  delta_funding           181955 non-null  float64\n",
      "dtypes: float64(4), int64(11), object(8)\n",
      "memory usage: 33.3+ MB\n"
     ]
    }
   ],
   "source": [
    "df.info()"
   ]
  },
  {
   "cell_type": "code",
   "execution_count": 62,
   "id": "8d6e5090",
   "metadata": {},
   "outputs": [],
   "source": [
    "df_pred = df.copy()"
   ]
  },
  {
   "cell_type": "code",
   "execution_count": 63,
   "id": "c1123ade",
   "metadata": {},
   "outputs": [],
   "source": [
    "# Transform type objects to string\n",
    "\n",
    "df_pred['country'] = df_pred['country'].astype(str)\n",
    "df_pred['slug'] = df_pred['slug'].astype(str)\n",
    "df_pred['location_type'] = df_pred['location_type'].astype(str)\n",
    "df_pred['location_city'] = df_pred['location_city'].astype(str)\n",
    "df_pred['location_state'] = df_pred['location_state'].astype(str)"
   ]
  },
  {
   "cell_type": "markdown",
   "id": "f01d86b2",
   "metadata": {},
   "source": [
    "Since most of the project originate from the US, and the information from the `location_state` does not work for countries w/o a federal system, we will change the value or `location_state`.\n",
    "\n",
    "If a project originates from the US, the state will be stored, if from another country, the name of the country. We will also drop the feature `location_city`, because there are over 14,000 different values and would hinder our ability to predict. \n",
    "\n",
    "The location information is still available in the features `country`, `location_state` and `location_type`-"
   ]
  },
  {
   "cell_type": "code",
   "execution_count": 64,
   "id": "fa77d665",
   "metadata": {},
   "outputs": [
    {
     "name": "stderr",
     "output_type": "stream",
     "text": [
      "/Users/bur.oez/.pyenv/versions/3.8.5/lib/python3.8/site-packages/pandas/core/indexing.py:1637: SettingWithCopyWarning: \n",
      "A value is trying to be set on a copy of a slice from a DataFrame\n",
      "\n",
      "See the caveats in the documentation: https://pandas.pydata.org/pandas-docs/stable/user_guide/indexing.html#returning-a-view-versus-a-copy\n",
      "  self._setitem_single_block(indexer, value, name)\n"
     ]
    }
   ],
   "source": [
    "for i in range(len(df.location_city)):\n",
    "    if df.country.iloc[i] != \"US\":\n",
    "        \n",
    "        temp = df.location_city.iloc[i].split(\", \")\n",
    "        if len(temp) == 2:\n",
    "            df_pred.location_state.iloc[i] = temp[1]\n",
    "        else:\n",
    "            df_pred.location_state.iloc[i] = temp[0]\n",
    "    else: \n",
    "        pass\n",
    "df_pred.drop([\"location_city\"], axis=1, inplace = True);"
   ]
  },
  {
   "cell_type": "code",
   "execution_count": 65,
   "id": "4e8385ea",
   "metadata": {},
   "outputs": [
    {
     "data": {
      "text/plain": [
       "['country',\n",
       " 'creator',\n",
       " 'slug',\n",
       " 'location_type',\n",
       " 'location_state',\n",
       " 'creator_name',\n",
       " 'id',\n",
       " 'cat_id']"
      ]
     },
     "execution_count": 65,
     "metadata": {},
     "output_type": "execute_result"
    }
   ],
   "source": [
    "# Creating list for categorical features \n",
    "cat_features = list(df_pred.columns[df_pred.dtypes==object])\n",
    "cat_features.remove('state')\n",
    "cat_features.append('id')\n",
    "cat_features.append('cat_id')\n",
    "cat_features"
   ]
  },
  {
   "cell_type": "code",
   "execution_count": 66,
   "id": "0310a0c3",
   "metadata": {},
   "outputs": [
    {
     "data": {
      "text/plain": [
       "['backers_count',\n",
       " 'goal',\n",
       " 'max_pledged',\n",
       " 'location_score',\n",
       " 'projects_successful',\n",
       " 'projects_failed',\n",
       " 'projects_successful_nm',\n",
       " 'projects_failed_nm',\n",
       " 'month_created',\n",
       " 'month_launced',\n",
       " 'month_deadline',\n",
       " 'delta_public',\n",
       " 'delta_funding']"
      ]
     },
     "execution_count": 66,
     "metadata": {},
     "output_type": "execute_result"
    }
   ],
   "source": [
    "# Creating list for numerical predictors/features\n",
    "num_features = list(df_pred.columns[df_pred.dtypes!=object])\n",
    "num_features.remove('id')\n",
    "num_features.remove('cat_id')\n",
    "num_features"
   ]
  },
  {
   "cell_type": "code",
   "execution_count": 73,
   "id": "50563ef7",
   "metadata": {},
   "outputs": [
    {
     "name": "stdout",
     "output_type": "stream",
     "text": [
      "{int64: ['backers_count', 'id', 'cat_id', 'location_score', 'projects_successful', 'projects_failed', 'projects_successful_nm', 'projects_failed_nm', 'month_created', 'month_launced', 'month_deadline'], float64: ['goal', 'max_pledged', 'delta_public', 'delta_funding'], object: ['country', 'creator', 'state', 'slug', 'location_type', 'location_city', 'location_state', 'creator_name']}\n"
     ]
    }
   ],
   "source": [
    "print(df.columns.to_series().groupby(df.dtypes).groups)"
   ]
  },
  {
   "cell_type": "markdown",
   "id": "e6f2011d",
   "metadata": {},
   "source": [
    "## Data Preprocessing and target formulation"
   ]
  },
  {
   "cell_type": "code",
   "execution_count": 67,
   "id": "425cc8e1",
   "metadata": {},
   "outputs": [],
   "source": [
    "# Define features and target variable\n",
    "features = df_pred.drop('state', axis=1)\n",
    "target = df_pred['state']"
   ]
  },
  {
   "cell_type": "code",
   "execution_count": null,
   "id": "fd32a0a7",
   "metadata": {},
   "outputs": [],
   "source": [
    "# One-hot encode the 'features_raw' data using pandas.get_dummies()\n",
    "features = pd.get_dummies(features)\n",
    "# Convert target feature into binary\n",
    "target = target.apply(lambda x: \"pos\" if x == 'successful' else \"neg\")"
   ]
  },
  {
   "cell_type": "code",
   "execution_count": 66,
   "id": "a0e78024",
   "metadata": {},
   "outputs": [
    {
     "name": "stdout",
     "output_type": "stream",
     "text": [
      "1193 total features after one-hot encoding.\n"
     ]
    }
   ],
   "source": [
    "# Print the number of features after one-hot encoding\n",
    "encoded = list(features.columns)\n",
    "print (\"{} total features after one-hot encoding.\".format(len(encoded)))"
   ]
  },
  {
   "cell_type": "code",
   "execution_count": 67,
   "id": "ac7d9cde",
   "metadata": {},
   "outputs": [
    {
     "data": {
      "text/plain": [
       "array(['neg', 'pos'], dtype=object)"
      ]
     },
     "execution_count": 67,
     "metadata": {},
     "output_type": "execute_result"
    }
   ],
   "source": [
    "np.unique(target)"
   ]
  },
  {
   "cell_type": "markdown",
   "id": "787ef500",
   "metadata": {},
   "source": [
    "## Train-Test-Split"
   ]
  },
  {
   "cell_type": "code",
   "execution_count": 68,
   "id": "e6b18aca",
   "metadata": {},
   "outputs": [],
   "source": [
    "X_train, X_test, y_train, y_test = train_test_split(features, target, test_size=0.2, random_state=RSEED)"
   ]
  },
  {
   "cell_type": "code",
   "execution_count": 69,
   "id": "0c7c6f24",
   "metadata": {},
   "outputs": [
    {
     "name": "stdout",
     "output_type": "stream",
     "text": [
      "X_train shape: (136109, 1193)\n",
      "X_test shape: (34028, 1193)\n",
      "y_train shape: (136109,)\n",
      "y_test shape: (34028,)\n"
     ]
    }
   ],
   "source": [
    "print('X_train shape:', X_train.shape)\n",
    "print('X_test shape:', X_test.shape)\n",
    "print('y_train shape:', y_train.shape)\n",
    "print('y_test shape:', y_test.shape)"
   ]
  },
  {
   "cell_type": "markdown",
   "id": "198f4a09",
   "metadata": {},
   "source": [
    "## Normalizing Numerical Features"
   ]
  },
  {
   "cell_type": "code",
   "execution_count": 70,
   "id": "a9dc689b",
   "metadata": {},
   "outputs": [
    {
     "name": "stderr",
     "output_type": "stream",
     "text": [
      "<ipython-input-70-d0fea70d0133>:7: SettingWithCopyWarning: \n",
      "A value is trying to be set on a copy of a slice from a DataFrame.\n",
      "Try using .loc[row_indexer,col_indexer] = value instead\n",
      "\n",
      "See the caveats in the documentation: https://pandas.pydata.org/pandas-docs/stable/user_guide/indexing.html#returning-a-view-versus-a-copy\n",
      "  X_train['numerical'] = scaler.fit_transform(X_train[numerical])\n",
      "<ipython-input-70-d0fea70d0133>:8: SettingWithCopyWarning: \n",
      "A value is trying to be set on a copy of a slice from a DataFrame.\n",
      "Try using .loc[row_indexer,col_indexer] = value instead\n",
      "\n",
      "See the caveats in the documentation: https://pandas.pydata.org/pandas-docs/stable/user_guide/indexing.html#returning-a-view-versus-a-copy\n",
      "  X_test['numerical'] = scaler.transform(X_test[numerical])\n"
     ]
    }
   ],
   "source": [
    "# Import sklearn.preprocessing.StandardScaler\n",
    "from sklearn.preprocessing import MinMaxScaler\n",
    "\n",
    "# Initialize a scaler, then apply it to the features\n",
    "scaler = MinMaxScaler()\n",
    "numerical = ['goal']\n",
    "X_train['numerical'] = scaler.fit_transform(X_train[numerical])\n",
    "X_test['numerical'] = scaler.transform(X_test[numerical])"
   ]
  },
  {
   "cell_type": "markdown",
   "id": "cfe7898b",
   "metadata": {},
   "source": [
    "## Training and Prediction Pipeline"
   ]
  },
  {
   "cell_type": "code",
   "execution_count": 71,
   "id": "180e0bb6",
   "metadata": {},
   "outputs": [],
   "source": [
    "from sklearn.metrics import fbeta_score, accuracy_score\n",
    "\n",
    "# Define a train and evaluation function \n",
    "def train_predict(learner, sample_size, X_train, y_train, X_test, y_test): \n",
    "    '''\n",
    "    inputs:\n",
    "       - learner: the learning algorithm to be trained and predicted on\n",
    "       - sample_size: the size of samples (number) to be drawn from training set\n",
    "       - X_train: features training set\n",
    "       - y_train: income training set\n",
    "       - X_test: features testing set\n",
    "       - y_test: income testing set\n",
    "    '''\n",
    "    \n",
    "    results = {}\n",
    "    \n",
    "   # TODO: Fit the learner to the training data using slicing with 'sample_size'\n",
    "    start = time() # Get start time\n",
    "    learner = learner.fit(X_train[:sample_size], y_train[:sample_size])\n",
    "    end = time() # Get end time\n",
    "    \n",
    "    # TODO: Calculate the training time\n",
    "    results['train_time'] = end - start\n",
    "        \n",
    "    # TODO: Get the predictions on the test set,\n",
    "    #       then get predictions on the first 300 training samples\n",
    "    start = time() # Get start time\n",
    "    predictions_test = learner.predict(X_test)\n",
    "    predictions_train = learner.predict(X_train[:300])\n",
    "    end = time() # Get end time\n",
    "    \n",
    "    # TODO: Calculate the total prediction time\n",
    "    results['pred_time'] = end - start\n",
    "            \n",
    "    # TODO: Compute accuracy on the first 300 training samples\n",
    "    results['acc_train'] = accuracy_score(y_train[:300], predictions_train)\n",
    "        \n",
    "    # TODO: Compute accuracy on test set\n",
    "    results['acc_test'] = accuracy_score(y_test,predictions_test)\n",
    "    \n",
    "    # TODO: Compute F-score on the the first 300 training samples\n",
    "    results['f_train'] = fbeta_score(y_train[:300], predictions_train, beta=0.5, pos_label=\"pos\")\n",
    "        \n",
    "    # TODO: Compute F-score on the test set\n",
    "    results['f_test'] = fbeta_score(y_test, predictions_test, beta=0.5, pos_label=\"pos\")\n",
    "       \n",
    "    # Success\n",
    "    print (\"{} trained on {} samples.\".format(learner.__class__.__name__, sample_size))\n",
    "        \n",
    "    # Return the results\n",
    "    return results"
   ]
  },
  {
   "cell_type": "markdown",
   "id": "92e199cc",
   "metadata": {},
   "source": [
    "## Model evaluation\n"
   ]
  },
  {
   "cell_type": "markdown",
   "id": "b8f7cbc8",
   "metadata": {},
   "source": [
    "### Naive Predictor"
   ]
  },
  {
   "cell_type": "code",
   "execution_count": 72,
   "id": "e5fe4190",
   "metadata": {},
   "outputs": [
    {
     "data": {
      "text/plain": [
       "pos    0.564698\n",
       "neg    0.435302\n",
       "Name: state, dtype: float64"
      ]
     },
     "execution_count": 72,
     "metadata": {},
     "output_type": "execute_result"
    }
   ],
   "source": [
    "target.value_counts([0])"
   ]
  },
  {
   "cell_type": "code",
   "execution_count": 73,
   "id": "aad88e2f",
   "metadata": {},
   "outputs": [
    {
     "name": "stdout",
     "output_type": "stream",
     "text": [
      "Naive Predictor: [Accuracy score: 0.5647, F-score: 0.5556]\n"
     ]
    }
   ],
   "source": [
    "# TODO: Calculate accuracy\n",
    "accuracy = 0.564698 \n",
    "\n",
    "# TODO: Calculating precision\n",
    "precision = 0.5\n",
    "\n",
    "# TODO: Calculating recall\n",
    "recall = 1\n",
    "\n",
    "# TODO: Calculate F-score using the formula above for beta = 0.5\n",
    "fscore =  (1  + (0.5*0.5)) * ( precision * recall / (( 0.5*0.5 * (precision))+ recall))\n",
    "\n",
    "# Print the results \n",
    "print (\"Naive Predictor: [Accuracy score: {:.4f}, F-score: {:.4f}]\".format(accuracy, fscore))"
   ]
  },
  {
   "cell_type": "markdown",
   "id": "592f9994",
   "metadata": {},
   "source": [
    "### Model Application"
   ]
  },
  {
   "cell_type": "code",
   "execution_count": 74,
   "id": "f90420a9",
   "metadata": {},
   "outputs": [],
   "source": [
    "from time import time\n",
    "\n",
    "from sklearn.tree import DecisionTreeClassifier\n",
    "from sklearn.svm import SVC\n",
    "from sklearn.ensemble import AdaBoostClassifier\n",
    "from sklearn.linear_model import LogisticRegression\n",
    "from sklearn.naive_bayes import MultinomialNB"
   ]
  },
  {
   "cell_type": "code",
   "execution_count": 75,
   "id": "f9e2eece",
   "metadata": {},
   "outputs": [],
   "source": [
    "clf_dtree = DecisionTreeClassifier(random_state=101)\n",
    "clf_svc = SVC(random_state=101)\n",
    "clf_aboost = AdaBoostClassifier(random_state=101)\n",
    "clf_logreg = LogisticRegression(random_state=101)\n",
    "clf_multiNB = MultinomialNB()"
   ]
  },
  {
   "cell_type": "code",
   "execution_count": 78,
   "id": "4ba079d8",
   "metadata": {},
   "outputs": [],
   "source": [
    "samples_1 = int(round(len(X_train) / 100))\n",
    "samples_10 = int(round(len(X_train) / 10))\n",
    "samples_25 = int(round(len(X_train) / 4))\n",
    "samples_100 = len(X_train)"
   ]
  },
  {
   "cell_type": "code",
   "execution_count": 77,
   "id": "5f8992ed",
   "metadata": {},
   "outputs": [
    {
     "name": "stdout",
     "output_type": "stream",
     "text": [
      "LogisticRegression trained on 1361 samples.\n",
      "LogisticRegression trained on 13611 samples.\n",
      "LogisticRegression trained on 136109 samples.\n",
      "DecisionTreeClassifier trained on 1361 samples.\n",
      "DecisionTreeClassifier trained on 13611 samples.\n",
      "DecisionTreeClassifier trained on 136109 samples.\n",
      "MultinomialNB trained on 1361 samples.\n",
      "MultinomialNB trained on 13611 samples.\n",
      "MultinomialNB trained on 136109 samples.\n"
     ]
    }
   ],
   "source": [
    "results = {}\n",
    "for clf in [clf_logreg, clf_dtree, clf_multiNB]:\n",
    "    clf_name = clf.__class__.__name__\n",
    "    results[clf_name] = {}\n",
    "    for i, samples in enumerate([samples_1, samples_10, samples_100]):\n",
    "        results[clf_name][i] = \\\n",
    "        train_predict(clf, samples, X_train, y_train, X_test, y_test)"
   ]
  },
  {
   "cell_type": "code",
   "execution_count": 81,
   "id": "14c52aca",
   "metadata": {},
   "outputs": [
    {
     "name": "stdout",
     "output_type": "stream",
     "text": [
      "SVC trained on 34027 samples.\n"
     ]
    }
   ],
   "source": [
    "results[\"clf_svc\"] = {}\n",
    "results[\"clf_svc\"][2] = \\\n",
    "train_predict(clf_svc,samples_25, X_train, y_train, X_test, y_test)"
   ]
  },
  {
   "cell_type": "code",
   "execution_count": 82,
   "id": "e3ba04b5",
   "metadata": {},
   "outputs": [
    {
     "data": {
      "text/plain": [
       "{'LogisticRegression': {0: {'train_time': 0.14533782005310059,\n",
       "   'pred_time': 0.5248539447784424,\n",
       "   'acc_train': 0.5833333333333334,\n",
       "   'acc_test': 0.5629775479017279,\n",
       "   'f_train': 0.6363636363636365,\n",
       "   'f_test': 0.616897126921665},\n",
       "  1: {'train_time': 0.42053699493408203,\n",
       "   'pred_time': 0.6017630100250244,\n",
       "   'acc_train': 0.5833333333333334,\n",
       "   'acc_test': 0.5629775479017279,\n",
       "   'f_train': 0.6363636363636365,\n",
       "   'f_test': 0.616897126921665},\n",
       "  2: {'train_time': 6.640020132064819,\n",
       "   'pred_time': 0.25148582458496094,\n",
       "   'acc_train': 0.5833333333333334,\n",
       "   'acc_test': 0.5629775479017279,\n",
       "   'f_train': 0.6363636363636365,\n",
       "   'f_test': 0.616897126921665}},\n",
       " 'DecisionTreeClassifier': {0: {'train_time': 0.05267810821533203,\n",
       "   'pred_time': 0.3929593563079834,\n",
       "   'acc_train': 1.0,\n",
       "   'acc_test': 0.9430762901140237,\n",
       "   'f_train': 1.0,\n",
       "   'f_test': 0.94420534732993},\n",
       "  1: {'train_time': 0.43224501609802246,\n",
       "   'pred_time': 0.5890278816223145,\n",
       "   'acc_train': 1.0,\n",
       "   'acc_test': 0.9853062184083696,\n",
       "   'f_train': 1.0,\n",
       "   'f_test': 0.9858649152207176},\n",
       "  2: {'train_time': 13.280618906021118,\n",
       "   'pred_time': 0.37081122398376465,\n",
       "   'acc_train': 1.0,\n",
       "   'acc_test': 0.9961502292229928,\n",
       "   'f_train': 1.0,\n",
       "   'f_test': 0.9961004702374124}},\n",
       " 'MultinomialNB': {0: {'train_time': 0.03570723533630371,\n",
       "   'pred_time': 0.3212621212005615,\n",
       "   'acc_train': 0.8066666666666666,\n",
       "   'acc_test': 0.8052192312213471,\n",
       "   'f_train': 0.8962962962962963,\n",
       "   'f_test': 0.8900853506500622},\n",
       "  1: {'train_time': 0.1623528003692627,\n",
       "   'pred_time': 0.36626482009887695,\n",
       "   'acc_train': 0.6866666666666666,\n",
       "   'acc_test': 0.6981897261079111,\n",
       "   'f_train': 0.6994404476418864,\n",
       "   'f_test': 0.699850217367479},\n",
       "  2: {'train_time': 2.1647439002990723,\n",
       "   'pred_time': 0.28285694122314453,\n",
       "   'acc_train': 0.6866666666666666,\n",
       "   'acc_test': 0.6921065005289762,\n",
       "   'f_train': 0.6994404476418864,\n",
       "   'f_test': 0.6956417537565454}},\n",
       " 'clf_svc': {2: {'train_time': 863.7074508666992,\n",
       "   'pred_time': 1091.0933430194855,\n",
       "   'acc_train': 0.5833333333333334,\n",
       "   'acc_test': 0.5629775479017279,\n",
       "   'f_train': 0.6363636363636365,\n",
       "   'f_test': 0.616897126921665}}}"
      ]
     },
     "execution_count": 82,
     "metadata": {},
     "output_type": "execute_result"
    }
   ],
   "source": [
    "results"
   ]
  },
  {
   "cell_type": "markdown",
   "id": "babe09cf",
   "metadata": {},
   "source": [
    "### Metric evaluation and Plotting functions for model performance visualisation"
   ]
  },
  {
   "cell_type": "code",
   "execution_count": 83,
   "id": "a1692b66",
   "metadata": {},
   "outputs": [],
   "source": [
    "###########################################\n",
    "# Suppress matplotlib user warnings\n",
    "# Necessary for newer version of matplotlib\n",
    "import warnings\n",
    "warnings.filterwarnings(\"ignore\", category = UserWarning, module = \"matplotlib\")\n",
    "#\n",
    "# Display inline matplotlib plots with IPython\n",
    "from IPython import get_ipython\n",
    "get_ipython().run_line_magic('matplotlib', 'inline')\n",
    "###########################################\n",
    "\n",
    "import matplotlib.pyplot as pl\n",
    "import matplotlib.patches as mpatches\n",
    "import numpy as np\n",
    "import pandas as pd\n",
    "from time import time\n",
    "from sklearn.metrics import f1_score, accuracy_score\n",
    "\n",
    "\n",
    "def distribution(data, transformed = False):\n",
    "    \"\"\"\n",
    "    Visualization code for displaying skewed distributions of features\n",
    "    \"\"\"\n",
    "    \n",
    "    # Create figure\n",
    "    fig = pl.figure(figsize = (11,5));\n",
    "\n",
    "    # Skewed feature plotting\n",
    "    for i, feature in enumerate(['capital-gain','capital-loss']):\n",
    "        ax = fig.add_subplot(1, 2, i+1)\n",
    "        ax.hist(data[feature], bins = 25, color = '#00A0A0')\n",
    "        ax.set_title(\"'%s' Feature Distribution\"%(feature), fontsize = 14)\n",
    "        ax.set_xlabel(\"Value\")\n",
    "        ax.set_ylabel(\"Number of Records\")\n",
    "        ax.set_ylim((0, 2000))\n",
    "        ax.set_yticks([0, 500, 1000, 1500, 2000])\n",
    "        ax.set_yticklabels([0, 500, 1000, 1500, \">2000\"])\n",
    "\n",
    "    # Plot aesthetics\n",
    "    if transformed:\n",
    "        fig.suptitle(\"Log-transformed Distributions of Continuous Census Data Features\", \\\n",
    "            fontsize = 16, y = 1.03)\n",
    "    else:\n",
    "        fig.suptitle(\"Skewed Distributions of Continuous Census Data Features\", \\\n",
    "            fontsize = 16, y = 1.03)\n",
    "\n",
    "    fig.tight_layout()\n",
    "    fig.show()\n",
    "\n",
    "\n",
    "def evaluate(results, accuracy, f1):\n",
    "    \"\"\"\n",
    "    Visualization code to display results of various learners.\n",
    "    \n",
    "    inputs:\n",
    "      - learners: a list of supervised learners\n",
    "      - stats: a list of dictionaries of the statistic results from 'train_predict()'\n",
    "      - accuracy: The score for the naive predictor\n",
    "      - f1: The score for the naive predictor\n",
    "    \"\"\"\n",
    "  \n",
    "    # Create figure\n",
    "    fig, ax = pl.subplots(2, 3, figsize = (12,10))\n",
    "\n",
    "    # Constants\n",
    "    bar_width = 0.3\n",
    "    colors = ['#A00000','#00A0A0','#00A000']\n",
    "    \n",
    "    # Super loop to plot four panels of data\n",
    "    for k, learner in enumerate(results.keys()):\n",
    "        for j, metric in enumerate(['train_time', 'acc_train', 'f_train', 'pred_time', 'acc_test', 'f_test']):\n",
    "            for i in np.arange(3):\n",
    "                \n",
    "                # Creative plot code\n",
    "                ax[j//3, j%3].bar(i+k*bar_width, results[learner][i][metric], width = bar_width, color = colors[k])\n",
    "                ax[j//3, j%3].set_xticks([0.45, 1.45, 2.45])\n",
    "                ax[j//3, j%3].set_xticklabels([\"1%\", \"10%\", \"100%\"])\n",
    "                ax[j//3, j%3].set_xlabel(\"Training Set Size\")\n",
    "                ax[j//3, j%3].set_xlim((-0.1, 3.0))\n",
    "    \n",
    "    # Add unique y-labels\n",
    "    ax[0, 0].set_ylabel(\"Time (in seconds)\")\n",
    "    ax[0, 1].set_ylabel(\"Accuracy Score\")\n",
    "    ax[0, 2].set_ylabel(\"F-score\")\n",
    "    ax[1, 0].set_ylabel(\"Time (in seconds)\")\n",
    "    ax[1, 1].set_ylabel(\"Accuracy Score\")\n",
    "    ax[1, 2].set_ylabel(\"F-score\")\n",
    "    \n",
    "    # Add titles\n",
    "    ax[0, 0].set_title(\"Model Training\")\n",
    "    ax[0, 1].set_title(\"Accuracy Score on Training Subset\")\n",
    "    ax[0, 2].set_title(\"F-score on Training Subset\")\n",
    "    ax[1, 0].set_title(\"Model Predicting\")\n",
    "    ax[1, 1].set_title(\"Accuracy Score on Testing Set\")\n",
    "    ax[1, 2].set_title(\"F-score on Testing Set\")\n",
    "    \n",
    "    # Add horizontal lines for naive predictors\n",
    "    ax[0, 1].axhline(y = accuracy, xmin = -0.1, xmax = 3.0, linewidth = 1, color = 'k', linestyle = 'dashed')\n",
    "    ax[1, 1].axhline(y = accuracy, xmin = -0.1, xmax = 3.0, linewidth = 1, color = 'k', linestyle = 'dashed')\n",
    "    ax[0, 2].axhline(y = f1, xmin = -0.1, xmax = 3.0, linewidth = 1, color = 'k', linestyle = 'dashed')\n",
    "    ax[1, 2].axhline(y = f1, xmin = -0.1, xmax = 3.0, linewidth = 1, color = 'k', linestyle = 'dashed')\n",
    "    \n",
    "    # Set y-limits for score panels\n",
    "    ax[0, 1].set_ylim((0, 1))\n",
    "    ax[0, 2].set_ylim((0, 1))\n",
    "    ax[1, 1].set_ylim((0, 1))\n",
    "    ax[1, 2].set_ylim((0, 1))\n",
    "\n",
    "    # Create patches for the legend\n",
    "    patches = []\n",
    "    for i, learner in enumerate(results.keys()):\n",
    "        patches.append(mpatches.Patch(color = colors[i], label = learner))\n",
    "    pl.legend(handles = patches, bbox_to_anchor = (-.80, 2.53), \\\n",
    "               loc = 'upper center', borderaxespad = 0., ncol = 3, fontsize = 'x-large')\n",
    "    \n",
    "    # Aesthetics\n",
    "    pl.suptitle(\"Performance Metrics for Three Supervised Learning Models\", fontsize = 16, y = 1.10)\n",
    "    pl.tight_layout()\n",
    "    pl.show()\n",
    "    \n",
    "\n",
    "def feature_plot(importances, X_train, y_train):\n",
    "    \n",
    "    # Display the five most important features\n",
    "    indices = np.argsort(importances)[::-1]\n",
    "    columns = X_train.columns.values[indices[:5]]\n",
    "    values = importances[indices][:5]\n",
    "\n",
    "    # Creat the plot\n",
    "    fig = pl.figure(figsize = (9,5))\n",
    "    pl.title(\"Normalized Weights for First Five Most Predictive Features\", fontsize = 16)\n",
    "    pl.bar(np.arange(5), values, width = 0.6, align=\"center\", color = '#00A000', \\\n",
    "          label = \"Feature Weight\")\n",
    "    pl.bar(np.arange(5) - 0.3, np.cumsum(values), width = 0.2, align = \"center\", color = '#00A0A0', \\\n",
    "          label = \"Cumulative Feature Weight\")\n",
    "    pl.xticks(np.arange(5), columns)\n",
    "    pl.xlim((-0.5, 4.5))\n",
    "    pl.ylabel(\"Weight\", fontsize = 12)\n",
    "    pl.xlabel(\"Feature\", fontsize = 12)\n",
    "    \n",
    "    pl.legend(loc = 'upper center')\n",
    "    pl.tight_layout()\n",
    "    pl.show()  "
   ]
  },
  {
   "cell_type": "markdown",
   "id": "207ef038",
   "metadata": {},
   "source": [
    "### Supervised Model performance"
   ]
  },
  {
   "cell_type": "code",
   "execution_count": 84,
   "id": "97bf76c5",
   "metadata": {},
   "outputs": [
    {
     "ename": "KeyError",
     "evalue": "0",
     "output_type": "error",
     "traceback": [
      "\u001b[0;31m---------------------------------------------------------------------------\u001b[0m",
      "\u001b[0;31mKeyError\u001b[0m                                  Traceback (most recent call last)",
      "\u001b[0;32m<ipython-input-84-0a4d3f8ebbf2>\u001b[0m in \u001b[0;36m<module>\u001b[0;34m\u001b[0m\n\u001b[0;32m----> 1\u001b[0;31m \u001b[0mevaluate\u001b[0m\u001b[0;34m(\u001b[0m\u001b[0mresults\u001b[0m\u001b[0;34m,\u001b[0m \u001b[0maccuracy\u001b[0m\u001b[0;34m,\u001b[0m \u001b[0mfscore\u001b[0m\u001b[0;34m)\u001b[0m\u001b[0;34m\u001b[0m\u001b[0;34m\u001b[0m\u001b[0m\n\u001b[0m",
      "\u001b[0;32m<ipython-input-83-3b295ad9674e>\u001b[0m in \u001b[0;36mevaluate\u001b[0;34m(results, accuracy, f1)\u001b[0m\n\u001b[1;32m     73\u001b[0m \u001b[0;34m\u001b[0m\u001b[0m\n\u001b[1;32m     74\u001b[0m                 \u001b[0;31m# Creative plot code\u001b[0m\u001b[0;34m\u001b[0m\u001b[0;34m\u001b[0m\u001b[0;34m\u001b[0m\u001b[0m\n\u001b[0;32m---> 75\u001b[0;31m                 \u001b[0max\u001b[0m\u001b[0;34m[\u001b[0m\u001b[0mj\u001b[0m\u001b[0;34m//\u001b[0m\u001b[0;36m3\u001b[0m\u001b[0;34m,\u001b[0m \u001b[0mj\u001b[0m\u001b[0;34m%\u001b[0m\u001b[0;36m3\u001b[0m\u001b[0;34m]\u001b[0m\u001b[0;34m.\u001b[0m\u001b[0mbar\u001b[0m\u001b[0;34m(\u001b[0m\u001b[0mi\u001b[0m\u001b[0;34m+\u001b[0m\u001b[0mk\u001b[0m\u001b[0;34m*\u001b[0m\u001b[0mbar_width\u001b[0m\u001b[0;34m,\u001b[0m \u001b[0mresults\u001b[0m\u001b[0;34m[\u001b[0m\u001b[0mlearner\u001b[0m\u001b[0;34m]\u001b[0m\u001b[0;34m[\u001b[0m\u001b[0mi\u001b[0m\u001b[0;34m]\u001b[0m\u001b[0;34m[\u001b[0m\u001b[0mmetric\u001b[0m\u001b[0;34m]\u001b[0m\u001b[0;34m,\u001b[0m \u001b[0mwidth\u001b[0m \u001b[0;34m=\u001b[0m \u001b[0mbar_width\u001b[0m\u001b[0;34m,\u001b[0m \u001b[0mcolor\u001b[0m \u001b[0;34m=\u001b[0m \u001b[0mcolors\u001b[0m\u001b[0;34m[\u001b[0m\u001b[0mk\u001b[0m\u001b[0;34m]\u001b[0m\u001b[0;34m)\u001b[0m\u001b[0;34m\u001b[0m\u001b[0;34m\u001b[0m\u001b[0m\n\u001b[0m\u001b[1;32m     76\u001b[0m                 \u001b[0max\u001b[0m\u001b[0;34m[\u001b[0m\u001b[0mj\u001b[0m\u001b[0;34m//\u001b[0m\u001b[0;36m3\u001b[0m\u001b[0;34m,\u001b[0m \u001b[0mj\u001b[0m\u001b[0;34m%\u001b[0m\u001b[0;36m3\u001b[0m\u001b[0;34m]\u001b[0m\u001b[0;34m.\u001b[0m\u001b[0mset_xticks\u001b[0m\u001b[0;34m(\u001b[0m\u001b[0;34m[\u001b[0m\u001b[0;36m0.45\u001b[0m\u001b[0;34m,\u001b[0m \u001b[0;36m1.45\u001b[0m\u001b[0;34m,\u001b[0m \u001b[0;36m2.45\u001b[0m\u001b[0;34m]\u001b[0m\u001b[0;34m)\u001b[0m\u001b[0;34m\u001b[0m\u001b[0;34m\u001b[0m\u001b[0m\n\u001b[1;32m     77\u001b[0m                 \u001b[0max\u001b[0m\u001b[0;34m[\u001b[0m\u001b[0mj\u001b[0m\u001b[0;34m//\u001b[0m\u001b[0;36m3\u001b[0m\u001b[0;34m,\u001b[0m \u001b[0mj\u001b[0m\u001b[0;34m%\u001b[0m\u001b[0;36m3\u001b[0m\u001b[0;34m]\u001b[0m\u001b[0;34m.\u001b[0m\u001b[0mset_xticklabels\u001b[0m\u001b[0;34m(\u001b[0m\u001b[0;34m[\u001b[0m\u001b[0;34m\"1%\"\u001b[0m\u001b[0;34m,\u001b[0m \u001b[0;34m\"10%\"\u001b[0m\u001b[0;34m,\u001b[0m \u001b[0;34m\"100%\"\u001b[0m\u001b[0;34m]\u001b[0m\u001b[0;34m)\u001b[0m\u001b[0;34m\u001b[0m\u001b[0;34m\u001b[0m\u001b[0m\n",
      "\u001b[0;31mKeyError\u001b[0m: 0"
     ]
    },
    {
     "data": {
      "image/png": "[encoded data removed]",
      "text/plain": [
       "<Figure size 864x720 with 6 Axes>"
      ]
     },
     "metadata": {
      "needs_background": "light"
     },
     "output_type": "display_data"
    }
   ],
   "source": [
    "evaluate(results, accuracy, fscore)"
   ]
  },
  {
   "cell_type": "code",
   "execution_count": 85,
   "id": "6b04a527",
   "metadata": {},
   "outputs": [
    {
     "name": "stdout",
     "output_type": "stream",
     "text": [
      "LogisticRegression\n"
     ]
    },
    {
     "data": {
      "text/html": [
       "<div>\n",
       "<style scoped>\n",
       "    .dataframe tbody tr th:only-of-type {\n",
       "        vertical-align: middle;\n",
       "    }\n",
       "\n",
       "    .dataframe tbody tr th {\n",
       "        vertical-align: top;\n",
       "    }\n",
       "\n",
       "    .dataframe thead th {\n",
       "        text-align: right;\n",
       "    }\n",
       "</style>\n",
       "<table border=\"1\" class=\"dataframe\">\n",
       "  <thead>\n",
       "    <tr style=\"text-align: right;\">\n",
       "      <th></th>\n",
       "      <th>1%</th>\n",
       "      <th>10%</th>\n",
       "      <th>100%</th>\n",
       "    </tr>\n",
       "  </thead>\n",
       "  <tbody>\n",
       "    <tr>\n",
       "      <th>train_time</th>\n",
       "      <td>0.145338</td>\n",
       "      <td>0.420537</td>\n",
       "      <td>6.640020</td>\n",
       "    </tr>\n",
       "    <tr>\n",
       "      <th>pred_time</th>\n",
       "      <td>0.524854</td>\n",
       "      <td>0.601763</td>\n",
       "      <td>0.251486</td>\n",
       "    </tr>\n",
       "    <tr>\n",
       "      <th>acc_train</th>\n",
       "      <td>0.583333</td>\n",
       "      <td>0.583333</td>\n",
       "      <td>0.583333</td>\n",
       "    </tr>\n",
       "    <tr>\n",
       "      <th>acc_test</th>\n",
       "      <td>0.562978</td>\n",
       "      <td>0.562978</td>\n",
       "      <td>0.562978</td>\n",
       "    </tr>\n",
       "    <tr>\n",
       "      <th>f_train</th>\n",
       "      <td>0.636364</td>\n",
       "      <td>0.636364</td>\n",
       "      <td>0.636364</td>\n",
       "    </tr>\n",
       "    <tr>\n",
       "      <th>f_test</th>\n",
       "      <td>0.616897</td>\n",
       "      <td>0.616897</td>\n",
       "      <td>0.616897</td>\n",
       "    </tr>\n",
       "  </tbody>\n",
       "</table>\n",
       "</div>"
      ],
      "text/plain": [
       "                  1%       10%      100%\n",
       "train_time  0.145338  0.420537  6.640020\n",
       "pred_time   0.524854  0.601763  0.251486\n",
       "acc_train   0.583333  0.583333  0.583333\n",
       "acc_test    0.562978  0.562978  0.562978\n",
       "f_train     0.636364  0.636364  0.636364\n",
       "f_test      0.616897  0.616897  0.616897"
      ]
     },
     "metadata": {},
     "output_type": "display_data"
    },
    {
     "name": "stdout",
     "output_type": "stream",
     "text": [
      "DecisionTreeClassifier\n"
     ]
    },
    {
     "data": {
      "text/html": [
       "<div>\n",
       "<style scoped>\n",
       "    .dataframe tbody tr th:only-of-type {\n",
       "        vertical-align: middle;\n",
       "    }\n",
       "\n",
       "    .dataframe tbody tr th {\n",
       "        vertical-align: top;\n",
       "    }\n",
       "\n",
       "    .dataframe thead th {\n",
       "        text-align: right;\n",
       "    }\n",
       "</style>\n",
       "<table border=\"1\" class=\"dataframe\">\n",
       "  <thead>\n",
       "    <tr style=\"text-align: right;\">\n",
       "      <th></th>\n",
       "      <th>1%</th>\n",
       "      <th>10%</th>\n",
       "      <th>100%</th>\n",
       "    </tr>\n",
       "  </thead>\n",
       "  <tbody>\n",
       "    <tr>\n",
       "      <th>train_time</th>\n",
       "      <td>0.052678</td>\n",
       "      <td>0.432245</td>\n",
       "      <td>13.280619</td>\n",
       "    </tr>\n",
       "    <tr>\n",
       "      <th>pred_time</th>\n",
       "      <td>0.392959</td>\n",
       "      <td>0.589028</td>\n",
       "      <td>0.370811</td>\n",
       "    </tr>\n",
       "    <tr>\n",
       "      <th>acc_train</th>\n",
       "      <td>1.000000</td>\n",
       "      <td>1.000000</td>\n",
       "      <td>1.000000</td>\n",
       "    </tr>\n",
       "    <tr>\n",
       "      <th>acc_test</th>\n",
       "      <td>0.943076</td>\n",
       "      <td>0.985306</td>\n",
       "      <td>0.996150</td>\n",
       "    </tr>\n",
       "    <tr>\n",
       "      <th>f_train</th>\n",
       "      <td>1.000000</td>\n",
       "      <td>1.000000</td>\n",
       "      <td>1.000000</td>\n",
       "    </tr>\n",
       "    <tr>\n",
       "      <th>f_test</th>\n",
       "      <td>0.944205</td>\n",
       "      <td>0.985865</td>\n",
       "      <td>0.996100</td>\n",
       "    </tr>\n",
       "  </tbody>\n",
       "</table>\n",
       "</div>"
      ],
      "text/plain": [
       "                  1%       10%       100%\n",
       "train_time  0.052678  0.432245  13.280619\n",
       "pred_time   0.392959  0.589028   0.370811\n",
       "acc_train   1.000000  1.000000   1.000000\n",
       "acc_test    0.943076  0.985306   0.996150\n",
       "f_train     1.000000  1.000000   1.000000\n",
       "f_test      0.944205  0.985865   0.996100"
      ]
     },
     "metadata": {},
     "output_type": "display_data"
    },
    {
     "name": "stdout",
     "output_type": "stream",
     "text": [
      "MultinomialNB\n"
     ]
    },
    {
     "data": {
      "text/html": [
       "<div>\n",
       "<style scoped>\n",
       "    .dataframe tbody tr th:only-of-type {\n",
       "        vertical-align: middle;\n",
       "    }\n",
       "\n",
       "    .dataframe tbody tr th {\n",
       "        vertical-align: top;\n",
       "    }\n",
       "\n",
       "    .dataframe thead th {\n",
       "        text-align: right;\n",
       "    }\n",
       "</style>\n",
       "<table border=\"1\" class=\"dataframe\">\n",
       "  <thead>\n",
       "    <tr style=\"text-align: right;\">\n",
       "      <th></th>\n",
       "      <th>1%</th>\n",
       "      <th>10%</th>\n",
       "      <th>100%</th>\n",
       "    </tr>\n",
       "  </thead>\n",
       "  <tbody>\n",
       "    <tr>\n",
       "      <th>train_time</th>\n",
       "      <td>0.035707</td>\n",
       "      <td>0.162353</td>\n",
       "      <td>2.164744</td>\n",
       "    </tr>\n",
       "    <tr>\n",
       "      <th>pred_time</th>\n",
       "      <td>0.321262</td>\n",
       "      <td>0.366265</td>\n",
       "      <td>0.282857</td>\n",
       "    </tr>\n",
       "    <tr>\n",
       "      <th>acc_train</th>\n",
       "      <td>0.806667</td>\n",
       "      <td>0.686667</td>\n",
       "      <td>0.686667</td>\n",
       "    </tr>\n",
       "    <tr>\n",
       "      <th>acc_test</th>\n",
       "      <td>0.805219</td>\n",
       "      <td>0.698190</td>\n",
       "      <td>0.692107</td>\n",
       "    </tr>\n",
       "    <tr>\n",
       "      <th>f_train</th>\n",
       "      <td>0.896296</td>\n",
       "      <td>0.699440</td>\n",
       "      <td>0.699440</td>\n",
       "    </tr>\n",
       "    <tr>\n",
       "      <th>f_test</th>\n",
       "      <td>0.890085</td>\n",
       "      <td>0.699850</td>\n",
       "      <td>0.695642</td>\n",
       "    </tr>\n",
       "  </tbody>\n",
       "</table>\n",
       "</div>"
      ],
      "text/plain": [
       "                  1%       10%      100%\n",
       "train_time  0.035707  0.162353  2.164744\n",
       "pred_time   0.321262  0.366265  0.282857\n",
       "acc_train   0.806667  0.686667  0.686667\n",
       "acc_test    0.805219  0.698190  0.692107\n",
       "f_train     0.896296  0.699440  0.699440\n",
       "f_test      0.890085  0.699850  0.695642"
      ]
     },
     "metadata": {},
     "output_type": "display_data"
    },
    {
     "name": "stdout",
     "output_type": "stream",
     "text": [
      "clf_svc\n"
     ]
    },
    {
     "data": {
      "text/html": [
       "<div>\n",
       "<style scoped>\n",
       "    .dataframe tbody tr th:only-of-type {\n",
       "        vertical-align: middle;\n",
       "    }\n",
       "\n",
       "    .dataframe tbody tr th {\n",
       "        vertical-align: top;\n",
       "    }\n",
       "\n",
       "    .dataframe thead th {\n",
       "        text-align: right;\n",
       "    }\n",
       "</style>\n",
       "<table border=\"1\" class=\"dataframe\">\n",
       "  <thead>\n",
       "    <tr style=\"text-align: right;\">\n",
       "      <th></th>\n",
       "      <th>100%</th>\n",
       "    </tr>\n",
       "  </thead>\n",
       "  <tbody>\n",
       "    <tr>\n",
       "      <th>acc_test</th>\n",
       "      <td>0.562978</td>\n",
       "    </tr>\n",
       "    <tr>\n",
       "      <th>acc_train</th>\n",
       "      <td>0.583333</td>\n",
       "    </tr>\n",
       "    <tr>\n",
       "      <th>f_test</th>\n",
       "      <td>0.616897</td>\n",
       "    </tr>\n",
       "    <tr>\n",
       "      <th>f_train</th>\n",
       "      <td>0.636364</td>\n",
       "    </tr>\n",
       "    <tr>\n",
       "      <th>pred_time</th>\n",
       "      <td>1091.093343</td>\n",
       "    </tr>\n",
       "    <tr>\n",
       "      <th>train_time</th>\n",
       "      <td>863.707451</td>\n",
       "    </tr>\n",
       "  </tbody>\n",
       "</table>\n",
       "</div>"
      ],
      "text/plain": [
       "                   100%\n",
       "acc_test       0.562978\n",
       "acc_train      0.583333\n",
       "f_test         0.616897\n",
       "f_train        0.636364\n",
       "pred_time   1091.093343\n",
       "train_time   863.707451"
      ]
     },
     "metadata": {},
     "output_type": "display_data"
    }
   ],
   "source": [
    "#Printing out the values\n",
    "for i in results.items():\n",
    "    print (i[0])\n",
    "    display(pd.DataFrame(i[1]).rename(columns={0:'1%', 1:'10%', 2:'100%'}))"
   ]
  },
  {
   "cell_type": "code",
   "execution_count": null,
   "id": "f0298222",
   "metadata": {},
   "outputs": [],
   "source": [
    "from sklearn.metrics import confusion_matrix\n",
    "\n",
    "for i,model in enumerate([clf_dtree,clf_logreg, clf_svc]):\n",
    "    cm = confusion_matrix(y_test, model.predict(X_test))\n",
    "    cm = cm.astype('float') / cm.sum(axis=1)[:, np.newaxis] # normalize the data\n",
    "\n",
    "    # view with a heatmap\n",
    "    plt.figure(i)\n",
    "    sns.heatmap(cm, annot=True, annot_kws={\"size\":30}, \n",
    "            cmap='Blues', square=True, fmt='.3f')\n",
    "    plt.ylabel('True label')\n",
    "    plt.xlabel('Predicted label')\n",
    "    plt.title('Confusion matrix for:\\n{}'.format(model.__class__.__name__));"
   ]
  },
  {
   "cell_type": "markdown",
   "id": "9d199ce6",
   "metadata": {},
   "source": [
    "### Extracting Feature Importance"
   ]
  },
  {
   "cell_type": "code",
   "execution_count": null,
   "id": "4fbf26e3",
   "metadata": {},
   "outputs": [],
   "source": [
    "# TODO: Import a supervised learning model that has 'feature_importances_'\n",
    "\n",
    "# TODO: Train the supervised model on the training set \n",
    "model = AdaBoostClassifier().fit(X_train,y_train)\n",
    "\n",
    "# TODO: Extract the feature importances\n",
    "importances = model.feature_importances_\n",
    "\n",
    "# Plot\n",
    "feature_plot(importances, X_train, y_train)"
   ]
  }
 ],
 "metadata": {
  "interpreter": {
   "hash": "b58e2bc1572df468e5d42d3993d3ef1ccd4fafa9e984d7179347929f947a7c38"
  },
  "kernelspec": {
   "name": "python3",
   "display_name": "Python 3.8.5 64-bit ('3.8.5': pyenv)"
  },
  "language_info": {
   "codemirror_mode": {
    "name": "ipython",
    "version": 3
   },
   "file_extension": ".py",
   "mimetype": "text/x-python",
   "name": "python",
   "nbconvert_exporter": "python",
   "pygments_lexer": "ipython3",
   "version": "3.8.5"
  }
 },
 "nbformat": 4,
 "nbformat_minor": 5
}