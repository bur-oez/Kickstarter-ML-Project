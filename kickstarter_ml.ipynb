{
 "cells": [
  {
   "cell_type": "markdown",
   "id": "e9c9fc3e",
   "metadata": {
    "tags": []
   },
   "source": [
    "# Kickstarter ML Project"
   ]
  },
  {
   "cell_type": "markdown",
   "id": "c3531c92",
   "metadata": {},
   "source": [
    "## Preparation"
   ]
  },
  {
   "cell_type": "code",
   "execution_count": 25,
   "id": "72925e84",
   "metadata": {},
   "outputs": [],
   "source": [
    "import pandas as pd\n",
    "import numpy as np\n",
    "import glob\n",
    "\n",
    "import sweetviz as sv\n",
    "import json"
   ]
  },
  {
   "cell_type": "markdown",
   "id": "88b92212",
   "metadata": {},
   "source": [
    "### Load Data"
   ]
  },
  {
   "cell_type": "code",
   "execution_count": 63,
   "id": "1084fb1d",
   "metadata": {},
   "outputs": [],
   "source": [
    "# Load csv's and merge to a single dataframe\n",
    "\n",
    "#path = \"/Users/bur.oez/neuefische/Kickstarter-ML-Project/data/*.csv\" # Burak's path\n",
    "path = \"data/*.csv\" # Christian's path\n",
    "#path = \".../*.csv\"\" # Matthias's path\n",
    "\n",
    "all_files = glob.glob(path)\n",
    "df_raw = pd.concat((pd.read_csv(f) for f in all_files))"
   ]
  },
  {
   "cell_type": "markdown",
   "id": "c9ee5ae6",
   "metadata": {},
   "source": [
    "### Overview"
   ]
  },
  {
   "cell_type": "code",
   "execution_count": 27,
   "id": "b6d705fa",
   "metadata": {},
   "outputs": [],
   "source": [
    "## Execute Sweetviz \n",
    "#my_report = sv.analyze(df_raw)\n",
    "#my_report.show_html() # Default arguments will generate to \"SWEETVIZ_REPORT.html\""
   ]
  },
  {
   "cell_type": "code",
   "execution_count": 64,
   "id": "c7224671",
   "metadata": {},
   "outputs": [
    {
     "data": {
      "text/plain": [
       "Index(['backers_count', 'blurb', 'category', 'converted_pledged_amount',\n",
       "       'country', 'created_at', 'creator', 'currency', 'currency_symbol',\n",
       "       'currency_trailing_code', 'current_currency', 'deadline',\n",
       "       'disable_communication', 'friends', 'fx_rate', 'goal', 'id',\n",
       "       'is_backing', 'is_starrable', 'is_starred', 'launched_at', 'location',\n",
       "       'name', 'permissions', 'photo', 'pledged', 'profile', 'slug',\n",
       "       'source_url', 'spotlight', 'staff_pick', 'state', 'state_changed_at',\n",
       "       'static_usd_rate', 'urls', 'usd_pledged', 'usd_type'],\n",
       "      dtype='object')"
      ]
     },
     "execution_count": 64,
     "metadata": {},
     "output_type": "execute_result"
    }
   ],
   "source": [
    "df_raw.columns"
   ]
  },
  {
   "cell_type": "markdown",
   "id": "a425b7e9",
   "metadata": {},
   "source": [
    "## Data Cleaning\n",
    "\n",
    "For safety, we operate on a copy of the data frame."
   ]
  },
  {
   "cell_type": "code",
   "execution_count": 65,
   "id": "db91197a",
   "metadata": {},
   "outputs": [],
   "source": [
    "df = df_raw.copy()"
   ]
  },
  {
   "cell_type": "markdown",
   "id": "91b06efc",
   "metadata": {},
   "source": [
    "For a basic feature analysis, we may focus on easily accessible features. Consequently, we drop the cols\n",
    "- `blurb`, `slug`, `name` and `photo`, because they might only be exploitable through a semantic or context analysis,\n",
    "- `currency_symbol`, `currency_trailing_code`, because they are redundant,\n",
    "- `friends`, `is_starrable` and `permission`, because they do not contain any information,\n",
    "- `disable_communication`, `is_backing` and `is_starred`, because they have an entry only for the same 300 data points and it is questionable whether the missing entries may be treated as one category; later on we might try this with one of them and drop the other two,  \n",
    "- `urls`, `source_url` and `profile` because they do not contain additional information.\n",
    "- `state_changed_at`, `spotlight` and `staff_pick` will be dropped, because the creator does not know them in adcvance,\n",
    "- `created_at`, `launched_at` and `deadline` will be kept to calculate time-deltas for potential new features."
   ]
  },
  {
   "cell_type": "code",
   "execution_count": 67,
   "id": "67aface5",
   "metadata": {},
   "outputs": [
    {
     "data": {
      "text/html": [
       "<div>\n",
       "<style scoped>\n",
       "    .dataframe tbody tr th:only-of-type {\n",
       "        vertical-align: middle;\n",
       "    }\n",
       "\n",
       "    .dataframe tbody tr th {\n",
       "        vertical-align: top;\n",
       "    }\n",
       "\n",
       "    .dataframe thead th {\n",
       "        text-align: right;\n",
       "    }\n",
       "</style>\n",
       "<table border=\"1\" class=\"dataframe\">\n",
       "  <thead>\n",
       "    <tr style=\"text-align: right;\">\n",
       "      <th></th>\n",
       "      <th>backers_count</th>\n",
       "      <th>category</th>\n",
       "      <th>converted_pledged_amount</th>\n",
       "      <th>country</th>\n",
       "      <th>created_at</th>\n",
       "      <th>creator</th>\n",
       "      <th>currency</th>\n",
       "      <th>current_currency</th>\n",
       "      <th>deadline</th>\n",
       "      <th>fx_rate</th>\n",
       "      <th>goal</th>\n",
       "      <th>id</th>\n",
       "      <th>launched_at</th>\n",
       "      <th>location</th>\n",
       "      <th>pledged</th>\n",
       "      <th>state</th>\n",
       "      <th>static_usd_rate</th>\n",
       "      <th>usd_pledged</th>\n",
       "    </tr>\n",
       "  </thead>\n",
       "  <tbody>\n",
       "    <tr>\n",
       "      <th>0</th>\n",
       "      <td>315</td>\n",
       "      <td>{\"id\":266,\"name\":\"Footwear\",\"slug\":\"fashion/fo...</td>\n",
       "      <td>28645</td>\n",
       "      <td>US</td>\n",
       "      <td>1541459205</td>\n",
       "      <td>{\"id\":2094277840,\"name\":\"Lucy Conroy\",\"slug\":\"...</td>\n",
       "      <td>USD</td>\n",
       "      <td>USD</td>\n",
       "      <td>1552539775</td>\n",
       "      <td>1.000000</td>\n",
       "      <td>28000.0</td>\n",
       "      <td>2108505034</td>\n",
       "      <td>1548223375</td>\n",
       "      <td>{\"id\":2462429,\"name\":\"Novato\",\"slug\":\"novato-c...</td>\n",
       "      <td>28645.0</td>\n",
       "      <td>live</td>\n",
       "      <td>1.000000</td>\n",
       "      <td>28645.000000</td>\n",
       "    </tr>\n",
       "    <tr>\n",
       "      <th>1</th>\n",
       "      <td>47</td>\n",
       "      <td>{\"id\":273,\"name\":\"Playing Cards\",\"slug\":\"games...</td>\n",
       "      <td>1950</td>\n",
       "      <td>US</td>\n",
       "      <td>1501684093</td>\n",
       "      <td>{\"id\":723886115,\"name\":\"Lisa Vollrath\",\"slug\":...</td>\n",
       "      <td>USD</td>\n",
       "      <td>USD</td>\n",
       "      <td>1504976459</td>\n",
       "      <td>1.000000</td>\n",
       "      <td>1000.0</td>\n",
       "      <td>928751314</td>\n",
       "      <td>1502384459</td>\n",
       "      <td>{\"id\":2400549,\"name\":\"Euless\",\"slug\":\"euless-t...</td>\n",
       "      <td>1950.0</td>\n",
       "      <td>successful</td>\n",
       "      <td>1.000000</td>\n",
       "      <td>1950.000000</td>\n",
       "    </tr>\n",
       "    <tr>\n",
       "      <th>2</th>\n",
       "      <td>271</td>\n",
       "      <td>{\"id\":43,\"name\":\"Rock\",\"slug\":\"music/rock\",\"po...</td>\n",
       "      <td>22404</td>\n",
       "      <td>US</td>\n",
       "      <td>1348987533</td>\n",
       "      <td>{\"id\":323849677,\"name\":\"Electra\",\"is_registere...</td>\n",
       "      <td>USD</td>\n",
       "      <td>USD</td>\n",
       "      <td>1371013395</td>\n",
       "      <td>1.000000</td>\n",
       "      <td>15000.0</td>\n",
       "      <td>928014092</td>\n",
       "      <td>1368421395</td>\n",
       "      <td>{\"id\":2423474,\"name\":\"Hollywood\",\"slug\":\"holly...</td>\n",
       "      <td>22404.0</td>\n",
       "      <td>successful</td>\n",
       "      <td>1.000000</td>\n",
       "      <td>22404.000000</td>\n",
       "    </tr>\n",
       "    <tr>\n",
       "      <th>3</th>\n",
       "      <td>3</td>\n",
       "      <td>{\"id\":273,\"name\":\"Playing Cards\",\"slug\":\"games...</td>\n",
       "      <td>165</td>\n",
       "      <td>GB</td>\n",
       "      <td>1483780271</td>\n",
       "      <td>{\"id\":196281496,\"name\":\"Artur Ordijanc (delete...</td>\n",
       "      <td>GBP</td>\n",
       "      <td>USD</td>\n",
       "      <td>1489425776</td>\n",
       "      <td>1.308394</td>\n",
       "      <td>10000.0</td>\n",
       "      <td>596091328</td>\n",
       "      <td>1484245376</td>\n",
       "      <td>{\"id\":475457,\"name\":\"Kaunas\",\"slug\":\"kaunas-ka...</td>\n",
       "      <td>136.0</td>\n",
       "      <td>failed</td>\n",
       "      <td>1.216066</td>\n",
       "      <td>165.384934</td>\n",
       "    </tr>\n",
       "    <tr>\n",
       "      <th>4</th>\n",
       "      <td>3</td>\n",
       "      <td>{\"id\":48,\"name\":\"Nonfiction\",\"slug\":\"publishin...</td>\n",
       "      <td>2820</td>\n",
       "      <td>US</td>\n",
       "      <td>1354817071</td>\n",
       "      <td>{\"id\":1178460181,\"name\":\"Dawn Johnston\",\"is_re...</td>\n",
       "      <td>USD</td>\n",
       "      <td>USD</td>\n",
       "      <td>1357763527</td>\n",
       "      <td>1.000000</td>\n",
       "      <td>2800.0</td>\n",
       "      <td>998516049</td>\n",
       "      <td>1355171527</td>\n",
       "      <td>{\"id\":2507703,\"name\":\"Traverse City\",\"slug\":\"t...</td>\n",
       "      <td>2820.0</td>\n",
       "      <td>successful</td>\n",
       "      <td>1.000000</td>\n",
       "      <td>2820.000000</td>\n",
       "    </tr>\n",
       "  </tbody>\n",
       "</table>\n",
       "</div>"
      ],
      "text/plain": [
       "   backers_count                                           category  \\\n",
       "0            315  {\"id\":266,\"name\":\"Footwear\",\"slug\":\"fashion/fo...   \n",
       "1             47  {\"id\":273,\"name\":\"Playing Cards\",\"slug\":\"games...   \n",
       "2            271  {\"id\":43,\"name\":\"Rock\",\"slug\":\"music/rock\",\"po...   \n",
       "3              3  {\"id\":273,\"name\":\"Playing Cards\",\"slug\":\"games...   \n",
       "4              3  {\"id\":48,\"name\":\"Nonfiction\",\"slug\":\"publishin...   \n",
       "\n",
       "   converted_pledged_amount country  created_at  \\\n",
       "0                     28645      US  1541459205   \n",
       "1                      1950      US  1501684093   \n",
       "2                     22404      US  1348987533   \n",
       "3                       165      GB  1483780271   \n",
       "4                      2820      US  1354817071   \n",
       "\n",
       "                                             creator currency  \\\n",
       "0  {\"id\":2094277840,\"name\":\"Lucy Conroy\",\"slug\":\"...      USD   \n",
       "1  {\"id\":723886115,\"name\":\"Lisa Vollrath\",\"slug\":...      USD   \n",
       "2  {\"id\":323849677,\"name\":\"Electra\",\"is_registere...      USD   \n",
       "3  {\"id\":196281496,\"name\":\"Artur Ordijanc (delete...      GBP   \n",
       "4  {\"id\":1178460181,\"name\":\"Dawn Johnston\",\"is_re...      USD   \n",
       "\n",
       "  current_currency    deadline   fx_rate     goal          id  launched_at  \\\n",
       "0              USD  1552539775  1.000000  28000.0  2108505034   1548223375   \n",
       "1              USD  1504976459  1.000000   1000.0   928751314   1502384459   \n",
       "2              USD  1371013395  1.000000  15000.0   928014092   1368421395   \n",
       "3              USD  1489425776  1.308394  10000.0   596091328   1484245376   \n",
       "4              USD  1357763527  1.000000   2800.0   998516049   1355171527   \n",
       "\n",
       "                                            location  pledged       state  \\\n",
       "0  {\"id\":2462429,\"name\":\"Novato\",\"slug\":\"novato-c...  28645.0        live   \n",
       "1  {\"id\":2400549,\"name\":\"Euless\",\"slug\":\"euless-t...   1950.0  successful   \n",
       "2  {\"id\":2423474,\"name\":\"Hollywood\",\"slug\":\"holly...  22404.0  successful   \n",
       "3  {\"id\":475457,\"name\":\"Kaunas\",\"slug\":\"kaunas-ka...    136.0      failed   \n",
       "4  {\"id\":2507703,\"name\":\"Traverse City\",\"slug\":\"t...   2820.0  successful   \n",
       "\n",
       "   static_usd_rate   usd_pledged  \n",
       "0         1.000000  28645.000000  \n",
       "1         1.000000   1950.000000  \n",
       "2         1.000000  22404.000000  \n",
       "3         1.216066    165.384934  \n",
       "4         1.000000   2820.000000  "
      ]
     },
     "execution_count": 67,
     "metadata": {},
     "output_type": "execute_result"
    }
   ],
   "source": [
    "# dropping columns\n",
    "df = df.drop([\"blurb\", \"slug\", \"name\", \"photo\", \"currency_symbol\", \"currency_trailing_code\", \"state_changed_at\",\n",
    "              \"friends\", \"permissions\", \"disable_communication\", \"is_backing\", \"is_starred\",\"urls\", \n",
    "              \"source_url\", \"profile\", \"usd_type\", \"spotlight\", \"staff_pick\", \"is_starrable\"], axis = 1)\n",
    "df.head()"
   ]
  },
  {
   "cell_type": "markdown",
   "id": "e81d80ff",
   "metadata": {},
   "source": [
    "Extract field and subfield ids from `category` (id and parent_id):"
   ]
  },
  {
   "cell_type": "code",
   "execution_count": 68,
   "id": "16dfa283",
   "metadata": {},
   "outputs": [],
   "source": [
    "import ast\n",
    "df.category =[ ast.literal_eval(x) for x in df.iloc[:,df.columns.tolist().index(\"category\")]]"
   ]
  },
  {
   "cell_type": "code",
   "execution_count": 69,
   "id": "b23d9a65",
   "metadata": {},
   "outputs": [
    {
     "data": {
      "text/plain": [
       "9041"
      ]
     },
     "execution_count": 69,
     "metadata": {},
     "output_type": "execute_result"
    }
   ],
   "source": [
    "# checking which rows do not contain \"parent_id\" inside category dictionary\n",
    "cat_list_parent_id = np.array([\"parent_id\" not in df.category.iloc[x].keys() for x in range(0,len(df.category))])\n",
    "cat_list_parent_id.sum()"
   ]
  },
  {
   "cell_type": "code",
   "execution_count": 33,
   "id": "29418bbc",
   "metadata": {},
   "outputs": [
    {
     "data": {
      "text/html": [
       "<div>\n",
       "<style scoped>\n",
       "    .dataframe tbody tr th:only-of-type {\n",
       "        vertical-align: middle;\n",
       "    }\n",
       "\n",
       "    .dataframe tbody tr th {\n",
       "        vertical-align: top;\n",
       "    }\n",
       "\n",
       "    .dataframe thead th {\n",
       "        text-align: right;\n",
       "    }\n",
       "</style>\n",
       "<table border=\"1\" class=\"dataframe\">\n",
       "  <thead>\n",
       "    <tr style=\"text-align: right;\">\n",
       "      <th></th>\n",
       "      <th>backers_count</th>\n",
       "      <th>category</th>\n",
       "      <th>converted_pledged_amount</th>\n",
       "      <th>country</th>\n",
       "      <th>created_at</th>\n",
       "      <th>currency</th>\n",
       "      <th>current_currency</th>\n",
       "      <th>deadline</th>\n",
       "      <th>fx_rate</th>\n",
       "      <th>goal</th>\n",
       "      <th>id</th>\n",
       "      <th>launched_at</th>\n",
       "      <th>location</th>\n",
       "      <th>pledged</th>\n",
       "      <th>state</th>\n",
       "      <th>state_changed_at</th>\n",
       "      <th>static_usd_rate</th>\n",
       "      <th>usd_pledged</th>\n",
       "    </tr>\n",
       "  </thead>\n",
       "  <tbody>\n",
       "    <tr>\n",
       "      <th>7</th>\n",
       "      <td>33</td>\n",
       "      <td>{'id': 14, 'name': 'Music', 'slug': 'music', '...</td>\n",
       "      <td>660</td>\n",
       "      <td>US</td>\n",
       "      <td>1546965483</td>\n",
       "      <td>USD</td>\n",
       "      <td>USD</td>\n",
       "      <td>1550067305</td>\n",
       "      <td>1.000000</td>\n",
       "      <td>400.0</td>\n",
       "      <td>1481360049</td>\n",
       "      <td>1547475305</td>\n",
       "      <td>{\"id\":2430903,\"name\":\"Kaysville\",\"slug\":\"kaysv...</td>\n",
       "      <td>660.0</td>\n",
       "      <td>successful</td>\n",
       "      <td>1550067307</td>\n",
       "      <td>1.000000</td>\n",
       "      <td>660.000000</td>\n",
       "    </tr>\n",
       "    <tr>\n",
       "      <th>25</th>\n",
       "      <td>74</td>\n",
       "      <td>{'id': 15, 'name': 'Photography', 'slug': 'pho...</td>\n",
       "      <td>2808</td>\n",
       "      <td>GB</td>\n",
       "      <td>1542202969</td>\n",
       "      <td>GBP</td>\n",
       "      <td>USD</td>\n",
       "      <td>1544200381</td>\n",
       "      <td>1.308394</td>\n",
       "      <td>2000.0</td>\n",
       "      <td>865110410</td>\n",
       "      <td>1542385981</td>\n",
       "      <td>{\"id\":12056,\"name\":\"Bath\",\"slug\":\"bath-gb\",\"sh...</td>\n",
       "      <td>2199.0</td>\n",
       "      <td>successful</td>\n",
       "      <td>1544200381</td>\n",
       "      <td>1.301163</td>\n",
       "      <td>2861.258251</td>\n",
       "    </tr>\n",
       "    <tr>\n",
       "      <th>27</th>\n",
       "      <td>41</td>\n",
       "      <td>{'id': 9, 'name': 'Fashion', 'slug': 'fashion'...</td>\n",
       "      <td>21161</td>\n",
       "      <td>GB</td>\n",
       "      <td>1551345787</td>\n",
       "      <td>GBP</td>\n",
       "      <td>CAD</td>\n",
       "      <td>1554490790</td>\n",
       "      <td>1.748586</td>\n",
       "      <td>20000.0</td>\n",
       "      <td>1889386358</td>\n",
       "      <td>1551898790</td>\n",
       "      <td>{\"id\":40611,\"name\":\"Winchester\",\"slug\":\"winche...</td>\n",
       "      <td>12102.0</td>\n",
       "      <td>live</td>\n",
       "      <td>1551898791</td>\n",
       "      <td>1.315996</td>\n",
       "      <td>15926.177904</td>\n",
       "    </tr>\n",
       "  </tbody>\n",
       "</table>\n",
       "</div>"
      ],
      "text/plain": [
       "    backers_count                                           category  \\\n",
       "7              33  {'id': 14, 'name': 'Music', 'slug': 'music', '...   \n",
       "25             74  {'id': 15, 'name': 'Photography', 'slug': 'pho...   \n",
       "27             41  {'id': 9, 'name': 'Fashion', 'slug': 'fashion'...   \n",
       "\n",
       "    converted_pledged_amount country  created_at currency current_currency  \\\n",
       "7                        660      US  1546965483      USD              USD   \n",
       "25                      2808      GB  1542202969      GBP              USD   \n",
       "27                     21161      GB  1551345787      GBP              CAD   \n",
       "\n",
       "      deadline   fx_rate     goal          id  launched_at  \\\n",
       "7   1550067305  1.000000    400.0  1481360049   1547475305   \n",
       "25  1544200381  1.308394   2000.0   865110410   1542385981   \n",
       "27  1554490790  1.748586  20000.0  1889386358   1551898790   \n",
       "\n",
       "                                             location  pledged       state  \\\n",
       "7   {\"id\":2430903,\"name\":\"Kaysville\",\"slug\":\"kaysv...    660.0  successful   \n",
       "25  {\"id\":12056,\"name\":\"Bath\",\"slug\":\"bath-gb\",\"sh...   2199.0  successful   \n",
       "27  {\"id\":40611,\"name\":\"Winchester\",\"slug\":\"winche...  12102.0        live   \n",
       "\n",
       "    state_changed_at  static_usd_rate   usd_pledged  \n",
       "7         1550067307         1.000000    660.000000  \n",
       "25        1544200381         1.301163   2861.258251  \n",
       "27        1551898791         1.315996  15926.177904  "
      ]
     },
     "execution_count": 33,
     "metadata": {},
     "output_type": "execute_result"
    }
   ],
   "source": [
    "df[cat_list_parent_id].iloc[0:3]"
   ]
  },
  {
   "cell_type": "code",
   "execution_count": 70,
   "id": "8f53eb40",
   "metadata": {},
   "outputs": [
    {
     "data": {
      "text/plain": [
       "{'id': 266,\n",
       " 'name': 'Footwear',\n",
       " 'slug': 'fashion/footwear',\n",
       " 'position': 5,\n",
       " 'parent_id': 9,\n",
       " 'color': 16752598,\n",
       " 'urls': {'web': {'discover': 'http://www.kickstarter.com/discover/categories/fashion/footwear'}}}"
      ]
     },
     "execution_count": 70,
     "metadata": {},
     "output_type": "execute_result"
    }
   ],
   "source": [
    "df.category.iloc[0]"
   ]
  },
  {
   "cell_type": "markdown",
   "id": "54e6df31",
   "metadata": {},
   "source": [
    "The `id` column represents each subcategory. `parent_id` represents each parent category, since the values for `id` start after `parent_id` values, we will use `id` to seperate each project into categories.\n",
    "\n",
    "e `id` column represents each subcategory. `parent_id` represents each parent category, since the values for `id` start after `parent_id` values, we will use `id` to seperate each project into categories.\n",
    "\n",
    "To projects without proper subcategorisation the `parent_id` is assigned. In addition `slug`is added for increased readability."
   ]
  },
  {
   "cell_type": "code",
   "execution_count": 71,
   "id": "2ed55d65",
   "metadata": {},
   "outputs": [],
   "source": [
    "df[\"cat_id\"] = [df.category.iloc[x][\"id\"] for x in range(0,len(df.category))]\n",
    "df[\"slug\"] = [df.category.iloc[x][\"slug\"] for x in range(0,len(df.category))]\n",
    "categories = df.pop(\"category\")"
   ]
  },
  {
   "cell_type": "code",
   "execution_count": 72,
   "id": "b2b62cdd",
   "metadata": {},
   "outputs": [
    {
     "name": "stdout",
     "output_type": "stream",
     "text": [
      "(209222, 19)\n"
     ]
    }
   ],
   "source": [
    "df.head(3)\n",
    "print(df.shape)"
   ]
  },
  {
   "cell_type": "code",
   "execution_count": 73,
   "id": "35693fda",
   "metadata": {},
   "outputs": [
    {
     "name": "stdout",
     "output_type": "stream",
     "text": [
      "pledged * static_usd_rate == usd_pledged\n",
      "True     193838\n",
      "False     15384\n",
      "dtype: int64\n",
      "pledged * fx_rate == usd_pledged\n",
      "True     153961\n",
      "False     55261\n",
      "dtype: int64\n",
      "converted_pledged_amount == usd_pledged\n",
      "True     140490\n",
      "False     68732\n",
      "dtype: int64\n",
      "pledged * static_usd_rate == converted_pledged_amount\n",
      "True     140490\n",
      "False     68732\n",
      "dtype: int64\n",
      "pledged * fx_rate == converted_pledged_amount\n",
      "True     140473\n",
      "False     68749\n",
      "dtype: int64\n"
     ]
    }
   ],
   "source": [
    "# check if currency - USD conversion with fx_rate and static_usd_rate matches usd_pledged value\n",
    "print(\"pledged * static_usd_rate == usd_pledged\")\n",
    "print(df.eval(\"pledged * static_usd_rate == usd_pledged\").value_counts())\n",
    "print(\"pledged * fx_rate == usd_pledged\")\n",
    "print(df.eval(\"pledged * fx_rate == usd_pledged\").value_counts())\n",
    "print(\"converted_pledged_amount == usd_pledged\")\n",
    "print(df.eval(\"converted_pledged_amount == usd_pledged\").value_counts())\n",
    "print(\"pledged * static_usd_rate == converted_pledged_amount\")\n",
    "print(df.eval(\"pledged * static_usd_rate == converted_pledged_amount\").value_counts())\n",
    "print(\"pledged * fx_rate == converted_pledged_amount\")\n",
    "print(df.eval(\"pledged * fx_rate == converted_pledged_amount\").value_counts())"
   ]
  },
  {
   "cell_type": "code",
   "execution_count": 74,
   "id": "9da6f34a",
   "metadata": {},
   "outputs": [
    {
     "name": "stdout",
     "output_type": "stream",
     "text": [
      "False    190860\n",
      "True      18362\n",
      "dtype: int64\n"
     ]
    }
   ],
   "source": [
    "print(df.eval(\"converted_pledged_amount == pledged + usd_pledged\").value_counts())"
   ]
  },
  {
   "cell_type": "markdown",
   "id": "9c67e590",
   "metadata": {},
   "source": [
    "The values in `usd_pledged` do not match with the conversion of `pledged` using `fx_rate` or `static_usd_rate`. \n",
    "\n",
    "We decided to take the max value for these columns as the correct amount."
   ]
  },
  {
   "cell_type": "code",
   "execution_count": 75,
   "id": "c194d56e",
   "metadata": {},
   "outputs": [],
   "source": [
    "# checking whether pledged, usd_pledged or converted_pledged_amount has the highest values\n",
    "df[\"max_pledged\"] = [max(df.pledged.iloc[x], \n",
    "df.usd_pledged.iloc[x], \n",
    "df.converted_pledged_amount.iloc[x]) for x in range(0,len(df))]\n",
    "df = df.drop([\"usd_pledged\", \"pledged\", \"converted_pledged_amount\"], axis = 1)"
   ]
  },
  {
   "cell_type": "code",
   "execution_count": 76,
   "id": "785e409e",
   "metadata": {},
   "outputs": [],
   "source": [
    "# in addition all other currency info can also be dropped\n",
    "df = df.drop([\"static_usd_rate\", \"fx_rate\", \"currency\", \"current_currency\"], axis = 1)"
   ]
  },
  {
   "cell_type": "code",
   "execution_count": 77,
   "id": "bf9eaa7a",
   "metadata": {},
   "outputs": [
    {
     "name": "stdout",
     "output_type": "stream",
     "text": [
      "(209222, 13)\n"
     ]
    }
   ],
   "source": [
    "# set checkpoint\n",
    "df2 = df.copy()\n",
    "df.head(2)\n",
    "print(df.shape)"
   ]
  },
  {
   "cell_type": "markdown",
   "id": "4e97df7f",
   "metadata": {},
   "source": [
    "Now we will check whether `live` projects have met their goal and can be considered as `succesful`\n"
   ]
  },
  {
   "cell_type": "code",
   "execution_count": 78,
   "id": "70e76a1a",
   "metadata": {},
   "outputs": [
    {
     "data": {
      "text/plain": [
       "Series([], Name: state, dtype: object)"
      ]
     },
     "execution_count": 78,
     "metadata": {},
     "output_type": "execute_result"
    }
   ],
   "source": [
    "df.loc[df['max_pledged'] >= df.goal, 'state'] = \"successful\"\n",
    "#check whether there are live:successsful projects left\n",
    "df.query(\"state == 'live' and max_pledged >= goal\").state"
   ]
  },
  {
   "cell_type": "code",
   "execution_count": 79,
   "id": "b9fdbe87",
   "metadata": {},
   "outputs": [
    {
     "data": {
      "text/plain": [
       "(209222, 13)"
      ]
     },
     "execution_count": 79,
     "metadata": {},
     "output_type": "execute_result"
    }
   ],
   "source": [
    "#df = df2.copy()\n",
    "df.shape"
   ]
  },
  {
   "cell_type": "markdown",
   "id": "ef31689e",
   "metadata": {},
   "source": [
    "Now we will drop all entries, which are not `successful` or `failed`\n"
   ]
  },
  {
   "cell_type": "code",
   "execution_count": 80,
   "id": "a43050c7",
   "metadata": {},
   "outputs": [
    {
     "data": {
      "text/plain": [
       "successful    119839\n",
       "failed         75108\n",
       "canceled        8456\n",
       "live            5277\n",
       "suspended        542\n",
       "Name: state, dtype: int64"
      ]
     },
     "execution_count": 80,
     "metadata": {},
     "output_type": "execute_result"
    }
   ],
   "source": [
    "df.state.value_counts()"
   ]
  },
  {
   "cell_type": "code",
   "execution_count": 81,
   "id": "0a965218",
   "metadata": {},
   "outputs": [
    {
     "data": {
      "text/plain": [
       "array(['successful', 'failed'], dtype=object)"
      ]
     },
     "execution_count": 81,
     "metadata": {},
     "output_type": "execute_result"
    }
   ],
   "source": [
    "df = df[df.state != \"canceled\"]\n",
    "df = df[df.state != \"suspended\"]\n",
    "df = df[df.state != \"live\"]\n",
    "df.state.unique()"
   ]
  },
  {
   "cell_type": "code",
   "execution_count": 82,
   "id": "c91008ac",
   "metadata": {},
   "outputs": [
    {
     "data": {
      "text/plain": [
       "(194947, 13)"
      ]
     },
     "execution_count": 82,
     "metadata": {},
     "output_type": "execute_result"
    }
   ],
   "source": [
    "df.shape"
   ]
  },
  {
   "cell_type": "markdown",
   "id": "49ef6f85",
   "metadata": {},
   "source": [
    "Sort `countries` into categories US, NA, SEA, GB, ANZ, JP, EU:"
   ]
  },
  {
   "cell_type": "code",
   "execution_count": 83,
   "id": "c1dcec25",
   "metadata": {},
   "outputs": [
    {
     "data": {
      "text/plain": [
       "array(['US', 'GB', 'FR', 'AU', 'NZ', 'ES', 'IT', 'NO', 'NL', 'CA', 'SG',\n",
       "       'MX', 'SE', 'IE', 'DE', 'BE', 'HK', 'AT', 'JP', 'DK', 'CH', 'LU'],\n",
       "      dtype=object)"
      ]
     },
     "execution_count": 83,
     "metadata": {},
     "output_type": "execute_result"
    }
   ],
   "source": [
    "pd.unique(df.country)"
   ]
  },
  {
   "cell_type": "code",
   "execution_count": 48,
   "id": "b736de17",
   "metadata": {},
   "outputs": [],
   "source": [
    "df.country.replace({'HK':\"SEA\", 'NL':\"EU\", 'AU':\"ANZ\", 'DE':\"EU\", \"CA\":\"NA\", 'SE':\"EU\",\n",
    "                    'BE':\"EU\", 'MX':\"NA\", 'CH':\"EU\", 'SG':\"SEA\", 'FR':\"EU\", 'IT':\"EU\",\n",
    "                    'DK':\"EU\", 'LU':\"EU\", 'NO':\"EU\", 'ES':\"EU\", 'IE':\"EU\", 'NZ':\"ANZ\", \n",
    "                    'AT':\"EU\"}, inplace = True)"
   ]
  },
  {
   "cell_type": "markdown",
   "id": "c7982d5c",
   "metadata": {},
   "source": [
    "Turn entries of `created_at`, `launched`, `deadline` into datetime:"
   ]
  },
  {
   "cell_type": "code",
   "execution_count": 85,
   "id": "019f2f2d",
   "metadata": {},
   "outputs": [
    {
     "data": {
      "text/html": [
       "<div>\n",
       "<style scoped>\n",
       "    .dataframe tbody tr th:only-of-type {\n",
       "        vertical-align: middle;\n",
       "    }\n",
       "\n",
       "    .dataframe tbody tr th {\n",
       "        vertical-align: top;\n",
       "    }\n",
       "\n",
       "    .dataframe thead th {\n",
       "        text-align: right;\n",
       "    }\n",
       "</style>\n",
       "<table border=\"1\" class=\"dataframe\">\n",
       "  <thead>\n",
       "    <tr style=\"text-align: right;\">\n",
       "      <th></th>\n",
       "      <th>backers_count</th>\n",
       "      <th>country</th>\n",
       "      <th>created_at</th>\n",
       "      <th>creator</th>\n",
       "      <th>deadline</th>\n",
       "      <th>goal</th>\n",
       "      <th>id</th>\n",
       "      <th>launched_at</th>\n",
       "      <th>location</th>\n",
       "      <th>state</th>\n",
       "      <th>cat_id</th>\n",
       "      <th>slug</th>\n",
       "      <th>max_pledged</th>\n",
       "    </tr>\n",
       "  </thead>\n",
       "  <tbody>\n",
       "    <tr>\n",
       "      <th>0</th>\n",
       "      <td>315</td>\n",
       "      <td>US</td>\n",
       "      <td>2018-11-05 23:06:45</td>\n",
       "      <td>{\"id\":2094277840,\"name\":\"Lucy Conroy\",\"slug\":\"...</td>\n",
       "      <td>2019-03-14 05:02:55</td>\n",
       "      <td>28000.0</td>\n",
       "      <td>2108505034</td>\n",
       "      <td>2019-01-23 06:02:55</td>\n",
       "      <td>{\"id\":2462429,\"name\":\"Novato\",\"slug\":\"novato-c...</td>\n",
       "      <td>successful</td>\n",
       "      <td>266</td>\n",
       "      <td>fashion/footwear</td>\n",
       "      <td>28645.000000</td>\n",
       "    </tr>\n",
       "    <tr>\n",
       "      <th>1</th>\n",
       "      <td>47</td>\n",
       "      <td>US</td>\n",
       "      <td>2017-08-02 14:28:13</td>\n",
       "      <td>{\"id\":723886115,\"name\":\"Lisa Vollrath\",\"slug\":...</td>\n",
       "      <td>2017-09-09 17:00:59</td>\n",
       "      <td>1000.0</td>\n",
       "      <td>928751314</td>\n",
       "      <td>2017-08-10 17:00:59</td>\n",
       "      <td>{\"id\":2400549,\"name\":\"Euless\",\"slug\":\"euless-t...</td>\n",
       "      <td>successful</td>\n",
       "      <td>273</td>\n",
       "      <td>games/playing cards</td>\n",
       "      <td>1950.000000</td>\n",
       "    </tr>\n",
       "    <tr>\n",
       "      <th>2</th>\n",
       "      <td>271</td>\n",
       "      <td>US</td>\n",
       "      <td>2012-09-30 06:45:33</td>\n",
       "      <td>{\"id\":323849677,\"name\":\"Electra\",\"is_registere...</td>\n",
       "      <td>2013-06-12 05:03:15</td>\n",
       "      <td>15000.0</td>\n",
       "      <td>928014092</td>\n",
       "      <td>2013-05-13 05:03:15</td>\n",
       "      <td>{\"id\":2423474,\"name\":\"Hollywood\",\"slug\":\"holly...</td>\n",
       "      <td>successful</td>\n",
       "      <td>43</td>\n",
       "      <td>music/rock</td>\n",
       "      <td>22404.000000</td>\n",
       "    </tr>\n",
       "    <tr>\n",
       "      <th>3</th>\n",
       "      <td>3</td>\n",
       "      <td>GB</td>\n",
       "      <td>2017-01-07 09:11:11</td>\n",
       "      <td>{\"id\":196281496,\"name\":\"Artur Ordijanc (delete...</td>\n",
       "      <td>2017-03-13 17:22:56</td>\n",
       "      <td>10000.0</td>\n",
       "      <td>596091328</td>\n",
       "      <td>2017-01-12 18:22:56</td>\n",
       "      <td>{\"id\":475457,\"name\":\"Kaunas\",\"slug\":\"kaunas-ka...</td>\n",
       "      <td>failed</td>\n",
       "      <td>273</td>\n",
       "      <td>games/playing cards</td>\n",
       "      <td>165.384934</td>\n",
       "    </tr>\n",
       "    <tr>\n",
       "      <th>4</th>\n",
       "      <td>3</td>\n",
       "      <td>US</td>\n",
       "      <td>2012-12-06 18:04:31</td>\n",
       "      <td>{\"id\":1178460181,\"name\":\"Dawn Johnston\",\"is_re...</td>\n",
       "      <td>2013-01-09 20:32:07</td>\n",
       "      <td>2800.0</td>\n",
       "      <td>998516049</td>\n",
       "      <td>2012-12-10 20:32:07</td>\n",
       "      <td>{\"id\":2507703,\"name\":\"Traverse City\",\"slug\":\"t...</td>\n",
       "      <td>successful</td>\n",
       "      <td>48</td>\n",
       "      <td>publishing/nonfiction</td>\n",
       "      <td>2820.000000</td>\n",
       "    </tr>\n",
       "  </tbody>\n",
       "</table>\n",
       "</div>"
      ],
      "text/plain": [
       "   backers_count country          created_at  \\\n",
       "0            315      US 2018-11-05 23:06:45   \n",
       "1             47      US 2017-08-02 14:28:13   \n",
       "2            271      US 2012-09-30 06:45:33   \n",
       "3              3      GB 2017-01-07 09:11:11   \n",
       "4              3      US 2012-12-06 18:04:31   \n",
       "\n",
       "                                             creator            deadline  \\\n",
       "0  {\"id\":2094277840,\"name\":\"Lucy Conroy\",\"slug\":\"... 2019-03-14 05:02:55   \n",
       "1  {\"id\":723886115,\"name\":\"Lisa Vollrath\",\"slug\":... 2017-09-09 17:00:59   \n",
       "2  {\"id\":323849677,\"name\":\"Electra\",\"is_registere... 2013-06-12 05:03:15   \n",
       "3  {\"id\":196281496,\"name\":\"Artur Ordijanc (delete... 2017-03-13 17:22:56   \n",
       "4  {\"id\":1178460181,\"name\":\"Dawn Johnston\",\"is_re... 2013-01-09 20:32:07   \n",
       "\n",
       "      goal          id         launched_at  \\\n",
       "0  28000.0  2108505034 2019-01-23 06:02:55   \n",
       "1   1000.0   928751314 2017-08-10 17:00:59   \n",
       "2  15000.0   928014092 2013-05-13 05:03:15   \n",
       "3  10000.0   596091328 2017-01-12 18:22:56   \n",
       "4   2800.0   998516049 2012-12-10 20:32:07   \n",
       "\n",
       "                                            location       state  cat_id  \\\n",
       "0  {\"id\":2462429,\"name\":\"Novato\",\"slug\":\"novato-c...  successful     266   \n",
       "1  {\"id\":2400549,\"name\":\"Euless\",\"slug\":\"euless-t...  successful     273   \n",
       "2  {\"id\":2423474,\"name\":\"Hollywood\",\"slug\":\"holly...  successful      43   \n",
       "3  {\"id\":475457,\"name\":\"Kaunas\",\"slug\":\"kaunas-ka...      failed     273   \n",
       "4  {\"id\":2507703,\"name\":\"Traverse City\",\"slug\":\"t...  successful      48   \n",
       "\n",
       "                    slug   max_pledged  \n",
       "0       fashion/footwear  28645.000000  \n",
       "1    games/playing cards   1950.000000  \n",
       "2             music/rock  22404.000000  \n",
       "3    games/playing cards    165.384934  \n",
       "4  publishing/nonfiction   2820.000000  "
      ]
     },
     "execution_count": 85,
     "metadata": {},
     "output_type": "execute_result"
    }
   ],
   "source": [
    "df.created_at = pd.to_datetime(df.iloc[:,df.columns.tolist().index(\"created_at\")],unit='s')\n",
    "df.launched_at = pd.to_datetime(df.iloc[:,df.columns.tolist().index(\"launched_at\")],unit='s')\n",
    "df.deadline = pd.to_datetime(df.iloc[:,df.columns.tolist().index(\"deadline\")],unit='s')\n",
    "#df.state_changed_at = pd.to_datetime(df.iloc[:,df.columns.tolist().index(\"state_changed_at\")],unit='s')\n",
    "df.head()"
   ]
  },
  {
   "cell_type": "code",
   "execution_count": 86,
   "id": "45db3b60",
   "metadata": {},
   "outputs": [
    {
     "data": {
      "text/plain": [
       "(194947, 13)"
      ]
     },
     "execution_count": 86,
     "metadata": {},
     "output_type": "execute_result"
    }
   ],
   "source": [
    "df.shape"
   ]
  },
  {
   "cell_type": "code",
   "execution_count": 87,
   "id": "319b047f",
   "metadata": {},
   "outputs": [],
   "source": [
    "# set checkpoint\n",
    "df2 = df.copy()"
   ]
  },
  {
   "cell_type": "markdown",
   "id": "27a1a0d7",
   "metadata": {},
   "source": [
    "Check for `id` copies and remove if they refer to the same data point: multiplicities of entries:"
   ]
  },
  {
   "cell_type": "code",
   "execution_count": 88,
   "id": "443c8450",
   "metadata": {},
   "outputs": [
    {
     "name": "stdout",
     "output_type": "stream",
     "text": [
      "3 2 1\n"
     ]
    }
   ],
   "source": [
    "print(*df.id.value_counts().unique())"
   ]
  },
  {
   "cell_type": "markdown",
   "id": "b54c6c99",
   "metadata": {},
   "source": [
    "List of multiply used `id` entries:"
   ]
  },
  {
   "cell_type": "code",
   "execution_count": 89,
   "id": "329f5b67",
   "metadata": {},
   "outputs": [
    {
     "data": {
      "text/plain": [
       "24596"
      ]
     },
     "execution_count": 89,
     "metadata": {},
     "output_type": "execute_result"
    }
   ],
   "source": [
    "dic = df.id.value_counts()\n",
    "multiples = np.array([key for key in dic.keys() if dic[key] > 1])\n",
    "len(multiples)"
   ]
  },
  {
   "cell_type": "markdown",
   "id": "dc8c2137",
   "metadata": {},
   "source": [
    "They don't differ in any features, except one."
   ]
  },
  {
   "cell_type": "code",
   "execution_count": 55,
   "id": "69e767ff",
   "metadata": {
    "tags": []
   },
   "outputs": [],
   "source": [
    "#for id in multiples:\n",
    "#    print((id, [c for c in df.columns if df.query('id == '+str(id))[c].nunique() != 1]))\n"
   ]
  },
  {
   "cell_type": "markdown",
   "id": "ed1b46cf",
   "metadata": {},
   "source": [
    "In that case, only one of the rows with the same `id` entry need to be kept."
   ]
  },
  {
   "cell_type": "code",
   "execution_count": 90,
   "id": "5097835e",
   "metadata": {},
   "outputs": [],
   "source": [
    "df.drop_duplicates(subset = \"id\", keep = \"first\", inplace = True)"
   ]
  },
  {
   "cell_type": "code",
   "execution_count": 91,
   "id": "5b6af45c",
   "metadata": {},
   "outputs": [
    {
     "data": {
      "text/plain": [
       "(170350, 13)"
      ]
     },
     "execution_count": 91,
     "metadata": {},
     "output_type": "execute_result"
    }
   ],
   "source": [
    "df.shape"
   ]
  },
  {
   "cell_type": "markdown",
   "id": "0961d10b",
   "metadata": {},
   "source": [
    "Now we will take a look at `location` and try to extract some meaningful information.\n",
    "\n",
    "Fist we will drop NaN rows and then convert the `json-str` into a dictonary to extract keys and values."
   ]
  },
  {
   "cell_type": "code",
   "execution_count": 92,
   "id": "b9c39f6b",
   "metadata": {},
   "outputs": [
    {
     "data": {
      "text/plain": [
       "213"
      ]
     },
     "execution_count": 92,
     "metadata": {},
     "output_type": "execute_result"
    }
   ],
   "source": [
    "df.location.isnull().sum()"
   ]
  },
  {
   "cell_type": "code",
   "execution_count": 93,
   "id": "d2d4e237",
   "metadata": {},
   "outputs": [],
   "source": [
    "df.dropna(axis = 0, subset = [\"location\"], inplace = True)"
   ]
  },
  {
   "cell_type": "code",
   "execution_count": 94,
   "id": "275a3777",
   "metadata": {},
   "outputs": [],
   "source": [
    "df.location =[json.loads(x) for x in df.location]"
   ]
  },
  {
   "cell_type": "code",
   "execution_count": 95,
   "id": "2d20ef51",
   "metadata": {},
   "outputs": [],
   "source": [
    "df[\"location_type\"] = [df.location.iloc[x][\"type\"] for x in range(0,len(df.location))]\n",
    "df[\"location_city\"] = [df.location.iloc[x][\"short_name\"] for x in range(0,len(df.location))]\n",
    "df[\"location_state\"] = [df.location.iloc[x][\"state\"] for x in range(0,len(df.location))]"
   ]
  },
  {
   "cell_type": "code",
   "execution_count": 96,
   "id": "fa4f2d5b",
   "metadata": {},
   "outputs": [
    {
     "data": {
      "text/plain": [
       "Town             157752\n",
       "County             6433\n",
       "Suburb             4303\n",
       "LocalAdmin          992\n",
       "Zip                 412\n",
       "Island              209\n",
       "Country              17\n",
       "Miscellaneous        15\n",
       "Estate                4\n",
       "Name: location_type, dtype: int64"
      ]
     },
     "execution_count": 96,
     "metadata": {},
     "output_type": "execute_result"
    }
   ],
   "source": [
    "df.location_type.value_counts()"
   ]
  },
  {
   "cell_type": "markdown",
   "id": "15f2e6ea",
   "metadata": {},
   "source": [
    "Remaining questions:\n",
    "- What to do with location? Extract cities and try to assign some score to each? To test this, extract a few big cities and check for correlation with target."
   ]
  },
  {
   "cell_type": "code",
   "execution_count": 97,
   "id": "839bf585",
   "metadata": {},
   "outputs": [
    {
     "data": {
      "text/plain": [
       "(170137, 16)"
      ]
     },
     "execution_count": 97,
     "metadata": {},
     "output_type": "execute_result"
    }
   ],
   "source": [
    "df.shape"
   ]
  },
  {
   "cell_type": "markdown",
   "id": "5fd0f8e2-d36c-40ae-906c-8651652fa111",
   "metadata": {},
   "source": [
    "-------\n",
    "\n",
    "## Matthias"
   ]
  },
  {
   "cell_type": "markdown",
   "id": "fb36ac3d-51a2-4b92-8fdf-766b46e4ac54",
   "metadata": {},
   "source": [
    "### Location score"
   ]
  },
  {
   "cell_type": "code",
   "execution_count": 98,
   "id": "152d48aa-2e89-43e8-be14-29f7bada389f",
   "metadata": {},
   "outputs": [],
   "source": [
    "dic = {x:0 for x in df.location_city}\n",
    "\n",
    "dic.update(df.query('state == 1').location_city.value_counts().to_dict())\n",
    "df['location_score'] = df.location_city.replace(dic)\n",
    "\n",
    "df['location_score'] = [max(0, x-1) for x in df.location_score]"
   ]
  },
  {
   "cell_type": "markdown",
   "id": "5b1a5be4-05af-4757-926f-09b409e802e7",
   "metadata": {},
   "source": [
    "### Goal cutoff and log"
   ]
  },
  {
   "cell_type": "markdown",
   "id": "4ffbc84c-9591-480a-99d6-e6eaaae792ef",
   "metadata": {
    "tags": []
   },
   "source": [
    "The distribution of `goal` is sporadic:"
   ]
  },
  {
   "cell_type": "code",
   "execution_count": 99,
   "id": "8c9dee09-8f98-4184-bb1c-14a325eb7328",
   "metadata": {},
   "outputs": [
    {
     "data": {
      "text/plain": [
       "(100000000.0, 0.01, 48167.901415212444, 5000.0, 1155893.9864497301)"
      ]
     },
     "execution_count": 99,
     "metadata": {},
     "output_type": "execute_result"
    }
   ],
   "source": [
    "df.goal.max(), df.goal.min(), df.goal.mean(), df.goal.median(), df.goal.std()"
   ]
  },
  {
   "cell_type": "markdown",
   "id": "039b7813-9333-444a-9e17-c0ea274b01f0",
   "metadata": {},
   "source": [
    "Let us see how many data points get lost for certain `goal` cutoffs:"
   ]
  },
  {
   "cell_type": "code",
   "execution_count": 207,
   "id": "0b29b8ae-1749-480d-b84b-3aa1c0d76ff1",
   "metadata": {},
   "outputs": [
    {
     "name": "stdout",
     "output_type": "stream",
     "text": [
      "cutoff = 10,000,000: 90\n",
      "cutoff = 5,000,000: 190\n",
      "cutoff = 2,000,000: 416\n",
      "cutoff = 1,000,000: 720\n"
     ]
    }
   ],
   "source": [
    "print('cutoff = 10,000,000:', df.query('goal > 10000000').goal.count())\n",
    "print('cutoff = 5,000,000:', df.query('goal > 5000000').goal.count())\n",
    "print('cutoff = 2,000,000:', df.query('goal > 2000000').goal.count())\n",
    "print('cutoff = 1,000,000:', df.query('goal > 1000000').goal.count())"
   ]
  },
  {
   "cell_type": "markdown",
   "id": "03d2fea0-ac5e-46ad-bac8-2b6101140535",
   "metadata": {},
   "source": [
    "We cut off at 10,000,000:"
   ]
  },
  {
   "cell_type": "code",
   "execution_count": 100,
   "id": "a5065942-4254-4765-ba03-59b392be8bf2",
   "metadata": {},
   "outputs": [],
   "source": [
    "df = df.query('goal < 10000001')"
   ]
  },
  {
   "cell_type": "markdown",
   "id": "f63d0661-7c89-4dd3-be52-81c002a9995d",
   "metadata": {},
   "source": [
    "In addition, we take the log:"
   ]
  },
  {
   "cell_type": "code",
   "execution_count": 101,
   "id": "8d5466bd-ff09-4ae1-a45f-60bb3e04b5db",
   "metadata": {},
   "outputs": [],
   "source": [
    "df.goal = df.eval('log(goal)')"
   ]
  },
  {
   "cell_type": "code",
   "execution_count": 103,
   "id": "0f6b86f4-b62c-4dc0-9ebc-fa6c6bbe2f68",
   "metadata": {},
   "outputs": [
    {
     "data": {
      "image/png": "[encoded data removed]",
      "text/plain": [
       "<Figure size 432x288 with 1 Axes>"
      ]
     },
     "metadata": {
      "needs_background": "light"
     },
     "output_type": "display_data"
    }
   ],
   "source": [
    "import seaborn as sns\n",
    "sns.histplot(df.goal);"
   ]
  },
  {
   "cell_type": "markdown",
   "id": "929d30d5-ac8a-4742-85dc-63458e076b5b",
   "metadata": {
    "tags": []
   },
   "source": [
    "### Success rate"
   ]
  },
  {
   "cell_type": "code",
   "execution_count": 104,
   "id": "2edd9180-2364-43b6-a6b6-8385468f130e",
   "metadata": {},
   "outputs": [],
   "source": [
    "df['creator_id'] = [x[x.find(':')+1 : x.find(',')] for x in df.creator]\n",
    "\n",
    "dic_suc = {id:0 for id in df.creator_id.unique()}\n",
    "dic_fai = {id:0 for id in df.creator_id.unique()}\n",
    "dic_suc.update(df.query('state == \"successful\"').creator_id.value_counts().to_dict())\n",
    "dic_fai.update(df.query('state == \"failed\"').creator_id.value_counts().to_dict())\n",
    "\n",
    "df['projects_successful'] = df.creator_id\n",
    "df['projects_failed'] = df.creator_id"
   ]
  },
  {
   "cell_type": "code",
   "execution_count": 105,
   "id": "4128f4cc-d876-47e0-aae9-23d88c77d67f",
   "metadata": {
    "tags": []
   },
   "outputs": [],
   "source": [
    "df.projects_successful.replace(dic_suc, inplace=True)\n",
    "df.projects_failed.replace(dic_fai, inplace=True)"
   ]
  },
  {
   "cell_type": "code",
   "execution_count": 261,
   "id": "51442397-6f30-41bb-bc40-06fe28ea5466",
   "metadata": {
    "tags": []
   },
   "outputs": [],
   "source": [
    "df['projects_successful_nm'] = [max(0, x-1) for x in df.projects_successful]\n",
    "df['projects_failed_nm'] = [max(0, x-1) for x in df.projects_failed]"
   ]
  },
  {
   "cell_type": "markdown",
   "id": "282227fa-9f85-4cd8-86aa-0d5f37c5ca74",
   "metadata": {},
   "source": [
    "Drop `creator_id`:"
   ]
  },
  {
   "cell_type": "code",
   "execution_count": 265,
   "id": "25681778-60ce-482f-898c-f5a7831dbc8e",
   "metadata": {},
   "outputs": [],
   "source": [
    "df.drop('creator_id', axis=1, inplace=True)"
   ]
  },
  {
   "cell_type": "code",
   "execution_count": 262,
   "id": "dbc3a7e3-a67b-4db4-9b2e-1311bcd7ad97",
   "metadata": {},
   "outputs": [
    {
     "data": {
      "text/plain": [
       "(1       6\n",
       " 2       0\n",
       " 3       0\n",
       " 4       0\n",
       " 5       0\n",
       "        ..\n",
       " 3786    0\n",
       " 3788    0\n",
       " 3789    0\n",
       " 3790    1\n",
       " 3791    0\n",
       " Name: projects_successful_nm, Length: 168699, dtype: int64,\n",
       " 1       0\n",
       " 2       0\n",
       " 3       1\n",
       " 4       0\n",
       " 5       0\n",
       "        ..\n",
       " 3786    0\n",
       " 3788    0\n",
       " 3789    0\n",
       " 3790    0\n",
       " 3791    0\n",
       " Name: projects_failed_nm, Length: 168699, dtype: int64)"
      ]
     },
     "execution_count": 262,
     "metadata": {},
     "output_type": "execute_result"
    }
   ],
   "source": [
    "df.projects_successful_nm, df.projects_failed_nm "
   ]
  },
  {
   "cell_type": "markdown",
   "id": "9aea954d-a989-48c1-b8e5-967b38039b89",
   "metadata": {},
   "source": [
    "### Gender"
   ]
  },
  {
   "cell_type": "code",
   "execution_count": 113,
   "id": "8c0be304-476c-49e8-b022-02f52daa9c4f",
   "metadata": {},
   "outputs": [],
   "source": [
    "df['creator_name'] = [x[x.find('\":\"')+3 : x.find('\",\"')].split(' ')[0].lower() for x in df.creator]"
   ]
  },
  {
   "cell_type": "code",
   "execution_count": 114,
   "id": "e6c779f8-1678-4563-bd60-8d67132f3a22",
   "metadata": {
    "tags": []
   },
   "outputs": [],
   "source": [
    "males = pd.read_csv('male.txt', sep='\\n')\n",
    "females = pd.read_csv('female.txt', sep='\\n')\n",
    "\n",
    "dic_names = {x.lower():1 for x in males['# List of common male names.'].iloc[4:]}\n",
    "dic_names.update({x.lower():0 for x in females['# List of common female names.'].iloc[4:]})\n",
    "\n",
    "dic = {x:2 for x in df.creator_name}\n",
    "dic.update(dic_names)"
   ]
  },
  {
   "cell_type": "code",
   "execution_count": 116,
   "id": "cb775c2b-9c5e-4f54-889a-8e020eb1cb0c",
   "metadata": {},
   "outputs": [],
   "source": [
    "df['gender'] = df.creator_name.replace(dic)"
   ]
  },
  {
   "cell_type": "markdown",
   "id": "72ffeb5c-451d-4939-bf8d-48889cc26c07",
   "metadata": {},
   "source": [
    "### Final shape"
   ]
  },
  {
   "cell_type": "code",
   "execution_count": 118,
   "id": "39192311-f1f5-4e7e-8d51-e24f1b21010e",
   "metadata": {
    "tags": []
   },
   "outputs": [
    {
     "data": {
      "text/plain": [
       "(170070, 22)"
      ]
     },
     "execution_count": 118,
     "metadata": {},
     "output_type": "execute_result"
    }
   ],
   "source": [
    "df.shape"
   ]
  },
  {
   "cell_type": "code",
   "execution_count": 119,
   "id": "1e7e759c-8c37-4f4f-b59c-6f95512fca8f",
   "metadata": {},
   "outputs": [
    {
     "data": {
      "text/plain": [
       "Index(['backers_count', 'country', 'created_at', 'creator', 'deadline', 'goal',\n",
       "       'id', 'launched_at', 'location', 'state', 'cat_id', 'slug',\n",
       "       'max_pledged', 'location_type', 'location_city', 'location_state',\n",
       "       'location_score', 'creator_id', 'projects_successful',\n",
       "       'projects_failed', 'creator_name', 'gender'],\n",
       "      dtype='object')"
      ]
     },
     "execution_count": 119,
     "metadata": {},
     "output_type": "execute_result"
    }
   ],
   "source": [
    "df.columns"
   ]
  },
  {
   "cell_type": "markdown",
   "id": "097b8ef9-7db1-40ee-ab8e-8fc54c6db739",
   "metadata": {},
   "source": [
    "### Save cleaned data"
   ]
  },
  {
   "cell_type": "code",
   "execution_count": 117,
   "id": "650f9f5d-844f-4450-8169-f09037934f9f",
   "metadata": {
    "tags": []
   },
   "outputs": [],
   "source": [
    "df.to_csv('data_cleaned/kickstarter_cleaned.csv')"
   ]
  },
  {
   "cell_type": "code",
   "execution_count": null,
   "id": "ffb06fb0-489c-455c-8d5d-610e67fbad12",
   "metadata": {},
   "outputs": [],
   "source": []
  }
 ],
 "metadata": {
  "interpreter": {
   "hash": "b58e2bc1572df468e5d42d3993d3ef1ccd4fafa9e984d7179347929f947a7c38"
  },
  "kernelspec": {
   "display_name": "Python 3",
   "language": "python",
   "name": "python3"
  },
  "language_info": {
   "codemirror_mode": {
    "name": "ipython",
    "version": 3
   },
   "file_extension": ".py",
   "mimetype": "text/x-python",
   "name": "python",
   "nbconvert_exporter": "python",
   "pygments_lexer": "ipython3",
   "version": "3.8.5"
  }
 },
 "nbformat": 4,
 "nbformat_minor": 5
}
