{
 "cells": [
  {
   "cell_type": "markdown",
   "id": "9b13c214",
   "metadata": {
    "tags": []
   },
   "source": [
    "# Kickstarter ML Project"
   ]
  },
  {
   "cell_type": "markdown",
   "id": "67d0c1ad",
   "metadata": {},
   "source": [
    "## Preparation"
   ]
  },
  {
   "cell_type": "code",
   "execution_count": 1,
   "id": "f840f4b5",
   "metadata": {},
   "outputs": [],
   "source": [
    "import pandas as pd\n",
    "import numpy as np\n",
    "import glob\n",
    "\n",
    "import sweetviz as sv\n",
    "import json\n",
    "\n",
    "\n",
    "RSEED = 42"
   ]
  },
  {
   "cell_type": "markdown",
   "id": "e348c625",
   "metadata": {},
   "source": [
    "### Load Data"
   ]
  },
  {
   "cell_type": "code",
   "execution_count": 2,
   "id": "9dac37c7",
   "metadata": {},
   "outputs": [],
   "source": [
    "# Load csv's and merge to a single dataframe\n",
    "\n",
    "#path = \"/Users/bur.oez/neuefische/Kickstarter-ML-Project/data/*.csv\" # Burak's path\n",
    "path = \"data/*.csv\" # Christian's path\n",
    "#path = \".../*.csv\"\" # Matthias's path\n",
    "\n",
    "all_files = glob.glob(path)\n",
    "df_raw = pd.concat((pd.read_csv(f) for f in all_files))"
   ]
  },
  {
   "cell_type": "markdown",
   "id": "053832b8",
   "metadata": {},
   "source": [
    "### Overview"
   ]
  },
  {
   "cell_type": "code",
   "execution_count": 3,
   "id": "965b16f9",
   "metadata": {},
   "outputs": [],
   "source": [
    "## Execute Sweetviz \n",
    "#my_report = sv.analyze(df_raw)\n",
    "#my_report.show_html() # Default arguments will generate to \"SWEETVIZ_REPORT.html\""
   ]
  },
  {
   "cell_type": "code",
   "execution_count": 4,
   "id": "2a3784bc",
   "metadata": {},
   "outputs": [
    {
     "data": {
      "text/plain": [
       "Index(['backers_count', 'blurb', 'category', 'converted_pledged_amount',\n",
       "       'country', 'created_at', 'creator', 'currency', 'currency_symbol',\n",
       "       'currency_trailing_code', 'current_currency', 'deadline',\n",
       "       'disable_communication', 'friends', 'fx_rate', 'goal', 'id',\n",
       "       'is_backing', 'is_starrable', 'is_starred', 'launched_at', 'location',\n",
       "       'name', 'permissions', 'photo', 'pledged', 'profile', 'slug',\n",
       "       'source_url', 'spotlight', 'staff_pick', 'state', 'state_changed_at',\n",
       "       'static_usd_rate', 'urls', 'usd_pledged', 'usd_type'],\n",
       "      dtype='object')"
      ]
     },
     "execution_count": 4,
     "metadata": {},
     "output_type": "execute_result"
    }
   ],
   "source": [
    "df_raw.columns"
   ]
  },
  {
   "cell_type": "markdown",
   "id": "3b8dccbe",
   "metadata": {},
   "source": [
    "## Data Cleaning\n",
    "\n",
    "For safety, we operate on a copy of the data frame."
   ]
  },
  {
   "cell_type": "code",
   "execution_count": 5,
   "id": "d50b0f58",
   "metadata": {},
   "outputs": [],
   "source": [
    "df = df_raw.copy()"
   ]
  },
  {
   "cell_type": "markdown",
   "id": "88218c16",
   "metadata": {},
   "source": [
    "For a basic feature analysis, we may focus on easily accessible features. Consequently, we drop the cols\n",
    "- `blurb`, `creator`, `slug`, `name` and `photo`, because they might only be exploitable through a semantic or context analysis,\n",
    "- `currency_symbol`, `currency_trailing_code`, because they are redundant,\n",
    "r a basic feature analysis, we may focus on easily accessible features. Consequently, we drop the cols\n",
    "- `blurb`, `creator`, `slug`, `name` and `photo`, because they might only be exploitable through a semantic or context analysis,\n",
    "- `currency_symbol`, `currency_trailing_code`, because they are redundant,\n",
    "- `friends`, ìs_starrable` and `permission`, because they do not contain any information,\n",
    "- `disable_communication`, `is_backing` and `is_starred`, because they have an entry only for the same 300 data points and it is questionable whether the missing entries may be treated as one category; later on we might try this with one of them and drop the other two,  \n",
    "- `urls`, `source_url` and `profile` because they do not contain additional information.\n",
    "- `spotlight` and `staff_pick` will be dropped, because the creator has no influence on Kickstarter Staff picks\n",
    "- `created_at`, `launched_at` and `state_changed_at` will be kept to calculate time-deltas for potential new features."
   ]
  },
  {
   "cell_type": "code",
   "execution_count": 6,
   "id": "7f93fe9b",
   "metadata": {},
   "outputs": [
    {
     "data": {
      "text/html": [
       "<div>\n",
       "<style scoped>\n",
       "    .dataframe tbody tr th:only-of-type {\n",
       "        vertical-align: middle;\n",
       "    }\n",
       "\n",
       "    .dataframe tbody tr th {\n",
       "        vertical-align: top;\n",
       "    }\n",
       "\n",
       "    .dataframe thead th {\n",
       "        text-align: right;\n",
       "    }\n",
       "</style>\n",
       "<table border=\"1\" class=\"dataframe\">\n",
       "  <thead>\n",
       "    <tr style=\"text-align: right;\">\n",
       "      <th></th>\n",
       "      <th>backers_count</th>\n",
       "      <th>category</th>\n",
       "      <th>converted_pledged_amount</th>\n",
       "      <th>country</th>\n",
       "      <th>created_at</th>\n",
       "      <th>currency</th>\n",
       "      <th>current_currency</th>\n",
       "      <th>deadline</th>\n",
       "      <th>fx_rate</th>\n",
       "      <th>goal</th>\n",
       "      <th>id</th>\n",
       "      <th>launched_at</th>\n",
       "      <th>location</th>\n",
       "      <th>pledged</th>\n",
       "      <th>state</th>\n",
       "      <th>state_changed_at</th>\n",
       "      <th>static_usd_rate</th>\n",
       "      <th>usd_pledged</th>\n",
       "    </tr>\n",
       "  </thead>\n",
       "  <tbody>\n",
       "    <tr>\n",
       "      <th>0</th>\n",
       "      <td>315</td>\n",
       "      <td>{\"id\":266,\"name\":\"Footwear\",\"slug\":\"fashion/fo...</td>\n",
       "      <td>28645</td>\n",
       "      <td>US</td>\n",
       "      <td>1541459205</td>\n",
       "      <td>USD</td>\n",
       "      <td>USD</td>\n",
       "      <td>1552539775</td>\n",
       "      <td>1.000000</td>\n",
       "      <td>28000.0</td>\n",
       "      <td>2108505034</td>\n",
       "      <td>1548223375</td>\n",
       "      <td>{\"id\":2462429,\"name\":\"Novato\",\"slug\":\"novato-c...</td>\n",
       "      <td>28645.0</td>\n",
       "      <td>live</td>\n",
       "      <td>1548223375</td>\n",
       "      <td>1.000000</td>\n",
       "      <td>28645.000000</td>\n",
       "    </tr>\n",
       "    <tr>\n",
       "      <th>1</th>\n",
       "      <td>47</td>\n",
       "      <td>{\"id\":273,\"name\":\"Playing Cards\",\"slug\":\"games...</td>\n",
       "      <td>1950</td>\n",
       "      <td>US</td>\n",
       "      <td>1501684093</td>\n",
       "      <td>USD</td>\n",
       "      <td>USD</td>\n",
       "      <td>1504976459</td>\n",
       "      <td>1.000000</td>\n",
       "      <td>1000.0</td>\n",
       "      <td>928751314</td>\n",
       "      <td>1502384459</td>\n",
       "      <td>{\"id\":2400549,\"name\":\"Euless\",\"slug\":\"euless-t...</td>\n",
       "      <td>1950.0</td>\n",
       "      <td>successful</td>\n",
       "      <td>1504976459</td>\n",
       "      <td>1.000000</td>\n",
       "      <td>1950.000000</td>\n",
       "    </tr>\n",
       "    <tr>\n",
       "      <th>2</th>\n",
       "      <td>271</td>\n",
       "      <td>{\"id\":43,\"name\":\"Rock\",\"slug\":\"music/rock\",\"po...</td>\n",
       "      <td>22404</td>\n",
       "      <td>US</td>\n",
       "      <td>1348987533</td>\n",
       "      <td>USD</td>\n",
       "      <td>USD</td>\n",
       "      <td>1371013395</td>\n",
       "      <td>1.000000</td>\n",
       "      <td>15000.0</td>\n",
       "      <td>928014092</td>\n",
       "      <td>1368421395</td>\n",
       "      <td>{\"id\":2423474,\"name\":\"Hollywood\",\"slug\":\"holly...</td>\n",
       "      <td>22404.0</td>\n",
       "      <td>successful</td>\n",
       "      <td>1371013395</td>\n",
       "      <td>1.000000</td>\n",
       "      <td>22404.000000</td>\n",
       "    </tr>\n",
       "    <tr>\n",
       "      <th>3</th>\n",
       "      <td>3</td>\n",
       "      <td>{\"id\":273,\"name\":\"Playing Cards\",\"slug\":\"games...</td>\n",
       "      <td>165</td>\n",
       "      <td>GB</td>\n",
       "      <td>1483780271</td>\n",
       "      <td>GBP</td>\n",
       "      <td>USD</td>\n",
       "      <td>1489425776</td>\n",
       "      <td>1.308394</td>\n",
       "      <td>10000.0</td>\n",
       "      <td>596091328</td>\n",
       "      <td>1484245376</td>\n",
       "      <td>{\"id\":475457,\"name\":\"Kaunas\",\"slug\":\"kaunas-ka...</td>\n",
       "      <td>136.0</td>\n",
       "      <td>failed</td>\n",
       "      <td>1489425776</td>\n",
       "      <td>1.216066</td>\n",
       "      <td>165.384934</td>\n",
       "    </tr>\n",
       "    <tr>\n",
       "      <th>4</th>\n",
       "      <td>3</td>\n",
       "      <td>{\"id\":48,\"name\":\"Nonfiction\",\"slug\":\"publishin...</td>\n",
       "      <td>2820</td>\n",
       "      <td>US</td>\n",
       "      <td>1354817071</td>\n",
       "      <td>USD</td>\n",
       "      <td>USD</td>\n",
       "      <td>1357763527</td>\n",
       "      <td>1.000000</td>\n",
       "      <td>2800.0</td>\n",
       "      <td>998516049</td>\n",
       "      <td>1355171527</td>\n",
       "      <td>{\"id\":2507703,\"name\":\"Traverse City\",\"slug\":\"t...</td>\n",
       "      <td>2820.0</td>\n",
       "      <td>successful</td>\n",
       "      <td>1357763527</td>\n",
       "      <td>1.000000</td>\n",
       "      <td>2820.000000</td>\n",
       "    </tr>\n",
       "  </tbody>\n",
       "</table>\n",
       "</div>"
      ],
      "text/plain": [
       "   backers_count                                           category  \\\n",
       "0            315  {\"id\":266,\"name\":\"Footwear\",\"slug\":\"fashion/fo...   \n",
       "1             47  {\"id\":273,\"name\":\"Playing Cards\",\"slug\":\"games...   \n",
       "2            271  {\"id\":43,\"name\":\"Rock\",\"slug\":\"music/rock\",\"po...   \n",
       "3              3  {\"id\":273,\"name\":\"Playing Cards\",\"slug\":\"games...   \n",
       "4              3  {\"id\":48,\"name\":\"Nonfiction\",\"slug\":\"publishin...   \n",
       "\n",
       "   converted_pledged_amount country  created_at currency current_currency  \\\n",
       "0                     28645      US  1541459205      USD              USD   \n",
       "1                      1950      US  1501684093      USD              USD   \n",
       "2                     22404      US  1348987533      USD              USD   \n",
       "3                       165      GB  1483780271      GBP              USD   \n",
       "4                      2820      US  1354817071      USD              USD   \n",
       "\n",
       "     deadline   fx_rate     goal          id  launched_at  \\\n",
       "0  1552539775  1.000000  28000.0  2108505034   1548223375   \n",
       "1  1504976459  1.000000   1000.0   928751314   1502384459   \n",
       "2  1371013395  1.000000  15000.0   928014092   1368421395   \n",
       "3  1489425776  1.308394  10000.0   596091328   1484245376   \n",
       "4  1357763527  1.000000   2800.0   998516049   1355171527   \n",
       "\n",
       "                                            location  pledged       state  \\\n",
       "0  {\"id\":2462429,\"name\":\"Novato\",\"slug\":\"novato-c...  28645.0        live   \n",
       "1  {\"id\":2400549,\"name\":\"Euless\",\"slug\":\"euless-t...   1950.0  successful   \n",
       "2  {\"id\":2423474,\"name\":\"Hollywood\",\"slug\":\"holly...  22404.0  successful   \n",
       "3  {\"id\":475457,\"name\":\"Kaunas\",\"slug\":\"kaunas-ka...    136.0      failed   \n",
       "4  {\"id\":2507703,\"name\":\"Traverse City\",\"slug\":\"t...   2820.0  successful   \n",
       "\n",
       "   state_changed_at  static_usd_rate   usd_pledged  \n",
       "0        1548223375         1.000000  28645.000000  \n",
       "1        1504976459         1.000000   1950.000000  \n",
       "2        1371013395         1.000000  22404.000000  \n",
       "3        1489425776         1.216066    165.384934  \n",
       "4        1357763527         1.000000   2820.000000  "
      ]
     },
     "execution_count": 6,
     "metadata": {},
     "output_type": "execute_result"
    }
   ],
   "source": [
    "# dropping columns\n",
    "df = df.drop([\"blurb\", \"creator\", \"slug\", \"name\", \"photo\", \"currency_symbol\", \"currency_trailing_code\", \"friends\", \"permissions\", \"disable_communication\", \"is_backing\", \"is_starred\",\"urls\", \"source_url\", \"profile\", \"usd_type\", \"spotlight\", \"staff_pick\",\"is_starrable\"], axis = 1)\n",
    "df.head()"
   ]
  },
  {
   "cell_type": "markdown",
   "id": "76c7f32f",
   "metadata": {},
   "source": [
    "Extract field and subfield ids from `category` (id and parent_id):"
   ]
  },
  {
   "cell_type": "code",
   "execution_count": 7,
   "id": "81d6d6ff",
   "metadata": {},
   "outputs": [],
   "source": [
    "import ast\n",
    "df.category =[ ast.literal_eval(x) for x in df.iloc[:,df.columns.tolist().index(\"category\")]]"
   ]
  },
  {
   "cell_type": "code",
   "execution_count": 8,
   "id": "4a660528",
   "metadata": {},
   "outputs": [
    {
     "data": {
      "text/plain": [
       "9041"
      ]
     },
     "execution_count": 8,
     "metadata": {},
     "output_type": "execute_result"
    }
   ],
   "source": [
    "# checking which rows do not contain \"parent_id\" inside category dictionary\n",
    "cat_list_parent_id = np.array([\"parent_id\" not in df.category.iloc[x].keys() for x in range(0,len(df.category))])\n",
    "cat_list_parent_id.sum()"
   ]
  },
  {
   "cell_type": "code",
   "execution_count": 9,
   "id": "f6f65f07",
   "metadata": {},
   "outputs": [
    {
     "data": {
      "text/html": [
       "<div>\n",
       "<style scoped>\n",
       "    .dataframe tbody tr th:only-of-type {\n",
       "        vertical-align: middle;\n",
       "    }\n",
       "\n",
       "    .dataframe tbody tr th {\n",
       "        vertical-align: top;\n",
       "    }\n",
       "\n",
       "    .dataframe thead th {\n",
       "        text-align: right;\n",
       "    }\n",
       "</style>\n",
       "<table border=\"1\" class=\"dataframe\">\n",
       "  <thead>\n",
       "    <tr style=\"text-align: right;\">\n",
       "      <th></th>\n",
       "      <th>backers_count</th>\n",
       "      <th>category</th>\n",
       "      <th>converted_pledged_amount</th>\n",
       "      <th>country</th>\n",
       "      <th>created_at</th>\n",
       "      <th>currency</th>\n",
       "      <th>current_currency</th>\n",
       "      <th>deadline</th>\n",
       "      <th>fx_rate</th>\n",
       "      <th>goal</th>\n",
       "      <th>id</th>\n",
       "      <th>launched_at</th>\n",
       "      <th>location</th>\n",
       "      <th>pledged</th>\n",
       "      <th>state</th>\n",
       "      <th>state_changed_at</th>\n",
       "      <th>static_usd_rate</th>\n",
       "      <th>usd_pledged</th>\n",
       "    </tr>\n",
       "  </thead>\n",
       "  <tbody>\n",
       "    <tr>\n",
       "      <th>7</th>\n",
       "      <td>33</td>\n",
       "      <td>{'id': 14, 'name': 'Music', 'slug': 'music', '...</td>\n",
       "      <td>660</td>\n",
       "      <td>US</td>\n",
       "      <td>1546965483</td>\n",
       "      <td>USD</td>\n",
       "      <td>USD</td>\n",
       "      <td>1550067305</td>\n",
       "      <td>1.000000</td>\n",
       "      <td>400.0</td>\n",
       "      <td>1481360049</td>\n",
       "      <td>1547475305</td>\n",
       "      <td>{\"id\":2430903,\"name\":\"Kaysville\",\"slug\":\"kaysv...</td>\n",
       "      <td>660.0</td>\n",
       "      <td>successful</td>\n",
       "      <td>1550067307</td>\n",
       "      <td>1.000000</td>\n",
       "      <td>660.000000</td>\n",
       "    </tr>\n",
       "    <tr>\n",
       "      <th>25</th>\n",
       "      <td>74</td>\n",
       "      <td>{'id': 15, 'name': 'Photography', 'slug': 'pho...</td>\n",
       "      <td>2808</td>\n",
       "      <td>GB</td>\n",
       "      <td>1542202969</td>\n",
       "      <td>GBP</td>\n",
       "      <td>USD</td>\n",
       "      <td>1544200381</td>\n",
       "      <td>1.308394</td>\n",
       "      <td>2000.0</td>\n",
       "      <td>865110410</td>\n",
       "      <td>1542385981</td>\n",
       "      <td>{\"id\":12056,\"name\":\"Bath\",\"slug\":\"bath-gb\",\"sh...</td>\n",
       "      <td>2199.0</td>\n",
       "      <td>successful</td>\n",
       "      <td>1544200381</td>\n",
       "      <td>1.301163</td>\n",
       "      <td>2861.258251</td>\n",
       "    </tr>\n",
       "    <tr>\n",
       "      <th>27</th>\n",
       "      <td>41</td>\n",
       "      <td>{'id': 9, 'name': 'Fashion', 'slug': 'fashion'...</td>\n",
       "      <td>21161</td>\n",
       "      <td>GB</td>\n",
       "      <td>1551345787</td>\n",
       "      <td>GBP</td>\n",
       "      <td>CAD</td>\n",
       "      <td>1554490790</td>\n",
       "      <td>1.748586</td>\n",
       "      <td>20000.0</td>\n",
       "      <td>1889386358</td>\n",
       "      <td>1551898790</td>\n",
       "      <td>{\"id\":40611,\"name\":\"Winchester\",\"slug\":\"winche...</td>\n",
       "      <td>12102.0</td>\n",
       "      <td>live</td>\n",
       "      <td>1551898791</td>\n",
       "      <td>1.315996</td>\n",
       "      <td>15926.177904</td>\n",
       "    </tr>\n",
       "  </tbody>\n",
       "</table>\n",
       "</div>"
      ],
      "text/plain": [
       "    backers_count                                           category  \\\n",
       "7              33  {'id': 14, 'name': 'Music', 'slug': 'music', '...   \n",
       "25             74  {'id': 15, 'name': 'Photography', 'slug': 'pho...   \n",
       "27             41  {'id': 9, 'name': 'Fashion', 'slug': 'fashion'...   \n",
       "\n",
       "    converted_pledged_amount country  created_at currency current_currency  \\\n",
       "7                        660      US  1546965483      USD              USD   \n",
       "25                      2808      GB  1542202969      GBP              USD   \n",
       "27                     21161      GB  1551345787      GBP              CAD   \n",
       "\n",
       "      deadline   fx_rate     goal          id  launched_at  \\\n",
       "7   1550067305  1.000000    400.0  1481360049   1547475305   \n",
       "25  1544200381  1.308394   2000.0   865110410   1542385981   \n",
       "27  1554490790  1.748586  20000.0  1889386358   1551898790   \n",
       "\n",
       "                                             location  pledged       state  \\\n",
       "7   {\"id\":2430903,\"name\":\"Kaysville\",\"slug\":\"kaysv...    660.0  successful   \n",
       "25  {\"id\":12056,\"name\":\"Bath\",\"slug\":\"bath-gb\",\"sh...   2199.0  successful   \n",
       "27  {\"id\":40611,\"name\":\"Winchester\",\"slug\":\"winche...  12102.0        live   \n",
       "\n",
       "    state_changed_at  static_usd_rate   usd_pledged  \n",
       "7         1550067307         1.000000    660.000000  \n",
       "25        1544200381         1.301163   2861.258251  \n",
       "27        1551898791         1.315996  15926.177904  "
      ]
     },
     "execution_count": 9,
     "metadata": {},
     "output_type": "execute_result"
    }
   ],
   "source": [
    "df[cat_list_parent_id].iloc[0:3]"
   ]
  },
  {
   "cell_type": "code",
   "execution_count": 10,
   "id": "6a162355",
   "metadata": {},
   "outputs": [
    {
     "data": {
      "text/plain": [
       "{'id': 266,\n",
       " 'name': 'Footwear',\n",
       " 'slug': 'fashion/footwear',\n",
       " 'position': 5,\n",
       " 'parent_id': 9,\n",
       " 'color': 16752598,\n",
       " 'urls': {'web': {'discover': 'http://www.kickstarter.com/discover/categories/fashion/footwear'}}}"
      ]
     },
     "execution_count": 10,
     "metadata": {},
     "output_type": "execute_result"
    }
   ],
   "source": [
    "df.category.iloc[0]"
   ]
  },
  {
   "cell_type": "markdown",
   "id": "cfacdf94",
   "metadata": {},
   "source": [
    "The `id` column represents each subcategory. `parent_id` represents each parent category, since the values for `id` start after `parent_id` values, we will use `id` to seperate each project into categories.\n",
    "\n",
    "e `id` column represents each subcategory. `parent_id` represents each parent category, since the values for `id` start after `parent_id` values, we will use `id` to seperate each project into categories.\n",
    "\n",
    "To projects without proper subcategorisation the `parent_id` is assigned. In addition `slug`is added for increased readability."
   ]
  },
  {
   "cell_type": "code",
   "execution_count": 11,
   "id": "4605c7c6",
   "metadata": {},
   "outputs": [],
   "source": [
    "df[\"cat_id\"] = [df.category.iloc[x][\"id\"] for x in range(0,len(df.category))]\n",
    "df[\"slug\"] = [df.category.iloc[x][\"slug\"] for x in range(0,len(df.category))]\n",
    "categories = df.pop(\"category\")"
   ]
  },
  {
   "cell_type": "code",
   "execution_count": 12,
   "id": "50d2282a",
   "metadata": {},
   "outputs": [
    {
     "name": "stdout",
     "output_type": "stream",
     "text": [
      "(209222, 19)\n"
     ]
    }
   ],
   "source": [
    "df.head(3)\n",
    "print(df.shape)"
   ]
  },
  {
   "cell_type": "code",
   "execution_count": 13,
   "id": "a904a314",
   "metadata": {},
   "outputs": [
    {
     "name": "stdout",
     "output_type": "stream",
     "text": [
      "pledged * static_usd_rate == usd_pledged\n",
      "True     190548\n",
      "False     18674\n",
      "dtype: int64\n",
      "pledged * fx_rate == usd_pledged\n",
      "True     153959\n",
      "False     55263\n",
      "dtype: int64\n",
      "converted_pledged_amount == usd_pledged\n",
      "True     140490\n",
      "False     68732\n",
      "dtype: int64\n",
      "pledged * static_usd_rate == converted_pledged_amount\n",
      "True     140490\n",
      "False     68732\n",
      "dtype: int64\n",
      "pledged * fx_rate == converted_pledged_amount\n",
      "True     140473\n",
      "False     68749\n",
      "dtype: int64\n"
     ]
    }
   ],
   "source": [
    "# check if currency - USD conversion with fx_rate and static_usd_rate matches usd_pledged value\n",
    "print(\"pledged * static_usd_rate == usd_pledged\")\n",
    "print(df.eval(\"pledged * static_usd_rate == usd_pledged\").value_counts())\n",
    "print(\"pledged * fx_rate == usd_pledged\")\n",
    "print(df.eval(\"pledged * fx_rate == usd_pledged\").value_counts())\n",
    "print(\"converted_pledged_amount == usd_pledged\")\n",
    "print(df.eval(\"converted_pledged_amount == usd_pledged\").value_counts())\n",
    "print(\"pledged * static_usd_rate == converted_pledged_amount\")\n",
    "print(df.eval(\"pledged * static_usd_rate == converted_pledged_amount\").value_counts())\n",
    "print(\"pledged * fx_rate == converted_pledged_amount\")\n",
    "print(df.eval(\"pledged * fx_rate == converted_pledged_amount\").value_counts())"
   ]
  },
  {
   "cell_type": "code",
   "execution_count": 14,
   "id": "aecc9153",
   "metadata": {},
   "outputs": [
    {
     "name": "stdout",
     "output_type": "stream",
     "text": [
      "False    190860\n",
      "True      18362\n",
      "dtype: int64\n"
     ]
    }
   ],
   "source": [
    "print(df.eval(\"converted_pledged_amount == pledged + usd_pledged\").value_counts())"
   ]
  },
  {
   "cell_type": "markdown",
   "id": "eb88887f",
   "metadata": {},
   "source": [
    "The values in `usd_pledged` do not match with the conversion of `pledged` using `fx_rate` or `static_usd_rate`. \n",
    "\n",
    "We decided to take the max value for these columns as the correct amount."
   ]
  },
  {
   "cell_type": "code",
   "execution_count": 15,
   "id": "70b2a8f9",
   "metadata": {},
   "outputs": [],
   "source": [
    "# checking whether pledged, usd_pledged or converted_pledged_amount has the highest values\n",
    "df[\"max_pledged\"] = [max(df.pledged.iloc[x], \n",
    "df.usd_pledged.iloc[x], \n",
    "df.converted_pledged_amount.iloc[x]) for x in range(0,len(df))]\n",
    "df = df.drop([\"usd_pledged\", \"pledged\", \"converted_pledged_amount\"], axis = 1)"
   ]
  },
  {
   "cell_type": "code",
   "execution_count": 16,
   "id": "b0b00080",
   "metadata": {},
   "outputs": [],
   "source": [
    "# in addition all other currency info can also be dropped\n",
    "df = df.drop([\"static_usd_rate\", \"fx_rate\", \"currency\", \"current_currency\"], axis = 1)"
   ]
  },
  {
   "cell_type": "code",
   "execution_count": 17,
   "id": "ee189749",
   "metadata": {},
   "outputs": [
    {
     "name": "stdout",
     "output_type": "stream",
     "text": [
      "(209222, 13)\n"
     ]
    }
   ],
   "source": [
    "# set checkpoint\n",
    "df2 = df.copy()\n",
    "df.head(2)\n",
    "print(df.shape)"
   ]
  },
  {
   "cell_type": "markdown",
   "id": "85bbfa95",
   "metadata": {},
   "source": [
    "Now we will check whether `live` projects have met their goal and can be considered as `succesful`\n"
   ]
  },
  {
   "cell_type": "code",
   "execution_count": 18,
   "id": "7731ef26",
   "metadata": {},
   "outputs": [
    {
     "data": {
      "text/plain": [
       "Series([], Name: state, dtype: object)"
      ]
     },
     "execution_count": 18,
     "metadata": {},
     "output_type": "execute_result"
    }
   ],
   "source": [
    "df.loc[df['max_pledged'] >= df.goal, 'state'] = \"successful\"\n",
    "#check whether there are live:successsful projects left\n",
    "df.query(\"state == 'live' and max_pledged >= goal\").state"
   ]
  },
  {
   "cell_type": "code",
   "execution_count": 19,
   "id": "744d0be3",
   "metadata": {},
   "outputs": [
    {
     "data": {
      "text/plain": [
       "(209222, 13)"
      ]
     },
     "execution_count": 19,
     "metadata": {},
     "output_type": "execute_result"
    }
   ],
   "source": [
    "df = df2.copy()\n",
    "df.shape"
   ]
  },
  {
   "cell_type": "markdown",
   "id": "7c4311d2",
   "metadata": {},
   "source": [
    "Now we will drop all entries, which are not `successful` or `failed`\n"
   ]
  },
  {
   "cell_type": "code",
   "execution_count": 20,
   "id": "ffca9efc",
   "metadata": {},
   "outputs": [
    {
     "data": {
      "text/plain": [
       "successful    117465\n",
       "failed         75199\n",
       "canceled        8624\n",
       "live            7311\n",
       "suspended        623\n",
       "Name: state, dtype: int64"
      ]
     },
     "execution_count": 20,
     "metadata": {},
     "output_type": "execute_result"
    }
   ],
   "source": [
    "df.state.value_counts()"
   ]
  },
  {
   "cell_type": "code",
   "execution_count": 21,
   "id": "2179b527",
   "metadata": {},
   "outputs": [
    {
     "data": {
      "text/plain": [
       "array(['successful', 'failed'], dtype=object)"
      ]
     },
     "execution_count": 21,
     "metadata": {},
     "output_type": "execute_result"
    }
   ],
   "source": [
    "df = df[df.state != \"canceled\"]\n",
    "df = df[df.state != \"suspended\"]\n",
    "df = df[df.state != \"live\"]\n",
    "df.state.unique()"
   ]
  },
  {
   "cell_type": "code",
   "execution_count": 22,
   "id": "f763da0c",
   "metadata": {},
   "outputs": [
    {
     "data": {
      "text/plain": [
       "(192664, 13)"
      ]
     },
     "execution_count": 22,
     "metadata": {},
     "output_type": "execute_result"
    }
   ],
   "source": [
    "df.shape"
   ]
  },
  {
   "cell_type": "markdown",
   "id": "04a764cf",
   "metadata": {},
   "source": [
    "Sort `countries` into categories US, NA, SEA, GB, ANZ, JP, EU:"
   ]
  },
  {
   "cell_type": "code",
   "execution_count": 23,
   "id": "c8787f82",
   "metadata": {},
   "outputs": [
    {
     "data": {
      "text/plain": [
       "array(['US', 'GB', 'FR', 'AU', 'NZ', 'ES', 'IT', 'NO', 'NL', 'CA', 'SG',\n",
       "       'MX', 'SE', 'IE', 'DE', 'BE', 'HK', 'AT', 'JP', 'DK', 'CH', 'LU'],\n",
       "      dtype=object)"
      ]
     },
     "execution_count": 23,
     "metadata": {},
     "output_type": "execute_result"
    }
   ],
   "source": [
    "pd.unique(df.country)"
   ]
  },
  {
   "cell_type": "code",
   "execution_count": 24,
   "id": "f6ddde0d",
   "metadata": {},
   "outputs": [],
   "source": [
    "df.country.replace({'HK':\"SEA\", 'NL':\"EU\", 'AU':\"ANZ\", 'DE':\"EU\", \"CA\":\"NA\", 'SE':\"EU\",\n",
    "                    'BE':\"EU\", 'MX':\"NA\", 'CH':\"EU\", 'SG':\"SEA\", 'FR':\"EU\", 'IT':\"EU\",\n",
    "                    'DK':\"EU\", 'LU':\"EU\", 'NO':\"EU\", 'ES':\"EU\", 'IE':\"EU\", 'NZ':\"ANZ\", \n",
    "                    'AT':\"EU\"}, inplace = True)"
   ]
  },
  {
   "cell_type": "markdown",
   "id": "7a455576",
   "metadata": {},
   "source": [
    "Turn entries of `created_at`, `launched`, `deadline` into datetime:"
   ]
  },
  {
   "cell_type": "code",
   "execution_count": 25,
   "id": "8805db93",
   "metadata": {},
   "outputs": [
    {
     "data": {
      "text/html": [
       "<div>\n",
       "<style scoped>\n",
       "    .dataframe tbody tr th:only-of-type {\n",
       "        vertical-align: middle;\n",
       "    }\n",
       "\n",
       "    .dataframe tbody tr th {\n",
       "        vertical-align: top;\n",
       "    }\n",
       "\n",
       "    .dataframe thead th {\n",
       "        text-align: right;\n",
       "    }\n",
       "</style>\n",
       "<table border=\"1\" class=\"dataframe\">\n",
       "  <thead>\n",
       "    <tr style=\"text-align: right;\">\n",
       "      <th></th>\n",
       "      <th>backers_count</th>\n",
       "      <th>country</th>\n",
       "      <th>created_at</th>\n",
       "      <th>deadline</th>\n",
       "      <th>goal</th>\n",
       "      <th>id</th>\n",
       "      <th>launched_at</th>\n",
       "      <th>location</th>\n",
       "      <th>state</th>\n",
       "      <th>state_changed_at</th>\n",
       "      <th>cat_id</th>\n",
       "      <th>slug</th>\n",
       "      <th>max_pledged</th>\n",
       "    </tr>\n",
       "  </thead>\n",
       "  <tbody>\n",
       "    <tr>\n",
       "      <th>1</th>\n",
       "      <td>47</td>\n",
       "      <td>US</td>\n",
       "      <td>2017-08-02 14:28:13</td>\n",
       "      <td>2017-09-09 17:00:59</td>\n",
       "      <td>1000.0</td>\n",
       "      <td>928751314</td>\n",
       "      <td>2017-08-10 17:00:59</td>\n",
       "      <td>{\"id\":2400549,\"name\":\"Euless\",\"slug\":\"euless-t...</td>\n",
       "      <td>successful</td>\n",
       "      <td>2017-09-09 17:00:59</td>\n",
       "      <td>273</td>\n",
       "      <td>games/playing cards</td>\n",
       "      <td>1950.000000</td>\n",
       "    </tr>\n",
       "    <tr>\n",
       "      <th>2</th>\n",
       "      <td>271</td>\n",
       "      <td>US</td>\n",
       "      <td>2012-09-30 06:45:33</td>\n",
       "      <td>2013-06-12 05:03:15</td>\n",
       "      <td>15000.0</td>\n",
       "      <td>928014092</td>\n",
       "      <td>2013-05-13 05:03:15</td>\n",
       "      <td>{\"id\":2423474,\"name\":\"Hollywood\",\"slug\":\"holly...</td>\n",
       "      <td>successful</td>\n",
       "      <td>2013-06-12 05:03:15</td>\n",
       "      <td>43</td>\n",
       "      <td>music/rock</td>\n",
       "      <td>22404.000000</td>\n",
       "    </tr>\n",
       "    <tr>\n",
       "      <th>3</th>\n",
       "      <td>3</td>\n",
       "      <td>GB</td>\n",
       "      <td>2017-01-07 09:11:11</td>\n",
       "      <td>2017-03-13 17:22:56</td>\n",
       "      <td>10000.0</td>\n",
       "      <td>596091328</td>\n",
       "      <td>2017-01-12 18:22:56</td>\n",
       "      <td>{\"id\":475457,\"name\":\"Kaunas\",\"slug\":\"kaunas-ka...</td>\n",
       "      <td>failed</td>\n",
       "      <td>2017-03-13 17:22:56</td>\n",
       "      <td>273</td>\n",
       "      <td>games/playing cards</td>\n",
       "      <td>165.384934</td>\n",
       "    </tr>\n",
       "    <tr>\n",
       "      <th>4</th>\n",
       "      <td>3</td>\n",
       "      <td>US</td>\n",
       "      <td>2012-12-06 18:04:31</td>\n",
       "      <td>2013-01-09 20:32:07</td>\n",
       "      <td>2800.0</td>\n",
       "      <td>998516049</td>\n",
       "      <td>2012-12-10 20:32:07</td>\n",
       "      <td>{\"id\":2507703,\"name\":\"Traverse City\",\"slug\":\"t...</td>\n",
       "      <td>successful</td>\n",
       "      <td>2013-01-09 20:32:07</td>\n",
       "      <td>48</td>\n",
       "      <td>publishing/nonfiction</td>\n",
       "      <td>2820.000000</td>\n",
       "    </tr>\n",
       "    <tr>\n",
       "      <th>5</th>\n",
       "      <td>35</td>\n",
       "      <td>US</td>\n",
       "      <td>2014-10-24 17:35:50</td>\n",
       "      <td>2015-05-02 02:25:46</td>\n",
       "      <td>3500.0</td>\n",
       "      <td>1224600291</td>\n",
       "      <td>2015-04-02 02:25:46</td>\n",
       "      <td>{\"id\":2354877,\"name\":\"Annapolis\",\"slug\":\"annap...</td>\n",
       "      <td>successful</td>\n",
       "      <td>2015-05-02 02:25:46</td>\n",
       "      <td>36</td>\n",
       "      <td>music/classical music</td>\n",
       "      <td>3725.000000</td>\n",
       "    </tr>\n",
       "  </tbody>\n",
       "</table>\n",
       "</div>"
      ],
      "text/plain": [
       "   backers_count country          created_at            deadline     goal  \\\n",
       "1             47      US 2017-08-02 14:28:13 2017-09-09 17:00:59   1000.0   \n",
       "2            271      US 2012-09-30 06:45:33 2013-06-12 05:03:15  15000.0   \n",
       "3              3      GB 2017-01-07 09:11:11 2017-03-13 17:22:56  10000.0   \n",
       "4              3      US 2012-12-06 18:04:31 2013-01-09 20:32:07   2800.0   \n",
       "5             35      US 2014-10-24 17:35:50 2015-05-02 02:25:46   3500.0   \n",
       "\n",
       "           id         launched_at  \\\n",
       "1   928751314 2017-08-10 17:00:59   \n",
       "2   928014092 2013-05-13 05:03:15   \n",
       "3   596091328 2017-01-12 18:22:56   \n",
       "4   998516049 2012-12-10 20:32:07   \n",
       "5  1224600291 2015-04-02 02:25:46   \n",
       "\n",
       "                                            location       state  \\\n",
       "1  {\"id\":2400549,\"name\":\"Euless\",\"slug\":\"euless-t...  successful   \n",
       "2  {\"id\":2423474,\"name\":\"Hollywood\",\"slug\":\"holly...  successful   \n",
       "3  {\"id\":475457,\"name\":\"Kaunas\",\"slug\":\"kaunas-ka...      failed   \n",
       "4  {\"id\":2507703,\"name\":\"Traverse City\",\"slug\":\"t...  successful   \n",
       "5  {\"id\":2354877,\"name\":\"Annapolis\",\"slug\":\"annap...  successful   \n",
       "\n",
       "     state_changed_at  cat_id                   slug   max_pledged  \n",
       "1 2017-09-09 17:00:59     273    games/playing cards   1950.000000  \n",
       "2 2013-06-12 05:03:15      43             music/rock  22404.000000  \n",
       "3 2017-03-13 17:22:56     273    games/playing cards    165.384934  \n",
       "4 2013-01-09 20:32:07      48  publishing/nonfiction   2820.000000  \n",
       "5 2015-05-02 02:25:46      36  music/classical music   3725.000000  "
      ]
     },
     "execution_count": 25,
     "metadata": {},
     "output_type": "execute_result"
    }
   ],
   "source": [
    "df.created_at = pd.to_datetime(df.iloc[:,df.columns.tolist().index(\"created_at\")],unit='s')\n",
    "df.launched_at = pd.to_datetime(df.iloc[:,df.columns.tolist().index(\"launched_at\")],unit='s')\n",
    "df.deadline = pd.to_datetime(df.iloc[:,df.columns.tolist().index(\"deadline\")],unit='s')\n",
    "df.state_changed_at = pd.to_datetime(df.iloc[:,df.columns.tolist().index(\"state_changed_at\")],unit='s')\n",
    "df.head()"
   ]
  },
  {
   "cell_type": "code",
   "execution_count": 26,
   "id": "531c5a79",
   "metadata": {},
   "outputs": [
    {
     "data": {
      "text/plain": [
       "(192664, 13)"
      ]
     },
     "execution_count": 26,
     "metadata": {},
     "output_type": "execute_result"
    }
   ],
   "source": [
    "df.shape"
   ]
  },
  {
   "cell_type": "code",
   "execution_count": 27,
   "id": "fcb526ec",
   "metadata": {},
   "outputs": [],
   "source": [
    "# set checkpoint\n",
    "df2 = df.copy()"
   ]
  },
  {
   "cell_type": "markdown",
   "id": "23cfec71",
   "metadata": {},
   "source": [
    "Check for `id` copies and remove if they refer to the same data point: multiplicities of entries:"
   ]
  },
  {
   "cell_type": "code",
   "execution_count": 28,
   "id": "0187f1b7",
   "metadata": {},
   "outputs": [
    {
     "name": "stdout",
     "output_type": "stream",
     "text": [
      "2 1\n"
     ]
    }
   ],
   "source": [
    "print(*df.id.value_counts().unique())"
   ]
  },
  {
   "cell_type": "markdown",
   "id": "217a250a",
   "metadata": {},
   "source": [
    "List of multiply used `id` entries:"
   ]
  },
  {
   "cell_type": "code",
   "execution_count": 29,
   "id": "d6f025aa",
   "metadata": {},
   "outputs": [
    {
     "data": {
      "text/plain": [
       "23685"
      ]
     },
     "execution_count": 29,
     "metadata": {},
     "output_type": "execute_result"
    }
   ],
   "source": [
    "dic = df.id.value_counts()\n",
    "multiples = np.array([key for key in dic.keys() if dic[key] > 1])\n",
    "len(multiples)"
   ]
  },
  {
   "cell_type": "markdown",
   "id": "3c46c923",
   "metadata": {},
   "source": [
    "They don't differ in any features, except one."
   ]
  },
  {
   "cell_type": "code",
   "execution_count": 30,
   "id": "2a5abe6f",
   "metadata": {
    "tags": []
   },
   "outputs": [],
   "source": [
    "#for id in multiples:\n",
    "#    print((id, [c for c in df.columns if df.query('id == '+str(id))[c].nunique() != 1]))\n"
   ]
  },
  {
   "cell_type": "markdown",
   "id": "90de352c",
   "metadata": {},
   "source": [
    "In that case, only one of the rows with the same `id` entry need to be kept."
   ]
  },
  {
   "cell_type": "code",
   "execution_count": 31,
   "id": "a02dbb9a",
   "metadata": {},
   "outputs": [],
   "source": [
    "df.drop_duplicates(subset = \"id\", keep = \"first\", inplace = True)"
   ]
  },
  {
   "cell_type": "code",
   "execution_count": 32,
   "id": "0197e3ea",
   "metadata": {},
   "outputs": [
    {
     "data": {
      "text/plain": [
       "(168979, 13)"
      ]
     },
     "execution_count": 32,
     "metadata": {},
     "output_type": "execute_result"
    }
   ],
   "source": [
    "df.shape"
   ]
  },
  {
   "cell_type": "markdown",
   "id": "ffd61263",
   "metadata": {},
   "source": [
    "Now we will take a look in to `location` and try to extract some meaningful information.\n",
    "\n",
    "Fist we will drop NaN rows and then convert the `json-str` into a dictonary to extract keys and values."
   ]
  },
  {
   "cell_type": "code",
   "execution_count": 33,
   "id": "b9aa084a",
   "metadata": {},
   "outputs": [
    {
     "data": {
      "text/plain": [
       "213"
      ]
     },
     "execution_count": 33,
     "metadata": {},
     "output_type": "execute_result"
    }
   ],
   "source": [
    "df.location.isnull().sum()"
   ]
  },
  {
   "cell_type": "code",
   "execution_count": 34,
   "id": "c9ea0495",
   "metadata": {},
   "outputs": [],
   "source": [
    "df.dropna(axis = 0, subset = [\"location\"], inplace = True)"
   ]
  },
  {
   "cell_type": "code",
   "execution_count": 35,
   "id": "e29f4f50",
   "metadata": {},
   "outputs": [],
   "source": [
    "df.location =[json.loads(x) for x in df.location]"
   ]
  },
  {
   "cell_type": "code",
   "execution_count": 36,
   "id": "c6bdcc7e",
   "metadata": {},
   "outputs": [],
   "source": [
    "df[\"location_type\"] = [df.location.iloc[x][\"type\"] for x in range(0,len(df.location))]\n",
    "df[\"location_city\"] = [df.location.iloc[x][\"short_name\"] for x in range(0,len(df.location))]\n",
    "df[\"location_state\"] = [df.location.iloc[x][\"state\"] for x in range(0,len(df.location))]"
   ]
  },
  {
   "cell_type": "code",
   "execution_count": 37,
   "id": "ed90ca8f",
   "metadata": {},
   "outputs": [
    {
     "data": {
      "text/plain": [
       "Town             156447\n",
       "County             6384\n",
       "Suburb             4295\n",
       "LocalAdmin          986\n",
       "Zip                 409\n",
       "Island              209\n",
       "Country              17\n",
       "Miscellaneous        15\n",
       "Estate                4\n",
       "Name: location_type, dtype: int64"
      ]
     },
     "execution_count": 37,
     "metadata": {},
     "output_type": "execute_result"
    }
   ],
   "source": [
    "df.location_type.value_counts()"
   ]
  },
  {
   "cell_type": "markdown",
   "id": "d71ee6a8",
   "metadata": {},
   "source": [
    "Remaining questions:\n",
    "- What to do with location? Extract cities and try to assign some score to each? To test this, extract a few big cities and check for correlation with target."
   ]
  },
  {
   "cell_type": "code",
   "execution_count": 38,
   "id": "554c9c12",
   "metadata": {},
   "outputs": [
    {
     "data": {
      "text/plain": [
       "(168766, 16)"
      ]
     },
     "execution_count": 38,
     "metadata": {},
     "output_type": "execute_result"
    }
   ],
   "source": [
    "df.shape"
   ]
  },
  {
   "cell_type": "markdown",
   "id": "b3e63cc4",
   "metadata": {},
   "source": [
    "## Break // CHRISTIAN :: Preparing the Data"
   ]
  },
  {
   "cell_type": "code",
   "execution_count": 39,
   "id": "83f81fd3",
   "metadata": {},
   "outputs": [],
   "source": [
    "# Import of relevant packages\n",
    "import numpy as np\n",
    "import pandas as pd\n",
    "import warnings\n",
    "import matplotlib.pyplot as plt\n",
    "import seaborn as sns\n",
    "\n",
    "from sklearn.pipeline import Pipeline\n",
    "from sklearn.compose import ColumnTransformer\n",
    "from sklearn.preprocessing import OneHotEncoder, StandardScaler\n",
    "from sklearn.impute import SimpleImputer\n",
    "from sklearn.model_selection import train_test_split\n",
    "from sklearn.model_selection import GridSearchCV, RandomizedSearchCV\n",
    "from sklearn.model_selection import cross_val_predict, cross_val_score, cross_validate\n",
    "from sklearn.metrics import roc_curve, confusion_matrix, accuracy_score, recall_score, precision_score\n",
    "\n",
    "from sklearn.linear_model import LogisticRegression\n",
    "\n",
    "# Set random seed \n",
    "RSEED = 42"
   ]
  },
  {
   "cell_type": "code",
   "execution_count": 40,
   "id": "61c394e9",
   "metadata": {},
   "outputs": [],
   "source": [
    "df.head();"
   ]
  },
  {
   "cell_type": "code",
   "execution_count": 41,
   "id": "82d01908",
   "metadata": {},
   "outputs": [
    {
     "name": "stdout",
     "output_type": "stream",
     "text": [
      "<class 'pandas.core.frame.DataFrame'>\n",
      "Int64Index: 168766 entries, 1 to 3791\n",
      "Data columns (total 16 columns):\n",
      " #   Column            Non-Null Count   Dtype         \n",
      "---  ------            --------------   -----         \n",
      " 0   backers_count     168766 non-null  int64         \n",
      " 1   country           168766 non-null  object        \n",
      " 2   created_at        168766 non-null  datetime64[ns]\n",
      " 3   deadline          168766 non-null  datetime64[ns]\n",
      " 4   goal              168766 non-null  float64       \n",
      " 5   id                168766 non-null  int64         \n",
      " 6   launched_at       168766 non-null  datetime64[ns]\n",
      " 7   location          168766 non-null  object        \n",
      " 8   state             168766 non-null  object        \n",
      " 9   state_changed_at  168766 non-null  datetime64[ns]\n",
      " 10  cat_id            168766 non-null  int64         \n",
      " 11  slug              168766 non-null  object        \n",
      " 12  max_pledged       168766 non-null  float64       \n",
      " 13  location_type     168766 non-null  object        \n",
      " 14  location_city     168766 non-null  object        \n",
      " 15  location_state    168721 non-null  object        \n",
      "dtypes: datetime64[ns](4), float64(2), int64(3), object(7)\n",
      "memory usage: 21.9+ MB\n"
     ]
    }
   ],
   "source": [
    "df.info()"
   ]
  },
  {
   "cell_type": "code",
   "execution_count": 42,
   "id": "a309b309",
   "metadata": {},
   "outputs": [],
   "source": [
    "df_cd = df.drop(['backers_count', 'state_changed_at', 'max_pledged', \"launched_at\", \"created_at\", \"deadline\"], axis = 1);"
   ]
  },
  {
   "cell_type": "code",
   "execution_count": 43,
   "id": "c9062181",
   "metadata": {},
   "outputs": [],
   "source": [
    "\n",
    "# Transform type objects to string\n",
    "\n",
    "df_cd['country'] = df_cd['country'].astype(str)\n",
    "df_cd['slug'] = df_cd['slug'].astype(str)\n",
    "df_cd['location'] = df_cd['location'].astype(str)\n",
    "df_cd['location_city'] = df_cd['location_city'].astype(str)\n",
    "df_cd['location_state'] = df_cd['location_state'].astype(str)"
   ]
  },
  {
   "cell_type": "code",
   "execution_count": 44,
   "id": "2c6caa52",
   "metadata": {},
   "outputs": [
    {
     "data": {
      "text/plain": [
       "['country', 'slug', 'location_type', 'location_city', 'location_state']"
      ]
     },
     "execution_count": 44,
     "metadata": {},
     "output_type": "execute_result"
    }
   ],
   "source": [
    "# Creating list for categorical predictors/features \n",
    "# (dates are also objects so if you have them in your data you would deal with them first)\n",
    "cat_features = list(df_cd.columns[df_cd.dtypes==object])\n",
    "cat_features.remove('state')\n",
    "cat_features.remove('location')\n",
    "cat_features"
   ]
  },
  {
   "cell_type": "code",
   "execution_count": 45,
   "id": "6607adee",
   "metadata": {},
   "outputs": [
    {
     "data": {
      "text/plain": [
       "['goal', 'id', 'cat_id']"
      ]
     },
     "execution_count": 45,
     "metadata": {},
     "output_type": "execute_result"
    }
   ],
   "source": [
    "# Creating list for numerical predictors/features\n",
    "# Since 'Survived' is our target variable we will exclude this feature from this list of numerical predictors \n",
    "num_features = list(df_cd.columns[df_cd.dtypes!=object])\n",
    "num_features"
   ]
  },
  {
   "cell_type": "code",
   "execution_count": 46,
   "id": "7d072a05",
   "metadata": {},
   "outputs": [
    {
     "data": {
      "text/plain": [
       "168766"
      ]
     },
     "execution_count": 46,
     "metadata": {},
     "output_type": "execute_result"
    }
   ],
   "source": [
    "sum(df_cd[\"state\"].value_counts())"
   ]
  },
  {
   "cell_type": "code",
   "execution_count": 47,
   "id": "e57c1946",
   "metadata": {},
   "outputs": [
    {
     "name": "stdout",
     "output_type": "stream",
     "text": [
      "In our cleaned data set are 94614 successful campaigns and 74152 failed campaigns. Hereby, the Success-Ratio is: 56.06 %\n"
     ]
    }
   ],
   "source": [
    "print(\"In our cleaned data set are\", df_cd.state.value_counts()[0], \"successful campaigns and\", df_cd.state.value_counts()[1],\"failed campaigns. Hereby, the Success-Ratio is:\", round((df_cd.state.value_counts()[0]/sum(df_cd[\"state\"].value_counts()))*100,2),\"%\" )"
   ]
  },
  {
   "cell_type": "code",
   "execution_count": 48,
   "id": "38386256",
   "metadata": {},
   "outputs": [],
   "source": [
    "#Somehow, I get an error here. Compare Stackoverflow => https://stackoverflow.com/questions/22470690/get-list-of-pandas-dataframe-columns-based-on-data-type\n",
    "\n",
    "#print(df_cd.columns.to_series().groupby(df_cd.dtypes).groups"
   ]
  },
  {
   "cell_type": "markdown",
   "id": "acb74ffa",
   "metadata": {},
   "source": [
    "## Train-Test-Split"
   ]
  },
  {
   "cell_type": "code",
   "execution_count": 49,
   "id": "5a712e96",
   "metadata": {},
   "outputs": [],
   "source": [
    "# Define predictors and target variable\n",
    "features = df_cd.drop('state', axis=1)\n",
    "target = df_cd['state']"
   ]
  },
  {
   "cell_type": "code",
   "execution_count": 50,
   "id": "832ebfa4",
   "metadata": {},
   "outputs": [],
   "source": [
    "X_train, X_test, y_train, y_test = train_test_split(features, target, test_size=0.2, random_state=RSEED)"
   ]
  },
  {
   "cell_type": "code",
   "execution_count": 51,
   "id": "769cb9b4",
   "metadata": {},
   "outputs": [
    {
     "name": "stdout",
     "output_type": "stream",
     "text": [
      "X_train shape: (135012, 9)\n",
      "X_test shape: (33754, 9)\n",
      "y_train shape: (135012,)\n",
      "y_test shape: (33754,)\n"
     ]
    }
   ],
   "source": [
    "print('X_train shape:', X_train.shape)\n",
    "print('X_test shape:', X_test.shape)\n",
    "print('y_train shape:', y_train.shape)\n",
    "print('y_test shape:', y_test.shape)"
   ]
  },
  {
   "cell_type": "markdown",
   "id": "0a8ecce5",
   "metadata": {},
   "source": [
    "## Data Preprocessing"
   ]
  },
  {
   "cell_type": "code",
   "execution_count": 52,
   "id": "d18d7b1e",
   "metadata": {},
   "outputs": [
    {
     "name": "stdout",
     "output_type": "stream",
     "text": [
      "29964 total features after one-hot encoding.\n"
     ]
    }
   ],
   "source": [
    "\n",
    "# TODO: One-hot encode the 'features_raw' data using pandas.get_dummies()\n",
    "features = pd.get_dummies(features)\n",
    "\n",
    "# TODO: Encode the 'income'/'target' data to numerical values\n",
    "target = target.apply(lambda x: 1 if x == 'successful' else 0)\n",
    "\n",
    "# Print the number of features after one-hot encoding\n",
    "encoded = list(features.columns)\n",
    "print (\"{} total features after one-hot encoding.\".format(len(encoded)))"
   ]
  },
  {
   "cell_type": "markdown",
   "id": "fe7aa5fc",
   "metadata": {},
   "source": [
    "## Shuffle and Split Data"
   ]
  },
  {
   "cell_type": "code",
   "execution_count": 53,
   "id": "e1f497bb",
   "metadata": {},
   "outputs": [
    {
     "name": "stdout",
     "output_type": "stream",
     "text": [
      "Training set has 135012 samples.\n",
      "Testing set has 33754 samples.\n"
     ]
    }
   ],
   "source": [
    "# Import train_test_split\n",
    "from sklearn.model_selection import train_test_split\n",
    "\n",
    "# Split the 'features' and 'income' data into training and testing sets\n",
    "X_train, X_test, y_train, y_test = train_test_split(features, target, test_size = 0.2, random_state = 0)\n",
    "\n",
    "# Show the results of the split\n",
    "print (\"Training set has {} samples.\".format(X_train.shape[0]))\n",
    "print (\"Testing set has {} samples.\".format(X_test.shape[0]))"
   ]
  },
  {
   "cell_type": "markdown",
   "id": "e88348fb",
   "metadata": {},
   "source": [
    "## Normalizing Numerical Features"
   ]
  },
  {
   "cell_type": "code",
   "execution_count": 54,
   "id": "ad70d4b6",
   "metadata": {},
   "outputs": [
    {
     "data": {
      "text/html": [
       "<div>\n",
       "<style scoped>\n",
       "    .dataframe tbody tr th:only-of-type {\n",
       "        vertical-align: middle;\n",
       "    }\n",
       "\n",
       "    .dataframe tbody tr th {\n",
       "        vertical-align: top;\n",
       "    }\n",
       "\n",
       "    .dataframe thead th {\n",
       "        text-align: right;\n",
       "    }\n",
       "</style>\n",
       "<table border=\"1\" class=\"dataframe\">\n",
       "  <thead>\n",
       "    <tr style=\"text-align: right;\">\n",
       "      <th></th>\n",
       "      <th>country</th>\n",
       "      <th>goal</th>\n",
       "      <th>id</th>\n",
       "      <th>location</th>\n",
       "      <th>state</th>\n",
       "      <th>cat_id</th>\n",
       "      <th>slug</th>\n",
       "      <th>location_type</th>\n",
       "      <th>location_city</th>\n",
       "      <th>location_state</th>\n",
       "    </tr>\n",
       "  </thead>\n",
       "  <tbody>\n",
       "    <tr>\n",
       "      <th>1</th>\n",
       "      <td>US</td>\n",
       "      <td>1000.0</td>\n",
       "      <td>928751314</td>\n",
       "      <td>{'id': 2400549, 'name': 'Euless', 'slug': 'eul...</td>\n",
       "      <td>successful</td>\n",
       "      <td>273</td>\n",
       "      <td>games/playing cards</td>\n",
       "      <td>Town</td>\n",
       "      <td>Euless, TX</td>\n",
       "      <td>TX</td>\n",
       "    </tr>\n",
       "  </tbody>\n",
       "</table>\n",
       "</div>"
      ],
      "text/plain": [
       "  country    goal         id  \\\n",
       "1      US  1000.0  928751314   \n",
       "\n",
       "                                            location       state  cat_id  \\\n",
       "1  {'id': 2400549, 'name': 'Euless', 'slug': 'eul...  successful     273   \n",
       "\n",
       "                  slug location_type location_city location_state  \n",
       "1  games/playing cards          Town    Euless, TX             TX  "
      ]
     },
     "execution_count": 54,
     "metadata": {},
     "output_type": "execute_result"
    }
   ],
   "source": [
    "df_cd.head(1)"
   ]
  },
  {
   "cell_type": "code",
   "execution_count": 55,
   "id": "3411ca43",
   "metadata": {},
   "outputs": [
    {
     "name": "stderr",
     "output_type": "stream",
     "text": [
      "<ipython-input-55-9bb63b59eee8>:7: SettingWithCopyWarning: \n",
      "A value is trying to be set on a copy of a slice from a DataFrame.\n",
      "Try using .loc[row_indexer,col_indexer] = value instead\n",
      "\n",
      "See the caveats in the documentation: https://pandas.pydata.org/pandas-docs/stable/user_guide/indexing.html#returning-a-view-versus-a-copy\n",
      "  X_train[numerical] = scaler.fit_transform(X_train[numerical])\n",
      "/Users/chrisdisc/neuefische/2nd_Project/Kickstarter-ML-Project/.venv/lib/python3.8/site-packages/pandas/core/indexing.py:966: SettingWithCopyWarning: \n",
      "A value is trying to be set on a copy of a slice from a DataFrame.\n",
      "Try using .loc[row_indexer,col_indexer] = value instead\n",
      "\n",
      "See the caveats in the documentation: https://pandas.pydata.org/pandas-docs/stable/user_guide/indexing.html#returning-a-view-versus-a-copy\n",
      "  self.obj[item] = s\n",
      "<ipython-input-55-9bb63b59eee8>:8: SettingWithCopyWarning: \n",
      "A value is trying to be set on a copy of a slice from a DataFrame.\n",
      "Try using .loc[row_indexer,col_indexer] = value instead\n",
      "\n",
      "See the caveats in the documentation: https://pandas.pydata.org/pandas-docs/stable/user_guide/indexing.html#returning-a-view-versus-a-copy\n",
      "  X_test[numerical] = scaler.transform(X_test[numerical])\n",
      "/Users/chrisdisc/neuefische/2nd_Project/Kickstarter-ML-Project/.venv/lib/python3.8/site-packages/pandas/core/indexing.py:966: SettingWithCopyWarning: \n",
      "A value is trying to be set on a copy of a slice from a DataFrame.\n",
      "Try using .loc[row_indexer,col_indexer] = value instead\n",
      "\n",
      "See the caveats in the documentation: https://pandas.pydata.org/pandas-docs/stable/user_guide/indexing.html#returning-a-view-versus-a-copy\n",
      "  self.obj[item] = s\n"
     ]
    },
    {
     "data": {
      "text/html": [
       "<div>\n",
       "<style scoped>\n",
       "    .dataframe tbody tr th:only-of-type {\n",
       "        vertical-align: middle;\n",
       "    }\n",
       "\n",
       "    .dataframe tbody tr th {\n",
       "        vertical-align: top;\n",
       "    }\n",
       "\n",
       "    .dataframe thead th {\n",
       "        text-align: right;\n",
       "    }\n",
       "</style>\n",
       "<table border=\"1\" class=\"dataframe\">\n",
       "  <thead>\n",
       "    <tr style=\"text-align: right;\">\n",
       "      <th></th>\n",
       "      <th>goal</th>\n",
       "    </tr>\n",
       "  </thead>\n",
       "  <tbody>\n",
       "    <tr>\n",
       "      <th>1711</th>\n",
       "      <td>0.000092</td>\n",
       "    </tr>\n",
       "    <tr>\n",
       "      <th>2429</th>\n",
       "      <td>0.000007</td>\n",
       "    </tr>\n",
       "    <tr>\n",
       "      <th>1827</th>\n",
       "      <td>0.000050</td>\n",
       "    </tr>\n",
       "  </tbody>\n",
       "</table>\n",
       "</div>"
      ],
      "text/plain": [
       "          goal\n",
       "1711  0.000092\n",
       "2429  0.000007\n",
       "1827  0.000050"
      ]
     },
     "execution_count": 55,
     "metadata": {},
     "output_type": "execute_result"
    }
   ],
   "source": [
    "# Import sklearn.preprocessing.StandardScaler\n",
    "from sklearn.preprocessing import MinMaxScaler\n",
    "\n",
    "# Initialize a scaler, then apply it to the features\n",
    "scaler = MinMaxScaler()\n",
    "numerical = ['goal']\n",
    "X_train[numerical] = scaler.fit_transform(X_train[numerical])\n",
    "X_test[numerical] = scaler.transform(X_test[numerical])\n",
    "\n",
    "# Show an example of a record with scaling applied\n",
    "X_train[numerical].sample(3)"
   ]
  },
  {
   "cell_type": "markdown",
   "id": "6abb8402",
   "metadata": {},
   "source": [
    "# Creating a Training and Predicting Pipeline"
   ]
  },
  {
   "cell_type": "code",
   "execution_count": 57,
   "id": "2887de61",
   "metadata": {},
   "outputs": [],
   "source": [
    "# TODO: Import two metrics from sklearn - fbeta_score and accuracy_score\n",
    "from sklearn.metrics import fbeta_score, accuracy_score\n",
    "\n",
    "# Define a train and evaluation function \n",
    "def train_predict(learner, sample_size, X_train, y_train, X_test, y_test): \n",
    "    '''\n",
    "    inputs:\n",
    "       - learner: the learning algorithm to be trained and predicted on\n",
    "       - sample_size: the size of samples (number) to be drawn from training set\n",
    "       - X_train: features training set\n",
    "       - y_train: income training set\n",
    "       - X_test: features testing set\n",
    "       - y_test: income testing set\n",
    "    '''\n",
    "    \n",
    "    results = {}\n",
    "    \n",
    "    # TODO: Fit the learner to the training data using slicing with 'sample_size'\n",
    "    start = time() # Get start time\n",
    "    learner = learner.fit(X_train[:sample_size], y_train[:sample_size])\n",
    "    end = time() # Get end time\n",
    "    \n",
    "    # TODO: Calculate the training time\n",
    "    results['train_time'] = end - start\n",
    "        \n",
    "    # TODO: Get the predictions on the test set,\n",
    "    #       then get predictions on the first 300 training samples\n",
    "    start = time() # Get start time\n",
    "    predictions_test = learner.predict(X_test)\n",
    "    predictions_train = learner.predict(X_train[:300])\n",
    "    end = time() # Get end time\n",
    "    \n",
    "    # TODO: Calculate the total prediction time\n",
    "    results['pred_time'] = end - start\n",
    "            \n",
    "    # TODO: Compute accuracy on the first 300 training samples\n",
    "    results['acc_train'] = accuracy_score(y_train[:300], predictions_train)\n",
    "        \n",
    "    # TODO: Compute accuracy on test set\n",
    "    results['acc_test'] = accuracy_score(y_test,predictions_test)\n",
    "    \n",
    "    # TODO: Compute F-score on the the first 300 training samples\n",
    "    results['f_train'] = fbeta_score(y_train[:300], predictions_train, beta=0.5)\n",
    "        \n",
    "    # TODO: Compute F-score on the test set\n",
    "    results['f_test'] = fbeta_score(y_test, predictions_test, beta=0.5)\n",
    "       \n",
    "    # Success\n",
    "    print (\"{} trained on {} samples.\".format(learner.__class__.__name__, sample_size))\n",
    "        \n",
    "    # Return the results\n",
    "    return results"
   ]
  },
  {
   "cell_type": "markdown",
   "id": "de9854e7",
   "metadata": {},
   "source": [
    "## Model Evaluation"
   ]
  },
  {
   "cell_type": "code",
   "execution_count": 58,
   "id": "9a0a56f9",
   "metadata": {},
   "outputs": [
    {
     "name": "stdout",
     "output_type": "stream",
     "text": [
      "DecisionTreeClassifier trained on 14 samples.\n",
      "DecisionTreeClassifier trained on 14 samples.\n",
      "DecisionTreeClassifier trained on 14 samples.\n",
      "SVC trained on 14 samples.\n",
      "SVC trained on 14 samples.\n",
      "SVC trained on 14 samples.\n",
      "AdaBoostClassifier trained on 14 samples.\n",
      "AdaBoostClassifier trained on 14 samples.\n",
      "AdaBoostClassifier trained on 14 samples.\n"
     ]
    }
   ],
   "source": [
    "from time import time\n",
    "# TODO: Import the three supervised learning models from sklearn\n",
    "from sklearn.tree import DecisionTreeClassifier\n",
    "from sklearn.svm import SVC\n",
    "from sklearn.ensemble import AdaBoostClassifier\n",
    "#-------- Org. Setup -----#\n",
    "# TODO: Initialize the three models, the random states are set to 101 so we know how to reproduce the model later\n",
    "#clf_A = DecisionTreeClassifier(random_state=101)\n",
    "#clf_B = SVC(random_state=101)\n",
    "#clf_C = AdaBoostClassifier(random_state=101)\n",
    "\n",
    "# TODO: Calculate the number of samples for 1%, 10%, and 100% of the training data\n",
    "#samples_1 = int(round(len(X_train) / 100))\n",
    "#samples_10 = int(round(len(X_train) / 10))\n",
    "#samples_100 = len(X_train)\n",
    "#-------\n",
    "\n",
    "\n",
    "# TODO: Initialize the three models, the random states are set to 101 so we know how to reproduce the model later\n",
    "clf_A = DecisionTreeClassifier(random_state=101)\n",
    "clf_B = SVC(random_state=101)\n",
    "clf_C = AdaBoostClassifier(random_state=101)\n",
    "\n",
    "\n",
    "\n",
    "\n",
    "\n",
    "samples_1 = int(round(len(X_train) / 10000))\n",
    "samples_10 = int(round(len(X_train) / 5000))\n",
    "samples_100 = int(round(len(X_train) / 2500))\n",
    "\n",
    "\n",
    "# Collect results on the learners\n",
    "results = {}\n",
    "for clf in [clf_A, clf_B, clf_C]:\n",
    "    clf_name = clf.__class__.__name__\n",
    "    results[clf_name] = {}\n",
    "    for i, samples in enumerate([samples_1, samples_10, samples_100]):\n",
    "        results[clf_name][i] = \\\n",
    "        train_predict(clf, samples, X_train, y_train, X_test, y_test)"
   ]
  },
  {
   "cell_type": "markdown",
   "id": "65b2da1f",
   "metadata": {},
   "source": [
    "## Stats and Visualizations"
   ]
  },
  {
   "cell_type": "code",
   "execution_count": 60,
   "id": "94e979c2",
   "metadata": {},
   "outputs": [
    {
     "ename": "NameError",
     "evalue": "name 'accuracy' is not defined",
     "output_type": "error",
     "traceback": [
      "\u001b[0;31m---------------------------------------------------------------------------\u001b[0m",
      "\u001b[0;31mNameError\u001b[0m                                 Traceback (most recent call last)",
      "\u001b[0;32m<ipython-input-60-a1ba4f6fdb92>\u001b[0m in \u001b[0;36m<module>\u001b[0;34m\u001b[0m\n\u001b[1;32m      2\u001b[0m \u001b[0;32mimport\u001b[0m \u001b[0mvisuals_script\u001b[0m \u001b[0;32mas\u001b[0m \u001b[0mvs\u001b[0m\u001b[0;34m\u001b[0m\u001b[0;34m\u001b[0m\u001b[0m\n\u001b[1;32m      3\u001b[0m \u001b[0;31m# Run metrics visualization for the three supervised learning models chosen\u001b[0m\u001b[0;34m\u001b[0m\u001b[0;34m\u001b[0m\u001b[0;34m\u001b[0m\u001b[0m\n\u001b[0;32m----> 4\u001b[0;31m \u001b[0mvs\u001b[0m\u001b[0;34m.\u001b[0m\u001b[0mevaluate\u001b[0m\u001b[0;34m(\u001b[0m\u001b[0mresults\u001b[0m\u001b[0;34m,\u001b[0m \u001b[0maccuracy\u001b[0m\u001b[0;34m,\u001b[0m \u001b[0mfscore\u001b[0m\u001b[0;34m)\u001b[0m\u001b[0;34m\u001b[0m\u001b[0;34m\u001b[0m\u001b[0m\n\u001b[0m",
      "\u001b[0;31mNameError\u001b[0m: name 'accuracy' is not defined"
     ]
    }
   ],
   "source": [
    "# Import functions from own Python-File (see visuals_script.py in Repo)\n",
    "import visuals_script as vs\n",
    "# Run metrics visualization for the three supervised learning models chosen\n",
    "vs.evaluate(results, accuracy, fscore)"
   ]
  },
  {
   "cell_type": "code",
   "execution_count": 61,
   "id": "5c42d49a",
   "metadata": {},
   "outputs": [
    {
     "name": "stdout",
     "output_type": "stream",
     "text": [
      "DecisionTreeClassifier\n"
     ]
    },
    {
     "data": {
      "text/html": [
       "<div>\n",
       "<style scoped>\n",
       "    .dataframe tbody tr th:only-of-type {\n",
       "        vertical-align: middle;\n",
       "    }\n",
       "\n",
       "    .dataframe tbody tr th {\n",
       "        vertical-align: top;\n",
       "    }\n",
       "\n",
       "    .dataframe thead th {\n",
       "        text-align: right;\n",
       "    }\n",
       "</style>\n",
       "<table border=\"1\" class=\"dataframe\">\n",
       "  <thead>\n",
       "    <tr style=\"text-align: right;\">\n",
       "      <th></th>\n",
       "      <th>1%</th>\n",
       "      <th>10%</th>\n",
       "      <th>100%</th>\n",
       "    </tr>\n",
       "  </thead>\n",
       "  <tbody>\n",
       "    <tr>\n",
       "      <th>train_time</th>\n",
       "      <td>0.280683</td>\n",
       "      <td>0.155423</td>\n",
       "      <td>0.176187</td>\n",
       "    </tr>\n",
       "    <tr>\n",
       "      <th>pred_time</th>\n",
       "      <td>15.356366</td>\n",
       "      <td>13.773053</td>\n",
       "      <td>13.739727</td>\n",
       "    </tr>\n",
       "    <tr>\n",
       "      <th>acc_train</th>\n",
       "      <td>0.713333</td>\n",
       "      <td>0.713333</td>\n",
       "      <td>0.713333</td>\n",
       "    </tr>\n",
       "    <tr>\n",
       "      <th>acc_test</th>\n",
       "      <td>0.655507</td>\n",
       "      <td>0.655507</td>\n",
       "      <td>0.655507</td>\n",
       "    </tr>\n",
       "    <tr>\n",
       "      <th>f_train</th>\n",
       "      <td>0.747198</td>\n",
       "      <td>0.747198</td>\n",
       "      <td>0.747198</td>\n",
       "    </tr>\n",
       "    <tr>\n",
       "      <th>f_test</th>\n",
       "      <td>0.697820</td>\n",
       "      <td>0.697820</td>\n",
       "      <td>0.697820</td>\n",
       "    </tr>\n",
       "  </tbody>\n",
       "</table>\n",
       "</div>"
      ],
      "text/plain": [
       "                   1%        10%       100%\n",
       "train_time   0.280683   0.155423   0.176187\n",
       "pred_time   15.356366  13.773053  13.739727\n",
       "acc_train    0.713333   0.713333   0.713333\n",
       "acc_test     0.655507   0.655507   0.655507\n",
       "f_train      0.747198   0.747198   0.747198\n",
       "f_test       0.697820   0.697820   0.697820"
      ]
     },
     "metadata": {},
     "output_type": "display_data"
    },
    {
     "name": "stdout",
     "output_type": "stream",
     "text": [
      "SVC\n"
     ]
    },
    {
     "data": {
      "text/html": [
       "<div>\n",
       "<style scoped>\n",
       "    .dataframe tbody tr th:only-of-type {\n",
       "        vertical-align: middle;\n",
       "    }\n",
       "\n",
       "    .dataframe tbody tr th {\n",
       "        vertical-align: top;\n",
       "    }\n",
       "\n",
       "    .dataframe thead th {\n",
       "        text-align: right;\n",
       "    }\n",
       "</style>\n",
       "<table border=\"1\" class=\"dataframe\">\n",
       "  <thead>\n",
       "    <tr style=\"text-align: right;\">\n",
       "      <th></th>\n",
       "      <th>1%</th>\n",
       "      <th>10%</th>\n",
       "      <th>100%</th>\n",
       "    </tr>\n",
       "  </thead>\n",
       "  <tbody>\n",
       "    <tr>\n",
       "      <th>train_time</th>\n",
       "      <td>0.218095</td>\n",
       "      <td>0.176049</td>\n",
       "      <td>0.168406</td>\n",
       "    </tr>\n",
       "    <tr>\n",
       "      <th>pred_time</th>\n",
       "      <td>62.779582</td>\n",
       "      <td>61.648006</td>\n",
       "      <td>61.254126</td>\n",
       "    </tr>\n",
       "    <tr>\n",
       "      <th>acc_train</th>\n",
       "      <td>0.443333</td>\n",
       "      <td>0.443333</td>\n",
       "      <td>0.443333</td>\n",
       "    </tr>\n",
       "    <tr>\n",
       "      <th>acc_test</th>\n",
       "      <td>0.438052</td>\n",
       "      <td>0.438052</td>\n",
       "      <td>0.438052</td>\n",
       "    </tr>\n",
       "    <tr>\n",
       "      <th>f_train</th>\n",
       "      <td>0.000000</td>\n",
       "      <td>0.000000</td>\n",
       "      <td>0.000000</td>\n",
       "    </tr>\n",
       "    <tr>\n",
       "      <th>f_test</th>\n",
       "      <td>0.000000</td>\n",
       "      <td>0.000000</td>\n",
       "      <td>0.000000</td>\n",
       "    </tr>\n",
       "  </tbody>\n",
       "</table>\n",
       "</div>"
      ],
      "text/plain": [
       "                   1%        10%       100%\n",
       "train_time   0.218095   0.176049   0.168406\n",
       "pred_time   62.779582  61.648006  61.254126\n",
       "acc_train    0.443333   0.443333   0.443333\n",
       "acc_test     0.438052   0.438052   0.438052\n",
       "f_train      0.000000   0.000000   0.000000\n",
       "f_test       0.000000   0.000000   0.000000"
      ]
     },
     "metadata": {},
     "output_type": "display_data"
    },
    {
     "name": "stdout",
     "output_type": "stream",
     "text": [
      "AdaBoostClassifier\n"
     ]
    },
    {
     "data": {
      "text/html": [
       "<div>\n",
       "<style scoped>\n",
       "    .dataframe tbody tr th:only-of-type {\n",
       "        vertical-align: middle;\n",
       "    }\n",
       "\n",
       "    .dataframe tbody tr th {\n",
       "        vertical-align: top;\n",
       "    }\n",
       "\n",
       "    .dataframe thead th {\n",
       "        text-align: right;\n",
       "    }\n",
       "</style>\n",
       "<table border=\"1\" class=\"dataframe\">\n",
       "  <thead>\n",
       "    <tr style=\"text-align: right;\">\n",
       "      <th></th>\n",
       "      <th>1%</th>\n",
       "      <th>10%</th>\n",
       "      <th>100%</th>\n",
       "    </tr>\n",
       "  </thead>\n",
       "  <tbody>\n",
       "    <tr>\n",
       "      <th>train_time</th>\n",
       "      <td>0.612042</td>\n",
       "      <td>0.640214</td>\n",
       "      <td>0.402226</td>\n",
       "    </tr>\n",
       "    <tr>\n",
       "      <th>pred_time</th>\n",
       "      <td>513.179559</td>\n",
       "      <td>870.846713</td>\n",
       "      <td>821.463609</td>\n",
       "    </tr>\n",
       "    <tr>\n",
       "      <th>acc_train</th>\n",
       "      <td>0.723333</td>\n",
       "      <td>0.723333</td>\n",
       "      <td>0.723333</td>\n",
       "    </tr>\n",
       "    <tr>\n",
       "      <th>acc_test</th>\n",
       "      <td>0.662736</td>\n",
       "      <td>0.662736</td>\n",
       "      <td>0.662736</td>\n",
       "    </tr>\n",
       "    <tr>\n",
       "      <th>f_train</th>\n",
       "      <td>0.759898</td>\n",
       "      <td>0.759898</td>\n",
       "      <td>0.759898</td>\n",
       "    </tr>\n",
       "    <tr>\n",
       "      <th>f_test</th>\n",
       "      <td>0.706847</td>\n",
       "      <td>0.706847</td>\n",
       "      <td>0.706847</td>\n",
       "    </tr>\n",
       "  </tbody>\n",
       "</table>\n",
       "</div>"
      ],
      "text/plain": [
       "                    1%         10%        100%\n",
       "train_time    0.612042    0.640214    0.402226\n",
       "pred_time   513.179559  870.846713  821.463609\n",
       "acc_train     0.723333    0.723333    0.723333\n",
       "acc_test      0.662736    0.662736    0.662736\n",
       "f_train       0.759898    0.759898    0.759898\n",
       "f_test        0.706847    0.706847    0.706847"
      ]
     },
     "metadata": {},
     "output_type": "display_data"
    }
   ],
   "source": [
    "\n",
    "## => https://github.com/neuefische/ds-ensemble-methods/blob/main/4_SOLUTON_Comparison_Classification_Algorithms.ipynb\n",
    "#Printing out the values\n",
    "for i in results.items():\n",
    "    print (i[0])\n",
    "    display(pd.DataFrame(i[1]).rename(columns={0:'1%', 1:'10%', 2:'100%'}))"
   ]
  },
  {
   "cell_type": "markdown",
   "id": "9c164346",
   "metadata": {},
   "source": [
    "### Lazy Predict"
   ]
  },
  {
   "cell_type": "code",
   "execution_count": null,
   "id": "36ecb358",
   "metadata": {},
   "outputs": [],
   "source": [
    "#import lazypredict\n",
    "\n",
    "#from lazypredict.Supervised import LazyClassifier\n",
    "\n",
    "\n",
    "'''Approach to avoid errors in LazyPredict'''\n",
    "#import os\n",
    "#os.environ['KMP_DUPLICATE_LIB_OK']='True'\n",
    "\n",
    "\n",
    "''''':: ERROR Message :: \n",
    "At a progress of 38%, this error message appears.\n",
    "#Kernel Restarting\n",
    "#The kernel for kickstarter_ml_Christian_ensemble.ipynb appears to have died. It will restart automatically.\n",
    "\n",
    "\n",
    "'''\n",
    "\n",
    "#clf = LazyClassifier(verbose=0,ignore_warnings=True, custom_metric=None)\n",
    "#models, predictions = clf.fit(X_train, X_test, y_train, y_test)\n",
    "#models"
   ]
  }
 ],
 "metadata": {
  "interpreter": {
   "hash": "b58e2bc1572df468e5d42d3993d3ef1ccd4fafa9e984d7179347929f947a7c38"
  },
  "kernelspec": {
   "display_name": "Python 3",
   "language": "python",
   "name": "python3"
  },
  "language_info": {
   "codemirror_mode": {
    "name": "ipython",
    "version": 3
   },
   "file_extension": ".py",
   "mimetype": "text/x-python",
   "name": "python",
   "nbconvert_exporter": "python",
   "pygments_lexer": "ipython3",
   "version": "3.8.5"
  }
 },
 "nbformat": 4,
 "nbformat_minor": 5
}
